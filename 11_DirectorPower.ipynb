{
 "metadata": {
  "language_info": {
   "codemirror_mode": {
    "name": "ipython",
    "version": 3
   },
   "file_extension": ".py",
   "mimetype": "text/x-python",
   "name": "python",
   "nbconvert_exporter": "python",
   "pygments_lexer": "ipython3",
   "version": "3.7.9"
  },
  "orig_nbformat": 2,
  "kernelspec": {
   "name": "python379jvsc74a57bd06e81d77af03ce5c2f322ee28133a80996b3da90d809d78ecf9dd16de6b5482d3",
   "display_name": "Python 3.7.9 64-bit ('ml': conda)"
  },
  "metadata": {
   "interpreter": {
    "hash": "916dbcbb3f70747c44a77c7bcd40155683ae19c65e1c03b4aa3499c5328201f1"
   }
  }
 },
 "nbformat": 4,
 "nbformat_minor": 2,
 "cells": [
  {
   "cell_type": "code",
   "execution_count": 1,
   "metadata": {},
   "outputs": [],
   "source": [
    "import os\n",
    "import json\n",
    "import plotly.graph_objects as go\n",
    "from plotly.subplots import make_subplots\n",
    "# import cpi\n",
    "import pymongo\n",
    "from tqdm import tqdm\n",
    "from scipy import stats\n",
    "import math\n",
    "import numpy as np\n",
    "import pandas as pd\n",
    "import json"
   ]
  },
  {
   "cell_type": "code",
   "execution_count": 2,
   "metadata": {},
   "outputs": [],
   "source": [
    "myclient = pymongo.MongoClient(\"mongodb://localhost:27017/\")\n",
    "db = myclient[\"imdb\"]\n",
    "imdb = db['imdb_cleaned']"
   ]
  },
  {
   "cell_type": "code",
   "execution_count": 3,
   "metadata": {},
   "outputs": [
    {
     "output_type": "execute_result",
     "data": {
      "text/plain": [
       "8181"
      ]
     },
     "metadata": {},
     "execution_count": 3
    }
   ],
   "source": [
    "num_movies = imdb.count_documents({})\n",
    "num_movies"
   ]
  },
  {
   "cell_type": "code",
   "execution_count": 4,
   "metadata": {},
   "outputs": [],
   "source": [
    "def getMovie(imdb_id):\n",
    "    for x in imdb.find({'imdb_id': imdb_id}):\n",
    "        return x\n",
    "    return None"
   ]
  },
  {
   "cell_type": "code",
   "execution_count": 5,
   "metadata": {},
   "outputs": [],
   "source": [
    "dir_features = {}\n",
    "with open('SavedFeatures/director_features.json', 'r') as f:\n",
    "    dir_features = json.load(f)"
   ]
  },
  {
   "cell_type": "code",
   "execution_count": 6,
   "metadata": {},
   "outputs": [
    {
     "output_type": "execute_result",
     "data": {
      "text/plain": [
       "4078"
      ]
     },
     "metadata": {},
     "execution_count": 6
    }
   ],
   "source": [
    "len(dir_features.keys())"
   ]
  },
  {
   "cell_type": "code",
   "execution_count": 7,
   "metadata": {},
   "outputs": [],
   "source": [
    "# nolan = dir_features['nm0634240']\n",
    "nolan = dir_features['nm0000229']"
   ]
  },
  {
   "cell_type": "code",
   "execution_count": 8,
   "metadata": {},
   "outputs": [
    {
     "output_type": "execute_result",
     "data": {
      "text/plain": [
       "{'@type': 'Person',\n",
       " 'url': '/name/nm0000229/',\n",
       " 'name': 'Steven Spielberg',\n",
       " 'year-wise-performance': {'1967': {'num_movies': 0,\n",
       "   'sum_rating': 0,\n",
       "   'sum_revenue': 0,\n",
       "   'sum_budget': 0,\n",
       "   'num_raters': 0},\n",
       "  '1968': {'num_movies': 0,\n",
       "   'sum_rating': 0,\n",
       "   'sum_revenue': 0,\n",
       "   'sum_budget': 0,\n",
       "   'num_raters': 0},\n",
       "  '1969': {'num_movies': 0,\n",
       "   'sum_rating': 0,\n",
       "   'sum_revenue': 0,\n",
       "   'sum_budget': 0,\n",
       "   'num_raters': 0},\n",
       "  '1970': {'num_movies': 0,\n",
       "   'sum_rating': 0,\n",
       "   'sum_revenue': 0,\n",
       "   'sum_budget': 0,\n",
       "   'num_raters': 0},\n",
       "  '1971': {'num_movies': 1,\n",
       "   'sum_rating': 7.6,\n",
       "   'sum_revenue': 16257,\n",
       "   'sum_budget': 2875677,\n",
       "   'num_raters': 64059},\n",
       "  '1972': {'num_movies': 0,\n",
       "   'sum_rating': 0,\n",
       "   'sum_revenue': 0,\n",
       "   'sum_budget': 0,\n",
       "   'num_raters': 0},\n",
       "  '1973': {'num_movies': 0,\n",
       "   'sum_rating': 0,\n",
       "   'sum_revenue': 0,\n",
       "   'sum_budget': 0,\n",
       "   'num_raters': 0},\n",
       "  '1974': {'num_movies': 1,\n",
       "   'sum_rating': 6.8,\n",
       "   'sum_revenue': 39398284,\n",
       "   'sum_budget': 15749148,\n",
       "   'num_raters': 15758},\n",
       "  '1975': {'num_movies': 1,\n",
       "   'sum_rating': 8.0,\n",
       "   'sum_revenue': 2267777508,\n",
       "   'sum_budget': 33674293,\n",
       "   'num_raters': 548879},\n",
       "  '1976': {'num_movies': 0,\n",
       "   'sum_rating': 0,\n",
       "   'sum_revenue': 0,\n",
       "   'sum_budget': 0,\n",
       "   'num_raters': 0},\n",
       "  '1977': {'num_movies': 1,\n",
       "   'sum_rating': 7.6,\n",
       "   'sum_revenue': 1310664661,\n",
       "   'sum_budget': 85416171,\n",
       "   'num_raters': 187506},\n",
       "  '1978': {'num_movies': 0,\n",
       "   'sum_rating': 0,\n",
       "   'sum_revenue': 0,\n",
       "   'sum_budget': 0,\n",
       "   'num_raters': 0},\n",
       "  '1979': {'num_movies': 1,\n",
       "   'sum_rating': 5.9,\n",
       "   'sum_revenue': 329594532,\n",
       "   'sum_budget': 124771143,\n",
       "   'num_raters': 31697},\n",
       "  '1980': {'num_movies': 0,\n",
       "   'sum_rating': 0,\n",
       "   'sum_revenue': 0,\n",
       "   'sum_budget': 0,\n",
       "   'num_raters': 0},\n",
       "  '1981': {'num_movies': 1,\n",
       "   'sum_rating': 8.4,\n",
       "   'sum_revenue': 1110199455,\n",
       "   'sum_budget': 51249702,\n",
       "   'num_raters': 895482},\n",
       "  '1982': {'num_movies': 1,\n",
       "   'sum_rating': 7.8,\n",
       "   'sum_revenue': 2126569672,\n",
       "   'sum_budget': 28160782,\n",
       "   'num_raters': 377643},\n",
       "  '1983': {'num_movies': 1,\n",
       "   'sum_rating': 6.5,\n",
       "   'sum_revenue': 76528331,\n",
       "   'sum_budget': 25985040,\n",
       "   'num_raters': 33611},\n",
       "  '1984': {'num_movies': 1,\n",
       "   'sum_rating': 7.5,\n",
       "   'sum_revenue': 829757708,\n",
       "   'sum_budget': 69746948,\n",
       "   'num_raters': 454877},\n",
       "  '1985': {'num_movies': 0,\n",
       "   'sum_rating': 0,\n",
       "   'sum_revenue': 0,\n",
       "   'sum_budget': 0,\n",
       "   'num_raters': 0},\n",
       "  '1986': {'num_movies': 1,\n",
       "   'sum_rating': 7.8,\n",
       "   'sum_revenue': 232523413,\n",
       "   'sum_budget': 35421213,\n",
       "   'num_raters': 79827},\n",
       "  '1987': {'num_movies': 1,\n",
       "   'sum_rating': 7.7,\n",
       "   'sum_revenue': 50665661,\n",
       "   'sum_budget': 79739304,\n",
       "   'num_raters': 117495},\n",
       "  '1988': {'num_movies': 0,\n",
       "   'sum_rating': 0,\n",
       "   'sum_revenue': 0,\n",
       "   'sum_budget': 0,\n",
       "   'num_raters': 0},\n",
       "  '1989': {'num_movies': 2,\n",
       "   'sum_rating': 14.6,\n",
       "   'sum_revenue': 1144417567,\n",
       "   'sum_budget': 164887652,\n",
       "   'num_raters': 729107},\n",
       "  '1990': {'num_movies': 0,\n",
       "   'sum_rating': 0,\n",
       "   'sum_revenue': 0,\n",
       "   'sum_budget': 0,\n",
       "   'num_raters': 0},\n",
       "  '1991': {'num_movies': 1,\n",
       "   'sum_rating': 6.8,\n",
       "   'sum_revenue': 571692640,\n",
       "   'sum_budget': 133015932,\n",
       "   'num_raters': 238156},\n",
       "  '1992': {'num_movies': 0,\n",
       "   'sum_rating': 0,\n",
       "   'sum_revenue': 0,\n",
       "   'sum_budget': 0,\n",
       "   'num_raters': 0},\n",
       "  '1993': {'num_movies': 1,\n",
       "   'sum_rating': 8.1,\n",
       "   'sum_revenue': 1851847875,\n",
       "   'sum_budget': 112838013,\n",
       "   'num_raters': 882253},\n",
       "  '1994': {'num_movies': 1,\n",
       "   'sum_rating': 8.9,\n",
       "   'sum_revenue': 562610485,\n",
       "   'sum_budget': 38419986,\n",
       "   'num_raters': 1233181},\n",
       "  '1995': {'num_movies': 0,\n",
       "   'sum_rating': 0,\n",
       "   'sum_revenue': 0,\n",
       "   'sum_budget': 0,\n",
       "   'num_raters': 0},\n",
       "  '1996': {'num_movies': 0,\n",
       "   'sum_rating': 0,\n",
       "   'sum_revenue': 0,\n",
       "   'sum_budget': 0,\n",
       "   'num_raters': 0},\n",
       "  '1997': {'num_movies': 2,\n",
       "   'sum_rating': 13.899999999999999,\n",
       "   'sum_revenue': 1068894976,\n",
       "   'sum_budget': 175765725,\n",
       "   'num_raters': 456518},\n",
       "  '1998': {'num_movies': 1,\n",
       "   'sum_rating': 8.6,\n",
       "   'sum_revenue': 765873515,\n",
       "   'sum_budget': 111145828,\n",
       "   'num_raters': 1258934},\n",
       "  '1999': {'num_movies': 0,\n",
       "   'sum_rating': 0,\n",
       "   'sum_revenue': 0,\n",
       "   'sum_budget': 0,\n",
       "   'num_raters': 0},\n",
       "  '2000': {'num_movies': 0,\n",
       "   'sum_rating': 0,\n",
       "   'sum_revenue': 0,\n",
       "   'sum_budget': 0,\n",
       "   'num_raters': 0},\n",
       "  '2001': {'num_movies': 1,\n",
       "   'sum_rating': 7.2,\n",
       "   'sum_revenue': 344779146,\n",
       "   'sum_budget': 146138339,\n",
       "   'num_raters': 293038},\n",
       "  '2002': {'num_movies': 2,\n",
       "   'sum_rating': 15.7,\n",
       "   'sum_revenue': 1022134032,\n",
       "   'sum_budget': 221550271,\n",
       "   'num_raters': 1367354},\n",
       "  '2003': {'num_movies': 0,\n",
       "   'sum_rating': 0,\n",
       "   'sum_revenue': 0,\n",
       "   'sum_budget': 0,\n",
       "   'num_raters': 0},\n",
       "  '2004': {'num_movies': 1,\n",
       "   'sum_rating': 7.4,\n",
       "   'sum_revenue': 300187992,\n",
       "   'sum_budget': 82205717,\n",
       "   'num_raters': 414244},\n",
       "  '2005': {'num_movies': 1,\n",
       "   'sum_rating': 6.5,\n",
       "   'sum_revenue': 800250925,\n",
       "   'sum_budget': 174926021,\n",
       "   'num_raters': 420490},\n",
       "  '2006': {'num_movies': 1,\n",
       "   'sum_rating': 7.5,\n",
       "   'sum_revenue': 168152856,\n",
       "   'sum_budget': 89864930,\n",
       "   'num_raters': 214539},\n",
       "  '2007': {'num_movies': 0,\n",
       "   'sum_rating': 0,\n",
       "   'sum_revenue': 0,\n",
       "   'sum_budget': 0,\n",
       "   'num_raters': 0},\n",
       "  '2008': {'num_movies': 1,\n",
       "   'sum_rating': 6.1,\n",
       "   'sum_revenue': 950427710,\n",
       "   'sum_budget': 222384430,\n",
       "   'num_raters': 429671},\n",
       "  '2009': {'num_movies': 0,\n",
       "   'sum_rating': 0,\n",
       "   'sum_revenue': 0,\n",
       "   'sum_budget': 0,\n",
       "   'num_raters': 0},\n",
       "  '2010': {'num_movies': 0,\n",
       "   'sum_rating': 0,\n",
       "   'sum_revenue': 0,\n",
       "   'sum_budget': 0,\n",
       "   'num_raters': 0},\n",
       "  '2011': {'num_movies': 2,\n",
       "   'sum_rating': 14.5,\n",
       "   'sum_revenue': 634637250,\n",
       "   'sum_budget': 231267192,\n",
       "   'num_raters': 367808},\n",
       "  '2012': {'num_movies': 1,\n",
       "   'sum_rating': 7.3,\n",
       "   'sum_revenue': 310325936,\n",
       "   'sum_budget': 73271579,\n",
       "   'num_raters': 247765},\n",
       "  '2013': {'num_movies': 0,\n",
       "   'sum_rating': 0,\n",
       "   'sum_revenue': 0,\n",
       "   'sum_budget': 0,\n",
       "   'num_raters': 0},\n",
       "  '2014': {'num_movies': 0,\n",
       "   'sum_rating': 0,\n",
       "   'sum_revenue': 0,\n",
       "   'sum_budget': 0,\n",
       "   'num_raters': 0},\n",
       "  '2015': {'num_movies': 1,\n",
       "   'sum_rating': 7.6,\n",
       "   'sum_revenue': 180694282,\n",
       "   'sum_budget': 43678048,\n",
       "   'num_raters': 292178},\n",
       "  '2016': {'num_movies': 1,\n",
       "   'sum_rating': 6.4,\n",
       "   'sum_revenue': 210540286,\n",
       "   'sum_budget': 150968680,\n",
       "   'num_raters': 79055},\n",
       "  '2017': {'num_movies': 0,\n",
       "   'sum_rating': 0,\n",
       "   'sum_revenue': 0,\n",
       "   'sum_budget': 0,\n",
       "   'num_raters': 0},\n",
       "  '2018': {'num_movies': 2,\n",
       "   'sum_rating': 14.600000000000001,\n",
       "   'sum_revenue': 786070496,\n",
       "   'sum_budget': 231903032,\n",
       "   'num_raters': 518719},\n",
       "  '2019': {'num_movies': 0,\n",
       "   'sum_rating': 0,\n",
       "   'sum_revenue': 0,\n",
       "   'sum_budget': 0,\n",
       "   'num_raters': 0},\n",
       "  '2020': {'num_movies': 0,\n",
       "   'sum_rating': 0,\n",
       "   'sum_revenue': 0,\n",
       "   'sum_budget': 0,\n",
       "   'num_raters': 0}},\n",
       " 'movie_arr': ['tt1677720',\n",
       "  'tt0107290',\n",
       "  'tt0108052',\n",
       "  'tt0082971',\n",
       "  'tt0120815',\n",
       "  'tt0102057',\n",
       "  'tt0264464',\n",
       "  'tt0443272',\n",
       "  'tt0097576',\n",
       "  'tt0362227',\n",
       "  'tt0087469',\n",
       "  'tt0073195',\n",
       "  'tt0083866',\n",
       "  'tt0181689',\n",
       "  'tt3682448',\n",
       "  'tt0092965',\n",
       "  'tt0407304',\n",
       "  'tt0119567',\n",
       "  'tt0212720',\n",
       "  'tt0367882',\n",
       "  'tt0088939',\n",
       "  'tt6294822',\n",
       "  'tt0075860',\n",
       "  'tt0408306',\n",
       "  'tt0086491',\n",
       "  'tt1568911',\n",
       "  'tt0983193',\n",
       "  'tt0067023',\n",
       "  'tt3691740',\n",
       "  'tt0118607',\n",
       "  'tt0078723',\n",
       "  'tt0096794',\n",
       "  'tt0072226'],\n",
       " 'total_movies': 33,\n",
       " 'total_rating': 243.29999999999995,\n",
       " 'total_raters': 12249844,\n",
       " 'total_revenue': 20047233451,\n",
       " 'total_budget': 2957020796}"
      ]
     },
     "metadata": {},
     "execution_count": 8
    }
   ],
   "source": [
    "nolan"
   ]
  },
  {
   "cell_type": "code",
   "execution_count": 9,
   "metadata": {},
   "outputs": [
    {
     "output_type": "execute_result",
     "data": {
      "text/plain": [
       "1971"
      ]
     },
     "metadata": {},
     "execution_count": 9
    }
   ],
   "source": [
    "rolling_year = 5\n",
    "present = 2020\n",
    "first_movie_year = 1967\n",
    "\n",
    "for year in nolan['year-wise-performance']:\n",
    "    if(nolan['year-wise-performance'][year]['num_movies'] != 0):\n",
    "        first_movie_year = int(year)\n",
    "        break\n",
    "first_movie_year"
   ]
  },
  {
   "cell_type": "code",
   "execution_count": 10,
   "metadata": {},
   "outputs": [],
   "source": [
    "def getValues(st_year, nd_year, entity):\n",
    "    info = {}\n",
    "    info['total_revenue'] = 0\n",
    "    info['total_budget'] = 0\n",
    "    info['num_movies'] = 0\n",
    "    info['num_raters'] = 0\n",
    "    info['max_revenue'] = 0\n",
    "    for year in range(st_year, nd_year+1):\n",
    "        year = str(year)\n",
    "        info['total_revenue']   += entity['year-wise-performance'][year]['sum_revenue']\n",
    "        info['total_budget']    += entity['year-wise-performance'][year]['sum_budget']\n",
    "        info['num_movies']      += entity['year-wise-performance'][year]['num_movies']\n",
    "        info['num_raters']      += entity['year-wise-performance'][year]['num_raters']\n",
    "        info['max_revenue']     = max(info['max_revenue'], entity['year-wise-performance'][year]['sum_revenue'])\n",
    "    return info"
   ]
  },
  {
   "cell_type": "code",
   "execution_count": 11,
   "metadata": {},
   "outputs": [
    {
     "output_type": "execute_result",
     "data": {
      "text/plain": [
       "{'total_revenue': 20047233451,\n",
       " 'total_budget': 2957020796,\n",
       " 'num_movies': 33,\n",
       " 'num_raters': 12249844,\n",
       " 'max_revenue': 2267777508}"
      ]
     },
     "metadata": {},
     "execution_count": 11
    }
   ],
   "source": [
    "getValues(first_movie_year, present, nolan)"
   ]
  },
  {
   "cell_type": "code",
   "execution_count": 12,
   "metadata": {},
   "outputs": [],
   "source": [
    "year_label = []\n",
    "revenue_arr = []\n",
    "budget_arr = []\n",
    "num_movie_arr = []\n",
    "\n",
    "for year in range(first_movie_year+rolling_year-1, present):\n",
    "    st_year = year - rolling_year + 1\n",
    "    nd_year = year\n",
    "    info = getValues(st_year, nd_year, nolan)\n",
    "    year_label.append('{} - {}'.format(st_year, nd_year))\n",
    "\n",
    "    if(info['num_movies'] != 0):\n",
    "        revenue_arr.append(info['total_revenue']/info['num_movies'])\n",
    "        budget_arr.append(info['total_budget']/info['num_movies'])\n",
    "        num_movie_arr.append(info['num_movies'])\n",
    "    else:\n",
    "        revenue_arr.append(0)\n",
    "        budget_arr.append(0)\n",
    "        num_movie_arr.append(0) "
   ]
  },
  {
   "cell_type": "code",
   "execution_count": 13,
   "metadata": {},
   "outputs": [],
   "source": [
    "def plotFigure(xrr, yrr, zrr):\n",
    "    fig = make_subplots()\n",
    "    fig.add_trace(\n",
    "        go.Scatter(\n",
    "            x=xrr, \n",
    "            y=yrr, \n",
    "            name=\"Revenue\",\n",
    "            mode='lines+markers',\n",
    "            line_color='rgba(102, 0, 204, .8)'\n",
    "        ),\n",
    "    )\n",
    "    \n",
    "    fig.add_trace(\n",
    "        go.Scatter(\n",
    "            x=xrr, \n",
    "            y=zrr, \n",
    "            name=\"Budget\",\n",
    "            mode='lines+markers',\n",
    "            line_color='rgba(153, 0, 51, .8)'\n",
    "        ),\n",
    "    )\n",
    "    return fig"
   ]
  },
  {
   "cell_type": "code",
   "execution_count": 14,
   "metadata": {},
   "outputs": [
    {
     "output_type": "display_data",
     "data": {
      "application/vnd.plotly.v1+json": {
       "config": {
        "plotlyServerURL": "https://plot.ly"
       },
       "data": [
        {
         "line": {
          "color": "rgba(102, 0, 204, .8)"
         },
         "mode": "lines+markers",
         "name": "Revenue",
         "type": "scatter",
         "x": [
          "1971 - 1975",
          "1972 - 1976",
          "1973 - 1977",
          "1974 - 1978",
          "1975 - 1979",
          "1976 - 1980",
          "1977 - 1981",
          "1978 - 1982",
          "1979 - 1983",
          "1980 - 1984",
          "1981 - 1985",
          "1982 - 1986",
          "1983 - 1987",
          "1984 - 1988",
          "1985 - 1989",
          "1986 - 1990",
          "1987 - 1991",
          "1988 - 1992",
          "1989 - 1993",
          "1990 - 1994",
          "1991 - 1995",
          "1992 - 1996",
          "1993 - 1997",
          "1994 - 1998",
          "1995 - 1999",
          "1996 - 2000",
          "1997 - 2001",
          "1998 - 2002",
          "1999 - 2003",
          "2000 - 2004",
          "2001 - 2005",
          "2002 - 2006",
          "2003 - 2007",
          "2004 - 2008",
          "2005 - 2009",
          "2006 - 2010",
          "2007 - 2011",
          "2008 - 2012",
          "2009 - 2013",
          "2010 - 2014",
          "2011 - 2015",
          "2012 - 2016",
          "2013 - 2017",
          "2014 - 2018",
          "2015 - 2019"
         ],
         "y": [
          769064016.3333334,
          1153587896,
          1205946817.6666667,
          1205946817.6666667,
          1302678900.3333333,
          820129596.5,
          916819549.3333334,
          1188787886.3333333,
          910722997.5,
          1035763791.5,
          1035763791.5,
          816344781,
          297368778.25,
          370982260.6666667,
          356901660.25,
          356901660.25,
          441693967,
          572036735.6666666,
          891989520.5,
          995383666.6666666,
          995383666.6666666,
          1207229180,
          870838334,
          599344744,
          611589497,
          611589497,
          544886909.25,
          533196673.25,
          455637726,
          416775292.5,
          493470419,
          458145161,
          422863924.3333333,
          554754870.75,
          639610497,
          559290283,
          528354986.6666667,
          473847724,
          314987728.6666667,
          314987728.6666667,
          281414367,
          233853501.33333334,
          195617284,
          294326266,
          294326266
         ]
        },
        {
         "line": {
          "color": "rgba(153, 0, 51, .8)"
         },
         "mode": "lines+markers",
         "name": "Budget",
         "type": "scatter",
         "x": [
          "1971 - 1975",
          "1972 - 1976",
          "1973 - 1977",
          "1974 - 1978",
          "1975 - 1979",
          "1976 - 1980",
          "1977 - 1981",
          "1978 - 1982",
          "1979 - 1983",
          "1980 - 1984",
          "1981 - 1985",
          "1982 - 1986",
          "1983 - 1987",
          "1984 - 1988",
          "1985 - 1989",
          "1986 - 1990",
          "1987 - 1991",
          "1988 - 1992",
          "1989 - 1993",
          "1990 - 1994",
          "1991 - 1995",
          "1992 - 1996",
          "1993 - 1997",
          "1994 - 1998",
          "1995 - 1999",
          "1996 - 2000",
          "1997 - 2001",
          "1998 - 2002",
          "1999 - 2003",
          "2000 - 2004",
          "2001 - 2005",
          "2002 - 2006",
          "2003 - 2007",
          "2004 - 2008",
          "2005 - 2009",
          "2006 - 2010",
          "2007 - 2011",
          "2008 - 2012",
          "2009 - 2013",
          "2010 - 2014",
          "2011 - 2015",
          "2012 - 2016",
          "2013 - 2017",
          "2014 - 2018",
          "2015 - 2019"
         ],
         "y": [
          17433039.333333332,
          24711720.5,
          44946537.333333336,
          44946537.333333336,
          81287202.33333333,
          105093657,
          87145672,
          68060542.33333333,
          57541666.75,
          43785618,
          43785618,
          39828495.75,
          52723126.25,
          61635821.666666664,
          70012042.25,
          70012042.25,
          94410722,
          99301194.66666667,
          102685399.25,
          94757977,
          94757977,
          75628999.5,
          81755931,
          81332884.75,
          95637184.33333333,
          95637184.33333333,
          108262473,
          119708609.5,
          122562870,
          112473581.75,
          124964069.6,
          113709387.8,
          115665556,
          142345274.5,
          162391793.66666666,
          156124680,
          151217207.33333334,
          131730800.25,
          101512923.66666667,
          101512923.66666667,
          87054204.75,
          89306102.33333333,
          97323364,
          106637440,
          106637440
         ]
        }
       ],
       "layout": {
        "template": {
         "data": {
          "bar": [
           {
            "error_x": {
             "color": "#2a3f5f"
            },
            "error_y": {
             "color": "#2a3f5f"
            },
            "marker": {
             "line": {
              "color": "#E5ECF6",
              "width": 0.5
             }
            },
            "type": "bar"
           }
          ],
          "barpolar": [
           {
            "marker": {
             "line": {
              "color": "#E5ECF6",
              "width": 0.5
             }
            },
            "type": "barpolar"
           }
          ],
          "carpet": [
           {
            "aaxis": {
             "endlinecolor": "#2a3f5f",
             "gridcolor": "white",
             "linecolor": "white",
             "minorgridcolor": "white",
             "startlinecolor": "#2a3f5f"
            },
            "baxis": {
             "endlinecolor": "#2a3f5f",
             "gridcolor": "white",
             "linecolor": "white",
             "minorgridcolor": "white",
             "startlinecolor": "#2a3f5f"
            },
            "type": "carpet"
           }
          ],
          "choropleth": [
           {
            "colorbar": {
             "outlinewidth": 0,
             "ticks": ""
            },
            "type": "choropleth"
           }
          ],
          "contour": [
           {
            "colorbar": {
             "outlinewidth": 0,
             "ticks": ""
            },
            "colorscale": [
             [
              0,
              "#0d0887"
             ],
             [
              0.1111111111111111,
              "#46039f"
             ],
             [
              0.2222222222222222,
              "#7201a8"
             ],
             [
              0.3333333333333333,
              "#9c179e"
             ],
             [
              0.4444444444444444,
              "#bd3786"
             ],
             [
              0.5555555555555556,
              "#d8576b"
             ],
             [
              0.6666666666666666,
              "#ed7953"
             ],
             [
              0.7777777777777778,
              "#fb9f3a"
             ],
             [
              0.8888888888888888,
              "#fdca26"
             ],
             [
              1,
              "#f0f921"
             ]
            ],
            "type": "contour"
           }
          ],
          "contourcarpet": [
           {
            "colorbar": {
             "outlinewidth": 0,
             "ticks": ""
            },
            "type": "contourcarpet"
           }
          ],
          "heatmap": [
           {
            "colorbar": {
             "outlinewidth": 0,
             "ticks": ""
            },
            "colorscale": [
             [
              0,
              "#0d0887"
             ],
             [
              0.1111111111111111,
              "#46039f"
             ],
             [
              0.2222222222222222,
              "#7201a8"
             ],
             [
              0.3333333333333333,
              "#9c179e"
             ],
             [
              0.4444444444444444,
              "#bd3786"
             ],
             [
              0.5555555555555556,
              "#d8576b"
             ],
             [
              0.6666666666666666,
              "#ed7953"
             ],
             [
              0.7777777777777778,
              "#fb9f3a"
             ],
             [
              0.8888888888888888,
              "#fdca26"
             ],
             [
              1,
              "#f0f921"
             ]
            ],
            "type": "heatmap"
           }
          ],
          "heatmapgl": [
           {
            "colorbar": {
             "outlinewidth": 0,
             "ticks": ""
            },
            "colorscale": [
             [
              0,
              "#0d0887"
             ],
             [
              0.1111111111111111,
              "#46039f"
             ],
             [
              0.2222222222222222,
              "#7201a8"
             ],
             [
              0.3333333333333333,
              "#9c179e"
             ],
             [
              0.4444444444444444,
              "#bd3786"
             ],
             [
              0.5555555555555556,
              "#d8576b"
             ],
             [
              0.6666666666666666,
              "#ed7953"
             ],
             [
              0.7777777777777778,
              "#fb9f3a"
             ],
             [
              0.8888888888888888,
              "#fdca26"
             ],
             [
              1,
              "#f0f921"
             ]
            ],
            "type": "heatmapgl"
           }
          ],
          "histogram": [
           {
            "marker": {
             "colorbar": {
              "outlinewidth": 0,
              "ticks": ""
             }
            },
            "type": "histogram"
           }
          ],
          "histogram2d": [
           {
            "colorbar": {
             "outlinewidth": 0,
             "ticks": ""
            },
            "colorscale": [
             [
              0,
              "#0d0887"
             ],
             [
              0.1111111111111111,
              "#46039f"
             ],
             [
              0.2222222222222222,
              "#7201a8"
             ],
             [
              0.3333333333333333,
              "#9c179e"
             ],
             [
              0.4444444444444444,
              "#bd3786"
             ],
             [
              0.5555555555555556,
              "#d8576b"
             ],
             [
              0.6666666666666666,
              "#ed7953"
             ],
             [
              0.7777777777777778,
              "#fb9f3a"
             ],
             [
              0.8888888888888888,
              "#fdca26"
             ],
             [
              1,
              "#f0f921"
             ]
            ],
            "type": "histogram2d"
           }
          ],
          "histogram2dcontour": [
           {
            "colorbar": {
             "outlinewidth": 0,
             "ticks": ""
            },
            "colorscale": [
             [
              0,
              "#0d0887"
             ],
             [
              0.1111111111111111,
              "#46039f"
             ],
             [
              0.2222222222222222,
              "#7201a8"
             ],
             [
              0.3333333333333333,
              "#9c179e"
             ],
             [
              0.4444444444444444,
              "#bd3786"
             ],
             [
              0.5555555555555556,
              "#d8576b"
             ],
             [
              0.6666666666666666,
              "#ed7953"
             ],
             [
              0.7777777777777778,
              "#fb9f3a"
             ],
             [
              0.8888888888888888,
              "#fdca26"
             ],
             [
              1,
              "#f0f921"
             ]
            ],
            "type": "histogram2dcontour"
           }
          ],
          "mesh3d": [
           {
            "colorbar": {
             "outlinewidth": 0,
             "ticks": ""
            },
            "type": "mesh3d"
           }
          ],
          "parcoords": [
           {
            "line": {
             "colorbar": {
              "outlinewidth": 0,
              "ticks": ""
             }
            },
            "type": "parcoords"
           }
          ],
          "pie": [
           {
            "automargin": true,
            "type": "pie"
           }
          ],
          "scatter": [
           {
            "marker": {
             "colorbar": {
              "outlinewidth": 0,
              "ticks": ""
             }
            },
            "type": "scatter"
           }
          ],
          "scatter3d": [
           {
            "line": {
             "colorbar": {
              "outlinewidth": 0,
              "ticks": ""
             }
            },
            "marker": {
             "colorbar": {
              "outlinewidth": 0,
              "ticks": ""
             }
            },
            "type": "scatter3d"
           }
          ],
          "scattercarpet": [
           {
            "marker": {
             "colorbar": {
              "outlinewidth": 0,
              "ticks": ""
             }
            },
            "type": "scattercarpet"
           }
          ],
          "scattergeo": [
           {
            "marker": {
             "colorbar": {
              "outlinewidth": 0,
              "ticks": ""
             }
            },
            "type": "scattergeo"
           }
          ],
          "scattergl": [
           {
            "marker": {
             "colorbar": {
              "outlinewidth": 0,
              "ticks": ""
             }
            },
            "type": "scattergl"
           }
          ],
          "scattermapbox": [
           {
            "marker": {
             "colorbar": {
              "outlinewidth": 0,
              "ticks": ""
             }
            },
            "type": "scattermapbox"
           }
          ],
          "scatterpolar": [
           {
            "marker": {
             "colorbar": {
              "outlinewidth": 0,
              "ticks": ""
             }
            },
            "type": "scatterpolar"
           }
          ],
          "scatterpolargl": [
           {
            "marker": {
             "colorbar": {
              "outlinewidth": 0,
              "ticks": ""
             }
            },
            "type": "scatterpolargl"
           }
          ],
          "scatterternary": [
           {
            "marker": {
             "colorbar": {
              "outlinewidth": 0,
              "ticks": ""
             }
            },
            "type": "scatterternary"
           }
          ],
          "surface": [
           {
            "colorbar": {
             "outlinewidth": 0,
             "ticks": ""
            },
            "colorscale": [
             [
              0,
              "#0d0887"
             ],
             [
              0.1111111111111111,
              "#46039f"
             ],
             [
              0.2222222222222222,
              "#7201a8"
             ],
             [
              0.3333333333333333,
              "#9c179e"
             ],
             [
              0.4444444444444444,
              "#bd3786"
             ],
             [
              0.5555555555555556,
              "#d8576b"
             ],
             [
              0.6666666666666666,
              "#ed7953"
             ],
             [
              0.7777777777777778,
              "#fb9f3a"
             ],
             [
              0.8888888888888888,
              "#fdca26"
             ],
             [
              1,
              "#f0f921"
             ]
            ],
            "type": "surface"
           }
          ],
          "table": [
           {
            "cells": {
             "fill": {
              "color": "#EBF0F8"
             },
             "line": {
              "color": "white"
             }
            },
            "header": {
             "fill": {
              "color": "#C8D4E3"
             },
             "line": {
              "color": "white"
             }
            },
            "type": "table"
           }
          ]
         },
         "layout": {
          "annotationdefaults": {
           "arrowcolor": "#2a3f5f",
           "arrowhead": 0,
           "arrowwidth": 1
          },
          "autotypenumbers": "strict",
          "coloraxis": {
           "colorbar": {
            "outlinewidth": 0,
            "ticks": ""
           }
          },
          "colorscale": {
           "diverging": [
            [
             0,
             "#8e0152"
            ],
            [
             0.1,
             "#c51b7d"
            ],
            [
             0.2,
             "#de77ae"
            ],
            [
             0.3,
             "#f1b6da"
            ],
            [
             0.4,
             "#fde0ef"
            ],
            [
             0.5,
             "#f7f7f7"
            ],
            [
             0.6,
             "#e6f5d0"
            ],
            [
             0.7,
             "#b8e186"
            ],
            [
             0.8,
             "#7fbc41"
            ],
            [
             0.9,
             "#4d9221"
            ],
            [
             1,
             "#276419"
            ]
           ],
           "sequential": [
            [
             0,
             "#0d0887"
            ],
            [
             0.1111111111111111,
             "#46039f"
            ],
            [
             0.2222222222222222,
             "#7201a8"
            ],
            [
             0.3333333333333333,
             "#9c179e"
            ],
            [
             0.4444444444444444,
             "#bd3786"
            ],
            [
             0.5555555555555556,
             "#d8576b"
            ],
            [
             0.6666666666666666,
             "#ed7953"
            ],
            [
             0.7777777777777778,
             "#fb9f3a"
            ],
            [
             0.8888888888888888,
             "#fdca26"
            ],
            [
             1,
             "#f0f921"
            ]
           ],
           "sequentialminus": [
            [
             0,
             "#0d0887"
            ],
            [
             0.1111111111111111,
             "#46039f"
            ],
            [
             0.2222222222222222,
             "#7201a8"
            ],
            [
             0.3333333333333333,
             "#9c179e"
            ],
            [
             0.4444444444444444,
             "#bd3786"
            ],
            [
             0.5555555555555556,
             "#d8576b"
            ],
            [
             0.6666666666666666,
             "#ed7953"
            ],
            [
             0.7777777777777778,
             "#fb9f3a"
            ],
            [
             0.8888888888888888,
             "#fdca26"
            ],
            [
             1,
             "#f0f921"
            ]
           ]
          },
          "colorway": [
           "#636efa",
           "#EF553B",
           "#00cc96",
           "#ab63fa",
           "#FFA15A",
           "#19d3f3",
           "#FF6692",
           "#B6E880",
           "#FF97FF",
           "#FECB52"
          ],
          "font": {
           "color": "#2a3f5f"
          },
          "geo": {
           "bgcolor": "white",
           "lakecolor": "white",
           "landcolor": "#E5ECF6",
           "showlakes": true,
           "showland": true,
           "subunitcolor": "white"
          },
          "hoverlabel": {
           "align": "left"
          },
          "hovermode": "closest",
          "mapbox": {
           "style": "light"
          },
          "paper_bgcolor": "white",
          "plot_bgcolor": "#E5ECF6",
          "polar": {
           "angularaxis": {
            "gridcolor": "white",
            "linecolor": "white",
            "ticks": ""
           },
           "bgcolor": "#E5ECF6",
           "radialaxis": {
            "gridcolor": "white",
            "linecolor": "white",
            "ticks": ""
           }
          },
          "scene": {
           "xaxis": {
            "backgroundcolor": "#E5ECF6",
            "gridcolor": "white",
            "gridwidth": 2,
            "linecolor": "white",
            "showbackground": true,
            "ticks": "",
            "zerolinecolor": "white"
           },
           "yaxis": {
            "backgroundcolor": "#E5ECF6",
            "gridcolor": "white",
            "gridwidth": 2,
            "linecolor": "white",
            "showbackground": true,
            "ticks": "",
            "zerolinecolor": "white"
           },
           "zaxis": {
            "backgroundcolor": "#E5ECF6",
            "gridcolor": "white",
            "gridwidth": 2,
            "linecolor": "white",
            "showbackground": true,
            "ticks": "",
            "zerolinecolor": "white"
           }
          },
          "shapedefaults": {
           "line": {
            "color": "#2a3f5f"
           }
          },
          "ternary": {
           "aaxis": {
            "gridcolor": "white",
            "linecolor": "white",
            "ticks": ""
           },
           "baxis": {
            "gridcolor": "white",
            "linecolor": "white",
            "ticks": ""
           },
           "bgcolor": "#E5ECF6",
           "caxis": {
            "gridcolor": "white",
            "linecolor": "white",
            "ticks": ""
           }
          },
          "title": {
           "x": 0.05
          },
          "xaxis": {
           "automargin": true,
           "gridcolor": "white",
           "linecolor": "white",
           "ticks": "",
           "title": {
            "standoff": 15
           },
           "zerolinecolor": "white",
           "zerolinewidth": 2
          },
          "yaxis": {
           "automargin": true,
           "gridcolor": "white",
           "linecolor": "white",
           "ticks": "",
           "title": {
            "standoff": 15
           },
           "zerolinecolor": "white",
           "zerolinewidth": 2
          }
         }
        },
        "xaxis": {
         "anchor": "y",
         "domain": [
          0,
          1
         ]
        },
        "yaxis": {
         "anchor": "x",
         "domain": [
          0,
          1
         ]
        }
       }
      }
     },
     "metadata": {}
    }
   ],
   "source": [
    "fig = plotFigure(year_label, revenue_arr, budget_arr)\n",
    "fig.show()"
   ]
  },
  {
   "source": [
    "# Star Power -- KS Test"
   ],
   "cell_type": "markdown",
   "metadata": {}
  },
  {
   "cell_type": "code",
   "execution_count": 15,
   "metadata": {},
   "outputs": [],
   "source": [
    "def getEntityID(entity):\n",
    "    # print(entity)\n",
    "    id = entity['url'].split('?')[0].split('/')[-2]\n",
    "    return id"
   ]
  },
  {
   "cell_type": "code",
   "execution_count": 16,
   "metadata": {},
   "outputs": [],
   "source": [
    "def getStarInfo(star_id):\n",
    "    star_info = sta_features[star_id]\n",
    "    return star_info['total_movies'], star_info['total_raters']"
   ]
  },
  {
   "cell_type": "code",
   "execution_count": 17,
   "metadata": {},
   "outputs": [],
   "source": [
    "movie = getMovie('tt0371746')\n",
    "# movie"
   ]
  },
  {
   "cell_type": "code",
   "execution_count": 18,
   "metadata": {},
   "outputs": [],
   "source": [
    "def getStarInfoBefore(star_id, year):\n",
    "    return getValues(1967, year-1, difeatures[star_id])"
   ]
  },
  {
   "cell_type": "code",
   "execution_count": 19,
   "metadata": {},
   "outputs": [
    {
     "output_type": "error",
     "ename": "NameError",
     "evalue": "name 'star_features' is not defined",
     "traceback": [
      "\u001b[0;31m---------------------------------------------------------------------------\u001b[0m",
      "\u001b[0;31mNameError\u001b[0m                                 Traceback (most recent call last)",
      "\u001b[0;32m<ipython-input-19-52b8e6631b8b>\u001b[0m in \u001b[0;36m<module>\u001b[0;34m\u001b[0m\n\u001b[0;32m----> 1\u001b[0;31m \u001b[0mgetStarInfo\u001b[0m\u001b[0;34m(\u001b[0m\u001b[0;34m'nm0000229'\u001b[0m\u001b[0;34m)\u001b[0m\u001b[0;34m\u001b[0m\u001b[0;34m\u001b[0m\u001b[0m\n\u001b[0m",
      "\u001b[0;32m<ipython-input-16-198bb7ff7375>\u001b[0m in \u001b[0;36mgetStarInfo\u001b[0;34m(star_id)\u001b[0m\n\u001b[1;32m      1\u001b[0m \u001b[0;32mdef\u001b[0m \u001b[0mgetStarInfo\u001b[0m\u001b[0;34m(\u001b[0m\u001b[0mstar_id\u001b[0m\u001b[0;34m)\u001b[0m\u001b[0;34m:\u001b[0m\u001b[0;34m\u001b[0m\u001b[0;34m\u001b[0m\u001b[0m\n\u001b[0;32m----> 2\u001b[0;31m     \u001b[0mstar_info\u001b[0m \u001b[0;34m=\u001b[0m \u001b[0mstar_features\u001b[0m\u001b[0;34m[\u001b[0m\u001b[0mstar_id\u001b[0m\u001b[0;34m]\u001b[0m\u001b[0;34m\u001b[0m\u001b[0;34m\u001b[0m\u001b[0m\n\u001b[0m\u001b[1;32m      3\u001b[0m     \u001b[0;32mreturn\u001b[0m \u001b[0mstar_info\u001b[0m\u001b[0;34m[\u001b[0m\u001b[0;34m'total_movies'\u001b[0m\u001b[0;34m]\u001b[0m\u001b[0;34m,\u001b[0m \u001b[0mstar_info\u001b[0m\u001b[0;34m[\u001b[0m\u001b[0;34m'total_raters'\u001b[0m\u001b[0;34m]\u001b[0m\u001b[0;34m\u001b[0m\u001b[0;34m\u001b[0m\u001b[0m\n",
      "\u001b[0;31mNameError\u001b[0m: name 'star_features' is not defined"
     ]
    }
   ],
   "source": [
    "getStarInfo('nm0000229')"
   ]
  },
  {
   "cell_type": "code",
   "execution_count": 36,
   "metadata": {},
   "outputs": [
    {
     "output_type": "execute_result",
     "data": {
      "text/plain": [
       "{'total_revenue': 16974537491,\n",
       " 'total_budget': 2003547835,\n",
       " 'num_movies': 25,\n",
       " 'num_raters': 10314648}"
      ]
     },
     "metadata": {},
     "execution_count": 36
    }
   ],
   "source": [
    "getStarInfoBefore('', 2008)"
   ]
  },
  {
   "cell_type": "code",
   "execution_count": 42,
   "metadata": {},
   "outputs": [],
   "source": [
    "th_num_movie = 5\n",
    "th_avg_raters = 100000\n",
    "th_revenue = 100*1000000\n",
    "\n",
    "\n",
    "def getMovieCriteria(movie, printLog=False):\n",
    "    # cast_ensamble = movie['cast_and_character']\n",
    "    if('director' not in movie):\n",
    "        if(printLog == True):\n",
    "            print(movie['imdb_id'], \"could ont find director\")\n",
    "    else:\n",
    "        directors = movie['director']\n",
    "        if(type(directors) is not list):\n",
    "            directors = [directors]\n",
    "        for cast in directors:\n",
    "            star = cast\n",
    "            star_id = getEntityID(star)\n",
    "            # num_movie, total_raters = getStarInfo(star_id)\n",
    "            info = getStarInfoBefore(star_id, int(movie['cleaned_year']))\n",
    "            num_movie = info['num_movies']\n",
    "            total_raters = info['num_raters']\n",
    "            mx_revenue = info['max_revenue']\n",
    "            avg_raters = 0\n",
    "            if(num_movie != 0):\n",
    "                avg_raters = total_raters/num_movie\n",
    "            # print(star_id, num_movie, th_num_movie, total_raters, total_raters/num_movie, th_avg_raters,  star['name'])\n",
    "            # print(num_movie > th_num_movie, avg_raters > th_avg_raters)\n",
    "            # if(num_movie > th_num_movie or avg_raters > th_avg_raters):\n",
    "            #     return True\n",
    "            if(num_movie > th_num_movie or mx_revenue > th_revenue):\n",
    "                # print(mx_revenue, th_revenue)\n",
    "                return True\n",
    "    return False"
   ]
  },
  {
   "cell_type": "code",
   "execution_count": 43,
   "metadata": {},
   "outputs": [
    {
     "output_type": "execute_result",
     "data": {
      "text/plain": [
       "False"
      ]
     },
     "metadata": {},
     "execution_count": 43
    }
   ],
   "source": [
    "getMovieCriteria(movie)"
   ]
  },
  {
   "cell_type": "code",
   "execution_count": 44,
   "metadata": {},
   "outputs": [],
   "source": [
    "# movie"
   ]
  },
  {
   "cell_type": "code",
   "execution_count": 45,
   "metadata": {
    "tags": []
   },
   "outputs": [],
   "source": [
    "has_star = []\n",
    "no_star = []\n",
    "\n",
    "for movie in imdb.find():\n",
    "    st = getMovieCriteria(movie)\n",
    "    revenue = movie['cleaned_Revenue']\n",
    "    if(st == True):\n",
    "        has_star.append((movie['imdb_id'], movie['name'], revenue))\n",
    "    else:\n",
    "        no_star.append((movie['imdb_id'], movie['name'], revenue))"
   ]
  },
  {
   "cell_type": "code",
   "execution_count": 46,
   "metadata": {},
   "outputs": [
    {
     "output_type": "execute_result",
     "data": {
      "text/plain": [
       "(2684, 5497)"
      ]
     },
     "metadata": {},
     "execution_count": 46
    }
   ],
   "source": [
    "len(has_star), len(no_star)"
   ]
  },
  {
   "cell_type": "code",
   "execution_count": 47,
   "metadata": {},
   "outputs": [],
   "source": [
    "has_star_revenue = []\n",
    "no_star_revenue = []\n",
    "\n",
    "for movie in has_star:\n",
    "    has_star_revenue.append(movie[2])\n",
    "\n",
    "for movie in no_star:\n",
    "    no_star_revenue.append(movie[2])"
   ]
  },
  {
   "cell_type": "code",
   "execution_count": 48,
   "metadata": {},
   "outputs": [
    {
     "output_type": "execute_result",
     "data": {
      "text/plain": [
       "(2684, 5497)"
      ]
     },
     "metadata": {},
     "execution_count": 48
    }
   ],
   "source": [
    "len(has_star_revenue), len(no_star_revenue)"
   ]
  },
  {
   "cell_type": "code",
   "execution_count": 49,
   "metadata": {},
   "outputs": [],
   "source": [
    "from scipy.stats import ks_2samp\n",
    "import numpy as np\n",
    "\n",
    "has_star_revenue = np.array(has_star_revenue)\n",
    "no_star_revenue = np.array(no_star_revenue)"
   ]
  },
  {
   "cell_type": "code",
   "execution_count": 50,
   "metadata": {},
   "outputs": [
    {
     "output_type": "execute_result",
     "data": {
      "text/plain": [
       "KstestResult(statistic=0.38913225124556494, pvalue=2.3605743035466377e-246)"
      ]
     },
     "metadata": {},
     "execution_count": 50
    }
   ],
   "source": [
    "ks_2samp(has_star_revenue, no_star_revenue)"
   ]
  },
  {
   "cell_type": "code",
   "execution_count": 51,
   "metadata": {},
   "outputs": [
    {
     "output_type": "execute_result",
     "data": {
      "text/plain": [
       "(194107054.36028317, 55162496.57958887)"
      ]
     },
     "metadata": {},
     "execution_count": 51
    }
   ],
   "source": [
    "has_star_revenue.mean(), no_star_revenue.mean()"
   ]
  },
  {
   "cell_type": "code",
   "execution_count": 52,
   "metadata": {},
   "outputs": [
    {
     "output_type": "execute_result",
     "data": {
      "text/plain": [
       "138944557.7806943"
      ]
     },
     "metadata": {},
     "execution_count": 52
    }
   ],
   "source": [
    "has_star_revenue.mean()-no_star_revenue.mean()"
   ]
  },
  {
   "cell_type": "code",
   "execution_count": null,
   "metadata": {},
   "outputs": [],
   "source": []
  }
 ]
}