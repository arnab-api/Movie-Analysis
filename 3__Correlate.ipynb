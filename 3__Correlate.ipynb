{
 "metadata": {
  "language_info": {
   "codemirror_mode": {
    "name": "ipython",
    "version": 3
   },
   "file_extension": ".py",
   "mimetype": "text/x-python",
   "name": "python",
   "nbconvert_exporter": "python",
   "pygments_lexer": "ipython3",
   "version": "3.7.9"
  },
  "orig_nbformat": 2,
  "kernelspec": {
   "name": "python379jvsc74a57bd06e81d77af03ce5c2f322ee28133a80996b3da90d809d78ecf9dd16de6b5482d3",
   "display_name": "Python 3.7.9 64-bit ('ml': conda)"
  },
  "metadata": {
   "interpreter": {
    "hash": "916dbcbb3f70747c44a77c7bcd40155683ae19c65e1c03b4aa3499c5328201f1"
   }
  }
 },
 "nbformat": 4,
 "nbformat_minor": 2,
 "cells": [
  {
   "cell_type": "code",
   "execution_count": 1,
   "metadata": {},
   "outputs": [],
   "source": [
    "import os\n",
    "import json\n",
    "import plotly.graph_objects as go\n",
    "from plotly.subplots import make_subplots\n",
    "import cpi\n",
    "import pymongo\n",
    "from tqdm import tqdm\n",
    "import copy"
   ]
  },
  {
   "cell_type": "code",
   "execution_count": 4,
   "metadata": {},
   "outputs": [],
   "source": [
    "myclient = pymongo.MongoClient(\"mongodb://localhost:27017/\")"
   ]
  },
  {
   "cell_type": "code",
   "execution_count": 5,
   "metadata": {},
   "outputs": [
    {
     "output_type": "execute_result",
     "data": {
      "text/plain": [
       "40434"
      ]
     },
     "metadata": {},
     "execution_count": 5
    }
   ],
   "source": [
    "bmojo_db = myclient[\"boxOfficeMojo\"]\n",
    "bmojo = bmojo_db['movies']\n",
    "bmojo.count_documents({})"
   ]
  },
  {
   "cell_type": "code",
   "execution_count": 8,
   "metadata": {},
   "outputs": [
    {
     "output_type": "execute_result",
     "data": {
      "text/plain": [
       "15857"
      ]
     },
     "metadata": {},
     "execution_count": 8
    }
   ],
   "source": [
    "imdb_db = myclient[\"imdb\"]\n",
    "imdb = imdb_db['imdb_cleaned']\n",
    "imdb.count_documents({})"
   ]
  },
  {
   "cell_type": "code",
   "execution_count": 14,
   "metadata": {},
   "outputs": [],
   "source": [
    "def findIMDbMovie(imdb_id):\n",
    "    for x in imdb.find({'imdb_id': imdb_id}):\n",
    "        return x\n",
    "    return None"
   ]
  },
  {
   "cell_type": "code",
   "execution_count": 16,
   "metadata": {},
   "outputs": [],
   "source": [
    "# findIMDbMovie('tt0371746')"
   ]
  },
  {
   "cell_type": "code",
   "execution_count": 23,
   "metadata": {},
   "outputs": [
    {
     "output_type": "stream",
     "name": "stdout",
     "text": [
      "processed 1000 out of 40434 --- success 443 , fail 557\n",
      "processed 2000 out of 40434 --- success 814 , fail 1186\n",
      "processed 3000 out of 40434 --- success 1053 , fail 1947\n",
      "processed 4000 out of 40434 --- success 1230 , fail 2770\n",
      "processed 5000 out of 40434 --- success 1351 , fail 3649\n",
      "processed 6000 out of 40434 --- success 1473 , fail 4527\n",
      "processed 7000 out of 40434 --- success 1573 , fail 5427\n",
      "processed 8000 out of 40434 --- success 1699 , fail 6301\n",
      "processed 9000 out of 40434 --- success 1812 , fail 7188\n",
      "processed 10000 out of 40434 --- success 1911 , fail 8089\n",
      "processed 11000 out of 40434 --- success 2000 , fail 9000\n",
      "processed 12000 out of 40434 --- success 2090 , fail 9910\n",
      "processed 13000 out of 40434 --- success 2182 , fail 10818\n",
      "processed 14000 out of 40434 --- success 2308 , fail 11692\n",
      "processed 15000 out of 40434 --- success 2394 , fail 12606\n",
      "processed 16000 out of 40434 --- success 2508 , fail 13492\n",
      "processed 17000 out of 40434 --- success 2616 , fail 14384\n",
      "processed 18000 out of 40434 --- success 2732 , fail 15268\n",
      "processed 19000 out of 40434 --- success 2841 , fail 16159\n",
      "processed 20000 out of 40434 --- success 2931 , fail 17069\n",
      "processed 21000 out of 40434 --- success 3037 , fail 17963\n",
      "processed 22000 out of 40434 --- success 3127 , fail 18873\n",
      "processed 23000 out of 40434 --- success 3247 , fail 19753\n",
      "processed 24000 out of 40434 --- success 3351 , fail 20649\n",
      "processed 25000 out of 40434 --- success 3450 , fail 21550\n",
      "processed 26000 out of 40434 --- success 3540 , fail 22460\n",
      "processed 27000 out of 40434 --- success 3653 , fail 23347\n",
      "processed 28000 out of 40434 --- success 3736 , fail 24264\n",
      "processed 29000 out of 40434 --- success 3826 , fail 25174\n",
      "processed 30000 out of 40434 --- success 3911 , fail 26089\n",
      "processed 31000 out of 40434 --- success 3995 , fail 27005\n",
      "processed 32000 out of 40434 --- success 4066 , fail 27934\n",
      "processed 33000 out of 40434 --- success 4129 , fail 28871\n",
      "processed 34000 out of 40434 --- success 4194 , fail 29806\n",
      "processed 35000 out of 40434 --- success 4277 , fail 30723\n",
      "processed 36000 out of 40434 --- success 4325 , fail 31675\n",
      "processed 37000 out of 40434 --- success 4389 , fail 32611\n",
      "processed 38000 out of 40434 --- success 4446 , fail 33554\n",
      "processed 39000 out of 40434 --- success 4519 , fail 34481\n",
      "processed 40000 out of 40434 --- success 4666 , fail 35334\n"
     ]
    }
   ],
   "source": [
    "num_box = bmojo.count_documents({})\n",
    "step_size = 1000\n",
    "cnt_success = 0\n",
    "cnt_failed = 0\n",
    "cnt = 0\n",
    "\n",
    "movie_pair = []\n",
    "for bmojo_movie in bmojo.find():\n",
    "    imdb_movie = findIMDbMovie(bmojo_movie['imdb_id'])\n",
    "    if(imdb_movie != None):\n",
    "        cnt_success += 1\n",
    "        movie_pair.append((bmojo_movie, imdb_movie))\n",
    "    else:\n",
    "        cnt_failed += 1\n",
    "    cnt += 1\n",
    "    if(cnt % step_size == 0):\n",
    "        print(\"processed {} out of {} --- success {} , fail {}\".format(cnt, num_box, cnt_success, cnt_failed))\n",
    "    # if(cnt == num_box):\n",
    "    #     break"
   ]
  },
  {
   "cell_type": "code",
   "execution_count": 24,
   "metadata": {},
   "outputs": [
    {
     "output_type": "execute_result",
     "data": {
      "text/plain": [
       "4741"
      ]
     },
     "metadata": {},
     "execution_count": 24
    }
   ],
   "source": [
    "len(movie_pair)"
   ]
  },
  {
   "cell_type": "code",
   "execution_count": 22,
   "metadata": {},
   "outputs": [
    {
     "output_type": "execute_result",
     "data": {
      "text/plain": [
       "{'_id': ObjectId('60a6633fef235d48e488a55a'),\n",
       " '@context': 'http://schema.org',\n",
       " '@type': 'Movie',\n",
       " 'url': '/title/tt0076666/',\n",
       " 'name': 'Saturday Night Fever',\n",
       " 'image': 'https://m.media-amazon.com/images/M/MV5BOWU0NjZhMWEtMWU2Zi00NTgwLWI1OTQtNDJlNDAyNzdlZjljXkEyXkFqcGdeQXVyMTQxNzMzNDI@._V1_.jpg',\n",
       " 'genre': ['Drama', 'Music'],\n",
       " 'contentRating': 'R',\n",
       " 'actor': [{'@type': 'Person',\n",
       "   'url': '/name/nm0000237/',\n",
       "   'name': 'John Travolta'},\n",
       "  {'@type': 'Person', 'url': '/name/nm0331186/', 'name': 'Karen Lynn Gorney'},\n",
       "  {'@type': 'Person', 'url': '/name/nm0587944/', 'name': 'Barry Miller'},\n",
       "  {'@type': 'Person', 'url': '/name/nm0129955/', 'name': 'Joseph Cali'}],\n",
       " 'director': {'@type': 'Person',\n",
       "  'url': '/name/nm0000824/',\n",
       "  'name': 'John Badham'},\n",
       " 'creator': [{'@type': 'Person',\n",
       "   'url': '/name/nm0169936/',\n",
       "   'name': 'Nik Cohn'},\n",
       "  {'@type': 'Person', 'url': '/name/nm0923319/', 'name': 'Norman Wexler'},\n",
       "  {'@type': 'Organization', 'url': '/company/co0023400/'},\n",
       "  {'@type': 'Organization', 'url': '/company/co0056904/'}],\n",
       " 'description': 'Saturday Night Fever is a movie starring John Travolta, Karen Lynn Gorney, and Barry Miller. Anxious about his future after high school, a 19-year-old Italian-American from Brooklyn tries to escape the harsh reality of his bleak...',\n",
       " 'datePublished': '1977-12-16',\n",
       " 'keywords': 'love making,sex,slut,slutty character,condom',\n",
       " 'aggregateRating': {'@type': 'AggregateRating',\n",
       "  'ratingCount': 73353,\n",
       "  'bestRating': '10.0',\n",
       "  'worstRating': '1.0',\n",
       "  'ratingValue': '6.8'},\n",
       " 'review': {'@type': 'Review',\n",
       "  'itemReviewed': {'@type': 'CreativeWork', 'url': '/title/tt0076666/'},\n",
       "  'author': {'@type': 'Person', 'name': 'Bandit1974'},\n",
       "  'dateCreated': '2006-01-05',\n",
       "  'inLanguage': 'English',\n",
       "  'name': \"I Don't See Anyone Givin You A Raise Down At Unemployment\",\n",
       "  'reviewBody': 'I am 31 so I was 3 when this movie came out. The first time I saw Saturday Night Fever was the \"Edited For Television\" version probably when I was 6 or 7 years old. At that point, it was about the music, the dance scenes and the clothes.\\n\\nIt wouldn\\'t be until years later that I understood what a great story this is. It\\'s a coming of age movie. It\\'s a modern day tragedy. It\\'s a love story.\\n\\nThe first thing that people think about when they hear Saturday Night Fever is disco and bell bottoms, but the story is timeless. Travolta plays Tony Manero, a loser in a nowhere job who only feels alive when he is on the dance floor at the local disco. There he is adored by his friends, by women and by strangers. There he is king. Everywhere else he is nobody. Even at home.\\n\\nTony becomes infatuated with a woman named Stephanie. On the surface Stephanie appears to be much better off than Tony. For the most part Stephanie is a big talker, but Tony is bothered by her observations.\\n\\n\"Let me guess. You work all week long at some dead end job and then you go and blow it at all at 2001 (the disco) on the weekends. You\\'re a cliché. You\\'re no one, going nowhere.\" As much as Tony is upset by her words he can\\'t argue with them. Soon Tony becomes frustrated with his \"station in life\" and tells Stephanie he wants out (of Brooklyn).\\n\\nWhat makes Saturday Night Fever work so much for me is Tony is very typical of a lot of males who would rather have a good time and party now than build something toward the future. Bars are full of guys like Tony. Guys who are super stars in their local drinking establishments, but have no life outside of the night life.\\n\\nAnd of course there\\'s the superb dance scenes that most people remember Saturday Night Fever for. The soundtrack is also one of the best out there.\\n\\nFor whatever reason, Saturday Night Fever also has my favorite closing shot of all time. It\\'s really nothing special, but I get choked up every time I see it.\\n\\nSaturday Night Fever is also a snapshot of a period in recent American history. The movie took place in 1977. The country was a mess after the Vitenam war ended and before Reagan stormed Washington and once again instilled a sense of pride in Americans. There was no longer a war to protest, but the average American didn\\'t have much faith in our country. I think Saturday Night Fever does an excellent job of capturing what was probably a common attitude among young adults during the late 70\\'s. Live for the moment because the future is pretty bleak.',\n",
       "  'reviewRating': {'@type': 'Rating',\n",
       "   'worstRating': '1',\n",
       "   'bestRating': '10',\n",
       "   'ratingValue': '10'}},\n",
       " 'duration': 'PT1H58M',\n",
       " 'trailer': {'@type': 'VideoObject',\n",
       "  'name': 'Trailer',\n",
       "  'embedUrl': '/video/imdb/vi890945049',\n",
       "  'thumbnail': {'@type': 'ImageObject',\n",
       "   'contentUrl': 'https://m.media-amazon.com/images/M/MV5BMTA0Mjg2ZjItY2QxNC00NDBhLTliOGItNmM3YTY1N2VhOGI2XkEyXkFqcGdeQUlNRGJWaWRlb1RodW1ibmFpbFNlcnZpY2U@._V1_.jpg'},\n",
       "  'thumbnailUrl': 'https://m.media-amazon.com/images/M/MV5BMTA0Mjg2ZjItY2QxNC00NDBhLTliOGItNmM3YTY1N2VhOGI2XkEyXkFqcGdeQUlNRGJWaWRlb1RodW1ibmFpbFNlcnZpY2U@._V1_.jpg',\n",
       "  'uploadDate': '2020-06-30T11:57:30Z'},\n",
       " 'cast_and_character': [{'actor': {'@type': 'Person',\n",
       "    'url': '/name/nm0000237/?ref_=tt_cl_t1',\n",
       "    'name': 'John Travolta'},\n",
       "   'character_and_episodes': [{'url': '/title/tt0076666/characters/nm0000237?ref_=tt_cl_t1',\n",
       "     'name': 'Tony Manero'}]},\n",
       "  {'actor': {'@type': 'Person',\n",
       "    'url': '/name/nm0587944/?ref_=tt_cl_t3',\n",
       "    'name': 'Barry Miller'},\n",
       "   'character_and_episodes': [{'url': '/title/tt0076666/characters/nm0587944?ref_=tt_cl_t3',\n",
       "     'name': 'Bobby C.'}]},\n",
       "  {'actor': {'@type': 'Person',\n",
       "    'url': '/name/nm0660407/?ref_=tt_cl_t5',\n",
       "    'name': 'Paul Pape'},\n",
       "   'character_and_episodes': [{'url': '/title/tt0076666/characters/nm0660407?ref_=tt_cl_t5',\n",
       "     'name': 'Double J.'}]},\n",
       "  {'actor': {'@type': 'Person',\n",
       "    'url': '/name/nm0650344/?ref_=tt_cl_t7',\n",
       "    'name': 'Bruce Ornstein'},\n",
       "   'character_and_episodes': [{'url': '/title/tt0076666/characters/nm0650344?ref_=tt_cl_t7',\n",
       "     'name': 'Gus'}]},\n",
       "  {'actor': {'@type': 'Person',\n",
       "    'url': '/name/nm0787621/?ref_=tt_cl_t9',\n",
       "    'name': 'Martin Shakar'},\n",
       "   'character_and_episodes': [{'url': '/title/tt0076666/characters/nm0787621?ref_=tt_cl_t9',\n",
       "     'name': 'Frank Jr.'}]},\n",
       "  {'actor': {'@type': 'Person',\n",
       "    'url': '/name/nm0361025/?ref_=tt_cl_t11',\n",
       "    'name': 'Nina Hansen'},\n",
       "   'character_and_episodes': [{'url': '/title/tt0076666/characters/nm0361025?ref_=tt_cl_t11',\n",
       "     'name': 'Grandmother'}]},\n",
       "  {'actor': {'@type': 'Person',\n",
       "    'url': '/name/nm0226986/?ref_=tt_cl_t13',\n",
       "    'name': 'Denny Dillon'},\n",
       "   'character_and_episodes': [{'url': '/title/tt0076666/characters/nm0226986?ref_=tt_cl_t13',\n",
       "     'name': 'Doreen'}]},\n",
       "  {'actor': {'@type': 'Person',\n",
       "    'url': '/name/nm0182456/?ref_=tt_cl_t15',\n",
       "    'name': 'Robert Costanzo'},\n",
       "   'character_and_episodes': [{'url': '/title/tt0076666/characters/nm0182456?ref_=tt_cl_t15',\n",
       "     'name': 'Paint Store Customer'}]},\n",
       "  {'actor': {'@type': 'Person',\n",
       "    'url': '/name/nm0331186/?ref_=tt_cl_t2',\n",
       "    'name': 'Karen Lynn Gorney'},\n",
       "   'character_and_episodes': [{'url': '/title/tt0076666/characters/nm0331186?ref_=tt_cl_t2',\n",
       "     'name': 'Stephanie'}]},\n",
       "  {'actor': {'@type': 'Person',\n",
       "    'url': '/name/nm0129955/?ref_=tt_cl_t4',\n",
       "    'name': 'Joseph Cali'},\n",
       "   'character_and_episodes': [{'url': '/title/tt0076666/characters/nm0129955?ref_=tt_cl_t4',\n",
       "     'name': 'Joey'}]},\n",
       "  {'actor': {'@type': 'Person',\n",
       "    'url': '/name/nm0675950/?ref_=tt_cl_t6',\n",
       "    'name': 'Donna Pescow'},\n",
       "   'character_and_episodes': [{'url': '/title/tt0076666/characters/nm0675950?ref_=tt_cl_t6',\n",
       "     'name': 'Annette'}]},\n",
       "  {'actor': {'@type': 'Person',\n",
       "    'url': '/name/nm0100566/?ref_=tt_cl_t8',\n",
       "    'name': 'Julie Bovasso'},\n",
       "   'character_and_episodes': [{'url': '/title/tt0076666/characters/nm0100566?ref_=tt_cl_t8',\n",
       "     'name': 'Flo'}]},\n",
       "  {'actor': {'@type': 'Person',\n",
       "    'url': '/name/nm0178916/?ref_=tt_cl_t10',\n",
       "    'name': 'Sam Coppola'},\n",
       "   'character_and_episodes': [{'url': '/title/tt0076666/characters/nm0178916?ref_=tt_cl_t10',\n",
       "     'name': 'Dan Fusco'}]},\n",
       "  {'actor': {'@type': 'Person',\n",
       "    'url': '/name/nm0671398/?ref_=tt_cl_t12',\n",
       "    'name': 'Lisa Peluso'},\n",
       "   'character_and_episodes': [{'url': '/title/tt0076666/characters/nm0671398?ref_=tt_cl_t12',\n",
       "     'name': 'Linda'}]},\n",
       "  {'actor': {'@type': 'Person',\n",
       "    'url': '/name/nm0584290/?ref_=tt_cl_t14',\n",
       "    'name': 'Bert Michaels'},\n",
       "   'character_and_episodes': [{'url': '/title/tt0076666/characters/nm0584290?ref_=tt_cl_t14',\n",
       "     'name': 'Pete'}]}],\n",
       " 'details': {'Country': ['USA'],\n",
       "  'Language': ['English', 'Italian'],\n",
       "  'Release Date': ['16 December 1977 (USA)'],\n",
       "  'Also Known As': ['Saturday Night'],\n",
       "  'Filming Locations': ['94th St. and Fifth Avenue, Bay Ridge, Brooklyn, New York City, New York, USA'],\n",
       "  'Budget': ['$3,000,000', '(estimated)'],\n",
       "  'Opening Weekend USA': ['$3,878,099,', '18 December 1977'],\n",
       "  'Gross USA': ['$94,213,184'],\n",
       "  'Cumulative Worldwide Gross': ['$237,113,184'],\n",
       "  'Production Co': ['Paramount Pictures',\n",
       "   'Robert Stigwood Organization (RSO)'],\n",
       "  'Runtime': ['118 min', '113 min', '(PG)'],\n",
       "  'Sound Mix': ['Dolby', '(as Dolby System)'],\n",
       "  'Aspect Ratio': ['1.85 : 1']},\n",
       " 'imdb_id': 'tt0076666',\n",
       " 'cleaned_contentRating': 'R',\n",
       " 'cleaned_Runtime_min': 118,\n",
       " 'cleaned_budget': 3000000}"
      ]
     },
     "metadata": {},
     "execution_count": 22
    }
   ],
   "source": [
    "movie_pair[0][1]"
   ]
  },
  {
   "cell_type": "code",
   "execution_count": null,
   "metadata": {},
   "outputs": [],
   "source": []
  }
 ]
}