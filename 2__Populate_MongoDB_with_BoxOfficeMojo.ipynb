{
 "metadata": {
  "language_info": {
   "codemirror_mode": {
    "name": "ipython",
    "version": 3
   },
   "file_extension": ".py",
   "mimetype": "text/x-python",
   "name": "python",
   "nbconvert_exporter": "python",
   "pygments_lexer": "ipython3",
   "version": "3.7.9"
  },
  "orig_nbformat": 2,
  "kernelspec": {
   "name": "python379jvsc74a57bd06e81d77af03ce5c2f322ee28133a80996b3da90d809d78ecf9dd16de6b5482d3",
   "display_name": "Python 3.7.9 64-bit ('ml': conda)"
  }
 },
 "nbformat": 4,
 "nbformat_minor": 2,
 "cells": [
  {
   "cell_type": "code",
   "execution_count": 19,
   "metadata": {},
   "outputs": [],
   "source": [
    "import os\n",
    "import json\n",
    "import cpi\n",
    "\n",
    "import plotly.graph_objects as go\n",
    "from plotly.subplots import make_subplots\n",
    "# import pymongo\n",
    "path = \"../Dataset/BoxOfficeMojo_with_imdb_ID/BoxOfficeMojo/\""
   ]
  },
  {
   "cell_type": "code",
   "execution_count": 69,
   "metadata": {},
   "outputs": [],
   "source": [
    "import copy\n",
    "from tqdm import tqdm"
   ]
  },
  {
   "cell_type": "code",
   "execution_count": 20,
   "metadata": {},
   "outputs": [],
   "source": [
    "years = os.listdir(path)\n",
    "years = sorted(years)"
   ]
  },
  {
   "cell_type": "code",
   "execution_count": 21,
   "metadata": {},
   "outputs": [],
   "source": [
    "num_movies = []\n",
    "for year in years:\n",
    "    movie_list = os.listdir(path + year)\n",
    "    if(year < \"2021\"):\n",
    "        num_movies.append(len(movie_list)-1)"
   ]
  },
  {
   "cell_type": "code",
   "execution_count": 22,
   "metadata": {},
   "outputs": [
    {
     "output_type": "display_data",
     "data": {
      "application/vnd.plotly.v1+json": {
       "config": {
        "plotlyServerURL": "https://plot.ly"
       },
       "data": [
        {
         "type": "bar",
         "x": [
          "1977",
          "1978",
          "1979",
          "1980",
          "1981",
          "1982",
          "1983",
          "1984",
          "1985",
          "1986",
          "1987",
          "1988",
          "1989",
          "1990",
          "1991",
          "1992",
          "1993",
          "1994",
          "1995",
          "1996",
          "1997",
          "1998",
          "1999",
          "2000",
          "2001",
          "2002",
          "2003",
          "2004",
          "2005",
          "2006",
          "2007",
          "2008",
          "2009",
          "2010",
          "2011",
          "2012",
          "2013",
          "2014",
          "2015",
          "2016",
          "2017",
          "2018",
          "2019",
          "2020",
          "2021"
         ],
         "y": [
          35,
          55,
          84,
          116,
          114,
          132,
          159,
          165,
          180,
          208,
          234,
          248,
          236,
          224,
          244,
          236,
          260,
          257,
          282,
          312,
          305,
          341,
          396,
          414,
          690,
          1374,
          1396,
          1259,
          1352,
          1723,
          2686,
          3017,
          2448,
          2298,
          2340,
          2492,
          2350,
          2321,
          2430,
          3147,
          3237,
          3404,
          3489,
          1995
         ]
        }
       ],
       "layout": {
        "template": {
         "data": {
          "bar": [
           {
            "error_x": {
             "color": "#2a3f5f"
            },
            "error_y": {
             "color": "#2a3f5f"
            },
            "marker": {
             "line": {
              "color": "#E5ECF6",
              "width": 0.5
             }
            },
            "type": "bar"
           }
          ],
          "barpolar": [
           {
            "marker": {
             "line": {
              "color": "#E5ECF6",
              "width": 0.5
             }
            },
            "type": "barpolar"
           }
          ],
          "carpet": [
           {
            "aaxis": {
             "endlinecolor": "#2a3f5f",
             "gridcolor": "white",
             "linecolor": "white",
             "minorgridcolor": "white",
             "startlinecolor": "#2a3f5f"
            },
            "baxis": {
             "endlinecolor": "#2a3f5f",
             "gridcolor": "white",
             "linecolor": "white",
             "minorgridcolor": "white",
             "startlinecolor": "#2a3f5f"
            },
            "type": "carpet"
           }
          ],
          "choropleth": [
           {
            "colorbar": {
             "outlinewidth": 0,
             "ticks": ""
            },
            "type": "choropleth"
           }
          ],
          "contour": [
           {
            "colorbar": {
             "outlinewidth": 0,
             "ticks": ""
            },
            "colorscale": [
             [
              0,
              "#0d0887"
             ],
             [
              0.1111111111111111,
              "#46039f"
             ],
             [
              0.2222222222222222,
              "#7201a8"
             ],
             [
              0.3333333333333333,
              "#9c179e"
             ],
             [
              0.4444444444444444,
              "#bd3786"
             ],
             [
              0.5555555555555556,
              "#d8576b"
             ],
             [
              0.6666666666666666,
              "#ed7953"
             ],
             [
              0.7777777777777778,
              "#fb9f3a"
             ],
             [
              0.8888888888888888,
              "#fdca26"
             ],
             [
              1,
              "#f0f921"
             ]
            ],
            "type": "contour"
           }
          ],
          "contourcarpet": [
           {
            "colorbar": {
             "outlinewidth": 0,
             "ticks": ""
            },
            "type": "contourcarpet"
           }
          ],
          "heatmap": [
           {
            "colorbar": {
             "outlinewidth": 0,
             "ticks": ""
            },
            "colorscale": [
             [
              0,
              "#0d0887"
             ],
             [
              0.1111111111111111,
              "#46039f"
             ],
             [
              0.2222222222222222,
              "#7201a8"
             ],
             [
              0.3333333333333333,
              "#9c179e"
             ],
             [
              0.4444444444444444,
              "#bd3786"
             ],
             [
              0.5555555555555556,
              "#d8576b"
             ],
             [
              0.6666666666666666,
              "#ed7953"
             ],
             [
              0.7777777777777778,
              "#fb9f3a"
             ],
             [
              0.8888888888888888,
              "#fdca26"
             ],
             [
              1,
              "#f0f921"
             ]
            ],
            "type": "heatmap"
           }
          ],
          "heatmapgl": [
           {
            "colorbar": {
             "outlinewidth": 0,
             "ticks": ""
            },
            "colorscale": [
             [
              0,
              "#0d0887"
             ],
             [
              0.1111111111111111,
              "#46039f"
             ],
             [
              0.2222222222222222,
              "#7201a8"
             ],
             [
              0.3333333333333333,
              "#9c179e"
             ],
             [
              0.4444444444444444,
              "#bd3786"
             ],
             [
              0.5555555555555556,
              "#d8576b"
             ],
             [
              0.6666666666666666,
              "#ed7953"
             ],
             [
              0.7777777777777778,
              "#fb9f3a"
             ],
             [
              0.8888888888888888,
              "#fdca26"
             ],
             [
              1,
              "#f0f921"
             ]
            ],
            "type": "heatmapgl"
           }
          ],
          "histogram": [
           {
            "marker": {
             "colorbar": {
              "outlinewidth": 0,
              "ticks": ""
             }
            },
            "type": "histogram"
           }
          ],
          "histogram2d": [
           {
            "colorbar": {
             "outlinewidth": 0,
             "ticks": ""
            },
            "colorscale": [
             [
              0,
              "#0d0887"
             ],
             [
              0.1111111111111111,
              "#46039f"
             ],
             [
              0.2222222222222222,
              "#7201a8"
             ],
             [
              0.3333333333333333,
              "#9c179e"
             ],
             [
              0.4444444444444444,
              "#bd3786"
             ],
             [
              0.5555555555555556,
              "#d8576b"
             ],
             [
              0.6666666666666666,
              "#ed7953"
             ],
             [
              0.7777777777777778,
              "#fb9f3a"
             ],
             [
              0.8888888888888888,
              "#fdca26"
             ],
             [
              1,
              "#f0f921"
             ]
            ],
            "type": "histogram2d"
           }
          ],
          "histogram2dcontour": [
           {
            "colorbar": {
             "outlinewidth": 0,
             "ticks": ""
            },
            "colorscale": [
             [
              0,
              "#0d0887"
             ],
             [
              0.1111111111111111,
              "#46039f"
             ],
             [
              0.2222222222222222,
              "#7201a8"
             ],
             [
              0.3333333333333333,
              "#9c179e"
             ],
             [
              0.4444444444444444,
              "#bd3786"
             ],
             [
              0.5555555555555556,
              "#d8576b"
             ],
             [
              0.6666666666666666,
              "#ed7953"
             ],
             [
              0.7777777777777778,
              "#fb9f3a"
             ],
             [
              0.8888888888888888,
              "#fdca26"
             ],
             [
              1,
              "#f0f921"
             ]
            ],
            "type": "histogram2dcontour"
           }
          ],
          "mesh3d": [
           {
            "colorbar": {
             "outlinewidth": 0,
             "ticks": ""
            },
            "type": "mesh3d"
           }
          ],
          "parcoords": [
           {
            "line": {
             "colorbar": {
              "outlinewidth": 0,
              "ticks": ""
             }
            },
            "type": "parcoords"
           }
          ],
          "pie": [
           {
            "automargin": true,
            "type": "pie"
           }
          ],
          "scatter": [
           {
            "marker": {
             "colorbar": {
              "outlinewidth": 0,
              "ticks": ""
             }
            },
            "type": "scatter"
           }
          ],
          "scatter3d": [
           {
            "line": {
             "colorbar": {
              "outlinewidth": 0,
              "ticks": ""
             }
            },
            "marker": {
             "colorbar": {
              "outlinewidth": 0,
              "ticks": ""
             }
            },
            "type": "scatter3d"
           }
          ],
          "scattercarpet": [
           {
            "marker": {
             "colorbar": {
              "outlinewidth": 0,
              "ticks": ""
             }
            },
            "type": "scattercarpet"
           }
          ],
          "scattergeo": [
           {
            "marker": {
             "colorbar": {
              "outlinewidth": 0,
              "ticks": ""
             }
            },
            "type": "scattergeo"
           }
          ],
          "scattergl": [
           {
            "marker": {
             "colorbar": {
              "outlinewidth": 0,
              "ticks": ""
             }
            },
            "type": "scattergl"
           }
          ],
          "scattermapbox": [
           {
            "marker": {
             "colorbar": {
              "outlinewidth": 0,
              "ticks": ""
             }
            },
            "type": "scattermapbox"
           }
          ],
          "scatterpolar": [
           {
            "marker": {
             "colorbar": {
              "outlinewidth": 0,
              "ticks": ""
             }
            },
            "type": "scatterpolar"
           }
          ],
          "scatterpolargl": [
           {
            "marker": {
             "colorbar": {
              "outlinewidth": 0,
              "ticks": ""
             }
            },
            "type": "scatterpolargl"
           }
          ],
          "scatterternary": [
           {
            "marker": {
             "colorbar": {
              "outlinewidth": 0,
              "ticks": ""
             }
            },
            "type": "scatterternary"
           }
          ],
          "surface": [
           {
            "colorbar": {
             "outlinewidth": 0,
             "ticks": ""
            },
            "colorscale": [
             [
              0,
              "#0d0887"
             ],
             [
              0.1111111111111111,
              "#46039f"
             ],
             [
              0.2222222222222222,
              "#7201a8"
             ],
             [
              0.3333333333333333,
              "#9c179e"
             ],
             [
              0.4444444444444444,
              "#bd3786"
             ],
             [
              0.5555555555555556,
              "#d8576b"
             ],
             [
              0.6666666666666666,
              "#ed7953"
             ],
             [
              0.7777777777777778,
              "#fb9f3a"
             ],
             [
              0.8888888888888888,
              "#fdca26"
             ],
             [
              1,
              "#f0f921"
             ]
            ],
            "type": "surface"
           }
          ],
          "table": [
           {
            "cells": {
             "fill": {
              "color": "#EBF0F8"
             },
             "line": {
              "color": "white"
             }
            },
            "header": {
             "fill": {
              "color": "#C8D4E3"
             },
             "line": {
              "color": "white"
             }
            },
            "type": "table"
           }
          ]
         },
         "layout": {
          "annotationdefaults": {
           "arrowcolor": "#2a3f5f",
           "arrowhead": 0,
           "arrowwidth": 1
          },
          "autotypenumbers": "strict",
          "coloraxis": {
           "colorbar": {
            "outlinewidth": 0,
            "ticks": ""
           }
          },
          "colorscale": {
           "diverging": [
            [
             0,
             "#8e0152"
            ],
            [
             0.1,
             "#c51b7d"
            ],
            [
             0.2,
             "#de77ae"
            ],
            [
             0.3,
             "#f1b6da"
            ],
            [
             0.4,
             "#fde0ef"
            ],
            [
             0.5,
             "#f7f7f7"
            ],
            [
             0.6,
             "#e6f5d0"
            ],
            [
             0.7,
             "#b8e186"
            ],
            [
             0.8,
             "#7fbc41"
            ],
            [
             0.9,
             "#4d9221"
            ],
            [
             1,
             "#276419"
            ]
           ],
           "sequential": [
            [
             0,
             "#0d0887"
            ],
            [
             0.1111111111111111,
             "#46039f"
            ],
            [
             0.2222222222222222,
             "#7201a8"
            ],
            [
             0.3333333333333333,
             "#9c179e"
            ],
            [
             0.4444444444444444,
             "#bd3786"
            ],
            [
             0.5555555555555556,
             "#d8576b"
            ],
            [
             0.6666666666666666,
             "#ed7953"
            ],
            [
             0.7777777777777778,
             "#fb9f3a"
            ],
            [
             0.8888888888888888,
             "#fdca26"
            ],
            [
             1,
             "#f0f921"
            ]
           ],
           "sequentialminus": [
            [
             0,
             "#0d0887"
            ],
            [
             0.1111111111111111,
             "#46039f"
            ],
            [
             0.2222222222222222,
             "#7201a8"
            ],
            [
             0.3333333333333333,
             "#9c179e"
            ],
            [
             0.4444444444444444,
             "#bd3786"
            ],
            [
             0.5555555555555556,
             "#d8576b"
            ],
            [
             0.6666666666666666,
             "#ed7953"
            ],
            [
             0.7777777777777778,
             "#fb9f3a"
            ],
            [
             0.8888888888888888,
             "#fdca26"
            ],
            [
             1,
             "#f0f921"
            ]
           ]
          },
          "colorway": [
           "#636efa",
           "#EF553B",
           "#00cc96",
           "#ab63fa",
           "#FFA15A",
           "#19d3f3",
           "#FF6692",
           "#B6E880",
           "#FF97FF",
           "#FECB52"
          ],
          "font": {
           "color": "#2a3f5f"
          },
          "geo": {
           "bgcolor": "white",
           "lakecolor": "white",
           "landcolor": "#E5ECF6",
           "showlakes": true,
           "showland": true,
           "subunitcolor": "white"
          },
          "hoverlabel": {
           "align": "left"
          },
          "hovermode": "closest",
          "mapbox": {
           "style": "light"
          },
          "paper_bgcolor": "white",
          "plot_bgcolor": "#E5ECF6",
          "polar": {
           "angularaxis": {
            "gridcolor": "white",
            "linecolor": "white",
            "ticks": ""
           },
           "bgcolor": "#E5ECF6",
           "radialaxis": {
            "gridcolor": "white",
            "linecolor": "white",
            "ticks": ""
           }
          },
          "scene": {
           "xaxis": {
            "backgroundcolor": "#E5ECF6",
            "gridcolor": "white",
            "gridwidth": 2,
            "linecolor": "white",
            "showbackground": true,
            "ticks": "",
            "zerolinecolor": "white"
           },
           "yaxis": {
            "backgroundcolor": "#E5ECF6",
            "gridcolor": "white",
            "gridwidth": 2,
            "linecolor": "white",
            "showbackground": true,
            "ticks": "",
            "zerolinecolor": "white"
           },
           "zaxis": {
            "backgroundcolor": "#E5ECF6",
            "gridcolor": "white",
            "gridwidth": 2,
            "linecolor": "white",
            "showbackground": true,
            "ticks": "",
            "zerolinecolor": "white"
           }
          },
          "shapedefaults": {
           "line": {
            "color": "#2a3f5f"
           }
          },
          "ternary": {
           "aaxis": {
            "gridcolor": "white",
            "linecolor": "white",
            "ticks": ""
           },
           "baxis": {
            "gridcolor": "white",
            "linecolor": "white",
            "ticks": ""
           },
           "bgcolor": "#E5ECF6",
           "caxis": {
            "gridcolor": "white",
            "linecolor": "white",
            "ticks": ""
           }
          },
          "title": {
           "x": 0.05
          },
          "xaxis": {
           "automargin": true,
           "gridcolor": "white",
           "linecolor": "white",
           "ticks": "",
           "title": {
            "standoff": 15
           },
           "zerolinecolor": "white",
           "zerolinewidth": 2
          },
          "yaxis": {
           "automargin": true,
           "gridcolor": "white",
           "linecolor": "white",
           "ticks": "",
           "title": {
            "standoff": 15
           },
           "zerolinecolor": "white",
           "zerolinewidth": 2
          }
         }
        }
       }
      }
     },
     "metadata": {}
    }
   ],
   "source": [
    "fig = go.Figure([go.Bar(x=years, y=num_movies)])\n",
    "fig.show()"
   ]
  },
  {
   "cell_type": "code",
   "execution_count": 23,
   "metadata": {},
   "outputs": [
    {
     "output_type": "execute_result",
     "data": {
      "text/plain": [
       "333"
      ]
     },
     "metadata": {},
     "execution_count": 23
    }
   ],
   "source": [
    "len(movie_list)"
   ]
  },
  {
   "cell_type": "code",
   "execution_count": 24,
   "metadata": {},
   "outputs": [],
   "source": [
    "def mergeDict(dict1, dict2):\n",
    "    ret = {}\n",
    "    for key in dict1:\n",
    "        ret[key] = dict1[key]\n",
    "    for key in dict2:\n",
    "        ret[key] = dict2[key]\n",
    "    return ret"
   ]
  },
  {
   "cell_type": "code",
   "execution_count": 25,
   "metadata": {},
   "outputs": [],
   "source": [
    "def load_movies(year):\n",
    "    with open(path+year+\"/0_summary.json\", 'r') as f:\n",
    "        summary = json.load(f)\n",
    "    print(\"found {} movies in the year {}\".format(len(summary), year))\n",
    "    cnt = 0\n",
    "    movie_list = []\n",
    "    for movie in summary:\n",
    "        cnt+=1\n",
    "    #     print(\"loading {} out of {} -- \".format(cnt, len(summary)) + movie['name'])\n",
    "        file_name = str(cnt) + \"_\" + movie['file_name']\n",
    "        try: \n",
    "            with open(path + year + \"/\" + file_name + \".json\", 'r') as f:\n",
    "                movie_json = json.load(f)\n",
    "                movie_json = mergeDict(movie, movie_json)\n",
    "                movie_list.append(movie_json)\n",
    "#                 print(movie_json)\n",
    "        except:\n",
    "            print(\"NOT FOUND!!! >> {} -- {}\".format(file_name, year))\n",
    "#         break\n",
    "    return movie_list"
   ]
  },
  {
   "cell_type": "code",
   "execution_count": 26,
   "metadata": {},
   "outputs": [
    {
     "output_type": "stream",
     "name": "stdout",
     "text": [
      "found 35 movies in the year 1977\n",
      "found 55 movies in the year 1978\n",
      "found 84 movies in the year 1979\n",
      "found 116 movies in the year 1980\n",
      "found 114 movies in the year 1981\n",
      "found 132 movies in the year 1982\n",
      "found 159 movies in the year 1983\n",
      "found 165 movies in the year 1984\n",
      "found 180 movies in the year 1985\n",
      "found 208 movies in the year 1986\n",
      "found 234 movies in the year 1987\n",
      "found 248 movies in the year 1988\n",
      "found 236 movies in the year 1989\n",
      "found 224 movies in the year 1990\n",
      "found 245 movies in the year 1991\n",
      "NOT FOUND!!! >> 48_necessary_roughness -- 1991\n",
      "found 236 movies in the year 1992\n",
      "found 260 movies in the year 1993\n",
      "found 257 movies in the year 1994\n",
      "found 282 movies in the year 1995\n",
      "found 312 movies in the year 1996\n",
      "found 305 movies in the year 1997\n",
      "found 341 movies in the year 1998\n",
      "found 396 movies in the year 1999\n",
      "found 414 movies in the year 2000\n",
      "found 690 movies in the year 2001\n",
      "found 1374 movies in the year 2002\n",
      "found 1396 movies in the year 2003\n",
      "NOT FOUND!!! >> 268_the_spanish_apartment_2003_re_release -- 2003\n",
      "found 1259 movies in the year 2004\n",
      "found 1352 movies in the year 2005\n",
      "found 1723 movies in the year 2006\n",
      "NOT FOUND!!! >> 363_the_white_planet_carte_blanche -- 2006\n",
      "found 2686 movies in the year 2007\n",
      "found 3017 movies in the year 2008\n",
      "found 2448 movies in the year 2009\n",
      "found 2298 movies in the year 2010\n",
      "found 2340 movies in the year 2011\n",
      "found 2492 movies in the year 2012\n",
      "found 2350 movies in the year 2013\n",
      "found 2321 movies in the year 2014\n",
      "found 2431 movies in the year 2015\n",
      "NOT FOUND!!! >> 920_unknown_title -- 2015\n",
      "found 3148 movies in the year 2016\n",
      "NOT FOUND!!! >> 1504_bang_gang__a_modern_love_story -- 2016\n",
      "NOT FOUND!!! >> 1905_the_book_of_love -- 2016\n",
      "NOT FOUND!!! >> 1965_mirror -- 2016\n",
      "found 3238 movies in the year 2017\n",
      "NOT FOUND!!! >> 1594_adventure_time__islands_part_6__min_and_marty_adventure_time__islands_part_1__the_invitation_adventure_time__islands_part_7__helpers_adventure_time__islands_part_4__imaginary_resources_adventure_time__islands_part_5__hide_and_seek_adventure_time__islands_part_8__the_light_cloud_adventure_time__islands_part_3__mysterious_island_adventure_time__islands_part_2__whipple_the_happy_dragon -- 2017\n",
      "found 3404 movies in the year 2018\n",
      "found 3490 movies in the year 2019\n",
      "NOT FOUND!!! >> 1031_a_white__white_day -- 2019\n",
      "found 1995 movies in the year 2020\n",
      "found 332 movies in the year 2021\n"
     ]
    }
   ],
   "source": [
    "all_movies = []\n",
    "for year in years:\n",
    "    all_movies += load_movies(year)"
   ]
  },
  {
   "cell_type": "code",
   "execution_count": 27,
   "metadata": {},
   "outputs": [
    {
     "output_type": "execute_result",
     "data": {
      "text/plain": [
       "51013"
      ]
     },
     "metadata": {},
     "execution_count": 27
    }
   ],
   "source": [
    "len(all_movies)"
   ]
  },
  {
   "cell_type": "code",
   "execution_count": 28,
   "metadata": {},
   "outputs": [],
   "source": [
    "def getIMDB_Id(movie):\n",
    "    pro_url = movie['General Info']['IMDbPro']\n",
    "    id = pro_url.split('?')[0].split('/')[-1]\n",
    "    return id"
   ]
  },
  {
   "cell_type": "code",
   "execution_count": 29,
   "metadata": {},
   "outputs": [
    {
     "output_type": "execute_result",
     "data": {
      "text/plain": [
       "'tt0076538'"
      ]
     },
     "metadata": {},
     "execution_count": 29
    }
   ],
   "source": [
    "getIMDB_Id(all_movies[10])"
   ]
  },
  {
   "cell_type": "code",
   "execution_count": 54,
   "metadata": {},
   "outputs": [
    {
     "output_type": "execute_result",
     "data": {
      "text/plain": [
       "{'href': '/releasegroup/gr1021399557/?ref_=bo_ydw_table_1056',\n",
       " 'name': 'Pasos',\n",
       " 'file_name': 'pasos',\n",
       " 'world_wide': '$38,132',\n",
       " 'domestic': '-',\n",
       " 'foreign': '$38,132',\n",
       " 'General Info': {'Distributor': 'Alta Films',\n",
       "  'Opening': '$38,132',\n",
       "  'Release Date': ['Jun 17, 2005'],\n",
       "  'Running Time': '1 hr 44 min',\n",
       "  'Genres': ['Drama'],\n",
       "  'In Release': '198 days/28 weeks',\n",
       "  'Widest Release': '26 theaters',\n",
       "  'IMDbPro': 'https://pro.imdb.com/title/tt0441430?ref_=mojo_rl_summary&rf=mojo_rl_summary'},\n",
       " 'Weekly Income': 'N/A -- checked on 2021-04-27 06:41:22.503102'}"
      ]
     },
     "metadata": {},
     "execution_count": 54
    }
   ],
   "source": [
    "test_movie = all_movies[11010]\n",
    "test_movie"
   ]
  },
  {
   "cell_type": "code",
   "execution_count": 31,
   "metadata": {},
   "outputs": [],
   "source": [
    "def getUSD(txt):\n",
    "    # converter = {\n",
    "    #     '$'  : 1, 'USD': 1, 'EUR': 1.22, 'AUD': 0.78,\n",
    "    #     'GBP': 1.41, 'NOK': 0.12, 'DKK': 0.16, 'JPY': 0.0092,\n",
    "    #     'CAD': 0.83, 'INR': 0.012, 'SEK': 0.12, 'DEM': 0.62,\n",
    "    #     'FRF': 0.185, 'RUR': 0.014, 'CNY': 0.16, 'BEF': 1/33.5,\n",
    "    #     'MXN': 0.050, 'CZK': 0.048, 'ZAR': 0.071, 'HKD': 0.13,\n",
    "    #     'BRL': 0.19, 'IDR': 0.000070, 'ITL': 0.000626628, 'ARS': 0.011,\n",
    "    #     'UAH': 0.036, 'NZD': 0.73, 'TRL': 0.12, 'FIM': 0.204585,\n",
    "    #     'HUF': 0.0034, 'DOP': 0.018, 'KRW': 0.00089, 'ESP': 1.22, \n",
    "    #     'EGP': 0.064, 'PLN': 0.27, 'SGD': 0.75, 'IQD': 0.00068, \n",
    "    #     'IEP': 0.647361, 'CHF': 1.11, 'ISK': 0.0081, 'TWD': 0.036,\n",
    "    #     'THB': 0.032, 'MYR': 0.24, 'PYG': 0.00015, 'NGN': 0.0026, \n",
    "    #     'ILS': 0.30, 'IRR': 0.000024, 'NLG': 0.039, 'BDT': 0.012, \n",
    "    #     'AMD': 0.0019, 'MVR': 0.065, 'SAR': 0.27, 'RON': 0.25,\n",
    "    #     'ATS': 0.0883949, 'PHP': 0.021, 'ROL': 0.25\n",
    "    # }\n",
    "    converter = {\n",
    "        '$'  : 1, 'USD': 1\n",
    "    }\n",
    "    txt = txt.replace(\",\",\"\")\n",
    "    mul = 1\n",
    "    for key in converter:\n",
    "        if key in txt:\n",
    "            txt = txt.replace(key, \"\")\n",
    "            mul = converter[key]\n",
    "            break\n",
    "    money = int(txt)\n",
    "    return money"
   ]
  },
  {
   "cell_type": "code",
   "execution_count": 32,
   "metadata": {},
   "outputs": [],
   "source": [
    "def adjustInflation(amount, year):\n",
    "    try:\n",
    "        year = int(year)\n",
    "        return int(cpi.inflate(amount, year))\n",
    "    except:\n",
    "        return amount"
   ]
  },
  {
   "cell_type": "code",
   "execution_count": 43,
   "metadata": {},
   "outputs": [],
   "source": [
    "months = ['Jan', 'Feb', 'Mar', 'Apr', 'May', 'Jun', 'Jul', 'Aug', 'Sep', 'Oct', 'Nov', 'Dec']\n",
    "years = []\n",
    "for year in range(1967, 2021):\n",
    "    years.append(str(year))"
   ]
  },
  {
   "cell_type": "code",
   "execution_count": 44,
   "metadata": {},
   "outputs": [],
   "source": [
    "def processReleaseDate(date):\n",
    "    if(type(date) == list):\n",
    "        date = date[0]\n",
    "    month, day, year = date.replace(',','').split(\" \")\n",
    "    if(month not in months):\n",
    "        month = None\n",
    "    if(year not in year):\n",
    "        year = None\n",
    "    return month, day, year"
   ]
  },
  {
   "cell_type": "code",
   "execution_count": 57,
   "metadata": {},
   "outputs": [],
   "source": [
    "def cleanMovie(movie, print_log = False):\n",
    "    movie = copy.deepcopy(movie)\n",
    "    movie['imdb_id'] = getIMDB_Id(movie)\n",
    "\n",
    "    # date\n",
    "    try:\n",
    "        month, day, year = processReleaseDate(movie['General Info']['Release Date'])\n",
    "        if(month == None or year == None):\n",
    "            if(print_log == True):\n",
    "                print(\"{} Problem loading month {} or year {} info\".format(movie['imdb_id'],month, year))\n",
    "            return None\n",
    "        movie['cleaned_month'] = month\n",
    "        movie['cleaned_year'] = year\n",
    "    except:\n",
    "        if(print_log == True):\n",
    "            print(movie['imdb_id'], \"Problem parsing month {} or year {}\".format(month, year))\n",
    "        return None\n",
    "\n",
    "    # revenue\n",
    "    if('world_wide' not in movie):\n",
    "        if(print_log == True):\n",
    "            print(movie['imdb_id'], \"This movie does not have <world_wide> attribute\")\n",
    "        return None\n",
    "    revenue = movie['world_wide']\n",
    "    try:\n",
    "        revenue = getUSD(revenue)\n",
    "    except:\n",
    "        if(print_log == True):\n",
    "            print(movie['imdb_id'], \"This movie does not have <world_wide> attribute in a convertable format\")\n",
    "        return None\n",
    "    movie['cleaned_Revenue'] = adjustInflation(revenue, movie['cleaned_year'])\n",
    "\n",
    "    #'Widest Release'\n",
    "    if('Widest Release' not in movie['General Info']):\n",
    "        if(print_log == True):\n",
    "            print(movie['imdb_id'], \"This movie does not have <Widest Release> attribute\")\n",
    "        return None\n",
    "    try:\n",
    "        release = movie['General Info']['Widest Release']\n",
    "        release = int(release.split()[0])\n",
    "    except:\n",
    "        if(print_log == True):\n",
    "            print(movie['imdb_id'], \"This movie does not have <Widest Release> attribute in a convertable format\")\n",
    "        return None\n",
    "    movie['cleaned_release_theaters'] = release\n",
    "    return movie"
   ]
  },
  {
   "cell_type": "code",
   "execution_count": 58,
   "metadata": {},
   "outputs": [
    {
     "output_type": "execute_result",
     "data": {
      "text/plain": [
       "{'href': '/releasegroup/gr1021399557/?ref_=bo_ydw_table_1056',\n",
       " 'name': 'Pasos',\n",
       " 'file_name': 'pasos',\n",
       " 'world_wide': '$38,132',\n",
       " 'domestic': '-',\n",
       " 'foreign': '$38,132',\n",
       " 'General Info': {'Distributor': 'Alta Films',\n",
       "  'Opening': '$38,132',\n",
       "  'Release Date': ['Jun 17, 2005'],\n",
       "  'Running Time': '1 hr 44 min',\n",
       "  'Genres': ['Drama'],\n",
       "  'In Release': '198 days/28 weeks',\n",
       "  'Widest Release': '26 theaters',\n",
       "  'IMDbPro': 'https://pro.imdb.com/title/tt0441430?ref_=mojo_rl_summary&rf=mojo_rl_summary'},\n",
       " 'Weekly Income': 'N/A -- checked on 2021-04-27 06:41:22.503102',\n",
       " 'imdb_id': 'tt0441430',\n",
       " 'cleaned_month': 'Jun',\n",
       " 'cleaned_year': '2005',\n",
       " 'cleaned_Revenue': 50532,\n",
       " 'cleaned_release_theaters': 26}"
      ]
     },
     "metadata": {},
     "execution_count": 58
    }
   ],
   "source": [
    "cleanMovie(test_movie, print_log=True)"
   ]
  },
  {
   "cell_type": "code",
   "execution_count": 78,
   "metadata": {},
   "outputs": [
    {
     "output_type": "stream",
     "name": "stdout",
     "text": [
      "processed 1000 out of 51013 --- success 420 , fail 580\n",
      "processed 2000 out of 51013 --- success 880 , fail 1120\n",
      "processed 3000 out of 51013 --- success 1333 , fail 1667\n",
      "processed 4000 out of 51013 --- success 1749 , fail 2251\n",
      "processed 5000 out of 51013 --- success 2283 , fail 2717\n",
      "processed 6000 out of 51013 --- success 3026 , fail 2974\n",
      "processed 7000 out of 51013 --- success 3840 , fail 3160\n",
      "processed 8000 out of 51013 --- success 4610 , fail 3390\n",
      "processed 9000 out of 51013 --- success 5392 , fail 3608\n",
      "processed 10000 out of 51013 --- success 6263 , fail 3737\n",
      "processed 11000 out of 51013 --- success 7049 , fail 3951\n",
      "processed 12000 out of 51013 --- success 7821 , fail 4179\n",
      "processed 13000 out of 51013 --- success 8689 , fail 4311\n",
      "processed 14000 out of 51013 --- success 9448 , fail 4552\n",
      "processed 15000 out of 51013 --- success 10312 , fail 4688\n",
      "processed 16000 out of 51013 --- success 11090 , fail 4910\n",
      "processed 17000 out of 51013 --- success 11999 , fail 5001\n",
      "processed 18000 out of 51013 --- success 12914 , fail 5086\n",
      "processed 19000 out of 51013 --- success 13725 , fail 5275\n",
      "processed 20000 out of 51013 --- success 14678 , fail 5322\n",
      "processed 21000 out of 51013 --- success 15643 , fail 5357\n",
      "processed 22000 out of 51013 --- success 16482 , fail 5518\n",
      "processed 23000 out of 51013 --- success 17458 , fail 5542\n",
      "processed 24000 out of 51013 --- success 18301 , fail 5699\n",
      "processed 25000 out of 51013 --- success 19273 , fail 5727\n",
      "processed 26000 out of 51013 --- success 20139 , fail 5861\n",
      "processed 27000 out of 51013 --- success 21086 , fail 5914\n",
      "processed 28000 out of 51013 --- success 22071 , fail 5929\n",
      "processed 29000 out of 51013 --- success 22882 , fail 6118\n",
      "processed 30000 out of 51013 --- success 23827 , fail 6173\n",
      "processed 31000 out of 51013 --- success 24647 , fail 6353\n",
      "processed 32000 out of 51013 --- success 25536 , fail 6464\n",
      "processed 33000 out of 51013 --- success 26473 , fail 6527\n",
      "processed 34000 out of 51013 --- success 27188 , fail 6812\n",
      "processed 35000 out of 51013 --- success 28094 , fail 6906\n",
      "processed 36000 out of 51013 --- success 28829 , fail 7171\n",
      "processed 37000 out of 51013 --- success 29630 , fail 7370\n",
      "processed 38000 out of 51013 --- success 30503 , fail 7497\n",
      "processed 39000 out of 51013 --- success 31197 , fail 7803\n",
      "processed 40000 out of 51013 --- success 31979 , fail 8021\n",
      "processed 41000 out of 51013 --- success 32841 , fail 8159\n",
      "processed 42000 out of 51013 --- success 33505 , fail 8495\n",
      "processed 43000 out of 51013 --- success 34228 , fail 8772\n",
      "processed 44000 out of 51013 --- success 35070 , fail 8930\n",
      "processed 45000 out of 51013 --- success 35908 , fail 9092\n",
      "processed 46000 out of 51013 --- success 36465 , fail 9535\n",
      "processed 47000 out of 51013 --- success 37272 , fail 9728\n",
      "processed 48000 out of 51013 --- success 38130 , fail 9870\n",
      "processed 49000 out of 51013 --- success 38835 , fail 10165\n",
      "processed 50000 out of 51013 --- success 39627 , fail 10373\n",
      "processed 51000 out of 51013 --- success 40423 , fail 10577\n",
      "processed 40434 -- failed 10579\n"
     ]
    }
   ],
   "source": [
    "clean_failed = 0\n",
    "clean_success = 0\n",
    "limit = len(all_movies)\n",
    "step_size = 1000\n",
    "cnt = 0\n",
    "\n",
    "movie_list = []\n",
    "for movie in all_movies:\n",
    "    try:\n",
    "        cleaned_movie = cleanMovie(movie)\n",
    "        if(cleaned_movie == None):\n",
    "            clean_failed += 1\n",
    "        else:\n",
    "            clean_success += 1\n",
    "            movie_list.append(cleaned_movie)\n",
    "    except:\n",
    "        print(movie['imdb_id'])\n",
    "        break\n",
    "    cnt += 1\n",
    "    if(cnt % step_size == 0):\n",
    "        print(\"processed {} out of {} --- success {} , fail {}\".format(cnt, limit, clean_success, clean_failed))\n",
    "\n",
    "print('processed {} -- failed {}'.format(clean_success, clean_failed))"
   ]
  },
  {
   "cell_type": "code",
   "execution_count": 72,
   "metadata": {},
   "outputs": [
    {
     "output_type": "execute_result",
     "data": {
      "text/plain": [
       "40434"
      ]
     },
     "metadata": {},
     "execution_count": 72
    }
   ],
   "source": [
    "len(movie_list)"
   ]
  },
  {
   "cell_type": "code",
   "execution_count": 73,
   "metadata": {},
   "outputs": [],
   "source": [
    "import pymongo"
   ]
  },
  {
   "cell_type": "code",
   "execution_count": 81,
   "metadata": {},
   "outputs": [],
   "source": [
    "myclient = pymongo.MongoClient(\"mongodb://localhost:27017/\")\n",
    "db = myclient[\"boxOfficeMojo\"]\n",
    "bmojo = db['movies']"
   ]
  },
  {
   "cell_type": "code",
   "execution_count": 80,
   "metadata": {},
   "outputs": [],
   "source": [
    "# bmojo.drop()"
   ]
  },
  {
   "cell_type": "code",
   "execution_count": 83,
   "metadata": {},
   "outputs": [
    {
     "output_type": "stream",
     "name": "stderr",
     "text": [
      "100%|██████████| 40434/40434 [00:37<00:00, 1070.98it/s]\n"
     ]
    }
   ],
   "source": [
    "for i in tqdm(range(0, len(movie_list))):\n",
    "    bmojo.insert_one(movie_list[i])"
   ]
  },
  {
   "cell_type": "code",
   "execution_count": 84,
   "metadata": {},
   "outputs": [
    {
     "output_type": "execute_result",
     "data": {
      "text/plain": [
       "40434"
      ]
     },
     "metadata": {},
     "execution_count": 84
    }
   ],
   "source": [
    "bmojo.count_documents({})"
   ]
  },
  {
   "cell_type": "code",
   "execution_count": null,
   "metadata": {},
   "outputs": [],
   "source": []
  }
 ]
}