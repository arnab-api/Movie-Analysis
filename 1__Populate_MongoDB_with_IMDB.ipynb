{
 "metadata": {
  "language_info": {
   "codemirror_mode": {
    "name": "ipython",
    "version": 3
   },
   "file_extension": ".py",
   "mimetype": "text/x-python",
   "name": "python",
   "nbconvert_exporter": "python",
   "pygments_lexer": "ipython3",
   "version": "3.7.9"
  },
  "orig_nbformat": 2,
  "kernelspec": {
   "name": "python379jvsc74a57bd06e81d77af03ce5c2f322ee28133a80996b3da90d809d78ecf9dd16de6b5482d3",
   "display_name": "Python 3.7.9 64-bit ('ml': conda)"
  },
  "metadata": {
   "interpreter": {
    "hash": "916dbcbb3f70747c44a77c7bcd40155683ae19c65e1c03b4aa3499c5328201f1"
   }
  }
 },
 "nbformat": 4,
 "nbformat_minor": 2,
 "cells": [
  {
   "cell_type": "code",
   "execution_count": 1,
   "metadata": {},
   "outputs": [],
   "source": [
    "import os\n",
    "import json\n",
    "import plotly.graph_objects as go\n",
    "from plotly.subplots import make_subplots\n",
    "import cpi\n",
    "import pymongo\n",
    "from tqdm import tqdm\n",
    "root = \"../Dataset/IMDB/\"\n",
    "summary_path = 'IMDB_SUMMARY/SUMMARY_DATA/'\n",
    "movie_path = 'MOVIES/'"
   ]
  },
  {
   "cell_type": "code",
   "execution_count": 2,
   "metadata": {},
   "outputs": [],
   "source": [
    "# cpi.update()"
   ]
  },
  {
   "cell_type": "code",
   "execution_count": 3,
   "metadata": {},
   "outputs": [],
   "source": [
    "limit = 400000"
   ]
  },
  {
   "cell_type": "code",
   "execution_count": 4,
   "metadata": {},
   "outputs": [
    {
     "output_type": "stream",
     "name": "stderr",
     "text": [
      "100%|██████████| 1600/1600 [00:56<00:00, 28.29it/s]\n"
     ]
    }
   ],
   "source": [
    "summary = []\n",
    "\n",
    "for frm in tqdm(range(1, limit, 250)):\n",
    "    file_name = '{} - {}.json'.format(frm, frm+250-1)\n",
    "    with open(root + summary_path + file_name, 'r') as f:\n",
    "        cur_file = json.load(f)\n",
    "    summary = summary + cur_file"
   ]
  },
  {
   "cell_type": "code",
   "execution_count": 6,
   "metadata": {},
   "outputs": [
    {
     "output_type": "execute_result",
     "data": {
      "text/plain": [
       "399986"
      ]
     },
     "metadata": {},
     "execution_count": 6
    }
   ],
   "source": [
    "len(summary)"
   ]
  },
  {
   "cell_type": "code",
   "execution_count": 66,
   "metadata": {},
   "outputs": [],
   "source": [
    "# Load data in small chunks\n",
    "st = 300000 + 1\n",
    "nd = 400000"
   ]
  },
  {
   "cell_type": "code",
   "execution_count": 67,
   "metadata": {},
   "outputs": [
    {
     "output_type": "stream",
     "name": "stderr",
     "text": [
      "100%|██████████| 400/400 [01:03<00:00,  6.29it/s]\n"
     ]
    }
   ],
   "source": [
    "movie_list = []\n",
    "\n",
    "for frm in tqdm(range(st, nd, 250)):\n",
    "    folder_name = '{} - {}/'.format(frm, frm+250-1)\n",
    "    movie_files = os.listdir(root + movie_path + folder_name)\n",
    "    # print(\"{} -- {}\".format(folder_name, len(movie_files)))\n",
    "    for file_name in movie_files:\n",
    "        file_path = root + movie_path + folder_name + file_name\n",
    "        with open(file_path, 'r') as f:\n",
    "            cur_movie = json.load(f)\n",
    "        movie_list.append(cur_movie)"
   ]
  },
  {
   "cell_type": "code",
   "execution_count": 68,
   "metadata": {},
   "outputs": [
    {
     "output_type": "stream",
     "name": "stdout",
     "text": [
      "CreativeWork 15378\nMovie 65459\nTVSeries 14980\nVideoGame 874\nTVEpisode 15\n"
     ]
    }
   ],
   "source": [
    "type_dict = {}\n",
    "for movie in movie_list:\n",
    "    __type = movie['@type']\n",
    "    if(__type not in type_dict):\n",
    "        type_dict[__type] = []\n",
    "    type_dict[__type].append(movie)\n",
    "for __type in type_dict:\n",
    "    print(__type, len(type_dict[__type]))"
   ]
  },
  {
   "cell_type": "code",
   "execution_count": 69,
   "metadata": {},
   "outputs": [],
   "source": [
    "movie_list = type_dict['Movie']"
   ]
  },
  {
   "cell_type": "code",
   "execution_count": 70,
   "metadata": {},
   "outputs": [],
   "source": [
    "def get_IMDB_id(movie):\n",
    "    url = movie['url']\n",
    "    id = url.split(\"/\")[2]\n",
    "    return id"
   ]
  },
  {
   "cell_type": "code",
   "execution_count": 71,
   "metadata": {
    "tags": []
   },
   "outputs": [],
   "source": [
    "for movie in movie_list:\n",
    "    movie['imdb_id'] = get_IMDB_id(movie)"
   ]
  },
  {
   "source": [
    "# Insert data into mongoDB"
   ],
   "cell_type": "markdown",
   "metadata": {}
  },
  {
   "cell_type": "code",
   "execution_count": 2,
   "metadata": {},
   "outputs": [],
   "source": [
    "myclient = pymongo.MongoClient(\"mongodb://localhost:27017/\")\n",
    "db = myclient[\"imdb\"]"
   ]
  },
  {
   "cell_type": "code",
   "execution_count": 3,
   "metadata": {},
   "outputs": [],
   "source": [
    "# db.list_collection_names()\n",
    "movie_collection = db['movies']"
   ]
  },
  {
   "cell_type": "code",
   "execution_count": 74,
   "metadata": {},
   "outputs": [
    {
     "output_type": "stream",
     "name": "stderr",
     "text": [
      "100%|██████████| 65459/65459 [01:10<00:00, 926.00it/s] \n"
     ]
    }
   ],
   "source": [
    "for i in tqdm(range(0, len(movie_list))):\n",
    "    movie_collection.insert_one(movie_list[i])"
   ]
  },
  {
   "cell_type": "code",
   "execution_count": 4,
   "metadata": {
    "tags": []
   },
   "outputs": [
    {
     "output_type": "stream",
     "name": "stdout",
     "text": [
      "{'_id': ObjectId('60a6633eef235d48e488a31c'), '@context': 'http://schema.org', '@type': 'Movie', 'url': '/title/tt0371746/', 'name': 'Iron Man', 'image': 'https://m.media-amazon.com/images/M/MV5BMTczNTI2ODUwOF5BMl5BanBnXkFtZTcwMTU0NTIzMw@@._V1_.jpg', 'genre': ['Action', 'Adventure', 'Sci-Fi'], 'contentRating': 'PG-13', 'actor': [{'@type': 'Person', 'url': '/name/nm0000375/', 'name': 'Robert Downey Jr.'}, {'@type': 'Person', 'url': '/name/nm0000569/', 'name': 'Gwyneth Paltrow'}, {'@type': 'Person', 'url': '/name/nm0005024/', 'name': 'Terrence Howard'}, {'@type': 'Person', 'url': '/name/nm0000313/', 'name': 'Jeff Bridges'}], 'director': {'@type': 'Person', 'url': '/name/nm0269463/', 'name': 'Jon Favreau'}, 'creator': [{'@type': 'Person', 'url': '/name/nm1318843/', 'name': 'Mark Fergus'}, {'@type': 'Person', 'url': '/name/nm1319757/', 'name': 'Hawk Ostby'}, {'@type': 'Person', 'url': '/name/nm1436466/', 'name': 'Art Marcum'}, {'@type': 'Person', 'url': '/name/nm0391344/', 'name': 'Matt Holloway'}, {'@type': 'Person', 'url': '/name/nm0498278/', 'name': 'Stan Lee'}, {'@type': 'Person', 'url': '/name/nm1411347/', 'name': 'Don Heck'}, {'@type': 'Person', 'url': '/name/nm1293367/', 'name': 'Larry Lieber'}, {'@type': 'Person', 'url': '/name/nm0456158/', 'name': 'Jack Kirby'}, {'@type': 'Organization', 'url': '/company/co0023400/'}, {'@type': 'Organization', 'url': '/company/co0095134/'}, {'@type': 'Organization', 'url': '/company/co0051941/'}, {'@type': 'Organization', 'url': '/company/co0008347/'}, {'@type': 'Organization', 'url': '/company/co0216018/'}, {'@type': 'Organization', 'url': '/company/co0229253/'}], 'description': 'Iron Man is a movie starring Robert Downey Jr., Gwyneth Paltrow, and Terrence Howard. After being held captive in an Afghan cave, billionaire engineer Tony Stark creates a unique weaponized suit of armor to fight evil.', 'datePublished': '2008-04-30', 'keywords': 'billionaire,inventor,robot suit,based on comic,marvel cinematic universe', 'aggregateRating': {'@type': 'AggregateRating', 'ratingCount': 956424, 'bestRating': '10.0', 'worstRating': '1.0', 'ratingValue': '7.9'}, 'review': {'@type': 'Review', 'itemReviewed': {'@type': 'CreativeWork', 'url': '/title/tt0371746/'}, 'author': {'@type': 'Person', 'name': 'darkmax'}, 'dateCreated': '2008-04-30', 'inLanguage': 'English', 'name': 'Not bad at all', 'reviewBody': \"Fortunately, I'm not one easily influenced by some users' negative comments. These people should try to restrain their bias opinions and try to review the movies as neutrally as possible.\\n\\nNow I would say that this movie has slow but steady momentum-building. It is a movie for people who has never known Iron Man in the comic series. The characters are given names and personalities, true to their comic book counterparts.\\n\\nActing was among the best comic-turn movie I have seen so far. Effects were believable and not overwhelmingly CGI, except for the tank scene.\\n\\nThis movie, however, has sequel written all over it. We know that because there are many scenes that could have lead to more.\\n\\nIt's well worth its ticket price.\", 'reviewRating': {'@type': 'Rating', 'worstRating': '1', 'bestRating': '10', 'ratingValue': '9'}}, 'duration': 'PT2H6M', 'trailer': {'@type': 'VideoObject', 'name': 'Iron Man', 'embedUrl': '/video/imdb/vi447873305', 'thumbnail': {'@type': 'ImageObject', 'contentUrl': 'https://m.media-amazon.com/images/M/MV5BZGM4ZGJiM2UtMmYyYi00Y2YzLTk5ZWEtN2ZkNzBlYTczZjQwXkEyXkFqcGdeQUlNRGJWaWRlb1RodW1ibmFpbFNlcnZpY2U@._V1_.jpg'}, 'thumbnailUrl': 'https://m.media-amazon.com/images/M/MV5BZGM4ZGJiM2UtMmYyYi00Y2YzLTk5ZWEtN2ZkNzBlYTczZjQwXkEyXkFqcGdeQUlNRGJWaWRlb1RodW1ibmFpbFNlcnZpY2U@._V1_.jpg', 'description': 'Iron Man trailer', 'uploadDate': '2007-11-21T18:02:03Z'}, 'cast_and_character': [{'actor': {'@type': 'Person', 'url': '/name/nm0000375/?ref_=tt_cl_t1', 'name': 'Robert Downey Jr.'}, 'character_and_episodes': [{'url': '/title/tt0371746/characters/nm0000375?ref_=tt_cl_t1', 'name': 'Tony Stark'}]}, {'actor': {'@type': 'Person', 'url': '/name/nm0000313/?ref_=tt_cl_t3', 'name': 'Jeff Bridges'}, 'character_and_episodes': [{'url': '/title/tt0371746/characters/nm0000313?ref_=tt_cl_t3', 'name': 'Obadiah Stane'}]}, {'actor': {'@type': 'Person', 'url': '/name/nm0004753/?ref_=tt_cl_t5', 'name': 'Leslie Bibb'}, 'character_and_episodes': [{'url': '/title/tt0371746/characters/nm0004753?ref_=tt_cl_t5', 'name': 'Christine Everhart'}]}, {'actor': {'@type': 'Person', 'url': '/name/nm0846687/?ref_=tt_cl_t7', 'name': 'Faran Tahir'}, 'character_and_episodes': [{'url': '/title/tt0371746/characters/nm0846687?ref_=tt_cl_t7', 'name': 'Raza'}]}, {'actor': {'@type': 'Person', 'url': '/name/nm0810488/?ref_=tt_cl_t9', 'name': 'Bill Smitrovich'}, 'character_and_episodes': [{'url': '/title/tt0371746/characters/nm0810488?ref_=tt_cl_t9', 'name': 'General Gabriel'}]}, {'actor': {'@type': 'Person', 'url': '/name/nm0079273/?ref_=tt_cl_t11', 'name': 'Paul Bettany'}, 'character_and_episodes': [{'url': '/title/tt0371746/characters/nm0079273?ref_=tt_cl_t11', 'name': 'JARVIS'}]}, {'actor': {'@type': 'Person', 'url': '/name/nm0082526/?ref_=tt_cl_t13', 'name': 'Peter Billingsley'}, 'character_and_episodes': [{'url': '/title/tt0371746/characters/nm0082526?ref_=tt_cl_t13', 'name': 'William Ginter Riva'}]}, {'actor': {'@type': 'Person', 'url': '/name/nm0528164/?ref_=tt_cl_t15', 'name': 'Will Lyman'}, 'character_and_episodes': [{'url': '/title/tt0371746/characters/nm0528164?ref_=tt_cl_t15', 'name': 'Award Ceremony Narrator'}]}, {'actor': {'@type': 'Person', 'url': '/name/nm0005024/?ref_=tt_cl_t2', 'name': 'Terrence Howard'}, 'character_and_episodes': [{'url': '/title/tt0371746/characters/nm0005024?ref_=tt_cl_t2', 'name': 'Rhodey'}]}, {'actor': {'@type': 'Person', 'url': '/name/nm0000569/?ref_=tt_cl_t4', 'name': 'Gwyneth Paltrow'}, 'character_and_episodes': [{'url': '/title/tt0371746/characters/nm0000569?ref_=tt_cl_t4', 'name': 'Pepper Potts'}]}, {'actor': {'@type': 'Person', 'url': '/name/nm0869467/?ref_=tt_cl_t6', 'name': 'Shaun Toub'}, 'character_and_episodes': [{'url': '/title/tt0371746/characters/nm0869467?ref_=tt_cl_t6', 'name': 'Yinsen'}]}, {'actor': {'@type': 'Person', 'url': '/name/nm0163988/?ref_=tt_cl_t8', 'name': 'Clark Gregg'}, 'character_and_episodes': [{'url': '/title/tt0371746/characters/nm0163988?ref_=tt_cl_t8', 'name': 'Agent Coulson'}]}, {'actor': {'@type': 'Person', 'url': '/name/nm0046223/?ref_=tt_cl_t10', 'name': 'Sayed Badreya'}, 'character_and_episodes': [{'url': '/title/tt0371746/characters/nm0046223?ref_=tt_cl_t10', 'name': 'Abu Bakaar'}]}, {'actor': {'@type': 'Person', 'url': '/name/nm0269463/?ref_=tt_cl_t12', 'name': 'Jon Favreau'}, 'character_and_episodes': [{'url': '/title/tt0371746/characters/nm0269463?ref_=tt_cl_t12', 'name': 'Hogan'}]}, {'actor': {'@type': 'Person', 'url': '/name/nm0347375/?ref_=tt_cl_t14', 'name': 'Tim Guinee'}, 'character_and_episodes': [{'url': '/title/tt0371746/characters/nm0347375?ref_=tt_cl_t14', 'name': 'Major Allen'}]}], 'details': {'Country': ['USA', 'Canada'], 'Language': ['English', 'Persian', 'Urdu', 'Arabic', 'Kurdish', 'Hindi', 'Hungarian'], 'Release Date': ['2 May 2008 (USA)'], 'Also Known As': ['Ironman'], 'Filming Locations': ['Palmdale Regional Airport, Palmdale, California, USA'], 'Budget': ['$140,000,000', '(estimated)'], 'Opening Weekend USA': ['$98,618,668,', '4 May 2008'], 'Gross USA': ['$319,034,126'], 'Cumulative Worldwide Gross': ['$585,796,247'], 'Production Co': ['Paramount Pictures', 'Marvel Enterprises', 'Marvel Studios'], 'Runtime': ['126 min'], 'Sound Mix': ['SDDS', 'Dolby Digital', 'DTS', 'Dolby Atmos'], 'Aspect Ratio': ['2.39 : 1']}, 'imdb_id': 'tt0371746'}\n"
     ]
    }
   ],
   "source": [
    "for movie in movie_collection.find({'imdb_id': 'tt0371746'}).limit(5):\n",
    "    print(movie)"
   ]
  },
  {
   "cell_type": "code",
   "execution_count": 5,
   "metadata": {},
   "outputs": [
    {
     "output_type": "execute_result",
     "data": {
      "text/plain": [
       "205951"
      ]
     },
     "metadata": {},
     "execution_count": 5
    }
   ],
   "source": [
    "movie_collection.count_documents({})"
   ]
  },
  {
   "cell_type": "code",
   "execution_count": null,
   "metadata": {},
   "outputs": [],
   "source": []
  }
 ]
}