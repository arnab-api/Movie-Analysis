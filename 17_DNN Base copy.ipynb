{
 "cells": [
  {
   "cell_type": "code",
   "execution_count": 1,
   "metadata": {},
   "outputs": [],
   "source": [
    "import json\n",
    "import numpy as np\n",
    "import pandas as pd\n",
    "import seaborn as sn\n",
    "from sklearn.model_selection import train_test_split\n",
    "import matplotlib.pyplot as plt\n",
    "from sklearn import datasets, svm, metrics\n",
    "import copy"
   ]
  },
  {
   "cell_type": "code",
   "execution_count": 2,
   "metadata": {},
   "outputs": [],
   "source": [
    "with open(\"SavedFeatures/final_feature_vector.json\", 'r') as f:\n",
    "    XY = json.load(f)"
   ]
  },
  {
   "cell_type": "code",
   "execution_count": 3,
   "metadata": {},
   "outputs": [],
   "source": [
    "# XY[0]"
   ]
  },
  {
   "cell_type": "code",
   "execution_count": 4,
   "metadata": {},
   "outputs": [],
   "source": [
    "# XY[1]"
   ]
  },
  {
   "cell_type": "code",
   "execution_count": 5,
   "metadata": {},
   "outputs": [
    {
     "name": "stdout",
     "output_type": "stream",
     "text": [
      "--- to 50000000 :: 0\n",
      "50000000 to 100000000 :: 1\n",
      "100000000 to 150000000 :: 2\n",
      "150000000 to 200000000 :: 3\n",
      "200000000 to 250000000 :: 4\n",
      "250000000 to 300000000 :: 5\n",
      "300000000 to +++ :: 6\n"
     ]
    }
   ],
   "source": [
    "step = 50000000\n",
    "lo = 0\n",
    "clss = 0\n",
    "num_classes = 7\n",
    "\n",
    "while(lo < step*(num_classes-1) + 1):\n",
    "    hi = lo + step\n",
    "    lo_txt = lo\n",
    "    hi_txt = hi\n",
    "    if(lo_txt == 0):\n",
    "        lo_txt = '---'\n",
    "    if(lo_txt == step*(num_classes-1)):\n",
    "        hi_txt = '+++'\n",
    "    print('{} to {} :: {}'.format(lo_txt, hi_txt, clss))\n",
    "\n",
    "    clss += 1\n",
    "    lo += step"
   ]
  },
  {
   "cell_type": "code",
   "execution_count": 6,
   "metadata": {},
   "outputs": [
    {
     "data": {
      "text/plain": [
       "8181"
      ]
     },
     "execution_count": 6,
     "metadata": {},
     "output_type": "execute_result"
    }
   ],
   "source": [
    "len(XY)"
   ]
  },
  {
   "cell_type": "code",
   "execution_count": 7,
   "metadata": {},
   "outputs": [],
   "source": [
    "def getClass(revenue):\n",
    "    clss = revenue//step\n",
    "    return min(clss, num_classes-1)"
   ]
  },
  {
   "cell_type": "code",
   "execution_count": 8,
   "metadata": {},
   "outputs": [
    {
     "data": {
      "text/plain": [
       "{0: 200, 1: 200, 2: 200, 3: 200, 4: 200, 5: 177, 6: 200}"
      ]
     },
     "execution_count": 8,
     "metadata": {},
     "output_type": "execute_result"
    }
   ],
   "source": [
    "xrr = []\n",
    "yrr = []\n",
    "frq_dst = {}\n",
    "thresh = 200\n",
    "\n",
    "for i in range(num_classes):\n",
    "    frq_dst[i] = 0\n",
    "\n",
    "for xy in XY:\n",
    "    clss = getClass(xy['target'])\n",
    "    if(thresh != -1 and frq_dst[clss] >= thresh):\n",
    "        continue\n",
    "    xrr.append(xy['feature'])\n",
    "    yrr.append(clss)\n",
    "    frq_dst[clss] += 1\n",
    "frq_dst"
   ]
  },
  {
   "cell_type": "code",
   "execution_count": 9,
   "metadata": {},
   "outputs": [],
   "source": [
    "# xrr[0], xrr[1]"
   ]
  },
  {
   "cell_type": "markdown",
   "metadata": {},
   "source": [
    "# Normalize"
   ]
  },
  {
   "cell_type": "code",
   "execution_count": 10,
   "metadata": {},
   "outputs": [
    {
     "data": {
      "text/plain": [
       "178"
      ]
     },
     "execution_count": 10,
     "metadata": {},
     "output_type": "execute_result"
    }
   ],
   "source": [
    "mxrr = np.zeros(len(xrr[1]))\n",
    "len(mxrr)"
   ]
  },
  {
   "cell_type": "code",
   "execution_count": 11,
   "metadata": {},
   "outputs": [],
   "source": [
    "for feature in xrr:\n",
    "    for i in range(len(feature)):\n",
    "        mxrr[i] = max(mxrr[i], feature[i])"
   ]
  },
  {
   "cell_type": "code",
   "execution_count": 12,
   "metadata": {},
   "outputs": [],
   "source": [
    "mnrr = copy.deepcopy(mxrr)\n",
    "\n",
    "for feature in xrr:\n",
    "    for i in range(len(feature)):\n",
    "        mnrr[i] = min(mnrr[i], feature[i])"
   ]
  },
  {
   "cell_type": "code",
   "execution_count": 13,
   "metadata": {},
   "outputs": [],
   "source": [
    "# mxrr"
   ]
  },
  {
   "cell_type": "code",
   "execution_count": 14,
   "metadata": {},
   "outputs": [],
   "source": [
    "# mnrr"
   ]
  },
  {
   "cell_type": "code",
   "execution_count": 15,
   "metadata": {},
   "outputs": [
    {
     "data": {
      "text/plain": [
       "(178, 1377)"
      ]
     },
     "execution_count": 15,
     "metadata": {},
     "output_type": "execute_result"
    }
   ],
   "source": [
    "(len(xrr[0]) , len(xrr))"
   ]
  },
  {
   "cell_type": "code",
   "execution_count": 16,
   "metadata": {},
   "outputs": [],
   "source": [
    "nxrr = np.zeros( (len(xrr) , len(xrr[0])) )\n",
    "\n",
    "for i in range(len(xrr)):\n",
    "#     print(i)\n",
    "    for j in range(len(xrr[i])):\n",
    "        if(mxrr[j]-mnrr[j] != 0): \n",
    "            nxrr[i][j]= (xrr[i][j] - mnrr[j]) / (mxrr[j] - mnrr[j])\n",
    "#             print(i, j, nxrr[i][j])\n",
    "#     if(i == 3):\n",
    "#         break"
   ]
  },
  {
   "cell_type": "code",
   "execution_count": 17,
   "metadata": {},
   "outputs": [
    {
     "data": {
      "text/plain": [
       "(272987802, 190053769)"
      ]
     },
     "execution_count": 17,
     "metadata": {},
     "output_type": "execute_result"
    }
   ],
   "source": [
    "xrr[0][0],xrr[1][0]"
   ]
  },
  {
   "cell_type": "code",
   "execution_count": 18,
   "metadata": {},
   "outputs": [
    {
     "data": {
      "text/plain": [
       "(0.7574626453164661, 0.5273292993370051)"
      ]
     },
     "execution_count": 18,
     "metadata": {},
     "output_type": "execute_result"
    }
   ],
   "source": [
    "nxrr[0][0], nxrr[1][0]"
   ]
  },
  {
   "cell_type": "code",
   "execution_count": 19,
   "metadata": {},
   "outputs": [
    {
     "data": {
      "text/plain": [
       "((1377, 178), (1377, 178), (1377,))"
      ]
     },
     "execution_count": 19,
     "metadata": {},
     "output_type": "execute_result"
    }
   ],
   "source": [
    "xrr = np.array(xrr)\n",
    "nxrr = np.array(nxrr)\n",
    "yrr = np.array(yrr)\n",
    "\n",
    "xrr.shape, nxrr.shape, yrr.shape"
   ]
  },
  {
   "cell_type": "markdown",
   "metadata": {},
   "source": [
    "# Train-test split"
   ]
  },
  {
   "cell_type": "code",
   "execution_count": 20,
   "metadata": {},
   "outputs": [],
   "source": [
    "# def turnIntoOrdinalOnehot(clss):\n",
    "#     one_hot = [0]*num_classes\n",
    "#     for i in range(clss+1):\n",
    "#         one_hot[i] = 1\n",
    "#     return one_hot"
   ]
  },
  {
   "cell_type": "code",
   "execution_count": 21,
   "metadata": {},
   "outputs": [],
   "source": [
    "# def turnIntoOrdinalOnehot__Vector(labels):\n",
    "#     onehot_vec = []\n",
    "#     for i in range(len(labels)):\n",
    "#         onehot_vec.append(turnIntoOrdinalOnehot(labels[i]))\n",
    "#     return np.array(onehot_vec)"
   ]
  },
  {
   "cell_type": "code",
   "execution_count": 22,
   "metadata": {},
   "outputs": [],
   "source": [
    "X_train, X_test, y_train, y_test = train_test_split(nxrr, yrr, test_size=0.30, random_state=17)\n",
    "y_train_trans = y_train.reshape(-1, 1)\n",
    "y_test_trans = y_test.reshape(-1, 1)\n",
    "# y_train_tarns = turnIntoOrdinalOnehot__Vector(y_train)"
   ]
  },
  {
   "cell_type": "code",
   "execution_count": 23,
   "metadata": {},
   "outputs": [],
   "source": [
    "# turnIntoOrdinalOnehot(y_train[2])"
   ]
  },
  {
   "cell_type": "code",
   "execution_count": 24,
   "metadata": {},
   "outputs": [],
   "source": [
    "# turnIntoOrdinalOnehot__Vector([0,1,2,3])"
   ]
  },
  {
   "cell_type": "code",
   "execution_count": 25,
   "metadata": {},
   "outputs": [
    {
     "data": {
      "text/plain": [
       "(array([2]), 2)"
      ]
     },
     "execution_count": 25,
     "metadata": {},
     "output_type": "execute_result"
    }
   ],
   "source": [
    "y_train_trans[10], y_train[10]"
   ]
  },
  {
   "cell_type": "code",
   "execution_count": 26,
   "metadata": {},
   "outputs": [
    {
     "data": {
      "text/plain": [
       "((963, 178), (963,), (963, 1))"
      ]
     },
     "execution_count": 26,
     "metadata": {},
     "output_type": "execute_result"
    }
   ],
   "source": [
    "X_train.shape, y_train.shape, y_train_trans.shape"
   ]
  },
  {
   "cell_type": "code",
   "execution_count": 27,
   "metadata": {},
   "outputs": [
    {
     "data": {
      "text/plain": [
       "((414, 178), (414,), (414, 1))"
      ]
     },
     "execution_count": 27,
     "metadata": {},
     "output_type": "execute_result"
    }
   ],
   "source": [
    "X_test.shape, y_test.shape, y_test_trans.shape"
   ]
  },
  {
   "cell_type": "code",
   "execution_count": 28,
   "metadata": {},
   "outputs": [
    {
     "data": {
      "text/plain": [
       "OneHotEncoder()"
      ]
     },
     "execution_count": 28,
     "metadata": {},
     "output_type": "execute_result"
    }
   ],
   "source": [
    "from sklearn import preprocessing\n",
    "\n",
    "onehot = preprocessing.OneHotEncoder()\n",
    "onehot.fit(y_train_trans)"
   ]
  },
  {
   "cell_type": "code",
   "execution_count": 29,
   "metadata": {},
   "outputs": [],
   "source": [
    "y_train_ohe = onehot.transform(y_train_trans).toarray()\n",
    "y_test_ohe = onehot.transform(y_test_trans).toarray()"
   ]
  },
  {
   "cell_type": "code",
   "execution_count": 30,
   "metadata": {},
   "outputs": [
    {
     "data": {
      "text/plain": [
       "((963, 7), (414, 7))"
      ]
     },
     "execution_count": 30,
     "metadata": {},
     "output_type": "execute_result"
    }
   ],
   "source": [
    "y_train_ohe.shape, y_test_ohe.shape"
   ]
  },
  {
   "cell_type": "code",
   "execution_count": 31,
   "metadata": {},
   "outputs": [
    {
     "data": {
      "text/plain": [
       "(4, array([4]))"
      ]
     },
     "execution_count": 31,
     "metadata": {},
     "output_type": "execute_result"
    }
   ],
   "source": [
    "idx = 100\n",
    "y_train[idx], y_train_trans[idx]"
   ]
  },
  {
   "cell_type": "markdown",
   "metadata": {},
   "source": [
    "# DNN"
   ]
  },
  {
   "cell_type": "code",
   "execution_count": 32,
   "metadata": {},
   "outputs": [],
   "source": [
    "# mlp for multiclass classification\n",
    "from numpy import argmax\n",
    "from pandas import read_csv\n",
    "from sklearn.model_selection import train_test_split\n",
    "from sklearn.preprocessing import LabelEncoder\n",
    "from tensorflow.keras import Sequential\n",
    "from tensorflow.keras.layers import Dense\n",
    "# load the dataset"
   ]
  },
  {
   "cell_type": "code",
   "execution_count": null,
   "metadata": {},
   "outputs": [],
   "source": [
    "n_features = X_train.shape[1]\n",
    "# define model\n",
    "model = Sequential()\n",
    "model.add(Dense(100, activation='relu', kernel_initializer='he_normal', input_shape=(n_features,)))\n",
    "model.add(Dense(50, activation='relu', kernel_initializer='he_normal'))\n",
    "model.add(Dense(num_classes, activation='softmax'))"
   ]
  },
  {
   "cell_type": "code",
   "execution_count": null,
   "metadata": {},
   "outputs": [],
   "source": [
    "# compile the model\n",
    "model.compile(optimizer='adam', loss='categorical_crossentropy', metrics=['accuracy'])\n",
    "# fit the model\n",
    "model.fit(X_train, y_train_ohe, epochs=15, batch_size=32, verbose=1)"
   ]
  },
  {
   "cell_type": "code",
   "execution_count": 131,
   "metadata": {},
   "outputs": [
    {
     "name": "stdout",
     "output_type": "stream",
     "text": [
      "Test Accuracy: 0.654\n"
     ]
    }
   ],
   "source": [
    "# evaluate the model\n",
    "loss, acc = model.evaluate(X_test, y_test, verbose=0)\n",
    "print('Test Accuracy: %.3f' % acc)"
   ]
  },
  {
   "cell_type": "code",
   "execution_count": 141,
   "metadata": {},
   "outputs": [
    {
     "name": "stdout",
     "output_type": "stream",
     "text": [
      "Predicted: [[0.8260617  0.08665932 0.02342774 0.03320596 0.00632719 0.00774037\n",
      "  0.01657777]] (class=0)\n"
     ]
    }
   ],
   "source": [
    "row = np.array([X_test[10]])\n",
    "yhat = model.predict(row)\n",
    "print('Predicted: %s (class=%d)' % (yhat, argmax(yhat)))"
   ]
  },
  {
   "cell_type": "code",
   "execution_count": 133,
   "metadata": {},
   "outputs": [],
   "source": [
    "def getConfusionMatrix(target, predicted):\n",
    "    classes = sorted(list(set(target)))\n",
    "    matrix = {}\n",
    "    for c in classes:\n",
    "        matrix[c] = {}\n",
    "        for cc in classes:\n",
    "            matrix[c][cc] = 0\n",
    "    for i in range(len(target)):\n",
    "        t = target[i]\n",
    "        p = predicted[i]\n",
    "\n",
    "        matrix[t][p] += 1\n",
    "    \n",
    "    return matrix"
   ]
  },
  {
   "cell_type": "code",
   "execution_count": 138,
   "metadata": {},
   "outputs": [],
   "source": [
    "def plotMatrix(dct2D):\n",
    "    # print(dct2D)\n",
    "    arr2D = []\n",
    "    for ik in dct2D:\n",
    "        arr1D = []\n",
    "        for jk in dct2D[ik]:\n",
    "            arr1D.append(dct2D[ik][jk])\n",
    "        arr2D.append(arr1D)\n",
    "    df_cm = pd.DataFrame(arr2D, index = list(dct2D.keys()),\n",
    "                  columns = list(dct2D.keys()))\n",
    "    plt.figure(figsize = (20,14))\n",
    "    sn.heatmap(df_cm, annot=True)\n",
    "    plt.show()"
   ]
  },
  {
   "cell_type": "code",
   "execution_count": 135,
   "metadata": {},
   "outputs": [],
   "source": [
    "def getPrediction(model, X_test):\n",
    "    pred = model.predict(X_test)\n",
    "    y_hat = []\n",
    "    for i in range(len(pred)):\n",
    "        y_hat.append(np.argmax(pred[i]))\n",
    "    return y_hat"
   ]
  },
  {
   "cell_type": "code",
   "execution_count": 136,
   "metadata": {},
   "outputs": [],
   "source": [
    "matrix = getConfusionMatrix(y_test, getPrediction(model, X_test))"
   ]
  },
  {
   "cell_type": "code",
   "execution_count": 139,
   "metadata": {},
   "outputs": [
    {
     "data": {
      "image/png": "[encoded data removed]",
      "text/plain": [
       "<Figure size 1440x1008 with 2 Axes>"
      ]
     },
     "metadata": {
      "needs_background": "light"
     },
     "output_type": "display_data"
    }
   ],
   "source": [
    "plotMatrix(matrix)"
   ]
  },
  {
   "cell_type": "markdown",
   "metadata": {},
   "source": [
    "# Ordinal Regression (classification) resources\n",
    "\n",
    "https://nbviewer.jupyter.org/github/fabianp/minirank/blob/master/notebooks/comparison_ordinal_logistic.ipynb\n",
    "https://stackoverflow.com/questions/57561189/multi-class-multi-label-ordinal-classification-with-sklearn\n",
    "https://www.ethanrosenthal.com/2018/12/06/spacecutter-ordinal-regression/\n",
    "http://fa.bianp.net/blog/tag/ordinal-regression.html\n",
    "https://www.statsmodels.org/devel/examples/notebooks/generated/ordinal_regression.html\n",
    "https://pythonhosted.org/mord/\n",
    "https://pypi.org/project/coral-ordinal/\n",
    "https://github.com/sarvothaman/ordinal-classification"
   ]
  },
  {
   "cell_type": "code",
   "execution_count": null,
   "metadata": {},
   "outputs": [],
   "source": []
  }
 ],
 "metadata": {
  "kernelspec": {
   "display_name": "Python 3",
   "language": "python",
   "name": "python3"
  },
  "language_info": {
   "codemirror_mode": {
    "name": "ipython",
    "version": 3
   },
   "file_extension": ".py",
   "mimetype": "text/x-python",
   "name": "python",
   "nbconvert_exporter": "python",
   "pygments_lexer": "ipython3",
   "version": "3.7.9"
  }
 },
 "nbformat": 4,
 "nbformat_minor": 2
}
