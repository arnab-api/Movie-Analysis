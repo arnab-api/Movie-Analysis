{
 "cells": [
  {
   "cell_type": "code",
   "execution_count": 2,
   "id": "6b986f22",
   "metadata": {},
   "outputs": [],
   "source": [
    "import os\n",
    "import json\n",
    "import plotly.graph_objects as go\n",
    "from plotly.subplots import make_subplots\n",
    "import cpi\n",
    "# cpi.update()\n",
    "# import pymongo\n",
    "from tqdm import tqdm\n",
    "root = \"../Dataset/IMDB/\"\n",
    "summary_path = 'IMDB_SUMMARY/SUMMARY_DATA/'\n",
    "movie_path = 'MOVIES/'"
   ]
  },
  {
   "cell_type": "code",
   "execution_count": 4,
   "id": "b3a25e3e",
   "metadata": {},
   "outputs": [],
   "source": [
    "limit = 50000"
   ]
  },
  {
   "cell_type": "markdown",
   "id": "add0d87b",
   "metadata": {},
   "source": [
    "#### load summary"
   ]
  },
  {
   "cell_type": "code",
   "execution_count": 5,
   "id": "d1fa9b1e",
   "metadata": {},
   "outputs": [
    {
     "output_type": "stream",
     "name": "stderr",
     "text": [
      "100%|██████████| 200/200 [00:02<00:00, 69.30it/s]\n"
     ]
    }
   ],
   "source": [
    "summary = []\n",
    "\n",
    "for frm in tqdm(range(1, limit, 250)):\n",
    "    file_name = '{} - {}.json'.format(frm, frm+250-1)\n",
    "    with open(root + summary_path + file_name, 'r') as f:\n",
    "        cur_file = json.load(f)\n",
    "    summary = summary + cur_file"
   ]
  },
  {
   "cell_type": "code",
   "execution_count": 6,
   "id": "6ed77db5",
   "metadata": {},
   "outputs": [
    {
     "output_type": "execute_result",
     "data": {
      "text/plain": [
       "50000"
      ]
     },
     "metadata": {},
     "execution_count": 6
    }
   ],
   "source": [
    "len(summary)"
   ]
  },
  {
   "cell_type": "code",
   "execution_count": 7,
   "metadata": {},
   "outputs": [
    {
     "output_type": "execute_result",
     "data": {
      "text/plain": [
       "{'link': '/title/tt1570728/?ref_=adv_li_tt',\n",
       " 'title': 'Crazy, Stupid, Love.',\n",
       " 'year': '(2011)',\n",
       " 'rating': '7.4',\n",
       " 'meta_score': '68',\n",
       " 'certificate': 'PG-13',\n",
       " 'runtime': '118 min',\n",
       " 'genre': ['Comedy', 'Drama', 'Romance'],\n",
       " 'plot': \"A middle-aged husband's life changes dramatically when his wife asks him for a divorce. He seeks to rediscover his manhood with the help of a newfound friend, Jacob, learning to pick up girls at bars.\",\n",
       " 'Directors': ['Glenn Ficarra', 'John Requa'],\n",
       " 'Stars': ['Steve Carell', 'Ryan Gosling', 'Julianne Moore', 'Emma Stone'],\n",
       " 'Votes': '476,762',\n",
       " 'Gross': '$84.35M'}"
      ]
     },
     "metadata": {},
     "execution_count": 7
    }
   ],
   "source": [
    "summary[150]"
   ]
  },
  {
   "cell_type": "markdown",
   "id": "8908cb2b",
   "metadata": {},
   "source": [
    "#### load movies"
   ]
  },
  {
   "cell_type": "code",
   "execution_count": 8,
   "id": "302ad586",
   "metadata": {},
   "outputs": [],
   "source": [
    "# os.listdir(root + movie_path + '1 - 250/')\n",
    "# with open(root + movies + '1 - 250/' + 'tt9612102__exit.json', 'r') as f:\n",
    "#     movie = json.load(f)\n",
    "# movie"
   ]
  },
  {
   "cell_type": "code",
   "execution_count": 9,
   "id": "da5e0e4f",
   "metadata": {},
   "outputs": [
    {
     "output_type": "stream",
     "name": "stderr",
     "text": [
      "100%|██████████| 200/200 [01:12<00:00,  2.75it/s]\n"
     ]
    }
   ],
   "source": [
    "movie_list = []\n",
    "\n",
    "for frm in tqdm(range(1, limit, 250)):\n",
    "    folder_name = '{} - {}/'.format(frm, frm+250-1)\n",
    "    movie_files = os.listdir(root + movie_path + folder_name)\n",
    "    for file_name in movie_files:\n",
    "        file_path = root + movie_path + folder_name + file_name\n",
    "        with open(file_path, 'r') as f:\n",
    "            cur_movie = json.load(f)\n",
    "        movie_list.append(cur_movie)"
   ]
  },
  {
   "cell_type": "code",
   "execution_count": 9,
   "id": "2b95db3a",
   "metadata": {},
   "outputs": [],
   "source": [
    "# movie_list[113]"
   ]
  },
  {
   "cell_type": "code",
   "execution_count": 14,
   "metadata": {},
   "outputs": [],
   "source": [
    "import copy\n",
    "\n",
    "child_last   = \"└───\"\n",
    "child_middle = \"├───\"\n",
    "space_pre    = \"    \"\n",
    "middle_pre   = \"│   \"\n",
    "def build_tree(obj, key='#', level=0, level_info = {}):\n",
    "    if(level > 0):\n",
    "        for i in range(level-1):\n",
    "            if(level_info[i] == 'last'):\n",
    "                print(space_pre, end=\"\")\n",
    "            else:\n",
    "                print(middle_pre, end=\"\")\n",
    "        if(level_info[level-1] == 'last'):\n",
    "            child_pre = child_last\n",
    "        else:\n",
    "            child_pre = child_middle\n",
    "        print(child_pre, end=\"\")\n",
    "    \n",
    "    if(key != '#'):\n",
    "        print(key, end=\": \")\n",
    "    print(type(obj), end=\" \")\n",
    "    if(type(obj) is list):\n",
    "        print(\"[{}]\".format(len(obj)))\n",
    "    else:\n",
    "        print()\n",
    "    if(type(obj) is dict):\n",
    "        key_arr = list(obj.keys())\n",
    "        for idx in range(len(key_arr)):\n",
    "            li = copy.deepcopy(level_info)\n",
    "            if(idx == len(key_arr)-1):\n",
    "                li[level] = 'last'\n",
    "            else:\n",
    "                li[level] = 'middle'\n",
    "            \n",
    "            key = key_arr[idx]\n",
    "            build_tree(obj[key], key=key, level = level + 1, level_info = li)\n",
    "    elif(type(obj) is list):\n",
    "        li = copy.deepcopy(level_info)\n",
    "        li[level] = 'last'\n",
    "        build_tree(obj[0], key='#', level = level + 1, level_info = li)"
   ]
  },
  {
   "cell_type": "code",
   "execution_count": 13,
   "metadata": {},
   "outputs": [
    {
     "output_type": "stream",
     "name": "stdout",
     "text": [
      "<class 'dict'> \n├───link: <class 'str'> \n├───title: <class 'str'> \n├───year: <class 'str'> \n├───rating: <class 'str'> \n├───meta_score: <class 'str'> \n├───certificate: <class 'str'> \n├───runtime: <class 'str'> \n├───genre: <class 'list'> [3]\n│   └───<class 'str'> \n├───plot: <class 'str'> \n├───Directors: <class 'list'> [2]\n│   └───<class 'str'> \n├───Stars: <class 'list'> [4]\n│   └───<class 'str'> \n├───Votes: <class 'str'> \n└───Gross: <class 'str'> \n"
     ]
    }
   ],
   "source": [
    "build_tree(summary[150])"
   ]
  },
  {
   "source": [
    "# @type"
   ],
   "cell_type": "markdown",
   "metadata": {}
  },
  {
   "cell_type": "code",
   "execution_count": 10,
   "metadata": {},
   "outputs": [],
   "source": [
    "type_dict = {}\n",
    "for movie in movie_list:\n",
    "    __type = movie['@type']\n",
    "    if(__type not in type_dict):\n",
    "        type_dict[__type] = []\n",
    "    type_dict[__type].append(movie)"
   ]
  },
  {
   "cell_type": "code",
   "execution_count": 11,
   "metadata": {},
   "outputs": [
    {
     "output_type": "stream",
     "name": "stdout",
     "text": [
      "TVSeries 11859\nMovie 35785\nCreativeWork 1505\nVideoGame 573\nTVEpisode 11\n"
     ]
    }
   ],
   "source": [
    "for __type in type_dict:\n",
    "    print(__type, len(type_dict[__type]))"
   ]
  },
  {
   "cell_type": "code",
   "execution_count": 12,
   "metadata": {},
   "outputs": [],
   "source": [
    "movie_list = type_dict['Movie']"
   ]
  },
  {
   "cell_type": "code",
   "execution_count": 13,
   "metadata": {},
   "outputs": [
    {
     "output_type": "execute_result",
     "data": {
      "text/plain": [
       "35785"
      ]
     },
     "metadata": {},
     "execution_count": 13
    }
   ],
   "source": [
    "len(movie_list)"
   ]
  },
  {
   "cell_type": "code",
   "execution_count": 16,
   "metadata": {},
   "outputs": [
    {
     "output_type": "execute_result",
     "data": {
      "text/plain": [
       "{'@context': 'http://schema.org',\n",
       " '@type': 'Movie',\n",
       " 'url': '/title/tt0974015/',\n",
       " 'name': 'Justice League',\n",
       " 'image': 'https://m.media-amazon.com/images/M/MV5BYWVhZjZkYTItOGIwYS00NmRkLWJlYjctMWM0ZjFmMDU4ZjEzXkEyXkFqcGdeQXVyMTMxODk2OTU@._V1_.jpg',\n",
       " 'genre': ['Action', 'Adventure', 'Fantasy', 'Sci-Fi'],\n",
       " 'contentRating': 'PG-13',\n",
       " 'actor': [{'@type': 'Person',\n",
       "   'url': '/name/nm0000255/',\n",
       "   'name': 'Ben Affleck'},\n",
       "  {'@type': 'Person', 'url': '/name/nm2933757/', 'name': 'Gal Gadot'},\n",
       "  {'@type': 'Person', 'url': '/name/nm0597388/', 'name': 'Jason Momoa'},\n",
       "  {'@type': 'Person', 'url': '/name/nm3009232/', 'name': 'Ezra Miller'}],\n",
       " 'director': {'@type': 'Person',\n",
       "  'url': '/name/nm0811583/',\n",
       "  'name': 'Zack Snyder'},\n",
       " 'creator': [{'@type': 'Person',\n",
       "   'url': '/name/nm0796950/',\n",
       "   'name': 'Jerry Siegel'},\n",
       "  {'@type': 'Person', 'url': '/name/nm0795975/', 'name': 'Joe Shuster'},\n",
       "  {'@type': 'Person', 'url': '/name/nm0006516/', 'name': 'Chris Terrio'},\n",
       "  {'@type': 'Person', 'url': '/name/nm0811583/', 'name': 'Zack Snyder'},\n",
       "  {'@type': 'Person', 'url': '/name/nm0006516/', 'name': 'Chris Terrio'},\n",
       "  {'@type': 'Person', 'url': '/name/nm0923736/', 'name': 'Joss Whedon'},\n",
       "  {'@type': 'Person', 'url': '/name/nm1189346/', 'name': 'Gardner Fox'},\n",
       "  {'@type': 'Person', 'url': '/name/nm0004170/', 'name': 'Bob Kane'},\n",
       "  {'@type': 'Person', 'url': '/name/nm0277730/', 'name': 'Bill Finger'},\n",
       "  {'@type': 'Person',\n",
       "   'url': '/name/nm0551376/',\n",
       "   'name': 'William Moulton Marston'},\n",
       "  {'@type': 'Person', 'url': '/name/nm0456158/', 'name': 'Jack Kirby'},\n",
       "  {'@type': 'Organization', 'url': '/company/co0002663/'},\n",
       "  {'@type': 'Organization', 'url': '/company/co0430860/'},\n",
       "  {'@type': 'Organization', 'url': '/company/co0283444/'},\n",
       "  {'@type': 'Organization', 'url': '/company/co0028338/'},\n",
       "  {'@type': 'Organization', 'url': '/company/co0199432/'},\n",
       "  {'@type': 'Organization', 'url': '/company/co0016350/'},\n",
       "  {'@type': 'Organization', 'url': '/company/co0499206/'},\n",
       "  {'@type': 'Organization', 'url': '/company/co0147954/'}],\n",
       " 'description': \"Justice League is a movie starring Ben Affleck, Gal Gadot, and Jason Momoa. Fueled by his restored faith in humanity and inspired by Superman's selfless act, Bruce Wayne enlists the help of his new-found ally, Diana Prince, to face...\",\n",
       " 'datePublished': '2017-11-15',\n",
       " 'keywords': 'justice league,superhero team,superhero,dc extended universe,comicbook movie',\n",
       " 'aggregateRating': {'@type': 'AggregateRating',\n",
       "  'ratingCount': 412526,\n",
       "  'bestRating': '10.0',\n",
       "  'worstRating': '1.0',\n",
       "  'ratingValue': '6.2'},\n",
       " 'review': {'@type': 'Review',\n",
       "  'itemReviewed': {'@type': 'CreativeWork', 'url': '/title/tt0974015/'},\n",
       "  'author': {'@type': 'Person', 'name': 'bajackman'},\n",
       "  'dateCreated': '2021-03-19',\n",
       "  'inLanguage': 'English',\n",
       "  'name': 'I Really Liked It',\n",
       "  'reviewBody': \"Great movie as a stand alone but not in keeping with man of steel or BvS DC aren't building their characters the way Marvel did sadly\",\n",
       "  'reviewRating': {'@type': 'Rating',\n",
       "   'worstRating': '1',\n",
       "   'bestRating': '10',\n",
       "   'ratingValue': '5'}},\n",
       " 'duration': 'PT2H',\n",
       " 'trailer': {'@type': 'VideoObject',\n",
       "  'name': 'Justice League Trailer',\n",
       "  'embedUrl': '/video/imdb/vi2454436121',\n",
       "  'thumbnail': {'@type': 'ImageObject',\n",
       "   'contentUrl': 'https://m.media-amazon.com/images/M/MV5BNmFhZmFlMGEtMjRjZS00MDUyLTllNWEtNzhhZGZjZTAwZjRiXkEyXkFqcGdeQUlNRGJWaWRlb1RodW1ibmFpbFNlcnZpY2U@._V1_.jpg'},\n",
       "  'thumbnailUrl': 'https://m.media-amazon.com/images/M/MV5BNmFhZmFlMGEtMjRjZS00MDUyLTllNWEtNzhhZGZjZTAwZjRiXkEyXkFqcGdeQUlNRGJWaWRlb1RodW1ibmFpbFNlcnZpY2U@._V1_.jpg',\n",
       "  'description': 'Extended Trailer',\n",
       "  'uploadDate': '2017-11-04T00:05:17Z'},\n",
       " 'cast_and_character': [{'actor': {'@type': 'Person',\n",
       "    'url': '/name/nm0000255/?ref_=tt_cl_t1',\n",
       "    'name': 'Ben Affleck'},\n",
       "   'character_and_episodes': [{'url': '/title/tt0974015/characters/nm0000255?ref_=tt_cl_t1',\n",
       "     'name': 'Batman'},\n",
       "    {'url': '/title/tt0974015/characters/nm0000255?ref_=tt_cl_t1',\n",
       "     'name': 'Bruce Wayne'}]},\n",
       "  {'actor': {'@type': 'Person',\n",
       "    'url': '/name/nm0010736/?ref_=tt_cl_t3',\n",
       "    'name': 'Amy Adams'},\n",
       "   'character_and_episodes': [{'url': '/title/tt0974015/characters/nm0010736?ref_=tt_cl_t3',\n",
       "     'name': 'Lois Lane'}]},\n",
       "  {'actor': {'@type': 'Person',\n",
       "    'url': '/name/nm3009232/?ref_=tt_cl_t5',\n",
       "    'name': 'Ezra Miller'},\n",
       "   'character_and_episodes': [{'url': '/title/tt0974015/characters/nm3009232?ref_=tt_cl_t5',\n",
       "     'name': 'The Flash'},\n",
       "    {'url': '/title/tt0974015/characters/nm3009232?ref_=tt_cl_t5',\n",
       "     'name': 'Barry Allen'}]},\n",
       "  {'actor': {'@type': 'Person',\n",
       "    'url': '/name/nm3570321/?ref_=tt_cl_t7',\n",
       "    'name': 'Ray Fisher'},\n",
       "   'character_and_episodes': [{'url': '/title/tt0974015/characters/nm3570321?ref_=tt_cl_t7',\n",
       "     'name': 'Cyborg'},\n",
       "    {'url': '/title/tt0974015/characters/nm3570321?ref_=tt_cl_t7',\n",
       "     'name': 'Victor Stone'}]},\n",
       "  {'actor': {'@type': 'Person',\n",
       "    'url': '/name/nm0000178/?ref_=tt_cl_t9',\n",
       "    'name': 'Diane Lane'},\n",
       "   'character_and_episodes': [{'url': '/title/tt0974015/characters/nm0000178?ref_=tt_cl_t9',\n",
       "     'name': 'Martha Kent'}]},\n",
       "  {'actor': {'@type': 'Person',\n",
       "    'url': '/name/nm0799777/?ref_=tt_cl_t11',\n",
       "    'name': 'J.K. Simmons'},\n",
       "   'character_and_episodes': [{'url': '/title/tt0974015/characters/nm0799777?ref_=tt_cl_t11',\n",
       "     'name': 'Commissioner Gordon'}]},\n",
       "  {'actor': {'@type': 'Person',\n",
       "    'url': '/name/nm1720028/?ref_=tt_cl_t13',\n",
       "    'name': 'Amber Heard'},\n",
       "   'character_and_episodes': [{'url': '/title/tt0974015/characters/nm1720028?ref_=tt_cl_t13',\n",
       "     'name': 'Mera'}]},\n",
       "  {'actor': {'@type': 'Person',\n",
       "    'url': '/name/nm2966840/?ref_=tt_cl_t15',\n",
       "    'name': 'Lisa Loven Kongsli'},\n",
       "   'character_and_episodes': [{'url': '/title/tt0974015/characters/nm2966840?ref_=tt_cl_t15',\n",
       "     'name': 'Menalippe'}]},\n",
       "  {'actor': {'@type': 'Person',\n",
       "    'url': '/name/nm0147147/?ref_=tt_cl_t2',\n",
       "    'name': 'Henry Cavill'},\n",
       "   'character_and_episodes': [{'url': '/title/tt0974015/characters/nm0147147?ref_=tt_cl_t2',\n",
       "     'name': 'Superman'},\n",
       "    {'url': '/title/tt0974015/characters/nm0147147?ref_=tt_cl_t2',\n",
       "     'name': 'Clark Kent'}]},\n",
       "  {'actor': {'@type': 'Person',\n",
       "    'url': '/name/nm2933757/?ref_=tt_cl_t4',\n",
       "    'name': 'Gal Gadot'},\n",
       "   'character_and_episodes': [{'url': '/title/tt0974015/characters/nm2933757?ref_=tt_cl_t4',\n",
       "     'name': 'Wonder Woman'},\n",
       "    {'url': '/title/tt0974015/characters/nm2933757?ref_=tt_cl_t4',\n",
       "     'name': 'Diana Prince'}]},\n",
       "  {'actor': {'@type': 'Person',\n",
       "    'url': '/name/nm0597388/?ref_=tt_cl_t6',\n",
       "    'name': 'Jason Momoa'},\n",
       "   'character_and_episodes': [{'url': '/title/tt0974015/characters/nm0597388?ref_=tt_cl_t6',\n",
       "     'name': 'Aquaman'},\n",
       "    {'url': '/title/tt0974015/characters/nm0597388?ref_=tt_cl_t6',\n",
       "     'name': 'Arthur Curry'}]},\n",
       "  {'actor': {'@type': 'Person',\n",
       "    'url': '/name/nm0000460/?ref_=tt_cl_t8',\n",
       "    'name': 'Jeremy Irons'},\n",
       "   'character_and_episodes': [{'url': '/title/tt0974015/characters/nm0000460?ref_=tt_cl_t8',\n",
       "     'name': 'Alfred'}]},\n",
       "  {'actor': {'@type': 'Person',\n",
       "    'url': '/name/nm0001567/?ref_=tt_cl_t10',\n",
       "    'name': 'Connie Nielsen'},\n",
       "   'character_and_episodes': [{'url': '/title/tt0974015/characters/nm0001567?ref_=tt_cl_t10',\n",
       "     'name': 'Queen Hippolyta'}]},\n",
       "  {'actor': {'@type': 'Person',\n",
       "    'url': '/name/nm0001354/?ref_=tt_cl_t12',\n",
       "    'name': 'Ciarán Hinds'},\n",
       "   'character_and_episodes': [{'url': '/title/tt0974015/characters/nm0001354?ref_=tt_cl_t12',\n",
       "     'name': 'Steppenwolf'}]},\n",
       "  {'actor': {'@type': 'Person',\n",
       "    'url': '/name/nm0608012/?ref_=tt_cl_t14',\n",
       "    'name': 'Joe Morton'},\n",
       "   'character_and_episodes': [{'url': '/title/tt0974015/characters/nm0608012?ref_=tt_cl_t14',\n",
       "     'name': 'Silas Stone'}]}],\n",
       " 'details': {'Country': ['USA', 'Canada', 'UK'],\n",
       "  'Language': ['Irish', 'Russian', 'Icelandic', 'English'],\n",
       "  'Release Date': ['17 November 2017 (USA)'],\n",
       "  'Also Known As': ['Justice League of America'],\n",
       "  'Filming Locations': ['Leavesden Studios, Leavesden, Hertfordshire, England, UK'],\n",
       "  'Budget': ['$300,000,000', '(estimated)'],\n",
       "  'Opening Weekend USA': ['$93,842,239,', '19 November 2017'],\n",
       "  'Gross USA': ['$229,024,295'],\n",
       "  'Cumulative Worldwide Gross': ['$657,926,987'],\n",
       "  'Production Co': ['Warner Bros.',\n",
       "   'RatPac Entertainment',\n",
       "   'DC Entertainment'],\n",
       "  'Runtime': ['120 min'],\n",
       "  'Sound Mix': ['Dolby Digital',\n",
       "   '12-Track Digital Sound',\n",
       "   'Dolby Atmos',\n",
       "   'DTS',\n",
       "   '(DTS: X)',\n",
       "   'IMAX 6-Track',\n",
       "   'Sonics-DDP',\n",
       "   'Auro 11.1'],\n",
       "  'Aspect Ratio': ['1.78 : 1']}}"
      ]
     },
     "metadata": {},
     "execution_count": 16
    }
   ],
   "source": [
    "movie_list[10]"
   ]
  },
  {
   "cell_type": "code",
   "execution_count": 21,
   "metadata": {},
   "outputs": [
    {
     "output_type": "stream",
     "name": "stdout",
     "text": [
      "<class 'dict'> \n├───@context: <class 'str'> \n├───@type: <class 'str'> \n├───url: <class 'str'> \n├───name: <class 'str'> \n├───image: <class 'str'> \n├───genre: <class 'list'> [5]\n│   └───<class 'str'> \n├───contentRating: <class 'str'> \n├───actor: <class 'list'> [4]\n│   └───<class 'dict'> \n│       ├───@type: <class 'str'> \n│       ├───url: <class 'str'> \n│       └───name: <class 'str'> \n├───director: <class 'dict'> \n│   ├───@type: <class 'str'> \n│   ├───url: <class 'str'> \n│   └───name: <class 'str'> \n├───creator: <class 'list'> [12]\n│   └───<class 'dict'> \n│       ├───@type: <class 'str'> \n│       ├───url: <class 'str'> \n│       └───name: <class 'str'> \n├───description: <class 'str'> \n├───datePublished: <class 'str'> \n├───keywords: <class 'str'> \n├───aggregateRating: <class 'dict'> \n│   ├───@type: <class 'str'> \n│   ├───ratingCount: <class 'int'> \n│   ├───bestRating: <class 'str'> \n│   ├───worstRating: <class 'str'> \n│   └───ratingValue: <class 'str'> \n├───review: <class 'dict'> \n│   ├───@type: <class 'str'> \n│   ├───itemReviewed: <class 'dict'> \n│   │   ├───@type: <class 'str'> \n│   │   └───url: <class 'str'> \n│   ├───author: <class 'dict'> \n│   │   ├───@type: <class 'str'> \n│   │   └───name: <class 'str'> \n│   ├───dateCreated: <class 'str'> \n│   ├───inLanguage: <class 'str'> \n│   ├───name: <class 'str'> \n│   └───reviewBody: <class 'str'> \n├───duration: <class 'str'> \n├───trailer: <class 'dict'> \n│   ├───@type: <class 'str'> \n│   ├───name: <class 'str'> \n│   ├───embedUrl: <class 'str'> \n│   ├───thumbnail: <class 'dict'> \n│   │   ├───@type: <class 'str'> \n│   │   └───contentUrl: <class 'str'> \n│   ├───thumbnailUrl: <class 'str'> \n│   ├───description: <class 'str'> \n│   └───uploadDate: <class 'str'> \n├───cast_and_character: <class 'list'> [15]\n│   └───<class 'dict'> \n│       ├───actor: <class 'dict'> \n│       │   ├───@type: <class 'str'> \n│       │   ├───url: <class 'str'> \n│       │   └───name: <class 'str'> \n│       └───character_and_episodes: <class 'list'> [1]\n│           └───<class 'dict'> \n│               ├───url: <class 'str'> \n│               └───name: <class 'str'> \n└───details: <class 'dict'> \n    ├───Country: <class 'list'> [2]\n    │   └───<class 'str'> \n    ├───Language: <class 'list'> [1]\n    │   └───<class 'str'> \n    ├───Release Date: <class 'list'> [1]\n    │   └───<class 'str'> \n    ├───Also Known As: <class 'list'> [1]\n    │   └───<class 'str'> \n    ├───Filming Locations: <class 'list'> [1]\n    │   └───<class 'str'> \n    ├───Budget: <class 'list'> [2]\n    │   └───<class 'str'> \n    ├───Opening Weekend USA: <class 'list'> [2]\n    │   └───<class 'str'> \n    ├───Gross USA: <class 'list'> [1]\n    │   └───<class 'str'> \n    ├───Cumulative Worldwide Gross: <class 'list'> [1]\n    │   └───<class 'str'> \n    ├───Production Co: <class 'list'> [3]\n    │   └───<class 'str'> \n    ├───Runtime: <class 'list'> [1]\n    │   └───<class 'str'> \n    ├───Sound Mix: <class 'list'> [10]\n    │   └───<class 'str'> \n    └───Aspect Ratio: <class 'list'> [1]\n        └───<class 'str'> \n"
     ]
    }
   ],
   "source": [
    "build_tree(movie_list[10])"
   ]
  },
  {
   "source": [
    "# Release Date - Budget"
   ],
   "cell_type": "markdown",
   "metadata": {}
  },
  {
   "cell_type": "code",
   "execution_count": 12,
   "metadata": {},
   "outputs": [],
   "source": [
    "months =    ['January', 'February', 'March', 'April', 'May', 'June',\n",
    "            'July', 'August', 'September', 'October', 'November', 'December']\n",
    "years = []\n",
    "for year in range(1900, 2025):\n",
    "    years.append(str(year))\n",
    "\n",
    "days = []\n",
    "for day in range(1, 32):\n",
    "    days.append(str(day))"
   ]
  },
  {
   "cell_type": "code",
   "execution_count": 13,
   "metadata": {},
   "outputs": [],
   "source": [
    "def getDate(date_str):\n",
    "    date_str = date_str.split(\" \")\n",
    "    day = None\n",
    "    month = None\n",
    "    year = None\n",
    "\n",
    "    for val in date_str:\n",
    "        if(day == None and val in days):\n",
    "            day = val\n",
    "        if(month == None and val in months):\n",
    "            month = val\n",
    "        if(year == None and val in years):\n",
    "            year = val\n",
    "    \n",
    "    return day, month, year"
   ]
  },
  {
   "cell_type": "code",
   "execution_count": 14,
   "metadata": {},
   "outputs": [
    {
     "output_type": "execute_result",
     "data": {
      "text/plain": [
       "('22', 'February', '2017')"
      ]
     },
     "metadata": {},
     "execution_count": 14
    }
   ],
   "source": [
    "getDate('22 February 2017 (South Korea)')"
   ]
  },
  {
   "cell_type": "code",
   "execution_count": 15,
   "metadata": {
    "tags": []
   },
   "outputs": [],
   "source": [
    "month_movie = {}\n",
    "year_movie = {}\n",
    "\n",
    "for month in months:\n",
    "    month_movie[month] = []\n",
    "for year in years:\n",
    "    year_movie[year] = []\n",
    "\n",
    "no_info = 0\n",
    "for movie in movie_list:\n",
    "    try:\n",
    "        date_str = movie['details']['Release Date'][0]\n",
    "        day, month, year = getDate(date_str)\n",
    "        if(month != None):\n",
    "            month_movie[month].append(movie)\n",
    "        if(year != None):\n",
    "            year_movie[year].append(movie)\n",
    "    except:\n",
    "        if('Release Date' not in movie['details']):\n",
    "            no_info += 1\n",
    "        else:\n",
    "            print(movie['details']['Release Date'])"
   ]
  },
  {
   "cell_type": "code",
   "execution_count": 16,
   "metadata": {},
   "outputs": [
    {
     "output_type": "execute_result",
     "data": {
      "text/plain": [
       "1071"
      ]
     },
     "metadata": {},
     "execution_count": 16
    }
   ],
   "source": [
    "no_info # number of movies that does not have release date available"
   ]
  },
  {
   "cell_type": "code",
   "execution_count": 17,
   "metadata": {},
   "outputs": [
    {
     "output_type": "stream",
     "name": "stdout",
     "text": [
      "January 2666\nFebruary 2746\nMarch 3053\nApril 2834\nMay 2630\nJune 2510\nJuly 2321\nAugust 2740\nSeptember 3015\nOctober 3529\nNovember 3019\nDecember 2799\n"
     ]
    }
   ],
   "source": [
    "xrr = []\n",
    "yrr = []\n",
    "\n",
    "for month in month_movie:\n",
    "    print(month, len(month_movie[month]))\n",
    "    xrr.append(month)\n",
    "    yrr.append(len(month_movie[month]))"
   ]
  },
  {
   "cell_type": "code",
   "execution_count": 18,
   "metadata": {},
   "outputs": [
    {
     "output_type": "display_data",
     "data": {
      "application/vnd.plotly.v1+json": {
       "config": {
        "plotlyServerURL": "https://plot.ly"
       },
       "data": [
        {
         "type": "bar",
         "x": [
          "January",
          "February",
          "March",
          "April",
          "May",
          "June",
          "July",
          "August",
          "September",
          "October",
          "November",
          "December"
         ],
         "y": [
          2666,
          2746,
          3053,
          2834,
          2630,
          2510,
          2321,
          2740,
          3015,
          3529,
          3019,
          2799
         ]
        }
       ],
       "layout": {
        "template": {
         "data": {
          "bar": [
           {
            "error_x": {
             "color": "#2a3f5f"
            },
            "error_y": {
             "color": "#2a3f5f"
            },
            "marker": {
             "line": {
              "color": "#E5ECF6",
              "width": 0.5
             }
            },
            "type": "bar"
           }
          ],
          "barpolar": [
           {
            "marker": {
             "line": {
              "color": "#E5ECF6",
              "width": 0.5
             }
            },
            "type": "barpolar"
           }
          ],
          "carpet": [
           {
            "aaxis": {
             "endlinecolor": "#2a3f5f",
             "gridcolor": "white",
             "linecolor": "white",
             "minorgridcolor": "white",
             "startlinecolor": "#2a3f5f"
            },
            "baxis": {
             "endlinecolor": "#2a3f5f",
             "gridcolor": "white",
             "linecolor": "white",
             "minorgridcolor": "white",
             "startlinecolor": "#2a3f5f"
            },
            "type": "carpet"
           }
          ],
          "choropleth": [
           {
            "colorbar": {
             "outlinewidth": 0,
             "ticks": ""
            },
            "type": "choropleth"
           }
          ],
          "contour": [
           {
            "colorbar": {
             "outlinewidth": 0,
             "ticks": ""
            },
            "colorscale": [
             [
              0,
              "#0d0887"
             ],
             [
              0.1111111111111111,
              "#46039f"
             ],
             [
              0.2222222222222222,
              "#7201a8"
             ],
             [
              0.3333333333333333,
              "#9c179e"
             ],
             [
              0.4444444444444444,
              "#bd3786"
             ],
             [
              0.5555555555555556,
              "#d8576b"
             ],
             [
              0.6666666666666666,
              "#ed7953"
             ],
             [
              0.7777777777777778,
              "#fb9f3a"
             ],
             [
              0.8888888888888888,
              "#fdca26"
             ],
             [
              1,
              "#f0f921"
             ]
            ],
            "type": "contour"
           }
          ],
          "contourcarpet": [
           {
            "colorbar": {
             "outlinewidth": 0,
             "ticks": ""
            },
            "type": "contourcarpet"
           }
          ],
          "heatmap": [
           {
            "colorbar": {
             "outlinewidth": 0,
             "ticks": ""
            },
            "colorscale": [
             [
              0,
              "#0d0887"
             ],
             [
              0.1111111111111111,
              "#46039f"
             ],
             [
              0.2222222222222222,
              "#7201a8"
             ],
             [
              0.3333333333333333,
              "#9c179e"
             ],
             [
              0.4444444444444444,
              "#bd3786"
             ],
             [
              0.5555555555555556,
              "#d8576b"
             ],
             [
              0.6666666666666666,
              "#ed7953"
             ],
             [
              0.7777777777777778,
              "#fb9f3a"
             ],
             [
              0.8888888888888888,
              "#fdca26"
             ],
             [
              1,
              "#f0f921"
             ]
            ],
            "type": "heatmap"
           }
          ],
          "heatmapgl": [
           {
            "colorbar": {
             "outlinewidth": 0,
             "ticks": ""
            },
            "colorscale": [
             [
              0,
              "#0d0887"
             ],
             [
              0.1111111111111111,
              "#46039f"
             ],
             [
              0.2222222222222222,
              "#7201a8"
             ],
             [
              0.3333333333333333,
              "#9c179e"
             ],
             [
              0.4444444444444444,
              "#bd3786"
             ],
             [
              0.5555555555555556,
              "#d8576b"
             ],
             [
              0.6666666666666666,
              "#ed7953"
             ],
             [
              0.7777777777777778,
              "#fb9f3a"
             ],
             [
              0.8888888888888888,
              "#fdca26"
             ],
             [
              1,
              "#f0f921"
             ]
            ],
            "type": "heatmapgl"
           }
          ],
          "histogram": [
           {
            "marker": {
             "colorbar": {
              "outlinewidth": 0,
              "ticks": ""
             }
            },
            "type": "histogram"
           }
          ],
          "histogram2d": [
           {
            "colorbar": {
             "outlinewidth": 0,
             "ticks": ""
            },
            "colorscale": [
             [
              0,
              "#0d0887"
             ],
             [
              0.1111111111111111,
              "#46039f"
             ],
             [
              0.2222222222222222,
              "#7201a8"
             ],
             [
              0.3333333333333333,
              "#9c179e"
             ],
             [
              0.4444444444444444,
              "#bd3786"
             ],
             [
              0.5555555555555556,
              "#d8576b"
             ],
             [
              0.6666666666666666,
              "#ed7953"
             ],
             [
              0.7777777777777778,
              "#fb9f3a"
             ],
             [
              0.8888888888888888,
              "#fdca26"
             ],
             [
              1,
              "#f0f921"
             ]
            ],
            "type": "histogram2d"
           }
          ],
          "histogram2dcontour": [
           {
            "colorbar": {
             "outlinewidth": 0,
             "ticks": ""
            },
            "colorscale": [
             [
              0,
              "#0d0887"
             ],
             [
              0.1111111111111111,
              "#46039f"
             ],
             [
              0.2222222222222222,
              "#7201a8"
             ],
             [
              0.3333333333333333,
              "#9c179e"
             ],
             [
              0.4444444444444444,
              "#bd3786"
             ],
             [
              0.5555555555555556,
              "#d8576b"
             ],
             [
              0.6666666666666666,
              "#ed7953"
             ],
             [
              0.7777777777777778,
              "#fb9f3a"
             ],
             [
              0.8888888888888888,
              "#fdca26"
             ],
             [
              1,
              "#f0f921"
             ]
            ],
            "type": "histogram2dcontour"
           }
          ],
          "mesh3d": [
           {
            "colorbar": {
             "outlinewidth": 0,
             "ticks": ""
            },
            "type": "mesh3d"
           }
          ],
          "parcoords": [
           {
            "line": {
             "colorbar": {
              "outlinewidth": 0,
              "ticks": ""
             }
            },
            "type": "parcoords"
           }
          ],
          "pie": [
           {
            "automargin": true,
            "type": "pie"
           }
          ],
          "scatter": [
           {
            "marker": {
             "colorbar": {
              "outlinewidth": 0,
              "ticks": ""
             }
            },
            "type": "scatter"
           }
          ],
          "scatter3d": [
           {
            "line": {
             "colorbar": {
              "outlinewidth": 0,
              "ticks": ""
             }
            },
            "marker": {
             "colorbar": {
              "outlinewidth": 0,
              "ticks": ""
             }
            },
            "type": "scatter3d"
           }
          ],
          "scattercarpet": [
           {
            "marker": {
             "colorbar": {
              "outlinewidth": 0,
              "ticks": ""
             }
            },
            "type": "scattercarpet"
           }
          ],
          "scattergeo": [
           {
            "marker": {
             "colorbar": {
              "outlinewidth": 0,
              "ticks": ""
             }
            },
            "type": "scattergeo"
           }
          ],
          "scattergl": [
           {
            "marker": {
             "colorbar": {
              "outlinewidth": 0,
              "ticks": ""
             }
            },
            "type": "scattergl"
           }
          ],
          "scattermapbox": [
           {
            "marker": {
             "colorbar": {
              "outlinewidth": 0,
              "ticks": ""
             }
            },
            "type": "scattermapbox"
           }
          ],
          "scatterpolar": [
           {
            "marker": {
             "colorbar": {
              "outlinewidth": 0,
              "ticks": ""
             }
            },
            "type": "scatterpolar"
           }
          ],
          "scatterpolargl": [
           {
            "marker": {
             "colorbar": {
              "outlinewidth": 0,
              "ticks": ""
             }
            },
            "type": "scatterpolargl"
           }
          ],
          "scatterternary": [
           {
            "marker": {
             "colorbar": {
              "outlinewidth": 0,
              "ticks": ""
             }
            },
            "type": "scatterternary"
           }
          ],
          "surface": [
           {
            "colorbar": {
             "outlinewidth": 0,
             "ticks": ""
            },
            "colorscale": [
             [
              0,
              "#0d0887"
             ],
             [
              0.1111111111111111,
              "#46039f"
             ],
             [
              0.2222222222222222,
              "#7201a8"
             ],
             [
              0.3333333333333333,
              "#9c179e"
             ],
             [
              0.4444444444444444,
              "#bd3786"
             ],
             [
              0.5555555555555556,
              "#d8576b"
             ],
             [
              0.6666666666666666,
              "#ed7953"
             ],
             [
              0.7777777777777778,
              "#fb9f3a"
             ],
             [
              0.8888888888888888,
              "#fdca26"
             ],
             [
              1,
              "#f0f921"
             ]
            ],
            "type": "surface"
           }
          ],
          "table": [
           {
            "cells": {
             "fill": {
              "color": "#EBF0F8"
             },
             "line": {
              "color": "white"
             }
            },
            "header": {
             "fill": {
              "color": "#C8D4E3"
             },
             "line": {
              "color": "white"
             }
            },
            "type": "table"
           }
          ]
         },
         "layout": {
          "annotationdefaults": {
           "arrowcolor": "#2a3f5f",
           "arrowhead": 0,
           "arrowwidth": 1
          },
          "autotypenumbers": "strict",
          "coloraxis": {
           "colorbar": {
            "outlinewidth": 0,
            "ticks": ""
           }
          },
          "colorscale": {
           "diverging": [
            [
             0,
             "#8e0152"
            ],
            [
             0.1,
             "#c51b7d"
            ],
            [
             0.2,
             "#de77ae"
            ],
            [
             0.3,
             "#f1b6da"
            ],
            [
             0.4,
             "#fde0ef"
            ],
            [
             0.5,
             "#f7f7f7"
            ],
            [
             0.6,
             "#e6f5d0"
            ],
            [
             0.7,
             "#b8e186"
            ],
            [
             0.8,
             "#7fbc41"
            ],
            [
             0.9,
             "#4d9221"
            ],
            [
             1,
             "#276419"
            ]
           ],
           "sequential": [
            [
             0,
             "#0d0887"
            ],
            [
             0.1111111111111111,
             "#46039f"
            ],
            [
             0.2222222222222222,
             "#7201a8"
            ],
            [
             0.3333333333333333,
             "#9c179e"
            ],
            [
             0.4444444444444444,
             "#bd3786"
            ],
            [
             0.5555555555555556,
             "#d8576b"
            ],
            [
             0.6666666666666666,
             "#ed7953"
            ],
            [
             0.7777777777777778,
             "#fb9f3a"
            ],
            [
             0.8888888888888888,
             "#fdca26"
            ],
            [
             1,
             "#f0f921"
            ]
           ],
           "sequentialminus": [
            [
             0,
             "#0d0887"
            ],
            [
             0.1111111111111111,
             "#46039f"
            ],
            [
             0.2222222222222222,
             "#7201a8"
            ],
            [
             0.3333333333333333,
             "#9c179e"
            ],
            [
             0.4444444444444444,
             "#bd3786"
            ],
            [
             0.5555555555555556,
             "#d8576b"
            ],
            [
             0.6666666666666666,
             "#ed7953"
            ],
            [
             0.7777777777777778,
             "#fb9f3a"
            ],
            [
             0.8888888888888888,
             "#fdca26"
            ],
            [
             1,
             "#f0f921"
            ]
           ]
          },
          "colorway": [
           "#636efa",
           "#EF553B",
           "#00cc96",
           "#ab63fa",
           "#FFA15A",
           "#19d3f3",
           "#FF6692",
           "#B6E880",
           "#FF97FF",
           "#FECB52"
          ],
          "font": {
           "color": "#2a3f5f"
          },
          "geo": {
           "bgcolor": "white",
           "lakecolor": "white",
           "landcolor": "#E5ECF6",
           "showlakes": true,
           "showland": true,
           "subunitcolor": "white"
          },
          "hoverlabel": {
           "align": "left"
          },
          "hovermode": "closest",
          "mapbox": {
           "style": "light"
          },
          "paper_bgcolor": "white",
          "plot_bgcolor": "#E5ECF6",
          "polar": {
           "angularaxis": {
            "gridcolor": "white",
            "linecolor": "white",
            "ticks": ""
           },
           "bgcolor": "#E5ECF6",
           "radialaxis": {
            "gridcolor": "white",
            "linecolor": "white",
            "ticks": ""
           }
          },
          "scene": {
           "xaxis": {
            "backgroundcolor": "#E5ECF6",
            "gridcolor": "white",
            "gridwidth": 2,
            "linecolor": "white",
            "showbackground": true,
            "ticks": "",
            "zerolinecolor": "white"
           },
           "yaxis": {
            "backgroundcolor": "#E5ECF6",
            "gridcolor": "white",
            "gridwidth": 2,
            "linecolor": "white",
            "showbackground": true,
            "ticks": "",
            "zerolinecolor": "white"
           },
           "zaxis": {
            "backgroundcolor": "#E5ECF6",
            "gridcolor": "white",
            "gridwidth": 2,
            "linecolor": "white",
            "showbackground": true,
            "ticks": "",
            "zerolinecolor": "white"
           }
          },
          "shapedefaults": {
           "line": {
            "color": "#2a3f5f"
           }
          },
          "ternary": {
           "aaxis": {
            "gridcolor": "white",
            "linecolor": "white",
            "ticks": ""
           },
           "baxis": {
            "gridcolor": "white",
            "linecolor": "white",
            "ticks": ""
           },
           "bgcolor": "#E5ECF6",
           "caxis": {
            "gridcolor": "white",
            "linecolor": "white",
            "ticks": ""
           }
          },
          "title": {
           "x": 0.05
          },
          "xaxis": {
           "automargin": true,
           "gridcolor": "white",
           "linecolor": "white",
           "ticks": "",
           "title": {
            "standoff": 15
           },
           "zerolinecolor": "white",
           "zerolinewidth": 2
          },
          "yaxis": {
           "automargin": true,
           "gridcolor": "white",
           "linecolor": "white",
           "ticks": "",
           "title": {
            "standoff": 15
           },
           "zerolinecolor": "white",
           "zerolinewidth": 2
          }
         }
        }
       }
      }
     },
     "metadata": {}
    }
   ],
   "source": [
    "fig = go.Figure([go.Bar(x=xrr, y=yrr)])\n",
    "fig.show()"
   ]
  },
  {
   "cell_type": "code",
   "execution_count": 32,
   "metadata": {},
   "outputs": [],
   "source": [
    "xrr = []\n",
    "yrr = []\n",
    "\n",
    "for year in year_movie:\n",
    "    xrr.append(year)\n",
    "    yrr.append(len(year_movie[year]))"
   ]
  },
  {
   "cell_type": "code",
   "execution_count": 33,
   "metadata": {},
   "outputs": [
    {
     "output_type": "display_data",
     "data": {
      "application/vnd.plotly.v1+json": {
       "config": {
        "plotlyServerURL": "https://plot.ly"
       },
       "data": [
        {
         "type": "bar",
         "x": [
          "1900",
          "1901",
          "1902",
          "1903",
          "1904",
          "1905",
          "1906",
          "1907",
          "1908",
          "1909",
          "1910",
          "1911",
          "1912",
          "1913",
          "1914",
          "1915",
          "1916",
          "1917",
          "1918",
          "1919",
          "1920",
          "1921",
          "1922",
          "1923",
          "1924",
          "1925",
          "1926",
          "1927",
          "1928",
          "1929",
          "1930",
          "1931",
          "1932",
          "1933",
          "1934",
          "1935",
          "1936",
          "1937",
          "1938",
          "1939",
          "1940",
          "1941",
          "1942",
          "1943",
          "1944",
          "1945",
          "1946",
          "1947",
          "1948",
          "1949",
          "1950",
          "1951",
          "1952",
          "1953",
          "1954",
          "1955",
          "1956",
          "1957",
          "1958",
          "1959",
          "1960",
          "1961",
          "1962",
          "1963",
          "1964",
          "1965",
          "1966",
          "1967",
          "1968",
          "1969",
          "1970",
          "1971",
          "1972",
          "1973",
          "1974",
          "1975",
          "1976",
          "1977",
          "1978",
          "1979",
          "1980",
          "1981",
          "1982",
          "1983",
          "1984",
          "1985",
          "1986",
          "1987",
          "1988",
          "1989",
          "1990",
          "1991",
          "1992",
          "1993",
          "1994",
          "1995",
          "1996",
          "1997",
          "1998",
          "1999",
          "2000",
          "2001",
          "2002",
          "2003",
          "2004",
          "2005",
          "2006",
          "2007",
          "2008",
          "2009",
          "2010",
          "2011",
          "2012",
          "2013",
          "2014",
          "2015",
          "2016",
          "2017",
          "2018",
          "2019",
          "2020",
          "2021",
          "2022",
          "2023",
          "2024"
         ],
         "y": [
          0,
          0,
          1,
          1,
          0,
          0,
          0,
          0,
          0,
          0,
          0,
          1,
          0,
          0,
          2,
          2,
          1,
          4,
          1,
          1,
          3,
          3,
          8,
          7,
          6,
          8,
          7,
          10,
          18,
          16,
          19,
          28,
          42,
          36,
          34,
          37,
          44,
          43,
          34,
          57,
          66,
          55,
          58,
          57,
          58,
          59,
          72,
          73,
          77,
          87,
          88,
          82,
          68,
          107,
          98,
          120,
          124,
          127,
          130,
          135,
          125,
          110,
          149,
          129,
          152,
          150,
          146,
          151,
          199,
          174,
          223,
          215,
          245,
          244,
          232,
          220,
          236,
          215,
          246,
          251,
          242,
          246,
          250,
          274,
          283,
          308,
          310,
          342,
          373,
          348,
          313,
          331,
          312,
          361,
          364,
          372,
          380,
          384,
          400,
          411,
          410,
          424,
          461,
          451,
          488,
          516,
          584,
          620,
          655,
          687,
          658,
          792,
          821,
          950,
          1074,
          1255,
          1346,
          1585,
          1744,
          2137,
          2595,
          1687,
          121,
          15,
          1
         ]
        }
       ],
       "layout": {
        "template": {
         "data": {
          "bar": [
           {
            "error_x": {
             "color": "#2a3f5f"
            },
            "error_y": {
             "color": "#2a3f5f"
            },
            "marker": {
             "line": {
              "color": "#E5ECF6",
              "width": 0.5
             }
            },
            "type": "bar"
           }
          ],
          "barpolar": [
           {
            "marker": {
             "line": {
              "color": "#E5ECF6",
              "width": 0.5
             }
            },
            "type": "barpolar"
           }
          ],
          "carpet": [
           {
            "aaxis": {
             "endlinecolor": "#2a3f5f",
             "gridcolor": "white",
             "linecolor": "white",
             "minorgridcolor": "white",
             "startlinecolor": "#2a3f5f"
            },
            "baxis": {
             "endlinecolor": "#2a3f5f",
             "gridcolor": "white",
             "linecolor": "white",
             "minorgridcolor": "white",
             "startlinecolor": "#2a3f5f"
            },
            "type": "carpet"
           }
          ],
          "choropleth": [
           {
            "colorbar": {
             "outlinewidth": 0,
             "ticks": ""
            },
            "type": "choropleth"
           }
          ],
          "contour": [
           {
            "colorbar": {
             "outlinewidth": 0,
             "ticks": ""
            },
            "colorscale": [
             [
              0,
              "#0d0887"
             ],
             [
              0.1111111111111111,
              "#46039f"
             ],
             [
              0.2222222222222222,
              "#7201a8"
             ],
             [
              0.3333333333333333,
              "#9c179e"
             ],
             [
              0.4444444444444444,
              "#bd3786"
             ],
             [
              0.5555555555555556,
              "#d8576b"
             ],
             [
              0.6666666666666666,
              "#ed7953"
             ],
             [
              0.7777777777777778,
              "#fb9f3a"
             ],
             [
              0.8888888888888888,
              "#fdca26"
             ],
             [
              1,
              "#f0f921"
             ]
            ],
            "type": "contour"
           }
          ],
          "contourcarpet": [
           {
            "colorbar": {
             "outlinewidth": 0,
             "ticks": ""
            },
            "type": "contourcarpet"
           }
          ],
          "heatmap": [
           {
            "colorbar": {
             "outlinewidth": 0,
             "ticks": ""
            },
            "colorscale": [
             [
              0,
              "#0d0887"
             ],
             [
              0.1111111111111111,
              "#46039f"
             ],
             [
              0.2222222222222222,
              "#7201a8"
             ],
             [
              0.3333333333333333,
              "#9c179e"
             ],
             [
              0.4444444444444444,
              "#bd3786"
             ],
             [
              0.5555555555555556,
              "#d8576b"
             ],
             [
              0.6666666666666666,
              "#ed7953"
             ],
             [
              0.7777777777777778,
              "#fb9f3a"
             ],
             [
              0.8888888888888888,
              "#fdca26"
             ],
             [
              1,
              "#f0f921"
             ]
            ],
            "type": "heatmap"
           }
          ],
          "heatmapgl": [
           {
            "colorbar": {
             "outlinewidth": 0,
             "ticks": ""
            },
            "colorscale": [
             [
              0,
              "#0d0887"
             ],
             [
              0.1111111111111111,
              "#46039f"
             ],
             [
              0.2222222222222222,
              "#7201a8"
             ],
             [
              0.3333333333333333,
              "#9c179e"
             ],
             [
              0.4444444444444444,
              "#bd3786"
             ],
             [
              0.5555555555555556,
              "#d8576b"
             ],
             [
              0.6666666666666666,
              "#ed7953"
             ],
             [
              0.7777777777777778,
              "#fb9f3a"
             ],
             [
              0.8888888888888888,
              "#fdca26"
             ],
             [
              1,
              "#f0f921"
             ]
            ],
            "type": "heatmapgl"
           }
          ],
          "histogram": [
           {
            "marker": {
             "colorbar": {
              "outlinewidth": 0,
              "ticks": ""
             }
            },
            "type": "histogram"
           }
          ],
          "histogram2d": [
           {
            "colorbar": {
             "outlinewidth": 0,
             "ticks": ""
            },
            "colorscale": [
             [
              0,
              "#0d0887"
             ],
             [
              0.1111111111111111,
              "#46039f"
             ],
             [
              0.2222222222222222,
              "#7201a8"
             ],
             [
              0.3333333333333333,
              "#9c179e"
             ],
             [
              0.4444444444444444,
              "#bd3786"
             ],
             [
              0.5555555555555556,
              "#d8576b"
             ],
             [
              0.6666666666666666,
              "#ed7953"
             ],
             [
              0.7777777777777778,
              "#fb9f3a"
             ],
             [
              0.8888888888888888,
              "#fdca26"
             ],
             [
              1,
              "#f0f921"
             ]
            ],
            "type": "histogram2d"
           }
          ],
          "histogram2dcontour": [
           {
            "colorbar": {
             "outlinewidth": 0,
             "ticks": ""
            },
            "colorscale": [
             [
              0,
              "#0d0887"
             ],
             [
              0.1111111111111111,
              "#46039f"
             ],
             [
              0.2222222222222222,
              "#7201a8"
             ],
             [
              0.3333333333333333,
              "#9c179e"
             ],
             [
              0.4444444444444444,
              "#bd3786"
             ],
             [
              0.5555555555555556,
              "#d8576b"
             ],
             [
              0.6666666666666666,
              "#ed7953"
             ],
             [
              0.7777777777777778,
              "#fb9f3a"
             ],
             [
              0.8888888888888888,
              "#fdca26"
             ],
             [
              1,
              "#f0f921"
             ]
            ],
            "type": "histogram2dcontour"
           }
          ],
          "mesh3d": [
           {
            "colorbar": {
             "outlinewidth": 0,
             "ticks": ""
            },
            "type": "mesh3d"
           }
          ],
          "parcoords": [
           {
            "line": {
             "colorbar": {
              "outlinewidth": 0,
              "ticks": ""
             }
            },
            "type": "parcoords"
           }
          ],
          "pie": [
           {
            "automargin": true,
            "type": "pie"
           }
          ],
          "scatter": [
           {
            "marker": {
             "colorbar": {
              "outlinewidth": 0,
              "ticks": ""
             }
            },
            "type": "scatter"
           }
          ],
          "scatter3d": [
           {
            "line": {
             "colorbar": {
              "outlinewidth": 0,
              "ticks": ""
             }
            },
            "marker": {
             "colorbar": {
              "outlinewidth": 0,
              "ticks": ""
             }
            },
            "type": "scatter3d"
           }
          ],
          "scattercarpet": [
           {
            "marker": {
             "colorbar": {
              "outlinewidth": 0,
              "ticks": ""
             }
            },
            "type": "scattercarpet"
           }
          ],
          "scattergeo": [
           {
            "marker": {
             "colorbar": {
              "outlinewidth": 0,
              "ticks": ""
             }
            },
            "type": "scattergeo"
           }
          ],
          "scattergl": [
           {
            "marker": {
             "colorbar": {
              "outlinewidth": 0,
              "ticks": ""
             }
            },
            "type": "scattergl"
           }
          ],
          "scattermapbox": [
           {
            "marker": {
             "colorbar": {
              "outlinewidth": 0,
              "ticks": ""
             }
            },
            "type": "scattermapbox"
           }
          ],
          "scatterpolar": [
           {
            "marker": {
             "colorbar": {
              "outlinewidth": 0,
              "ticks": ""
             }
            },
            "type": "scatterpolar"
           }
          ],
          "scatterpolargl": [
           {
            "marker": {
             "colorbar": {
              "outlinewidth": 0,
              "ticks": ""
             }
            },
            "type": "scatterpolargl"
           }
          ],
          "scatterternary": [
           {
            "marker": {
             "colorbar": {
              "outlinewidth": 0,
              "ticks": ""
             }
            },
            "type": "scatterternary"
           }
          ],
          "surface": [
           {
            "colorbar": {
             "outlinewidth": 0,
             "ticks": ""
            },
            "colorscale": [
             [
              0,
              "#0d0887"
             ],
             [
              0.1111111111111111,
              "#46039f"
             ],
             [
              0.2222222222222222,
              "#7201a8"
             ],
             [
              0.3333333333333333,
              "#9c179e"
             ],
             [
              0.4444444444444444,
              "#bd3786"
             ],
             [
              0.5555555555555556,
              "#d8576b"
             ],
             [
              0.6666666666666666,
              "#ed7953"
             ],
             [
              0.7777777777777778,
              "#fb9f3a"
             ],
             [
              0.8888888888888888,
              "#fdca26"
             ],
             [
              1,
              "#f0f921"
             ]
            ],
            "type": "surface"
           }
          ],
          "table": [
           {
            "cells": {
             "fill": {
              "color": "#EBF0F8"
             },
             "line": {
              "color": "white"
             }
            },
            "header": {
             "fill": {
              "color": "#C8D4E3"
             },
             "line": {
              "color": "white"
             }
            },
            "type": "table"
           }
          ]
         },
         "layout": {
          "annotationdefaults": {
           "arrowcolor": "#2a3f5f",
           "arrowhead": 0,
           "arrowwidth": 1
          },
          "autotypenumbers": "strict",
          "coloraxis": {
           "colorbar": {
            "outlinewidth": 0,
            "ticks": ""
           }
          },
          "colorscale": {
           "diverging": [
            [
             0,
             "#8e0152"
            ],
            [
             0.1,
             "#c51b7d"
            ],
            [
             0.2,
             "#de77ae"
            ],
            [
             0.3,
             "#f1b6da"
            ],
            [
             0.4,
             "#fde0ef"
            ],
            [
             0.5,
             "#f7f7f7"
            ],
            [
             0.6,
             "#e6f5d0"
            ],
            [
             0.7,
             "#b8e186"
            ],
            [
             0.8,
             "#7fbc41"
            ],
            [
             0.9,
             "#4d9221"
            ],
            [
             1,
             "#276419"
            ]
           ],
           "sequential": [
            [
             0,
             "#0d0887"
            ],
            [
             0.1111111111111111,
             "#46039f"
            ],
            [
             0.2222222222222222,
             "#7201a8"
            ],
            [
             0.3333333333333333,
             "#9c179e"
            ],
            [
             0.4444444444444444,
             "#bd3786"
            ],
            [
             0.5555555555555556,
             "#d8576b"
            ],
            [
             0.6666666666666666,
             "#ed7953"
            ],
            [
             0.7777777777777778,
             "#fb9f3a"
            ],
            [
             0.8888888888888888,
             "#fdca26"
            ],
            [
             1,
             "#f0f921"
            ]
           ],
           "sequentialminus": [
            [
             0,
             "#0d0887"
            ],
            [
             0.1111111111111111,
             "#46039f"
            ],
            [
             0.2222222222222222,
             "#7201a8"
            ],
            [
             0.3333333333333333,
             "#9c179e"
            ],
            [
             0.4444444444444444,
             "#bd3786"
            ],
            [
             0.5555555555555556,
             "#d8576b"
            ],
            [
             0.6666666666666666,
             "#ed7953"
            ],
            [
             0.7777777777777778,
             "#fb9f3a"
            ],
            [
             0.8888888888888888,
             "#fdca26"
            ],
            [
             1,
             "#f0f921"
            ]
           ]
          },
          "colorway": [
           "#636efa",
           "#EF553B",
           "#00cc96",
           "#ab63fa",
           "#FFA15A",
           "#19d3f3",
           "#FF6692",
           "#B6E880",
           "#FF97FF",
           "#FECB52"
          ],
          "font": {
           "color": "#2a3f5f"
          },
          "geo": {
           "bgcolor": "white",
           "lakecolor": "white",
           "landcolor": "#E5ECF6",
           "showlakes": true,
           "showland": true,
           "subunitcolor": "white"
          },
          "hoverlabel": {
           "align": "left"
          },
          "hovermode": "closest",
          "mapbox": {
           "style": "light"
          },
          "paper_bgcolor": "white",
          "plot_bgcolor": "#E5ECF6",
          "polar": {
           "angularaxis": {
            "gridcolor": "white",
            "linecolor": "white",
            "ticks": ""
           },
           "bgcolor": "#E5ECF6",
           "radialaxis": {
            "gridcolor": "white",
            "linecolor": "white",
            "ticks": ""
           }
          },
          "scene": {
           "xaxis": {
            "backgroundcolor": "#E5ECF6",
            "gridcolor": "white",
            "gridwidth": 2,
            "linecolor": "white",
            "showbackground": true,
            "ticks": "",
            "zerolinecolor": "white"
           },
           "yaxis": {
            "backgroundcolor": "#E5ECF6",
            "gridcolor": "white",
            "gridwidth": 2,
            "linecolor": "white",
            "showbackground": true,
            "ticks": "",
            "zerolinecolor": "white"
           },
           "zaxis": {
            "backgroundcolor": "#E5ECF6",
            "gridcolor": "white",
            "gridwidth": 2,
            "linecolor": "white",
            "showbackground": true,
            "ticks": "",
            "zerolinecolor": "white"
           }
          },
          "shapedefaults": {
           "line": {
            "color": "#2a3f5f"
           }
          },
          "ternary": {
           "aaxis": {
            "gridcolor": "white",
            "linecolor": "white",
            "ticks": ""
           },
           "baxis": {
            "gridcolor": "white",
            "linecolor": "white",
            "ticks": ""
           },
           "bgcolor": "#E5ECF6",
           "caxis": {
            "gridcolor": "white",
            "linecolor": "white",
            "ticks": ""
           }
          },
          "title": {
           "x": 0.05
          },
          "xaxis": {
           "automargin": true,
           "gridcolor": "white",
           "linecolor": "white",
           "ticks": "",
           "title": {
            "standoff": 15
           },
           "zerolinecolor": "white",
           "zerolinewidth": 2
          },
          "yaxis": {
           "automargin": true,
           "gridcolor": "white",
           "linecolor": "white",
           "ticks": "",
           "title": {
            "standoff": 15
           },
           "zerolinecolor": "white",
           "zerolinewidth": 2
          }
         }
        }
       }
      }
     },
     "metadata": {}
    }
   ],
   "source": [
    "fig = go.Figure([go.Bar(x=xrr, y=yrr)])\n",
    "fig.show()"
   ]
  },
  {
   "source": [
    "## Revenue - Month"
   ],
   "cell_type": "markdown",
   "metadata": {}
  },
  {
   "cell_type": "code",
   "execution_count": 69,
   "metadata": {},
   "outputs": [
    {
     "output_type": "execute_result",
     "data": {
      "text/plain": [
       "425000000.0"
      ]
     },
     "metadata": {},
     "execution_count": 69
    }
   ],
   "source": [
    "budget_2009 = 425000000\n",
    "budget_year = 2018\n",
    "cpi.inflate(budget_2009, budget_year)"
   ]
  },
  {
   "cell_type": "code",
   "execution_count": 70,
   "metadata": {},
   "outputs": [],
   "source": [
    "def adjustInflation(amount, year):\n",
    "    try:\n",
    "        return cpi.inflate(amount, year)\n",
    "    except:\n",
    "        return amount"
   ]
  },
  {
   "cell_type": "code",
   "execution_count": 54,
   "metadata": {},
   "outputs": [],
   "source": [
    "def getMoney(txt):\n",
    "    converter = {\n",
    "        '$'  : 1, 'USD': 1, 'EUR': 1.22, 'AUD': 0.78,\n",
    "        'GBP': 1.41, 'NOK': 0.12, 'DKK': 0.16, 'JPY': 0.0092,\n",
    "        'CAD': 0.83, 'INR': 0.012, 'SEK': 0.12, 'DEM': 0.62,\n",
    "        'FRF': 0.185, 'RUR': 0.014, 'CNY': 0.16, 'BEF': 1/33.5,\n",
    "        'MXN': 0.050, 'CZK': 0.048, 'ZAR': 0.071, 'HKD': 0.13,\n",
    "        'BRL': 0.19, 'IDR': 0.000070, 'ITL': 0.000626628, 'ARS': 0.011,\n",
    "        'UAH': 0.036, 'NZD': 0.73, 'TRL': 0.12, 'FIM': 0.204585,\n",
    "        'HUF': 0.0034, 'DOP': 0.018, 'KRW': 0.00089, 'ESP': 1.22, \n",
    "        'EGP': 0.064, 'PLN': 0.27, 'SGD': 0.75, 'IQD': 0.00068, \n",
    "        'IEP': 0.647361, 'CHF': 1.11, 'ISK': 0.0081, 'TWD': 0.036,\n",
    "        'THB': 0.032, 'MYR': 0.24, 'PYG': 0.00015, 'NGN': 0.0026, \n",
    "        'ILS': 0.30, 'IRR': 0.000024, 'NLG': 0.039, 'BDT': 0.012, \n",
    "        'AMD': 0.0019, 'MVR': 0.065, 'SAR': 0.27, 'RON': 0.25,\n",
    "        'ATS': 0.0883949\n",
    "    }\n",
    "    txt = txt.replace(\",\",\"\")\n",
    "    mul = 1\n",
    "    for key in converter:\n",
    "        if key in txt:\n",
    "            txt = txt.replace(key, \"\")\n",
    "            mul = converter[key]\n",
    "            break\n",
    "    money = int(txt)\n",
    "    return money"
   ]
  },
  {
   "cell_type": "code",
   "execution_count": 77,
   "metadata": {
    "tags": []
   },
   "outputs": [
    {
     "output_type": "stream",
     "name": "stdout",
     "text": [
      "January >> total movies 2666(1628 do not have Budget info) -- total Budget: 49006945348.301216, average: 47212856.790270925\n",
      "February >> total movies 2746(1714 do not have Budget info) -- total Budget: 49723228446.775856, average: 48181422.913542494\n",
      "March >> total movies 3053(1881 do not have Budget info) -- total Budget: 88372035053.73575, average: 75402760.28475747\n",
      "April >> total movies 2834(1724 do not have Budget info) -- total Budget: 76830475556.57256, average: 69216644.64556086\n",
      "May >> total movies 2630(1626 do not have Budget info) -- total Budget: 40385712880.367455, average: 40224813.625864\n",
      "June >> total movies 2510(1456 do not have Budget info) -- total Budget: 68963488292.01134, average: 65430254.54650032\n",
      "July >> total movies 2321(1325 do not have Budget info) -- total Budget: 67110583044.36565, average: 67380103.45819844\n",
      "August >> total movies 2740(1592 do not have Budget info) -- total Budget: 266203007859.3697, average: 231884153.18760425\n",
      "September >> total movies 3015(1848 do not have Budget info) -- total Budget: 115091743919.17685, average: 98621888.53399901\n",
      "October >> total movies 3529(2194 do not have Budget info) -- total Budget: 75308084254.46754, average: 56410550.00334647\n",
      "November >> total movies 3019(1827 do not have Budget info) -- total Budget: 67207305426.18789, average: 56381967.63941937\n",
      "December >> total movies 2799(1658 do not have Budget info) -- total Budget: 122003854629.43852, average: 106927129.38601097\n"
     ]
    }
   ],
   "source": [
    "checkInflation = True\n",
    "\n",
    "sum_budget = []\n",
    "avg_budget = []\n",
    "num_movies_arr = []\n",
    "\n",
    "for month in month_movie:\n",
    "    lst = month_movie[month]\n",
    "    num_movies = len(lst)\n",
    "    no_budget = 0\n",
    "    budget = 0\n",
    "    for movie in lst:\n",
    "        try:\n",
    "            amount = getMoney(movie['details']['Budget'][0])\n",
    "            if(checkInflation == True):\n",
    "                date_str = movie['details']['Release Date'][0]\n",
    "                day, month, year = getDate(date_str)\n",
    "                # print(day, month, type(year))\n",
    "                amount = adjustInflation(amount, int(year))\n",
    "            budget += amount\n",
    "        except:\n",
    "            if('Budget' not in movie['details']):\n",
    "                no_budget += 1\n",
    "            else:\n",
    "                print(movie['details']['Budget'])\n",
    "                no_budget += 1\n",
    "    \n",
    "    sum_budget.append(budget)\n",
    "    avg_budget.append(budget/(num_movies-no_budget))\n",
    "    num_movies_arr.append(num_movies-no_budget)\n",
    "    print(\"{} >> total movies {}({} do not have Budget info) -- total Budget: {}, average: {}\".format(month, num_movies, no_budget, budget, budget/(num_movies-no_budget)))  "
   ]
  },
  {
   "cell_type": "code",
   "execution_count": 78,
   "metadata": {},
   "outputs": [
    {
     "output_type": "display_data",
     "data": {
      "application/vnd.plotly.v1+json": {
       "config": {
        "plotlyServerURL": "https://plot.ly"
       },
       "data": [
        {
         "name": "# of movies",
         "type": "bar",
         "x": [
          "January",
          "February",
          "March",
          "April",
          "May",
          "June",
          "July",
          "August",
          "September",
          "October",
          "November",
          "December"
         ],
         "xaxis": "x",
         "y": [
          1038,
          1032,
          1172,
          1110,
          1004,
          1054,
          996,
          1148,
          1167,
          1335,
          1192,
          1141
         ],
         "yaxis": "y"
        },
        {
         "name": "Budget",
         "type": "bar",
         "x": [
          "January",
          "February",
          "March",
          "April",
          "May",
          "June",
          "July",
          "August",
          "September",
          "October",
          "November",
          "December"
         ],
         "xaxis": "x2",
         "y": [
          49006945348.301216,
          49723228446.775856,
          88372035053.73575,
          76830475556.57256,
          40385712880.367455,
          68963488292.01134,
          67110583044.36565,
          266203007859.3697,
          115091743919.17685,
          75308084254.46754,
          67207305426.18789,
          122003854629.43852
         ],
         "yaxis": "y2"
        },
        {
         "name": "Average budget",
         "type": "bar",
         "x": [
          "January",
          "February",
          "March",
          "April",
          "May",
          "June",
          "July",
          "August",
          "September",
          "October",
          "November",
          "December"
         ],
         "xaxis": "x3",
         "y": [
          47212856.790270925,
          48181422.913542494,
          75402760.28475747,
          69216644.64556086,
          40224813.625864,
          65430254.54650032,
          67380103.45819844,
          231884153.18760425,
          98621888.53399901,
          56410550.00334647,
          56381967.63941937,
          106927129.38601097
         ],
         "yaxis": "y3"
        }
       ],
       "layout": {
        "height": 900,
        "template": {
         "data": {
          "bar": [
           {
            "error_x": {
             "color": "#2a3f5f"
            },
            "error_y": {
             "color": "#2a3f5f"
            },
            "marker": {
             "line": {
              "color": "#E5ECF6",
              "width": 0.5
             }
            },
            "type": "bar"
           }
          ],
          "barpolar": [
           {
            "marker": {
             "line": {
              "color": "#E5ECF6",
              "width": 0.5
             }
            },
            "type": "barpolar"
           }
          ],
          "carpet": [
           {
            "aaxis": {
             "endlinecolor": "#2a3f5f",
             "gridcolor": "white",
             "linecolor": "white",
             "minorgridcolor": "white",
             "startlinecolor": "#2a3f5f"
            },
            "baxis": {
             "endlinecolor": "#2a3f5f",
             "gridcolor": "white",
             "linecolor": "white",
             "minorgridcolor": "white",
             "startlinecolor": "#2a3f5f"
            },
            "type": "carpet"
           }
          ],
          "choropleth": [
           {
            "colorbar": {
             "outlinewidth": 0,
             "ticks": ""
            },
            "type": "choropleth"
           }
          ],
          "contour": [
           {
            "colorbar": {
             "outlinewidth": 0,
             "ticks": ""
            },
            "colorscale": [
             [
              0,
              "#0d0887"
             ],
             [
              0.1111111111111111,
              "#46039f"
             ],
             [
              0.2222222222222222,
              "#7201a8"
             ],
             [
              0.3333333333333333,
              "#9c179e"
             ],
             [
              0.4444444444444444,
              "#bd3786"
             ],
             [
              0.5555555555555556,
              "#d8576b"
             ],
             [
              0.6666666666666666,
              "#ed7953"
             ],
             [
              0.7777777777777778,
              "#fb9f3a"
             ],
             [
              0.8888888888888888,
              "#fdca26"
             ],
             [
              1,
              "#f0f921"
             ]
            ],
            "type": "contour"
           }
          ],
          "contourcarpet": [
           {
            "colorbar": {
             "outlinewidth": 0,
             "ticks": ""
            },
            "type": "contourcarpet"
           }
          ],
          "heatmap": [
           {
            "colorbar": {
             "outlinewidth": 0,
             "ticks": ""
            },
            "colorscale": [
             [
              0,
              "#0d0887"
             ],
             [
              0.1111111111111111,
              "#46039f"
             ],
             [
              0.2222222222222222,
              "#7201a8"
             ],
             [
              0.3333333333333333,
              "#9c179e"
             ],
             [
              0.4444444444444444,
              "#bd3786"
             ],
             [
              0.5555555555555556,
              "#d8576b"
             ],
             [
              0.6666666666666666,
              "#ed7953"
             ],
             [
              0.7777777777777778,
              "#fb9f3a"
             ],
             [
              0.8888888888888888,
              "#fdca26"
             ],
             [
              1,
              "#f0f921"
             ]
            ],
            "type": "heatmap"
           }
          ],
          "heatmapgl": [
           {
            "colorbar": {
             "outlinewidth": 0,
             "ticks": ""
            },
            "colorscale": [
             [
              0,
              "#0d0887"
             ],
             [
              0.1111111111111111,
              "#46039f"
             ],
             [
              0.2222222222222222,
              "#7201a8"
             ],
             [
              0.3333333333333333,
              "#9c179e"
             ],
             [
              0.4444444444444444,
              "#bd3786"
             ],
             [
              0.5555555555555556,
              "#d8576b"
             ],
             [
              0.6666666666666666,
              "#ed7953"
             ],
             [
              0.7777777777777778,
              "#fb9f3a"
             ],
             [
              0.8888888888888888,
              "#fdca26"
             ],
             [
              1,
              "#f0f921"
             ]
            ],
            "type": "heatmapgl"
           }
          ],
          "histogram": [
           {
            "marker": {
             "colorbar": {
              "outlinewidth": 0,
              "ticks": ""
             }
            },
            "type": "histogram"
           }
          ],
          "histogram2d": [
           {
            "colorbar": {
             "outlinewidth": 0,
             "ticks": ""
            },
            "colorscale": [
             [
              0,
              "#0d0887"
             ],
             [
              0.1111111111111111,
              "#46039f"
             ],
             [
              0.2222222222222222,
              "#7201a8"
             ],
             [
              0.3333333333333333,
              "#9c179e"
             ],
             [
              0.4444444444444444,
              "#bd3786"
             ],
             [
              0.5555555555555556,
              "#d8576b"
             ],
             [
              0.6666666666666666,
              "#ed7953"
             ],
             [
              0.7777777777777778,
              "#fb9f3a"
             ],
             [
              0.8888888888888888,
              "#fdca26"
             ],
             [
              1,
              "#f0f921"
             ]
            ],
            "type": "histogram2d"
           }
          ],
          "histogram2dcontour": [
           {
            "colorbar": {
             "outlinewidth": 0,
             "ticks": ""
            },
            "colorscale": [
             [
              0,
              "#0d0887"
             ],
             [
              0.1111111111111111,
              "#46039f"
             ],
             [
              0.2222222222222222,
              "#7201a8"
             ],
             [
              0.3333333333333333,
              "#9c179e"
             ],
             [
              0.4444444444444444,
              "#bd3786"
             ],
             [
              0.5555555555555556,
              "#d8576b"
             ],
             [
              0.6666666666666666,
              "#ed7953"
             ],
             [
              0.7777777777777778,
              "#fb9f3a"
             ],
             [
              0.8888888888888888,
              "#fdca26"
             ],
             [
              1,
              "#f0f921"
             ]
            ],
            "type": "histogram2dcontour"
           }
          ],
          "mesh3d": [
           {
            "colorbar": {
             "outlinewidth": 0,
             "ticks": ""
            },
            "type": "mesh3d"
           }
          ],
          "parcoords": [
           {
            "line": {
             "colorbar": {
              "outlinewidth": 0,
              "ticks": ""
             }
            },
            "type": "parcoords"
           }
          ],
          "pie": [
           {
            "automargin": true,
            "type": "pie"
           }
          ],
          "scatter": [
           {
            "marker": {
             "colorbar": {
              "outlinewidth": 0,
              "ticks": ""
             }
            },
            "type": "scatter"
           }
          ],
          "scatter3d": [
           {
            "line": {
             "colorbar": {
              "outlinewidth": 0,
              "ticks": ""
             }
            },
            "marker": {
             "colorbar": {
              "outlinewidth": 0,
              "ticks": ""
             }
            },
            "type": "scatter3d"
           }
          ],
          "scattercarpet": [
           {
            "marker": {
             "colorbar": {
              "outlinewidth": 0,
              "ticks": ""
             }
            },
            "type": "scattercarpet"
           }
          ],
          "scattergeo": [
           {
            "marker": {
             "colorbar": {
              "outlinewidth": 0,
              "ticks": ""
             }
            },
            "type": "scattergeo"
           }
          ],
          "scattergl": [
           {
            "marker": {
             "colorbar": {
              "outlinewidth": 0,
              "ticks": ""
             }
            },
            "type": "scattergl"
           }
          ],
          "scattermapbox": [
           {
            "marker": {
             "colorbar": {
              "outlinewidth": 0,
              "ticks": ""
             }
            },
            "type": "scattermapbox"
           }
          ],
          "scatterpolar": [
           {
            "marker": {
             "colorbar": {
              "outlinewidth": 0,
              "ticks": ""
             }
            },
            "type": "scatterpolar"
           }
          ],
          "scatterpolargl": [
           {
            "marker": {
             "colorbar": {
              "outlinewidth": 0,
              "ticks": ""
             }
            },
            "type": "scatterpolargl"
           }
          ],
          "scatterternary": [
           {
            "marker": {
             "colorbar": {
              "outlinewidth": 0,
              "ticks": ""
             }
            },
            "type": "scatterternary"
           }
          ],
          "surface": [
           {
            "colorbar": {
             "outlinewidth": 0,
             "ticks": ""
            },
            "colorscale": [
             [
              0,
              "#0d0887"
             ],
             [
              0.1111111111111111,
              "#46039f"
             ],
             [
              0.2222222222222222,
              "#7201a8"
             ],
             [
              0.3333333333333333,
              "#9c179e"
             ],
             [
              0.4444444444444444,
              "#bd3786"
             ],
             [
              0.5555555555555556,
              "#d8576b"
             ],
             [
              0.6666666666666666,
              "#ed7953"
             ],
             [
              0.7777777777777778,
              "#fb9f3a"
             ],
             [
              0.8888888888888888,
              "#fdca26"
             ],
             [
              1,
              "#f0f921"
             ]
            ],
            "type": "surface"
           }
          ],
          "table": [
           {
            "cells": {
             "fill": {
              "color": "#EBF0F8"
             },
             "line": {
              "color": "white"
             }
            },
            "header": {
             "fill": {
              "color": "#C8D4E3"
             },
             "line": {
              "color": "white"
             }
            },
            "type": "table"
           }
          ]
         },
         "layout": {
          "annotationdefaults": {
           "arrowcolor": "#2a3f5f",
           "arrowhead": 0,
           "arrowwidth": 1
          },
          "autotypenumbers": "strict",
          "coloraxis": {
           "colorbar": {
            "outlinewidth": 0,
            "ticks": ""
           }
          },
          "colorscale": {
           "diverging": [
            [
             0,
             "#8e0152"
            ],
            [
             0.1,
             "#c51b7d"
            ],
            [
             0.2,
             "#de77ae"
            ],
            [
             0.3,
             "#f1b6da"
            ],
            [
             0.4,
             "#fde0ef"
            ],
            [
             0.5,
             "#f7f7f7"
            ],
            [
             0.6,
             "#e6f5d0"
            ],
            [
             0.7,
             "#b8e186"
            ],
            [
             0.8,
             "#7fbc41"
            ],
            [
             0.9,
             "#4d9221"
            ],
            [
             1,
             "#276419"
            ]
           ],
           "sequential": [
            [
             0,
             "#0d0887"
            ],
            [
             0.1111111111111111,
             "#46039f"
            ],
            [
             0.2222222222222222,
             "#7201a8"
            ],
            [
             0.3333333333333333,
             "#9c179e"
            ],
            [
             0.4444444444444444,
             "#bd3786"
            ],
            [
             0.5555555555555556,
             "#d8576b"
            ],
            [
             0.6666666666666666,
             "#ed7953"
            ],
            [
             0.7777777777777778,
             "#fb9f3a"
            ],
            [
             0.8888888888888888,
             "#fdca26"
            ],
            [
             1,
             "#f0f921"
            ]
           ],
           "sequentialminus": [
            [
             0,
             "#0d0887"
            ],
            [
             0.1111111111111111,
             "#46039f"
            ],
            [
             0.2222222222222222,
             "#7201a8"
            ],
            [
             0.3333333333333333,
             "#9c179e"
            ],
            [
             0.4444444444444444,
             "#bd3786"
            ],
            [
             0.5555555555555556,
             "#d8576b"
            ],
            [
             0.6666666666666666,
             "#ed7953"
            ],
            [
             0.7777777777777778,
             "#fb9f3a"
            ],
            [
             0.8888888888888888,
             "#fdca26"
            ],
            [
             1,
             "#f0f921"
            ]
           ]
          },
          "colorway": [
           "#636efa",
           "#EF553B",
           "#00cc96",
           "#ab63fa",
           "#FFA15A",
           "#19d3f3",
           "#FF6692",
           "#B6E880",
           "#FF97FF",
           "#FECB52"
          ],
          "font": {
           "color": "#2a3f5f"
          },
          "geo": {
           "bgcolor": "white",
           "lakecolor": "white",
           "landcolor": "#E5ECF6",
           "showlakes": true,
           "showland": true,
           "subunitcolor": "white"
          },
          "hoverlabel": {
           "align": "left"
          },
          "hovermode": "closest",
          "mapbox": {
           "style": "light"
          },
          "paper_bgcolor": "white",
          "plot_bgcolor": "#E5ECF6",
          "polar": {
           "angularaxis": {
            "gridcolor": "white",
            "linecolor": "white",
            "ticks": ""
           },
           "bgcolor": "#E5ECF6",
           "radialaxis": {
            "gridcolor": "white",
            "linecolor": "white",
            "ticks": ""
           }
          },
          "scene": {
           "xaxis": {
            "backgroundcolor": "#E5ECF6",
            "gridcolor": "white",
            "gridwidth": 2,
            "linecolor": "white",
            "showbackground": true,
            "ticks": "",
            "zerolinecolor": "white"
           },
           "yaxis": {
            "backgroundcolor": "#E5ECF6",
            "gridcolor": "white",
            "gridwidth": 2,
            "linecolor": "white",
            "showbackground": true,
            "ticks": "",
            "zerolinecolor": "white"
           },
           "zaxis": {
            "backgroundcolor": "#E5ECF6",
            "gridcolor": "white",
            "gridwidth": 2,
            "linecolor": "white",
            "showbackground": true,
            "ticks": "",
            "zerolinecolor": "white"
           }
          },
          "shapedefaults": {
           "line": {
            "color": "#2a3f5f"
           }
          },
          "ternary": {
           "aaxis": {
            "gridcolor": "white",
            "linecolor": "white",
            "ticks": ""
           },
           "baxis": {
            "gridcolor": "white",
            "linecolor": "white",
            "ticks": ""
           },
           "bgcolor": "#E5ECF6",
           "caxis": {
            "gridcolor": "white",
            "linecolor": "white",
            "ticks": ""
           }
          },
          "title": {
           "x": 0.05
          },
          "xaxis": {
           "automargin": true,
           "gridcolor": "white",
           "linecolor": "white",
           "ticks": "",
           "title": {
            "standoff": 15
           },
           "zerolinecolor": "white",
           "zerolinewidth": 2
          },
          "yaxis": {
           "automargin": true,
           "gridcolor": "white",
           "linecolor": "white",
           "ticks": "",
           "title": {
            "standoff": 15
           },
           "zerolinecolor": "white",
           "zerolinewidth": 2
          }
         }
        },
        "title": {
         "text": "Movie monthwise analysis"
        },
        "width": 1200,
        "xaxis": {
         "anchor": "y",
         "domain": [
          0,
          1
         ]
        },
        "xaxis2": {
         "anchor": "y2",
         "domain": [
          0,
          1
         ]
        },
        "xaxis3": {
         "anchor": "y3",
         "domain": [
          0,
          1
         ]
        },
        "yaxis": {
         "anchor": "x",
         "domain": [
          0.7333333333333333,
          1
         ]
        },
        "yaxis2": {
         "anchor": "x2",
         "domain": [
          0.36666666666666664,
          0.6333333333333333
         ]
        },
        "yaxis3": {
         "anchor": "x3",
         "domain": [
          0,
          0.26666666666666666
         ]
        }
       }
      }
     },
     "metadata": {}
    }
   ],
   "source": [
    "num_row, num_col = 3, 1\n",
    "fig = make_subplots(rows=num_row, cols=num_col)\n",
    "\n",
    "fig.add_trace(\n",
    "    go.Bar(x=months, y=num_movies_arr, name=\"# of movies\"),\n",
    "    1, 1\n",
    ")\n",
    "\n",
    "fig.add_trace(\n",
    "    go.Bar(x=months, y=sum_budget, name=\"Budget\"),\n",
    "    2, 1\n",
    ")\n",
    "\n",
    "fig.add_trace(\n",
    "    go.Bar(x=months, y=avg_budget, name=\"Average budget\"),\n",
    "    3, 1\n",
    ")\n",
    "\n",
    "fig.update_layout(\n",
    "    height=900, \n",
    "    width=1200,\n",
    "    title_text=\"Movie monthwise analysis\"\n",
    ")"
   ]
  },
  {
   "cell_type": "code",
   "execution_count": 88,
   "metadata": {},
   "outputs": [
    {
     "output_type": "stream",
     "name": "stdout",
     "text": [
      " ---- Adjusted for inflation\n",
      "1900 >> total movies 0(0 do not have Budget info) -- total Budget: 0, average: 0\n",
      "1901 >> total movies 0(0 do not have Budget info) -- total Budget: 0, average: 0\n",
      "1902 >> total movies 1(0 do not have Budget info) -- total Budget: 30000, average: 30000.0\n",
      "1903 >> total movies 1(0 do not have Budget info) -- total Budget: 150, average: 150.0\n",
      "1904 >> total movies 0(0 do not have Budget info) -- total Budget: 0, average: 0\n",
      "1905 >> total movies 0(0 do not have Budget info) -- total Budget: 0, average: 0\n",
      "1906 >> total movies 0(0 do not have Budget info) -- total Budget: 0, average: 0\n",
      "1907 >> total movies 0(0 do not have Budget info) -- total Budget: 0, average: 0\n",
      "1908 >> total movies 0(0 do not have Budget info) -- total Budget: 0, average: 0\n",
      "1909 >> total movies 0(0 do not have Budget info) -- total Budget: 0, average: 0\n",
      "1910 >> total movies 0(0 do not have Budget info) -- total Budget: 0, average: 0\n",
      "1911 >> total movies 1(1 do not have Budget info) -- total Budget: 0, average: 0\n",
      "1912 >> total movies 0(0 do not have Budget info) -- total Budget: 0, average: 0\n",
      "1913 >> total movies 0(0 do not have Budget info) -- total Budget: 0, average: 0\n",
      "1914 >> total movies 2(0 do not have Budget info) -- total Budget: 5901014.5, average: 2950507.25\n",
      "1915 >> total movies 2(1 do not have Budget info) -- total Budget: 2486207.920792079, average: 2486207.920792079\n",
      "1916 >> total movies 1(1 do not have Budget info) -- total Budget: 0, average: 0\n",
      "1917 >> total movies 4(2 do not have Budget info) -- total Budget: 17379488.206953123, average: 8689744.103476562\n",
      "1918 >> total movies 1(1 do not have Budget info) -- total Budget: 0, average: 0\n",
      "1919 >> total movies 1(0 do not have Budget info) -- total Budget: 1277307.2832369942, average: 1277307.2832369942\n",
      "1920 >> total movies 3(1 do not have Budget info) -- total Budget: 9014741.3, average: 4507370.65\n",
      "1921 >> total movies 3(1 do not have Budget info) -- total Budget: 14729740.223463688, average: 7364870.111731844\n",
      "1922 >> total movies 8(4 do not have Budget info) -- total Budget: 54600825.654761896, average: 13650206.413690474\n",
      "1923 >> total movies 7(3 do not have Budget info) -- total Budget: 51719231.22807017, average: 12929807.807017542\n",
      "1924 >> total movies 6(2 do not have Budget info) -- total Budget: 28306866.25602339, average: 7076716.564005847\n",
      "1925 >> total movies 8(6 do not have Budget info) -- total Budget: 21091309.170342855, average: 10545654.585171428\n",
      "1926 >> total movies 7(4 do not have Budget info) -- total Budget: 31409655.25423729, average: 10469885.084745763\n",
      "1927 >> total movies 10(1 do not have Budget info) -- total Budget: 187771609.08218396, average: 20863512.120242663\n",
      "1928 >> total movies 18(14 do not have Budget info) -- total Budget: 33730571.87134503, average: 8432642.967836257\n",
      "1929 >> total movies 16(8 do not have Budget info) -- total Budget: 384134765.93578947, average: 48016845.74197368\n",
      "1930 >> total movies 19(9 do not have Budget info) -- total Budget: 180446557.78065872, average: 18044655.77806587\n",
      "1931 >> total movies 28(16 do not have Budget info) -- total Budget: 102281316.24493422, average: 8523443.020411184\n",
      "1932 >> total movies 42(20 do not have Budget info) -- total Budget: 163901094.72175184, average: 7450049.760079629\n",
      "1933 >> total movies 36(18 do not have Budget info) -- total Budget: 157625040.56738463, average: 8756946.698188035\n",
      "1934 >> total movies 34(19 do not have Budget info) -- total Budget: 132343957.98119405, average: 8822930.532079604\n",
      "1935 >> total movies 37(19 do not have Budget info) -- total Budget: 178359212.5964964, average: 9908845.1442498\n",
      "1936 >> total movies 44(24 do not have Budget info) -- total Budget: 320080131.36690646, average: 16004006.568345323\n",
      "1937 >> total movies 43(26 do not have Budget info) -- total Budget: 361115686.28902775, average: 21242099.19347222\n",
      "1938 >> total movies 34(22 do not have Budget info) -- total Budget: 318918997.42921984, average: 26576583.119101655\n",
      "1939 >> total movies 57(33 do not have Budget info) -- total Budget: 514968067.76978415, average: 21457002.823741008\n",
      "1940 >> total movies 66(42 do not have Budget info) -- total Budget: 574390438.3310001, average: 23932934.930458337\n",
      "1941 >> total movies 55(32 do not have Budget info) -- total Budget: 342282704.70605445, average: 14881856.726350194\n",
      "1942 >> total movies 58(35 do not have Budget info) -- total Budget: 355535561.33018404, average: 15458067.883921046\n",
      "1943 >> total movies 57(38 do not have Budget info) -- total Budget: 299992496.2451445, average: 15789078.749744447\n",
      "1944 >> total movies 58(33 do not have Budget info) -- total Budget: 567417599.2828978, average: 22696703.971315913\n",
      "1945 >> total movies 59(35 do not have Budget info) -- total Budget: 446195990.21044445, average: 18591499.592101853\n",
      "1946 >> total movies 72(42 do not have Budget info) -- total Budget: 539588740.125436, average: 17986291.33751453\n",
      "1947 >> total movies 73(40 do not have Budget info) -- total Budget: 741874642.1077131, average: 22481049.76083979\n",
      "1948 >> total movies 77(42 do not have Budget info) -- total Budget: 763125332.1534024, average: 21803580.918668643\n",
      "1949 >> total movies 87(52 do not have Budget info) -- total Budget: 487601999.2642857, average: 13931485.693265306\n",
      "1950 >> total movies 88(61 do not have Budget info) -- total Budget: 1213774228.3802078, average: 44954601.051118806\n",
      "1951 >> total movies 82(50 do not have Budget info) -- total Budget: 482854191.1458462, average: 15089193.473307693\n",
      "1952 >> total movies 68(48 do not have Budget info) -- total Budget: 267192080.5552453, average: 13359604.027762266\n",
      "1953 >> total movies 107(59 do not have Budget info) -- total Budget: 733943909.8333331, average: 15290498.121527774\n",
      "1954 >> total movies 98(63 do not have Budget info) -- total Budget: 583417597.7589592, average: 16669074.221684547\n",
      "1955 >> total movies 120(72 do not have Budget info) -- total Budget: 7314232140.6500025, average: 152379836.26354173\n",
      "1956 >> total movies 124(75 do not have Budget info) -- total Budget: 2248872859.3450003, average: 45895364.476428576\n",
      "1957 >> total movies 127(84 do not have Budget info) -- total Budget: 681379854.2897152, average: 15846043.123016631\n",
      "1958 >> total movies 130(81 do not have Budget info) -- total Budget: 701611178.4629412, average: 14318595.478835534\n",
      "1959 >> total movies 135(77 do not have Budget info) -- total Budget: 1400235175.764124, average: 24141985.78903662\n",
      "1960 >> total movies 125(76 do not have Budget info) -- total Budget: 4952579551.978276, average: 101073052.0811893\n",
      "1961 >> total movies 110(72 do not have Budget info) -- total Budget: 825192685.9736788, average: 21715596.99930734\n",
      "1962 >> total movies 149(98 do not have Budget info) -- total Budget: 1137269273.6945038, average: 22299397.52342164\n",
      "1963 >> total movies 129(79 do not have Budget info) -- total Budget: 25133041835.019436, average: 502660836.7003887\n",
      "1964 >> total movies 152(98 do not have Budget info) -- total Budget: 1184977173.0903223, average: 21944021.723894857\n",
      "1965 >> total movies 150(90 do not have Budget info) -- total Budget: 5511669708.548413, average: 91861161.80914022\n",
      "1966 >> total movies 146(89 do not have Budget info) -- total Budget: 1453633614.5584252, average: 25502344.11506009\n",
      "1967 >> total movies 151(90 do not have Budget info) -- total Budget: 1440460487.1797307, average: 23614106.3472087\n",
      "1968 >> total movies 199(127 do not have Budget info) -- total Budget: 7597754694.810086, average: 105524370.7612512\n",
      "1969 >> total movies 174(119 do not have Budget info) -- total Budget: 3081076643.1146855, average: 56019575.32935792\n",
      "1970 >> total movies 223(151 do not have Budget info) -- total Budget: 2151672756.771187, average: 29884343.84404426\n",
      "1971 >> total movies 215(138 do not have Budget info) -- total Budget: 3820091355.2157283, average: 49611576.0417627\n",
      "1972 >> total movies 245(173 do not have Budget info) -- total Budget: 711833203.5848569, average: 9886572.2720119\n",
      "1973 >> total movies 244(175 do not have Budget info) -- total Budget: 991714198.0896624, average: 14372669.53753134\n",
      "1974 >> total movies 232(156 do not have Budget info) -- total Budget: 942481166.2751727, average: 12401067.977304904\n",
      "1975 >> total movies 220(146 do not have Budget info) -- total Budget: 17430536942.091427, average: 235547796.51474902\n",
      "1976 >> total movies 236(161 do not have Budget info) -- total Budget: 1110698666.8985054, average: 14809315.558646739\n",
      "1977 >> total movies 215(141 do not have Budget info) -- total Budget: 1523003319.9587455, average: 20581125.94538845\n",
      "1978 >> total movies 246(142 do not have Budget info) -- total Budget: 4087500489.3282213, average: 39302889.320463665\n",
      "1979 >> total movies 251(150 do not have Budget info) -- total Budget: 19426156336.115696, average: 192338181.54569995\n",
      "1980 >> total movies 242(138 do not have Budget info) -- total Budget: 4427336388.580096, average: 42570542.19788554\n",
      "1981 >> total movies 246(144 do not have Budget info) -- total Budget: 2409152049.966995, average: 23619137.744774457\n",
      "1982 >> total movies 250(143 do not have Budget info) -- total Budget: 2521350518.343026, average: 23564023.53591613\n",
      "1983 >> total movies 274(157 do not have Budget info) -- total Budget: 2357728333.7951813, average: 20151524.220471635\n",
      "1984 >> total movies 283(165 do not have Budget info) -- total Budget: 2981082335.588151, average: 25263409.623628397\n",
      "1985 >> total movies 308(181 do not have Budget info) -- total Budget: 4324785989.535316, average: 34053432.98846706\n",
      "1986 >> total movies 310(185 do not have Budget info) -- total Budget: 71910841141.99573, average: 575286729.1359658\n",
      "1987 >> total movies 342(202 do not have Budget info) -- total Budget: 3292794557.1614985, average: 23519961.122582134\n",
      "1988 >> total movies 373(211 do not have Budget info) -- total Budget: 6657088549.695692, average: 41093139.19565242\n",
      "1989 >> total movies 348(198 do not have Budget info) -- total Budget: 4074044206.298277, average: 27160294.70865518\n",
      "1990 >> total movies 313(177 do not have Budget info) -- total Budget: 6634456355.937257, average: 48782767.32306807\n",
      "1991 >> total movies 331(182 do not have Budget info) -- total Budget: 4748593768.7444935, average: 31869756.837211367\n",
      "1992 >> total movies 312(168 do not have Budget info) -- total Budget: 4691607263.480776, average: 32580605.996394277\n",
      "1993 >> total movies 361(184 do not have Budget info) -- total Budget: 4896306719.882355, average: 27662749.82984381\n",
      "1994 >> total movies 364(189 do not have Budget info) -- total Budget: 7510149104.062551, average: 42915137.73750029\n",
      "1995 >> total movies 372(197 do not have Budget info) -- total Budget: 9549354309.8246, average: 54567738.91328343\n",
      "1996 >> total movies 380(190 do not have Budget info) -- total Budget: 8514534558.773827, average: 44813339.78302014\n",
      "1997 >> total movies 384(180 do not have Budget info) -- total Budget: 13873199362.665365, average: 68005879.2287518\n",
      "1998 >> total movies 400(194 do not have Budget info) -- total Budget: 9801021122.826538, average: 47577772.44090553\n",
      "1999 >> total movies 411(198 do not have Budget info) -- total Budget: 11075209585.591835, average: 51996289.13423397\n",
      "2000 >> total movies 410(172 do not have Budget info) -- total Budget: 13978737342.90941, average: 58734190.516426094\n",
      "2001 >> total movies 424(171 do not have Budget info) -- total Budget: 11935443392.582998, average: 47175665.58333201\n",
      "2002 >> total movies 461(181 do not have Budget info) -- total Budget: 12097301751.603996, average: 43204649.112871416\n",
      "2003 >> total movies 451(194 do not have Budget info) -- total Budget: 11626357830.391098, average: 45238746.42175525\n",
      "2004 >> total movies 488(195 do not have Budget info) -- total Budget: 21873738879.852978, average: 74654398.90734805\n",
      "2005 >> total movies 516(221 do not have Budget info) -- total Budget: 21547319339.6246, average: 73041760.47330372\n",
      "2006 >> total movies 584(227 do not have Budget info) -- total Budget: 13681242915.042164, average: 38322809.28583239\n",
      "2007 >> total movies 620(269 do not have Budget info) -- total Budget: 27093993105.876816, average: 77190863.5495066\n",
      "2008 >> total movies 655(262 do not have Budget info) -- total Budget: 12852591107.954596, average: 32703794.167823397\n",
      "2009 >> total movies 687(302 do not have Budget info) -- total Budget: 16711838022.795216, average: 43407371.48777978\n",
      "2010 >> total movies 658(290 do not have Budget info) -- total Budget: 23635976876.193905, average: 64228198.03313561\n",
      "2011 >> total movies 792(374 do not have Budget info) -- total Budget: 16596050210.153738, average: 39703469.40228167\n",
      "2012 >> total movies 821(435 do not have Budget info) -- total Budget: 57732529341.674255, average: 149566138.19086593\n",
      "2013 >> total movies 950(511 do not have Budget info) -- total Budget: 24801514702.91557, average: 56495477.683178976\n",
      "2014 >> total movies 1074(641 do not have Budget info) -- total Budget: 14243917295.733389, average: 32895882.900077112\n",
      "2015 >> total movies 1255(749 do not have Budget info) -- total Budget: 157347954328.729, average: 310964336.6180415\n",
      "2016 >> total movies 1346(849 do not have Budget info) -- total Budget: 76435160060.59836, average: 153793078.59275323\n",
      "2017 >> total movies 1585(1086 do not have Budget info) -- total Budget: 44731205253.46405, average: 89641693.89471753\n",
      "2018 >> total movies 1744(1266 do not have Budget info) -- total Budget: 131875735911.0, average: 275890660.9016736\n",
      "2019 >> total movies 2137(1670 do not have Budget info) -- total Budget: 66667375501, average: 142756692.7216274\n",
      "2020 >> total movies 2595(2172 do not have Budget info) -- total Budget: 16550172661, average: 39125703.69030733\n",
      "2021 >> total movies 1687(1425 do not have Budget info) -- total Budget: 10247289120, average: 39111790.53435115\n",
      "2022 >> total movies 121(104 do not have Budget info) -- total Budget: 13910025026, average: 818236766.2352941\n",
      "2023 >> total movies 15(14 do not have Budget info) -- total Budget: 285000000, average: 285000000.0\n",
      "2024 >> total movies 1(1 do not have Budget info) -- total Budget: 0, average: 0\n"
     ]
    }
   ],
   "source": [
    "checkInflation = True\n",
    "\n",
    "sum_budget = []\n",
    "avg_budget = []\n",
    "num_movies_arr = []\n",
    "\n",
    "if(checkInflation == True):\n",
    "    print(\" ---- Adjusted for inflation\")\n",
    "\n",
    "for year in year_movie:\n",
    "    lst = year_movie[year]\n",
    "    num_movies = len(lst)\n",
    "    no_budget = 0\n",
    "    budget = 0\n",
    "    for movie in lst:\n",
    "        try:\n",
    "            amount = getMoney(movie['details']['Budget'][0])\n",
    "            if(checkInflation == True):\n",
    "                date_str = movie['details']['Release Date'][0]\n",
    "                day, month, year = getDate(date_str)\n",
    "                # print(day, month, type(year))\n",
    "                amount = adjustInflation(amount, int(year))\n",
    "            budget += amount\n",
    "        except:\n",
    "            if('Budget' not in movie['details']):\n",
    "                no_budget += 1\n",
    "            else:\n",
    "                print(movie['details']['Budget'])\n",
    "                no_budget += 1\n",
    "    sum_budget.append(budget)\n",
    "    avg = 0\n",
    "    if(num_movies-no_budget != 0):\n",
    "        avg = budget / (num_movies-no_budget)\n",
    "    avg_budget.append(avg)\n",
    "    num_movies_arr.append(num_movies-no_budget)\n",
    "    print(\"{} >> total movies {}({} do not have Budget info) -- total Budget: {}, average: {}\".format(year, num_movies, no_budget, budget, avg))  "
   ]
  },
  {
   "cell_type": "code",
   "execution_count": 89,
   "metadata": {},
   "outputs": [
    {
     "output_type": "display_data",
     "data": {
      "application/vnd.plotly.v1+json": {
       "config": {
        "plotlyServerURL": "https://plot.ly"
       },
       "data": [
        {
         "name": "# of movies",
         "type": "bar",
         "x": [
          "1900",
          "1901",
          "1902",
          "1903",
          "1904",
          "1905",
          "1906",
          "1907",
          "1908",
          "1909",
          "1910",
          "1911",
          "1912",
          "1913",
          "1914",
          "1915",
          "1916",
          "1917",
          "1918",
          "1919",
          "1920",
          "1921",
          "1922",
          "1923",
          "1924",
          "1925",
          "1926",
          "1927",
          "1928",
          "1929",
          "1930",
          "1931",
          "1932",
          "1933",
          "1934",
          "1935",
          "1936",
          "1937",
          "1938",
          "1939",
          "1940",
          "1941",
          "1942",
          "1943",
          "1944",
          "1945",
          "1946",
          "1947",
          "1948",
          "1949",
          "1950",
          "1951",
          "1952",
          "1953",
          "1954",
          "1955",
          "1956",
          "1957",
          "1958",
          "1959",
          "1960",
          "1961",
          "1962",
          "1963",
          "1964",
          "1965",
          "1966",
          "1967",
          "1968",
          "1969",
          "1970",
          "1971",
          "1972",
          "1973",
          "1974",
          "1975",
          "1976",
          "1977",
          "1978",
          "1979",
          "1980",
          "1981",
          "1982",
          "1983",
          "1984",
          "1985",
          "1986",
          "1987",
          "1988",
          "1989",
          "1990",
          "1991",
          "1992",
          "1993",
          "1994",
          "1995",
          "1996",
          "1997",
          "1998",
          "1999",
          "2000",
          "2001",
          "2002",
          "2003",
          "2004",
          "2005",
          "2006",
          "2007",
          "2008",
          "2009",
          "2010",
          "2011",
          "2012",
          "2013",
          "2014",
          "2015",
          "2016",
          "2017",
          "2018",
          "2019",
          "2020",
          "2021",
          "2022",
          "2023",
          "2024"
         ],
         "xaxis": "x",
         "y": [
          0,
          0,
          1,
          1,
          0,
          0,
          0,
          0,
          0,
          0,
          0,
          0,
          0,
          0,
          2,
          1,
          0,
          2,
          0,
          1,
          2,
          2,
          4,
          4,
          4,
          2,
          3,
          9,
          4,
          8,
          10,
          12,
          22,
          18,
          15,
          18,
          20,
          17,
          12,
          24,
          24,
          23,
          23,
          19,
          25,
          24,
          30,
          33,
          35,
          35,
          27,
          32,
          20,
          48,
          35,
          48,
          49,
          43,
          49,
          58,
          49,
          38,
          51,
          50,
          54,
          60,
          57,
          61,
          72,
          55,
          72,
          77,
          72,
          69,
          76,
          74,
          75,
          74,
          104,
          101,
          104,
          102,
          107,
          117,
          118,
          127,
          125,
          140,
          162,
          150,
          136,
          149,
          144,
          177,
          175,
          175,
          190,
          204,
          206,
          213,
          238,
          253,
          280,
          257,
          293,
          295,
          357,
          351,
          393,
          385,
          368,
          418,
          386,
          439,
          433,
          506,
          497,
          499,
          478,
          467,
          423,
          262,
          17,
          1,
          0
         ],
         "yaxis": "y"
        },
        {
         "name": "Budget",
         "type": "bar",
         "x": [
          "1900",
          "1901",
          "1902",
          "1903",
          "1904",
          "1905",
          "1906",
          "1907",
          "1908",
          "1909",
          "1910",
          "1911",
          "1912",
          "1913",
          "1914",
          "1915",
          "1916",
          "1917",
          "1918",
          "1919",
          "1920",
          "1921",
          "1922",
          "1923",
          "1924",
          "1925",
          "1926",
          "1927",
          "1928",
          "1929",
          "1930",
          "1931",
          "1932",
          "1933",
          "1934",
          "1935",
          "1936",
          "1937",
          "1938",
          "1939",
          "1940",
          "1941",
          "1942",
          "1943",
          "1944",
          "1945",
          "1946",
          "1947",
          "1948",
          "1949",
          "1950",
          "1951",
          "1952",
          "1953",
          "1954",
          "1955",
          "1956",
          "1957",
          "1958",
          "1959",
          "1960",
          "1961",
          "1962",
          "1963",
          "1964",
          "1965",
          "1966",
          "1967",
          "1968",
          "1969",
          "1970",
          "1971",
          "1972",
          "1973",
          "1974",
          "1975",
          "1976",
          "1977",
          "1978",
          "1979",
          "1980",
          "1981",
          "1982",
          "1983",
          "1984",
          "1985",
          "1986",
          "1987",
          "1988",
          "1989",
          "1990",
          "1991",
          "1992",
          "1993",
          "1994",
          "1995",
          "1996",
          "1997",
          "1998",
          "1999",
          "2000",
          "2001",
          "2002",
          "2003",
          "2004",
          "2005",
          "2006",
          "2007",
          "2008",
          "2009",
          "2010",
          "2011",
          "2012",
          "2013",
          "2014",
          "2015",
          "2016",
          "2017",
          "2018",
          "2019",
          "2020",
          "2021",
          "2022",
          "2023",
          "2024"
         ],
         "xaxis": "x2",
         "y": [
          0,
          0,
          30000,
          150,
          0,
          0,
          0,
          0,
          0,
          0,
          0,
          0,
          0,
          0,
          5901014.5,
          2486207.920792079,
          0,
          17379488.206953123,
          0,
          1277307.2832369942,
          9014741.3,
          14729740.223463688,
          54600825.654761896,
          51719231.22807017,
          28306866.25602339,
          21091309.170342855,
          31409655.25423729,
          187771609.08218396,
          33730571.87134503,
          384134765.93578947,
          180446557.78065872,
          102281316.24493422,
          163901094.72175184,
          157625040.56738463,
          132343957.98119405,
          178359212.5964964,
          320080131.36690646,
          361115686.28902775,
          318918997.42921984,
          514968067.76978415,
          574390438.3310001,
          342282704.70605445,
          355535561.33018404,
          299992496.2451445,
          567417599.2828978,
          446195990.21044445,
          539588740.125436,
          741874642.1077131,
          763125332.1534024,
          487601999.2642857,
          1213774228.3802078,
          482854191.1458462,
          267192080.5552453,
          733943909.8333331,
          583417597.7589592,
          7314232140.6500025,
          2248872859.3450003,
          681379854.2897152,
          701611178.4629412,
          1400235175.764124,
          4952579551.978276,
          825192685.9736788,
          1137269273.6945038,
          25133041835.019436,
          1184977173.0903223,
          5511669708.548413,
          1453633614.5584252,
          1440460487.1797307,
          7597754694.810086,
          3081076643.1146855,
          2151672756.771187,
          3820091355.2157283,
          711833203.5848569,
          991714198.0896624,
          942481166.2751727,
          17430536942.091427,
          1110698666.8985054,
          1523003319.9587455,
          4087500489.3282213,
          19426156336.115696,
          4427336388.580096,
          2409152049.966995,
          2521350518.343026,
          2357728333.7951813,
          2981082335.588151,
          4324785989.535316,
          71910841141.99573,
          3292794557.1614985,
          6657088549.695692,
          4074044206.298277,
          6634456355.937257,
          4748593768.7444935,
          4691607263.480776,
          4896306719.882355,
          7510149104.062551,
          9549354309.8246,
          8514534558.773827,
          13873199362.665365,
          9801021122.826538,
          11075209585.591835,
          13978737342.90941,
          11935443392.582998,
          12097301751.603996,
          11626357830.391098,
          21873738879.852978,
          21547319339.6246,
          13681242915.042164,
          27093993105.876816,
          12852591107.954596,
          16711838022.795216,
          23635976876.193905,
          16596050210.153738,
          57732529341.674255,
          24801514702.91557,
          14243917295.733389,
          157347954328.729,
          76435160060.59836,
          44731205253.46405,
          131875735911,
          66667375501,
          16550172661,
          10247289120,
          13910025026,
          285000000,
          0
         ],
         "yaxis": "y2"
        },
        {
         "name": "Average budget",
         "type": "bar",
         "x": [
          "1900",
          "1901",
          "1902",
          "1903",
          "1904",
          "1905",
          "1906",
          "1907",
          "1908",
          "1909",
          "1910",
          "1911",
          "1912",
          "1913",
          "1914",
          "1915",
          "1916",
          "1917",
          "1918",
          "1919",
          "1920",
          "1921",
          "1922",
          "1923",
          "1924",
          "1925",
          "1926",
          "1927",
          "1928",
          "1929",
          "1930",
          "1931",
          "1932",
          "1933",
          "1934",
          "1935",
          "1936",
          "1937",
          "1938",
          "1939",
          "1940",
          "1941",
          "1942",
          "1943",
          "1944",
          "1945",
          "1946",
          "1947",
          "1948",
          "1949",
          "1950",
          "1951",
          "1952",
          "1953",
          "1954",
          "1955",
          "1956",
          "1957",
          "1958",
          "1959",
          "1960",
          "1961",
          "1962",
          "1963",
          "1964",
          "1965",
          "1966",
          "1967",
          "1968",
          "1969",
          "1970",
          "1971",
          "1972",
          "1973",
          "1974",
          "1975",
          "1976",
          "1977",
          "1978",
          "1979",
          "1980",
          "1981",
          "1982",
          "1983",
          "1984",
          "1985",
          "1986",
          "1987",
          "1988",
          "1989",
          "1990",
          "1991",
          "1992",
          "1993",
          "1994",
          "1995",
          "1996",
          "1997",
          "1998",
          "1999",
          "2000",
          "2001",
          "2002",
          "2003",
          "2004",
          "2005",
          "2006",
          "2007",
          "2008",
          "2009",
          "2010",
          "2011",
          "2012",
          "2013",
          "2014",
          "2015",
          "2016",
          "2017",
          "2018",
          "2019",
          "2020",
          "2021",
          "2022",
          "2023",
          "2024"
         ],
         "xaxis": "x3",
         "y": [
          0,
          0,
          30000,
          150,
          0,
          0,
          0,
          0,
          0,
          0,
          0,
          0,
          0,
          0,
          2950507.25,
          2486207.920792079,
          0,
          8689744.103476562,
          0,
          1277307.2832369942,
          4507370.65,
          7364870.111731844,
          13650206.413690474,
          12929807.807017542,
          7076716.564005847,
          10545654.585171428,
          10469885.084745763,
          20863512.120242663,
          8432642.967836257,
          48016845.74197368,
          18044655.77806587,
          8523443.020411184,
          7450049.760079629,
          8756946.698188035,
          8822930.532079604,
          9908845.1442498,
          16004006.568345323,
          21242099.19347222,
          26576583.119101655,
          21457002.823741008,
          23932934.930458337,
          14881856.726350194,
          15458067.883921046,
          15789078.749744447,
          22696703.971315913,
          18591499.592101853,
          17986291.33751453,
          22481049.76083979,
          21803580.918668643,
          13931485.693265306,
          44954601.051118806,
          15089193.473307693,
          13359604.027762266,
          15290498.121527774,
          16669074.221684547,
          152379836.26354173,
          45895364.476428576,
          15846043.123016631,
          14318595.478835534,
          24141985.78903662,
          101073052.0811893,
          21715596.99930734,
          22299397.52342164,
          502660836.7003887,
          21944021.723894857,
          91861161.80914022,
          25502344.11506009,
          23614106.3472087,
          105524370.7612512,
          56019575.32935792,
          29884343.84404426,
          49611576.0417627,
          9886572.2720119,
          14372669.53753134,
          12401067.977304904,
          235547796.51474902,
          14809315.558646739,
          20581125.94538845,
          39302889.320463665,
          192338181.54569995,
          42570542.19788554,
          23619137.744774457,
          23564023.53591613,
          20151524.220471635,
          25263409.623628397,
          34053432.98846706,
          575286729.1359658,
          23519961.122582134,
          41093139.19565242,
          27160294.70865518,
          48782767.32306807,
          31869756.837211367,
          32580605.996394277,
          27662749.82984381,
          42915137.73750029,
          54567738.91328343,
          44813339.78302014,
          68005879.2287518,
          47577772.44090553,
          51996289.13423397,
          58734190.516426094,
          47175665.58333201,
          43204649.112871416,
          45238746.42175525,
          74654398.90734805,
          73041760.47330372,
          38322809.28583239,
          77190863.5495066,
          32703794.167823397,
          43407371.48777978,
          64228198.03313561,
          39703469.40228167,
          149566138.19086593,
          56495477.683178976,
          32895882.900077112,
          310964336.6180415,
          153793078.59275323,
          89641693.89471753,
          275890660.9016736,
          142756692.7216274,
          39125703.69030733,
          39111790.53435115,
          818236766.2352941,
          285000000,
          0
         ],
         "yaxis": "y3"
        }
       ],
       "layout": {
        "height": 900,
        "template": {
         "data": {
          "bar": [
           {
            "error_x": {
             "color": "#2a3f5f"
            },
            "error_y": {
             "color": "#2a3f5f"
            },
            "marker": {
             "line": {
              "color": "#E5ECF6",
              "width": 0.5
             }
            },
            "type": "bar"
           }
          ],
          "barpolar": [
           {
            "marker": {
             "line": {
              "color": "#E5ECF6",
              "width": 0.5
             }
            },
            "type": "barpolar"
           }
          ],
          "carpet": [
           {
            "aaxis": {
             "endlinecolor": "#2a3f5f",
             "gridcolor": "white",
             "linecolor": "white",
             "minorgridcolor": "white",
             "startlinecolor": "#2a3f5f"
            },
            "baxis": {
             "endlinecolor": "#2a3f5f",
             "gridcolor": "white",
             "linecolor": "white",
             "minorgridcolor": "white",
             "startlinecolor": "#2a3f5f"
            },
            "type": "carpet"
           }
          ],
          "choropleth": [
           {
            "colorbar": {
             "outlinewidth": 0,
             "ticks": ""
            },
            "type": "choropleth"
           }
          ],
          "contour": [
           {
            "colorbar": {
             "outlinewidth": 0,
             "ticks": ""
            },
            "colorscale": [
             [
              0,
              "#0d0887"
             ],
             [
              0.1111111111111111,
              "#46039f"
             ],
             [
              0.2222222222222222,
              "#7201a8"
             ],
             [
              0.3333333333333333,
              "#9c179e"
             ],
             [
              0.4444444444444444,
              "#bd3786"
             ],
             [
              0.5555555555555556,
              "#d8576b"
             ],
             [
              0.6666666666666666,
              "#ed7953"
             ],
             [
              0.7777777777777778,
              "#fb9f3a"
             ],
             [
              0.8888888888888888,
              "#fdca26"
             ],
             [
              1,
              "#f0f921"
             ]
            ],
            "type": "contour"
           }
          ],
          "contourcarpet": [
           {
            "colorbar": {
             "outlinewidth": 0,
             "ticks": ""
            },
            "type": "contourcarpet"
           }
          ],
          "heatmap": [
           {
            "colorbar": {
             "outlinewidth": 0,
             "ticks": ""
            },
            "colorscale": [
             [
              0,
              "#0d0887"
             ],
             [
              0.1111111111111111,
              "#46039f"
             ],
             [
              0.2222222222222222,
              "#7201a8"
             ],
             [
              0.3333333333333333,
              "#9c179e"
             ],
             [
              0.4444444444444444,
              "#bd3786"
             ],
             [
              0.5555555555555556,
              "#d8576b"
             ],
             [
              0.6666666666666666,
              "#ed7953"
             ],
             [
              0.7777777777777778,
              "#fb9f3a"
             ],
             [
              0.8888888888888888,
              "#fdca26"
             ],
             [
              1,
              "#f0f921"
             ]
            ],
            "type": "heatmap"
           }
          ],
          "heatmapgl": [
           {
            "colorbar": {
             "outlinewidth": 0,
             "ticks": ""
            },
            "colorscale": [
             [
              0,
              "#0d0887"
             ],
             [
              0.1111111111111111,
              "#46039f"
             ],
             [
              0.2222222222222222,
              "#7201a8"
             ],
             [
              0.3333333333333333,
              "#9c179e"
             ],
             [
              0.4444444444444444,
              "#bd3786"
             ],
             [
              0.5555555555555556,
              "#d8576b"
             ],
             [
              0.6666666666666666,
              "#ed7953"
             ],
             [
              0.7777777777777778,
              "#fb9f3a"
             ],
             [
              0.8888888888888888,
              "#fdca26"
             ],
             [
              1,
              "#f0f921"
             ]
            ],
            "type": "heatmapgl"
           }
          ],
          "histogram": [
           {
            "marker": {
             "colorbar": {
              "outlinewidth": 0,
              "ticks": ""
             }
            },
            "type": "histogram"
           }
          ],
          "histogram2d": [
           {
            "colorbar": {
             "outlinewidth": 0,
             "ticks": ""
            },
            "colorscale": [
             [
              0,
              "#0d0887"
             ],
             [
              0.1111111111111111,
              "#46039f"
             ],
             [
              0.2222222222222222,
              "#7201a8"
             ],
             [
              0.3333333333333333,
              "#9c179e"
             ],
             [
              0.4444444444444444,
              "#bd3786"
             ],
             [
              0.5555555555555556,
              "#d8576b"
             ],
             [
              0.6666666666666666,
              "#ed7953"
             ],
             [
              0.7777777777777778,
              "#fb9f3a"
             ],
             [
              0.8888888888888888,
              "#fdca26"
             ],
             [
              1,
              "#f0f921"
             ]
            ],
            "type": "histogram2d"
           }
          ],
          "histogram2dcontour": [
           {
            "colorbar": {
             "outlinewidth": 0,
             "ticks": ""
            },
            "colorscale": [
             [
              0,
              "#0d0887"
             ],
             [
              0.1111111111111111,
              "#46039f"
             ],
             [
              0.2222222222222222,
              "#7201a8"
             ],
             [
              0.3333333333333333,
              "#9c179e"
             ],
             [
              0.4444444444444444,
              "#bd3786"
             ],
             [
              0.5555555555555556,
              "#d8576b"
             ],
             [
              0.6666666666666666,
              "#ed7953"
             ],
             [
              0.7777777777777778,
              "#fb9f3a"
             ],
             [
              0.8888888888888888,
              "#fdca26"
             ],
             [
              1,
              "#f0f921"
             ]
            ],
            "type": "histogram2dcontour"
           }
          ],
          "mesh3d": [
           {
            "colorbar": {
             "outlinewidth": 0,
             "ticks": ""
            },
            "type": "mesh3d"
           }
          ],
          "parcoords": [
           {
            "line": {
             "colorbar": {
              "outlinewidth": 0,
              "ticks": ""
             }
            },
            "type": "parcoords"
           }
          ],
          "pie": [
           {
            "automargin": true,
            "type": "pie"
           }
          ],
          "scatter": [
           {
            "marker": {
             "colorbar": {
              "outlinewidth": 0,
              "ticks": ""
             }
            },
            "type": "scatter"
           }
          ],
          "scatter3d": [
           {
            "line": {
             "colorbar": {
              "outlinewidth": 0,
              "ticks": ""
             }
            },
            "marker": {
             "colorbar": {
              "outlinewidth": 0,
              "ticks": ""
             }
            },
            "type": "scatter3d"
           }
          ],
          "scattercarpet": [
           {
            "marker": {
             "colorbar": {
              "outlinewidth": 0,
              "ticks": ""
             }
            },
            "type": "scattercarpet"
           }
          ],
          "scattergeo": [
           {
            "marker": {
             "colorbar": {
              "outlinewidth": 0,
              "ticks": ""
             }
            },
            "type": "scattergeo"
           }
          ],
          "scattergl": [
           {
            "marker": {
             "colorbar": {
              "outlinewidth": 0,
              "ticks": ""
             }
            },
            "type": "scattergl"
           }
          ],
          "scattermapbox": [
           {
            "marker": {
             "colorbar": {
              "outlinewidth": 0,
              "ticks": ""
             }
            },
            "type": "scattermapbox"
           }
          ],
          "scatterpolar": [
           {
            "marker": {
             "colorbar": {
              "outlinewidth": 0,
              "ticks": ""
             }
            },
            "type": "scatterpolar"
           }
          ],
          "scatterpolargl": [
           {
            "marker": {
             "colorbar": {
              "outlinewidth": 0,
              "ticks": ""
             }
            },
            "type": "scatterpolargl"
           }
          ],
          "scatterternary": [
           {
            "marker": {
             "colorbar": {
              "outlinewidth": 0,
              "ticks": ""
             }
            },
            "type": "scatterternary"
           }
          ],
          "surface": [
           {
            "colorbar": {
             "outlinewidth": 0,
             "ticks": ""
            },
            "colorscale": [
             [
              0,
              "#0d0887"
             ],
             [
              0.1111111111111111,
              "#46039f"
             ],
             [
              0.2222222222222222,
              "#7201a8"
             ],
             [
              0.3333333333333333,
              "#9c179e"
             ],
             [
              0.4444444444444444,
              "#bd3786"
             ],
             [
              0.5555555555555556,
              "#d8576b"
             ],
             [
              0.6666666666666666,
              "#ed7953"
             ],
             [
              0.7777777777777778,
              "#fb9f3a"
             ],
             [
              0.8888888888888888,
              "#fdca26"
             ],
             [
              1,
              "#f0f921"
             ]
            ],
            "type": "surface"
           }
          ],
          "table": [
           {
            "cells": {
             "fill": {
              "color": "#EBF0F8"
             },
             "line": {
              "color": "white"
             }
            },
            "header": {
             "fill": {
              "color": "#C8D4E3"
             },
             "line": {
              "color": "white"
             }
            },
            "type": "table"
           }
          ]
         },
         "layout": {
          "annotationdefaults": {
           "arrowcolor": "#2a3f5f",
           "arrowhead": 0,
           "arrowwidth": 1
          },
          "autotypenumbers": "strict",
          "coloraxis": {
           "colorbar": {
            "outlinewidth": 0,
            "ticks": ""
           }
          },
          "colorscale": {
           "diverging": [
            [
             0,
             "#8e0152"
            ],
            [
             0.1,
             "#c51b7d"
            ],
            [
             0.2,
             "#de77ae"
            ],
            [
             0.3,
             "#f1b6da"
            ],
            [
             0.4,
             "#fde0ef"
            ],
            [
             0.5,
             "#f7f7f7"
            ],
            [
             0.6,
             "#e6f5d0"
            ],
            [
             0.7,
             "#b8e186"
            ],
            [
             0.8,
             "#7fbc41"
            ],
            [
             0.9,
             "#4d9221"
            ],
            [
             1,
             "#276419"
            ]
           ],
           "sequential": [
            [
             0,
             "#0d0887"
            ],
            [
             0.1111111111111111,
             "#46039f"
            ],
            [
             0.2222222222222222,
             "#7201a8"
            ],
            [
             0.3333333333333333,
             "#9c179e"
            ],
            [
             0.4444444444444444,
             "#bd3786"
            ],
            [
             0.5555555555555556,
             "#d8576b"
            ],
            [
             0.6666666666666666,
             "#ed7953"
            ],
            [
             0.7777777777777778,
             "#fb9f3a"
            ],
            [
             0.8888888888888888,
             "#fdca26"
            ],
            [
             1,
             "#f0f921"
            ]
           ],
           "sequentialminus": [
            [
             0,
             "#0d0887"
            ],
            [
             0.1111111111111111,
             "#46039f"
            ],
            [
             0.2222222222222222,
             "#7201a8"
            ],
            [
             0.3333333333333333,
             "#9c179e"
            ],
            [
             0.4444444444444444,
             "#bd3786"
            ],
            [
             0.5555555555555556,
             "#d8576b"
            ],
            [
             0.6666666666666666,
             "#ed7953"
            ],
            [
             0.7777777777777778,
             "#fb9f3a"
            ],
            [
             0.8888888888888888,
             "#fdca26"
            ],
            [
             1,
             "#f0f921"
            ]
           ]
          },
          "colorway": [
           "#636efa",
           "#EF553B",
           "#00cc96",
           "#ab63fa",
           "#FFA15A",
           "#19d3f3",
           "#FF6692",
           "#B6E880",
           "#FF97FF",
           "#FECB52"
          ],
          "font": {
           "color": "#2a3f5f"
          },
          "geo": {
           "bgcolor": "white",
           "lakecolor": "white",
           "landcolor": "#E5ECF6",
           "showlakes": true,
           "showland": true,
           "subunitcolor": "white"
          },
          "hoverlabel": {
           "align": "left"
          },
          "hovermode": "closest",
          "mapbox": {
           "style": "light"
          },
          "paper_bgcolor": "white",
          "plot_bgcolor": "#E5ECF6",
          "polar": {
           "angularaxis": {
            "gridcolor": "white",
            "linecolor": "white",
            "ticks": ""
           },
           "bgcolor": "#E5ECF6",
           "radialaxis": {
            "gridcolor": "white",
            "linecolor": "white",
            "ticks": ""
           }
          },
          "scene": {
           "xaxis": {
            "backgroundcolor": "#E5ECF6",
            "gridcolor": "white",
            "gridwidth": 2,
            "linecolor": "white",
            "showbackground": true,
            "ticks": "",
            "zerolinecolor": "white"
           },
           "yaxis": {
            "backgroundcolor": "#E5ECF6",
            "gridcolor": "white",
            "gridwidth": 2,
            "linecolor": "white",
            "showbackground": true,
            "ticks": "",
            "zerolinecolor": "white"
           },
           "zaxis": {
            "backgroundcolor": "#E5ECF6",
            "gridcolor": "white",
            "gridwidth": 2,
            "linecolor": "white",
            "showbackground": true,
            "ticks": "",
            "zerolinecolor": "white"
           }
          },
          "shapedefaults": {
           "line": {
            "color": "#2a3f5f"
           }
          },
          "ternary": {
           "aaxis": {
            "gridcolor": "white",
            "linecolor": "white",
            "ticks": ""
           },
           "baxis": {
            "gridcolor": "white",
            "linecolor": "white",
            "ticks": ""
           },
           "bgcolor": "#E5ECF6",
           "caxis": {
            "gridcolor": "white",
            "linecolor": "white",
            "ticks": ""
           }
          },
          "title": {
           "x": 0.05
          },
          "xaxis": {
           "automargin": true,
           "gridcolor": "white",
           "linecolor": "white",
           "ticks": "",
           "title": {
            "standoff": 15
           },
           "zerolinecolor": "white",
           "zerolinewidth": 2
          },
          "yaxis": {
           "automargin": true,
           "gridcolor": "white",
           "linecolor": "white",
           "ticks": "",
           "title": {
            "standoff": 15
           },
           "zerolinecolor": "white",
           "zerolinewidth": 2
          }
         }
        },
        "title": {
         "text": "Movie yearwise analysis"
        },
        "width": 1200,
        "xaxis": {
         "anchor": "y",
         "domain": [
          0,
          1
         ]
        },
        "xaxis2": {
         "anchor": "y2",
         "domain": [
          0,
          1
         ]
        },
        "xaxis3": {
         "anchor": "y3",
         "domain": [
          0,
          1
         ]
        },
        "yaxis": {
         "anchor": "x",
         "domain": [
          0.7333333333333333,
          1
         ]
        },
        "yaxis2": {
         "anchor": "x2",
         "domain": [
          0.36666666666666664,
          0.6333333333333333
         ]
        },
        "yaxis3": {
         "anchor": "x3",
         "domain": [
          0,
          0.26666666666666666
         ]
        }
       }
      }
     },
     "metadata": {}
    }
   ],
   "source": [
    "num_row, num_col = 3, 1\n",
    "fig = make_subplots(rows=num_row, cols=num_col)\n",
    "\n",
    "fig.add_trace(\n",
    "    go.Bar(x=years, y=num_movies_arr, name=\"# of movies\"),\n",
    "    1, 1\n",
    ")\n",
    "\n",
    "fig.add_trace(\n",
    "    go.Bar(x=years, y=sum_budget, name=\"Budget\"),\n",
    "    2, 1\n",
    ")\n",
    "\n",
    "fig.add_trace(\n",
    "    go.Bar(x=years, y=avg_budget, name=\"Average budget\"),\n",
    "    3, 1\n",
    ")\n",
    "\n",
    "fig.update_layout(\n",
    "    height=900, \n",
    "    width=1200,\n",
    "    title_text=\"Movie yearwise analysis\"\n",
    ")"
   ]
  },
  {
   "source": [
    "# Release Date - Cumulative Worldwide Gross"
   ],
   "cell_type": "markdown",
   "metadata": {}
  },
  {
   "cell_type": "code",
   "execution_count": 39,
   "metadata": {},
   "outputs": [
    {
     "output_type": "stream",
     "name": "stdout",
     "text": [
      "January >> total movies 2666(1336 do not have Budget info) -- total Cumulative Worldwide Gross: 35999274280, average: 27067123.51879699\nFebruary >> total movies 2746(1377 do not have Budget info) -- total Cumulative Worldwide Gross: 44458152807, average: 32474910.742878012\nMarch >> total movies 3053(1492 do not have Budget info) -- total Cumulative Worldwide Gross: 47583003420, average: 30482385.27866752\nApril >> total movies 2834(1389 do not have Budget info) -- total Cumulative Worldwide Gross: 38225991330, average: 26453973.238754325\nMay >> total movies 2630(1342 do not have Budget info) -- total Cumulative Worldwide Gross: 71304878092, average: 55360930.19565217\nJune >> total movies 2510(1281 do not have Budget info) -- total Cumulative Worldwide Gross: 79853594609, average: 64974446.38649309\nJuly >> total movies 2321(1120 do not have Budget info) -- total Cumulative Worldwide Gross: 75957910873, average: 63245554.43213988\nAugust >> total movies 2740(1216 do not have Budget info) -- total Cumulative Worldwide Gross: 43188005738, average: 28338586.442257218\nSeptember >> total movies 3015(1368 do not have Budget info) -- total Cumulative Worldwide Gross: 32298460607, average: 19610480.028536733\nOctober >> total movies 3529(1721 do not have Budget info) -- total Cumulative Worldwide Gross: 41363576497, average: 22878084.34568584\nNovember >> total movies 3019(1505 do not have Budget info) -- total Cumulative Worldwide Gross: 74569513358, average: 49253311.332893\nDecember >> total movies 2799(1455 do not have Budget info) -- total Cumulative Worldwide Gross: 83320101065, average: 61994122.81622024\n"
     ]
    }
   ],
   "source": [
    "sum_budget = []\n",
    "avg_budget = []\n",
    "num_movies_arr = []\n",
    "\n",
    "attr_key = 'Cumulative Worldwide Gross'\n",
    "\n",
    "for month in month_movie:\n",
    "    lst = month_movie[month]\n",
    "    num_movies = len(lst)\n",
    "    no_budget = 0\n",
    "    budget = 0\n",
    "    for movie in lst:\n",
    "        try:\n",
    "            budget += getMoney(movie['details'][attr_key][0])\n",
    "        except:\n",
    "            if(attr_key not in movie['details']):\n",
    "                no_budget += 1\n",
    "            else:\n",
    "                print(movie['details'][attr_key])\n",
    "                no_budget += 1\n",
    "    sum_budget.append(budget)\n",
    "    avg_budget.append(budget/(num_movies-no_budget))\n",
    "    num_movies_arr.append(num_movies-no_budget)\n",
    "    print(\"{} >> total movies {}({} do not have Budget info) -- total {}: {}, average: {}\".format(month, num_movies, no_budget, attr_key, budget, budget/(num_movies-no_budget)))  "
   ]
  },
  {
   "cell_type": "code",
   "execution_count": 40,
   "metadata": {},
   "outputs": [
    {
     "output_type": "display_data",
     "data": {
      "application/vnd.plotly.v1+json": {
       "config": {
        "plotlyServerURL": "https://plot.ly"
       },
       "data": [
        {
         "name": "# of movies",
         "type": "bar",
         "x": [
          "January",
          "February",
          "March",
          "April",
          "May",
          "June",
          "July",
          "August",
          "September",
          "October",
          "November",
          "December"
         ],
         "xaxis": "x",
         "y": [
          1330,
          1369,
          1561,
          1445,
          1288,
          1229,
          1201,
          1524,
          1647,
          1808,
          1514,
          1344
         ],
         "yaxis": "y"
        },
        {
         "name": "Revenue",
         "type": "bar",
         "x": [
          "January",
          "February",
          "March",
          "April",
          "May",
          "June",
          "July",
          "August",
          "September",
          "October",
          "November",
          "December"
         ],
         "xaxis": "x2",
         "y": [
          35999274280,
          44458152807,
          47583003420,
          38225991330,
          71304878092,
          79853594609,
          75957910873,
          43188005738,
          32298460607,
          41363576497,
          74569513358,
          83320101065
         ],
         "yaxis": "y2"
        },
        {
         "name": "Average Revenue",
         "type": "bar",
         "x": [
          "January",
          "February",
          "March",
          "April",
          "May",
          "June",
          "July",
          "August",
          "September",
          "October",
          "November",
          "December"
         ],
         "xaxis": "x3",
         "y": [
          27067123.51879699,
          32474910.742878012,
          30482385.27866752,
          26453973.238754325,
          55360930.19565217,
          64974446.38649309,
          63245554.43213988,
          28338586.442257218,
          19610480.028536733,
          22878084.34568584,
          49253311.332893,
          61994122.81622024
         ],
         "yaxis": "y3"
        }
       ],
       "layout": {
        "height": 900,
        "template": {
         "data": {
          "bar": [
           {
            "error_x": {
             "color": "#2a3f5f"
            },
            "error_y": {
             "color": "#2a3f5f"
            },
            "marker": {
             "line": {
              "color": "#E5ECF6",
              "width": 0.5
             }
            },
            "type": "bar"
           }
          ],
          "barpolar": [
           {
            "marker": {
             "line": {
              "color": "#E5ECF6",
              "width": 0.5
             }
            },
            "type": "barpolar"
           }
          ],
          "carpet": [
           {
            "aaxis": {
             "endlinecolor": "#2a3f5f",
             "gridcolor": "white",
             "linecolor": "white",
             "minorgridcolor": "white",
             "startlinecolor": "#2a3f5f"
            },
            "baxis": {
             "endlinecolor": "#2a3f5f",
             "gridcolor": "white",
             "linecolor": "white",
             "minorgridcolor": "white",
             "startlinecolor": "#2a3f5f"
            },
            "type": "carpet"
           }
          ],
          "choropleth": [
           {
            "colorbar": {
             "outlinewidth": 0,
             "ticks": ""
            },
            "type": "choropleth"
           }
          ],
          "contour": [
           {
            "colorbar": {
             "outlinewidth": 0,
             "ticks": ""
            },
            "colorscale": [
             [
              0,
              "#0d0887"
             ],
             [
              0.1111111111111111,
              "#46039f"
             ],
             [
              0.2222222222222222,
              "#7201a8"
             ],
             [
              0.3333333333333333,
              "#9c179e"
             ],
             [
              0.4444444444444444,
              "#bd3786"
             ],
             [
              0.5555555555555556,
              "#d8576b"
             ],
             [
              0.6666666666666666,
              "#ed7953"
             ],
             [
              0.7777777777777778,
              "#fb9f3a"
             ],
             [
              0.8888888888888888,
              "#fdca26"
             ],
             [
              1,
              "#f0f921"
             ]
            ],
            "type": "contour"
           }
          ],
          "contourcarpet": [
           {
            "colorbar": {
             "outlinewidth": 0,
             "ticks": ""
            },
            "type": "contourcarpet"
           }
          ],
          "heatmap": [
           {
            "colorbar": {
             "outlinewidth": 0,
             "ticks": ""
            },
            "colorscale": [
             [
              0,
              "#0d0887"
             ],
             [
              0.1111111111111111,
              "#46039f"
             ],
             [
              0.2222222222222222,
              "#7201a8"
             ],
             [
              0.3333333333333333,
              "#9c179e"
             ],
             [
              0.4444444444444444,
              "#bd3786"
             ],
             [
              0.5555555555555556,
              "#d8576b"
             ],
             [
              0.6666666666666666,
              "#ed7953"
             ],
             [
              0.7777777777777778,
              "#fb9f3a"
             ],
             [
              0.8888888888888888,
              "#fdca26"
             ],
             [
              1,
              "#f0f921"
             ]
            ],
            "type": "heatmap"
           }
          ],
          "heatmapgl": [
           {
            "colorbar": {
             "outlinewidth": 0,
             "ticks": ""
            },
            "colorscale": [
             [
              0,
              "#0d0887"
             ],
             [
              0.1111111111111111,
              "#46039f"
             ],
             [
              0.2222222222222222,
              "#7201a8"
             ],
             [
              0.3333333333333333,
              "#9c179e"
             ],
             [
              0.4444444444444444,
              "#bd3786"
             ],
             [
              0.5555555555555556,
              "#d8576b"
             ],
             [
              0.6666666666666666,
              "#ed7953"
             ],
             [
              0.7777777777777778,
              "#fb9f3a"
             ],
             [
              0.8888888888888888,
              "#fdca26"
             ],
             [
              1,
              "#f0f921"
             ]
            ],
            "type": "heatmapgl"
           }
          ],
          "histogram": [
           {
            "marker": {
             "colorbar": {
              "outlinewidth": 0,
              "ticks": ""
             }
            },
            "type": "histogram"
           }
          ],
          "histogram2d": [
           {
            "colorbar": {
             "outlinewidth": 0,
             "ticks": ""
            },
            "colorscale": [
             [
              0,
              "#0d0887"
             ],
             [
              0.1111111111111111,
              "#46039f"
             ],
             [
              0.2222222222222222,
              "#7201a8"
             ],
             [
              0.3333333333333333,
              "#9c179e"
             ],
             [
              0.4444444444444444,
              "#bd3786"
             ],
             [
              0.5555555555555556,
              "#d8576b"
             ],
             [
              0.6666666666666666,
              "#ed7953"
             ],
             [
              0.7777777777777778,
              "#fb9f3a"
             ],
             [
              0.8888888888888888,
              "#fdca26"
             ],
             [
              1,
              "#f0f921"
             ]
            ],
            "type": "histogram2d"
           }
          ],
          "histogram2dcontour": [
           {
            "colorbar": {
             "outlinewidth": 0,
             "ticks": ""
            },
            "colorscale": [
             [
              0,
              "#0d0887"
             ],
             [
              0.1111111111111111,
              "#46039f"
             ],
             [
              0.2222222222222222,
              "#7201a8"
             ],
             [
              0.3333333333333333,
              "#9c179e"
             ],
             [
              0.4444444444444444,
              "#bd3786"
             ],
             [
              0.5555555555555556,
              "#d8576b"
             ],
             [
              0.6666666666666666,
              "#ed7953"
             ],
             [
              0.7777777777777778,
              "#fb9f3a"
             ],
             [
              0.8888888888888888,
              "#fdca26"
             ],
             [
              1,
              "#f0f921"
             ]
            ],
            "type": "histogram2dcontour"
           }
          ],
          "mesh3d": [
           {
            "colorbar": {
             "outlinewidth": 0,
             "ticks": ""
            },
            "type": "mesh3d"
           }
          ],
          "parcoords": [
           {
            "line": {
             "colorbar": {
              "outlinewidth": 0,
              "ticks": ""
             }
            },
            "type": "parcoords"
           }
          ],
          "pie": [
           {
            "automargin": true,
            "type": "pie"
           }
          ],
          "scatter": [
           {
            "marker": {
             "colorbar": {
              "outlinewidth": 0,
              "ticks": ""
             }
            },
            "type": "scatter"
           }
          ],
          "scatter3d": [
           {
            "line": {
             "colorbar": {
              "outlinewidth": 0,
              "ticks": ""
             }
            },
            "marker": {
             "colorbar": {
              "outlinewidth": 0,
              "ticks": ""
             }
            },
            "type": "scatter3d"
           }
          ],
          "scattercarpet": [
           {
            "marker": {
             "colorbar": {
              "outlinewidth": 0,
              "ticks": ""
             }
            },
            "type": "scattercarpet"
           }
          ],
          "scattergeo": [
           {
            "marker": {
             "colorbar": {
              "outlinewidth": 0,
              "ticks": ""
             }
            },
            "type": "scattergeo"
           }
          ],
          "scattergl": [
           {
            "marker": {
             "colorbar": {
              "outlinewidth": 0,
              "ticks": ""
             }
            },
            "type": "scattergl"
           }
          ],
          "scattermapbox": [
           {
            "marker": {
             "colorbar": {
              "outlinewidth": 0,
              "ticks": ""
             }
            },
            "type": "scattermapbox"
           }
          ],
          "scatterpolar": [
           {
            "marker": {
             "colorbar": {
              "outlinewidth": 0,
              "ticks": ""
             }
            },
            "type": "scatterpolar"
           }
          ],
          "scatterpolargl": [
           {
            "marker": {
             "colorbar": {
              "outlinewidth": 0,
              "ticks": ""
             }
            },
            "type": "scatterpolargl"
           }
          ],
          "scatterternary": [
           {
            "marker": {
             "colorbar": {
              "outlinewidth": 0,
              "ticks": ""
             }
            },
            "type": "scatterternary"
           }
          ],
          "surface": [
           {
            "colorbar": {
             "outlinewidth": 0,
             "ticks": ""
            },
            "colorscale": [
             [
              0,
              "#0d0887"
             ],
             [
              0.1111111111111111,
              "#46039f"
             ],
             [
              0.2222222222222222,
              "#7201a8"
             ],
             [
              0.3333333333333333,
              "#9c179e"
             ],
             [
              0.4444444444444444,
              "#bd3786"
             ],
             [
              0.5555555555555556,
              "#d8576b"
             ],
             [
              0.6666666666666666,
              "#ed7953"
             ],
             [
              0.7777777777777778,
              "#fb9f3a"
             ],
             [
              0.8888888888888888,
              "#fdca26"
             ],
             [
              1,
              "#f0f921"
             ]
            ],
            "type": "surface"
           }
          ],
          "table": [
           {
            "cells": {
             "fill": {
              "color": "#EBF0F8"
             },
             "line": {
              "color": "white"
             }
            },
            "header": {
             "fill": {
              "color": "#C8D4E3"
             },
             "line": {
              "color": "white"
             }
            },
            "type": "table"
           }
          ]
         },
         "layout": {
          "annotationdefaults": {
           "arrowcolor": "#2a3f5f",
           "arrowhead": 0,
           "arrowwidth": 1
          },
          "autotypenumbers": "strict",
          "coloraxis": {
           "colorbar": {
            "outlinewidth": 0,
            "ticks": ""
           }
          },
          "colorscale": {
           "diverging": [
            [
             0,
             "#8e0152"
            ],
            [
             0.1,
             "#c51b7d"
            ],
            [
             0.2,
             "#de77ae"
            ],
            [
             0.3,
             "#f1b6da"
            ],
            [
             0.4,
             "#fde0ef"
            ],
            [
             0.5,
             "#f7f7f7"
            ],
            [
             0.6,
             "#e6f5d0"
            ],
            [
             0.7,
             "#b8e186"
            ],
            [
             0.8,
             "#7fbc41"
            ],
            [
             0.9,
             "#4d9221"
            ],
            [
             1,
             "#276419"
            ]
           ],
           "sequential": [
            [
             0,
             "#0d0887"
            ],
            [
             0.1111111111111111,
             "#46039f"
            ],
            [
             0.2222222222222222,
             "#7201a8"
            ],
            [
             0.3333333333333333,
             "#9c179e"
            ],
            [
             0.4444444444444444,
             "#bd3786"
            ],
            [
             0.5555555555555556,
             "#d8576b"
            ],
            [
             0.6666666666666666,
             "#ed7953"
            ],
            [
             0.7777777777777778,
             "#fb9f3a"
            ],
            [
             0.8888888888888888,
             "#fdca26"
            ],
            [
             1,
             "#f0f921"
            ]
           ],
           "sequentialminus": [
            [
             0,
             "#0d0887"
            ],
            [
             0.1111111111111111,
             "#46039f"
            ],
            [
             0.2222222222222222,
             "#7201a8"
            ],
            [
             0.3333333333333333,
             "#9c179e"
            ],
            [
             0.4444444444444444,
             "#bd3786"
            ],
            [
             0.5555555555555556,
             "#d8576b"
            ],
            [
             0.6666666666666666,
             "#ed7953"
            ],
            [
             0.7777777777777778,
             "#fb9f3a"
            ],
            [
             0.8888888888888888,
             "#fdca26"
            ],
            [
             1,
             "#f0f921"
            ]
           ]
          },
          "colorway": [
           "#636efa",
           "#EF553B",
           "#00cc96",
           "#ab63fa",
           "#FFA15A",
           "#19d3f3",
           "#FF6692",
           "#B6E880",
           "#FF97FF",
           "#FECB52"
          ],
          "font": {
           "color": "#2a3f5f"
          },
          "geo": {
           "bgcolor": "white",
           "lakecolor": "white",
           "landcolor": "#E5ECF6",
           "showlakes": true,
           "showland": true,
           "subunitcolor": "white"
          },
          "hoverlabel": {
           "align": "left"
          },
          "hovermode": "closest",
          "mapbox": {
           "style": "light"
          },
          "paper_bgcolor": "white",
          "plot_bgcolor": "#E5ECF6",
          "polar": {
           "angularaxis": {
            "gridcolor": "white",
            "linecolor": "white",
            "ticks": ""
           },
           "bgcolor": "#E5ECF6",
           "radialaxis": {
            "gridcolor": "white",
            "linecolor": "white",
            "ticks": ""
           }
          },
          "scene": {
           "xaxis": {
            "backgroundcolor": "#E5ECF6",
            "gridcolor": "white",
            "gridwidth": 2,
            "linecolor": "white",
            "showbackground": true,
            "ticks": "",
            "zerolinecolor": "white"
           },
           "yaxis": {
            "backgroundcolor": "#E5ECF6",
            "gridcolor": "white",
            "gridwidth": 2,
            "linecolor": "white",
            "showbackground": true,
            "ticks": "",
            "zerolinecolor": "white"
           },
           "zaxis": {
            "backgroundcolor": "#E5ECF6",
            "gridcolor": "white",
            "gridwidth": 2,
            "linecolor": "white",
            "showbackground": true,
            "ticks": "",
            "zerolinecolor": "white"
           }
          },
          "shapedefaults": {
           "line": {
            "color": "#2a3f5f"
           }
          },
          "ternary": {
           "aaxis": {
            "gridcolor": "white",
            "linecolor": "white",
            "ticks": ""
           },
           "baxis": {
            "gridcolor": "white",
            "linecolor": "white",
            "ticks": ""
           },
           "bgcolor": "#E5ECF6",
           "caxis": {
            "gridcolor": "white",
            "linecolor": "white",
            "ticks": ""
           }
          },
          "title": {
           "x": 0.05
          },
          "xaxis": {
           "automargin": true,
           "gridcolor": "white",
           "linecolor": "white",
           "ticks": "",
           "title": {
            "standoff": 15
           },
           "zerolinecolor": "white",
           "zerolinewidth": 2
          },
          "yaxis": {
           "automargin": true,
           "gridcolor": "white",
           "linecolor": "white",
           "ticks": "",
           "title": {
            "standoff": 15
           },
           "zerolinecolor": "white",
           "zerolinewidth": 2
          }
         }
        },
        "title": {
         "text": "Movie monthwise revenue"
        },
        "width": 800,
        "xaxis": {
         "anchor": "y",
         "domain": [
          0,
          1
         ]
        },
        "xaxis2": {
         "anchor": "y2",
         "domain": [
          0,
          1
         ]
        },
        "xaxis3": {
         "anchor": "y3",
         "domain": [
          0,
          1
         ]
        },
        "yaxis": {
         "anchor": "x",
         "domain": [
          0.7333333333333333,
          1
         ]
        },
        "yaxis2": {
         "anchor": "x2",
         "domain": [
          0.36666666666666664,
          0.6333333333333333
         ]
        },
        "yaxis3": {
         "anchor": "x3",
         "domain": [
          0,
          0.26666666666666666
         ]
        }
       }
      }
     },
     "metadata": {}
    }
   ],
   "source": [
    "num_row, num_col = 3, 1\n",
    "fig = make_subplots(rows=num_row, cols=num_col)\n",
    "\n",
    "fig.add_trace(\n",
    "    go.Bar(x=months, y=num_movies_arr, name=\"# of movies\"),\n",
    "    1, 1\n",
    ")\n",
    "\n",
    "fig.add_trace(\n",
    "    go.Bar(x=months, y=sum_budget, name=\"Revenue\"),\n",
    "    2, 1\n",
    ")\n",
    "\n",
    "fig.add_trace(\n",
    "    go.Bar(x=months, y=avg_budget, name=\"Average Revenue\"),\n",
    "    3, 1\n",
    ")\n",
    "\n",
    "fig.update_layout(\n",
    "    height=900, \n",
    "    width=800,\n",
    "    title_text=\"Movie monthwise revenue\"\n",
    ")"
   ]
  },
  {
   "cell_type": "code",
   "execution_count": 41,
   "metadata": {},
   "outputs": [
    {
     "output_type": "stream",
     "name": "stdout",
     "text": [
      "1900 >> total movies 0(0 do not have Cumulative Worldwide Gross info) -- total Cumulative Worldwide Gross: 0, average: 0\n1901 >> total movies 0(0 do not have Cumulative Worldwide Gross info) -- total Cumulative Worldwide Gross: 0, average: 0\n1902 >> total movies 1(1 do not have Cumulative Worldwide Gross info) -- total Cumulative Worldwide Gross: 0, average: 0\n1903 >> total movies 1(1 do not have Cumulative Worldwide Gross info) -- total Cumulative Worldwide Gross: 0, average: 0\n1904 >> total movies 0(0 do not have Cumulative Worldwide Gross info) -- total Cumulative Worldwide Gross: 0, average: 0\n1905 >> total movies 0(0 do not have Cumulative Worldwide Gross info) -- total Cumulative Worldwide Gross: 0, average: 0\n1906 >> total movies 0(0 do not have Cumulative Worldwide Gross info) -- total Cumulative Worldwide Gross: 0, average: 0\n1907 >> total movies 0(0 do not have Cumulative Worldwide Gross info) -- total Cumulative Worldwide Gross: 0, average: 0\n1908 >> total movies 0(0 do not have Cumulative Worldwide Gross info) -- total Cumulative Worldwide Gross: 0, average: 0\n1909 >> total movies 0(0 do not have Cumulative Worldwide Gross info) -- total Cumulative Worldwide Gross: 0, average: 0\n1910 >> total movies 0(0 do not have Cumulative Worldwide Gross info) -- total Cumulative Worldwide Gross: 0, average: 0\n1911 >> total movies 1(1 do not have Cumulative Worldwide Gross info) -- total Cumulative Worldwide Gross: 0, average: 0\n1912 >> total movies 0(0 do not have Cumulative Worldwide Gross info) -- total Cumulative Worldwide Gross: 0, average: 0\n1913 >> total movies 0(0 do not have Cumulative Worldwide Gross info) -- total Cumulative Worldwide Gross: 0, average: 0\n1914 >> total movies 2(2 do not have Cumulative Worldwide Gross info) -- total Cumulative Worldwide Gross: 0, average: 0\n1915 >> total movies 2(2 do not have Cumulative Worldwide Gross info) -- total Cumulative Worldwide Gross: 0, average: 0\n1916 >> total movies 1(1 do not have Cumulative Worldwide Gross info) -- total Cumulative Worldwide Gross: 0, average: 0\n1917 >> total movies 4(4 do not have Cumulative Worldwide Gross info) -- total Cumulative Worldwide Gross: 0, average: 0\n1918 >> total movies 1(1 do not have Cumulative Worldwide Gross info) -- total Cumulative Worldwide Gross: 0, average: 0\n1919 >> total movies 1(1 do not have Cumulative Worldwide Gross info) -- total Cumulative Worldwide Gross: 0, average: 0\n1920 >> total movies 3(2 do not have Cumulative Worldwide Gross info) -- total Cumulative Worldwide Gross: 8811, average: 8811.0\n1921 >> total movies 3(1 do not have Cumulative Worldwide Gross info) -- total Cumulative Worldwide Gross: 9210589, average: 4605294.5\n1922 >> total movies 8(6 do not have Cumulative Worldwide Gross info) -- total Cumulative Worldwide Gross: 31210, average: 15605.0\n1923 >> total movies 7(6 do not have Cumulative Worldwide Gross info) -- total Cumulative Worldwide Gross: 11233, average: 11233.0\n1924 >> total movies 6(6 do not have Cumulative Worldwide Gross info) -- total Cumulative Worldwide Gross: 0, average: 0\n1925 >> total movies 8(4 do not have Cumulative Worldwide Gross info) -- total Cumulative Worldwide Gross: 7282305, average: 1820576.25\n1926 >> total movies 7(6 do not have Cumulative Worldwide Gross info) -- total Cumulative Worldwide Gross: 4360000, average: 4360000.0\n1927 >> total movies 10(6 do not have Cumulative Worldwide Gross info) -- total Cumulative Worldwide Gross: 1558919, average: 389729.75\n1928 >> total movies 18(13 do not have Cumulative Worldwide Gross info) -- total Cumulative Worldwide Gross: 1890756, average: 378151.2\n1929 >> total movies 16(13 do not have Cumulative Worldwide Gross info) -- total Cumulative Worldwide Gross: 44153, average: 14717.666666666666\n1930 >> total movies 19(15 do not have Cumulative Worldwide Gross info) -- total Cumulative Worldwide Gross: 68292, average: 17073.0\n1931 >> total movies 28(24 do not have Cumulative Worldwide Gross info) -- total Cumulative Worldwide Gross: 168404, average: 42101.0\n1932 >> total movies 42(38 do not have Cumulative Worldwide Gross info) -- total Cumulative Worldwide Gross: 1363336, average: 340834.0\n1933 >> total movies 36(32 do not have Cumulative Worldwide Gross info) -- total Cumulative Worldwide Gross: 133156, average: 33289.0\n1934 >> total movies 34(30 do not have Cumulative Worldwide Gross info) -- total Cumulative Worldwide Gross: 4976726, average: 1244181.5\n1935 >> total movies 37(31 do not have Cumulative Worldwide Gross info) -- total Cumulative Worldwide Gross: 4029433, average: 671572.1666666666\n1936 >> total movies 44(40 do not have Cumulative Worldwide Gross info) -- total Cumulative Worldwide Gross: 1416553, average: 354138.25\n1937 >> total movies 43(39 do not have Cumulative Worldwide Gross info) -- total Cumulative Worldwide Gross: 25678, average: 6419.5\n1938 >> total movies 34(29 do not have Cumulative Worldwide Gross info) -- total Cumulative Worldwide Gross: 185011284, average: 37002256.8\n1939 >> total movies 57(44 do not have Cumulative Worldwide Gross info) -- total Cumulative Worldwide Gross: 26284662, average: 2021897.076923077\n1940 >> total movies 66(57 do not have Cumulative Worldwide Gross info) -- total Cumulative Worldwide Gross: 524440201, average: 58271133.44444445\n1941 >> total movies 55(43 do not have Cumulative Worldwide Gross info) -- total Cumulative Worldwide Gross: 95945574, average: 7995464.5\n1942 >> total movies 58(52 do not have Cumulative Worldwide Gross info) -- total Cumulative Worldwide Gross: 286961263, average: 47826877.166666664\n1943 >> total movies 57(52 do not have Cumulative Worldwide Gross info) -- total Cumulative Worldwide Gross: 4470774, average: 894154.8\n1944 >> total movies 58(55 do not have Cumulative Worldwide Gross info) -- total Cumulative Worldwide Gross: 61186, average: 20395.333333333332\n1945 >> total movies 59(52 do not have Cumulative Worldwide Gross info) -- total Cumulative Worldwide Gross: 617184, average: 88169.14285714286\n1946 >> total movies 72(59 do not have Cumulative Worldwide Gross info) -- total Cumulative Worldwide Gross: 68912408, average: 5300954.461538462\n1947 >> total movies 73(58 do not have Cumulative Worldwide Gross info) -- total Cumulative Worldwide Gross: 51896790, average: 3459786.0\n1948 >> total movies 77(65 do not have Cumulative Worldwide Gross info) -- total Cumulative Worldwide Gross: 20069157, average: 1672429.75\n1949 >> total movies 87(75 do not have Cumulative Worldwide Gross info) -- total Cumulative Worldwide Gross: 23535270, average: 1961272.5\n1950 >> total movies 88(74 do not have Cumulative Worldwide Gross info) -- total Cumulative Worldwide Gross: 101806365, average: 7271883.214285715\n1951 >> total movies 82(70 do not have Cumulative Worldwide Gross info) -- total Cumulative Worldwide Gross: 14867953, average: 1238996.0833333333\n1952 >> total movies 68(55 do not have Cumulative Worldwide Gross info) -- total Cumulative Worldwide Gross: 38285932, average: 2945071.6923076925\n1953 >> total movies 107(94 do not have Cumulative Worldwide Gross info) -- total Cumulative Worldwide Gross: 147415467, average: 11339651.307692308\n1954 >> total movies 98(78 do not have Cumulative Worldwide Gross info) -- total Cumulative Worldwide Gross: 71059336, average: 3552966.8\n1955 >> total movies 120(100 do not have Cumulative Worldwide Gross info) -- total Cumulative Worldwide Gross: 95811662, average: 4790583.1\n1956 >> total movies 124(103 do not have Cumulative Worldwide Gross info) -- total Cumulative Worldwide Gross: 141743521, average: 6749691.476190476\n1957 >> total movies 127(110 do not have Cumulative Worldwide Gross info) -- total Cumulative Worldwide Gross: 32396965, average: 1905703.8235294118\n1958 >> total movies 130(111 do not have Cumulative Worldwide Gross info) -- total Cumulative Worldwide Gross: 11463347, average: 603334.052631579\n1959 >> total movies 135(119 do not have Cumulative Worldwide Gross info) -- total Cumulative Worldwide Gross: 130282574, average: 8142660.875\n1960 >> total movies 125(105 do not have Cumulative Worldwide Gross info) -- total Cumulative Worldwide Gross: 98567203, average: 4928360.15\n1961 >> total movies 110(89 do not have Cumulative Worldwide Gross info) -- total Cumulative Worldwide Gross: 295991323, average: 14094824.904761905\n1962 >> total movies 149(123 do not have Cumulative Worldwide Gross info) -- total Cumulative Worldwide Gross: 65711336, average: 2527359.076923077\n1963 >> total movies 129(107 do not have Cumulative Worldwide Gross info) -- total Cumulative Worldwide Gross: 109297304, average: 4968059.2727272725\n1964 >> total movies 152(124 do not have Cumulative Worldwide Gross info) -- total Cumulative Worldwide Gross: 133795374, average: 4778406.214285715\n1965 >> total movies 150(129 do not have Cumulative Worldwide Gross info) -- total Cumulative Worldwide Gross: 502076325, average: 23908396.42857143\n1966 >> total movies 146(135 do not have Cumulative Worldwide Gross info) -- total Cumulative Worldwide Gross: 28400708, average: 2581882.5454545454\n1967 >> total movies 151(128 do not have Cumulative Worldwide Gross info) -- total Cumulative Worldwide Gross: 467057065, average: 20306828.913043477\n1968 >> total movies 199(165 do not have Cumulative Worldwide Gross info) -- total Cumulative Worldwide Gross: 199976096, average: 5881649.882352941\n1969 >> total movies 174(147 do not have Cumulative Worldwide Gross info) -- total Cumulative Worldwide Gross: 278915249, average: 10330194.407407407\n1970 >> total movies 223(184 do not have Cumulative Worldwide Gross info) -- total Cumulative Worldwide Gross: 614309717, average: 15751531.205128206\n1971 >> total movies 215(188 do not have Cumulative Worldwide Gross info) -- total Cumulative Worldwide Gross: 213114218, average: 7893119.185185186\n1972 >> total movies 245(219 do not have Cumulative Worldwide Gross info) -- total Cumulative Worldwide Gross: 457493771, average: 17595914.269230768\n1973 >> total movies 244(216 do not have Cumulative Worldwide Gross info) -- total Cumulative Worldwide Gross: 1025684584, average: 36631592.28571428\n1974 >> total movies 232(194 do not have Cumulative Worldwide Gross info) -- total Cumulative Worldwide Gross: 785526635, average: 20671753.55263158\n1975 >> total movies 220(181 do not have Cumulative Worldwide Gross info) -- total Cumulative Worldwide Gross: 1138114473, average: 29182422.384615384\n1976 >> total movies 236(199 do not have Cumulative Worldwide Gross info) -- total Cumulative Worldwide Gross: 777681254, average: 21018412.27027027\n1977 >> total movies 215(164 do not have Cumulative Worldwide Gross info) -- total Cumulative Worldwide Gross: 2173102702, average: 42609856.90196078\n1978 >> total movies 246(184 do not have Cumulative Worldwide Gross info) -- total Cumulative Worldwide Gross: 2068964509, average: 33370395.30645161\n1979 >> total movies 251(158 do not have Cumulative Worldwide Gross info) -- total Cumulative Worldwide Gross: 2193644828, average: 23587578.795698926\n1980 >> total movies 242(138 do not have Cumulative Worldwide Gross info) -- total Cumulative Worldwide Gross: 2563485216, average: 24648896.307692308\n1981 >> total movies 246(143 do not have Cumulative Worldwide Gross info) -- total Cumulative Worldwide Gross: 2254895330, average: 21892187.669902913\n1982 >> total movies 250(120 do not have Cumulative Worldwide Gross info) -- total Cumulative Worldwide Gross: 3462165966, average: 26632045.89230769\n1983 >> total movies 274(135 do not have Cumulative Worldwide Gross info) -- total Cumulative Worldwide Gross: 2729725472, average: 19638312.748201437\n1984 >> total movies 283(126 do not have Cumulative Worldwide Gross info) -- total Cumulative Worldwide Gross: 3649955611, average: 23248124.910828024\n1985 >> total movies 308(144 do not have Cumulative Worldwide Gross info) -- total Cumulative Worldwide Gross: 3613166986, average: 22031506.01219512\n1986 >> total movies 310(125 do not have Cumulative Worldwide Gross info) -- total Cumulative Worldwide Gross: 3584249048, average: 19374319.178378377\n1987 >> total movies 342(132 do not have Cumulative Worldwide Gross info) -- total Cumulative Worldwide Gross: 4105144823, average: 19548308.68095238\n1988 >> total movies 373(153 do not have Cumulative Worldwide Gross info) -- total Cumulative Worldwide Gross: 4865725251, average: 22116932.95909091\n1989 >> total movies 348(128 do not have Cumulative Worldwide Gross info) -- total Cumulative Worldwide Gross: 5985188967, average: 27205404.395454545\n1990 >> total movies 313(119 do not have Cumulative Worldwide Gross info) -- total Cumulative Worldwide Gross: 7055901592, average: 36370626.7628866\n1991 >> total movies 331(114 do not have Cumulative Worldwide Gross info) -- total Cumulative Worldwide Gross: 6294610685, average: 29007422.511520736\n1992 >> total movies 312(118 do not have Cumulative Worldwide Gross info) -- total Cumulative Worldwide Gross: 7206011254, average: 37144387.9072165\n1993 >> total movies 361(140 do not have Cumulative Worldwide Gross info) -- total Cumulative Worldwide Gross: 7721522963, average: 34939017.93212669\n1994 >> total movies 364(135 do not have Cumulative Worldwide Gross info) -- total Cumulative Worldwide Gross: 9517916203, average: 41562952.851528384\n1995 >> total movies 372(125 do not have Cumulative Worldwide Gross info) -- total Cumulative Worldwide Gross: 9418887712, average: 38133148.631578945\n1996 >> total movies 380(132 do not have Cumulative Worldwide Gross info) -- total Cumulative Worldwide Gross: 10132131032, average: 40855367.06451613\n1997 >> total movies 384(137 do not have Cumulative Worldwide Gross info) -- total Cumulative Worldwide Gross: 13157495729, average: 53269213.47773279\n1998 >> total movies 400(137 do not have Cumulative Worldwide Gross info) -- total Cumulative Worldwide Gross: 10891308752, average: 41411820.349809885\n1999 >> total movies 411(157 do not have Cumulative Worldwide Gross info) -- total Cumulative Worldwide Gross: 14257054840, average: 56130137.165354334\n2000 >> total movies 410(133 do not have Cumulative Worldwide Gross info) -- total Cumulative Worldwide Gross: 13556645912, average: 48940959.971119136\n2001 >> total movies 424(114 do not have Cumulative Worldwide Gross info) -- total Cumulative Worldwide Gross: 15721239495, average: 50713675.79032258\n2002 >> total movies 461(108 do not have Cumulative Worldwide Gross info) -- total Cumulative Worldwide Gross: 17460777746, average: 49463959.6203966\n2003 >> total movies 451(113 do not have Cumulative Worldwide Gross info) -- total Cumulative Worldwide Gross: 19259708788, average: 56981386.94674556\n2004 >> total movies 488(119 do not have Cumulative Worldwide Gross info) -- total Cumulative Worldwide Gross: 19468302712, average: 52759627.945799455\n2005 >> total movies 516(135 do not have Cumulative Worldwide Gross info) -- total Cumulative Worldwide Gross: 19201860243, average: 50398583.31496063\n2006 >> total movies 584(128 do not have Cumulative Worldwide Gross info) -- total Cumulative Worldwide Gross: 20036621913, average: 43939960.33552632\n2007 >> total movies 620(141 do not have Cumulative Worldwide Gross info) -- total Cumulative Worldwide Gross: 23139984958, average: 48308945.63256785\n2008 >> total movies 655(156 do not have Cumulative Worldwide Gross info) -- total Cumulative Worldwide Gross: 22879666158, average: 45851034.38476954\n2009 >> total movies 687(193 do not have Cumulative Worldwide Gross info) -- total Cumulative Worldwide Gross: 26939925379, average: 54534261.90080972\n2010 >> total movies 658(191 do not have Cumulative Worldwide Gross info) -- total Cumulative Worldwide Gross: 25795703563, average: 55237052.59743041\n2011 >> total movies 792(246 do not have Cumulative Worldwide Gross info) -- total Cumulative Worldwide Gross: 26884347432, average: 49238731.56043956\n2012 >> total movies 821(247 do not have Cumulative Worldwide Gross info) -- total Cumulative Worldwide Gross: 28479073131, average: 49615109.98432056\n2013 >> total movies 950(350 do not have Cumulative Worldwide Gross info) -- total Cumulative Worldwide Gross: 29385953865, average: 48976589.775\n2014 >> total movies 1074(394 do not have Cumulative Worldwide Gross info) -- total Cumulative Worldwide Gross: 29438648926, average: 43292130.77352941\n2015 >> total movies 1255(519 do not have Cumulative Worldwide Gross info) -- total Cumulative Worldwide Gross: 32855699915, average: 44640896.623641305\n2016 >> total movies 1346(550 do not have Cumulative Worldwide Gross info) -- total Cumulative Worldwide Gross: 33354563095, average: 41902717.45603015\n2017 >> total movies 1585(729 do not have Cumulative Worldwide Gross info) -- total Cumulative Worldwide Gross: 34894748542, average: 40764893.156542055\n2018 >> total movies 1744(807 do not have Cumulative Worldwide Gross info) -- total Cumulative Worldwide Gross: 34040053709, average: 36328765.96478122\n2019 >> total movies 2137(1053 do not have Cumulative Worldwide Gross info) -- total Cumulative Worldwide Gross: 35411025297, average: 32666997.506457563\n2020 >> total movies 2595(1744 do not have Cumulative Worldwide Gross info) -- total Cumulative Worldwide Gross: 8014124802, average: 9417302.940070506\n2021 >> total movies 1687(1401 do not have Cumulative Worldwide Gross info) -- total Cumulative Worldwide Gross: 3886010382, average: 13587448.888111887\n2022 >> total movies 121(121 do not have Cumulative Worldwide Gross info) -- total Cumulative Worldwide Gross: 0, average: 0\n2023 >> total movies 15(15 do not have Cumulative Worldwide Gross info) -- total Cumulative Worldwide Gross: 0, average: 0\n2024 >> total movies 1(1 do not have Cumulative Worldwide Gross info) -- total Cumulative Worldwide Gross: 0, average: 0\n"
     ]
    }
   ],
   "source": [
    "sum_budget = []\n",
    "avg_budget = []\n",
    "num_movies_arr = []\n",
    "\n",
    "attr_key = 'Cumulative Worldwide Gross'\n",
    "\n",
    "for year in year_movie:\n",
    "    lst = year_movie[year]\n",
    "    num_movies = len(lst)\n",
    "    no_budget = 0\n",
    "    budget = 0\n",
    "    for movie in lst:\n",
    "        try:\n",
    "            budget += getMoney(movie['details'][attr_key][0])\n",
    "        except:\n",
    "            if(attr_key not in movie['details']):\n",
    "                no_budget += 1\n",
    "            else:\n",
    "                print(movie['details'][attr_key])\n",
    "                no_budget += 1\n",
    "    sum_budget.append(budget)\n",
    "    avg = 0\n",
    "    if(num_movies-no_budget != 0):\n",
    "        avg = budget / (num_movies-no_budget)\n",
    "    avg_budget.append(avg)\n",
    "    num_movies_arr.append(num_movies-no_budget)\n",
    "    print(\"{} >> total movies {}({} do not have {} info) -- total {}: {}, average: {}\".format(year, num_movies, no_budget, attr_key, attr_key, budget, avg))  "
   ]
  },
  {
   "cell_type": "code",
   "execution_count": 42,
   "metadata": {},
   "outputs": [
    {
     "output_type": "display_data",
     "data": {
      "application/vnd.plotly.v1+json": {
       "config": {
        "plotlyServerURL": "https://plot.ly"
       },
       "data": [
        {
         "name": "# of movies",
         "type": "bar",
         "x": [
          "1900",
          "1901",
          "1902",
          "1903",
          "1904",
          "1905",
          "1906",
          "1907",
          "1908",
          "1909",
          "1910",
          "1911",
          "1912",
          "1913",
          "1914",
          "1915",
          "1916",
          "1917",
          "1918",
          "1919",
          "1920",
          "1921",
          "1922",
          "1923",
          "1924",
          "1925",
          "1926",
          "1927",
          "1928",
          "1929",
          "1930",
          "1931",
          "1932",
          "1933",
          "1934",
          "1935",
          "1936",
          "1937",
          "1938",
          "1939",
          "1940",
          "1941",
          "1942",
          "1943",
          "1944",
          "1945",
          "1946",
          "1947",
          "1948",
          "1949",
          "1950",
          "1951",
          "1952",
          "1953",
          "1954",
          "1955",
          "1956",
          "1957",
          "1958",
          "1959",
          "1960",
          "1961",
          "1962",
          "1963",
          "1964",
          "1965",
          "1966",
          "1967",
          "1968",
          "1969",
          "1970",
          "1971",
          "1972",
          "1973",
          "1974",
          "1975",
          "1976",
          "1977",
          "1978",
          "1979",
          "1980",
          "1981",
          "1982",
          "1983",
          "1984",
          "1985",
          "1986",
          "1987",
          "1988",
          "1989",
          "1990",
          "1991",
          "1992",
          "1993",
          "1994",
          "1995",
          "1996",
          "1997",
          "1998",
          "1999",
          "2000",
          "2001",
          "2002",
          "2003",
          "2004",
          "2005",
          "2006",
          "2007",
          "2008",
          "2009",
          "2010",
          "2011",
          "2012",
          "2013",
          "2014",
          "2015",
          "2016",
          "2017",
          "2018",
          "2019",
          "2020",
          "2021",
          "2022",
          "2023",
          "2024"
         ],
         "xaxis": "x",
         "y": [
          0,
          0,
          0,
          0,
          0,
          0,
          0,
          0,
          0,
          0,
          0,
          0,
          0,
          0,
          0,
          0,
          0,
          0,
          0,
          0,
          1,
          2,
          2,
          1,
          0,
          4,
          1,
          4,
          5,
          3,
          4,
          4,
          4,
          4,
          4,
          6,
          4,
          4,
          5,
          13,
          9,
          12,
          6,
          5,
          3,
          7,
          13,
          15,
          12,
          12,
          14,
          12,
          13,
          13,
          20,
          20,
          21,
          17,
          19,
          16,
          20,
          21,
          26,
          22,
          28,
          21,
          11,
          23,
          34,
          27,
          39,
          27,
          26,
          28,
          38,
          39,
          37,
          51,
          62,
          93,
          104,
          103,
          130,
          139,
          157,
          164,
          185,
          210,
          220,
          220,
          194,
          217,
          194,
          221,
          229,
          247,
          248,
          247,
          263,
          254,
          277,
          310,
          353,
          338,
          369,
          381,
          456,
          479,
          499,
          494,
          467,
          546,
          574,
          600,
          680,
          736,
          796,
          856,
          937,
          1084,
          851,
          286,
          0,
          0,
          0
         ],
         "yaxis": "y"
        },
        {
         "name": "Revenue",
         "type": "bar",
         "x": [
          "1900",
          "1901",
          "1902",
          "1903",
          "1904",
          "1905",
          "1906",
          "1907",
          "1908",
          "1909",
          "1910",
          "1911",
          "1912",
          "1913",
          "1914",
          "1915",
          "1916",
          "1917",
          "1918",
          "1919",
          "1920",
          "1921",
          "1922",
          "1923",
          "1924",
          "1925",
          "1926",
          "1927",
          "1928",
          "1929",
          "1930",
          "1931",
          "1932",
          "1933",
          "1934",
          "1935",
          "1936",
          "1937",
          "1938",
          "1939",
          "1940",
          "1941",
          "1942",
          "1943",
          "1944",
          "1945",
          "1946",
          "1947",
          "1948",
          "1949",
          "1950",
          "1951",
          "1952",
          "1953",
          "1954",
          "1955",
          "1956",
          "1957",
          "1958",
          "1959",
          "1960",
          "1961",
          "1962",
          "1963",
          "1964",
          "1965",
          "1966",
          "1967",
          "1968",
          "1969",
          "1970",
          "1971",
          "1972",
          "1973",
          "1974",
          "1975",
          "1976",
          "1977",
          "1978",
          "1979",
          "1980",
          "1981",
          "1982",
          "1983",
          "1984",
          "1985",
          "1986",
          "1987",
          "1988",
          "1989",
          "1990",
          "1991",
          "1992",
          "1993",
          "1994",
          "1995",
          "1996",
          "1997",
          "1998",
          "1999",
          "2000",
          "2001",
          "2002",
          "2003",
          "2004",
          "2005",
          "2006",
          "2007",
          "2008",
          "2009",
          "2010",
          "2011",
          "2012",
          "2013",
          "2014",
          "2015",
          "2016",
          "2017",
          "2018",
          "2019",
          "2020",
          "2021",
          "2022",
          "2023",
          "2024"
         ],
         "xaxis": "x2",
         "y": [
          0,
          0,
          0,
          0,
          0,
          0,
          0,
          0,
          0,
          0,
          0,
          0,
          0,
          0,
          0,
          0,
          0,
          0,
          0,
          0,
          8811,
          9210589,
          31210,
          11233,
          0,
          7282305,
          4360000,
          1558919,
          1890756,
          44153,
          68292,
          168404,
          1363336,
          133156,
          4976726,
          4029433,
          1416553,
          25678,
          185011284,
          26284662,
          524440201,
          95945574,
          286961263,
          4470774,
          61186,
          617184,
          68912408,
          51896790,
          20069157,
          23535270,
          101806365,
          14867953,
          38285932,
          147415467,
          71059336,
          95811662,
          141743521,
          32396965,
          11463347,
          130282574,
          98567203,
          295991323,
          65711336,
          109297304,
          133795374,
          502076325,
          28400708,
          467057065,
          199976096,
          278915249,
          614309717,
          213114218,
          457493771,
          1025684584,
          785526635,
          1138114473,
          777681254,
          2173102702,
          2068964509,
          2193644828,
          2563485216,
          2254895330,
          3462165966,
          2729725472,
          3649955611,
          3613166986,
          3584249048,
          4105144823,
          4865725251,
          5985188967,
          7055901592,
          6294610685,
          7206011254,
          7721522963,
          9517916203,
          9418887712,
          10132131032,
          13157495729,
          10891308752,
          14257054840,
          13556645912,
          15721239495,
          17460777746,
          19259708788,
          19468302712,
          19201860243,
          20036621913,
          23139984958,
          22879666158,
          26939925379,
          25795703563,
          26884347432,
          28479073131,
          29385953865,
          29438648926,
          32855699915,
          33354563095,
          34894748542,
          34040053709,
          35411025297,
          8014124802,
          3886010382,
          0,
          0,
          0
         ],
         "yaxis": "y2"
        },
        {
         "name": "Average Revenue",
         "type": "bar",
         "x": [
          "1900",
          "1901",
          "1902",
          "1903",
          "1904",
          "1905",
          "1906",
          "1907",
          "1908",
          "1909",
          "1910",
          "1911",
          "1912",
          "1913",
          "1914",
          "1915",
          "1916",
          "1917",
          "1918",
          "1919",
          "1920",
          "1921",
          "1922",
          "1923",
          "1924",
          "1925",
          "1926",
          "1927",
          "1928",
          "1929",
          "1930",
          "1931",
          "1932",
          "1933",
          "1934",
          "1935",
          "1936",
          "1937",
          "1938",
          "1939",
          "1940",
          "1941",
          "1942",
          "1943",
          "1944",
          "1945",
          "1946",
          "1947",
          "1948",
          "1949",
          "1950",
          "1951",
          "1952",
          "1953",
          "1954",
          "1955",
          "1956",
          "1957",
          "1958",
          "1959",
          "1960",
          "1961",
          "1962",
          "1963",
          "1964",
          "1965",
          "1966",
          "1967",
          "1968",
          "1969",
          "1970",
          "1971",
          "1972",
          "1973",
          "1974",
          "1975",
          "1976",
          "1977",
          "1978",
          "1979",
          "1980",
          "1981",
          "1982",
          "1983",
          "1984",
          "1985",
          "1986",
          "1987",
          "1988",
          "1989",
          "1990",
          "1991",
          "1992",
          "1993",
          "1994",
          "1995",
          "1996",
          "1997",
          "1998",
          "1999",
          "2000",
          "2001",
          "2002",
          "2003",
          "2004",
          "2005",
          "2006",
          "2007",
          "2008",
          "2009",
          "2010",
          "2011",
          "2012",
          "2013",
          "2014",
          "2015",
          "2016",
          "2017",
          "2018",
          "2019",
          "2020",
          "2021",
          "2022",
          "2023",
          "2024"
         ],
         "xaxis": "x3",
         "y": [
          0,
          0,
          0,
          0,
          0,
          0,
          0,
          0,
          0,
          0,
          0,
          0,
          0,
          0,
          0,
          0,
          0,
          0,
          0,
          0,
          8811,
          4605294.5,
          15605,
          11233,
          0,
          1820576.25,
          4360000,
          389729.75,
          378151.2,
          14717.666666666666,
          17073,
          42101,
          340834,
          33289,
          1244181.5,
          671572.1666666666,
          354138.25,
          6419.5,
          37002256.8,
          2021897.076923077,
          58271133.44444445,
          7995464.5,
          47826877.166666664,
          894154.8,
          20395.333333333332,
          88169.14285714286,
          5300954.461538462,
          3459786,
          1672429.75,
          1961272.5,
          7271883.214285715,
          1238996.0833333333,
          2945071.6923076925,
          11339651.307692308,
          3552966.8,
          4790583.1,
          6749691.476190476,
          1905703.8235294118,
          603334.052631579,
          8142660.875,
          4928360.15,
          14094824.904761905,
          2527359.076923077,
          4968059.2727272725,
          4778406.214285715,
          23908396.42857143,
          2581882.5454545454,
          20306828.913043477,
          5881649.882352941,
          10330194.407407407,
          15751531.205128206,
          7893119.185185186,
          17595914.269230768,
          36631592.28571428,
          20671753.55263158,
          29182422.384615384,
          21018412.27027027,
          42609856.90196078,
          33370395.30645161,
          23587578.795698926,
          24648896.307692308,
          21892187.669902913,
          26632045.89230769,
          19638312.748201437,
          23248124.910828024,
          22031506.01219512,
          19374319.178378377,
          19548308.68095238,
          22116932.95909091,
          27205404.395454545,
          36370626.7628866,
          29007422.511520736,
          37144387.9072165,
          34939017.93212669,
          41562952.851528384,
          38133148.631578945,
          40855367.06451613,
          53269213.47773279,
          41411820.349809885,
          56130137.165354334,
          48940959.971119136,
          50713675.79032258,
          49463959.6203966,
          56981386.94674556,
          52759627.945799455,
          50398583.31496063,
          43939960.33552632,
          48308945.63256785,
          45851034.38476954,
          54534261.90080972,
          55237052.59743041,
          49238731.56043956,
          49615109.98432056,
          48976589.775,
          43292130.77352941,
          44640896.623641305,
          41902717.45603015,
          40764893.156542055,
          36328765.96478122,
          32666997.506457563,
          9417302.940070506,
          13587448.888111887,
          0,
          0,
          0
         ],
         "yaxis": "y3"
        }
       ],
       "layout": {
        "height": 900,
        "template": {
         "data": {
          "bar": [
           {
            "error_x": {
             "color": "#2a3f5f"
            },
            "error_y": {
             "color": "#2a3f5f"
            },
            "marker": {
             "line": {
              "color": "#E5ECF6",
              "width": 0.5
             }
            },
            "type": "bar"
           }
          ],
          "barpolar": [
           {
            "marker": {
             "line": {
              "color": "#E5ECF6",
              "width": 0.5
             }
            },
            "type": "barpolar"
           }
          ],
          "carpet": [
           {
            "aaxis": {
             "endlinecolor": "#2a3f5f",
             "gridcolor": "white",
             "linecolor": "white",
             "minorgridcolor": "white",
             "startlinecolor": "#2a3f5f"
            },
            "baxis": {
             "endlinecolor": "#2a3f5f",
             "gridcolor": "white",
             "linecolor": "white",
             "minorgridcolor": "white",
             "startlinecolor": "#2a3f5f"
            },
            "type": "carpet"
           }
          ],
          "choropleth": [
           {
            "colorbar": {
             "outlinewidth": 0,
             "ticks": ""
            },
            "type": "choropleth"
           }
          ],
          "contour": [
           {
            "colorbar": {
             "outlinewidth": 0,
             "ticks": ""
            },
            "colorscale": [
             [
              0,
              "#0d0887"
             ],
             [
              0.1111111111111111,
              "#46039f"
             ],
             [
              0.2222222222222222,
              "#7201a8"
             ],
             [
              0.3333333333333333,
              "#9c179e"
             ],
             [
              0.4444444444444444,
              "#bd3786"
             ],
             [
              0.5555555555555556,
              "#d8576b"
             ],
             [
              0.6666666666666666,
              "#ed7953"
             ],
             [
              0.7777777777777778,
              "#fb9f3a"
             ],
             [
              0.8888888888888888,
              "#fdca26"
             ],
             [
              1,
              "#f0f921"
             ]
            ],
            "type": "contour"
           }
          ],
          "contourcarpet": [
           {
            "colorbar": {
             "outlinewidth": 0,
             "ticks": ""
            },
            "type": "contourcarpet"
           }
          ],
          "heatmap": [
           {
            "colorbar": {
             "outlinewidth": 0,
             "ticks": ""
            },
            "colorscale": [
             [
              0,
              "#0d0887"
             ],
             [
              0.1111111111111111,
              "#46039f"
             ],
             [
              0.2222222222222222,
              "#7201a8"
             ],
             [
              0.3333333333333333,
              "#9c179e"
             ],
             [
              0.4444444444444444,
              "#bd3786"
             ],
             [
              0.5555555555555556,
              "#d8576b"
             ],
             [
              0.6666666666666666,
              "#ed7953"
             ],
             [
              0.7777777777777778,
              "#fb9f3a"
             ],
             [
              0.8888888888888888,
              "#fdca26"
             ],
             [
              1,
              "#f0f921"
             ]
            ],
            "type": "heatmap"
           }
          ],
          "heatmapgl": [
           {
            "colorbar": {
             "outlinewidth": 0,
             "ticks": ""
            },
            "colorscale": [
             [
              0,
              "#0d0887"
             ],
             [
              0.1111111111111111,
              "#46039f"
             ],
             [
              0.2222222222222222,
              "#7201a8"
             ],
             [
              0.3333333333333333,
              "#9c179e"
             ],
             [
              0.4444444444444444,
              "#bd3786"
             ],
             [
              0.5555555555555556,
              "#d8576b"
             ],
             [
              0.6666666666666666,
              "#ed7953"
             ],
             [
              0.7777777777777778,
              "#fb9f3a"
             ],
             [
              0.8888888888888888,
              "#fdca26"
             ],
             [
              1,
              "#f0f921"
             ]
            ],
            "type": "heatmapgl"
           }
          ],
          "histogram": [
           {
            "marker": {
             "colorbar": {
              "outlinewidth": 0,
              "ticks": ""
             }
            },
            "type": "histogram"
           }
          ],
          "histogram2d": [
           {
            "colorbar": {
             "outlinewidth": 0,
             "ticks": ""
            },
            "colorscale": [
             [
              0,
              "#0d0887"
             ],
             [
              0.1111111111111111,
              "#46039f"
             ],
             [
              0.2222222222222222,
              "#7201a8"
             ],
             [
              0.3333333333333333,
              "#9c179e"
             ],
             [
              0.4444444444444444,
              "#bd3786"
             ],
             [
              0.5555555555555556,
              "#d8576b"
             ],
             [
              0.6666666666666666,
              "#ed7953"
             ],
             [
              0.7777777777777778,
              "#fb9f3a"
             ],
             [
              0.8888888888888888,
              "#fdca26"
             ],
             [
              1,
              "#f0f921"
             ]
            ],
            "type": "histogram2d"
           }
          ],
          "histogram2dcontour": [
           {
            "colorbar": {
             "outlinewidth": 0,
             "ticks": ""
            },
            "colorscale": [
             [
              0,
              "#0d0887"
             ],
             [
              0.1111111111111111,
              "#46039f"
             ],
             [
              0.2222222222222222,
              "#7201a8"
             ],
             [
              0.3333333333333333,
              "#9c179e"
             ],
             [
              0.4444444444444444,
              "#bd3786"
             ],
             [
              0.5555555555555556,
              "#d8576b"
             ],
             [
              0.6666666666666666,
              "#ed7953"
             ],
             [
              0.7777777777777778,
              "#fb9f3a"
             ],
             [
              0.8888888888888888,
              "#fdca26"
             ],
             [
              1,
              "#f0f921"
             ]
            ],
            "type": "histogram2dcontour"
           }
          ],
          "mesh3d": [
           {
            "colorbar": {
             "outlinewidth": 0,
             "ticks": ""
            },
            "type": "mesh3d"
           }
          ],
          "parcoords": [
           {
            "line": {
             "colorbar": {
              "outlinewidth": 0,
              "ticks": ""
             }
            },
            "type": "parcoords"
           }
          ],
          "pie": [
           {
            "automargin": true,
            "type": "pie"
           }
          ],
          "scatter": [
           {
            "marker": {
             "colorbar": {
              "outlinewidth": 0,
              "ticks": ""
             }
            },
            "type": "scatter"
           }
          ],
          "scatter3d": [
           {
            "line": {
             "colorbar": {
              "outlinewidth": 0,
              "ticks": ""
             }
            },
            "marker": {
             "colorbar": {
              "outlinewidth": 0,
              "ticks": ""
             }
            },
            "type": "scatter3d"
           }
          ],
          "scattercarpet": [
           {
            "marker": {
             "colorbar": {
              "outlinewidth": 0,
              "ticks": ""
             }
            },
            "type": "scattercarpet"
           }
          ],
          "scattergeo": [
           {
            "marker": {
             "colorbar": {
              "outlinewidth": 0,
              "ticks": ""
             }
            },
            "type": "scattergeo"
           }
          ],
          "scattergl": [
           {
            "marker": {
             "colorbar": {
              "outlinewidth": 0,
              "ticks": ""
             }
            },
            "type": "scattergl"
           }
          ],
          "scattermapbox": [
           {
            "marker": {
             "colorbar": {
              "outlinewidth": 0,
              "ticks": ""
             }
            },
            "type": "scattermapbox"
           }
          ],
          "scatterpolar": [
           {
            "marker": {
             "colorbar": {
              "outlinewidth": 0,
              "ticks": ""
             }
            },
            "type": "scatterpolar"
           }
          ],
          "scatterpolargl": [
           {
            "marker": {
             "colorbar": {
              "outlinewidth": 0,
              "ticks": ""
             }
            },
            "type": "scatterpolargl"
           }
          ],
          "scatterternary": [
           {
            "marker": {
             "colorbar": {
              "outlinewidth": 0,
              "ticks": ""
             }
            },
            "type": "scatterternary"
           }
          ],
          "surface": [
           {
            "colorbar": {
             "outlinewidth": 0,
             "ticks": ""
            },
            "colorscale": [
             [
              0,
              "#0d0887"
             ],
             [
              0.1111111111111111,
              "#46039f"
             ],
             [
              0.2222222222222222,
              "#7201a8"
             ],
             [
              0.3333333333333333,
              "#9c179e"
             ],
             [
              0.4444444444444444,
              "#bd3786"
             ],
             [
              0.5555555555555556,
              "#d8576b"
             ],
             [
              0.6666666666666666,
              "#ed7953"
             ],
             [
              0.7777777777777778,
              "#fb9f3a"
             ],
             [
              0.8888888888888888,
              "#fdca26"
             ],
             [
              1,
              "#f0f921"
             ]
            ],
            "type": "surface"
           }
          ],
          "table": [
           {
            "cells": {
             "fill": {
              "color": "#EBF0F8"
             },
             "line": {
              "color": "white"
             }
            },
            "header": {
             "fill": {
              "color": "#C8D4E3"
             },
             "line": {
              "color": "white"
             }
            },
            "type": "table"
           }
          ]
         },
         "layout": {
          "annotationdefaults": {
           "arrowcolor": "#2a3f5f",
           "arrowhead": 0,
           "arrowwidth": 1
          },
          "autotypenumbers": "strict",
          "coloraxis": {
           "colorbar": {
            "outlinewidth": 0,
            "ticks": ""
           }
          },
          "colorscale": {
           "diverging": [
            [
             0,
             "#8e0152"
            ],
            [
             0.1,
             "#c51b7d"
            ],
            [
             0.2,
             "#de77ae"
            ],
            [
             0.3,
             "#f1b6da"
            ],
            [
             0.4,
             "#fde0ef"
            ],
            [
             0.5,
             "#f7f7f7"
            ],
            [
             0.6,
             "#e6f5d0"
            ],
            [
             0.7,
             "#b8e186"
            ],
            [
             0.8,
             "#7fbc41"
            ],
            [
             0.9,
             "#4d9221"
            ],
            [
             1,
             "#276419"
            ]
           ],
           "sequential": [
            [
             0,
             "#0d0887"
            ],
            [
             0.1111111111111111,
             "#46039f"
            ],
            [
             0.2222222222222222,
             "#7201a8"
            ],
            [
             0.3333333333333333,
             "#9c179e"
            ],
            [
             0.4444444444444444,
             "#bd3786"
            ],
            [
             0.5555555555555556,
             "#d8576b"
            ],
            [
             0.6666666666666666,
             "#ed7953"
            ],
            [
             0.7777777777777778,
             "#fb9f3a"
            ],
            [
             0.8888888888888888,
             "#fdca26"
            ],
            [
             1,
             "#f0f921"
            ]
           ],
           "sequentialminus": [
            [
             0,
             "#0d0887"
            ],
            [
             0.1111111111111111,
             "#46039f"
            ],
            [
             0.2222222222222222,
             "#7201a8"
            ],
            [
             0.3333333333333333,
             "#9c179e"
            ],
            [
             0.4444444444444444,
             "#bd3786"
            ],
            [
             0.5555555555555556,
             "#d8576b"
            ],
            [
             0.6666666666666666,
             "#ed7953"
            ],
            [
             0.7777777777777778,
             "#fb9f3a"
            ],
            [
             0.8888888888888888,
             "#fdca26"
            ],
            [
             1,
             "#f0f921"
            ]
           ]
          },
          "colorway": [
           "#636efa",
           "#EF553B",
           "#00cc96",
           "#ab63fa",
           "#FFA15A",
           "#19d3f3",
           "#FF6692",
           "#B6E880",
           "#FF97FF",
           "#FECB52"
          ],
          "font": {
           "color": "#2a3f5f"
          },
          "geo": {
           "bgcolor": "white",
           "lakecolor": "white",
           "landcolor": "#E5ECF6",
           "showlakes": true,
           "showland": true,
           "subunitcolor": "white"
          },
          "hoverlabel": {
           "align": "left"
          },
          "hovermode": "closest",
          "mapbox": {
           "style": "light"
          },
          "paper_bgcolor": "white",
          "plot_bgcolor": "#E5ECF6",
          "polar": {
           "angularaxis": {
            "gridcolor": "white",
            "linecolor": "white",
            "ticks": ""
           },
           "bgcolor": "#E5ECF6",
           "radialaxis": {
            "gridcolor": "white",
            "linecolor": "white",
            "ticks": ""
           }
          },
          "scene": {
           "xaxis": {
            "backgroundcolor": "#E5ECF6",
            "gridcolor": "white",
            "gridwidth": 2,
            "linecolor": "white",
            "showbackground": true,
            "ticks": "",
            "zerolinecolor": "white"
           },
           "yaxis": {
            "backgroundcolor": "#E5ECF6",
            "gridcolor": "white",
            "gridwidth": 2,
            "linecolor": "white",
            "showbackground": true,
            "ticks": "",
            "zerolinecolor": "white"
           },
           "zaxis": {
            "backgroundcolor": "#E5ECF6",
            "gridcolor": "white",
            "gridwidth": 2,
            "linecolor": "white",
            "showbackground": true,
            "ticks": "",
            "zerolinecolor": "white"
           }
          },
          "shapedefaults": {
           "line": {
            "color": "#2a3f5f"
           }
          },
          "ternary": {
           "aaxis": {
            "gridcolor": "white",
            "linecolor": "white",
            "ticks": ""
           },
           "baxis": {
            "gridcolor": "white",
            "linecolor": "white",
            "ticks": ""
           },
           "bgcolor": "#E5ECF6",
           "caxis": {
            "gridcolor": "white",
            "linecolor": "white",
            "ticks": ""
           }
          },
          "title": {
           "x": 0.05
          },
          "xaxis": {
           "automargin": true,
           "gridcolor": "white",
           "linecolor": "white",
           "ticks": "",
           "title": {
            "standoff": 15
           },
           "zerolinecolor": "white",
           "zerolinewidth": 2
          },
          "yaxis": {
           "automargin": true,
           "gridcolor": "white",
           "linecolor": "white",
           "ticks": "",
           "title": {
            "standoff": 15
           },
           "zerolinecolor": "white",
           "zerolinewidth": 2
          }
         }
        },
        "title": {
         "text": "Movie yearwise revenue"
        },
        "width": 1200,
        "xaxis": {
         "anchor": "y",
         "domain": [
          0,
          1
         ]
        },
        "xaxis2": {
         "anchor": "y2",
         "domain": [
          0,
          1
         ]
        },
        "xaxis3": {
         "anchor": "y3",
         "domain": [
          0,
          1
         ]
        },
        "yaxis": {
         "anchor": "x",
         "domain": [
          0.7333333333333333,
          1
         ]
        },
        "yaxis2": {
         "anchor": "x2",
         "domain": [
          0.36666666666666664,
          0.6333333333333333
         ]
        },
        "yaxis3": {
         "anchor": "x3",
         "domain": [
          0,
          0.26666666666666666
         ]
        }
       }
      }
     },
     "metadata": {}
    }
   ],
   "source": [
    "num_row, num_col = 3, 1\n",
    "fig = make_subplots(rows=num_row, cols=num_col)\n",
    "\n",
    "fig.add_trace(\n",
    "    go.Bar(x=years, y=num_movies_arr, name=\"# of movies\"),\n",
    "    1, 1\n",
    ")\n",
    "\n",
    "fig.add_trace(\n",
    "    go.Bar(x=years, y=sum_budget, name=\"Revenue\"),\n",
    "    2, 1\n",
    ")\n",
    "\n",
    "fig.add_trace(\n",
    "    go.Bar(x=years, y=avg_budget, name=\"Average Revenue\"),\n",
    "    3, 1\n",
    ")\n",
    "\n",
    "fig.update_layout(\n",
    "    height=900, \n",
    "    width=1200,\n",
    "    title_text=\"Movie yearwise revenue\"\n",
    ")"
   ]
  },
  {
   "cell_type": "code",
   "execution_count": null,
   "metadata": {},
   "outputs": [],
   "source": []
  }
 ],
 "metadata": {
  "kernelspec": {
   "name": "python3610jvsc74a57bd0a2994dbb0d3568a8f29048cffb90c110f8a6c9536ed24b7d26cf7f02e1e09081",
   "display_name": "Python 3.6.10 64-bit ('geomap': conda)"
  },
  "language_info": {
   "codemirror_mode": {
    "name": "ipython",
    "version": 3
   },
   "file_extension": ".py",
   "mimetype": "text/x-python",
   "name": "python",
   "nbconvert_exporter": "python",
   "pygments_lexer": "ipython3",
   "version": "3.6.10"
  }
 },
 "nbformat": 4,
 "nbformat_minor": 5
}