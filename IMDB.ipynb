{
 "cells": [
  {
   "cell_type": "code",
   "execution_count": 4,
   "id": "6b986f22",
   "metadata": {},
   "outputs": [],
   "source": [
    "import os\n",
    "import json\n",
    "import plotly.graph_objects as go\n",
    "from plotly.subplots import make_subplots\n",
    "# import pymongo\n",
    "from tqdm import tqdm\n",
    "root = \"../Dataset/IMDB/\"\n",
    "summary_path = 'IMDB_SUMMARY/SUMMARY_DATA/'\n",
    "movie_path = 'MOVIES/'"
   ]
  },
  {
   "cell_type": "code",
   "execution_count": 6,
   "id": "b3a25e3e",
   "metadata": {},
   "outputs": [],
   "source": [
    "limit = 50000"
   ]
  },
  {
   "cell_type": "markdown",
   "id": "add0d87b",
   "metadata": {},
   "source": [
    "#### load summary"
   ]
  },
  {
   "cell_type": "code",
   "execution_count": 7,
   "id": "d1fa9b1e",
   "metadata": {},
   "outputs": [
    {
     "output_type": "stream",
     "name": "stderr",
     "text": [
      "100%|██████████| 200/200 [00:01<00:00, 182.75it/s]\n"
     ]
    }
   ],
   "source": [
    "summary = []\n",
    "\n",
    "for frm in tqdm(range(1, limit, 250)):\n",
    "    file_name = '{} - {}.json'.format(frm, frm+250-1)\n",
    "    with open(root + summary_path + file_name, 'r') as f:\n",
    "        cur_file = json.load(f)\n",
    "    summary = summary + cur_file"
   ]
  },
  {
   "cell_type": "code",
   "execution_count": 8,
   "id": "6ed77db5",
   "metadata": {},
   "outputs": [
    {
     "output_type": "execute_result",
     "data": {
      "text/plain": [
       "50000"
      ]
     },
     "metadata": {},
     "execution_count": 8
    }
   ],
   "source": [
    "len(summary)"
   ]
  },
  {
   "cell_type": "markdown",
   "id": "8908cb2b",
   "metadata": {},
   "source": [
    "#### load movies"
   ]
  },
  {
   "cell_type": "code",
   "execution_count": 11,
   "id": "302ad586",
   "metadata": {},
   "outputs": [],
   "source": [
    "# os.listdir(root + movie_path + '1 - 250/')\n",
    "# with open(root + movies + '1 - 250/' + 'tt9612102__exit.json', 'r') as f:\n",
    "#     movie = json.load(f)\n",
    "# movie"
   ]
  },
  {
   "cell_type": "code",
   "execution_count": 12,
   "id": "da5e0e4f",
   "metadata": {},
   "outputs": [
    {
     "output_type": "stream",
     "name": "stderr",
     "text": [
      "100%|██████████| 200/200 [00:12<00:00, 15.94it/s]\n"
     ]
    }
   ],
   "source": [
    "movie_list = []\n",
    "\n",
    "for frm in tqdm(range(1, limit, 250)):\n",
    "    folder_name = '{} - {}/'.format(frm, frm+250-1)\n",
    "    movie_files = os.listdir(root + movie_path + folder_name)\n",
    "    for file_name in movie_files:\n",
    "        file_path = root + movie_path + folder_name + file_name\n",
    "        with open(file_path, 'r') as f:\n",
    "            cur_movie = json.load(f)\n",
    "        movie_list.append(cur_movie)"
   ]
  },
  {
   "cell_type": "code",
   "execution_count": 35,
   "id": "2b95db3a",
   "metadata": {},
   "outputs": [
    {
     "output_type": "execute_result",
     "data": {
      "text/plain": [
       "{'@context': 'http://schema.org',\n",
       " '@type': 'Movie',\n",
       " 'url': '/title/tt1853728/',\n",
       " 'name': 'Django Unchained',\n",
       " 'image': 'https://m.media-amazon.com/images/M/MV5BMjIyNTQ5NjQ1OV5BMl5BanBnXkFtZTcwODg1MDU4OA@@._V1_.jpg',\n",
       " 'genre': ['Drama', 'Western'],\n",
       " 'contentRating': 'R',\n",
       " 'actor': [{'@type': 'Person',\n",
       "   'url': '/name/nm0004937/',\n",
       "   'name': 'Jamie Foxx'},\n",
       "  {'@type': 'Person', 'url': '/name/nm0910607/', 'name': 'Christoph Waltz'},\n",
       "  {'@type': 'Person', 'url': '/name/nm0000138/', 'name': 'Leonardo DiCaprio'},\n",
       "  {'@type': 'Person', 'url': '/name/nm0913488/', 'name': 'Kerry Washington'}],\n",
       " 'director': {'@type': 'Person',\n",
       "  'url': '/name/nm0000233/',\n",
       "  'name': 'Quentin Tarantino'},\n",
       " 'creator': [{'@type': 'Person',\n",
       "   'url': '/name/nm0000233/',\n",
       "   'name': 'Quentin Tarantino'},\n",
       "  {'@type': 'Organization', 'url': '/company/co0150452/'},\n",
       "  {'@type': 'Organization', 'url': '/company/co0050868/'}],\n",
       " 'description': 'Django Unchained is a movie starring Jamie Foxx, Christoph Waltz, and Leonardo DiCaprio. With the help of a German bounty-hunter, a freed slave sets out to rescue his wife from a brutal plantation-owner in Mississippi.',\n",
       " 'datePublished': '2012-12-25',\n",
       " 'keywords': 'slavery,racial vengeance,racial violence,historically inaccurate,one against many',\n",
       " 'aggregateRating': {'@type': 'AggregateRating',\n",
       "  'ratingCount': 1384858,\n",
       "  'bestRating': '10.0',\n",
       "  'worstRating': '1.0',\n",
       "  'ratingValue': '8.4'},\n",
       " 'review': {'@type': 'Review',\n",
       "  'itemReviewed': {'@type': 'CreativeWork', 'url': '/title/tt1853728/'},\n",
       "  'author': {'@type': 'Person', 'name': 'salbelmondo-570-512867'},\n",
       "  'dateCreated': '2013-01-01',\n",
       "  'inLanguage': 'English',\n",
       "  'name': 'Freedom and Choices and Tarantino',\n",
       "  'reviewBody': \"In Quentin Tarantino's Django Unchained, there is a scene in which Django (Jamie Fox), soon after being freed by the incredibly likable dentist turned bounty hunter, Dr. King Schultz (Christoph Waltz), shops for new clothes to wear. \\n\\nSchultz tells Django to pick out whatever he likes. Django looks at the smiling white man in disbelief. You're gonna let me pick out my own clothes? Django can't believe it. The following shot delivered one of the biggest laughs from the audience I watched the film with. After the white man confirms that yes, he is indeed letting the black man pick out his own clothes, we cut to a wide shot of Django riding his horse, now decked out in his very own (outlandish) cowboy outfit—an all blue with white ruffle get-up. \\n\\nIt's a great little scene that provides humor and allows the viewer to further warm up to the two main protagonists. But it also does more than that. It's a simple scene that speaks for the whole film. It's an affirmation that this man of color is now free and able to make his own decisions. The choice he made concerning his extravagantly loud outfit acts as a warning to those that plan to stand in his way—watch out, here I come, I ain't gonna be quiet no more.\\n\\nAnd the humor the scene provides echoes the entire film—it wants us to get comfortable with our hero. Tarantino knows that a man of color makes an unconventional hero in a revenge- flick—that's why he made the film. When was the black man going to get his revenge film? It's been long overdue. With Django Unchained, that film has finally arrived and it has arrived in style. Beautifully shot, wonderfully acted, and meticulously written, it's Tarantino at his most epic.\",\n",
       "  'reviewRating': {'@type': 'Rating',\n",
       "   'worstRating': '1',\n",
       "   'bestRating': '10',\n",
       "   'ratingValue': '9'}},\n",
       " 'duration': 'PT2H45M',\n",
       " 'trailer': {'@type': 'VideoObject',\n",
       "  'name': 'Winner: Best Supporting Actor',\n",
       "  'embedUrl': '/video/imdb/vi2291574553',\n",
       "  'thumbnail': {'@type': 'ImageObject',\n",
       "   'contentUrl': 'https://m.media-amazon.com/images/M/MV5BNzU5NzM4OTQxNV5BMl5BanBnXkFtZTgwOTQ5NjU0NzE@._V1_.jpg'},\n",
       "  'thumbnailUrl': 'https://m.media-amazon.com/images/M/MV5BNzU5NzM4OTQxNV5BMl5BanBnXkFtZTgwOTQ5NjU0NzE@._V1_.jpg',\n",
       "  'description': 'With the help of his mentor, a slave-turned-bounty hunter sets out to rescue his wife from a brutal Mississippi plantation owner.',\n",
       "  'uploadDate': '2012-12-01T09:57:31Z'},\n",
       " 'cast_and_character': [{'actor': {'@type': 'Person',\n",
       "    'url': '/name/nm0004937/?ref_=tt_cl_t1',\n",
       "    'name': 'Jamie Foxx'},\n",
       "   'character_and_episodes': [{'url': '/title/tt1853728/characters/nm0004937?ref_=tt_cl_t1',\n",
       "     'name': 'Django'}]},\n",
       "  {'actor': {'@type': 'Person',\n",
       "    'url': '/name/nm0000138/?ref_=tt_cl_t3',\n",
       "    'name': 'Leonardo DiCaprio'},\n",
       "   'character_and_episodes': [{'url': '/title/tt1853728/characters/nm0000138?ref_=tt_cl_t3',\n",
       "     'name': 'Calvin Candie'}]},\n",
       "  {'actor': {'@type': 'Person',\n",
       "    'url': '/name/nm0000168/?ref_=tt_cl_t5',\n",
       "    'name': 'Samuel L. Jackson'},\n",
       "   'character_and_episodes': [{'url': '/title/tt1853728/characters/nm0000168?ref_=tt_cl_t5',\n",
       "     'name': 'Stephen'}]},\n",
       "  {'actor': {'@type': 'Person',\n",
       "    'url': '/name/nm0160550/?ref_=tt_cl_t7',\n",
       "    'name': 'Dennis Christopher'},\n",
       "   'character_and_episodes': [{'url': '/title/tt1853728/characters/nm0160550?ref_=tt_cl_t7',\n",
       "     'name': 'Leonide Moguy'}]},\n",
       "  {'actor': {'@type': 'Person',\n",
       "    'url': '/name/nm0824741/?ref_=tt_cl_t9',\n",
       "    'name': 'David Steen'},\n",
       "   'character_and_episodes': [{'url': '/title/tt1853728/characters/nm0824741?ref_=tt_cl_t9',\n",
       "     'name': 'Mr. Stonesipher'}]},\n",
       "  {'actor': {'@type': 'Person',\n",
       "    'url': '/name/nm0732945/?ref_=tt_cl_t11',\n",
       "    'name': 'Nichole Galicia'},\n",
       "   'character_and_episodes': [{'url': '/title/tt1853728/characters/nm0732945?ref_=tt_cl_t11',\n",
       "     'name': 'Sheba'}]},\n",
       "  {'actor': {'@type': 'Person',\n",
       "    'url': '/name/nm1017951/?ref_=tt_cl_t13',\n",
       "    'name': 'Ato Essandoh'},\n",
       "   'character_and_episodes': [{'url': '/title/tt1853728/characters/nm1017951?ref_=tt_cl_t13',\n",
       "     'name': \"D'Artagnan\"}]},\n",
       "  {'actor': {'@type': 'Person',\n",
       "    'url': '/name/nm0285047/?ref_=tt_cl_t15',\n",
       "    'name': 'Clay Donahue Fontenot'},\n",
       "   'character_and_episodes': [{'url': '/title/tt1853728/characters/nm0285047?ref_=tt_cl_t15',\n",
       "     'name': \"Big Fred's Opponent\"}]},\n",
       "  {'actor': {'@type': 'Person',\n",
       "    'url': '/name/nm0910607/?ref_=tt_cl_t2',\n",
       "    'name': 'Christoph Waltz'},\n",
       "   'character_and_episodes': [{'url': '/title/tt1853728/characters/nm0910607?ref_=tt_cl_t2',\n",
       "     'name': 'Dr. King Schultz'}]},\n",
       "  {'actor': {'@type': 'Person',\n",
       "    'url': '/name/nm0913488/?ref_=tt_cl_t4',\n",
       "    'name': 'Kerry Washington'},\n",
       "   'character_and_episodes': [{'url': '/title/tt1853728/characters/nm0913488?ref_=tt_cl_t4',\n",
       "     'name': 'Broomhilda von Shaft'}]},\n",
       "  {'actor': {'@type': 'Person',\n",
       "    'url': '/name/nm0324658/?ref_=tt_cl_t6',\n",
       "    'name': 'Walton Goggins'},\n",
       "   'character_and_episodes': [{'url': '/title/tt1853728/characters/nm0324658?ref_=tt_cl_t6',\n",
       "     'name': 'Billy Crash'}]},\n",
       "  {'actor': {'@type': 'Person',\n",
       "    'url': '/name/nm0001664/?ref_=tt_cl_t8',\n",
       "    'name': 'James Remar'},\n",
       "   'character_and_episodes': [{'url': '/title/tt1853728/characters/nm0001664?ref_=tt_cl_t8',\n",
       "     'name': 'Butch Pooch'},\n",
       "    {'url': '/title/tt1853728/characters/nm0001664?ref_=tt_cl_t8',\n",
       "     'name': 'Ace Speck'}]},\n",
       "  {'actor': {'@type': 'Person',\n",
       "    'url': '/name/nm4158239/?ref_=tt_cl_t10',\n",
       "    'name': 'Dana Gourrier'},\n",
       "   'character_and_episodes': [{'url': '/title/tt1853728/characters/nm4158239?ref_=tt_cl_t10',\n",
       "     'name': 'Cora'}]},\n",
       "  {'actor': {'@type': 'Person',\n",
       "    'url': '/name/nm0147312/?ref_=tt_cl_t12',\n",
       "    'name': 'Laura Cayouette'},\n",
       "   'character_and_episodes': [{'url': '/title/tt1853728/characters/nm0147312?ref_=tt_cl_t12',\n",
       "     'name': 'Lara Lee Candie-Fitzwilly'}]},\n",
       "  {'actor': {'@type': 'Person',\n",
       "    'url': '/name/nm0745353/?ref_=tt_cl_t14',\n",
       "    'name': 'Sammi Rotibi'},\n",
       "   'character_and_episodes': [{'url': '/title/tt1853728/characters/nm0745353?ref_=tt_cl_t14',\n",
       "     'name': 'Rodney'}]}],\n",
       " 'details': {'Country': ['USA'],\n",
       "  'Language': ['English', 'German', 'French', 'Italian'],\n",
       "  'Release Date': ['25 December 2012 (USA)'],\n",
       "  'Also Known As': ['Django Unchained'],\n",
       "  'Filming Locations': ['Jackson Hole, Wyoming, USA'],\n",
       "  'Budget': ['$100,000,000', '(estimated)'],\n",
       "  'Opening Weekend USA': ['$30,122,888,', '30 December 2012'],\n",
       "  'Gross USA': ['$162,805,434'],\n",
       "  'Cumulative Worldwide Gross': ['$426,074,373'],\n",
       "  'Production Co': ['The Weinstein Company', 'Columbia Pictures'],\n",
       "  'Runtime': ['165 min'],\n",
       "  'Sound Mix': ['SDDS', 'Datasat', 'Dolby Digital'],\n",
       "  'Aspect Ratio': ['2.39 : 1']}}"
      ]
     },
     "metadata": {},
     "execution_count": 35
    }
   ],
   "source": [
    "movie_list[111]"
   ]
  },
  {
   "source": [
    "# @type"
   ],
   "cell_type": "markdown",
   "metadata": {}
  },
  {
   "cell_type": "code",
   "execution_count": 16,
   "metadata": {},
   "outputs": [],
   "source": [
    "type_dict = {}\n",
    "for movie in movie_list:\n",
    "    __type = movie['@type']\n",
    "    if(__type not in type_dict):\n",
    "        type_dict[__type] = []\n",
    "    type_dict[__type].append(movie)"
   ]
  },
  {
   "cell_type": "code",
   "execution_count": 17,
   "metadata": {},
   "outputs": [
    {
     "output_type": "stream",
     "name": "stdout",
     "text": [
      "TVSeries 11859\nMovie 35785\nCreativeWork 1505\nVideoGame 573\nTVEpisode 11\n"
     ]
    }
   ],
   "source": [
    "for __type in type_dict:\n",
    "    print(__type, len(type_dict[__type]))"
   ]
  },
  {
   "cell_type": "code",
   "execution_count": 18,
   "metadata": {},
   "outputs": [],
   "source": [
    "movie_list = type_dict['Movie']"
   ]
  },
  {
   "cell_type": "code",
   "execution_count": 19,
   "metadata": {},
   "outputs": [
    {
     "output_type": "execute_result",
     "data": {
      "text/plain": [
       "35785"
      ]
     },
     "metadata": {},
     "execution_count": 19
    }
   ],
   "source": [
    "len(movie_list)"
   ]
  },
  {
   "source": [
    "# Release Date - Budget"
   ],
   "cell_type": "markdown",
   "metadata": {}
  },
  {
   "cell_type": "code",
   "execution_count": 22,
   "metadata": {},
   "outputs": [],
   "source": [
    "months =    ['January', 'February', 'March', 'April', 'May', 'June',\n",
    "            'July', 'August', 'September', 'October', 'November', 'December']\n",
    "years = []\n",
    "for year in range(1900, 2025):\n",
    "    years.append(str(year))\n",
    "\n",
    "days = []\n",
    "for day in range(1, 32):\n",
    "    days.append(str(day))"
   ]
  },
  {
   "cell_type": "code",
   "execution_count": 27,
   "metadata": {},
   "outputs": [],
   "source": [
    "def getDate(date_str):\n",
    "    date_str = date_str.split(\" \")\n",
    "    day = None\n",
    "    month = None\n",
    "    year = None\n",
    "\n",
    "    for val in date_str:\n",
    "        if(day == None and val in days):\n",
    "            day = val\n",
    "        if(month == None and val in months):\n",
    "            month = val\n",
    "        if(year == None and val in years):\n",
    "            year = val\n",
    "    \n",
    "    return day, month, year"
   ]
  },
  {
   "cell_type": "code",
   "execution_count": 28,
   "metadata": {},
   "outputs": [
    {
     "output_type": "execute_result",
     "data": {
      "text/plain": [
       "('22', 'February', '2017')"
      ]
     },
     "metadata": {},
     "execution_count": 28
    }
   ],
   "source": [
    "getDate('22 February 2017 (South Korea)')"
   ]
  },
  {
   "cell_type": "code",
   "execution_count": 29,
   "metadata": {
    "tags": []
   },
   "outputs": [],
   "source": [
    "month_movie = {}\n",
    "year_movie = {}\n",
    "\n",
    "for month in months:\n",
    "    month_movie[month] = []\n",
    "for year in years:\n",
    "    year_movie[year] = []\n",
    "\n",
    "no_info = 0\n",
    "for movie in movie_list:\n",
    "    try:\n",
    "        date_str = movie['details']['Release Date'][0]\n",
    "        day, month, year = getDate(date_str)\n",
    "        if(month != None):\n",
    "            month_movie[month].append(movie)\n",
    "        if(year != None):\n",
    "            year_movie[year].append(movie)\n",
    "    except:\n",
    "        if('Release Date' not in movie['details']):\n",
    "            no_info += 1\n",
    "        else:\n",
    "            print(movie['details']['Release Date'])"
   ]
  },
  {
   "cell_type": "code",
   "execution_count": 31,
   "metadata": {},
   "outputs": [
    {
     "output_type": "execute_result",
     "data": {
      "text/plain": [
       "1071"
      ]
     },
     "metadata": {},
     "execution_count": 31
    }
   ],
   "source": [
    "no_info # number of movies that does not have release date available"
   ]
  },
  {
   "cell_type": "code",
   "execution_count": 33,
   "metadata": {},
   "outputs": [
    {
     "output_type": "stream",
     "name": "stdout",
     "text": [
      "January 2666\nFebruary 2746\nMarch 3053\nApril 2834\nMay 2630\nJune 2510\nJuly 2321\nAugust 2740\nSeptember 3015\nOctober 3529\nNovember 3019\nDecember 2799\n"
     ]
    }
   ],
   "source": [
    "xrr = []\n",
    "yrr = []\n",
    "\n",
    "for month in month_movie:\n",
    "    print(month, len(month_movie[month]))\n",
    "    xrr.append(month)\n",
    "    yrr.append(len(month_movie[month]))"
   ]
  },
  {
   "cell_type": "code",
   "execution_count": 34,
   "metadata": {},
   "outputs": [
    {
     "output_type": "display_data",
     "data": {
      "application/vnd.plotly.v1+json": {
       "config": {
        "plotlyServerURL": "https://plot.ly"
       },
       "data": [
        {
         "type": "bar",
         "x": [
          "January",
          "February",
          "March",
          "April",
          "May",
          "June",
          "July",
          "August",
          "September",
          "October",
          "November",
          "December"
         ],
         "y": [
          2666,
          2746,
          3053,
          2834,
          2630,
          2510,
          2321,
          2740,
          3015,
          3529,
          3019,
          2799
         ]
        }
       ],
       "layout": {
        "template": {
         "data": {
          "bar": [
           {
            "error_x": {
             "color": "#2a3f5f"
            },
            "error_y": {
             "color": "#2a3f5f"
            },
            "marker": {
             "line": {
              "color": "#E5ECF6",
              "width": 0.5
             }
            },
            "type": "bar"
           }
          ],
          "barpolar": [
           {
            "marker": {
             "line": {
              "color": "#E5ECF6",
              "width": 0.5
             }
            },
            "type": "barpolar"
           }
          ],
          "carpet": [
           {
            "aaxis": {
             "endlinecolor": "#2a3f5f",
             "gridcolor": "white",
             "linecolor": "white",
             "minorgridcolor": "white",
             "startlinecolor": "#2a3f5f"
            },
            "baxis": {
             "endlinecolor": "#2a3f5f",
             "gridcolor": "white",
             "linecolor": "white",
             "minorgridcolor": "white",
             "startlinecolor": "#2a3f5f"
            },
            "type": "carpet"
           }
          ],
          "choropleth": [
           {
            "colorbar": {
             "outlinewidth": 0,
             "ticks": ""
            },
            "type": "choropleth"
           }
          ],
          "contour": [
           {
            "colorbar": {
             "outlinewidth": 0,
             "ticks": ""
            },
            "colorscale": [
             [
              0,
              "#0d0887"
             ],
             [
              0.1111111111111111,
              "#46039f"
             ],
             [
              0.2222222222222222,
              "#7201a8"
             ],
             [
              0.3333333333333333,
              "#9c179e"
             ],
             [
              0.4444444444444444,
              "#bd3786"
             ],
             [
              0.5555555555555556,
              "#d8576b"
             ],
             [
              0.6666666666666666,
              "#ed7953"
             ],
             [
              0.7777777777777778,
              "#fb9f3a"
             ],
             [
              0.8888888888888888,
              "#fdca26"
             ],
             [
              1,
              "#f0f921"
             ]
            ],
            "type": "contour"
           }
          ],
          "contourcarpet": [
           {
            "colorbar": {
             "outlinewidth": 0,
             "ticks": ""
            },
            "type": "contourcarpet"
           }
          ],
          "heatmap": [
           {
            "colorbar": {
             "outlinewidth": 0,
             "ticks": ""
            },
            "colorscale": [
             [
              0,
              "#0d0887"
             ],
             [
              0.1111111111111111,
              "#46039f"
             ],
             [
              0.2222222222222222,
              "#7201a8"
             ],
             [
              0.3333333333333333,
              "#9c179e"
             ],
             [
              0.4444444444444444,
              "#bd3786"
             ],
             [
              0.5555555555555556,
              "#d8576b"
             ],
             [
              0.6666666666666666,
              "#ed7953"
             ],
             [
              0.7777777777777778,
              "#fb9f3a"
             ],
             [
              0.8888888888888888,
              "#fdca26"
             ],
             [
              1,
              "#f0f921"
             ]
            ],
            "type": "heatmap"
           }
          ],
          "heatmapgl": [
           {
            "colorbar": {
             "outlinewidth": 0,
             "ticks": ""
            },
            "colorscale": [
             [
              0,
              "#0d0887"
             ],
             [
              0.1111111111111111,
              "#46039f"
             ],
             [
              0.2222222222222222,
              "#7201a8"
             ],
             [
              0.3333333333333333,
              "#9c179e"
             ],
             [
              0.4444444444444444,
              "#bd3786"
             ],
             [
              0.5555555555555556,
              "#d8576b"
             ],
             [
              0.6666666666666666,
              "#ed7953"
             ],
             [
              0.7777777777777778,
              "#fb9f3a"
             ],
             [
              0.8888888888888888,
              "#fdca26"
             ],
             [
              1,
              "#f0f921"
             ]
            ],
            "type": "heatmapgl"
           }
          ],
          "histogram": [
           {
            "marker": {
             "colorbar": {
              "outlinewidth": 0,
              "ticks": ""
             }
            },
            "type": "histogram"
           }
          ],
          "histogram2d": [
           {
            "colorbar": {
             "outlinewidth": 0,
             "ticks": ""
            },
            "colorscale": [
             [
              0,
              "#0d0887"
             ],
             [
              0.1111111111111111,
              "#46039f"
             ],
             [
              0.2222222222222222,
              "#7201a8"
             ],
             [
              0.3333333333333333,
              "#9c179e"
             ],
             [
              0.4444444444444444,
              "#bd3786"
             ],
             [
              0.5555555555555556,
              "#d8576b"
             ],
             [
              0.6666666666666666,
              "#ed7953"
             ],
             [
              0.7777777777777778,
              "#fb9f3a"
             ],
             [
              0.8888888888888888,
              "#fdca26"
             ],
             [
              1,
              "#f0f921"
             ]
            ],
            "type": "histogram2d"
           }
          ],
          "histogram2dcontour": [
           {
            "colorbar": {
             "outlinewidth": 0,
             "ticks": ""
            },
            "colorscale": [
             [
              0,
              "#0d0887"
             ],
             [
              0.1111111111111111,
              "#46039f"
             ],
             [
              0.2222222222222222,
              "#7201a8"
             ],
             [
              0.3333333333333333,
              "#9c179e"
             ],
             [
              0.4444444444444444,
              "#bd3786"
             ],
             [
              0.5555555555555556,
              "#d8576b"
             ],
             [
              0.6666666666666666,
              "#ed7953"
             ],
             [
              0.7777777777777778,
              "#fb9f3a"
             ],
             [
              0.8888888888888888,
              "#fdca26"
             ],
             [
              1,
              "#f0f921"
             ]
            ],
            "type": "histogram2dcontour"
           }
          ],
          "mesh3d": [
           {
            "colorbar": {
             "outlinewidth": 0,
             "ticks": ""
            },
            "type": "mesh3d"
           }
          ],
          "parcoords": [
           {
            "line": {
             "colorbar": {
              "outlinewidth": 0,
              "ticks": ""
             }
            },
            "type": "parcoords"
           }
          ],
          "pie": [
           {
            "automargin": true,
            "type": "pie"
           }
          ],
          "scatter": [
           {
            "marker": {
             "colorbar": {
              "outlinewidth": 0,
              "ticks": ""
             }
            },
            "type": "scatter"
           }
          ],
          "scatter3d": [
           {
            "line": {
             "colorbar": {
              "outlinewidth": 0,
              "ticks": ""
             }
            },
            "marker": {
             "colorbar": {
              "outlinewidth": 0,
              "ticks": ""
             }
            },
            "type": "scatter3d"
           }
          ],
          "scattercarpet": [
           {
            "marker": {
             "colorbar": {
              "outlinewidth": 0,
              "ticks": ""
             }
            },
            "type": "scattercarpet"
           }
          ],
          "scattergeo": [
           {
            "marker": {
             "colorbar": {
              "outlinewidth": 0,
              "ticks": ""
             }
            },
            "type": "scattergeo"
           }
          ],
          "scattergl": [
           {
            "marker": {
             "colorbar": {
              "outlinewidth": 0,
              "ticks": ""
             }
            },
            "type": "scattergl"
           }
          ],
          "scattermapbox": [
           {
            "marker": {
             "colorbar": {
              "outlinewidth": 0,
              "ticks": ""
             }
            },
            "type": "scattermapbox"
           }
          ],
          "scatterpolar": [
           {
            "marker": {
             "colorbar": {
              "outlinewidth": 0,
              "ticks": ""
             }
            },
            "type": "scatterpolar"
           }
          ],
          "scatterpolargl": [
           {
            "marker": {
             "colorbar": {
              "outlinewidth": 0,
              "ticks": ""
             }
            },
            "type": "scatterpolargl"
           }
          ],
          "scatterternary": [
           {
            "marker": {
             "colorbar": {
              "outlinewidth": 0,
              "ticks": ""
             }
            },
            "type": "scatterternary"
           }
          ],
          "surface": [
           {
            "colorbar": {
             "outlinewidth": 0,
             "ticks": ""
            },
            "colorscale": [
             [
              0,
              "#0d0887"
             ],
             [
              0.1111111111111111,
              "#46039f"
             ],
             [
              0.2222222222222222,
              "#7201a8"
             ],
             [
              0.3333333333333333,
              "#9c179e"
             ],
             [
              0.4444444444444444,
              "#bd3786"
             ],
             [
              0.5555555555555556,
              "#d8576b"
             ],
             [
              0.6666666666666666,
              "#ed7953"
             ],
             [
              0.7777777777777778,
              "#fb9f3a"
             ],
             [
              0.8888888888888888,
              "#fdca26"
             ],
             [
              1,
              "#f0f921"
             ]
            ],
            "type": "surface"
           }
          ],
          "table": [
           {
            "cells": {
             "fill": {
              "color": "#EBF0F8"
             },
             "line": {
              "color": "white"
             }
            },
            "header": {
             "fill": {
              "color": "#C8D4E3"
             },
             "line": {
              "color": "white"
             }
            },
            "type": "table"
           }
          ]
         },
         "layout": {
          "annotationdefaults": {
           "arrowcolor": "#2a3f5f",
           "arrowhead": 0,
           "arrowwidth": 1
          },
          "autotypenumbers": "strict",
          "coloraxis": {
           "colorbar": {
            "outlinewidth": 0,
            "ticks": ""
           }
          },
          "colorscale": {
           "diverging": [
            [
             0,
             "#8e0152"
            ],
            [
             0.1,
             "#c51b7d"
            ],
            [
             0.2,
             "#de77ae"
            ],
            [
             0.3,
             "#f1b6da"
            ],
            [
             0.4,
             "#fde0ef"
            ],
            [
             0.5,
             "#f7f7f7"
            ],
            [
             0.6,
             "#e6f5d0"
            ],
            [
             0.7,
             "#b8e186"
            ],
            [
             0.8,
             "#7fbc41"
            ],
            [
             0.9,
             "#4d9221"
            ],
            [
             1,
             "#276419"
            ]
           ],
           "sequential": [
            [
             0,
             "#0d0887"
            ],
            [
             0.1111111111111111,
             "#46039f"
            ],
            [
             0.2222222222222222,
             "#7201a8"
            ],
            [
             0.3333333333333333,
             "#9c179e"
            ],
            [
             0.4444444444444444,
             "#bd3786"
            ],
            [
             0.5555555555555556,
             "#d8576b"
            ],
            [
             0.6666666666666666,
             "#ed7953"
            ],
            [
             0.7777777777777778,
             "#fb9f3a"
            ],
            [
             0.8888888888888888,
             "#fdca26"
            ],
            [
             1,
             "#f0f921"
            ]
           ],
           "sequentialminus": [
            [
             0,
             "#0d0887"
            ],
            [
             0.1111111111111111,
             "#46039f"
            ],
            [
             0.2222222222222222,
             "#7201a8"
            ],
            [
             0.3333333333333333,
             "#9c179e"
            ],
            [
             0.4444444444444444,
             "#bd3786"
            ],
            [
             0.5555555555555556,
             "#d8576b"
            ],
            [
             0.6666666666666666,
             "#ed7953"
            ],
            [
             0.7777777777777778,
             "#fb9f3a"
            ],
            [
             0.8888888888888888,
             "#fdca26"
            ],
            [
             1,
             "#f0f921"
            ]
           ]
          },
          "colorway": [
           "#636efa",
           "#EF553B",
           "#00cc96",
           "#ab63fa",
           "#FFA15A",
           "#19d3f3",
           "#FF6692",
           "#B6E880",
           "#FF97FF",
           "#FECB52"
          ],
          "font": {
           "color": "#2a3f5f"
          },
          "geo": {
           "bgcolor": "white",
           "lakecolor": "white",
           "landcolor": "#E5ECF6",
           "showlakes": true,
           "showland": true,
           "subunitcolor": "white"
          },
          "hoverlabel": {
           "align": "left"
          },
          "hovermode": "closest",
          "mapbox": {
           "style": "light"
          },
          "paper_bgcolor": "white",
          "plot_bgcolor": "#E5ECF6",
          "polar": {
           "angularaxis": {
            "gridcolor": "white",
            "linecolor": "white",
            "ticks": ""
           },
           "bgcolor": "#E5ECF6",
           "radialaxis": {
            "gridcolor": "white",
            "linecolor": "white",
            "ticks": ""
           }
          },
          "scene": {
           "xaxis": {
            "backgroundcolor": "#E5ECF6",
            "gridcolor": "white",
            "gridwidth": 2,
            "linecolor": "white",
            "showbackground": true,
            "ticks": "",
            "zerolinecolor": "white"
           },
           "yaxis": {
            "backgroundcolor": "#E5ECF6",
            "gridcolor": "white",
            "gridwidth": 2,
            "linecolor": "white",
            "showbackground": true,
            "ticks": "",
            "zerolinecolor": "white"
           },
           "zaxis": {
            "backgroundcolor": "#E5ECF6",
            "gridcolor": "white",
            "gridwidth": 2,
            "linecolor": "white",
            "showbackground": true,
            "ticks": "",
            "zerolinecolor": "white"
           }
          },
          "shapedefaults": {
           "line": {
            "color": "#2a3f5f"
           }
          },
          "ternary": {
           "aaxis": {
            "gridcolor": "white",
            "linecolor": "white",
            "ticks": ""
           },
           "baxis": {
            "gridcolor": "white",
            "linecolor": "white",
            "ticks": ""
           },
           "bgcolor": "#E5ECF6",
           "caxis": {
            "gridcolor": "white",
            "linecolor": "white",
            "ticks": ""
           }
          },
          "title": {
           "x": 0.05
          },
          "xaxis": {
           "automargin": true,
           "gridcolor": "white",
           "linecolor": "white",
           "ticks": "",
           "title": {
            "standoff": 15
           },
           "zerolinecolor": "white",
           "zerolinewidth": 2
          },
          "yaxis": {
           "automargin": true,
           "gridcolor": "white",
           "linecolor": "white",
           "ticks": "",
           "title": {
            "standoff": 15
           },
           "zerolinecolor": "white",
           "zerolinewidth": 2
          }
         }
        }
       }
      }
     },
     "metadata": {}
    }
   ],
   "source": [
    "fig = go.Figure([go.Bar(x=xrr, y=yrr)])\n",
    "fig.show()"
   ]
  },
  {
   "cell_type": "code",
   "execution_count": 39,
   "metadata": {},
   "outputs": [],
   "source": [
    "xrr = []\n",
    "yrr = []\n",
    "\n",
    "for year in year_movie:\n",
    "    xrr.append(year)\n",
    "    yrr.append(len(year_movie[year]))"
   ]
  },
  {
   "cell_type": "code",
   "execution_count": 40,
   "metadata": {},
   "outputs": [
    {
     "output_type": "display_data",
     "data": {
      "application/vnd.plotly.v1+json": {
       "config": {
        "plotlyServerURL": "https://plot.ly"
       },
       "data": [
        {
         "type": "bar",
         "x": [
          "1900",
          "1901",
          "1902",
          "1903",
          "1904",
          "1905",
          "1906",
          "1907",
          "1908",
          "1909",
          "1910",
          "1911",
          "1912",
          "1913",
          "1914",
          "1915",
          "1916",
          "1917",
          "1918",
          "1919",
          "1920",
          "1921",
          "1922",
          "1923",
          "1924",
          "1925",
          "1926",
          "1927",
          "1928",
          "1929",
          "1930",
          "1931",
          "1932",
          "1933",
          "1934",
          "1935",
          "1936",
          "1937",
          "1938",
          "1939",
          "1940",
          "1941",
          "1942",
          "1943",
          "1944",
          "1945",
          "1946",
          "1947",
          "1948",
          "1949",
          "1950",
          "1951",
          "1952",
          "1953",
          "1954",
          "1955",
          "1956",
          "1957",
          "1958",
          "1959",
          "1960",
          "1961",
          "1962",
          "1963",
          "1964",
          "1965",
          "1966",
          "1967",
          "1968",
          "1969",
          "1970",
          "1971",
          "1972",
          "1973",
          "1974",
          "1975",
          "1976",
          "1977",
          "1978",
          "1979",
          "1980",
          "1981",
          "1982",
          "1983",
          "1984",
          "1985",
          "1986",
          "1987",
          "1988",
          "1989",
          "1990",
          "1991",
          "1992",
          "1993",
          "1994",
          "1995",
          "1996",
          "1997",
          "1998",
          "1999",
          "2000",
          "2001",
          "2002",
          "2003",
          "2004",
          "2005",
          "2006",
          "2007",
          "2008",
          "2009",
          "2010",
          "2011",
          "2012",
          "2013",
          "2014",
          "2015",
          "2016",
          "2017",
          "2018",
          "2019",
          "2020",
          "2021",
          "2022",
          "2023",
          "2024"
         ],
         "y": [
          0,
          0,
          1,
          1,
          0,
          0,
          0,
          0,
          0,
          0,
          0,
          1,
          0,
          0,
          2,
          2,
          1,
          4,
          1,
          1,
          3,
          3,
          8,
          7,
          6,
          8,
          7,
          10,
          18,
          16,
          19,
          28,
          42,
          36,
          34,
          37,
          44,
          43,
          34,
          57,
          66,
          55,
          58,
          57,
          58,
          59,
          72,
          73,
          77,
          87,
          88,
          82,
          68,
          107,
          98,
          120,
          124,
          127,
          130,
          135,
          125,
          110,
          149,
          129,
          152,
          150,
          146,
          151,
          199,
          174,
          223,
          215,
          245,
          244,
          232,
          220,
          236,
          215,
          246,
          251,
          242,
          246,
          250,
          274,
          283,
          308,
          310,
          342,
          373,
          348,
          313,
          331,
          312,
          361,
          364,
          372,
          380,
          384,
          400,
          411,
          410,
          424,
          461,
          451,
          488,
          516,
          584,
          620,
          655,
          687,
          658,
          792,
          821,
          950,
          1074,
          1255,
          1346,
          1585,
          1744,
          2137,
          2595,
          1687,
          121,
          15,
          1
         ]
        }
       ],
       "layout": {
        "template": {
         "data": {
          "bar": [
           {
            "error_x": {
             "color": "#2a3f5f"
            },
            "error_y": {
             "color": "#2a3f5f"
            },
            "marker": {
             "line": {
              "color": "#E5ECF6",
              "width": 0.5
             }
            },
            "type": "bar"
           }
          ],
          "barpolar": [
           {
            "marker": {
             "line": {
              "color": "#E5ECF6",
              "width": 0.5
             }
            },
            "type": "barpolar"
           }
          ],
          "carpet": [
           {
            "aaxis": {
             "endlinecolor": "#2a3f5f",
             "gridcolor": "white",
             "linecolor": "white",
             "minorgridcolor": "white",
             "startlinecolor": "#2a3f5f"
            },
            "baxis": {
             "endlinecolor": "#2a3f5f",
             "gridcolor": "white",
             "linecolor": "white",
             "minorgridcolor": "white",
             "startlinecolor": "#2a3f5f"
            },
            "type": "carpet"
           }
          ],
          "choropleth": [
           {
            "colorbar": {
             "outlinewidth": 0,
             "ticks": ""
            },
            "type": "choropleth"
           }
          ],
          "contour": [
           {
            "colorbar": {
             "outlinewidth": 0,
             "ticks": ""
            },
            "colorscale": [
             [
              0,
              "#0d0887"
             ],
             [
              0.1111111111111111,
              "#46039f"
             ],
             [
              0.2222222222222222,
              "#7201a8"
             ],
             [
              0.3333333333333333,
              "#9c179e"
             ],
             [
              0.4444444444444444,
              "#bd3786"
             ],
             [
              0.5555555555555556,
              "#d8576b"
             ],
             [
              0.6666666666666666,
              "#ed7953"
             ],
             [
              0.7777777777777778,
              "#fb9f3a"
             ],
             [
              0.8888888888888888,
              "#fdca26"
             ],
             [
              1,
              "#f0f921"
             ]
            ],
            "type": "contour"
           }
          ],
          "contourcarpet": [
           {
            "colorbar": {
             "outlinewidth": 0,
             "ticks": ""
            },
            "type": "contourcarpet"
           }
          ],
          "heatmap": [
           {
            "colorbar": {
             "outlinewidth": 0,
             "ticks": ""
            },
            "colorscale": [
             [
              0,
              "#0d0887"
             ],
             [
              0.1111111111111111,
              "#46039f"
             ],
             [
              0.2222222222222222,
              "#7201a8"
             ],
             [
              0.3333333333333333,
              "#9c179e"
             ],
             [
              0.4444444444444444,
              "#bd3786"
             ],
             [
              0.5555555555555556,
              "#d8576b"
             ],
             [
              0.6666666666666666,
              "#ed7953"
             ],
             [
              0.7777777777777778,
              "#fb9f3a"
             ],
             [
              0.8888888888888888,
              "#fdca26"
             ],
             [
              1,
              "#f0f921"
             ]
            ],
            "type": "heatmap"
           }
          ],
          "heatmapgl": [
           {
            "colorbar": {
             "outlinewidth": 0,
             "ticks": ""
            },
            "colorscale": [
             [
              0,
              "#0d0887"
             ],
             [
              0.1111111111111111,
              "#46039f"
             ],
             [
              0.2222222222222222,
              "#7201a8"
             ],
             [
              0.3333333333333333,
              "#9c179e"
             ],
             [
              0.4444444444444444,
              "#bd3786"
             ],
             [
              0.5555555555555556,
              "#d8576b"
             ],
             [
              0.6666666666666666,
              "#ed7953"
             ],
             [
              0.7777777777777778,
              "#fb9f3a"
             ],
             [
              0.8888888888888888,
              "#fdca26"
             ],
             [
              1,
              "#f0f921"
             ]
            ],
            "type": "heatmapgl"
           }
          ],
          "histogram": [
           {
            "marker": {
             "colorbar": {
              "outlinewidth": 0,
              "ticks": ""
             }
            },
            "type": "histogram"
           }
          ],
          "histogram2d": [
           {
            "colorbar": {
             "outlinewidth": 0,
             "ticks": ""
            },
            "colorscale": [
             [
              0,
              "#0d0887"
             ],
             [
              0.1111111111111111,
              "#46039f"
             ],
             [
              0.2222222222222222,
              "#7201a8"
             ],
             [
              0.3333333333333333,
              "#9c179e"
             ],
             [
              0.4444444444444444,
              "#bd3786"
             ],
             [
              0.5555555555555556,
              "#d8576b"
             ],
             [
              0.6666666666666666,
              "#ed7953"
             ],
             [
              0.7777777777777778,
              "#fb9f3a"
             ],
             [
              0.8888888888888888,
              "#fdca26"
             ],
             [
              1,
              "#f0f921"
             ]
            ],
            "type": "histogram2d"
           }
          ],
          "histogram2dcontour": [
           {
            "colorbar": {
             "outlinewidth": 0,
             "ticks": ""
            },
            "colorscale": [
             [
              0,
              "#0d0887"
             ],
             [
              0.1111111111111111,
              "#46039f"
             ],
             [
              0.2222222222222222,
              "#7201a8"
             ],
             [
              0.3333333333333333,
              "#9c179e"
             ],
             [
              0.4444444444444444,
              "#bd3786"
             ],
             [
              0.5555555555555556,
              "#d8576b"
             ],
             [
              0.6666666666666666,
              "#ed7953"
             ],
             [
              0.7777777777777778,
              "#fb9f3a"
             ],
             [
              0.8888888888888888,
              "#fdca26"
             ],
             [
              1,
              "#f0f921"
             ]
            ],
            "type": "histogram2dcontour"
           }
          ],
          "mesh3d": [
           {
            "colorbar": {
             "outlinewidth": 0,
             "ticks": ""
            },
            "type": "mesh3d"
           }
          ],
          "parcoords": [
           {
            "line": {
             "colorbar": {
              "outlinewidth": 0,
              "ticks": ""
             }
            },
            "type": "parcoords"
           }
          ],
          "pie": [
           {
            "automargin": true,
            "type": "pie"
           }
          ],
          "scatter": [
           {
            "marker": {
             "colorbar": {
              "outlinewidth": 0,
              "ticks": ""
             }
            },
            "type": "scatter"
           }
          ],
          "scatter3d": [
           {
            "line": {
             "colorbar": {
              "outlinewidth": 0,
              "ticks": ""
             }
            },
            "marker": {
             "colorbar": {
              "outlinewidth": 0,
              "ticks": ""
             }
            },
            "type": "scatter3d"
           }
          ],
          "scattercarpet": [
           {
            "marker": {
             "colorbar": {
              "outlinewidth": 0,
              "ticks": ""
             }
            },
            "type": "scattercarpet"
           }
          ],
          "scattergeo": [
           {
            "marker": {
             "colorbar": {
              "outlinewidth": 0,
              "ticks": ""
             }
            },
            "type": "scattergeo"
           }
          ],
          "scattergl": [
           {
            "marker": {
             "colorbar": {
              "outlinewidth": 0,
              "ticks": ""
             }
            },
            "type": "scattergl"
           }
          ],
          "scattermapbox": [
           {
            "marker": {
             "colorbar": {
              "outlinewidth": 0,
              "ticks": ""
             }
            },
            "type": "scattermapbox"
           }
          ],
          "scatterpolar": [
           {
            "marker": {
             "colorbar": {
              "outlinewidth": 0,
              "ticks": ""
             }
            },
            "type": "scatterpolar"
           }
          ],
          "scatterpolargl": [
           {
            "marker": {
             "colorbar": {
              "outlinewidth": 0,
              "ticks": ""
             }
            },
            "type": "scatterpolargl"
           }
          ],
          "scatterternary": [
           {
            "marker": {
             "colorbar": {
              "outlinewidth": 0,
              "ticks": ""
             }
            },
            "type": "scatterternary"
           }
          ],
          "surface": [
           {
            "colorbar": {
             "outlinewidth": 0,
             "ticks": ""
            },
            "colorscale": [
             [
              0,
              "#0d0887"
             ],
             [
              0.1111111111111111,
              "#46039f"
             ],
             [
              0.2222222222222222,
              "#7201a8"
             ],
             [
              0.3333333333333333,
              "#9c179e"
             ],
             [
              0.4444444444444444,
              "#bd3786"
             ],
             [
              0.5555555555555556,
              "#d8576b"
             ],
             [
              0.6666666666666666,
              "#ed7953"
             ],
             [
              0.7777777777777778,
              "#fb9f3a"
             ],
             [
              0.8888888888888888,
              "#fdca26"
             ],
             [
              1,
              "#f0f921"
             ]
            ],
            "type": "surface"
           }
          ],
          "table": [
           {
            "cells": {
             "fill": {
              "color": "#EBF0F8"
             },
             "line": {
              "color": "white"
             }
            },
            "header": {
             "fill": {
              "color": "#C8D4E3"
             },
             "line": {
              "color": "white"
             }
            },
            "type": "table"
           }
          ]
         },
         "layout": {
          "annotationdefaults": {
           "arrowcolor": "#2a3f5f",
           "arrowhead": 0,
           "arrowwidth": 1
          },
          "autotypenumbers": "strict",
          "coloraxis": {
           "colorbar": {
            "outlinewidth": 0,
            "ticks": ""
           }
          },
          "colorscale": {
           "diverging": [
            [
             0,
             "#8e0152"
            ],
            [
             0.1,
             "#c51b7d"
            ],
            [
             0.2,
             "#de77ae"
            ],
            [
             0.3,
             "#f1b6da"
            ],
            [
             0.4,
             "#fde0ef"
            ],
            [
             0.5,
             "#f7f7f7"
            ],
            [
             0.6,
             "#e6f5d0"
            ],
            [
             0.7,
             "#b8e186"
            ],
            [
             0.8,
             "#7fbc41"
            ],
            [
             0.9,
             "#4d9221"
            ],
            [
             1,
             "#276419"
            ]
           ],
           "sequential": [
            [
             0,
             "#0d0887"
            ],
            [
             0.1111111111111111,
             "#46039f"
            ],
            [
             0.2222222222222222,
             "#7201a8"
            ],
            [
             0.3333333333333333,
             "#9c179e"
            ],
            [
             0.4444444444444444,
             "#bd3786"
            ],
            [
             0.5555555555555556,
             "#d8576b"
            ],
            [
             0.6666666666666666,
             "#ed7953"
            ],
            [
             0.7777777777777778,
             "#fb9f3a"
            ],
            [
             0.8888888888888888,
             "#fdca26"
            ],
            [
             1,
             "#f0f921"
            ]
           ],
           "sequentialminus": [
            [
             0,
             "#0d0887"
            ],
            [
             0.1111111111111111,
             "#46039f"
            ],
            [
             0.2222222222222222,
             "#7201a8"
            ],
            [
             0.3333333333333333,
             "#9c179e"
            ],
            [
             0.4444444444444444,
             "#bd3786"
            ],
            [
             0.5555555555555556,
             "#d8576b"
            ],
            [
             0.6666666666666666,
             "#ed7953"
            ],
            [
             0.7777777777777778,
             "#fb9f3a"
            ],
            [
             0.8888888888888888,
             "#fdca26"
            ],
            [
             1,
             "#f0f921"
            ]
           ]
          },
          "colorway": [
           "#636efa",
           "#EF553B",
           "#00cc96",
           "#ab63fa",
           "#FFA15A",
           "#19d3f3",
           "#FF6692",
           "#B6E880",
           "#FF97FF",
           "#FECB52"
          ],
          "font": {
           "color": "#2a3f5f"
          },
          "geo": {
           "bgcolor": "white",
           "lakecolor": "white",
           "landcolor": "#E5ECF6",
           "showlakes": true,
           "showland": true,
           "subunitcolor": "white"
          },
          "hoverlabel": {
           "align": "left"
          },
          "hovermode": "closest",
          "mapbox": {
           "style": "light"
          },
          "paper_bgcolor": "white",
          "plot_bgcolor": "#E5ECF6",
          "polar": {
           "angularaxis": {
            "gridcolor": "white",
            "linecolor": "white",
            "ticks": ""
           },
           "bgcolor": "#E5ECF6",
           "radialaxis": {
            "gridcolor": "white",
            "linecolor": "white",
            "ticks": ""
           }
          },
          "scene": {
           "xaxis": {
            "backgroundcolor": "#E5ECF6",
            "gridcolor": "white",
            "gridwidth": 2,
            "linecolor": "white",
            "showbackground": true,
            "ticks": "",
            "zerolinecolor": "white"
           },
           "yaxis": {
            "backgroundcolor": "#E5ECF6",
            "gridcolor": "white",
            "gridwidth": 2,
            "linecolor": "white",
            "showbackground": true,
            "ticks": "",
            "zerolinecolor": "white"
           },
           "zaxis": {
            "backgroundcolor": "#E5ECF6",
            "gridcolor": "white",
            "gridwidth": 2,
            "linecolor": "white",
            "showbackground": true,
            "ticks": "",
            "zerolinecolor": "white"
           }
          },
          "shapedefaults": {
           "line": {
            "color": "#2a3f5f"
           }
          },
          "ternary": {
           "aaxis": {
            "gridcolor": "white",
            "linecolor": "white",
            "ticks": ""
           },
           "baxis": {
            "gridcolor": "white",
            "linecolor": "white",
            "ticks": ""
           },
           "bgcolor": "#E5ECF6",
           "caxis": {
            "gridcolor": "white",
            "linecolor": "white",
            "ticks": ""
           }
          },
          "title": {
           "x": 0.05
          },
          "xaxis": {
           "automargin": true,
           "gridcolor": "white",
           "linecolor": "white",
           "ticks": "",
           "title": {
            "standoff": 15
           },
           "zerolinecolor": "white",
           "zerolinewidth": 2
          },
          "yaxis": {
           "automargin": true,
           "gridcolor": "white",
           "linecolor": "white",
           "ticks": "",
           "title": {
            "standoff": 15
           },
           "zerolinecolor": "white",
           "zerolinewidth": 2
          }
         }
        }
       }
      }
     },
     "metadata": {}
    }
   ],
   "source": [
    "fig = go.Figure([go.Bar(x=xrr, y=yrr)])\n",
    "fig.show()"
   ]
  },
  {
   "source": [
    "## Revenue - Month"
   ],
   "cell_type": "markdown",
   "metadata": {}
  },
  {
   "cell_type": "code",
   "execution_count": 77,
   "metadata": {},
   "outputs": [],
   "source": [
    "def getMoney(txt):\n",
    "    converter = {\n",
    "        '$'  : 1, 'USD': 1, 'EUR': 1.22, 'AUD': 0.78,\n",
    "        'GBP': 1.41, 'NOK': 0.12, 'DKK': 0.16, 'JPY': 0.0092,\n",
    "        'CAD': 0.83, 'INR': 0.012, 'SEK': 0.12, 'DEM': 0.62,\n",
    "        'FRF': 0.185, 'RUR': 0.014, 'CNY': 0.16, 'BEF': 1/33.5,\n",
    "        'MXN': 0.050, 'CZK': 0.048, 'ZAR': 0.071, 'HKD': 0.13,\n",
    "        'BRL': 0.19, 'IDR': 0.000070, 'ITL': 0.000626628, 'ARS': 0.011,\n",
    "        'UAH': 0.036, 'NZD': 0.73, 'TRL': 0.12, 'FIM': 0.204585,\n",
    "        'HUF': 0.0034, 'DOP': 0.018, 'KRW': 0.00089, 'ESP': 1.22, \n",
    "        'EGP': 0.064, 'PLN': 0.27, 'SGD': 0.75, 'IQD': 0.00068, \n",
    "        'IEP': 0.647361, 'CHF': 1.11, 'ISK': 0.0081, 'TWD': 0.036,\n",
    "        'THB': 0.032, 'MYR': 0.24, 'PYG': 0.00015, 'NGN': 0.0026, \n",
    "        'ILS': 0.30, 'IRR': 0.000024, 'NLG': 0.039, 'BDT': 0.012, \n",
    "        'AMD': 0.0019, 'MVR': 0.065, 'SAR': 0.27, 'RON': 0.25,\n",
    "        'ATS': 0.0883949\n",
    "    }\n",
    "    txt = txt.replace(\",\",\"\")\n",
    "    mul = 1\n",
    "    for key in converter:\n",
    "        if key in txt:\n",
    "            txt = txt.replace(key, \"\")\n",
    "            mul = converter[key]\n",
    "            break\n",
    "    money = int(txt)\n",
    "    return money"
   ]
  },
  {
   "cell_type": "code",
   "execution_count": 99,
   "metadata": {
    "tags": []
   },
   "outputs": [
    {
     "output_type": "stream",
     "name": "stdout",
     "text": [
      "January >> total movies 2666(1628 do not have Budget info) -- total Budget: 41588431281, average: 40065926.08959538\nFebruary >> total movies 2746(1714 do not have Budget info) -- total Budget: 40331815785, average: 39081216.84593023\nMarch >> total movies 3053(1881 do not have Budget info) -- total Budget: 55405294786, average: 47274142.30887372\nApril >> total movies 2834(1724 do not have Budget info) -- total Budget: 64137989182, average: 57781972.23603603\nMay >> total movies 2630(1626 do not have Budget info) -- total Budget: 29709324583, average: 29590960.74003984\nJune >> total movies 2510(1456 do not have Budget info) -- total Budget: 55074288726, average: 52252645.85009488\nJuly >> total movies 2321(1325 do not have Budget info) -- total Budget: 48315897442, average: 48509937.19076305\nAugust >> total movies 2740(1592 do not have Budget info) -- total Budget: 247028022044, average: 215181203.87108013\nSeptember >> total movies 3015(1848 do not have Budget info) -- total Budget: 67462423448, average: 57808417.6932305\nOctober >> total movies 3529(2194 do not have Budget info) -- total Budget: 61657996541, average: 46185765.19925094\nNovember >> total movies 3019(1827 do not have Budget info) -- total Budget: 48549974662, average: 40729844.51510067\nDecember >> total movies 2799(1658 do not have Budget info) -- total Budget: 68511787849, average: 60045388.123575814\n"
     ]
    }
   ],
   "source": [
    "sum_budget = []\n",
    "avg_budget = []\n",
    "num_movies_arr = []\n",
    "\n",
    "for month in month_movie:\n",
    "    lst = month_movie[month]\n",
    "    num_movies = len(lst)\n",
    "    no_budget = 0\n",
    "    budget = 0\n",
    "    for movie in lst:\n",
    "        try:\n",
    "            budget += getMoney(movie['details']['Budget'][0])\n",
    "        except:\n",
    "            if('Budget' not in movie['details']):\n",
    "                no_budget += 1\n",
    "            else:\n",
    "                print(movie['details']['Budget'])\n",
    "                no_budget += 1\n",
    "    sum_budget.append(budget)\n",
    "    avg_budget.append(budget/(num_movies-no_budget))\n",
    "    num_movies_arr.append(num_movies-no_budget)\n",
    "    print(\"{} >> total movies {}({} do not have Budget info) -- total Budget: {}, average: {}\".format(month, num_movies, no_budget, budget, budget/(num_movies-no_budget)))  "
   ]
  },
  {
   "cell_type": "code",
   "execution_count": 100,
   "metadata": {},
   "outputs": [
    {
     "output_type": "display_data",
     "data": {
      "application/vnd.plotly.v1+json": {
       "config": {
        "plotlyServerURL": "https://plot.ly"
       },
       "data": [
        {
         "name": "# of movies",
         "type": "bar",
         "x": [
          "January",
          "February",
          "March",
          "April",
          "May",
          "June",
          "July",
          "August",
          "September",
          "October",
          "November",
          "December"
         ],
         "xaxis": "x",
         "y": [
          1038,
          1032,
          1172,
          1110,
          1004,
          1054,
          996,
          1148,
          1167,
          1335,
          1192,
          1141
         ],
         "yaxis": "y"
        },
        {
         "name": "Budget",
         "type": "bar",
         "x": [
          "January",
          "February",
          "March",
          "April",
          "May",
          "June",
          "July",
          "August",
          "September",
          "October",
          "November",
          "December"
         ],
         "xaxis": "x2",
         "y": [
          41588431281,
          40331815785,
          55405294786,
          64137989182,
          29709324583,
          55074288726,
          48315897442,
          247028022044,
          67462423448,
          61657996541,
          48549974662,
          68511787849
         ],
         "yaxis": "y2"
        },
        {
         "name": "Average budget",
         "type": "bar",
         "x": [
          "January",
          "February",
          "March",
          "April",
          "May",
          "June",
          "July",
          "August",
          "September",
          "October",
          "November",
          "December"
         ],
         "xaxis": "x3",
         "y": [
          40065926.08959538,
          39081216.84593023,
          47274142.30887372,
          57781972.23603603,
          29590960.74003984,
          52252645.85009488,
          48509937.19076305,
          215181203.87108013,
          57808417.6932305,
          46185765.19925094,
          40729844.51510067,
          60045388.123575814
         ],
         "yaxis": "y3"
        }
       ],
       "layout": {
        "height": 900,
        "template": {
         "data": {
          "bar": [
           {
            "error_x": {
             "color": "#2a3f5f"
            },
            "error_y": {
             "color": "#2a3f5f"
            },
            "marker": {
             "line": {
              "color": "#E5ECF6",
              "width": 0.5
             }
            },
            "type": "bar"
           }
          ],
          "barpolar": [
           {
            "marker": {
             "line": {
              "color": "#E5ECF6",
              "width": 0.5
             }
            },
            "type": "barpolar"
           }
          ],
          "carpet": [
           {
            "aaxis": {
             "endlinecolor": "#2a3f5f",
             "gridcolor": "white",
             "linecolor": "white",
             "minorgridcolor": "white",
             "startlinecolor": "#2a3f5f"
            },
            "baxis": {
             "endlinecolor": "#2a3f5f",
             "gridcolor": "white",
             "linecolor": "white",
             "minorgridcolor": "white",
             "startlinecolor": "#2a3f5f"
            },
            "type": "carpet"
           }
          ],
          "choropleth": [
           {
            "colorbar": {
             "outlinewidth": 0,
             "ticks": ""
            },
            "type": "choropleth"
           }
          ],
          "contour": [
           {
            "colorbar": {
             "outlinewidth": 0,
             "ticks": ""
            },
            "colorscale": [
             [
              0,
              "#0d0887"
             ],
             [
              0.1111111111111111,
              "#46039f"
             ],
             [
              0.2222222222222222,
              "#7201a8"
             ],
             [
              0.3333333333333333,
              "#9c179e"
             ],
             [
              0.4444444444444444,
              "#bd3786"
             ],
             [
              0.5555555555555556,
              "#d8576b"
             ],
             [
              0.6666666666666666,
              "#ed7953"
             ],
             [
              0.7777777777777778,
              "#fb9f3a"
             ],
             [
              0.8888888888888888,
              "#fdca26"
             ],
             [
              1,
              "#f0f921"
             ]
            ],
            "type": "contour"
           }
          ],
          "contourcarpet": [
           {
            "colorbar": {
             "outlinewidth": 0,
             "ticks": ""
            },
            "type": "contourcarpet"
           }
          ],
          "heatmap": [
           {
            "colorbar": {
             "outlinewidth": 0,
             "ticks": ""
            },
            "colorscale": [
             [
              0,
              "#0d0887"
             ],
             [
              0.1111111111111111,
              "#46039f"
             ],
             [
              0.2222222222222222,
              "#7201a8"
             ],
             [
              0.3333333333333333,
              "#9c179e"
             ],
             [
              0.4444444444444444,
              "#bd3786"
             ],
             [
              0.5555555555555556,
              "#d8576b"
             ],
             [
              0.6666666666666666,
              "#ed7953"
             ],
             [
              0.7777777777777778,
              "#fb9f3a"
             ],
             [
              0.8888888888888888,
              "#fdca26"
             ],
             [
              1,
              "#f0f921"
             ]
            ],
            "type": "heatmap"
           }
          ],
          "heatmapgl": [
           {
            "colorbar": {
             "outlinewidth": 0,
             "ticks": ""
            },
            "colorscale": [
             [
              0,
              "#0d0887"
             ],
             [
              0.1111111111111111,
              "#46039f"
             ],
             [
              0.2222222222222222,
              "#7201a8"
             ],
             [
              0.3333333333333333,
              "#9c179e"
             ],
             [
              0.4444444444444444,
              "#bd3786"
             ],
             [
              0.5555555555555556,
              "#d8576b"
             ],
             [
              0.6666666666666666,
              "#ed7953"
             ],
             [
              0.7777777777777778,
              "#fb9f3a"
             ],
             [
              0.8888888888888888,
              "#fdca26"
             ],
             [
              1,
              "#f0f921"
             ]
            ],
            "type": "heatmapgl"
           }
          ],
          "histogram": [
           {
            "marker": {
             "colorbar": {
              "outlinewidth": 0,
              "ticks": ""
             }
            },
            "type": "histogram"
           }
          ],
          "histogram2d": [
           {
            "colorbar": {
             "outlinewidth": 0,
             "ticks": ""
            },
            "colorscale": [
             [
              0,
              "#0d0887"
             ],
             [
              0.1111111111111111,
              "#46039f"
             ],
             [
              0.2222222222222222,
              "#7201a8"
             ],
             [
              0.3333333333333333,
              "#9c179e"
             ],
             [
              0.4444444444444444,
              "#bd3786"
             ],
             [
              0.5555555555555556,
              "#d8576b"
             ],
             [
              0.6666666666666666,
              "#ed7953"
             ],
             [
              0.7777777777777778,
              "#fb9f3a"
             ],
             [
              0.8888888888888888,
              "#fdca26"
             ],
             [
              1,
              "#f0f921"
             ]
            ],
            "type": "histogram2d"
           }
          ],
          "histogram2dcontour": [
           {
            "colorbar": {
             "outlinewidth": 0,
             "ticks": ""
            },
            "colorscale": [
             [
              0,
              "#0d0887"
             ],
             [
              0.1111111111111111,
              "#46039f"
             ],
             [
              0.2222222222222222,
              "#7201a8"
             ],
             [
              0.3333333333333333,
              "#9c179e"
             ],
             [
              0.4444444444444444,
              "#bd3786"
             ],
             [
              0.5555555555555556,
              "#d8576b"
             ],
             [
              0.6666666666666666,
              "#ed7953"
             ],
             [
              0.7777777777777778,
              "#fb9f3a"
             ],
             [
              0.8888888888888888,
              "#fdca26"
             ],
             [
              1,
              "#f0f921"
             ]
            ],
            "type": "histogram2dcontour"
           }
          ],
          "mesh3d": [
           {
            "colorbar": {
             "outlinewidth": 0,
             "ticks": ""
            },
            "type": "mesh3d"
           }
          ],
          "parcoords": [
           {
            "line": {
             "colorbar": {
              "outlinewidth": 0,
              "ticks": ""
             }
            },
            "type": "parcoords"
           }
          ],
          "pie": [
           {
            "automargin": true,
            "type": "pie"
           }
          ],
          "scatter": [
           {
            "marker": {
             "colorbar": {
              "outlinewidth": 0,
              "ticks": ""
             }
            },
            "type": "scatter"
           }
          ],
          "scatter3d": [
           {
            "line": {
             "colorbar": {
              "outlinewidth": 0,
              "ticks": ""
             }
            },
            "marker": {
             "colorbar": {
              "outlinewidth": 0,
              "ticks": ""
             }
            },
            "type": "scatter3d"
           }
          ],
          "scattercarpet": [
           {
            "marker": {
             "colorbar": {
              "outlinewidth": 0,
              "ticks": ""
             }
            },
            "type": "scattercarpet"
           }
          ],
          "scattergeo": [
           {
            "marker": {
             "colorbar": {
              "outlinewidth": 0,
              "ticks": ""
             }
            },
            "type": "scattergeo"
           }
          ],
          "scattergl": [
           {
            "marker": {
             "colorbar": {
              "outlinewidth": 0,
              "ticks": ""
             }
            },
            "type": "scattergl"
           }
          ],
          "scattermapbox": [
           {
            "marker": {
             "colorbar": {
              "outlinewidth": 0,
              "ticks": ""
             }
            },
            "type": "scattermapbox"
           }
          ],
          "scatterpolar": [
           {
            "marker": {
             "colorbar": {
              "outlinewidth": 0,
              "ticks": ""
             }
            },
            "type": "scatterpolar"
           }
          ],
          "scatterpolargl": [
           {
            "marker": {
             "colorbar": {
              "outlinewidth": 0,
              "ticks": ""
             }
            },
            "type": "scatterpolargl"
           }
          ],
          "scatterternary": [
           {
            "marker": {
             "colorbar": {
              "outlinewidth": 0,
              "ticks": ""
             }
            },
            "type": "scatterternary"
           }
          ],
          "surface": [
           {
            "colorbar": {
             "outlinewidth": 0,
             "ticks": ""
            },
            "colorscale": [
             [
              0,
              "#0d0887"
             ],
             [
              0.1111111111111111,
              "#46039f"
             ],
             [
              0.2222222222222222,
              "#7201a8"
             ],
             [
              0.3333333333333333,
              "#9c179e"
             ],
             [
              0.4444444444444444,
              "#bd3786"
             ],
             [
              0.5555555555555556,
              "#d8576b"
             ],
             [
              0.6666666666666666,
              "#ed7953"
             ],
             [
              0.7777777777777778,
              "#fb9f3a"
             ],
             [
              0.8888888888888888,
              "#fdca26"
             ],
             [
              1,
              "#f0f921"
             ]
            ],
            "type": "surface"
           }
          ],
          "table": [
           {
            "cells": {
             "fill": {
              "color": "#EBF0F8"
             },
             "line": {
              "color": "white"
             }
            },
            "header": {
             "fill": {
              "color": "#C8D4E3"
             },
             "line": {
              "color": "white"
             }
            },
            "type": "table"
           }
          ]
         },
         "layout": {
          "annotationdefaults": {
           "arrowcolor": "#2a3f5f",
           "arrowhead": 0,
           "arrowwidth": 1
          },
          "autotypenumbers": "strict",
          "coloraxis": {
           "colorbar": {
            "outlinewidth": 0,
            "ticks": ""
           }
          },
          "colorscale": {
           "diverging": [
            [
             0,
             "#8e0152"
            ],
            [
             0.1,
             "#c51b7d"
            ],
            [
             0.2,
             "#de77ae"
            ],
            [
             0.3,
             "#f1b6da"
            ],
            [
             0.4,
             "#fde0ef"
            ],
            [
             0.5,
             "#f7f7f7"
            ],
            [
             0.6,
             "#e6f5d0"
            ],
            [
             0.7,
             "#b8e186"
            ],
            [
             0.8,
             "#7fbc41"
            ],
            [
             0.9,
             "#4d9221"
            ],
            [
             1,
             "#276419"
            ]
           ],
           "sequential": [
            [
             0,
             "#0d0887"
            ],
            [
             0.1111111111111111,
             "#46039f"
            ],
            [
             0.2222222222222222,
             "#7201a8"
            ],
            [
             0.3333333333333333,
             "#9c179e"
            ],
            [
             0.4444444444444444,
             "#bd3786"
            ],
            [
             0.5555555555555556,
             "#d8576b"
            ],
            [
             0.6666666666666666,
             "#ed7953"
            ],
            [
             0.7777777777777778,
             "#fb9f3a"
            ],
            [
             0.8888888888888888,
             "#fdca26"
            ],
            [
             1,
             "#f0f921"
            ]
           ],
           "sequentialminus": [
            [
             0,
             "#0d0887"
            ],
            [
             0.1111111111111111,
             "#46039f"
            ],
            [
             0.2222222222222222,
             "#7201a8"
            ],
            [
             0.3333333333333333,
             "#9c179e"
            ],
            [
             0.4444444444444444,
             "#bd3786"
            ],
            [
             0.5555555555555556,
             "#d8576b"
            ],
            [
             0.6666666666666666,
             "#ed7953"
            ],
            [
             0.7777777777777778,
             "#fb9f3a"
            ],
            [
             0.8888888888888888,
             "#fdca26"
            ],
            [
             1,
             "#f0f921"
            ]
           ]
          },
          "colorway": [
           "#636efa",
           "#EF553B",
           "#00cc96",
           "#ab63fa",
           "#FFA15A",
           "#19d3f3",
           "#FF6692",
           "#B6E880",
           "#FF97FF",
           "#FECB52"
          ],
          "font": {
           "color": "#2a3f5f"
          },
          "geo": {
           "bgcolor": "white",
           "lakecolor": "white",
           "landcolor": "#E5ECF6",
           "showlakes": true,
           "showland": true,
           "subunitcolor": "white"
          },
          "hoverlabel": {
           "align": "left"
          },
          "hovermode": "closest",
          "mapbox": {
           "style": "light"
          },
          "paper_bgcolor": "white",
          "plot_bgcolor": "#E5ECF6",
          "polar": {
           "angularaxis": {
            "gridcolor": "white",
            "linecolor": "white",
            "ticks": ""
           },
           "bgcolor": "#E5ECF6",
           "radialaxis": {
            "gridcolor": "white",
            "linecolor": "white",
            "ticks": ""
           }
          },
          "scene": {
           "xaxis": {
            "backgroundcolor": "#E5ECF6",
            "gridcolor": "white",
            "gridwidth": 2,
            "linecolor": "white",
            "showbackground": true,
            "ticks": "",
            "zerolinecolor": "white"
           },
           "yaxis": {
            "backgroundcolor": "#E5ECF6",
            "gridcolor": "white",
            "gridwidth": 2,
            "linecolor": "white",
            "showbackground": true,
            "ticks": "",
            "zerolinecolor": "white"
           },
           "zaxis": {
            "backgroundcolor": "#E5ECF6",
            "gridcolor": "white",
            "gridwidth": 2,
            "linecolor": "white",
            "showbackground": true,
            "ticks": "",
            "zerolinecolor": "white"
           }
          },
          "shapedefaults": {
           "line": {
            "color": "#2a3f5f"
           }
          },
          "ternary": {
           "aaxis": {
            "gridcolor": "white",
            "linecolor": "white",
            "ticks": ""
           },
           "baxis": {
            "gridcolor": "white",
            "linecolor": "white",
            "ticks": ""
           },
           "bgcolor": "#E5ECF6",
           "caxis": {
            "gridcolor": "white",
            "linecolor": "white",
            "ticks": ""
           }
          },
          "title": {
           "x": 0.05
          },
          "xaxis": {
           "automargin": true,
           "gridcolor": "white",
           "linecolor": "white",
           "ticks": "",
           "title": {
            "standoff": 15
           },
           "zerolinecolor": "white",
           "zerolinewidth": 2
          },
          "yaxis": {
           "automargin": true,
           "gridcolor": "white",
           "linecolor": "white",
           "ticks": "",
           "title": {
            "standoff": 15
           },
           "zerolinecolor": "white",
           "zerolinewidth": 2
          }
         }
        },
        "title": {
         "text": "Movie monthwise analysis"
        },
        "width": 1200,
        "xaxis": {
         "anchor": "y",
         "domain": [
          0,
          1
         ]
        },
        "xaxis2": {
         "anchor": "y2",
         "domain": [
          0,
          1
         ]
        },
        "xaxis3": {
         "anchor": "y3",
         "domain": [
          0,
          1
         ]
        },
        "yaxis": {
         "anchor": "x",
         "domain": [
          0.7333333333333333,
          1
         ]
        },
        "yaxis2": {
         "anchor": "x2",
         "domain": [
          0.36666666666666664,
          0.6333333333333333
         ]
        },
        "yaxis3": {
         "anchor": "x3",
         "domain": [
          0,
          0.26666666666666666
         ]
        }
       }
      }
     },
     "metadata": {}
    }
   ],
   "source": [
    "num_row, num_col = 3, 1\n",
    "fig = make_subplots(rows=num_row, cols=num_col)\n",
    "\n",
    "fig.add_trace(\n",
    "    go.Bar(x=months, y=num_movies_arr, name=\"# of movies\"),\n",
    "    1, 1\n",
    ")\n",
    "\n",
    "fig.add_trace(\n",
    "    go.Bar(x=months, y=sum_budget, name=\"Budget\"),\n",
    "    2, 1\n",
    ")\n",
    "\n",
    "fig.add_trace(\n",
    "    go.Bar(x=months, y=avg_budget, name=\"Average budget\"),\n",
    "    3, 1\n",
    ")\n",
    "\n",
    "fig.update_layout(\n",
    "    height=900, \n",
    "    width=1200,\n",
    "    title_text=\"Movie monthwise analysis\"\n",
    ")"
   ]
  },
  {
   "cell_type": "code",
   "execution_count": 106,
   "metadata": {},
   "outputs": [
    {
     "output_type": "stream",
     "name": "stdout",
     "text": [
      "1900 >> total movies 0(0 do not have Budget info) -- total Budget: 0, average: 0\n1901 >> total movies 0(0 do not have Budget info) -- total Budget: 0, average: 0\n1902 >> total movies 1(0 do not have Budget info) -- total Budget: 30000, average: 30000.0\n1903 >> total movies 1(0 do not have Budget info) -- total Budget: 150, average: 150.0\n1904 >> total movies 0(0 do not have Budget info) -- total Budget: 0, average: 0\n1905 >> total movies 0(0 do not have Budget info) -- total Budget: 0, average: 0\n1906 >> total movies 0(0 do not have Budget info) -- total Budget: 0, average: 0\n1907 >> total movies 0(0 do not have Budget info) -- total Budget: 0, average: 0\n1908 >> total movies 0(0 do not have Budget info) -- total Budget: 0, average: 0\n1909 >> total movies 0(0 do not have Budget info) -- total Budget: 0, average: 0\n1910 >> total movies 0(0 do not have Budget info) -- total Budget: 0, average: 0\n1911 >> total movies 1(1 do not have Budget info) -- total Budget: 0, average: 0\n1912 >> total movies 0(0 do not have Budget info) -- total Budget: 0, average: 0\n1913 >> total movies 0(0 do not have Budget info) -- total Budget: 0, average: 0\n1914 >> total movies 2(0 do not have Budget info) -- total Budget: 235000, average: 117500.0\n1915 >> total movies 2(1 do not have Budget info) -- total Budget: 100000, average: 100000.0\n1916 >> total movies 1(1 do not have Budget info) -- total Budget: 0, average: 0\n1917 >> total movies 4(2 do not have Budget info) -- total Budget: 885907, average: 442953.5\n1918 >> total movies 1(1 do not have Budget info) -- total Budget: 0, average: 0\n1919 >> total movies 1(0 do not have Budget info) -- total Budget: 88000, average: 88000.0\n1920 >> total movies 3(1 do not have Budget info) -- total Budget: 718000, average: 359000.0\n1921 >> total movies 3(1 do not have Budget info) -- total Budget: 1050000, average: 525000.0\n1922 >> total movies 8(4 do not have Budget info) -- total Budget: 3653000, average: 913250.0\n1923 >> total movies 7(3 do not have Budget info) -- total Budget: 3522000, average: 880500.0\n1924 >> total movies 6(2 do not have Budget info) -- total Budget: 1927654, average: 481913.5\n1925 >> total movies 8(6 do not have Budget info) -- total Budget: 1469883, average: 734941.5\n1926 >> total movies 7(4 do not have Budget info) -- total Budget: 2214000, average: 738000.0\n1927 >> total movies 10(1 do not have Budget info) -- total Budget: 13011290, average: 1445698.888888889\n1928 >> total movies 18(14 do not have Budget info) -- total Budget: 2297000, average: 574250.0\n1929 >> total movies 16(8 do not have Budget info) -- total Budget: 26158986, average: 3269873.25\n1930 >> total movies 19(9 do not have Budget info) -- total Budget: 12000691, average: 1200069.1\n1931 >> total movies 28(16 do not have Budget info) -- total Budget: 6191289, average: 515940.75\n1932 >> total movies 42(20 do not have Budget info) -- total Budget: 8942184, average: 406462.9090909091\n1933 >> total movies 36(18 do not have Budget info) -- total Budget: 8160368, average: 453353.77777777775\n1934 >> total movies 34(19 do not have Budget info) -- total Budget: 7062364, average: 470824.26666666666\n1935 >> total movies 37(19 do not have Budget info) -- total Budget: 9730996, average: 540610.8888888889\n1936 >> total movies 44(24 do not have Budget info) -- total Budget: 17718000, average: 885900.0\n1937 >> total movies 43(26 do not have Budget info) -- total Budget: 20708566, average: 1218150.9411764706\n1938 >> total movies 34(22 do not have Budget info) -- total Budget: 17907736, average: 1492311.3333333333\n1939 >> total movies 57(33 do not have Budget info) -- total Budget: 28506000, average: 1187750.0\n1940 >> total movies 66(42 do not have Budget info) -- total Budget: 32024062, average: 1334335.9166666667\n1941 >> total movies 55(32 do not have Budget info) -- total Budget: 20037497, average: 871195.5217391305\n1942 >> total movies 58(35 do not have Budget info) -- total Budget: 23078726, average: 1003422.8695652174\n1943 >> total movies 57(38 do not have Budget info) -- total Budget: 20667963, average: 1087787.5263157894\n1944 >> total movies 58(33 do not have Budget info) -- total Budget: 39770097, average: 1590803.88\n1945 >> total movies 59(35 do not have Budget info) -- total Budget: 31984484, average: 1332686.8333333333\n1946 >> total movies 72(42 do not have Budget info) -- total Budget: 41902378, average: 1396745.9333333333\n1947 >> total movies 73(40 do not have Budget info) -- total Budget: 65883486, average: 1996469.2727272727\n1948 >> total movies 77(42 do not have Budget info) -- total Budget: 73240971, average: 2092599.1714285715\n1949 >> total movies 87(52 do not have Budget info) -- total Budget: 46215070, average: 1320430.5714285714\n1950 >> total movies 88(61 do not have Budget info) -- total Budget: 116492009, average: 4314518.851851852\n1951 >> total movies 82(50 do not have Budget info) -- total Budget: 49995456, average: 1562358.0\n1952 >> total movies 68(48 do not have Budget info) -- total Budget: 28197502, average: 1409875.1\n1953 >> total movies 107(59 do not have Budget info) -- total Budget: 78039650, average: 1625826.0416666667\n1954 >> total movies 98(63 do not have Budget info) -- total Budget: 62498988, average: 1785685.3714285714\n1955 >> total movies 120(72 do not have Budget info) -- total Budget: 780629060, average: 16263105.416666666\n1956 >> total movies 124(75 do not have Budget info) -- total Budget: 243598712, average: 4971402.285714285\n1957 >> total movies 127(84 do not have Budget info) -- total Budget: 76249463, average: 1773243.3255813953\n1958 >> total movies 130(81 do not have Budget info) -- total Budget: 80748697, average: 1647932.5918367347\n1959 >> total movies 135(77 do not have Budget info) -- total Budget: 162268848, average: 2797738.7586206896\n1960 >> total movies 125(76 do not have Budget info) -- total Budget: 583800351, average: 11914292.877551021\n1961 >> total movies 110(72 do not have Budget info) -- total Budget: 98257959, average: 2585735.763157895\n1962 >> total movies 149(98 do not have Budget info) -- total Budget: 136776482, average: 2681891.8039215687\n1963 >> total movies 129(79 do not have Budget info) -- total Budget: 3062722585, average: 61254451.7\n1964 >> total movies 152(98 do not have Budget info) -- total Budget: 146289400, average: 2709062.962962963\n1965 >> total movies 150(90 do not have Budget info) -- total Budget: 691408825, average: 11523480.416666666\n1966 >> total movies 146(89 do not have Budget info) -- total Budget: 187560399, average: 3290533.3157894737\n1967 >> total movies 151(90 do not have Budget info) -- total Budget: 191597129, average: 3140936.5409836066\n1968 >> total movies 199(127 do not have Budget info) -- total Budget: 1052945013, average: 14624236.291666666\n1969 >> total movies 174(119 do not have Budget info) -- total Budget: 450308087, average: 8187419.763636364\n1970 >> total movies 223(151 do not have Budget info) -- total Budget: 332467446, average: 4617603.416666667\n1971 >> total movies 215(138 do not have Budget info) -- total Budget: 616126591, average: 8001644.038961039\n1972 >> total movies 245(173 do not have Budget info) -- total Budget: 118493821, average: 1645747.513888889\n1973 >> total movies 244(175 do not have Budget info) -- total Budget: 175351983, average: 2541333.086956522\n1974 >> total movies 232(156 do not have Budget info) -- total Budget: 185037938, average: 2434709.710526316\n1975 >> total movies 220(146 do not have Budget info) -- total Budget: 3734515117, average: 50466420.5\n1976 >> total movies 236(161 do not have Budget info) -- total Budget: 251680575, average: 3355741.0\n1977 >> total movies 215(141 do not have Budget info) -- total Budget: 367548500, average: 4966871.621621622\n1978 >> total movies 246(142 do not have Budget info) -- total Budget: 1061320600, average: 10205005.76923077\n1979 >> total movies 251(150 do not have Budget info) -- total Budget: 5616486000, average: 55608772.27722772\n1980 >> total movies 242(138 do not have Budget info) -- total Budget: 1452817000, average: 13969394.23076923\n1981 >> total movies 246(144 do not have Budget info) -- total Budget: 872106000, average: 8550058.823529411\n1982 >> total movies 250(143 do not have Budget info) -- total Budget: 968950786, average: 9055614.822429907\n1983 >> total movies 274(157 do not have Budget info) -- total Budget: 935178000, average: 7992974.358974359\n1984 >> total movies 283(165 do not have Budget info) -- total Budget: 1233475987, average: 10453186.330508474\n1985 >> total movies 308(181 do not have Budget info) -- total Budget: 1853182000, average: 14591984.251968505\n1986 >> total movies 310(185 do not have Budget info) -- total Budget: 31386732306, average: 251093858.448\n1987 >> total movies 342(202 do not have Budget info) -- total Budget: 1489649678, average: 10640354.842857143\n1988 >> total movies 373(211 do not have Budget info) -- total Budget: 3136247000, average: 19359549.38271605\n1989 >> total movies 348(198 do not have Budget info) -- total Budget: 2011817598, average: 13412117.32\n1990 >> total movies 313(177 do not have Budget info) -- total Budget: 3453203000, average: 25391198.529411763\n1991 >> total movies 331(182 do not have Budget info) -- total Budget: 2575629000, average: 17286100.67114094\n1992 >> total movies 312(168 do not have Budget info) -- total Budget: 2621322779, average: 18203630.409722224\n1993 >> total movies 361(184 do not have Budget info) -- total Budget: 2817589000, average: 15918581.920903955\n1994 >> total movies 364(189 do not have Budget info) -- total Budget: 4432389767, average: 25327941.525714286\n1995 >> total movies 372(197 do not have Budget info) -- total Budget: 5795623367, average: 33117847.811428573\n1996 >> total movies 380(190 do not have Budget info) -- total Budget: 5320164202, average: 28000864.22105263\n1997 >> total movies 384(180 do not have Budget info) -- total Budget: 8867329456, average: 43467301.25490196\n1998 >> total movies 400(194 do not have Budget info) -- total Budget: 6362094418, average: 30883953.485436894\n1999 >> total movies 411(198 do not have Budget info) -- total Budget: 7347982800, average: 34497571.83098592\n2000 >> total movies 410(172 do not have Budget info) -- total Budget: 9586107000, average: 40277760.50420168\n2001 >> total movies 424(171 do not have Budget info) -- total Budget: 8417794107, average: 33271913.46640316\n2002 >> total movies 461(181 do not have Budget info) -- total Budget: 8666841566, average: 30953005.59285714\n2003 >> total movies 451(194 do not have Budget info) -- total Budget: 8519276009, average: 33148933.887159534\n2004 >> total movies 488(195 do not have Budget info) -- total Budget: 16454934647, average: 56160186.50853242\n2005 >> total movies 516(221 do not have Budget info) -- total Budget: 16758558969, average: 56808674.471186444\n2006 >> total movies 584(227 do not have Budget info) -- total Budget: 10983917500, average: 30767275.910364147\n2007 >> total movies 620(269 do not have Budget info) -- total Budget: 22371828418, average: 63737402.9002849\n2008 >> total movies 655(262 do not have Budget info) -- total Budget: 11020009093, average: 28040735.605597965\n2009 >> total movies 687(302 do not have Budget info) -- total Budget: 14278007359, average: 37085733.4\n2010 >> total movies 658(290 do not have Budget info) -- total Budget: 20524981676, average: 55774406.72826087\n2011 >> total movies 792(374 do not have Budget info) -- total Budget: 14866566596, average: 35565948.79425837\n2012 >> total movies 821(435 do not have Budget info) -- total Budget: 52786431050, average: 136752412.0466321\n2013 >> total movies 950(511 do not have Budget info) -- total Budget: 23008862599, average: 52411987.697038725\n2014 >> total movies 1074(641 do not have Budget info) -- total Budget: 13428729605, average: 31013232.344110854\n2015 >> total movies 1255(749 do not have Budget info) -- total Budget: 148518918593, average: 293515649.3932806\n2016 >> total movies 1346(849 do not have Budget info) -- total Budget: 73056400103, average: 146994768.8189135\n2017 >> total movies 1585(1086 do not have Budget info) -- total Budget: 43664704814, average: 87504418.46492986\n2018 >> total movies 1744(1266 do not have Budget info) -- total Budget: 131875735911, average: 275890660.9016736\n2019 >> total movies 2137(1670 do not have Budget info) -- total Budget: 66667375501, average: 142756692.7216274\n2020 >> total movies 2595(2172 do not have Budget info) -- total Budget: 16550172661, average: 39125703.69030733\n2021 >> total movies 1687(1425 do not have Budget info) -- total Budget: 10247289120, average: 39111790.53435115\n2022 >> total movies 121(104 do not have Budget info) -- total Budget: 13910025026, average: 818236766.2352941\n2023 >> total movies 15(14 do not have Budget info) -- total Budget: 285000000, average: 285000000.0\n2024 >> total movies 1(1 do not have Budget info) -- total Budget: 0, average: 0\n"
     ]
    }
   ],
   "source": [
    "sum_budget = []\n",
    "avg_budget = []\n",
    "num_movies_arr = []\n",
    "\n",
    "for year in year_movie:\n",
    "    lst = year_movie[year]\n",
    "    num_movies = len(lst)\n",
    "    no_budget = 0\n",
    "    budget = 0\n",
    "    for movie in lst:\n",
    "        try:\n",
    "            budget += getMoney(movie['details']['Budget'][0])\n",
    "        except:\n",
    "            if('Budget' not in movie['details']):\n",
    "                no_budget += 1\n",
    "            else:\n",
    "                print(movie['details']['Budget'])\n",
    "                no_budget += 1\n",
    "    sum_budget.append(budget)\n",
    "    avg = 0\n",
    "    if(num_movies-no_budget != 0):\n",
    "        avg = budget / (num_movies-no_budget)\n",
    "    avg_budget.append(avg)\n",
    "    num_movies_arr.append(num_movies-no_budget)\n",
    "    print(\"{} >> total movies {}({} do not have Budget info) -- total Budget: {}, average: {}\".format(year, num_movies, no_budget, budget, avg))  "
   ]
  },
  {
   "cell_type": "code",
   "execution_count": 107,
   "metadata": {},
   "outputs": [
    {
     "output_type": "display_data",
     "data": {
      "application/vnd.plotly.v1+json": {
       "config": {
        "plotlyServerURL": "https://plot.ly"
       },
       "data": [
        {
         "name": "# of movies",
         "type": "bar",
         "x": [
          "1900",
          "1901",
          "1902",
          "1903",
          "1904",
          "1905",
          "1906",
          "1907",
          "1908",
          "1909",
          "1910",
          "1911",
          "1912",
          "1913",
          "1914",
          "1915",
          "1916",
          "1917",
          "1918",
          "1919",
          "1920",
          "1921",
          "1922",
          "1923",
          "1924",
          "1925",
          "1926",
          "1927",
          "1928",
          "1929",
          "1930",
          "1931",
          "1932",
          "1933",
          "1934",
          "1935",
          "1936",
          "1937",
          "1938",
          "1939",
          "1940",
          "1941",
          "1942",
          "1943",
          "1944",
          "1945",
          "1946",
          "1947",
          "1948",
          "1949",
          "1950",
          "1951",
          "1952",
          "1953",
          "1954",
          "1955",
          "1956",
          "1957",
          "1958",
          "1959",
          "1960",
          "1961",
          "1962",
          "1963",
          "1964",
          "1965",
          "1966",
          "1967",
          "1968",
          "1969",
          "1970",
          "1971",
          "1972",
          "1973",
          "1974",
          "1975",
          "1976",
          "1977",
          "1978",
          "1979",
          "1980",
          "1981",
          "1982",
          "1983",
          "1984",
          "1985",
          "1986",
          "1987",
          "1988",
          "1989",
          "1990",
          "1991",
          "1992",
          "1993",
          "1994",
          "1995",
          "1996",
          "1997",
          "1998",
          "1999",
          "2000",
          "2001",
          "2002",
          "2003",
          "2004",
          "2005",
          "2006",
          "2007",
          "2008",
          "2009",
          "2010",
          "2011",
          "2012",
          "2013",
          "2014",
          "2015",
          "2016",
          "2017",
          "2018",
          "2019",
          "2020",
          "2021",
          "2022",
          "2023",
          "2024"
         ],
         "xaxis": "x",
         "y": [
          0,
          0,
          1,
          1,
          0,
          0,
          0,
          0,
          0,
          0,
          0,
          0,
          0,
          0,
          2,
          1,
          0,
          2,
          0,
          1,
          2,
          2,
          4,
          4,
          4,
          2,
          3,
          9,
          4,
          8,
          10,
          12,
          22,
          18,
          15,
          18,
          20,
          17,
          12,
          24,
          24,
          23,
          23,
          19,
          25,
          24,
          30,
          33,
          35,
          35,
          27,
          32,
          20,
          48,
          35,
          48,
          49,
          43,
          49,
          58,
          49,
          38,
          51,
          50,
          54,
          60,
          57,
          61,
          72,
          55,
          72,
          77,
          72,
          69,
          76,
          74,
          75,
          74,
          104,
          101,
          104,
          102,
          107,
          117,
          118,
          127,
          125,
          140,
          162,
          150,
          136,
          149,
          144,
          177,
          175,
          175,
          190,
          204,
          206,
          213,
          238,
          253,
          280,
          257,
          293,
          295,
          357,
          351,
          393,
          385,
          368,
          418,
          386,
          439,
          433,
          506,
          497,
          499,
          478,
          467,
          423,
          262,
          17,
          1,
          0
         ],
         "yaxis": "y"
        },
        {
         "name": "Budget",
         "type": "bar",
         "x": [
          "1900",
          "1901",
          "1902",
          "1903",
          "1904",
          "1905",
          "1906",
          "1907",
          "1908",
          "1909",
          "1910",
          "1911",
          "1912",
          "1913",
          "1914",
          "1915",
          "1916",
          "1917",
          "1918",
          "1919",
          "1920",
          "1921",
          "1922",
          "1923",
          "1924",
          "1925",
          "1926",
          "1927",
          "1928",
          "1929",
          "1930",
          "1931",
          "1932",
          "1933",
          "1934",
          "1935",
          "1936",
          "1937",
          "1938",
          "1939",
          "1940",
          "1941",
          "1942",
          "1943",
          "1944",
          "1945",
          "1946",
          "1947",
          "1948",
          "1949",
          "1950",
          "1951",
          "1952",
          "1953",
          "1954",
          "1955",
          "1956",
          "1957",
          "1958",
          "1959",
          "1960",
          "1961",
          "1962",
          "1963",
          "1964",
          "1965",
          "1966",
          "1967",
          "1968",
          "1969",
          "1970",
          "1971",
          "1972",
          "1973",
          "1974",
          "1975",
          "1976",
          "1977",
          "1978",
          "1979",
          "1980",
          "1981",
          "1982",
          "1983",
          "1984",
          "1985",
          "1986",
          "1987",
          "1988",
          "1989",
          "1990",
          "1991",
          "1992",
          "1993",
          "1994",
          "1995",
          "1996",
          "1997",
          "1998",
          "1999",
          "2000",
          "2001",
          "2002",
          "2003",
          "2004",
          "2005",
          "2006",
          "2007",
          "2008",
          "2009",
          "2010",
          "2011",
          "2012",
          "2013",
          "2014",
          "2015",
          "2016",
          "2017",
          "2018",
          "2019",
          "2020",
          "2021",
          "2022",
          "2023",
          "2024"
         ],
         "xaxis": "x2",
         "y": [
          0,
          0,
          30000,
          150,
          0,
          0,
          0,
          0,
          0,
          0,
          0,
          0,
          0,
          0,
          235000,
          100000,
          0,
          885907,
          0,
          88000,
          718000,
          1050000,
          3653000,
          3522000,
          1927654,
          1469883,
          2214000,
          13011290,
          2297000,
          26158986,
          12000691,
          6191289,
          8942184,
          8160368,
          7062364,
          9730996,
          17718000,
          20708566,
          17907736,
          28506000,
          32024062,
          20037497,
          23078726,
          20667963,
          39770097,
          31984484,
          41902378,
          65883486,
          73240971,
          46215070,
          116492009,
          49995456,
          28197502,
          78039650,
          62498988,
          780629060,
          243598712,
          76249463,
          80748697,
          162268848,
          583800351,
          98257959,
          136776482,
          3062722585,
          146289400,
          691408825,
          187560399,
          191597129,
          1052945013,
          450308087,
          332467446,
          616126591,
          118493821,
          175351983,
          185037938,
          3734515117,
          251680575,
          367548500,
          1061320600,
          5616486000,
          1452817000,
          872106000,
          968950786,
          935178000,
          1233475987,
          1853182000,
          31386732306,
          1489649678,
          3136247000,
          2011817598,
          3453203000,
          2575629000,
          2621322779,
          2817589000,
          4432389767,
          5795623367,
          5320164202,
          8867329456,
          6362094418,
          7347982800,
          9586107000,
          8417794107,
          8666841566,
          8519276009,
          16454934647,
          16758558969,
          10983917500,
          22371828418,
          11020009093,
          14278007359,
          20524981676,
          14866566596,
          52786431050,
          23008862599,
          13428729605,
          148518918593,
          73056400103,
          43664704814,
          131875735911,
          66667375501,
          16550172661,
          10247289120,
          13910025026,
          285000000,
          0
         ],
         "yaxis": "y2"
        },
        {
         "name": "Average budget",
         "type": "bar",
         "x": [
          "1900",
          "1901",
          "1902",
          "1903",
          "1904",
          "1905",
          "1906",
          "1907",
          "1908",
          "1909",
          "1910",
          "1911",
          "1912",
          "1913",
          "1914",
          "1915",
          "1916",
          "1917",
          "1918",
          "1919",
          "1920",
          "1921",
          "1922",
          "1923",
          "1924",
          "1925",
          "1926",
          "1927",
          "1928",
          "1929",
          "1930",
          "1931",
          "1932",
          "1933",
          "1934",
          "1935",
          "1936",
          "1937",
          "1938",
          "1939",
          "1940",
          "1941",
          "1942",
          "1943",
          "1944",
          "1945",
          "1946",
          "1947",
          "1948",
          "1949",
          "1950",
          "1951",
          "1952",
          "1953",
          "1954",
          "1955",
          "1956",
          "1957",
          "1958",
          "1959",
          "1960",
          "1961",
          "1962",
          "1963",
          "1964",
          "1965",
          "1966",
          "1967",
          "1968",
          "1969",
          "1970",
          "1971",
          "1972",
          "1973",
          "1974",
          "1975",
          "1976",
          "1977",
          "1978",
          "1979",
          "1980",
          "1981",
          "1982",
          "1983",
          "1984",
          "1985",
          "1986",
          "1987",
          "1988",
          "1989",
          "1990",
          "1991",
          "1992",
          "1993",
          "1994",
          "1995",
          "1996",
          "1997",
          "1998",
          "1999",
          "2000",
          "2001",
          "2002",
          "2003",
          "2004",
          "2005",
          "2006",
          "2007",
          "2008",
          "2009",
          "2010",
          "2011",
          "2012",
          "2013",
          "2014",
          "2015",
          "2016",
          "2017",
          "2018",
          "2019",
          "2020",
          "2021",
          "2022",
          "2023",
          "2024"
         ],
         "xaxis": "x3",
         "y": [
          0,
          0,
          30000,
          150,
          0,
          0,
          0,
          0,
          0,
          0,
          0,
          0,
          0,
          0,
          117500,
          100000,
          0,
          442953.5,
          0,
          88000,
          359000,
          525000,
          913250,
          880500,
          481913.5,
          734941.5,
          738000,
          1445698.888888889,
          574250,
          3269873.25,
          1200069.1,
          515940.75,
          406462.9090909091,
          453353.77777777775,
          470824.26666666666,
          540610.8888888889,
          885900,
          1218150.9411764706,
          1492311.3333333333,
          1187750,
          1334335.9166666667,
          871195.5217391305,
          1003422.8695652174,
          1087787.5263157894,
          1590803.88,
          1332686.8333333333,
          1396745.9333333333,
          1996469.2727272727,
          2092599.1714285715,
          1320430.5714285714,
          4314518.851851852,
          1562358,
          1409875.1,
          1625826.0416666667,
          1785685.3714285714,
          16263105.416666666,
          4971402.285714285,
          1773243.3255813953,
          1647932.5918367347,
          2797738.7586206896,
          11914292.877551021,
          2585735.763157895,
          2681891.8039215687,
          61254451.7,
          2709062.962962963,
          11523480.416666666,
          3290533.3157894737,
          3140936.5409836066,
          14624236.291666666,
          8187419.763636364,
          4617603.416666667,
          8001644.038961039,
          1645747.513888889,
          2541333.086956522,
          2434709.710526316,
          50466420.5,
          3355741,
          4966871.621621622,
          10205005.76923077,
          55608772.27722772,
          13969394.23076923,
          8550058.823529411,
          9055614.822429907,
          7992974.358974359,
          10453186.330508474,
          14591984.251968505,
          251093858.448,
          10640354.842857143,
          19359549.38271605,
          13412117.32,
          25391198.529411763,
          17286100.67114094,
          18203630.409722224,
          15918581.920903955,
          25327941.525714286,
          33117847.811428573,
          28000864.22105263,
          43467301.25490196,
          30883953.485436894,
          34497571.83098592,
          40277760.50420168,
          33271913.46640316,
          30953005.59285714,
          33148933.887159534,
          56160186.50853242,
          56808674.471186444,
          30767275.910364147,
          63737402.9002849,
          28040735.605597965,
          37085733.4,
          55774406.72826087,
          35565948.79425837,
          136752412.0466321,
          52411987.697038725,
          31013232.344110854,
          293515649.3932806,
          146994768.8189135,
          87504418.46492986,
          275890660.9016736,
          142756692.7216274,
          39125703.69030733,
          39111790.53435115,
          818236766.2352941,
          285000000,
          0
         ],
         "yaxis": "y3"
        }
       ],
       "layout": {
        "height": 900,
        "template": {
         "data": {
          "bar": [
           {
            "error_x": {
             "color": "#2a3f5f"
            },
            "error_y": {
             "color": "#2a3f5f"
            },
            "marker": {
             "line": {
              "color": "#E5ECF6",
              "width": 0.5
             }
            },
            "type": "bar"
           }
          ],
          "barpolar": [
           {
            "marker": {
             "line": {
              "color": "#E5ECF6",
              "width": 0.5
             }
            },
            "type": "barpolar"
           }
          ],
          "carpet": [
           {
            "aaxis": {
             "endlinecolor": "#2a3f5f",
             "gridcolor": "white",
             "linecolor": "white",
             "minorgridcolor": "white",
             "startlinecolor": "#2a3f5f"
            },
            "baxis": {
             "endlinecolor": "#2a3f5f",
             "gridcolor": "white",
             "linecolor": "white",
             "minorgridcolor": "white",
             "startlinecolor": "#2a3f5f"
            },
            "type": "carpet"
           }
          ],
          "choropleth": [
           {
            "colorbar": {
             "outlinewidth": 0,
             "ticks": ""
            },
            "type": "choropleth"
           }
          ],
          "contour": [
           {
            "colorbar": {
             "outlinewidth": 0,
             "ticks": ""
            },
            "colorscale": [
             [
              0,
              "#0d0887"
             ],
             [
              0.1111111111111111,
              "#46039f"
             ],
             [
              0.2222222222222222,
              "#7201a8"
             ],
             [
              0.3333333333333333,
              "#9c179e"
             ],
             [
              0.4444444444444444,
              "#bd3786"
             ],
             [
              0.5555555555555556,
              "#d8576b"
             ],
             [
              0.6666666666666666,
              "#ed7953"
             ],
             [
              0.7777777777777778,
              "#fb9f3a"
             ],
             [
              0.8888888888888888,
              "#fdca26"
             ],
             [
              1,
              "#f0f921"
             ]
            ],
            "type": "contour"
           }
          ],
          "contourcarpet": [
           {
            "colorbar": {
             "outlinewidth": 0,
             "ticks": ""
            },
            "type": "contourcarpet"
           }
          ],
          "heatmap": [
           {
            "colorbar": {
             "outlinewidth": 0,
             "ticks": ""
            },
            "colorscale": [
             [
              0,
              "#0d0887"
             ],
             [
              0.1111111111111111,
              "#46039f"
             ],
             [
              0.2222222222222222,
              "#7201a8"
             ],
             [
              0.3333333333333333,
              "#9c179e"
             ],
             [
              0.4444444444444444,
              "#bd3786"
             ],
             [
              0.5555555555555556,
              "#d8576b"
             ],
             [
              0.6666666666666666,
              "#ed7953"
             ],
             [
              0.7777777777777778,
              "#fb9f3a"
             ],
             [
              0.8888888888888888,
              "#fdca26"
             ],
             [
              1,
              "#f0f921"
             ]
            ],
            "type": "heatmap"
           }
          ],
          "heatmapgl": [
           {
            "colorbar": {
             "outlinewidth": 0,
             "ticks": ""
            },
            "colorscale": [
             [
              0,
              "#0d0887"
             ],
             [
              0.1111111111111111,
              "#46039f"
             ],
             [
              0.2222222222222222,
              "#7201a8"
             ],
             [
              0.3333333333333333,
              "#9c179e"
             ],
             [
              0.4444444444444444,
              "#bd3786"
             ],
             [
              0.5555555555555556,
              "#d8576b"
             ],
             [
              0.6666666666666666,
              "#ed7953"
             ],
             [
              0.7777777777777778,
              "#fb9f3a"
             ],
             [
              0.8888888888888888,
              "#fdca26"
             ],
             [
              1,
              "#f0f921"
             ]
            ],
            "type": "heatmapgl"
           }
          ],
          "histogram": [
           {
            "marker": {
             "colorbar": {
              "outlinewidth": 0,
              "ticks": ""
             }
            },
            "type": "histogram"
           }
          ],
          "histogram2d": [
           {
            "colorbar": {
             "outlinewidth": 0,
             "ticks": ""
            },
            "colorscale": [
             [
              0,
              "#0d0887"
             ],
             [
              0.1111111111111111,
              "#46039f"
             ],
             [
              0.2222222222222222,
              "#7201a8"
             ],
             [
              0.3333333333333333,
              "#9c179e"
             ],
             [
              0.4444444444444444,
              "#bd3786"
             ],
             [
              0.5555555555555556,
              "#d8576b"
             ],
             [
              0.6666666666666666,
              "#ed7953"
             ],
             [
              0.7777777777777778,
              "#fb9f3a"
             ],
             [
              0.8888888888888888,
              "#fdca26"
             ],
             [
              1,
              "#f0f921"
             ]
            ],
            "type": "histogram2d"
           }
          ],
          "histogram2dcontour": [
           {
            "colorbar": {
             "outlinewidth": 0,
             "ticks": ""
            },
            "colorscale": [
             [
              0,
              "#0d0887"
             ],
             [
              0.1111111111111111,
              "#46039f"
             ],
             [
              0.2222222222222222,
              "#7201a8"
             ],
             [
              0.3333333333333333,
              "#9c179e"
             ],
             [
              0.4444444444444444,
              "#bd3786"
             ],
             [
              0.5555555555555556,
              "#d8576b"
             ],
             [
              0.6666666666666666,
              "#ed7953"
             ],
             [
              0.7777777777777778,
              "#fb9f3a"
             ],
             [
              0.8888888888888888,
              "#fdca26"
             ],
             [
              1,
              "#f0f921"
             ]
            ],
            "type": "histogram2dcontour"
           }
          ],
          "mesh3d": [
           {
            "colorbar": {
             "outlinewidth": 0,
             "ticks": ""
            },
            "type": "mesh3d"
           }
          ],
          "parcoords": [
           {
            "line": {
             "colorbar": {
              "outlinewidth": 0,
              "ticks": ""
             }
            },
            "type": "parcoords"
           }
          ],
          "pie": [
           {
            "automargin": true,
            "type": "pie"
           }
          ],
          "scatter": [
           {
            "marker": {
             "colorbar": {
              "outlinewidth": 0,
              "ticks": ""
             }
            },
            "type": "scatter"
           }
          ],
          "scatter3d": [
           {
            "line": {
             "colorbar": {
              "outlinewidth": 0,
              "ticks": ""
             }
            },
            "marker": {
             "colorbar": {
              "outlinewidth": 0,
              "ticks": ""
             }
            },
            "type": "scatter3d"
           }
          ],
          "scattercarpet": [
           {
            "marker": {
             "colorbar": {
              "outlinewidth": 0,
              "ticks": ""
             }
            },
            "type": "scattercarpet"
           }
          ],
          "scattergeo": [
           {
            "marker": {
             "colorbar": {
              "outlinewidth": 0,
              "ticks": ""
             }
            },
            "type": "scattergeo"
           }
          ],
          "scattergl": [
           {
            "marker": {
             "colorbar": {
              "outlinewidth": 0,
              "ticks": ""
             }
            },
            "type": "scattergl"
           }
          ],
          "scattermapbox": [
           {
            "marker": {
             "colorbar": {
              "outlinewidth": 0,
              "ticks": ""
             }
            },
            "type": "scattermapbox"
           }
          ],
          "scatterpolar": [
           {
            "marker": {
             "colorbar": {
              "outlinewidth": 0,
              "ticks": ""
             }
            },
            "type": "scatterpolar"
           }
          ],
          "scatterpolargl": [
           {
            "marker": {
             "colorbar": {
              "outlinewidth": 0,
              "ticks": ""
             }
            },
            "type": "scatterpolargl"
           }
          ],
          "scatterternary": [
           {
            "marker": {
             "colorbar": {
              "outlinewidth": 0,
              "ticks": ""
             }
            },
            "type": "scatterternary"
           }
          ],
          "surface": [
           {
            "colorbar": {
             "outlinewidth": 0,
             "ticks": ""
            },
            "colorscale": [
             [
              0,
              "#0d0887"
             ],
             [
              0.1111111111111111,
              "#46039f"
             ],
             [
              0.2222222222222222,
              "#7201a8"
             ],
             [
              0.3333333333333333,
              "#9c179e"
             ],
             [
              0.4444444444444444,
              "#bd3786"
             ],
             [
              0.5555555555555556,
              "#d8576b"
             ],
             [
              0.6666666666666666,
              "#ed7953"
             ],
             [
              0.7777777777777778,
              "#fb9f3a"
             ],
             [
              0.8888888888888888,
              "#fdca26"
             ],
             [
              1,
              "#f0f921"
             ]
            ],
            "type": "surface"
           }
          ],
          "table": [
           {
            "cells": {
             "fill": {
              "color": "#EBF0F8"
             },
             "line": {
              "color": "white"
             }
            },
            "header": {
             "fill": {
              "color": "#C8D4E3"
             },
             "line": {
              "color": "white"
             }
            },
            "type": "table"
           }
          ]
         },
         "layout": {
          "annotationdefaults": {
           "arrowcolor": "#2a3f5f",
           "arrowhead": 0,
           "arrowwidth": 1
          },
          "autotypenumbers": "strict",
          "coloraxis": {
           "colorbar": {
            "outlinewidth": 0,
            "ticks": ""
           }
          },
          "colorscale": {
           "diverging": [
            [
             0,
             "#8e0152"
            ],
            [
             0.1,
             "#c51b7d"
            ],
            [
             0.2,
             "#de77ae"
            ],
            [
             0.3,
             "#f1b6da"
            ],
            [
             0.4,
             "#fde0ef"
            ],
            [
             0.5,
             "#f7f7f7"
            ],
            [
             0.6,
             "#e6f5d0"
            ],
            [
             0.7,
             "#b8e186"
            ],
            [
             0.8,
             "#7fbc41"
            ],
            [
             0.9,
             "#4d9221"
            ],
            [
             1,
             "#276419"
            ]
           ],
           "sequential": [
            [
             0,
             "#0d0887"
            ],
            [
             0.1111111111111111,
             "#46039f"
            ],
            [
             0.2222222222222222,
             "#7201a8"
            ],
            [
             0.3333333333333333,
             "#9c179e"
            ],
            [
             0.4444444444444444,
             "#bd3786"
            ],
            [
             0.5555555555555556,
             "#d8576b"
            ],
            [
             0.6666666666666666,
             "#ed7953"
            ],
            [
             0.7777777777777778,
             "#fb9f3a"
            ],
            [
             0.8888888888888888,
             "#fdca26"
            ],
            [
             1,
             "#f0f921"
            ]
           ],
           "sequentialminus": [
            [
             0,
             "#0d0887"
            ],
            [
             0.1111111111111111,
             "#46039f"
            ],
            [
             0.2222222222222222,
             "#7201a8"
            ],
            [
             0.3333333333333333,
             "#9c179e"
            ],
            [
             0.4444444444444444,
             "#bd3786"
            ],
            [
             0.5555555555555556,
             "#d8576b"
            ],
            [
             0.6666666666666666,
             "#ed7953"
            ],
            [
             0.7777777777777778,
             "#fb9f3a"
            ],
            [
             0.8888888888888888,
             "#fdca26"
            ],
            [
             1,
             "#f0f921"
            ]
           ]
          },
          "colorway": [
           "#636efa",
           "#EF553B",
           "#00cc96",
           "#ab63fa",
           "#FFA15A",
           "#19d3f3",
           "#FF6692",
           "#B6E880",
           "#FF97FF",
           "#FECB52"
          ],
          "font": {
           "color": "#2a3f5f"
          },
          "geo": {
           "bgcolor": "white",
           "lakecolor": "white",
           "landcolor": "#E5ECF6",
           "showlakes": true,
           "showland": true,
           "subunitcolor": "white"
          },
          "hoverlabel": {
           "align": "left"
          },
          "hovermode": "closest",
          "mapbox": {
           "style": "light"
          },
          "paper_bgcolor": "white",
          "plot_bgcolor": "#E5ECF6",
          "polar": {
           "angularaxis": {
            "gridcolor": "white",
            "linecolor": "white",
            "ticks": ""
           },
           "bgcolor": "#E5ECF6",
           "radialaxis": {
            "gridcolor": "white",
            "linecolor": "white",
            "ticks": ""
           }
          },
          "scene": {
           "xaxis": {
            "backgroundcolor": "#E5ECF6",
            "gridcolor": "white",
            "gridwidth": 2,
            "linecolor": "white",
            "showbackground": true,
            "ticks": "",
            "zerolinecolor": "white"
           },
           "yaxis": {
            "backgroundcolor": "#E5ECF6",
            "gridcolor": "white",
            "gridwidth": 2,
            "linecolor": "white",
            "showbackground": true,
            "ticks": "",
            "zerolinecolor": "white"
           },
           "zaxis": {
            "backgroundcolor": "#E5ECF6",
            "gridcolor": "white",
            "gridwidth": 2,
            "linecolor": "white",
            "showbackground": true,
            "ticks": "",
            "zerolinecolor": "white"
           }
          },
          "shapedefaults": {
           "line": {
            "color": "#2a3f5f"
           }
          },
          "ternary": {
           "aaxis": {
            "gridcolor": "white",
            "linecolor": "white",
            "ticks": ""
           },
           "baxis": {
            "gridcolor": "white",
            "linecolor": "white",
            "ticks": ""
           },
           "bgcolor": "#E5ECF6",
           "caxis": {
            "gridcolor": "white",
            "linecolor": "white",
            "ticks": ""
           }
          },
          "title": {
           "x": 0.05
          },
          "xaxis": {
           "automargin": true,
           "gridcolor": "white",
           "linecolor": "white",
           "ticks": "",
           "title": {
            "standoff": 15
           },
           "zerolinecolor": "white",
           "zerolinewidth": 2
          },
          "yaxis": {
           "automargin": true,
           "gridcolor": "white",
           "linecolor": "white",
           "ticks": "",
           "title": {
            "standoff": 15
           },
           "zerolinecolor": "white",
           "zerolinewidth": 2
          }
         }
        },
        "title": {
         "text": "Movie yearwise analysis"
        },
        "width": 1200,
        "xaxis": {
         "anchor": "y",
         "domain": [
          0,
          1
         ]
        },
        "xaxis2": {
         "anchor": "y2",
         "domain": [
          0,
          1
         ]
        },
        "xaxis3": {
         "anchor": "y3",
         "domain": [
          0,
          1
         ]
        },
        "yaxis": {
         "anchor": "x",
         "domain": [
          0.7333333333333333,
          1
         ]
        },
        "yaxis2": {
         "anchor": "x2",
         "domain": [
          0.36666666666666664,
          0.6333333333333333
         ]
        },
        "yaxis3": {
         "anchor": "x3",
         "domain": [
          0,
          0.26666666666666666
         ]
        }
       }
      }
     },
     "metadata": {}
    }
   ],
   "source": [
    "num_row, num_col = 3, 1\n",
    "fig = make_subplots(rows=num_row, cols=num_col)\n",
    "\n",
    "fig.add_trace(\n",
    "    go.Bar(x=years, y=num_movies_arr, name=\"# of movies\"),\n",
    "    1, 1\n",
    ")\n",
    "\n",
    "fig.add_trace(\n",
    "    go.Bar(x=years, y=sum_budget, name=\"Budget\"),\n",
    "    2, 1\n",
    ")\n",
    "\n",
    "fig.add_trace(\n",
    "    go.Bar(x=years, y=avg_budget, name=\"Average budget\"),\n",
    "    3, 1\n",
    ")\n",
    "\n",
    "fig.update_layout(\n",
    "    height=900, \n",
    "    width=1200,\n",
    "    title_text=\"Movie yearwise analysis\"\n",
    ")"
   ]
  },
  {
   "source": [
    "# Release Date - Cumulative Worldwide Gross"
   ],
   "cell_type": "markdown",
   "metadata": {}
  },
  {
   "cell_type": "code",
   "execution_count": 115,
   "metadata": {},
   "outputs": [
    {
     "output_type": "stream",
     "name": "stdout",
     "text": [
      "January >> total movies 2666(1336 do not have Budget info) -- total Cumulative Worldwide Gross: 35999274280, average: 27067123.51879699\nFebruary >> total movies 2746(1377 do not have Budget info) -- total Cumulative Worldwide Gross: 44458152807, average: 32474910.742878012\nMarch >> total movies 3053(1492 do not have Budget info) -- total Cumulative Worldwide Gross: 47583003420, average: 30482385.27866752\nApril >> total movies 2834(1389 do not have Budget info) -- total Cumulative Worldwide Gross: 38225991330, average: 26453973.238754325\nMay >> total movies 2630(1342 do not have Budget info) -- total Cumulative Worldwide Gross: 71304878092, average: 55360930.19565217\nJune >> total movies 2510(1281 do not have Budget info) -- total Cumulative Worldwide Gross: 79853594609, average: 64974446.38649309\nJuly >> total movies 2321(1120 do not have Budget info) -- total Cumulative Worldwide Gross: 75957910873, average: 63245554.43213988\nAugust >> total movies 2740(1216 do not have Budget info) -- total Cumulative Worldwide Gross: 43188005738, average: 28338586.442257218\nSeptember >> total movies 3015(1368 do not have Budget info) -- total Cumulative Worldwide Gross: 32298460607, average: 19610480.028536733\nOctober >> total movies 3529(1721 do not have Budget info) -- total Cumulative Worldwide Gross: 41363576497, average: 22878084.34568584\nNovember >> total movies 3019(1505 do not have Budget info) -- total Cumulative Worldwide Gross: 74569513358, average: 49253311.332893\nDecember >> total movies 2799(1455 do not have Budget info) -- total Cumulative Worldwide Gross: 83320101065, average: 61994122.81622024\n"
     ]
    }
   ],
   "source": [
    "sum_budget = []\n",
    "avg_budget = []\n",
    "num_movies_arr = []\n",
    "\n",
    "attr_key = 'Cumulative Worldwide Gross'\n",
    "\n",
    "for month in month_movie:\n",
    "    lst = month_movie[month]\n",
    "    num_movies = len(lst)\n",
    "    no_budget = 0\n",
    "    budget = 0\n",
    "    for movie in lst:\n",
    "        try:\n",
    "            budget += getMoney(movie['details'][attr_key][0])\n",
    "        except:\n",
    "            if(attr_key not in movie['details']):\n",
    "                no_budget += 1\n",
    "            else:\n",
    "                print(movie['details'][attr_key])\n",
    "                no_budget += 1\n",
    "    sum_budget.append(budget)\n",
    "    avg_budget.append(budget/(num_movies-no_budget))\n",
    "    num_movies_arr.append(num_movies-no_budget)\n",
    "    print(\"{} >> total movies {}({} do not have Budget info) -- total {}: {}, average: {}\".format(month, num_movies, no_budget, attr_key, budget, budget/(num_movies-no_budget)))  "
   ]
  },
  {
   "cell_type": "code",
   "execution_count": 116,
   "metadata": {},
   "outputs": [
    {
     "output_type": "display_data",
     "data": {
      "application/vnd.plotly.v1+json": {
       "config": {
        "plotlyServerURL": "https://plot.ly"
       },
       "data": [
        {
         "name": "# of movies",
         "type": "bar",
         "x": [
          "January",
          "February",
          "March",
          "April",
          "May",
          "June",
          "July",
          "August",
          "September",
          "October",
          "November",
          "December"
         ],
         "xaxis": "x",
         "y": [
          1330,
          1369,
          1561,
          1445,
          1288,
          1229,
          1201,
          1524,
          1647,
          1808,
          1514,
          1344
         ],
         "yaxis": "y"
        },
        {
         "name": "Revenue",
         "type": "bar",
         "x": [
          "January",
          "February",
          "March",
          "April",
          "May",
          "June",
          "July",
          "August",
          "September",
          "October",
          "November",
          "December"
         ],
         "xaxis": "x2",
         "y": [
          35999274280,
          44458152807,
          47583003420,
          38225991330,
          71304878092,
          79853594609,
          75957910873,
          43188005738,
          32298460607,
          41363576497,
          74569513358,
          83320101065
         ],
         "yaxis": "y2"
        },
        {
         "name": "Average Revenue",
         "type": "bar",
         "x": [
          "January",
          "February",
          "March",
          "April",
          "May",
          "June",
          "July",
          "August",
          "September",
          "October",
          "November",
          "December"
         ],
         "xaxis": "x3",
         "y": [
          27067123.51879699,
          32474910.742878012,
          30482385.27866752,
          26453973.238754325,
          55360930.19565217,
          64974446.38649309,
          63245554.43213988,
          28338586.442257218,
          19610480.028536733,
          22878084.34568584,
          49253311.332893,
          61994122.81622024
         ],
         "yaxis": "y3"
        }
       ],
       "layout": {
        "height": 900,
        "template": {
         "data": {
          "bar": [
           {
            "error_x": {
             "color": "#2a3f5f"
            },
            "error_y": {
             "color": "#2a3f5f"
            },
            "marker": {
             "line": {
              "color": "#E5ECF6",
              "width": 0.5
             }
            },
            "type": "bar"
           }
          ],
          "barpolar": [
           {
            "marker": {
             "line": {
              "color": "#E5ECF6",
              "width": 0.5
             }
            },
            "type": "barpolar"
           }
          ],
          "carpet": [
           {
            "aaxis": {
             "endlinecolor": "#2a3f5f",
             "gridcolor": "white",
             "linecolor": "white",
             "minorgridcolor": "white",
             "startlinecolor": "#2a3f5f"
            },
            "baxis": {
             "endlinecolor": "#2a3f5f",
             "gridcolor": "white",
             "linecolor": "white",
             "minorgridcolor": "white",
             "startlinecolor": "#2a3f5f"
            },
            "type": "carpet"
           }
          ],
          "choropleth": [
           {
            "colorbar": {
             "outlinewidth": 0,
             "ticks": ""
            },
            "type": "choropleth"
           }
          ],
          "contour": [
           {
            "colorbar": {
             "outlinewidth": 0,
             "ticks": ""
            },
            "colorscale": [
             [
              0,
              "#0d0887"
             ],
             [
              0.1111111111111111,
              "#46039f"
             ],
             [
              0.2222222222222222,
              "#7201a8"
             ],
             [
              0.3333333333333333,
              "#9c179e"
             ],
             [
              0.4444444444444444,
              "#bd3786"
             ],
             [
              0.5555555555555556,
              "#d8576b"
             ],
             [
              0.6666666666666666,
              "#ed7953"
             ],
             [
              0.7777777777777778,
              "#fb9f3a"
             ],
             [
              0.8888888888888888,
              "#fdca26"
             ],
             [
              1,
              "#f0f921"
             ]
            ],
            "type": "contour"
           }
          ],
          "contourcarpet": [
           {
            "colorbar": {
             "outlinewidth": 0,
             "ticks": ""
            },
            "type": "contourcarpet"
           }
          ],
          "heatmap": [
           {
            "colorbar": {
             "outlinewidth": 0,
             "ticks": ""
            },
            "colorscale": [
             [
              0,
              "#0d0887"
             ],
             [
              0.1111111111111111,
              "#46039f"
             ],
             [
              0.2222222222222222,
              "#7201a8"
             ],
             [
              0.3333333333333333,
              "#9c179e"
             ],
             [
              0.4444444444444444,
              "#bd3786"
             ],
             [
              0.5555555555555556,
              "#d8576b"
             ],
             [
              0.6666666666666666,
              "#ed7953"
             ],
             [
              0.7777777777777778,
              "#fb9f3a"
             ],
             [
              0.8888888888888888,
              "#fdca26"
             ],
             [
              1,
              "#f0f921"
             ]
            ],
            "type": "heatmap"
           }
          ],
          "heatmapgl": [
           {
            "colorbar": {
             "outlinewidth": 0,
             "ticks": ""
            },
            "colorscale": [
             [
              0,
              "#0d0887"
             ],
             [
              0.1111111111111111,
              "#46039f"
             ],
             [
              0.2222222222222222,
              "#7201a8"
             ],
             [
              0.3333333333333333,
              "#9c179e"
             ],
             [
              0.4444444444444444,
              "#bd3786"
             ],
             [
              0.5555555555555556,
              "#d8576b"
             ],
             [
              0.6666666666666666,
              "#ed7953"
             ],
             [
              0.7777777777777778,
              "#fb9f3a"
             ],
             [
              0.8888888888888888,
              "#fdca26"
             ],
             [
              1,
              "#f0f921"
             ]
            ],
            "type": "heatmapgl"
           }
          ],
          "histogram": [
           {
            "marker": {
             "colorbar": {
              "outlinewidth": 0,
              "ticks": ""
             }
            },
            "type": "histogram"
           }
          ],
          "histogram2d": [
           {
            "colorbar": {
             "outlinewidth": 0,
             "ticks": ""
            },
            "colorscale": [
             [
              0,
              "#0d0887"
             ],
             [
              0.1111111111111111,
              "#46039f"
             ],
             [
              0.2222222222222222,
              "#7201a8"
             ],
             [
              0.3333333333333333,
              "#9c179e"
             ],
             [
              0.4444444444444444,
              "#bd3786"
             ],
             [
              0.5555555555555556,
              "#d8576b"
             ],
             [
              0.6666666666666666,
              "#ed7953"
             ],
             [
              0.7777777777777778,
              "#fb9f3a"
             ],
             [
              0.8888888888888888,
              "#fdca26"
             ],
             [
              1,
              "#f0f921"
             ]
            ],
            "type": "histogram2d"
           }
          ],
          "histogram2dcontour": [
           {
            "colorbar": {
             "outlinewidth": 0,
             "ticks": ""
            },
            "colorscale": [
             [
              0,
              "#0d0887"
             ],
             [
              0.1111111111111111,
              "#46039f"
             ],
             [
              0.2222222222222222,
              "#7201a8"
             ],
             [
              0.3333333333333333,
              "#9c179e"
             ],
             [
              0.4444444444444444,
              "#bd3786"
             ],
             [
              0.5555555555555556,
              "#d8576b"
             ],
             [
              0.6666666666666666,
              "#ed7953"
             ],
             [
              0.7777777777777778,
              "#fb9f3a"
             ],
             [
              0.8888888888888888,
              "#fdca26"
             ],
             [
              1,
              "#f0f921"
             ]
            ],
            "type": "histogram2dcontour"
           }
          ],
          "mesh3d": [
           {
            "colorbar": {
             "outlinewidth": 0,
             "ticks": ""
            },
            "type": "mesh3d"
           }
          ],
          "parcoords": [
           {
            "line": {
             "colorbar": {
              "outlinewidth": 0,
              "ticks": ""
             }
            },
            "type": "parcoords"
           }
          ],
          "pie": [
           {
            "automargin": true,
            "type": "pie"
           }
          ],
          "scatter": [
           {
            "marker": {
             "colorbar": {
              "outlinewidth": 0,
              "ticks": ""
             }
            },
            "type": "scatter"
           }
          ],
          "scatter3d": [
           {
            "line": {
             "colorbar": {
              "outlinewidth": 0,
              "ticks": ""
             }
            },
            "marker": {
             "colorbar": {
              "outlinewidth": 0,
              "ticks": ""
             }
            },
            "type": "scatter3d"
           }
          ],
          "scattercarpet": [
           {
            "marker": {
             "colorbar": {
              "outlinewidth": 0,
              "ticks": ""
             }
            },
            "type": "scattercarpet"
           }
          ],
          "scattergeo": [
           {
            "marker": {
             "colorbar": {
              "outlinewidth": 0,
              "ticks": ""
             }
            },
            "type": "scattergeo"
           }
          ],
          "scattergl": [
           {
            "marker": {
             "colorbar": {
              "outlinewidth": 0,
              "ticks": ""
             }
            },
            "type": "scattergl"
           }
          ],
          "scattermapbox": [
           {
            "marker": {
             "colorbar": {
              "outlinewidth": 0,
              "ticks": ""
             }
            },
            "type": "scattermapbox"
           }
          ],
          "scatterpolar": [
           {
            "marker": {
             "colorbar": {
              "outlinewidth": 0,
              "ticks": ""
             }
            },
            "type": "scatterpolar"
           }
          ],
          "scatterpolargl": [
           {
            "marker": {
             "colorbar": {
              "outlinewidth": 0,
              "ticks": ""
             }
            },
            "type": "scatterpolargl"
           }
          ],
          "scatterternary": [
           {
            "marker": {
             "colorbar": {
              "outlinewidth": 0,
              "ticks": ""
             }
            },
            "type": "scatterternary"
           }
          ],
          "surface": [
           {
            "colorbar": {
             "outlinewidth": 0,
             "ticks": ""
            },
            "colorscale": [
             [
              0,
              "#0d0887"
             ],
             [
              0.1111111111111111,
              "#46039f"
             ],
             [
              0.2222222222222222,
              "#7201a8"
             ],
             [
              0.3333333333333333,
              "#9c179e"
             ],
             [
              0.4444444444444444,
              "#bd3786"
             ],
             [
              0.5555555555555556,
              "#d8576b"
             ],
             [
              0.6666666666666666,
              "#ed7953"
             ],
             [
              0.7777777777777778,
              "#fb9f3a"
             ],
             [
              0.8888888888888888,
              "#fdca26"
             ],
             [
              1,
              "#f0f921"
             ]
            ],
            "type": "surface"
           }
          ],
          "table": [
           {
            "cells": {
             "fill": {
              "color": "#EBF0F8"
             },
             "line": {
              "color": "white"
             }
            },
            "header": {
             "fill": {
              "color": "#C8D4E3"
             },
             "line": {
              "color": "white"
             }
            },
            "type": "table"
           }
          ]
         },
         "layout": {
          "annotationdefaults": {
           "arrowcolor": "#2a3f5f",
           "arrowhead": 0,
           "arrowwidth": 1
          },
          "autotypenumbers": "strict",
          "coloraxis": {
           "colorbar": {
            "outlinewidth": 0,
            "ticks": ""
           }
          },
          "colorscale": {
           "diverging": [
            [
             0,
             "#8e0152"
            ],
            [
             0.1,
             "#c51b7d"
            ],
            [
             0.2,
             "#de77ae"
            ],
            [
             0.3,
             "#f1b6da"
            ],
            [
             0.4,
             "#fde0ef"
            ],
            [
             0.5,
             "#f7f7f7"
            ],
            [
             0.6,
             "#e6f5d0"
            ],
            [
             0.7,
             "#b8e186"
            ],
            [
             0.8,
             "#7fbc41"
            ],
            [
             0.9,
             "#4d9221"
            ],
            [
             1,
             "#276419"
            ]
           ],
           "sequential": [
            [
             0,
             "#0d0887"
            ],
            [
             0.1111111111111111,
             "#46039f"
            ],
            [
             0.2222222222222222,
             "#7201a8"
            ],
            [
             0.3333333333333333,
             "#9c179e"
            ],
            [
             0.4444444444444444,
             "#bd3786"
            ],
            [
             0.5555555555555556,
             "#d8576b"
            ],
            [
             0.6666666666666666,
             "#ed7953"
            ],
            [
             0.7777777777777778,
             "#fb9f3a"
            ],
            [
             0.8888888888888888,
             "#fdca26"
            ],
            [
             1,
             "#f0f921"
            ]
           ],
           "sequentialminus": [
            [
             0,
             "#0d0887"
            ],
            [
             0.1111111111111111,
             "#46039f"
            ],
            [
             0.2222222222222222,
             "#7201a8"
            ],
            [
             0.3333333333333333,
             "#9c179e"
            ],
            [
             0.4444444444444444,
             "#bd3786"
            ],
            [
             0.5555555555555556,
             "#d8576b"
            ],
            [
             0.6666666666666666,
             "#ed7953"
            ],
            [
             0.7777777777777778,
             "#fb9f3a"
            ],
            [
             0.8888888888888888,
             "#fdca26"
            ],
            [
             1,
             "#f0f921"
            ]
           ]
          },
          "colorway": [
           "#636efa",
           "#EF553B",
           "#00cc96",
           "#ab63fa",
           "#FFA15A",
           "#19d3f3",
           "#FF6692",
           "#B6E880",
           "#FF97FF",
           "#FECB52"
          ],
          "font": {
           "color": "#2a3f5f"
          },
          "geo": {
           "bgcolor": "white",
           "lakecolor": "white",
           "landcolor": "#E5ECF6",
           "showlakes": true,
           "showland": true,
           "subunitcolor": "white"
          },
          "hoverlabel": {
           "align": "left"
          },
          "hovermode": "closest",
          "mapbox": {
           "style": "light"
          },
          "paper_bgcolor": "white",
          "plot_bgcolor": "#E5ECF6",
          "polar": {
           "angularaxis": {
            "gridcolor": "white",
            "linecolor": "white",
            "ticks": ""
           },
           "bgcolor": "#E5ECF6",
           "radialaxis": {
            "gridcolor": "white",
            "linecolor": "white",
            "ticks": ""
           }
          },
          "scene": {
           "xaxis": {
            "backgroundcolor": "#E5ECF6",
            "gridcolor": "white",
            "gridwidth": 2,
            "linecolor": "white",
            "showbackground": true,
            "ticks": "",
            "zerolinecolor": "white"
           },
           "yaxis": {
            "backgroundcolor": "#E5ECF6",
            "gridcolor": "white",
            "gridwidth": 2,
            "linecolor": "white",
            "showbackground": true,
            "ticks": "",
            "zerolinecolor": "white"
           },
           "zaxis": {
            "backgroundcolor": "#E5ECF6",
            "gridcolor": "white",
            "gridwidth": 2,
            "linecolor": "white",
            "showbackground": true,
            "ticks": "",
            "zerolinecolor": "white"
           }
          },
          "shapedefaults": {
           "line": {
            "color": "#2a3f5f"
           }
          },
          "ternary": {
           "aaxis": {
            "gridcolor": "white",
            "linecolor": "white",
            "ticks": ""
           },
           "baxis": {
            "gridcolor": "white",
            "linecolor": "white",
            "ticks": ""
           },
           "bgcolor": "#E5ECF6",
           "caxis": {
            "gridcolor": "white",
            "linecolor": "white",
            "ticks": ""
           }
          },
          "title": {
           "x": 0.05
          },
          "xaxis": {
           "automargin": true,
           "gridcolor": "white",
           "linecolor": "white",
           "ticks": "",
           "title": {
            "standoff": 15
           },
           "zerolinecolor": "white",
           "zerolinewidth": 2
          },
          "yaxis": {
           "automargin": true,
           "gridcolor": "white",
           "linecolor": "white",
           "ticks": "",
           "title": {
            "standoff": 15
           },
           "zerolinecolor": "white",
           "zerolinewidth": 2
          }
         }
        },
        "title": {
         "text": "Movie monthwise revenue"
        },
        "width": 800,
        "xaxis": {
         "anchor": "y",
         "domain": [
          0,
          1
         ]
        },
        "xaxis2": {
         "anchor": "y2",
         "domain": [
          0,
          1
         ]
        },
        "xaxis3": {
         "anchor": "y3",
         "domain": [
          0,
          1
         ]
        },
        "yaxis": {
         "anchor": "x",
         "domain": [
          0.7333333333333333,
          1
         ]
        },
        "yaxis2": {
         "anchor": "x2",
         "domain": [
          0.36666666666666664,
          0.6333333333333333
         ]
        },
        "yaxis3": {
         "anchor": "x3",
         "domain": [
          0,
          0.26666666666666666
         ]
        }
       }
      }
     },
     "metadata": {}
    }
   ],
   "source": [
    "num_row, num_col = 3, 1\n",
    "fig = make_subplots(rows=num_row, cols=num_col)\n",
    "\n",
    "fig.add_trace(\n",
    "    go.Bar(x=months, y=num_movies_arr, name=\"# of movies\"),\n",
    "    1, 1\n",
    ")\n",
    "\n",
    "fig.add_trace(\n",
    "    go.Bar(x=months, y=sum_budget, name=\"Revenue\"),\n",
    "    2, 1\n",
    ")\n",
    "\n",
    "fig.add_trace(\n",
    "    go.Bar(x=months, y=avg_budget, name=\"Average Revenue\"),\n",
    "    3, 1\n",
    ")\n",
    "\n",
    "fig.update_layout(\n",
    "    height=900, \n",
    "    width=800,\n",
    "    title_text=\"Movie monthwise revenue\"\n",
    ")"
   ]
  },
  {
   "cell_type": "code",
   "execution_count": 110,
   "metadata": {},
   "outputs": [
    {
     "output_type": "stream",
     "name": "stdout",
     "text": [
      "1900 >> total movies 0(0 do not have Cumulative Worldwide Gross info) -- total Cumulative Worldwide Gross: 0, average: 0\n1901 >> total movies 0(0 do not have Cumulative Worldwide Gross info) -- total Cumulative Worldwide Gross: 0, average: 0\n1902 >> total movies 1(1 do not have Cumulative Worldwide Gross info) -- total Cumulative Worldwide Gross: 0, average: 0\n1903 >> total movies 1(1 do not have Cumulative Worldwide Gross info) -- total Cumulative Worldwide Gross: 0, average: 0\n1904 >> total movies 0(0 do not have Cumulative Worldwide Gross info) -- total Cumulative Worldwide Gross: 0, average: 0\n1905 >> total movies 0(0 do not have Cumulative Worldwide Gross info) -- total Cumulative Worldwide Gross: 0, average: 0\n1906 >> total movies 0(0 do not have Cumulative Worldwide Gross info) -- total Cumulative Worldwide Gross: 0, average: 0\n1907 >> total movies 0(0 do not have Cumulative Worldwide Gross info) -- total Cumulative Worldwide Gross: 0, average: 0\n1908 >> total movies 0(0 do not have Cumulative Worldwide Gross info) -- total Cumulative Worldwide Gross: 0, average: 0\n1909 >> total movies 0(0 do not have Cumulative Worldwide Gross info) -- total Cumulative Worldwide Gross: 0, average: 0\n1910 >> total movies 0(0 do not have Cumulative Worldwide Gross info) -- total Cumulative Worldwide Gross: 0, average: 0\n1911 >> total movies 1(1 do not have Cumulative Worldwide Gross info) -- total Cumulative Worldwide Gross: 0, average: 0\n1912 >> total movies 0(0 do not have Cumulative Worldwide Gross info) -- total Cumulative Worldwide Gross: 0, average: 0\n1913 >> total movies 0(0 do not have Cumulative Worldwide Gross info) -- total Cumulative Worldwide Gross: 0, average: 0\n1914 >> total movies 2(2 do not have Cumulative Worldwide Gross info) -- total Cumulative Worldwide Gross: 0, average: 0\n1915 >> total movies 2(2 do not have Cumulative Worldwide Gross info) -- total Cumulative Worldwide Gross: 0, average: 0\n1916 >> total movies 1(1 do not have Cumulative Worldwide Gross info) -- total Cumulative Worldwide Gross: 0, average: 0\n1917 >> total movies 4(4 do not have Cumulative Worldwide Gross info) -- total Cumulative Worldwide Gross: 0, average: 0\n1918 >> total movies 1(1 do not have Cumulative Worldwide Gross info) -- total Cumulative Worldwide Gross: 0, average: 0\n1919 >> total movies 1(1 do not have Cumulative Worldwide Gross info) -- total Cumulative Worldwide Gross: 0, average: 0\n1920 >> total movies 3(2 do not have Cumulative Worldwide Gross info) -- total Cumulative Worldwide Gross: 8811, average: 8811.0\n1921 >> total movies 3(1 do not have Cumulative Worldwide Gross info) -- total Cumulative Worldwide Gross: 9210589, average: 4605294.5\n1922 >> total movies 8(6 do not have Cumulative Worldwide Gross info) -- total Cumulative Worldwide Gross: 31210, average: 15605.0\n1923 >> total movies 7(6 do not have Cumulative Worldwide Gross info) -- total Cumulative Worldwide Gross: 11233, average: 11233.0\n1924 >> total movies 6(6 do not have Cumulative Worldwide Gross info) -- total Cumulative Worldwide Gross: 0, average: 0\n1925 >> total movies 8(4 do not have Cumulative Worldwide Gross info) -- total Cumulative Worldwide Gross: 7282305, average: 1820576.25\n1926 >> total movies 7(6 do not have Cumulative Worldwide Gross info) -- total Cumulative Worldwide Gross: 4360000, average: 4360000.0\n1927 >> total movies 10(6 do not have Cumulative Worldwide Gross info) -- total Cumulative Worldwide Gross: 1558919, average: 389729.75\n1928 >> total movies 18(13 do not have Cumulative Worldwide Gross info) -- total Cumulative Worldwide Gross: 1890756, average: 378151.2\n1929 >> total movies 16(13 do not have Cumulative Worldwide Gross info) -- total Cumulative Worldwide Gross: 44153, average: 14717.666666666666\n1930 >> total movies 19(15 do not have Cumulative Worldwide Gross info) -- total Cumulative Worldwide Gross: 68292, average: 17073.0\n1931 >> total movies 28(24 do not have Cumulative Worldwide Gross info) -- total Cumulative Worldwide Gross: 168404, average: 42101.0\n1932 >> total movies 42(38 do not have Cumulative Worldwide Gross info) -- total Cumulative Worldwide Gross: 1363336, average: 340834.0\n1933 >> total movies 36(32 do not have Cumulative Worldwide Gross info) -- total Cumulative Worldwide Gross: 133156, average: 33289.0\n1934 >> total movies 34(30 do not have Cumulative Worldwide Gross info) -- total Cumulative Worldwide Gross: 4976726, average: 1244181.5\n1935 >> total movies 37(31 do not have Cumulative Worldwide Gross info) -- total Cumulative Worldwide Gross: 4029433, average: 671572.1666666666\n1936 >> total movies 44(40 do not have Cumulative Worldwide Gross info) -- total Cumulative Worldwide Gross: 1416553, average: 354138.25\n1937 >> total movies 43(39 do not have Cumulative Worldwide Gross info) -- total Cumulative Worldwide Gross: 25678, average: 6419.5\n1938 >> total movies 34(29 do not have Cumulative Worldwide Gross info) -- total Cumulative Worldwide Gross: 185011284, average: 37002256.8\n1939 >> total movies 57(44 do not have Cumulative Worldwide Gross info) -- total Cumulative Worldwide Gross: 26284662, average: 2021897.076923077\n1940 >> total movies 66(57 do not have Cumulative Worldwide Gross info) -- total Cumulative Worldwide Gross: 524440201, average: 58271133.44444445\n1941 >> total movies 55(43 do not have Cumulative Worldwide Gross info) -- total Cumulative Worldwide Gross: 95945574, average: 7995464.5\n1942 >> total movies 58(52 do not have Cumulative Worldwide Gross info) -- total Cumulative Worldwide Gross: 286961263, average: 47826877.166666664\n1943 >> total movies 57(52 do not have Cumulative Worldwide Gross info) -- total Cumulative Worldwide Gross: 4470774, average: 894154.8\n1944 >> total movies 58(55 do not have Cumulative Worldwide Gross info) -- total Cumulative Worldwide Gross: 61186, average: 20395.333333333332\n1945 >> total movies 59(52 do not have Cumulative Worldwide Gross info) -- total Cumulative Worldwide Gross: 617184, average: 88169.14285714286\n1946 >> total movies 72(59 do not have Cumulative Worldwide Gross info) -- total Cumulative Worldwide Gross: 68912408, average: 5300954.461538462\n1947 >> total movies 73(58 do not have Cumulative Worldwide Gross info) -- total Cumulative Worldwide Gross: 51896790, average: 3459786.0\n1948 >> total movies 77(65 do not have Cumulative Worldwide Gross info) -- total Cumulative Worldwide Gross: 20069157, average: 1672429.75\n1949 >> total movies 87(75 do not have Cumulative Worldwide Gross info) -- total Cumulative Worldwide Gross: 23535270, average: 1961272.5\n1950 >> total movies 88(74 do not have Cumulative Worldwide Gross info) -- total Cumulative Worldwide Gross: 101806365, average: 7271883.214285715\n1951 >> total movies 82(70 do not have Cumulative Worldwide Gross info) -- total Cumulative Worldwide Gross: 14867953, average: 1238996.0833333333\n1952 >> total movies 68(55 do not have Cumulative Worldwide Gross info) -- total Cumulative Worldwide Gross: 38285932, average: 2945071.6923076925\n1953 >> total movies 107(94 do not have Cumulative Worldwide Gross info) -- total Cumulative Worldwide Gross: 147415467, average: 11339651.307692308\n1954 >> total movies 98(78 do not have Cumulative Worldwide Gross info) -- total Cumulative Worldwide Gross: 71059336, average: 3552966.8\n1955 >> total movies 120(100 do not have Cumulative Worldwide Gross info) -- total Cumulative Worldwide Gross: 95811662, average: 4790583.1\n1956 >> total movies 124(103 do not have Cumulative Worldwide Gross info) -- total Cumulative Worldwide Gross: 141743521, average: 6749691.476190476\n1957 >> total movies 127(110 do not have Cumulative Worldwide Gross info) -- total Cumulative Worldwide Gross: 32396965, average: 1905703.8235294118\n1958 >> total movies 130(111 do not have Cumulative Worldwide Gross info) -- total Cumulative Worldwide Gross: 11463347, average: 603334.052631579\n1959 >> total movies 135(119 do not have Cumulative Worldwide Gross info) -- total Cumulative Worldwide Gross: 130282574, average: 8142660.875\n1960 >> total movies 125(105 do not have Cumulative Worldwide Gross info) -- total Cumulative Worldwide Gross: 98567203, average: 4928360.15\n1961 >> total movies 110(89 do not have Cumulative Worldwide Gross info) -- total Cumulative Worldwide Gross: 295991323, average: 14094824.904761905\n1962 >> total movies 149(123 do not have Cumulative Worldwide Gross info) -- total Cumulative Worldwide Gross: 65711336, average: 2527359.076923077\n1963 >> total movies 129(107 do not have Cumulative Worldwide Gross info) -- total Cumulative Worldwide Gross: 109297304, average: 4968059.2727272725\n1964 >> total movies 152(124 do not have Cumulative Worldwide Gross info) -- total Cumulative Worldwide Gross: 133795374, average: 4778406.214285715\n1965 >> total movies 150(129 do not have Cumulative Worldwide Gross info) -- total Cumulative Worldwide Gross: 502076325, average: 23908396.42857143\n1966 >> total movies 146(135 do not have Cumulative Worldwide Gross info) -- total Cumulative Worldwide Gross: 28400708, average: 2581882.5454545454\n1967 >> total movies 151(128 do not have Cumulative Worldwide Gross info) -- total Cumulative Worldwide Gross: 467057065, average: 20306828.913043477\n1968 >> total movies 199(165 do not have Cumulative Worldwide Gross info) -- total Cumulative Worldwide Gross: 199976096, average: 5881649.882352941\n1969 >> total movies 174(147 do not have Cumulative Worldwide Gross info) -- total Cumulative Worldwide Gross: 278915249, average: 10330194.407407407\n1970 >> total movies 223(184 do not have Cumulative Worldwide Gross info) -- total Cumulative Worldwide Gross: 614309717, average: 15751531.205128206\n1971 >> total movies 215(188 do not have Cumulative Worldwide Gross info) -- total Cumulative Worldwide Gross: 213114218, average: 7893119.185185186\n1972 >> total movies 245(219 do not have Cumulative Worldwide Gross info) -- total Cumulative Worldwide Gross: 457493771, average: 17595914.269230768\n1973 >> total movies 244(216 do not have Cumulative Worldwide Gross info) -- total Cumulative Worldwide Gross: 1025684584, average: 36631592.28571428\n1974 >> total movies 232(194 do not have Cumulative Worldwide Gross info) -- total Cumulative Worldwide Gross: 785526635, average: 20671753.55263158\n1975 >> total movies 220(181 do not have Cumulative Worldwide Gross info) -- total Cumulative Worldwide Gross: 1138114473, average: 29182422.384615384\n1976 >> total movies 236(199 do not have Cumulative Worldwide Gross info) -- total Cumulative Worldwide Gross: 777681254, average: 21018412.27027027\n1977 >> total movies 215(164 do not have Cumulative Worldwide Gross info) -- total Cumulative Worldwide Gross: 2173102702, average: 42609856.90196078\n1978 >> total movies 246(184 do not have Cumulative Worldwide Gross info) -- total Cumulative Worldwide Gross: 2068964509, average: 33370395.30645161\n1979 >> total movies 251(158 do not have Cumulative Worldwide Gross info) -- total Cumulative Worldwide Gross: 2193644828, average: 23587578.795698926\n1980 >> total movies 242(138 do not have Cumulative Worldwide Gross info) -- total Cumulative Worldwide Gross: 2563485216, average: 24648896.307692308\n1981 >> total movies 246(143 do not have Cumulative Worldwide Gross info) -- total Cumulative Worldwide Gross: 2254895330, average: 21892187.669902913\n1982 >> total movies 250(120 do not have Cumulative Worldwide Gross info) -- total Cumulative Worldwide Gross: 3462165966, average: 26632045.89230769\n1983 >> total movies 274(135 do not have Cumulative Worldwide Gross info) -- total Cumulative Worldwide Gross: 2729725472, average: 19638312.748201437\n1984 >> total movies 283(126 do not have Cumulative Worldwide Gross info) -- total Cumulative Worldwide Gross: 3649955611, average: 23248124.910828024\n1985 >> total movies 308(144 do not have Cumulative Worldwide Gross info) -- total Cumulative Worldwide Gross: 3613166986, average: 22031506.01219512\n1986 >> total movies 310(125 do not have Cumulative Worldwide Gross info) -- total Cumulative Worldwide Gross: 3584249048, average: 19374319.178378377\n1987 >> total movies 342(132 do not have Cumulative Worldwide Gross info) -- total Cumulative Worldwide Gross: 4105144823, average: 19548308.68095238\n1988 >> total movies 373(153 do not have Cumulative Worldwide Gross info) -- total Cumulative Worldwide Gross: 4865725251, average: 22116932.95909091\n1989 >> total movies 348(128 do not have Cumulative Worldwide Gross info) -- total Cumulative Worldwide Gross: 5985188967, average: 27205404.395454545\n1990 >> total movies 313(119 do not have Cumulative Worldwide Gross info) -- total Cumulative Worldwide Gross: 7055901592, average: 36370626.7628866\n1991 >> total movies 331(114 do not have Cumulative Worldwide Gross info) -- total Cumulative Worldwide Gross: 6294610685, average: 29007422.511520736\n1992 >> total movies 312(118 do not have Cumulative Worldwide Gross info) -- total Cumulative Worldwide Gross: 7206011254, average: 37144387.9072165\n1993 >> total movies 361(140 do not have Cumulative Worldwide Gross info) -- total Cumulative Worldwide Gross: 7721522963, average: 34939017.93212669\n1994 >> total movies 364(135 do not have Cumulative Worldwide Gross info) -- total Cumulative Worldwide Gross: 9517916203, average: 41562952.851528384\n1995 >> total movies 372(125 do not have Cumulative Worldwide Gross info) -- total Cumulative Worldwide Gross: 9418887712, average: 38133148.631578945\n1996 >> total movies 380(132 do not have Cumulative Worldwide Gross info) -- total Cumulative Worldwide Gross: 10132131032, average: 40855367.06451613\n1997 >> total movies 384(137 do not have Cumulative Worldwide Gross info) -- total Cumulative Worldwide Gross: 13157495729, average: 53269213.47773279\n1998 >> total movies 400(137 do not have Cumulative Worldwide Gross info) -- total Cumulative Worldwide Gross: 10891308752, average: 41411820.349809885\n1999 >> total movies 411(157 do not have Cumulative Worldwide Gross info) -- total Cumulative Worldwide Gross: 14257054840, average: 56130137.165354334\n2000 >> total movies 410(133 do not have Cumulative Worldwide Gross info) -- total Cumulative Worldwide Gross: 13556645912, average: 48940959.971119136\n2001 >> total movies 424(114 do not have Cumulative Worldwide Gross info) -- total Cumulative Worldwide Gross: 15721239495, average: 50713675.79032258\n2002 >> total movies 461(108 do not have Cumulative Worldwide Gross info) -- total Cumulative Worldwide Gross: 17460777746, average: 49463959.6203966\n2003 >> total movies 451(113 do not have Cumulative Worldwide Gross info) -- total Cumulative Worldwide Gross: 19259708788, average: 56981386.94674556\n2004 >> total movies 488(119 do not have Cumulative Worldwide Gross info) -- total Cumulative Worldwide Gross: 19468302712, average: 52759627.945799455\n2005 >> total movies 516(135 do not have Cumulative Worldwide Gross info) -- total Cumulative Worldwide Gross: 19201860243, average: 50398583.31496063\n2006 >> total movies 584(128 do not have Cumulative Worldwide Gross info) -- total Cumulative Worldwide Gross: 20036621913, average: 43939960.33552632\n2007 >> total movies 620(141 do not have Cumulative Worldwide Gross info) -- total Cumulative Worldwide Gross: 23139984958, average: 48308945.63256785\n2008 >> total movies 655(156 do not have Cumulative Worldwide Gross info) -- total Cumulative Worldwide Gross: 22879666158, average: 45851034.38476954\n2009 >> total movies 687(193 do not have Cumulative Worldwide Gross info) -- total Cumulative Worldwide Gross: 26939925379, average: 54534261.90080972\n2010 >> total movies 658(191 do not have Cumulative Worldwide Gross info) -- total Cumulative Worldwide Gross: 25795703563, average: 55237052.59743041\n2011 >> total movies 792(246 do not have Cumulative Worldwide Gross info) -- total Cumulative Worldwide Gross: 26884347432, average: 49238731.56043956\n2012 >> total movies 821(247 do not have Cumulative Worldwide Gross info) -- total Cumulative Worldwide Gross: 28479073131, average: 49615109.98432056\n2013 >> total movies 950(350 do not have Cumulative Worldwide Gross info) -- total Cumulative Worldwide Gross: 29385953865, average: 48976589.775\n2014 >> total movies 1074(394 do not have Cumulative Worldwide Gross info) -- total Cumulative Worldwide Gross: 29438648926, average: 43292130.77352941\n2015 >> total movies 1255(519 do not have Cumulative Worldwide Gross info) -- total Cumulative Worldwide Gross: 32855699915, average: 44640896.623641305\n2016 >> total movies 1346(550 do not have Cumulative Worldwide Gross info) -- total Cumulative Worldwide Gross: 33354563095, average: 41902717.45603015\n2017 >> total movies 1585(729 do not have Cumulative Worldwide Gross info) -- total Cumulative Worldwide Gross: 34894748542, average: 40764893.156542055\n2018 >> total movies 1744(807 do not have Cumulative Worldwide Gross info) -- total Cumulative Worldwide Gross: 34040053709, average: 36328765.96478122\n2019 >> total movies 2137(1053 do not have Cumulative Worldwide Gross info) -- total Cumulative Worldwide Gross: 35411025297, average: 32666997.506457563\n2020 >> total movies 2595(1744 do not have Cumulative Worldwide Gross info) -- total Cumulative Worldwide Gross: 8014124802, average: 9417302.940070506\n2021 >> total movies 1687(1401 do not have Cumulative Worldwide Gross info) -- total Cumulative Worldwide Gross: 3886010382, average: 13587448.888111887\n2022 >> total movies 121(121 do not have Cumulative Worldwide Gross info) -- total Cumulative Worldwide Gross: 0, average: 0\n2023 >> total movies 15(15 do not have Cumulative Worldwide Gross info) -- total Cumulative Worldwide Gross: 0, average: 0\n2024 >> total movies 1(1 do not have Cumulative Worldwide Gross info) -- total Cumulative Worldwide Gross: 0, average: 0\n"
     ]
    }
   ],
   "source": [
    "sum_budget = []\n",
    "avg_budget = []\n",
    "num_movies_arr = []\n",
    "\n",
    "attr_key = 'Cumulative Worldwide Gross'\n",
    "\n",
    "for year in year_movie:\n",
    "    lst = year_movie[year]\n",
    "    num_movies = len(lst)\n",
    "    no_budget = 0\n",
    "    budget = 0\n",
    "    for movie in lst:\n",
    "        try:\n",
    "            budget += getMoney(movie['details'][attr_key][0])\n",
    "        except:\n",
    "            if(attr_key not in movie['details']):\n",
    "                no_budget += 1\n",
    "            else:\n",
    "                print(movie['details'][attr_key])\n",
    "                no_budget += 1\n",
    "    sum_budget.append(budget)\n",
    "    avg = 0\n",
    "    if(num_movies-no_budget != 0):\n",
    "        avg = budget / (num_movies-no_budget)\n",
    "    avg_budget.append(avg)\n",
    "    num_movies_arr.append(num_movies-no_budget)\n",
    "    print(\"{} >> total movies {}({} do not have {} info) -- total {}: {}, average: {}\".format(year, num_movies, no_budget, attr_key, attr_key, budget, avg))  "
   ]
  },
  {
   "cell_type": "code",
   "execution_count": 112,
   "metadata": {},
   "outputs": [
    {
     "output_type": "display_data",
     "data": {
      "application/vnd.plotly.v1+json": {
       "config": {
        "plotlyServerURL": "https://plot.ly"
       },
       "data": [
        {
         "name": "# of movies",
         "type": "bar",
         "x": [
          "1900",
          "1901",
          "1902",
          "1903",
          "1904",
          "1905",
          "1906",
          "1907",
          "1908",
          "1909",
          "1910",
          "1911",
          "1912",
          "1913",
          "1914",
          "1915",
          "1916",
          "1917",
          "1918",
          "1919",
          "1920",
          "1921",
          "1922",
          "1923",
          "1924",
          "1925",
          "1926",
          "1927",
          "1928",
          "1929",
          "1930",
          "1931",
          "1932",
          "1933",
          "1934",
          "1935",
          "1936",
          "1937",
          "1938",
          "1939",
          "1940",
          "1941",
          "1942",
          "1943",
          "1944",
          "1945",
          "1946",
          "1947",
          "1948",
          "1949",
          "1950",
          "1951",
          "1952",
          "1953",
          "1954",
          "1955",
          "1956",
          "1957",
          "1958",
          "1959",
          "1960",
          "1961",
          "1962",
          "1963",
          "1964",
          "1965",
          "1966",
          "1967",
          "1968",
          "1969",
          "1970",
          "1971",
          "1972",
          "1973",
          "1974",
          "1975",
          "1976",
          "1977",
          "1978",
          "1979",
          "1980",
          "1981",
          "1982",
          "1983",
          "1984",
          "1985",
          "1986",
          "1987",
          "1988",
          "1989",
          "1990",
          "1991",
          "1992",
          "1993",
          "1994",
          "1995",
          "1996",
          "1997",
          "1998",
          "1999",
          "2000",
          "2001",
          "2002",
          "2003",
          "2004",
          "2005",
          "2006",
          "2007",
          "2008",
          "2009",
          "2010",
          "2011",
          "2012",
          "2013",
          "2014",
          "2015",
          "2016",
          "2017",
          "2018",
          "2019",
          "2020",
          "2021",
          "2022",
          "2023",
          "2024"
         ],
         "xaxis": "x",
         "y": [
          0,
          0,
          0,
          0,
          0,
          0,
          0,
          0,
          0,
          0,
          0,
          0,
          0,
          0,
          0,
          0,
          0,
          0,
          0,
          0,
          1,
          2,
          2,
          1,
          0,
          4,
          1,
          4,
          5,
          3,
          4,
          4,
          4,
          4,
          4,
          6,
          4,
          4,
          5,
          13,
          9,
          12,
          6,
          5,
          3,
          7,
          13,
          15,
          12,
          12,
          14,
          12,
          13,
          13,
          20,
          20,
          21,
          17,
          19,
          16,
          20,
          21,
          26,
          22,
          28,
          21,
          11,
          23,
          34,
          27,
          39,
          27,
          26,
          28,
          38,
          39,
          37,
          51,
          62,
          93,
          104,
          103,
          130,
          139,
          157,
          164,
          185,
          210,
          220,
          220,
          194,
          217,
          194,
          221,
          229,
          247,
          248,
          247,
          263,
          254,
          277,
          310,
          353,
          338,
          369,
          381,
          456,
          479,
          499,
          494,
          467,
          546,
          574,
          600,
          680,
          736,
          796,
          856,
          937,
          1084,
          851,
          286,
          0,
          0,
          0
         ],
         "yaxis": "y"
        },
        {
         "name": "Revenue",
         "type": "bar",
         "x": [
          "1900",
          "1901",
          "1902",
          "1903",
          "1904",
          "1905",
          "1906",
          "1907",
          "1908",
          "1909",
          "1910",
          "1911",
          "1912",
          "1913",
          "1914",
          "1915",
          "1916",
          "1917",
          "1918",
          "1919",
          "1920",
          "1921",
          "1922",
          "1923",
          "1924",
          "1925",
          "1926",
          "1927",
          "1928",
          "1929",
          "1930",
          "1931",
          "1932",
          "1933",
          "1934",
          "1935",
          "1936",
          "1937",
          "1938",
          "1939",
          "1940",
          "1941",
          "1942",
          "1943",
          "1944",
          "1945",
          "1946",
          "1947",
          "1948",
          "1949",
          "1950",
          "1951",
          "1952",
          "1953",
          "1954",
          "1955",
          "1956",
          "1957",
          "1958",
          "1959",
          "1960",
          "1961",
          "1962",
          "1963",
          "1964",
          "1965",
          "1966",
          "1967",
          "1968",
          "1969",
          "1970",
          "1971",
          "1972",
          "1973",
          "1974",
          "1975",
          "1976",
          "1977",
          "1978",
          "1979",
          "1980",
          "1981",
          "1982",
          "1983",
          "1984",
          "1985",
          "1986",
          "1987",
          "1988",
          "1989",
          "1990",
          "1991",
          "1992",
          "1993",
          "1994",
          "1995",
          "1996",
          "1997",
          "1998",
          "1999",
          "2000",
          "2001",
          "2002",
          "2003",
          "2004",
          "2005",
          "2006",
          "2007",
          "2008",
          "2009",
          "2010",
          "2011",
          "2012",
          "2013",
          "2014",
          "2015",
          "2016",
          "2017",
          "2018",
          "2019",
          "2020",
          "2021",
          "2022",
          "2023",
          "2024"
         ],
         "xaxis": "x2",
         "y": [
          0,
          0,
          0,
          0,
          0,
          0,
          0,
          0,
          0,
          0,
          0,
          0,
          0,
          0,
          0,
          0,
          0,
          0,
          0,
          0,
          8811,
          9210589,
          31210,
          11233,
          0,
          7282305,
          4360000,
          1558919,
          1890756,
          44153,
          68292,
          168404,
          1363336,
          133156,
          4976726,
          4029433,
          1416553,
          25678,
          185011284,
          26284662,
          524440201,
          95945574,
          286961263,
          4470774,
          61186,
          617184,
          68912408,
          51896790,
          20069157,
          23535270,
          101806365,
          14867953,
          38285932,
          147415467,
          71059336,
          95811662,
          141743521,
          32396965,
          11463347,
          130282574,
          98567203,
          295991323,
          65711336,
          109297304,
          133795374,
          502076325,
          28400708,
          467057065,
          199976096,
          278915249,
          614309717,
          213114218,
          457493771,
          1025684584,
          785526635,
          1138114473,
          777681254,
          2173102702,
          2068964509,
          2193644828,
          2563485216,
          2254895330,
          3462165966,
          2729725472,
          3649955611,
          3613166986,
          3584249048,
          4105144823,
          4865725251,
          5985188967,
          7055901592,
          6294610685,
          7206011254,
          7721522963,
          9517916203,
          9418887712,
          10132131032,
          13157495729,
          10891308752,
          14257054840,
          13556645912,
          15721239495,
          17460777746,
          19259708788,
          19468302712,
          19201860243,
          20036621913,
          23139984958,
          22879666158,
          26939925379,
          25795703563,
          26884347432,
          28479073131,
          29385953865,
          29438648926,
          32855699915,
          33354563095,
          34894748542,
          34040053709,
          35411025297,
          8014124802,
          3886010382,
          0,
          0,
          0
         ],
         "yaxis": "y2"
        },
        {
         "name": "Average Revenue",
         "type": "bar",
         "x": [
          "1900",
          "1901",
          "1902",
          "1903",
          "1904",
          "1905",
          "1906",
          "1907",
          "1908",
          "1909",
          "1910",
          "1911",
          "1912",
          "1913",
          "1914",
          "1915",
          "1916",
          "1917",
          "1918",
          "1919",
          "1920",
          "1921",
          "1922",
          "1923",
          "1924",
          "1925",
          "1926",
          "1927",
          "1928",
          "1929",
          "1930",
          "1931",
          "1932",
          "1933",
          "1934",
          "1935",
          "1936",
          "1937",
          "1938",
          "1939",
          "1940",
          "1941",
          "1942",
          "1943",
          "1944",
          "1945",
          "1946",
          "1947",
          "1948",
          "1949",
          "1950",
          "1951",
          "1952",
          "1953",
          "1954",
          "1955",
          "1956",
          "1957",
          "1958",
          "1959",
          "1960",
          "1961",
          "1962",
          "1963",
          "1964",
          "1965",
          "1966",
          "1967",
          "1968",
          "1969",
          "1970",
          "1971",
          "1972",
          "1973",
          "1974",
          "1975",
          "1976",
          "1977",
          "1978",
          "1979",
          "1980",
          "1981",
          "1982",
          "1983",
          "1984",
          "1985",
          "1986",
          "1987",
          "1988",
          "1989",
          "1990",
          "1991",
          "1992",
          "1993",
          "1994",
          "1995",
          "1996",
          "1997",
          "1998",
          "1999",
          "2000",
          "2001",
          "2002",
          "2003",
          "2004",
          "2005",
          "2006",
          "2007",
          "2008",
          "2009",
          "2010",
          "2011",
          "2012",
          "2013",
          "2014",
          "2015",
          "2016",
          "2017",
          "2018",
          "2019",
          "2020",
          "2021",
          "2022",
          "2023",
          "2024"
         ],
         "xaxis": "x3",
         "y": [
          0,
          0,
          0,
          0,
          0,
          0,
          0,
          0,
          0,
          0,
          0,
          0,
          0,
          0,
          0,
          0,
          0,
          0,
          0,
          0,
          8811,
          4605294.5,
          15605,
          11233,
          0,
          1820576.25,
          4360000,
          389729.75,
          378151.2,
          14717.666666666666,
          17073,
          42101,
          340834,
          33289,
          1244181.5,
          671572.1666666666,
          354138.25,
          6419.5,
          37002256.8,
          2021897.076923077,
          58271133.44444445,
          7995464.5,
          47826877.166666664,
          894154.8,
          20395.333333333332,
          88169.14285714286,
          5300954.461538462,
          3459786,
          1672429.75,
          1961272.5,
          7271883.214285715,
          1238996.0833333333,
          2945071.6923076925,
          11339651.307692308,
          3552966.8,
          4790583.1,
          6749691.476190476,
          1905703.8235294118,
          603334.052631579,
          8142660.875,
          4928360.15,
          14094824.904761905,
          2527359.076923077,
          4968059.2727272725,
          4778406.214285715,
          23908396.42857143,
          2581882.5454545454,
          20306828.913043477,
          5881649.882352941,
          10330194.407407407,
          15751531.205128206,
          7893119.185185186,
          17595914.269230768,
          36631592.28571428,
          20671753.55263158,
          29182422.384615384,
          21018412.27027027,
          42609856.90196078,
          33370395.30645161,
          23587578.795698926,
          24648896.307692308,
          21892187.669902913,
          26632045.89230769,
          19638312.748201437,
          23248124.910828024,
          22031506.01219512,
          19374319.178378377,
          19548308.68095238,
          22116932.95909091,
          27205404.395454545,
          36370626.7628866,
          29007422.511520736,
          37144387.9072165,
          34939017.93212669,
          41562952.851528384,
          38133148.631578945,
          40855367.06451613,
          53269213.47773279,
          41411820.349809885,
          56130137.165354334,
          48940959.971119136,
          50713675.79032258,
          49463959.6203966,
          56981386.94674556,
          52759627.945799455,
          50398583.31496063,
          43939960.33552632,
          48308945.63256785,
          45851034.38476954,
          54534261.90080972,
          55237052.59743041,
          49238731.56043956,
          49615109.98432056,
          48976589.775,
          43292130.77352941,
          44640896.623641305,
          41902717.45603015,
          40764893.156542055,
          36328765.96478122,
          32666997.506457563,
          9417302.940070506,
          13587448.888111887,
          0,
          0,
          0
         ],
         "yaxis": "y3"
        }
       ],
       "layout": {
        "height": 900,
        "template": {
         "data": {
          "bar": [
           {
            "error_x": {
             "color": "#2a3f5f"
            },
            "error_y": {
             "color": "#2a3f5f"
            },
            "marker": {
             "line": {
              "color": "#E5ECF6",
              "width": 0.5
             }
            },
            "type": "bar"
           }
          ],
          "barpolar": [
           {
            "marker": {
             "line": {
              "color": "#E5ECF6",
              "width": 0.5
             }
            },
            "type": "barpolar"
           }
          ],
          "carpet": [
           {
            "aaxis": {
             "endlinecolor": "#2a3f5f",
             "gridcolor": "white",
             "linecolor": "white",
             "minorgridcolor": "white",
             "startlinecolor": "#2a3f5f"
            },
            "baxis": {
             "endlinecolor": "#2a3f5f",
             "gridcolor": "white",
             "linecolor": "white",
             "minorgridcolor": "white",
             "startlinecolor": "#2a3f5f"
            },
            "type": "carpet"
           }
          ],
          "choropleth": [
           {
            "colorbar": {
             "outlinewidth": 0,
             "ticks": ""
            },
            "type": "choropleth"
           }
          ],
          "contour": [
           {
            "colorbar": {
             "outlinewidth": 0,
             "ticks": ""
            },
            "colorscale": [
             [
              0,
              "#0d0887"
             ],
             [
              0.1111111111111111,
              "#46039f"
             ],
             [
              0.2222222222222222,
              "#7201a8"
             ],
             [
              0.3333333333333333,
              "#9c179e"
             ],
             [
              0.4444444444444444,
              "#bd3786"
             ],
             [
              0.5555555555555556,
              "#d8576b"
             ],
             [
              0.6666666666666666,
              "#ed7953"
             ],
             [
              0.7777777777777778,
              "#fb9f3a"
             ],
             [
              0.8888888888888888,
              "#fdca26"
             ],
             [
              1,
              "#f0f921"
             ]
            ],
            "type": "contour"
           }
          ],
          "contourcarpet": [
           {
            "colorbar": {
             "outlinewidth": 0,
             "ticks": ""
            },
            "type": "contourcarpet"
           }
          ],
          "heatmap": [
           {
            "colorbar": {
             "outlinewidth": 0,
             "ticks": ""
            },
            "colorscale": [
             [
              0,
              "#0d0887"
             ],
             [
              0.1111111111111111,
              "#46039f"
             ],
             [
              0.2222222222222222,
              "#7201a8"
             ],
             [
              0.3333333333333333,
              "#9c179e"
             ],
             [
              0.4444444444444444,
              "#bd3786"
             ],
             [
              0.5555555555555556,
              "#d8576b"
             ],
             [
              0.6666666666666666,
              "#ed7953"
             ],
             [
              0.7777777777777778,
              "#fb9f3a"
             ],
             [
              0.8888888888888888,
              "#fdca26"
             ],
             [
              1,
              "#f0f921"
             ]
            ],
            "type": "heatmap"
           }
          ],
          "heatmapgl": [
           {
            "colorbar": {
             "outlinewidth": 0,
             "ticks": ""
            },
            "colorscale": [
             [
              0,
              "#0d0887"
             ],
             [
              0.1111111111111111,
              "#46039f"
             ],
             [
              0.2222222222222222,
              "#7201a8"
             ],
             [
              0.3333333333333333,
              "#9c179e"
             ],
             [
              0.4444444444444444,
              "#bd3786"
             ],
             [
              0.5555555555555556,
              "#d8576b"
             ],
             [
              0.6666666666666666,
              "#ed7953"
             ],
             [
              0.7777777777777778,
              "#fb9f3a"
             ],
             [
              0.8888888888888888,
              "#fdca26"
             ],
             [
              1,
              "#f0f921"
             ]
            ],
            "type": "heatmapgl"
           }
          ],
          "histogram": [
           {
            "marker": {
             "colorbar": {
              "outlinewidth": 0,
              "ticks": ""
             }
            },
            "type": "histogram"
           }
          ],
          "histogram2d": [
           {
            "colorbar": {
             "outlinewidth": 0,
             "ticks": ""
            },
            "colorscale": [
             [
              0,
              "#0d0887"
             ],
             [
              0.1111111111111111,
              "#46039f"
             ],
             [
              0.2222222222222222,
              "#7201a8"
             ],
             [
              0.3333333333333333,
              "#9c179e"
             ],
             [
              0.4444444444444444,
              "#bd3786"
             ],
             [
              0.5555555555555556,
              "#d8576b"
             ],
             [
              0.6666666666666666,
              "#ed7953"
             ],
             [
              0.7777777777777778,
              "#fb9f3a"
             ],
             [
              0.8888888888888888,
              "#fdca26"
             ],
             [
              1,
              "#f0f921"
             ]
            ],
            "type": "histogram2d"
           }
          ],
          "histogram2dcontour": [
           {
            "colorbar": {
             "outlinewidth": 0,
             "ticks": ""
            },
            "colorscale": [
             [
              0,
              "#0d0887"
             ],
             [
              0.1111111111111111,
              "#46039f"
             ],
             [
              0.2222222222222222,
              "#7201a8"
             ],
             [
              0.3333333333333333,
              "#9c179e"
             ],
             [
              0.4444444444444444,
              "#bd3786"
             ],
             [
              0.5555555555555556,
              "#d8576b"
             ],
             [
              0.6666666666666666,
              "#ed7953"
             ],
             [
              0.7777777777777778,
              "#fb9f3a"
             ],
             [
              0.8888888888888888,
              "#fdca26"
             ],
             [
              1,
              "#f0f921"
             ]
            ],
            "type": "histogram2dcontour"
           }
          ],
          "mesh3d": [
           {
            "colorbar": {
             "outlinewidth": 0,
             "ticks": ""
            },
            "type": "mesh3d"
           }
          ],
          "parcoords": [
           {
            "line": {
             "colorbar": {
              "outlinewidth": 0,
              "ticks": ""
             }
            },
            "type": "parcoords"
           }
          ],
          "pie": [
           {
            "automargin": true,
            "type": "pie"
           }
          ],
          "scatter": [
           {
            "marker": {
             "colorbar": {
              "outlinewidth": 0,
              "ticks": ""
             }
            },
            "type": "scatter"
           }
          ],
          "scatter3d": [
           {
            "line": {
             "colorbar": {
              "outlinewidth": 0,
              "ticks": ""
             }
            },
            "marker": {
             "colorbar": {
              "outlinewidth": 0,
              "ticks": ""
             }
            },
            "type": "scatter3d"
           }
          ],
          "scattercarpet": [
           {
            "marker": {
             "colorbar": {
              "outlinewidth": 0,
              "ticks": ""
             }
            },
            "type": "scattercarpet"
           }
          ],
          "scattergeo": [
           {
            "marker": {
             "colorbar": {
              "outlinewidth": 0,
              "ticks": ""
             }
            },
            "type": "scattergeo"
           }
          ],
          "scattergl": [
           {
            "marker": {
             "colorbar": {
              "outlinewidth": 0,
              "ticks": ""
             }
            },
            "type": "scattergl"
           }
          ],
          "scattermapbox": [
           {
            "marker": {
             "colorbar": {
              "outlinewidth": 0,
              "ticks": ""
             }
            },
            "type": "scattermapbox"
           }
          ],
          "scatterpolar": [
           {
            "marker": {
             "colorbar": {
              "outlinewidth": 0,
              "ticks": ""
             }
            },
            "type": "scatterpolar"
           }
          ],
          "scatterpolargl": [
           {
            "marker": {
             "colorbar": {
              "outlinewidth": 0,
              "ticks": ""
             }
            },
            "type": "scatterpolargl"
           }
          ],
          "scatterternary": [
           {
            "marker": {
             "colorbar": {
              "outlinewidth": 0,
              "ticks": ""
             }
            },
            "type": "scatterternary"
           }
          ],
          "surface": [
           {
            "colorbar": {
             "outlinewidth": 0,
             "ticks": ""
            },
            "colorscale": [
             [
              0,
              "#0d0887"
             ],
             [
              0.1111111111111111,
              "#46039f"
             ],
             [
              0.2222222222222222,
              "#7201a8"
             ],
             [
              0.3333333333333333,
              "#9c179e"
             ],
             [
              0.4444444444444444,
              "#bd3786"
             ],
             [
              0.5555555555555556,
              "#d8576b"
             ],
             [
              0.6666666666666666,
              "#ed7953"
             ],
             [
              0.7777777777777778,
              "#fb9f3a"
             ],
             [
              0.8888888888888888,
              "#fdca26"
             ],
             [
              1,
              "#f0f921"
             ]
            ],
            "type": "surface"
           }
          ],
          "table": [
           {
            "cells": {
             "fill": {
              "color": "#EBF0F8"
             },
             "line": {
              "color": "white"
             }
            },
            "header": {
             "fill": {
              "color": "#C8D4E3"
             },
             "line": {
              "color": "white"
             }
            },
            "type": "table"
           }
          ]
         },
         "layout": {
          "annotationdefaults": {
           "arrowcolor": "#2a3f5f",
           "arrowhead": 0,
           "arrowwidth": 1
          },
          "autotypenumbers": "strict",
          "coloraxis": {
           "colorbar": {
            "outlinewidth": 0,
            "ticks": ""
           }
          },
          "colorscale": {
           "diverging": [
            [
             0,
             "#8e0152"
            ],
            [
             0.1,
             "#c51b7d"
            ],
            [
             0.2,
             "#de77ae"
            ],
            [
             0.3,
             "#f1b6da"
            ],
            [
             0.4,
             "#fde0ef"
            ],
            [
             0.5,
             "#f7f7f7"
            ],
            [
             0.6,
             "#e6f5d0"
            ],
            [
             0.7,
             "#b8e186"
            ],
            [
             0.8,
             "#7fbc41"
            ],
            [
             0.9,
             "#4d9221"
            ],
            [
             1,
             "#276419"
            ]
           ],
           "sequential": [
            [
             0,
             "#0d0887"
            ],
            [
             0.1111111111111111,
             "#46039f"
            ],
            [
             0.2222222222222222,
             "#7201a8"
            ],
            [
             0.3333333333333333,
             "#9c179e"
            ],
            [
             0.4444444444444444,
             "#bd3786"
            ],
            [
             0.5555555555555556,
             "#d8576b"
            ],
            [
             0.6666666666666666,
             "#ed7953"
            ],
            [
             0.7777777777777778,
             "#fb9f3a"
            ],
            [
             0.8888888888888888,
             "#fdca26"
            ],
            [
             1,
             "#f0f921"
            ]
           ],
           "sequentialminus": [
            [
             0,
             "#0d0887"
            ],
            [
             0.1111111111111111,
             "#46039f"
            ],
            [
             0.2222222222222222,
             "#7201a8"
            ],
            [
             0.3333333333333333,
             "#9c179e"
            ],
            [
             0.4444444444444444,
             "#bd3786"
            ],
            [
             0.5555555555555556,
             "#d8576b"
            ],
            [
             0.6666666666666666,
             "#ed7953"
            ],
            [
             0.7777777777777778,
             "#fb9f3a"
            ],
            [
             0.8888888888888888,
             "#fdca26"
            ],
            [
             1,
             "#f0f921"
            ]
           ]
          },
          "colorway": [
           "#636efa",
           "#EF553B",
           "#00cc96",
           "#ab63fa",
           "#FFA15A",
           "#19d3f3",
           "#FF6692",
           "#B6E880",
           "#FF97FF",
           "#FECB52"
          ],
          "font": {
           "color": "#2a3f5f"
          },
          "geo": {
           "bgcolor": "white",
           "lakecolor": "white",
           "landcolor": "#E5ECF6",
           "showlakes": true,
           "showland": true,
           "subunitcolor": "white"
          },
          "hoverlabel": {
           "align": "left"
          },
          "hovermode": "closest",
          "mapbox": {
           "style": "light"
          },
          "paper_bgcolor": "white",
          "plot_bgcolor": "#E5ECF6",
          "polar": {
           "angularaxis": {
            "gridcolor": "white",
            "linecolor": "white",
            "ticks": ""
           },
           "bgcolor": "#E5ECF6",
           "radialaxis": {
            "gridcolor": "white",
            "linecolor": "white",
            "ticks": ""
           }
          },
          "scene": {
           "xaxis": {
            "backgroundcolor": "#E5ECF6",
            "gridcolor": "white",
            "gridwidth": 2,
            "linecolor": "white",
            "showbackground": true,
            "ticks": "",
            "zerolinecolor": "white"
           },
           "yaxis": {
            "backgroundcolor": "#E5ECF6",
            "gridcolor": "white",
            "gridwidth": 2,
            "linecolor": "white",
            "showbackground": true,
            "ticks": "",
            "zerolinecolor": "white"
           },
           "zaxis": {
            "backgroundcolor": "#E5ECF6",
            "gridcolor": "white",
            "gridwidth": 2,
            "linecolor": "white",
            "showbackground": true,
            "ticks": "",
            "zerolinecolor": "white"
           }
          },
          "shapedefaults": {
           "line": {
            "color": "#2a3f5f"
           }
          },
          "ternary": {
           "aaxis": {
            "gridcolor": "white",
            "linecolor": "white",
            "ticks": ""
           },
           "baxis": {
            "gridcolor": "white",
            "linecolor": "white",
            "ticks": ""
           },
           "bgcolor": "#E5ECF6",
           "caxis": {
            "gridcolor": "white",
            "linecolor": "white",
            "ticks": ""
           }
          },
          "title": {
           "x": 0.05
          },
          "xaxis": {
           "automargin": true,
           "gridcolor": "white",
           "linecolor": "white",
           "ticks": "",
           "title": {
            "standoff": 15
           },
           "zerolinecolor": "white",
           "zerolinewidth": 2
          },
          "yaxis": {
           "automargin": true,
           "gridcolor": "white",
           "linecolor": "white",
           "ticks": "",
           "title": {
            "standoff": 15
           },
           "zerolinecolor": "white",
           "zerolinewidth": 2
          }
         }
        },
        "title": {
         "text": "Movie yearwise revenue"
        },
        "width": 1200,
        "xaxis": {
         "anchor": "y",
         "domain": [
          0,
          1
         ]
        },
        "xaxis2": {
         "anchor": "y2",
         "domain": [
          0,
          1
         ]
        },
        "xaxis3": {
         "anchor": "y3",
         "domain": [
          0,
          1
         ]
        },
        "yaxis": {
         "anchor": "x",
         "domain": [
          0.7333333333333333,
          1
         ]
        },
        "yaxis2": {
         "anchor": "x2",
         "domain": [
          0.36666666666666664,
          0.6333333333333333
         ]
        },
        "yaxis3": {
         "anchor": "x3",
         "domain": [
          0,
          0.26666666666666666
         ]
        }
       }
      }
     },
     "metadata": {}
    }
   ],
   "source": [
    "num_row, num_col = 3, 1\n",
    "fig = make_subplots(rows=num_row, cols=num_col)\n",
    "\n",
    "fig.add_trace(\n",
    "    go.Bar(x=years, y=num_movies_arr, name=\"# of movies\"),\n",
    "    1, 1\n",
    ")\n",
    "\n",
    "fig.add_trace(\n",
    "    go.Bar(x=years, y=sum_budget, name=\"Revenue\"),\n",
    "    2, 1\n",
    ")\n",
    "\n",
    "fig.add_trace(\n",
    "    go.Bar(x=years, y=avg_budget, name=\"Average Revenue\"),\n",
    "    3, 1\n",
    ")\n",
    "\n",
    "fig.update_layout(\n",
    "    height=900, \n",
    "    width=1200,\n",
    "    title_text=\"Movie yearwise revenue\"\n",
    ")"
   ]
  },
  {
   "cell_type": "code",
   "execution_count": null,
   "metadata": {},
   "outputs": [],
   "source": []
  }
 ],
 "metadata": {
  "kernelspec": {
   "name": "python3710jvsc74a57bd0675abc6ed7102a3882be767b904c0764594f0d349dbaa39bdd7921b9b43ead8b",
   "display_name": "Python 3.7.10 64-bit ('covid': conda)"
  },
  "language_info": {
   "codemirror_mode": {
    "name": "ipython",
    "version": 3
   },
   "file_extension": ".py",
   "mimetype": "text/x-python",
   "name": "python",
   "nbconvert_exporter": "python",
   "pygments_lexer": "ipython3",
   "version": "3.7.10"
  }
 },
 "nbformat": 4,
 "nbformat_minor": 5
}