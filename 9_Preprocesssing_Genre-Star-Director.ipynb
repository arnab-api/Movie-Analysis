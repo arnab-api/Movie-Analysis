{
 "metadata": {
  "language_info": {
   "codemirror_mode": {
    "name": "ipython",
    "version": 3
   },
   "file_extension": ".py",
   "mimetype": "text/x-python",
   "name": "python",
   "nbconvert_exporter": "python",
   "pygments_lexer": "ipython3",
   "version": "3.7.9"
  },
  "orig_nbformat": 2,
  "kernelspec": {
   "name": "python379jvsc74a57bd06e81d77af03ce5c2f322ee28133a80996b3da90d809d78ecf9dd16de6b5482d3",
   "display_name": "Python 3.7.9 64-bit ('ml': conda)"
  },
  "metadata": {
   "interpreter": {
    "hash": "916dbcbb3f70747c44a77c7bcd40155683ae19c65e1c03b4aa3499c5328201f1"
   }
  }
 },
 "nbformat": 4,
 "nbformat_minor": 2,
 "cells": [
  {
   "cell_type": "code",
   "execution_count": 46,
   "metadata": {},
   "outputs": [],
   "source": [
    "import os\n",
    "import json\n",
    "import plotly.graph_objects as go\n",
    "from plotly.subplots import make_subplots\n",
    "# import cpi\n",
    "import pymongo\n",
    "from tqdm import tqdm\n",
    "from scipy import stats\n",
    "import math\n",
    "import numpy as np\n",
    "import pandas as pd\n",
    "import json"
   ]
  },
  {
   "cell_type": "code",
   "execution_count": 2,
   "metadata": {},
   "outputs": [],
   "source": [
    "myclient = pymongo.MongoClient(\"mongodb://localhost:27017/\")\n",
    "db = myclient[\"imdb\"]\n",
    "imdb = db['imdb_cleaned']"
   ]
  },
  {
   "cell_type": "code",
   "execution_count": 3,
   "metadata": {},
   "outputs": [
    {
     "output_type": "execute_result",
     "data": {
      "text/plain": [
       "8181"
      ]
     },
     "metadata": {},
     "execution_count": 3
    }
   ],
   "source": [
    "num_movies = imdb.count_documents({})\n",
    "num_movies"
   ]
  },
  {
   "cell_type": "code",
   "execution_count": 4,
   "metadata": {},
   "outputs": [],
   "source": [
    "def getMovie(imdb_id):\n",
    "    for x in imdb.find({'imdb_id': imdb_id}):\n",
    "        return x\n",
    "    return None"
   ]
  },
  {
   "cell_type": "code",
   "execution_count": 260,
   "metadata": {},
   "outputs": [
    {
     "output_type": "execute_result",
     "data": {
      "text/plain": [
       "{'_id': ObjectId('60a66671ef235d48e48a2710'),\n",
       " '@context': 'http://schema.org',\n",
       " '@type': 'Movie',\n",
       " 'url': '/title/tt2406422/',\n",
       " 'name': 'Walking the Camino: Six Ways to Santiago',\n",
       " 'image': 'https://m.media-amazon.com/images/M/MV5BMTU4ODIyNTc4Ml5BMl5BanBnXkFtZTgwMTg0ODM3MDE@._V1_.jpg',\n",
       " 'genre': 'Documentary',\n",
       " 'contentRating': 'Not Rated',\n",
       " 'actor': [{'@type': 'Person',\n",
       "   'url': '/name/nm12387145/',\n",
       "   'name': \"Annie O'Neil\"},\n",
       "  {'@type': 'Person', 'url': '/name/nm12387146/', 'name': 'Anna-Marie Misser'},\n",
       "  {'@type': 'Person', 'url': '/name/nm12387147/', 'name': 'Tomas Moreno'},\n",
       "  {'@type': 'Person', 'url': '/name/nm8681670/', 'name': 'Wayne Emde'}],\n",
       " 'director': {'@type': 'Person',\n",
       "  'url': '/name/nm0809166/',\n",
       "  'name': 'Lydia B. Smith'},\n",
       " 'description': \"Walking the Camino: Six Ways to Santiago is a movie starring Annie O'Neil, Anna-Marie Misser, and Tomas Moreno. A profile of six pilgrims taking the Camino De Santiago pilgrimage.\",\n",
       " 'datePublished': '2013-02-27',\n",
       " 'keywords': 'pilgrim,walking,church,hike,spain',\n",
       " 'aggregateRating': {'@type': 'AggregateRating',\n",
       "  'ratingCount': 297,\n",
       "  'bestRating': '10.0',\n",
       "  'worstRating': '1.0',\n",
       "  'ratingValue': '7.2'},\n",
       " 'review': {'@type': 'Review',\n",
       "  'itemReviewed': {'@type': 'CreativeWork', 'url': '/title/tt2406422/'},\n",
       "  'author': {'@type': 'Person', 'name': 'clarkj-565-161336'},\n",
       "  'dateCreated': '2014-09-26',\n",
       "  'inLanguage': 'English',\n",
       "  'name': 'Faith for The Future',\n",
       "  'reviewBody': 'Nowadays we are constantly bombarded by disaster, horror and destruction on a daily basis. When I left the theatre after viewing \"Walking the Camino\" I was totally relaxed and felt that there was a greater purpose to life. As often happens to me, I had just finished reading a book by Paulo Coelho called \"The Pilgrimage\" where he describes his experiences on the trek to Santiago de Compostela. He had some pretty momentous stories to tell, so naturally I was extremely interested to find out that others have been doing this walk and also that a movie had been made about it.\\n\\nWhat makes the movie work for me was that we follow the trek of various couples and individuals from all sorts of different ages, countries of origin and occupations. Without exception, they all seem to experience trans-formative events along their journey and are far more in tune with themselves and the world at the end of the journey. The excessive walking and exercise seems to clean out their system from physical and emotional junk and allows them to appreciate the world that exists right in front of them on a NOW basis. Filming the end of the walk must have been really tough for the film maker, because all the subjects were so emotional about what they had been through and experienced.',\n",
       "  'reviewRating': {'@type': 'Rating',\n",
       "   'worstRating': '1',\n",
       "   'bestRating': '10',\n",
       "   'ratingValue': '8'}},\n",
       " 'duration': 'PT1H24M',\n",
       " 'trailer': {'@type': 'VideoObject',\n",
       "  'name': 'Official Trailer',\n",
       "  'embedUrl': '/video/imdb/vi2878652697',\n",
       "  'thumbnail': {'@type': 'ImageObject',\n",
       "   'contentUrl': 'https://m.media-amazon.com/images/M/MV5BZGZlNDg1ZWEtODI1OS00N2Y1LWE1ODMtNWYxNmYwNjUzNjJmXkEyXkFqcGdeQXRyYW5zY29kZS13b3JrZmxvdw@@._V1_.jpg'},\n",
       "  'thumbnailUrl': 'https://m.media-amazon.com/images/M/MV5BZGZlNDg1ZWEtODI1OS00N2Y1LWE1ODMtNWYxNmYwNjUzNjJmXkEyXkFqcGdeQXRyYW5zY29kZS13b3JrZmxvdw@@._V1_.jpg',\n",
       "  'description': 'A profile of six pilgrims taking the Camino De Santiago pilgrimage.',\n",
       "  'uploadDate': '2020-09-28T10:33:33Z'},\n",
       " 'cast_and_character': [{'actor': {'@type': 'Person',\n",
       "    'url': '/name/nm12387145/?ref_=tt_cl_t1',\n",
       "    'name': \"Annie O'Neil\"},\n",
       "   'character_and_episodes': [{'url': '/title/tt2406422/characters/nm12387145?ref_=tt_cl_t1',\n",
       "     'name': 'Pilgrim'}]},\n",
       "  {'actor': {'@type': 'Person',\n",
       "    'url': '/name/nm12387147/?ref_=tt_cl_t3',\n",
       "    'name': 'Tomas Moreno'},\n",
       "   'character_and_episodes': [{'url': '/title/tt2406422/characters/nm12387147?ref_=tt_cl_t3',\n",
       "     'name': 'Pilgrim'}]},\n",
       "  {'actor': {'@type': 'Person',\n",
       "    'url': '/name/nm12387148/?ref_=tt_cl_t5',\n",
       "    'name': 'Samantha Gilbert'},\n",
       "   'character_and_episodes': [{'url': '/title/tt2406422/characters/nm12387148?ref_=tt_cl_t5',\n",
       "     'name': 'Pilgrim'}]},\n",
       "  {'actor': {'@type': 'Person',\n",
       "    'url': '/name/nm12387146/?ref_=tt_cl_t2',\n",
       "    'name': 'Anna-Marie Misser'},\n",
       "   'character_and_episodes': [{'url': '/title/tt2406422/characters/nm12387146?ref_=tt_cl_t2',\n",
       "     'name': 'Pilgrim'}]},\n",
       "  {'actor': {'@type': 'Person',\n",
       "    'url': '/name/nm8681670/?ref_=tt_cl_t4',\n",
       "    'name': 'Wayne Emde'},\n",
       "   'character_and_episodes': [{'url': '/title/tt2406422/characters/nm8681670?ref_=tt_cl_t4',\n",
       "     'name': 'Pilgrim'}]},\n",
       "  {'actor': {'@type': 'Person',\n",
       "    'url': '/name/nm12387149/?ref_=tt_cl_t6',\n",
       "    'name': 'Tatiana Jacquot'},\n",
       "   'character_and_episodes': [{'url': '/title/tt2406422/characters/nm12387149?ref_=tt_cl_t6',\n",
       "     'name': 'Pilgrim'}]}],\n",
       " 'details': {'Country': ['USA'],\n",
       "  'Language': ['English', 'Spanish'],\n",
       "  'Release Date': ['27 February 2013 (USA)'],\n",
       "  'Also Known As': ['Walking the Camino: Six Ways to Santiago'],\n",
       "  'Filming Locations': ['Spain'],\n",
       "  'Budget': ['$375,000', '(estimated)'],\n",
       "  'Gross USA': ['$612,717'],\n",
       "  'Cumulative Worldwide Gross': ['$1,128,878'],\n",
       "  'Runtime': ['84 min', '53 min', '(TV)'],\n",
       "  'Sound Mix': ['Stereo', 'Dolby Digital'],\n",
       "  'Aspect Ratio': ['16:9 HD']},\n",
       " 'imdb_id': 'tt2406422',\n",
       " 'cleaned_month': 'February',\n",
       " 'cleaned_year': '2013',\n",
       " 'cleaned_contentRating': 'Not Rated',\n",
       " 'cleaned_Runtime_min': 84,\n",
       " 'cleaned_Budget': 416618,\n",
       " 'cleaned_Revenue': 1254162}"
      ]
     },
     "metadata": {},
     "execution_count": 260
    }
   ],
   "source": [
    "# test_movie = getMovie('tt0371746') # \n",
    "test_movie = getMovie('tt2406422')\n",
    "test_movie"
   ]
  },
  {
   "cell_type": "code",
   "execution_count": 333,
   "metadata": {},
   "outputs": [],
   "source": [
    "def getInformation(movie):\n",
    "    year                = movie['cleaned_year']\n",
    "    rating              = movie['aggregateRating']['ratingValue']\n",
    "    num_rating_givers   = movie['aggregateRating']['ratingCount']\n",
    "    revenue             = movie['cleaned_Revenue']\n",
    "    budget              = movie['cleaned_Budget']\n",
    "    # opening_weekend     = movie['details']['Opening Weekend USA'][0]\n",
    "    # return year, float(rating), int(num_rating_givers), revenue, budget\n",
    "    return {\n",
    "        'movie_id'  : movie['imdb_id'],\n",
    "        'year'      : int(year),\n",
    "        'rating'    : float(rating),\n",
    "        'num_raters': int(num_rating_givers),\n",
    "        'revenue'   : revenue,\n",
    "        'budget'    : budget\n",
    "    }"
   ]
  },
  {
   "cell_type": "code",
   "execution_count": 334,
   "metadata": {},
   "outputs": [
    {
     "output_type": "execute_result",
     "data": {
      "text/plain": [
       "{'movie_id': 'tt2406422',\n",
       " 'year': 2013,\n",
       " 'rating': 7.2,\n",
       " 'num_raters': 297,\n",
       " 'revenue': 1254162,\n",
       " 'budget': 416618}"
      ]
     },
     "metadata": {},
     "execution_count": 334
    }
   ],
   "source": [
    "getInformation(test_movie)"
   ]
  },
  {
   "cell_type": "code",
   "execution_count": 335,
   "metadata": {},
   "outputs": [],
   "source": [
    "def updateDict(dct, info):\n",
    "    # print(json.dumps(dct, indent=2))\n",
    "    # print(dct[2008])\n",
    "    dct[info['year']]['num_movies']         += 1\n",
    "    dct[info['year']]['sum_rating']         += info['rating']\n",
    "    dct[info['year']]['num_rating_givers']  += info['num_raters']\n",
    "    dct[info['year']]['sum_revenue']        += info['revenue']\n",
    "    dct[info['year']]['sum_budget']         += info['budget']"
   ]
  },
  {
   "cell_type": "code",
   "execution_count": 336,
   "metadata": {},
   "outputs": [],
   "source": [
    "def getEntityID(entity):\n",
    "    # print(entity)\n",
    "    id = entity['url'].split('?')[0].split('/')[-2]\n",
    "    return id"
   ]
  },
  {
   "cell_type": "code",
   "execution_count": 337,
   "metadata": {},
   "outputs": [],
   "source": [
    "entity = {'@type': 'Person', 'url': '/name/nm0905579/', 'name': 'Michael Wadleigh'}"
   ]
  },
  {
   "cell_type": "code",
   "execution_count": 338,
   "metadata": {},
   "outputs": [
    {
     "output_type": "execute_result",
     "data": {
      "text/plain": [
       "'nm0905579'"
      ]
     },
     "metadata": {},
     "execution_count": 338
    }
   ],
   "source": [
    "getEntityID(entity)"
   ]
  },
  {
   "cell_type": "code",
   "execution_count": 339,
   "metadata": {},
   "outputs": [],
   "source": [
    "genre_features      = {}\n",
    "star_features       = {}\n",
    "director_features   = {}\n",
    "prod_co_features  = {}\n",
    "creator_features    = {}\n",
    "\n",
    "def addEntityToFeatureDictionary(entity_id, entity_info, feature_dict):\n",
    "    if(entity_id not in feature_dict):\n",
    "        features = [\"num_movies\", \"sum_rating\", \"sum_revenue\", \"sum_budget\", \"num_rating_givers\"] #\"sum_opening_weekend\", \"num_opening_weekend\"#]\n",
    "        feature_dict[entity_id] = entity_info\n",
    "        feature_dict[entity_id][\"year-wise-performance\"] = {}\n",
    "        for year in range(1967, 2021):\n",
    "        # for year in range(2014, 2015):\n",
    "            feature_dict[entity_id][\"year-wise-performance\"][year] = {}\n",
    "            for f in features:\n",
    "                feature_dict[entity_id][\"year-wise-performance\"][year][f] = 0\n",
    "        feature_dict[entity_id]['movie_arr'] = []\n",
    "    # return feature_dict    "
   ]
  },
  {
   "cell_type": "code",
   "execution_count": 340,
   "metadata": {},
   "outputs": [],
   "source": [
    "def processMovie(movie, printLog=False):\n",
    "    info = getInformation(movie)\n",
    "    \n",
    "    # genre\n",
    "    genre = movie['genre']\n",
    "    for g in genre:\n",
    "        if(g not in genre_features):\n",
    "            addEntityToFeatureDictionary(g, {'name': g}, genre_features)\n",
    "        genre_features[g]['movie_arr'].append(info['movie_id'])\n",
    "        updateDict(genre_features[g][\"year-wise-performance\"], info)\n",
    "\n",
    "    # cast\n",
    "    cast_ensamble = movie['cast_and_character']\n",
    "    if(type(cast_ensamble) is not list):\n",
    "        if(printLog == True):\n",
    "            print(movie['imdb_id'], cast_ensamble)\n",
    "    else:\n",
    "        for cast in cast_ensamble:\n",
    "            star = cast['actor']\n",
    "            star_id = getEntityID(star)\n",
    "            if(star_id not in star_features):\n",
    "                addEntityToFeatureDictionary(star_id, star, star_features)\n",
    "            star_features[star_id]['movie_arr'].append(info['movie_id'])\n",
    "            updateDict(star_features[star_id]['year-wise-performance'], info)\n",
    "\n",
    "    # directors\n",
    "    directors = movie['director']\n",
    "    if(type(directors) is not list):\n",
    "        directors = [directors]\n",
    "    for dr in directors:\n",
    "        dr_id = getEntityID(dr)\n",
    "        if(dr_id not in director_features):\n",
    "            addEntityToFeatureDictionary(dr_id, dr, director_features)\n",
    "        updateDict(director_features[dr_id]['year-wise-performance'], info)\n",
    "\n",
    "    # creator\n",
    "    if('creator' not in movie):\n",
    "        if(printLog == True):\n",
    "            print(movie['imdb_id'], 'error loading creator information')\n",
    "    else:\n",
    "        creators = movie['creator']\n",
    "        if(type(creators) is not list):\n",
    "            creators = [creators]\n",
    "        for cr in creators:\n",
    "            # print(cr)\n",
    "            cr_id = getEntityID(cr)\n",
    "            if(cr_id not in creator_features):\n",
    "                addEntityToFeatureDictionary(cr_id, cr, creator_features)\n",
    "            updateDict(creator_features[cr_id]['year-wise-performance'], info)\n",
    "\n",
    "    if('Production Co' in movie['details']):\n",
    "        # Production Co\n",
    "        prod_arr = movie['details']['Production Co']\n",
    "        if(type(prod_arr) is not list):\n",
    "            prod_arr = [prod_arr]\n",
    "        for pr in prod_arr:\n",
    "            if(pr not in prod_co_features):\n",
    "                addEntityToFeatureDictionary(pr, {'name': pr}, prod_co_features)\n",
    "            updateDict(prod_co_features[pr]['year-wise-performance'], info)\n",
    "    else:\n",
    "        if(printLog==True):\n",
    "            print(movie['imdb_id'], \"This movie does not have production company information\")"
   ]
  },
  {
   "cell_type": "code",
   "execution_count": 341,
   "metadata": {
    "tags": []
   },
   "outputs": [],
   "source": [
    "# processMovie(test_movie, printLog=True)"
   ]
  },
  {
   "cell_type": "code",
   "execution_count": 342,
   "metadata": {},
   "outputs": [],
   "source": [
    "# director_features"
   ]
  },
  {
   "cell_type": "code",
   "execution_count": 343,
   "metadata": {},
   "outputs": [
    {
     "output_type": "stream",
     "name": "stdout",
     "text": [
      "processed 500 out of 8181\n",
      "processed 1000 out of 8181\n",
      "processed 1500 out of 8181\n",
      "processed 2000 out of 8181\n",
      "processed 2500 out of 8181\n",
      "processed 3000 out of 8181\n",
      "processed 3500 out of 8181\n",
      "processed 4000 out of 8181\n",
      "processed 4500 out of 8181\n",
      "processed 5000 out of 8181\n",
      "processed 5500 out of 8181\n",
      "processed 6000 out of 8181\n",
      "processed 6500 out of 8181\n",
      "processed 7000 out of 8181\n",
      "processed 7500 out of 8181\n",
      "processed 8000 out of 8181\n"
     ]
    }
   ],
   "source": [
    "cnt = 0\n",
    "print_step = 500\n",
    "total_movies = imdb.count_documents({})\n",
    "\n",
    "for movie in imdb.find():\n",
    "    try:\n",
    "        processMovie(movie)\n",
    "    except:\n",
    "        print(\"Error >> \", movie['imdb_id'])\n",
    "        break\n",
    "    cnt += 1\n",
    "    if(cnt % print_step == 0):\n",
    "        print('processed {} out of {}'.format(cnt, total_movies))"
   ]
  },
  {
   "cell_type": "code",
   "execution_count": 344,
   "metadata": {},
   "outputs": [],
   "source": [
    "path = 'SavedFeatures'\n",
    "\n",
    "# genre_features      = {}\n",
    "# star_features       = {}\n",
    "# director_features   = {}\n",
    "# prod_co_features  = {}\n",
    "# creator_features    = {}"
   ]
  },
  {
   "cell_type": "code",
   "execution_count": 345,
   "metadata": {},
   "outputs": [
    {
     "output_type": "stream",
     "name": "stdout",
     "text": [
      "Genre Feature saved successfully\n"
     ]
    }
   ],
   "source": [
    "with open(path+'/genre_features.json', 'w') as f:\n",
    "    json.dump(genre_features, f)\n",
    "    print(\"Genre Feature saved successfully\")"
   ]
  },
  {
   "cell_type": "code",
   "execution_count": null,
   "metadata": {},
   "outputs": [],
   "source": []
  }
 ]
}