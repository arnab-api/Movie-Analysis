{
 "metadata": {
  "language_info": {
   "codemirror_mode": {
    "name": "ipython",
    "version": 3
   },
   "file_extension": ".py",
   "mimetype": "text/x-python",
   "name": "python",
   "nbconvert_exporter": "python",
   "pygments_lexer": "ipython3",
   "version": "3.7.9"
  },
  "orig_nbformat": 2,
  "kernelspec": {
   "name": "python379jvsc74a57bd06e81d77af03ce5c2f322ee28133a80996b3da90d809d78ecf9dd16de6b5482d3",
   "display_name": "Python 3.7.9 64-bit ('ml': conda)"
  },
  "metadata": {
   "interpreter": {
    "hash": "916dbcbb3f70747c44a77c7bcd40155683ae19c65e1c03b4aa3499c5328201f1"
   }
  }
 },
 "nbformat": 4,
 "nbformat_minor": 2,
 "cells": [
  {
   "cell_type": "code",
   "execution_count": 1,
   "metadata": {},
   "outputs": [],
   "source": [
    "import os\n",
    "import json\n",
    "import plotly.graph_objects as go\n",
    "from plotly.subplots import make_subplots\n",
    "# import cpi\n",
    "import pymongo\n",
    "from tqdm import tqdm\n",
    "from scipy import stats\n",
    "import math\n",
    "import numpy as np\n",
    "import pandas as pd\n",
    "import json"
   ]
  },
  {
   "cell_type": "code",
   "execution_count": 2,
   "metadata": {},
   "outputs": [],
   "source": [
    "myclient = pymongo.MongoClient(\"mongodb://localhost:27017/\")\n",
    "db = myclient[\"imdb\"]\n",
    "imdb = db['imdb_cleaned']"
   ]
  },
  {
   "cell_type": "code",
   "execution_count": 3,
   "metadata": {},
   "outputs": [
    {
     "output_type": "execute_result",
     "data": {
      "text/plain": [
       "8181"
      ]
     },
     "metadata": {},
     "execution_count": 3
    }
   ],
   "source": [
    "num_movies = imdb.count_documents({})\n",
    "num_movies"
   ]
  },
  {
   "cell_type": "code",
   "execution_count": 4,
   "metadata": {},
   "outputs": [],
   "source": [
    "def getMovie(imdb_id):\n",
    "    for x in imdb.find({'imdb_id': imdb_id}):\n",
    "        return x\n",
    "    return None"
   ]
  },
  {
   "cell_type": "code",
   "execution_count": 5,
   "metadata": {},
   "outputs": [
    {
     "output_type": "execute_result",
     "data": {
      "text/plain": [
       "{'_id': ObjectId('60a664e6ef235d48e488dcca'),\n",
       " '@context': 'http://schema.org',\n",
       " '@type': 'Movie',\n",
       " 'url': '/title/tt1230215/',\n",
       " 'name': 'Not Fade Away',\n",
       " 'image': 'https://m.media-amazon.com/images/M/MV5BMzU2NDU2MzIyMl5BMl5BanBnXkFtZTcwMDk2NTY1OA@@._V1_.jpg',\n",
       " 'genre': 'Drama',\n",
       " 'contentRating': 'R',\n",
       " 'actor': [{'@type': 'Person',\n",
       "   'url': '/name/nm1910274/',\n",
       "   'name': 'John Magaro'},\n",
       "  {'@type': 'Person', 'url': '/name/nm1658935/', 'name': 'Jack Huston'},\n",
       "  {'@type': 'Person', 'url': '/name/nm2939030/', 'name': 'Will Brill'},\n",
       "  {'@type': 'Person', 'url': '/name/nm4326044/', 'name': 'Brahm Vaccarella'}],\n",
       " 'director': {'@type': 'Person',\n",
       "  'url': '/name/nm0153740/',\n",
       "  'name': 'David Chase'},\n",
       " 'creator': [{'@type': 'Person',\n",
       "   'url': '/name/nm0153740/',\n",
       "   'name': 'David Chase'},\n",
       "  {'@type': 'Organization', 'url': '/company/co0005072/'},\n",
       "  {'@type': 'Organization', 'url': '/company/co0071947/'},\n",
       "  {'@type': 'Organization', 'url': '/company/co0215519/'},\n",
       "  {'@type': 'Organization', 'url': '/company/co0179341/'},\n",
       "  {'@type': 'Organization', 'url': '/company/co0150452/'}],\n",
       " 'description': 'Not Fade Away is a movie starring John Magaro, Jack Huston, and Will Brill. Set in suburban New Jersey in the 1960s, a group of friends form a rock band and try to make it big.',\n",
       " 'datePublished': '2013-07-19',\n",
       " 'keywords': 'christmas present,christmas tree,mental hospital,involuntary commitment,sister sister relationship',\n",
       " 'aggregateRating': {'@type': 'AggregateRating',\n",
       "  'ratingCount': 4354,\n",
       "  'bestRating': '10.0',\n",
       "  'worstRating': '1.0',\n",
       "  'ratingValue': '6.0'},\n",
       " 'review': {'@type': 'Review',\n",
       "  'itemReviewed': {'@type': 'CreativeWork', 'url': '/title/tt1230215/'},\n",
       "  'author': {'@type': 'Person', 'name': 'Indyrod'},\n",
       "  'dateCreated': '2013-05-19',\n",
       "  'inLanguage': 'English',\n",
       "  'name': 'Baby Boomers, this is a love letter to Us',\n",
       "  'reviewBody': 'just finished up watching this growing up in the sixties, and rock and roll movie. for the earliest of the Baby Boomers, this is the movie for you, and the music will rock your soul. A teenage band, with inspirations maybe a little too optimistic. With a top notch cast, and great story telling, this was indeed entertaining and very realistic, since I was in a little band back then too. James Gandolfini is great as a pretty typical sixties Father, coping with everyday problems and a pretty wacky Wife. The teenagers are very realistic, and you could tell it was written pretty much biographical. It works for me. Highly recommended especially to us Boomers.',\n",
       "  'reviewRating': {'@type': 'Rating',\n",
       "   'worstRating': '1',\n",
       "   'bestRating': '10',\n",
       "   'ratingValue': '8'}},\n",
       " 'duration': 'PT1H52M',\n",
       " 'trailer': {'@type': 'VideoObject',\n",
       "  'name': 'U.S. Version #1',\n",
       "  'embedUrl': '/video/imdb/vi305112089',\n",
       "  'thumbnail': {'@type': 'ImageObject',\n",
       "   'contentUrl': 'https://m.media-amazon.com/images/M/MV5BNjcyODQzNTQ1Ml5BMl5BanBnXkFtZTcwMDMwNjc1OA@@._V1_.jpg'},\n",
       "  'thumbnailUrl': 'https://m.media-amazon.com/images/M/MV5BNjcyODQzNTQ1Ml5BMl5BanBnXkFtZTcwMDMwNjc1OA@@._V1_.jpg',\n",
       "  'description': 'Set in suburban New Jersey the 1960s, a group of friends form a rock band and try to make it big.',\n",
       "  'uploadDate': '2012-10-06T18:04:58Z'},\n",
       " 'cast_and_character': [{'actor': {'@type': 'Person',\n",
       "    'url': '/name/nm1910274/?ref_=tt_cl_t1',\n",
       "    'name': 'John Magaro'},\n",
       "   'character_and_episodes': [{'url': '/title/tt1230215/characters/nm1910274?ref_=tt_cl_t1',\n",
       "     'name': 'Douglas'}]},\n",
       "  {'actor': {'@type': 'Person',\n",
       "    'url': '/name/nm2939030/?ref_=tt_cl_t3',\n",
       "    'name': 'Will Brill'},\n",
       "   'character_and_episodes': [{'url': '/title/tt1230215/characters/nm2939030?ref_=tt_cl_t3',\n",
       "     'name': 'Wells'}]},\n",
       "  {'actor': {'@type': 'Person',\n",
       "    'url': '/name/nm4432729/?ref_=tt_cl_t5',\n",
       "    'name': 'Gregory Perri'},\n",
       "   'character_and_episodes': [{'url': '/title/tt1230215/characters/nm4432729?ref_=tt_cl_t5',\n",
       "     'name': 'Skip'}]},\n",
       "  {'actor': {'@type': 'Person',\n",
       "    'url': '/name/nm2757333/?ref_=tt_cl_t7',\n",
       "    'name': 'Bella Heathcote'},\n",
       "   'character_and_episodes': [{'url': '/title/tt1230215/characters/nm2757333?ref_=tt_cl_t7',\n",
       "     'name': 'Grace Dietz'}]},\n",
       "  {'actor': {'@type': 'Person',\n",
       "    'url': '/name/nm2726967/?ref_=tt_cl_t9',\n",
       "    'name': 'Meg Guzulescu'},\n",
       "   'character_and_episodes': [{'url': '/title/tt1230215/characters/nm2726967?ref_=tt_cl_t9',\n",
       "     'name': 'Evelyn'}]},\n",
       "  {'actor': {'@type': 'Person',\n",
       "    'url': '/name/nm0001520/?ref_=tt_cl_t11',\n",
       "    'name': 'Christopher McDonald'},\n",
       "   'character_and_episodes': [{'url': '/title/tt1230215/characters/nm0001520?ref_=tt_cl_t11',\n",
       "     'name': 'Jack Dietz'}]},\n",
       "  {'actor': {'@type': 'Person',\n",
       "    'url': '/name/nm0926086/?ref_=tt_cl_t13',\n",
       "    'name': 'Isiah Whitlock Jr.'},\n",
       "   'character_and_episodes': [{'url': '/title/tt1230215/characters/nm0926086?ref_=tt_cl_t13',\n",
       "     'name': 'Landers'}]},\n",
       "  {'actor': {'@type': 'Person',\n",
       "    'url': '/name/nm4352699/?ref_=tt_cl_t15',\n",
       "    'name': 'F. Michael Haynie'},\n",
       "   'character_and_episodes': [{'url': '/title/tt1230215/characters/nm4352699?ref_=tt_cl_t15',\n",
       "     'name': 'The Bloat'}]},\n",
       "  {'actor': {'@type': 'Person',\n",
       "    'url': '/name/nm1658935/?ref_=tt_cl_t2',\n",
       "    'name': 'Jack Huston'},\n",
       "   'character_and_episodes': [{'url': '/title/tt1230215/characters/nm1658935?ref_=tt_cl_t2',\n",
       "     'name': 'Eugene'}]},\n",
       "  {'actor': {'@type': 'Person',\n",
       "    'url': '/name/nm4326044/?ref_=tt_cl_t4',\n",
       "    'name': 'Brahm Vaccarella'},\n",
       "   'character_and_episodes': [{'url': '/title/tt1230215/characters/nm4326044?ref_=tt_cl_t4',\n",
       "     'name': 'Joe Patuto'}]},\n",
       "  {'actor': {'@type': 'Person',\n",
       "    'url': '/name/nm0001254/?ref_=tt_cl_t6',\n",
       "    'name': 'James Gandolfini'},\n",
       "   'character_and_episodes': [{'url': '/title/tt1230215/characters/nm0001254?ref_=tt_cl_t6',\n",
       "     'name': 'Pat'}]},\n",
       "  {'actor': {'@type': 'Person',\n",
       "    'url': '/name/nm0697062/?ref_=tt_cl_t8',\n",
       "    'name': 'Molly Price'},\n",
       "   'character_and_episodes': [{'url': '/title/tt1230215/characters/nm0697062?ref_=tt_cl_t8',\n",
       "     'name': 'Antoinette'}]},\n",
       "  {'actor': {'@type': 'Person',\n",
       "    'url': '/name/nm1069800/?ref_=tt_cl_t10',\n",
       "    'name': 'Dominique McElligott'},\n",
       "   'character_and_episodes': [{'url': '/title/tt1230215/characters/nm1069800?ref_=tt_cl_t10',\n",
       "     'name': 'Joy Deitz'}]},\n",
       "  {'actor': {'@type': 'Person',\n",
       "    'url': '/name/nm0004951/?ref_=tt_cl_t12',\n",
       "    'name': 'Brad Garrett'},\n",
       "   'character_and_episodes': [{'url': '/title/tt1230215/characters/nm0004951?ref_=tt_cl_t12',\n",
       "     'name': 'Jerry Ragovoy'}]},\n",
       "  {'actor': {'@type': 'Person',\n",
       "    'url': '/name/nm2270989/?ref_=tt_cl_t14',\n",
       "    'name': 'Gerard Canonico'},\n",
       "   'character_and_episodes': [{'url': '/title/tt1230215/characters/nm2270989?ref_=tt_cl_t14',\n",
       "     'name': 'Schindewulf'}]}],\n",
       " 'details': {'Country': ['USA'],\n",
       "  'Language': ['English'],\n",
       "  'Release Date': ['19 July 2013 (Turkey)'],\n",
       "  'Also Known As': ['Not Fade Away'],\n",
       "  'Filming Locations': ['Pearl River, New York, USA'],\n",
       "  'Budget': ['$20,000,000', '(estimated)'],\n",
       "  'Opening Weekend USA': ['$19,182,', '23 December 2012'],\n",
       "  'Gross USA': ['$610,792'],\n",
       "  'Cumulative Worldwide Gross': ['$636,399'],\n",
       "  'Production Co': ['Chase Films',\n",
       "   'Gran Via Productions',\n",
       "   'Indian Paintbrush'],\n",
       "  'Runtime': ['117 min'],\n",
       "  'Sound Mix': ['Datasat', 'Dolby Digital', 'SDDS'],\n",
       "  'Aspect Ratio': ['1.85 : 1']},\n",
       " 'imdb_id': 'tt1230215',\n",
       " 'cleaned_month': 'July',\n",
       " 'cleaned_year': '2013',\n",
       " 'cleaned_contentRating': 'R',\n",
       " 'cleaned_Runtime_min': 117,\n",
       " 'cleaned_Budget': 22219637,\n",
       " 'cleaned_Revenue': 707027}"
      ]
     },
     "metadata": {},
     "execution_count": 5
    }
   ],
   "source": [
    "# test_movie = getMovie('tt0371746') # \n",
    "test_movie = getMovie('tt1230215')\n",
    "test_movie"
   ]
  },
  {
   "cell_type": "code",
   "execution_count": 9,
   "metadata": {},
   "outputs": [],
   "source": [
    "def getInformation(movie):\n",
    "    year                = movie['cleaned_year']\n",
    "    rating              = movie['aggregateRating']['ratingValue']\n",
    "    num_rating_givers   = movie['aggregateRating']['ratingCount']\n",
    "    revenue             = movie['cleaned_Revenue']\n",
    "    budget              = movie['cleaned_Budget']\n",
    "    # opening_weekend     = movie['details']['Opening Weekend USA'][0]\n",
    "    # return year, float(rating), int(num_rating_givers), revenue, budget\n",
    "    return {\n",
    "        'movie_id'  : movie['imdb_id'],\n",
    "        'year'      : int(year),\n",
    "        'rating'    : float(rating),\n",
    "        'num_raters': int(num_rating_givers),\n",
    "        'revenue'   : revenue,\n",
    "        'budget'    : budget\n",
    "    }"
   ]
  },
  {
   "cell_type": "code",
   "execution_count": 10,
   "metadata": {},
   "outputs": [
    {
     "output_type": "execute_result",
     "data": {
      "text/plain": [
       "{'movie_id': 'tt1230215',\n",
       " 'year': 2013,\n",
       " 'rating': 6.0,\n",
       " 'num_raters': 4354,\n",
       " 'revenue': 707027,\n",
       " 'budget': 22219637}"
      ]
     },
     "metadata": {},
     "execution_count": 10
    }
   ],
   "source": [
    "getInformation(test_movie)"
   ]
  },
  {
   "cell_type": "code",
   "execution_count": 12,
   "metadata": {},
   "outputs": [],
   "source": [
    "def updateDict(dct, info):\n",
    "    # print(json.dumps(dct, indent=2))\n",
    "    # print(dct[2008])\n",
    "    dct[info['year']]['num_movies']         += 1\n",
    "    dct[info['year']]['sum_rating']         += info['rating']\n",
    "    dct[info['year']]['num_raters']         += info['num_raters']\n",
    "    dct[info['year']]['sum_revenue']        += info['revenue']\n",
    "    dct[info['year']]['sum_budget']         += info['budget']"
   ]
  },
  {
   "cell_type": "code",
   "execution_count": 13,
   "metadata": {},
   "outputs": [],
   "source": [
    "def getEntityID(entity):\n",
    "    # print(entity)\n",
    "    id = entity['url'].split('?')[0].split('/')[-2]\n",
    "    return id"
   ]
  },
  {
   "cell_type": "code",
   "execution_count": 14,
   "metadata": {},
   "outputs": [],
   "source": [
    "entity = {'@type': 'Person', 'url': '/name/nm0905579/', 'name': 'Michael Wadleigh'}"
   ]
  },
  {
   "cell_type": "code",
   "execution_count": 15,
   "metadata": {},
   "outputs": [
    {
     "output_type": "execute_result",
     "data": {
      "text/plain": [
       "'nm0905579'"
      ]
     },
     "metadata": {},
     "execution_count": 15
    }
   ],
   "source": [
    "getEntityID(entity)"
   ]
  },
  {
   "cell_type": "code",
   "execution_count": 12,
   "metadata": {},
   "outputs": [],
   "source": [
    "genre_features      = {}\n",
    "star_features       = {}\n",
    "director_features   = {}\n",
    "prod_co_features  = {}\n",
    "creator_features    = {}\n",
    "\n",
    "def addEntityToFeatureDictionary(entity_id, entity_info, feature_dict):\n",
    "    if(entity_id not in feature_dict):\n",
    "        features = [\"num_movies\", \"sum_rating\", \"sum_revenue\", \"sum_budget\", \"num_raters\"] #\"sum_opening_weekend\", \"num_opening_weekend\"#]\n",
    "        feature_dict[entity_id] = entity_info\n",
    "        feature_dict[entity_id][\"year-wise-performance\"] = {}\n",
    "        for year in range(1967, 2021):\n",
    "        # for year in range(2014, 2015):\n",
    "            feature_dict[entity_id][\"year-wise-performance\"][year] = {}\n",
    "            for f in features:\n",
    "                feature_dict[entity_id][\"year-wise-performance\"][year][f] = 0\n",
    "        feature_dict[entity_id]['movie_arr'] = []\n",
    "    # return feature_dict    "
   ]
  },
  {
   "cell_type": "code",
   "execution_count": 13,
   "metadata": {},
   "outputs": [],
   "source": [
    "def processMovie(movie, printLog=False):\n",
    "    info = getInformation(movie)\n",
    "    \n",
    "    # genre\n",
    "    genre = movie['genre']\n",
    "    if(type(genre) is not list):\n",
    "        genre = [genre]\n",
    "    for g in genre:\n",
    "        if(g not in genre_features):\n",
    "            addEntityToFeatureDictionary(g, {'name': g}, genre_features)\n",
    "        genre_features[g]['movie_arr'].append(info['movie_id'])\n",
    "        updateDict(genre_features[g][\"year-wise-performance\"], info)\n",
    "\n",
    "    # cast\n",
    "    cast_ensamble = movie['cast_and_character']\n",
    "    if(type(cast_ensamble) is not list):\n",
    "        if(printLog == True):\n",
    "            print(movie['imdb_id'], cast_ensamble)\n",
    "    else:\n",
    "        for cast in cast_ensamble:\n",
    "            star = cast['actor']\n",
    "            star_id = getEntityID(star)\n",
    "            if(star_id not in star_features):\n",
    "                addEntityToFeatureDictionary(star_id, star, star_features)\n",
    "            star_features[star_id]['movie_arr'].append(info['movie_id'])\n",
    "            updateDict(star_features[star_id]['year-wise-performance'], info)\n",
    "\n",
    "    # directors\n",
    "    directors = movie['director']\n",
    "    if(type(directors) is not list):\n",
    "        directors = [directors]\n",
    "    for dr in directors:\n",
    "        dr_id = getEntityID(dr)\n",
    "        if(dr_id not in director_features):\n",
    "            addEntityToFeatureDictionary(dr_id, dr, director_features)\n",
    "        director_features[dr_id]['movie_arr'].append(info['movie_id'])\n",
    "        updateDict(director_features[dr_id]['year-wise-performance'], info)\n",
    "\n",
    "    # creator\n",
    "    if('creator' not in movie):\n",
    "        if(printLog == True):\n",
    "            print(movie['imdb_id'], 'error loading creator information')\n",
    "    else:\n",
    "        creators = movie['creator']\n",
    "        if(type(creators) is not list):\n",
    "            creators = [creators]\n",
    "        for cr in creators:\n",
    "            # print(cr)\n",
    "            cr_id = getEntityID(cr)\n",
    "            if(cr_id not in creator_features):\n",
    "                addEntityToFeatureDictionary(cr_id, cr, creator_features)\n",
    "            creator_features[cr_id]['movie_arr'].append(info['movie_id'])\n",
    "            updateDict(creator_features[cr_id]['year-wise-performance'], info)\n",
    "\n",
    "    if('Production Co' in movie['details']):\n",
    "        # Production Co\n",
    "        prod_arr = movie['details']['Production Co']\n",
    "        if(type(prod_arr) is not list):\n",
    "            prod_arr = [prod_arr]\n",
    "        for pr in prod_arr:\n",
    "            if(pr not in prod_co_features):\n",
    "                addEntityToFeatureDictionary(pr, {'name': pr}, prod_co_features)\n",
    "            prod_co_features[pr]['movie_arr'].append(info['movie_id'])\n",
    "            updateDict(prod_co_features[pr]['year-wise-performance'], info)\n",
    "    else:\n",
    "        if(printLog==True):\n",
    "            print(movie['imdb_id'], \"This movie does not have production company information\")"
   ]
  },
  {
   "cell_type": "code",
   "execution_count": 14,
   "metadata": {
    "tags": []
   },
   "outputs": [],
   "source": [
    "# processMovie(test_movie, printLog=True)"
   ]
  },
  {
   "cell_type": "code",
   "execution_count": 15,
   "metadata": {},
   "outputs": [],
   "source": [
    "# director_features"
   ]
  },
  {
   "cell_type": "code",
   "execution_count": 16,
   "metadata": {},
   "outputs": [
    {
     "output_type": "stream",
     "name": "stdout",
     "text": [
      "processed 500 out of 8181\n",
      "processed 1000 out of 8181\n",
      "processed 1500 out of 8181\n",
      "processed 2000 out of 8181\n",
      "processed 2500 out of 8181\n",
      "processed 3000 out of 8181\n",
      "processed 3500 out of 8181\n",
      "processed 4000 out of 8181\n",
      "processed 4500 out of 8181\n",
      "processed 5000 out of 8181\n",
      "processed 5500 out of 8181\n",
      "processed 6000 out of 8181\n",
      "processed 6500 out of 8181\n",
      "processed 7000 out of 8181\n",
      "processed 7500 out of 8181\n",
      "processed 8000 out of 8181\n"
     ]
    }
   ],
   "source": [
    "cnt = 0\n",
    "print_step = 500\n",
    "total_movies = imdb.count_documents({})\n",
    "\n",
    "for movie in imdb.find():\n",
    "    try:\n",
    "        processMovie(movie)\n",
    "    except:\n",
    "        print(\"Error >> \", movie['imdb_id'])\n",
    "        break\n",
    "    cnt += 1\n",
    "    if(cnt % print_step == 0):\n",
    "        print('processed {} out of {}'.format(cnt, total_movies))"
   ]
  },
  {
   "cell_type": "code",
   "execution_count": 17,
   "metadata": {},
   "outputs": [],
   "source": [
    "def calculateIndividualTotal(feature_dct):\n",
    "\n",
    "    # print(feature_dct)\n",
    "    # print(json.dumps(feature_dct, intend=2))\n",
    "\n",
    "    feature_dct['total_movies']   = 0\n",
    "    feature_dct['total_rating']   = 0\n",
    "    feature_dct['total_raters']   = 0\n",
    "    feature_dct['total_revenue']  = 0\n",
    "    feature_dct['total_budget']   = 0\n",
    "    \n",
    "    for year in feature_dct['year-wise-performance']:\n",
    "        feature_dct['total_movies']   += feature_dct['year-wise-performance'][year]['num_movies']\n",
    "        feature_dct['total_rating']   += feature_dct['year-wise-performance'][year]['sum_rating']\n",
    "        feature_dct['total_raters']   += feature_dct['year-wise-performance'][year]['num_raters']\n",
    "        feature_dct['total_revenue']  += feature_dct['year-wise-performance'][year]['sum_revenue']\n",
    "        feature_dct['total_budget']   += feature_dct['year-wise-performance'][year]['sum_budget']"
   ]
  },
  {
   "cell_type": "code",
   "execution_count": 18,
   "metadata": {},
   "outputs": [],
   "source": [
    "def updateTotal(feature_dct):\n",
    "    for entity in feature_dct:\n",
    "        # print(entity)\n",
    "        calculateIndividualTotal(feature_dct[entity])"
   ]
  },
  {
   "cell_type": "code",
   "execution_count": 19,
   "metadata": {
    "tags": []
   },
   "outputs": [],
   "source": [
    "updateTotal(genre_features)"
   ]
  },
  {
   "cell_type": "code",
   "execution_count": 20,
   "metadata": {},
   "outputs": [
    {
     "output_type": "stream",
     "name": "stdout",
     "text": [
      "Action 2031\nAdventure 1442\nSci-Fi 937\nComedy 3066\nFantasy 980\nDrama 4397\nMystery 902\nThriller 2516\nRomance 1726\nCrime 1623\nHorror 982\nFamily 831\nAnimation 397\nMusical 193\nMusic 310\nBiography 535\nWestern 136\nSport 295\nWar 344\nHistory 365\nDocumentary 167\nNews 5\nShort 2\n"
     ]
    }
   ],
   "source": [
    "for genre in genre_features:\n",
    "    print(genre, genre_features[genre]['total_movies'])"
   ]
  },
  {
   "cell_type": "code",
   "execution_count": 21,
   "metadata": {},
   "outputs": [],
   "source": [
    "updateTotal(star_features)"
   ]
  },
  {
   "cell_type": "code",
   "execution_count": 22,
   "metadata": {},
   "outputs": [],
   "source": [
    "updateTotal(director_features)"
   ]
  },
  {
   "cell_type": "code",
   "execution_count": 23,
   "metadata": {},
   "outputs": [],
   "source": [
    "updateTotal(prod_co_features)"
   ]
  },
  {
   "cell_type": "code",
   "execution_count": 24,
   "metadata": {},
   "outputs": [],
   "source": [
    "updateTotal(creator_features)"
   ]
  },
  {
   "cell_type": "code",
   "execution_count": 18,
   "metadata": {},
   "outputs": [],
   "source": [
    "path = 'SavedFeatures'\n",
    "\n",
    "# genre_features      = {}\n",
    "# star_features       = {}\n",
    "# director_features   = {}\n",
    "# prod_co_features  = {}\n",
    "# creator_features    = {}"
   ]
  },
  {
   "cell_type": "code",
   "execution_count": 26,
   "metadata": {},
   "outputs": [
    {
     "output_type": "stream",
     "name": "stdout",
     "text": [
      "Genre Feature saved successfully\n"
     ]
    }
   ],
   "source": [
    "with open(path+'/genre_features.json', 'w') as f:\n",
    "    json.dump(genre_features, f)\n",
    "    print(\"Genre Feature saved successfully\")"
   ]
  },
  {
   "cell_type": "code",
   "execution_count": 27,
   "metadata": {},
   "outputs": [
    {
     "output_type": "stream",
     "name": "stdout",
     "text": [
      "star_features saved successfully\n"
     ]
    }
   ],
   "source": [
    "with open(path+'/star_features.json', 'w') as f:\n",
    "    json.dump(star_features, f)\n",
    "    print(\"star_features saved successfully\")"
   ]
  },
  {
   "cell_type": "code",
   "execution_count": 28,
   "metadata": {},
   "outputs": [
    {
     "output_type": "stream",
     "name": "stdout",
     "text": [
      "director_features saved successfully\n"
     ]
    }
   ],
   "source": [
    "with open(path+'/director_features.json', 'w') as f:\n",
    "    json.dump(director_features, f)\n",
    "    print(\"director_features saved successfully\")"
   ]
  },
  {
   "cell_type": "code",
   "execution_count": 29,
   "metadata": {},
   "outputs": [
    {
     "output_type": "stream",
     "name": "stdout",
     "text": [
      "prod_co_features saved successfully\n"
     ]
    }
   ],
   "source": [
    "with open(path+'/prod_co_features.json', 'w') as f:\n",
    "    json.dump(prod_co_features, f)\n",
    "    print(\"prod_co_features saved successfully\")"
   ]
  },
  {
   "cell_type": "code",
   "execution_count": 30,
   "metadata": {},
   "outputs": [
    {
     "output_type": "stream",
     "name": "stdout",
     "text": [
      "creator_features saved successfully\n"
     ]
    }
   ],
   "source": [
    "with open(path+'/creator_features.json', 'w') as f:\n",
    "    json.dump(creator_features, f)\n",
    "    print(\"creator_features saved successfully\")"
   ]
  },
  {
   "source": [
    "# Star familiarity"
   ],
   "cell_type": "markdown",
   "metadata": {}
  },
  {
   "cell_type": "code",
   "execution_count": 6,
   "metadata": {},
   "outputs": [],
   "source": [
    "familiarity_feature = {}\n",
    "\n",
    "def updateFamiliarityMatrix(dct, info):\n",
    "    if('num_movies' not in dct):\n",
    "        dct['num_movies'] = 1\n",
    "        dct['sum_rating'] = info['rating']\n",
    "        dct['num_raters'] = info['num_raters']\n",
    "        dct['sum_revenue'] = info['revenue']\n",
    "        dct['sum_budget'] = info['budget']\n",
    "\n",
    "    else:\n",
    "        dct['num_movies'] += 1\n",
    "        dct['sum_rating'] += info['rating']\n",
    "        dct['num_raters'] += info['num_raters']\n",
    "        dct['sum_revenue'] += info['revenue']\n",
    "        dct['sum_budget'] += info['budget']\n",
    "\n",
    "\n",
    "\n",
    "def updateStarFamiliarity(movie, printLog=False):\n",
    "    info = getInformation(movie)\n",
    "    year = movie['cleaned_year']\n",
    "\n",
    "    cast_ensamble = movie['cast_and_character']\n",
    "    if(type(cast_ensamble) is not list):\n",
    "        if(printLog == True):\n",
    "            print(movie['imdb_id'], cast_ensamble)\n",
    "    else:\n",
    "        for i_cast in cast_ensamble:\n",
    "            i_star = i_cast['actor']\n",
    "            i_star_id = getEntityID(i_star)\n",
    "            if(i_star_id not in familiarity_feature):\n",
    "                familiarity_feature[i_star_id] = {}\n",
    "            for j_cast in cast_ensamble:\n",
    "                j_star = j_cast['actor']\n",
    "                j_star_id = getEntityID(j_star)\n",
    "                if(j_star_id not in familiarity_feature[i_star_id]):\n",
    "                    familiarity_feature[i_star_id][j_star_id] = {}\n",
    "                if(year not in familiarity_feature[i_star_id][j_star_id]):\n",
    "                    familiarity_feature[i_star_id][j_star_id][year] = {}\n",
    "\n",
    "                updateFamiliarityMatrix(familiarity_feature[i_star_id][j_star_id][year], info)"
   ]
  },
  {
   "cell_type": "code",
   "execution_count": 16,
   "metadata": {},
   "outputs": [
    {
     "output_type": "stream",
     "name": "stdout",
     "text": [
      "processed 500 out of 8181\n",
      "processed 1000 out of 8181\n",
      "processed 1500 out of 8181\n",
      "processed 2000 out of 8181\n",
      "processed 2500 out of 8181\n",
      "processed 3000 out of 8181\n",
      "processed 3500 out of 8181\n",
      "processed 4000 out of 8181\n",
      "processed 4500 out of 8181\n",
      "processed 5000 out of 8181\n",
      "processed 5500 out of 8181\n",
      "processed 6000 out of 8181\n",
      "processed 6500 out of 8181\n",
      "processed 7000 out of 8181\n",
      "processed 7500 out of 8181\n",
      "processed 8000 out of 8181\n"
     ]
    }
   ],
   "source": [
    "cnt = 0\n",
    "print_step = 500\n",
    "total_movies = imdb.count_documents({})\n",
    "\n",
    "for movie in imdb.find():\n",
    "    # try:\n",
    "    updateStarFamiliarity(movie)\n",
    "    # except:\n",
    "    #     print(\"Error >> \", movie['imdb_id'])\n",
    "    #     break\n",
    "    cnt += 1\n",
    "    if(cnt % print_step == 0):\n",
    "        print('processed {} out of {}'.format(cnt, total_movies))"
   ]
  },
  {
   "cell_type": "code",
   "execution_count": 19,
   "metadata": {},
   "outputs": [
    {
     "output_type": "stream",
     "name": "stdout",
     "text": [
      "familiarity_feature saved successfully\n"
     ]
    }
   ],
   "source": [
    "with open(path+'/familiarity_feature.json', 'w') as f:\n",
    "    json.dump(familiarity_feature, f)\n",
    "    print(\"familiarity_feature saved successfully\")"
   ]
  },
  {
   "cell_type": "code",
   "execution_count": null,
   "metadata": {},
   "outputs": [],
   "source": []
  }
 ]
}