{
 "metadata": {
  "language_info": {
   "codemirror_mode": {
    "name": "ipython",
    "version": 3
   },
   "file_extension": ".py",
   "mimetype": "text/x-python",
   "name": "python",
   "nbconvert_exporter": "python",
   "pygments_lexer": "ipython3",
   "version": "3.7.9"
  },
  "orig_nbformat": 2,
  "kernelspec": {
   "name": "python379jvsc74a57bd06e81d77af03ce5c2f322ee28133a80996b3da90d809d78ecf9dd16de6b5482d3",
   "display_name": "Python 3.7.9 64-bit ('ml': conda)"
  }
 },
 "nbformat": 4,
 "nbformat_minor": 2,
 "cells": [
  {
   "cell_type": "code",
   "execution_count": 1,
   "metadata": {},
   "outputs": [],
   "source": [
    "import json\n",
    "import numpy as np\n",
    "from sklearn.model_selection import train_test_split\n",
    "import matplotlib.pyplot as plt\n",
    "from sklearn import datasets, svm, metrics\n",
    "import copy"
   ]
  },
  {
   "cell_type": "code",
   "execution_count": 2,
   "metadata": {},
   "outputs": [],
   "source": [
    "with open(\"SavedFeatures/final_feature_vector.json\", 'r') as f:\n",
    "    XY = json.load(f)"
   ]
  },
  {
   "cell_type": "code",
   "execution_count": 3,
   "metadata": {},
   "outputs": [
    {
     "output_type": "stream",
     "name": "stdout",
     "text": [
      "--- to 50000000 :: 0\n50000000 to 100000000 :: 1\n100000000 to 150000000 :: 2\n150000000 to 200000000 :: 3\n200000000 to 250000000 :: 4\n250000000 to 300000000 :: 5\n300000000 to +++ :: 6\n"
     ]
    }
   ],
   "source": [
    "step = 50000000\n",
    "lo = 0\n",
    "clss = 0\n",
    "num_classes = 7\n",
    "\n",
    "while(lo < step*(num_classes-1) + 1):\n",
    "    hi = lo + step\n",
    "    lo_txt = lo\n",
    "    hi_txt = hi\n",
    "    if(lo_txt == 0):\n",
    "        lo_txt = '---'\n",
    "    if(lo_txt == step*(num_classes-1)):\n",
    "        hi_txt = '+++'\n",
    "    print('{} to {} :: {}'.format(lo_txt, hi_txt, clss))\n",
    "\n",
    "    clss += 1\n",
    "    lo += step"
   ]
  },
  {
   "cell_type": "code",
   "execution_count": 4,
   "metadata": {},
   "outputs": [
    {
     "output_type": "execute_result",
     "data": {
      "text/plain": [
       "8181"
      ]
     },
     "metadata": {},
     "execution_count": 4
    }
   ],
   "source": [
    "len(XY)"
   ]
  },
  {
   "cell_type": "code",
   "execution_count": 5,
   "metadata": {},
   "outputs": [],
   "source": [
    "def getClass(revenue):\n",
    "    clss = revenue//step\n",
    "    return min(clss, num_classes-1)"
   ]
  },
  {
   "cell_type": "code",
   "execution_count": 6,
   "metadata": {},
   "outputs": [
    {
     "output_type": "execute_result",
     "data": {
      "text/plain": [
       "{0: 5082, 1: 1063, 2: 527, 3: 351, 4: 248, 5: 177, 6: 733}"
      ]
     },
     "metadata": {},
     "execution_count": 6
    }
   ],
   "source": [
    "xrr = []\n",
    "yrr = []\n",
    "frq_dst = {}\n",
    "for i in range(num_classes):\n",
    "    frq_dst[i] = 0\n",
    "\n",
    "for xy in XY:\n",
    "    xrr.append(xy['feature'])\n",
    "    yrr.append(getClass(xy['target']))\n",
    "    frq_dst[getClass(xy['target'])] += 1\n",
    "frq_dst"
   ]
  },
  {
   "source": [
    "# Normalize"
   ],
   "cell_type": "markdown",
   "metadata": {}
  },
  {
   "cell_type": "code",
   "execution_count": 7,
   "metadata": {},
   "outputs": [
    {
     "output_type": "execute_result",
     "data": {
      "text/plain": [
       "178"
      ]
     },
     "metadata": {},
     "execution_count": 7
    }
   ],
   "source": [
    "mxrr = [0]*len(xrr[1])\n",
    "len(mxrr)"
   ]
  },
  {
   "cell_type": "code",
   "execution_count": 8,
   "metadata": {},
   "outputs": [],
   "source": [
    "for feature in xrr:\n",
    "    for i in range(len(feature)):\n",
    "        mxrr[i] = max(mxrr[i], feature[i])"
   ]
  },
  {
   "cell_type": "code",
   "execution_count": 9,
   "metadata": {},
   "outputs": [],
   "source": [
    "mnrr = copy.deepcopy(mxrr)\n",
    "\n",
    "for feature in xrr:\n",
    "    for i in range(len(feature)):\n",
    "        mnrr[i] = min(mnrr[i], feature[i])"
   ]
  },
  {
   "cell_type": "code",
   "execution_count": 10,
   "metadata": {},
   "outputs": [],
   "source": [
    "nxrr = [[0]*len(xrr[0])]*len(xrr)\n",
    "\n",
    "for i in range(len(xrr)):\n",
    "    for j in range(len(xrr[i])):\n",
    "        if(mxrr[j]-mnrr[j] != 0):        \n",
    "            nxrr[i][j]= (xrr[i][j] - mnrr[j]) / (mxrr[j] - mnrr[j])"
   ]
  },
  {
   "cell_type": "code",
   "execution_count": 11,
   "metadata": {},
   "outputs": [
    {
     "output_type": "execute_result",
     "data": {
      "text/plain": [
       "((8181, 178), (8181, 178), (8181,))"
      ]
     },
     "metadata": {},
     "execution_count": 11
    }
   ],
   "source": [
    "xrr = np.array(xrr)\n",
    "nxrr = np.array(nxrr)\n",
    "yrr = np.array(yrr)\n",
    "\n",
    "xrr.shape, nxrr.shape, yrr.shape"
   ]
  },
  {
   "source": [
    "# Train-test split"
   ],
   "cell_type": "markdown",
   "metadata": {}
  },
  {
   "cell_type": "code",
   "execution_count": 12,
   "metadata": {},
   "outputs": [],
   "source": [
    "X_train, X_test, y_train, y_test = train_test_split(nxrr, yrr, test_size=0.30, random_state=17)"
   ]
  },
  {
   "source": [
    "# DNN"
   ],
   "cell_type": "markdown",
   "metadata": {}
  },
  {
   "cell_type": "code",
   "execution_count": 13,
   "metadata": {},
   "outputs": [
    {
     "output_type": "execute_result",
     "data": {
      "text/plain": [
       "((150, 4), (150,))"
      ]
     },
     "metadata": {},
     "execution_count": 13
    }
   ],
   "source": [
    "# mlp for multiclass classification\n",
    "from numpy import argmax\n",
    "from pandas import read_csv\n",
    "from sklearn.model_selection import train_test_split\n",
    "from sklearn.preprocessing import LabelEncoder\n",
    "from tensorflow.keras import Sequential\n",
    "from tensorflow.keras.layers import Dense\n",
    "# load the dataset\n",
    "path = 'https://raw.githubusercontent.com/jbrownlee/Datasets/master/iris.csv'\n",
    "df = read_csv(path, header=None)\n",
    "# split into input and output columns\n",
    "X, y = df.values[:, :-1], df.values[:, -1]\n",
    "# ensure all data are floating point values\n",
    "X = X.astype('float32')\n",
    "# encode strings to integer\n",
    "\n",
    "X.shape, y.shape"
   ]
  },
  {
   "cell_type": "code",
   "execution_count": 14,
   "metadata": {},
   "outputs": [
    {
     "output_type": "execute_result",
     "data": {
      "text/plain": [
       "(150,)"
      ]
     },
     "metadata": {},
     "execution_count": 14
    }
   ],
   "source": [
    "y = LabelEncoder().fit_transform(y)\n",
    "y.shape"
   ]
  },
  {
   "cell_type": "code",
   "execution_count": 16,
   "metadata": {},
   "outputs": [
    {
     "output_type": "execute_result",
     "data": {
      "text/plain": [
       "3"
      ]
     },
     "metadata": {},
     "execution_count": 16
    }
   ],
   "source": [
    "len(list(set(y)))"
   ]
  },
  {
   "cell_type": "code",
   "execution_count": 15,
   "metadata": {},
   "outputs": [
    {
     "output_type": "stream",
     "name": "stdout",
     "text": [
      "(100, 4) (50, 4) (100,) (50,)\n"
     ]
    }
   ],
   "source": [
    "X_train, X_test, y_train, y_test = train_test_split(X, y, test_size=0.33)\n",
    "print(X_train.shape, X_test.shape, y_train.shape, y_test.shape)\n"
   ]
  },
  {
   "cell_type": "code",
   "execution_count": 17,
   "metadata": {},
   "outputs": [],
   "source": [
    "n_features = X_train.shape[1]\n",
    "# define model\n",
    "model = Sequential()\n",
    "model.add(Dense(10, activation='relu', kernel_initializer='he_normal', input_shape=(n_features,)))\n",
    "model.add(Dense(8, activation='relu', kernel_initializer='he_normal'))\n",
    "model.add(Dense(3, activation='softmax'))"
   ]
  },
  {
   "cell_type": "code",
   "execution_count": 21,
   "metadata": {},
   "outputs": [
    {
     "output_type": "stream",
     "name": "stdout",
     "text": [
      "Train on 100 samples\n",
      "Epoch 1/150\n",
      "100/100 [==============================] - 0s 5ms/sample - loss: 0.4269 - accuracy: 0.8400\n",
      "Epoch 2/150\n",
      "100/100 [==============================] - 0s 188us/sample - loss: 0.4211 - accuracy: 0.8900\n",
      "Epoch 3/150\n",
      "100/100 [==============================] - 0s 356us/sample - loss: 0.4179 - accuracy: 0.8700\n",
      "Epoch 4/150\n",
      "100/100 [==============================] - 0s 311us/sample - loss: 0.4171 - accuracy: 0.8400\n",
      "Epoch 5/150\n",
      "100/100 [==============================] - 0s 288us/sample - loss: 0.4153 - accuracy: 0.8400\n",
      "Epoch 6/150\n",
      "100/100 [==============================] - 0s 200us/sample - loss: 0.4110 - accuracy: 0.8600\n",
      "Epoch 7/150\n",
      "100/100 [==============================] - 0s 370us/sample - loss: 0.4097 - accuracy: 0.8500\n",
      "Epoch 8/150\n",
      "100/100 [==============================] - 0s 222us/sample - loss: 0.4061 - accuracy: 0.8600\n",
      "Epoch 9/150\n",
      "100/100 [==============================] - 0s 236us/sample - loss: 0.4047 - accuracy: 0.8900\n",
      "Epoch 10/150\n",
      "100/100 [==============================] - 0s 202us/sample - loss: 0.4036 - accuracy: 0.8700\n",
      "Epoch 11/150\n",
      "100/100 [==============================] - 0s 289us/sample - loss: 0.4007 - accuracy: 0.8900\n",
      "Epoch 12/150\n",
      "100/100 [==============================] - 0s 207us/sample - loss: 0.4027 - accuracy: 0.8400\n",
      "Epoch 13/150\n",
      "100/100 [==============================] - 0s 272us/sample - loss: 0.4042 - accuracy: 0.8400\n",
      "Epoch 14/150\n",
      "100/100 [==============================] - 0s 207us/sample - loss: 0.3996 - accuracy: 0.8500\n",
      "Epoch 15/150\n",
      "100/100 [==============================] - 0s 314us/sample - loss: 0.3965 - accuracy: 0.8900\n",
      "Epoch 16/150\n",
      "100/100 [==============================] - 0s 285us/sample - loss: 0.3944 - accuracy: 0.8900\n",
      "Epoch 17/150\n",
      "100/100 [==============================] - 0s 281us/sample - loss: 0.3959 - accuracy: 0.9000\n",
      "Epoch 18/150\n",
      "100/100 [==============================] - 0s 243us/sample - loss: 0.3946 - accuracy: 0.8900\n",
      "Epoch 19/150\n",
      "100/100 [==============================] - 0s 280us/sample - loss: 0.3906 - accuracy: 0.8800\n",
      "Epoch 20/150\n",
      "100/100 [==============================] - 0s 263us/sample - loss: 0.3917 - accuracy: 0.8600\n",
      "Epoch 21/150\n",
      "100/100 [==============================] - 0s 266us/sample - loss: 0.3894 - accuracy: 0.8700\n",
      "Epoch 22/150\n",
      "100/100 [==============================] - 0s 260us/sample - loss: 0.3874 - accuracy: 0.8900\n",
      "Epoch 23/150\n",
      "100/100 [==============================] - 0s 243us/sample - loss: 0.3859 - accuracy: 0.9000\n",
      "Epoch 24/150\n",
      "100/100 [==============================] - 0s 266us/sample - loss: 0.3855 - accuracy: 0.9000\n",
      "Epoch 25/150\n",
      "100/100 [==============================] - 0s 245us/sample - loss: 0.3871 - accuracy: 0.8900\n",
      "Epoch 26/150\n",
      "100/100 [==============================] - 0s 266us/sample - loss: 0.3834 - accuracy: 0.9100\n",
      "Epoch 27/150\n",
      "100/100 [==============================] - 0s 240us/sample - loss: 0.3819 - accuracy: 0.9000\n",
      "Epoch 28/150\n",
      "100/100 [==============================] - 0s 196us/sample - loss: 0.3810 - accuracy: 0.9000\n",
      "Epoch 29/150\n",
      "100/100 [==============================] - 0s 168us/sample - loss: 0.3800 - accuracy: 0.8900\n",
      "Epoch 30/150\n",
      "100/100 [==============================] - 0s 305us/sample - loss: 0.3785 - accuracy: 0.8900\n",
      "Epoch 31/150\n",
      "100/100 [==============================] - 0s 251us/sample - loss: 0.3781 - accuracy: 0.8800\n",
      "Epoch 32/150\n",
      "100/100 [==============================] - 0s 233us/sample - loss: 0.3772 - accuracy: 0.8900\n",
      "Epoch 33/150\n",
      "100/100 [==============================] - 0s 263us/sample - loss: 0.3753 - accuracy: 0.8900\n",
      "Epoch 34/150\n",
      "100/100 [==============================] - 0s 313us/sample - loss: 0.3763 - accuracy: 0.9200\n",
      "Epoch 35/150\n",
      "100/100 [==============================] - 0s 238us/sample - loss: 0.3746 - accuracy: 0.9100\n",
      "Epoch 36/150\n",
      "100/100 [==============================] - 0s 229us/sample - loss: 0.3734 - accuracy: 0.9100\n",
      "Epoch 37/150\n",
      "100/100 [==============================] - 0s 275us/sample - loss: 0.3759 - accuracy: 0.9000\n",
      "Epoch 38/150\n",
      "100/100 [==============================] - 0s 242us/sample - loss: 0.3739 - accuracy: 0.9000\n",
      "Epoch 39/150\n",
      "100/100 [==============================] - 0s 250us/sample - loss: 0.3715 - accuracy: 0.9200\n",
      "Epoch 40/150\n",
      "100/100 [==============================] - 0s 249us/sample - loss: 0.3678 - accuracy: 0.9100\n",
      "Epoch 41/150\n",
      "100/100 [==============================] - 0s 331us/sample - loss: 0.3699 - accuracy: 0.8800\n",
      "Epoch 42/150\n",
      "100/100 [==============================] - 0s 302us/sample - loss: 0.3702 - accuracy: 0.8600\n",
      "Epoch 43/150\n",
      "100/100 [==============================] - 0s 242us/sample - loss: 0.3665 - accuracy: 0.8800\n",
      "Epoch 44/150\n",
      "100/100 [==============================] - 0s 258us/sample - loss: 0.3655 - accuracy: 0.9100\n",
      "Epoch 45/150\n",
      "100/100 [==============================] - 0s 251us/sample - loss: 0.3677 - accuracy: 0.9000\n",
      "Epoch 46/150\n",
      "100/100 [==============================] - 0s 286us/sample - loss: 0.3671 - accuracy: 0.9000\n",
      "Epoch 47/150\n",
      "100/100 [==============================] - 0s 229us/sample - loss: 0.3645 - accuracy: 0.9000\n",
      "Epoch 48/150\n",
      "100/100 [==============================] - 0s 261us/sample - loss: 0.3639 - accuracy: 0.9000\n",
      "Epoch 49/150\n",
      "100/100 [==============================] - 0s 230us/sample - loss: 0.3617 - accuracy: 0.9000\n",
      "Epoch 50/150\n",
      "100/100 [==============================] - 0s 281us/sample - loss: 0.3598 - accuracy: 0.9200\n",
      "Epoch 51/150\n",
      "100/100 [==============================] - 0s 295us/sample - loss: 0.3552 - accuracy: 0.9100\n",
      "Epoch 52/150\n",
      "100/100 [==============================] - 0s 242us/sample - loss: 0.3501 - accuracy: 0.9100\n",
      "Epoch 53/150\n",
      "100/100 [==============================] - 0s 308us/sample - loss: 0.3474 - accuracy: 0.9000\n",
      "Epoch 54/150\n",
      "100/100 [==============================] - 0s 238us/sample - loss: 0.3425 - accuracy: 0.8900\n",
      "Epoch 55/150\n",
      "100/100 [==============================] - 0s 224us/sample - loss: 0.3283 - accuracy: 0.9200\n",
      "Epoch 56/150\n",
      "100/100 [==============================] - 0s 272us/sample - loss: 0.3291 - accuracy: 0.9300\n",
      "Epoch 57/150\n",
      "100/100 [==============================] - 0s 259us/sample - loss: 0.3272 - accuracy: 0.9100\n",
      "Epoch 58/150\n",
      "100/100 [==============================] - 0s 251us/sample - loss: 0.3182 - accuracy: 0.9300\n",
      "Epoch 59/150\n",
      "100/100 [==============================] - 0s 275us/sample - loss: 0.3085 - accuracy: 0.9500\n",
      "Epoch 60/150\n",
      "100/100 [==============================] - 0s 246us/sample - loss: 0.3015 - accuracy: 0.9400\n",
      "Epoch 61/150\n",
      "100/100 [==============================] - 0s 333us/sample - loss: 0.2967 - accuracy: 0.9500\n",
      "Epoch 62/150\n",
      "100/100 [==============================] - 0s 345us/sample - loss: 0.2920 - accuracy: 0.9600\n",
      "Epoch 63/150\n",
      "100/100 [==============================] - 0s 310us/sample - loss: 0.2877 - accuracy: 0.9600\n",
      "Epoch 64/150\n",
      "100/100 [==============================] - 0s 283us/sample - loss: 0.2836 - accuracy: 0.9600\n",
      "Epoch 65/150\n",
      "100/100 [==============================] - 0s 376us/sample - loss: 0.2800 - accuracy: 0.9600\n",
      "Epoch 66/150\n",
      "100/100 [==============================] - 0s 295us/sample - loss: 0.2753 - accuracy: 0.9600\n",
      "Epoch 67/150\n",
      "100/100 [==============================] - 0s 293us/sample - loss: 0.2720 - accuracy: 0.9700\n",
      "Epoch 68/150\n",
      "100/100 [==============================] - 0s 295us/sample - loss: 0.2688 - accuracy: 0.9700\n",
      "Epoch 69/150\n",
      "100/100 [==============================] - 0s 341us/sample - loss: 0.2647 - accuracy: 0.9700\n",
      "Epoch 70/150\n",
      "100/100 [==============================] - 0s 314us/sample - loss: 0.2623 - accuracy: 0.9700\n",
      "Epoch 71/150\n",
      "100/100 [==============================] - 0s 360us/sample - loss: 0.2608 - accuracy: 0.9600\n",
      "Epoch 72/150\n",
      "100/100 [==============================] - 0s 266us/sample - loss: 0.2577 - accuracy: 0.9600\n",
      "Epoch 73/150\n",
      "100/100 [==============================] - 0s 246us/sample - loss: 0.2534 - accuracy: 0.9700\n",
      "Epoch 74/150\n",
      "100/100 [==============================] - 0s 230us/sample - loss: 0.2508 - accuracy: 0.9600\n",
      "Epoch 75/150\n",
      "100/100 [==============================] - 0s 217us/sample - loss: 0.2497 - accuracy: 0.9600\n",
      "Epoch 76/150\n",
      "100/100 [==============================] - 0s 321us/sample - loss: 0.2452 - accuracy: 0.9600\n",
      "Epoch 77/150\n",
      "100/100 [==============================] - 0s 324us/sample - loss: 0.2422 - accuracy: 0.9700\n",
      "Epoch 78/150\n",
      "100/100 [==============================] - 0s 252us/sample - loss: 0.2397 - accuracy: 0.9700\n",
      "Epoch 79/150\n",
      "100/100 [==============================] - 0s 239us/sample - loss: 0.2372 - accuracy: 0.9500\n",
      "Epoch 80/150\n",
      "100/100 [==============================] - 0s 269us/sample - loss: 0.2370 - accuracy: 0.9500\n",
      "Epoch 81/150\n",
      "100/100 [==============================] - 0s 296us/sample - loss: 0.2339 - accuracy: 0.9600\n",
      "Epoch 82/150\n",
      "100/100 [==============================] - 0s 234us/sample - loss: 0.2304 - accuracy: 0.9700\n",
      "Epoch 83/150\n",
      "100/100 [==============================] - 0s 347us/sample - loss: 0.2283 - accuracy: 0.9700\n",
      "Epoch 84/150\n",
      "100/100 [==============================] - 0s 319us/sample - loss: 0.2262 - accuracy: 0.9700\n",
      "Epoch 85/150\n",
      "100/100 [==============================] - 0s 258us/sample - loss: 0.2241 - accuracy: 0.9700\n",
      "Epoch 86/150\n",
      "100/100 [==============================] - 0s 302us/sample - loss: 0.2217 - accuracy: 0.9700\n",
      "Epoch 87/150\n",
      "100/100 [==============================] - 0s 273us/sample - loss: 0.2197 - accuracy: 0.9700\n",
      "Epoch 88/150\n",
      "100/100 [==============================] - 0s 261us/sample - loss: 0.2174 - accuracy: 0.9700\n",
      "Epoch 89/150\n",
      "100/100 [==============================] - 0s 255us/sample - loss: 0.2157 - accuracy: 0.9700\n",
      "Epoch 90/150\n",
      "100/100 [==============================] - 0s 289us/sample - loss: 0.2135 - accuracy: 0.9700\n",
      "Epoch 91/150\n",
      "100/100 [==============================] - 0s 305us/sample - loss: 0.2121 - accuracy: 0.9700\n",
      "Epoch 92/150\n",
      "100/100 [==============================] - 0s 246us/sample - loss: 0.2104 - accuracy: 0.9700\n",
      "Epoch 93/150\n",
      "100/100 [==============================] - 0s 210us/sample - loss: 0.2092 - accuracy: 0.9600\n",
      "Epoch 94/150\n",
      "100/100 [==============================] - 0s 289us/sample - loss: 0.2060 - accuracy: 0.9700\n",
      "Epoch 95/150\n",
      "100/100 [==============================] - 0s 236us/sample - loss: 0.2042 - accuracy: 0.9700\n",
      "Epoch 96/150\n",
      "100/100 [==============================] - 0s 294us/sample - loss: 0.2026 - accuracy: 0.9700\n",
      "Epoch 97/150\n",
      "100/100 [==============================] - 0s 363us/sample - loss: 0.2008 - accuracy: 0.9700\n",
      "Epoch 98/150\n",
      "100/100 [==============================] - 0s 295us/sample - loss: 0.1988 - accuracy: 0.9700\n",
      "Epoch 99/150\n",
      "100/100 [==============================] - 0s 212us/sample - loss: 0.1973 - accuracy: 0.9700\n",
      "Epoch 100/150\n",
      "100/100 [==============================] - 0s 311us/sample - loss: 0.1958 - accuracy: 0.9700\n",
      "Epoch 101/150\n",
      "100/100 [==============================] - 0s 237us/sample - loss: 0.1936 - accuracy: 0.9700\n",
      "Epoch 102/150\n",
      "100/100 [==============================] - 0s 255us/sample - loss: 0.1919 - accuracy: 0.9700\n",
      "Epoch 103/150\n",
      "100/100 [==============================] - 0s 217us/sample - loss: 0.1902 - accuracy: 0.9700\n",
      "Epoch 104/150\n",
      "100/100 [==============================] - 0s 274us/sample - loss: 0.1886 - accuracy: 0.9700\n",
      "Epoch 105/150\n",
      "100/100 [==============================] - 0s 237us/sample - loss: 0.1872 - accuracy: 0.9700\n",
      "Epoch 106/150\n",
      "100/100 [==============================] - 0s 216us/sample - loss: 0.1885 - accuracy: 0.9700\n",
      "Epoch 107/150\n",
      "100/100 [==============================] - 0s 268us/sample - loss: 0.1856 - accuracy: 0.9800\n",
      "Epoch 108/150\n",
      "100/100 [==============================] - 0s 244us/sample - loss: 0.1830 - accuracy: 0.9800\n",
      "Epoch 109/150\n",
      "100/100 [==============================] - 0s 280us/sample - loss: 0.1827 - accuracy: 0.9700\n",
      "Epoch 110/150\n",
      "100/100 [==============================] - 0s 265us/sample - loss: 0.1809 - accuracy: 0.9700\n",
      "Epoch 111/150\n",
      "100/100 [==============================] - 0s 308us/sample - loss: 0.1788 - accuracy: 0.9700\n",
      "Epoch 112/150\n",
      "100/100 [==============================] - 0s 271us/sample - loss: 0.1766 - accuracy: 0.9700\n",
      "Epoch 113/150\n",
      "100/100 [==============================] - 0s 340us/sample - loss: 0.1747 - accuracy: 0.9800\n",
      "Epoch 114/150\n",
      "100/100 [==============================] - 0s 200us/sample - loss: 0.1763 - accuracy: 0.9700\n",
      "Epoch 115/150\n",
      "100/100 [==============================] - 0s 253us/sample - loss: 0.1760 - accuracy: 0.9700\n",
      "Epoch 116/150\n",
      "100/100 [==============================] - 0s 207us/sample - loss: 0.1741 - accuracy: 0.9700\n",
      "Epoch 117/150\n",
      "100/100 [==============================] - 0s 251us/sample - loss: 0.1705 - accuracy: 0.9800\n",
      "Epoch 118/150\n",
      "100/100 [==============================] - 0s 245us/sample - loss: 0.1685 - accuracy: 0.9800\n",
      "Epoch 119/150\n",
      "100/100 [==============================] - 0s 229us/sample - loss: 0.1671 - accuracy: 0.9800\n",
      "Epoch 120/150\n",
      "100/100 [==============================] - 0s 305us/sample - loss: 0.1670 - accuracy: 0.9800\n",
      "Epoch 121/150\n",
      "100/100 [==============================] - 0s 182us/sample - loss: 0.1648 - accuracy: 0.9800\n",
      "Epoch 122/150\n",
      "100/100 [==============================] - 0s 247us/sample - loss: 0.1633 - accuracy: 0.9800\n",
      "Epoch 123/150\n",
      "100/100 [==============================] - 0s 212us/sample - loss: 0.1627 - accuracy: 0.9800\n",
      "Epoch 124/150\n",
      "100/100 [==============================] - 0s 294us/sample - loss: 0.1610 - accuracy: 0.9800\n",
      "Epoch 125/150\n",
      "100/100 [==============================] - 0s 248us/sample - loss: 0.1621 - accuracy: 0.9800\n",
      "Epoch 126/150\n",
      "100/100 [==============================] - 0s 249us/sample - loss: 0.1586 - accuracy: 0.9800\n",
      "Epoch 127/150\n",
      "100/100 [==============================] - 0s 234us/sample - loss: 0.1580 - accuracy: 0.9700\n",
      "Epoch 128/150\n",
      "100/100 [==============================] - 0s 238us/sample - loss: 0.1575 - accuracy: 0.9700\n",
      "Epoch 129/150\n",
      "100/100 [==============================] - 0s 238us/sample - loss: 0.1556 - accuracy: 0.9800\n",
      "Epoch 130/150\n",
      "100/100 [==============================] - 0s 310us/sample - loss: 0.1550 - accuracy: 0.9800\n",
      "Epoch 131/150\n",
      "100/100 [==============================] - 0s 265us/sample - loss: 0.1575 - accuracy: 0.9700\n",
      "Epoch 132/150\n",
      "100/100 [==============================] - 0s 240us/sample - loss: 0.1568 - accuracy: 0.9700\n",
      "Epoch 133/150\n",
      "100/100 [==============================] - 0s 249us/sample - loss: 0.1541 - accuracy: 0.9700\n",
      "Epoch 134/150\n",
      "100/100 [==============================] - 0s 267us/sample - loss: 0.1530 - accuracy: 0.9700\n",
      "Epoch 135/150\n",
      "100/100 [==============================] - 0s 211us/sample - loss: 0.1498 - accuracy: 0.9800\n",
      "Epoch 136/150\n",
      "100/100 [==============================] - 0s 187us/sample - loss: 0.1485 - accuracy: 0.9800\n",
      "Epoch 137/150\n",
      "100/100 [==============================] - 0s 189us/sample - loss: 0.1474 - accuracy: 0.9800\n",
      "Epoch 138/150\n",
      "100/100 [==============================] - 0s 220us/sample - loss: 0.1469 - accuracy: 0.9700\n",
      "Epoch 139/150\n",
      "100/100 [==============================] - 0s 226us/sample - loss: 0.1458 - accuracy: 0.9800\n",
      "Epoch 140/150\n",
      "100/100 [==============================] - 0s 230us/sample - loss: 0.1444 - accuracy: 0.9800\n",
      "Epoch 141/150\n",
      "100/100 [==============================] - 0s 223us/sample - loss: 0.1438 - accuracy: 0.9800\n",
      "Epoch 142/150\n",
      "100/100 [==============================] - 0s 175us/sample - loss: 0.1437 - accuracy: 0.9800\n",
      "Epoch 143/150\n",
      "100/100 [==============================] - 0s 237us/sample - loss: 0.1432 - accuracy: 0.9800\n",
      "Epoch 144/150\n",
      "100/100 [==============================] - 0s 227us/sample - loss: 0.1414 - accuracy: 0.9800\n",
      "Epoch 145/150\n",
      "100/100 [==============================] - 0s 266us/sample - loss: 0.1395 - accuracy: 0.9800\n",
      "Epoch 146/150\n",
      "100/100 [==============================] - 0s 325us/sample - loss: 0.1386 - accuracy: 0.9800\n",
      "Epoch 147/150\n",
      "100/100 [==============================] - 0s 256us/sample - loss: 0.1392 - accuracy: 0.9800\n",
      "Epoch 148/150\n",
      "100/100 [==============================] - 0s 209us/sample - loss: 0.1381 - accuracy: 0.9900\n",
      "Epoch 149/150\n",
      "100/100 [==============================] - 0s 296us/sample - loss: 0.1377 - accuracy: 0.9700\n",
      "Epoch 150/150\n",
      "100/100 [==============================] - 0s 223us/sample - loss: 0.1365 - accuracy: 0.9900\n"
     ]
    },
    {
     "output_type": "execute_result",
     "data": {
      "text/plain": [
       "<tensorflow.python.keras.callbacks.History at 0x7f434c087fd0>"
      ]
     },
     "metadata": {},
     "execution_count": 21
    }
   ],
   "source": [
    "# compile the model\n",
    "model.compile(optimizer='adam', loss='sparse_categorical_crossentropy', metrics=['accuracy'])\n",
    "# fit the model\n",
    "model.fit(X_train, y_train, epochs=150, batch_size=32, verbose=1)"
   ]
  },
  {
   "cell_type": "code",
   "execution_count": 22,
   "metadata": {},
   "outputs": [
    {
     "output_type": "stream",
     "name": "stdout",
     "text": [
      "Test Accuracy: 0.980\n"
     ]
    }
   ],
   "source": [
    "# evaluate the model\n",
    "loss, acc = model.evaluate(X_test, y_test, verbose=0)\n",
    "print('Test Accuracy: %.3f' % acc)"
   ]
  },
  {
   "cell_type": "code",
   "execution_count": 23,
   "metadata": {},
   "outputs": [
    {
     "output_type": "stream",
     "name": "stdout",
     "text": [
      "Predicted: [[9.9966836e-01 2.2600993e-04 1.0558057e-04]] (class=0)\n"
     ]
    }
   ],
   "source": [
    "row = [5.1,3.5,1.4,0.2]\n",
    "yhat = model.predict([row])\n",
    "print('Predicted: %s (class=%d)' % (yhat, argmax(yhat)))"
   ]
  },
  {
   "cell_type": "code",
   "execution_count": null,
   "metadata": {},
   "outputs": [],
   "source": []
  }
 ]
}