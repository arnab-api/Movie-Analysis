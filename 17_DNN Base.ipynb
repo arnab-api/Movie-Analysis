{
 "cells": [
  {
   "cell_type": "code",
   "execution_count": 38,
   "metadata": {},
   "outputs": [],
   "source": [
    "import json\n",
    "import numpy as np\n",
    "import pandas as pd\n",
    "import seaborn as sn\n",
    "from sklearn.model_selection import train_test_split\n",
    "import matplotlib.pyplot as plt\n",
    "from sklearn import datasets, svm, metrics\n",
    "import copy"
   ]
  },
  {
   "cell_type": "code",
   "execution_count": 39,
   "metadata": {},
   "outputs": [],
   "source": [
    "with open(\"SavedFeatures/final_feature_vector.json\", 'r') as f:\n",
    "    XY = json.load(f)"
   ]
  },
  {
   "cell_type": "code",
   "execution_count": 76,
   "metadata": {},
   "outputs": [
    {
     "data": {
      "text/plain": [
       "{'feature': [272987802,\n",
       "  5,\n",
       "  156523313.91325694,\n",
       "  141,\n",
       "  169388692.13589364,\n",
       "  1572,\n",
       "  194897714,\n",
       "  256472364562,\n",
       "  123980.73409669212,\n",
       "  163150359.13613233,\n",
       "  255502542.74965325,\n",
       "  1125,\n",
       "  164617671,\n",
       "  267702775337,\n",
       "  146326.81866666666,\n",
       "  237958022.52177778,\n",
       "  205304741.40341514,\n",
       "  749,\n",
       "  114081168,\n",
       "  133088008479,\n",
       "  152311.305740988,\n",
       "  177687594.76502,\n",
       "  0,\n",
       "  0,\n",
       "  0,\n",
       "  0,\n",
       "  0,\n",
       "  0,\n",
       "  0,\n",
       "  0,\n",
       "  0,\n",
       "  0,\n",
       "  0,\n",
       "  0,\n",
       "  1,\n",
       "  0,\n",
       "  0,\n",
       "  0,\n",
       "  0,\n",
       "  0,\n",
       "  44,\n",
       "  7794407,\n",
       "  8133149373,\n",
       "  177145.61363636365,\n",
       "  6.538636363636363,\n",
       "  184844303.9318182,\n",
       "  25,\n",
       "  6007348,\n",
       "  4019723303,\n",
       "  240293.92,\n",
       "  6.700000000000001,\n",
       "  160788932.12,\n",
       "  32,\n",
       "  7969802,\n",
       "  5994332869,\n",
       "  249056.3125,\n",
       "  6.671875,\n",
       "  187322902.15625,\n",
       "  15,\n",
       "  868793,\n",
       "  1303244588,\n",
       "  57919.53333333333,\n",
       "  6.2733333333333325,\n",
       "  86882972.53333333,\n",
       "  21,\n",
       "  3766023,\n",
       "  4144349048,\n",
       "  179334.42857142858,\n",
       "  6.7714285714285705,\n",
       "  197349954.66666666,\n",
       "  5,\n",
       "  526940,\n",
       "  600864824,\n",
       "  105388.0,\n",
       "  5.9799999999999995,\n",
       "  120172964.8,\n",
       "  3,\n",
       "  2107430,\n",
       "  2552147626,\n",
       "  702476.6666666666,\n",
       "  7.366666666666667,\n",
       "  850715875.3333334,\n",
       "  4,\n",
       "  1524592,\n",
       "  1224581556,\n",
       "  381148.0,\n",
       "  7.0249999999999995,\n",
       "  306145389.0,\n",
       "  10,\n",
       "  4479321,\n",
       "  4129520693,\n",
       "  447932.1,\n",
       "  6.890000000000001,\n",
       "  412952069.3,\n",
       "  14,\n",
       "  4323775,\n",
       "  4278672957,\n",
       "  308841.0714285714,\n",
       "  6.478571428571428,\n",
       "  305619496.9285714,\n",
       "  2,\n",
       "  1564275,\n",
       "  1765690254,\n",
       "  782137.5,\n",
       "  7.9,\n",
       "  882845127.0,\n",
       "  0,\n",
       "  0,\n",
       "  0,\n",
       "  0,\n",
       "  0,\n",
       "  0,\n",
       "  0,\n",
       "  0,\n",
       "  0,\n",
       "  0,\n",
       "  0,\n",
       "  0,\n",
       "  10,\n",
       "  4568723,\n",
       "  4844530670,\n",
       "  456872.3,\n",
       "  7.15,\n",
       "  484453067.0,\n",
       "  16,\n",
       "  9160170,\n",
       "  11745665096,\n",
       "  572510.625,\n",
       "  6.8375,\n",
       "  734104068.5,\n",
       "  13,\n",
       "  7925988,\n",
       "  7938568954,\n",
       "  609691.3846153846,\n",
       "  6.8999999999999995,\n",
       "  610659150.3076923,\n",
       "  2,\n",
       "  1510647,\n",
       "  1207410699,\n",
       "  755323.5,\n",
       "  7.300000000000001,\n",
       "  603705349.5,\n",
       "  13,\n",
       "  7925988,\n",
       "  7938568954,\n",
       "  609691.3846153846,\n",
       "  6.8999999999999995,\n",
       "  610659150.3076923,\n",
       "  13,\n",
       "  8945395,\n",
       "  9617144866,\n",
       "  688107.3076923077,\n",
       "  6.9923076923076914,\n",
       "  739780374.3076923,\n",
       "  146,\n",
       "  27454904,\n",
       "  50204754209,\n",
       "  188047.2876712329,\n",
       "  6.444520547945206,\n",
       "  343868179.51369864,\n",
       "  0,\n",
       "  0,\n",
       "  0,\n",
       "  0,\n",
       "  0,\n",
       "  0,\n",
       "  0,\n",
       "  0,\n",
       "  0,\n",
       "  0,\n",
       "  0,\n",
       "  0,\n",
       "  0,\n",
       "  0,\n",
       "  0,\n",
       "  0,\n",
       "  0,\n",
       "  0],\n",
       " 'target': 1531799574}"
      ]
     },
     "execution_count": 76,
     "metadata": {},
     "output_type": "execute_result"
    }
   ],
   "source": [
    "XY[0]"
   ]
  },
  {
   "cell_type": "code",
   "execution_count": 77,
   "metadata": {},
   "outputs": [
    {
     "data": {
      "text/plain": [
       "{'feature': [190053769,\n",
       "  11,\n",
       "  130818934.29671897,\n",
       "  130,\n",
       "  169388692.13589364,\n",
       "  1769,\n",
       "  218445186,\n",
       "  290346469535,\n",
       "  123485.1249293386,\n",
       "  164130282.38270208,\n",
       "  255502542.74965325,\n",
       "  1257,\n",
       "  186419392,\n",
       "  309180398118,\n",
       "  148305.00556881464,\n",
       "  245966903.83293557,\n",
       "  98024501.8939987,\n",
       "  2824,\n",
       "  178676079,\n",
       "  269406462707,\n",
       "  63270.56621813031,\n",
       "  95398889.0605524,\n",
       "  200222315.72959185,\n",
       "  858,\n",
       "  101327345,\n",
       "  165583233371,\n",
       "  118097.13869463869,\n",
       "  192987451.48135197,\n",
       "  205304741.40341514,\n",
       "  821,\n",
       "  129246211,\n",
       "  154704544389,\n",
       "  157425.34835566382,\n",
       "  188434280.61997563,\n",
       "  1,\n",
       "  0,\n",
       "  0,\n",
       "  0,\n",
       "  0,\n",
       "  0,\n",
       "  15,\n",
       "  5626440,\n",
       "  6080340099,\n",
       "  375096.0,\n",
       "  6.713333333333333,\n",
       "  405356006.6,\n",
       "  32,\n",
       "  8888717,\n",
       "  9040244603,\n",
       "  277772.40625,\n",
       "  7.06875,\n",
       "  282507643.84375,\n",
       "  31,\n",
       "  3808095,\n",
       "  6483160911,\n",
       "  122841.7741935484,\n",
       "  6.36774193548387,\n",
       "  209134222.93548387,\n",
       "  15,\n",
       "  3120070,\n",
       "  2915511882,\n",
       "  208004.66666666666,\n",
       "  6.506666666666666,\n",
       "  194367458.8,\n",
       "  40,\n",
       "  5921907,\n",
       "  5975729347,\n",
       "  148047.675,\n",
       "  6.709999999999999,\n",
       "  149393233.675,\n",
       "  2,\n",
       "  430896,\n",
       "  260877127,\n",
       "  215448.0,\n",
       "  6.6,\n",
       "  130438563.5,\n",
       "  20,\n",
       "  3915842,\n",
       "  2045845919,\n",
       "  195792.1,\n",
       "  6.415000000000001,\n",
       "  102292295.95,\n",
       "  12,\n",
       "  2950342,\n",
       "  2847995503,\n",
       "  245861.83333333334,\n",
       "  6.375,\n",
       "  237332958.58333334,\n",
       "  8,\n",
       "  3423366,\n",
       "  3418798756,\n",
       "  427920.75,\n",
       "  7.049999999999999,\n",
       "  427349844.5,\n",
       "  25,\n",
       "  4659881,\n",
       "  6755581890,\n",
       "  186395.24,\n",
       "  6.295999999999999,\n",
       "  270223275.6,\n",
       "  1,\n",
       "  161137,\n",
       "  7920096,\n",
       "  161137.0,\n",
       "  7.7,\n",
       "  7920096.0,\n",
       "  0,\n",
       "  0,\n",
       "  0,\n",
       "  0,\n",
       "  0,\n",
       "  0,\n",
       "  0,\n",
       "  0,\n",
       "  0,\n",
       "  0,\n",
       "  0,\n",
       "  0,\n",
       "  0,\n",
       "  0,\n",
       "  0,\n",
       "  0,\n",
       "  0,\n",
       "  0,\n",
       "  0,\n",
       "  0,\n",
       "  0,\n",
       "  0,\n",
       "  0,\n",
       "  0,\n",
       "  2,\n",
       "  627046,\n",
       "  723106199,\n",
       "  313523.0,\n",
       "  5.75,\n",
       "  361553099.5,\n",
       "  21,\n",
       "  11680141,\n",
       "  15345297861,\n",
       "  556197.1904761905,\n",
       "  6.790476190476191,\n",
       "  730728469.5714285,\n",
       "  6,\n",
       "  4416720,\n",
       "  4594746749,\n",
       "  736120.0,\n",
       "  7.199999999999999,\n",
       "  765791124.8333334,\n",
       "  162,\n",
       "  32209110,\n",
       "  59415639239,\n",
       "  198821.66666666666,\n",
       "  6.517283950617285,\n",
       "  366763205.17901236,\n",
       "  17,\n",
       "  11592521,\n",
       "  13690606470,\n",
       "  681913.0,\n",
       "  7.105882352941175,\n",
       "  805329792.3529412,\n",
       "  0,\n",
       "  0,\n",
       "  0,\n",
       "  0,\n",
       "  0,\n",
       "  0,\n",
       "  0,\n",
       "  0,\n",
       "  0,\n",
       "  0,\n",
       "  0,\n",
       "  0,\n",
       "  0,\n",
       "  0,\n",
       "  0,\n",
       "  0,\n",
       "  0,\n",
       "  0],\n",
       " 'target': 901682563}"
      ]
     },
     "execution_count": 77,
     "metadata": {},
     "output_type": "execute_result"
    }
   ],
   "source": [
    "XY[1]"
   ]
  },
  {
   "cell_type": "code",
   "execution_count": 40,
   "metadata": {},
   "outputs": [
    {
     "name": "stdout",
     "output_type": "stream",
     "text": [
      "--- to 50000000 :: 0\n",
      "50000000 to 100000000 :: 1\n",
      "100000000 to 150000000 :: 2\n",
      "150000000 to 200000000 :: 3\n",
      "200000000 to 250000000 :: 4\n",
      "250000000 to 300000000 :: 5\n",
      "300000000 to +++ :: 6\n"
     ]
    }
   ],
   "source": [
    "step = 50000000\n",
    "lo = 0\n",
    "clss = 0\n",
    "num_classes = 7\n",
    "\n",
    "while(lo < step*(num_classes-1) + 1):\n",
    "    hi = lo + step\n",
    "    lo_txt = lo\n",
    "    hi_txt = hi\n",
    "    if(lo_txt == 0):\n",
    "        lo_txt = '---'\n",
    "    if(lo_txt == step*(num_classes-1)):\n",
    "        hi_txt = '+++'\n",
    "    print('{} to {} :: {}'.format(lo_txt, hi_txt, clss))\n",
    "\n",
    "    clss += 1\n",
    "    lo += step"
   ]
  },
  {
   "cell_type": "code",
   "execution_count": 41,
   "metadata": {},
   "outputs": [
    {
     "data": {
      "text/plain": [
       "8181"
      ]
     },
     "execution_count": 41,
     "metadata": {},
     "output_type": "execute_result"
    }
   ],
   "source": [
    "len(XY)"
   ]
  },
  {
   "cell_type": "code",
   "execution_count": 42,
   "metadata": {},
   "outputs": [],
   "source": [
    "def getClass(revenue):\n",
    "    clss = revenue//step\n",
    "    return min(clss, num_classes-1)"
   ]
  },
  {
   "cell_type": "code",
   "execution_count": 43,
   "metadata": {},
   "outputs": [
    {
     "data": {
      "text/plain": [
       "{0: 5082, 1: 1063, 2: 527, 3: 351, 4: 248, 5: 177, 6: 733}"
      ]
     },
     "execution_count": 43,
     "metadata": {},
     "output_type": "execute_result"
    }
   ],
   "source": [
    "xrr = []\n",
    "yrr = []\n",
    "frq_dst = {}\n",
    "for i in range(num_classes):\n",
    "    frq_dst[i] = 0\n",
    "\n",
    "for xy in XY:\n",
    "    xrr.append(xy['feature'])\n",
    "    yrr.append(getClass(xy['target']))\n",
    "    frq_dst[getClass(xy['target'])] += 1\n",
    "frq_dst"
   ]
  },
  {
   "cell_type": "code",
   "execution_count": 79,
   "metadata": {},
   "outputs": [
    {
     "data": {
      "text/plain": [
       "(array([2.72987802e+08, 5.00000000e+00, 1.56523314e+08, 1.41000000e+02,\n",
       "        1.69388692e+08, 1.57200000e+03, 1.94897714e+08, 2.56472365e+11,\n",
       "        1.23980734e+05, 1.63150359e+08, 2.55502543e+08, 1.12500000e+03,\n",
       "        1.64617671e+08, 2.67702775e+11, 1.46326819e+05, 2.37958023e+08,\n",
       "        2.05304741e+08, 7.49000000e+02, 1.14081168e+08, 1.33088008e+11,\n",
       "        1.52311306e+05, 1.77687595e+08, 0.00000000e+00, 0.00000000e+00,\n",
       "        0.00000000e+00, 0.00000000e+00, 0.00000000e+00, 0.00000000e+00,\n",
       "        0.00000000e+00, 0.00000000e+00, 0.00000000e+00, 0.00000000e+00,\n",
       "        0.00000000e+00, 0.00000000e+00, 1.00000000e+00, 0.00000000e+00,\n",
       "        0.00000000e+00, 0.00000000e+00, 0.00000000e+00, 0.00000000e+00,\n",
       "        4.40000000e+01, 7.79440700e+06, 8.13314937e+09, 1.77145614e+05,\n",
       "        6.53863636e+00, 1.84844304e+08, 2.50000000e+01, 6.00734800e+06,\n",
       "        4.01972330e+09, 2.40293920e+05, 6.70000000e+00, 1.60788932e+08,\n",
       "        3.20000000e+01, 7.96980200e+06, 5.99433287e+09, 2.49056312e+05,\n",
       "        6.67187500e+00, 1.87322902e+08, 1.50000000e+01, 8.68793000e+05,\n",
       "        1.30324459e+09, 5.79195333e+04, 6.27333333e+00, 8.68829725e+07,\n",
       "        2.10000000e+01, 3.76602300e+06, 4.14434905e+09, 1.79334429e+05,\n",
       "        6.77142857e+00, 1.97349955e+08, 5.00000000e+00, 5.26940000e+05,\n",
       "        6.00864824e+08, 1.05388000e+05, 5.98000000e+00, 1.20172965e+08,\n",
       "        3.00000000e+00, 2.10743000e+06, 2.55214763e+09, 7.02476667e+05,\n",
       "        7.36666667e+00, 8.50715875e+08, 4.00000000e+00, 1.52459200e+06,\n",
       "        1.22458156e+09, 3.81148000e+05, 7.02500000e+00, 3.06145389e+08,\n",
       "        1.00000000e+01, 4.47932100e+06, 4.12952069e+09, 4.47932100e+05,\n",
       "        6.89000000e+00, 4.12952069e+08, 1.40000000e+01, 4.32377500e+06,\n",
       "        4.27867296e+09, 3.08841071e+05, 6.47857143e+00, 3.05619497e+08,\n",
       "        2.00000000e+00, 1.56427500e+06, 1.76569025e+09, 7.82137500e+05,\n",
       "        7.90000000e+00, 8.82845127e+08, 0.00000000e+00, 0.00000000e+00,\n",
       "        0.00000000e+00, 0.00000000e+00, 0.00000000e+00, 0.00000000e+00,\n",
       "        0.00000000e+00, 0.00000000e+00, 0.00000000e+00, 0.00000000e+00,\n",
       "        0.00000000e+00, 0.00000000e+00, 1.00000000e+01, 4.56872300e+06,\n",
       "        4.84453067e+09, 4.56872300e+05, 7.15000000e+00, 4.84453067e+08,\n",
       "        1.60000000e+01, 9.16017000e+06, 1.17456651e+10, 5.72510625e+05,\n",
       "        6.83750000e+00, 7.34104068e+08, 1.30000000e+01, 7.92598800e+06,\n",
       "        7.93856895e+09, 6.09691385e+05, 6.90000000e+00, 6.10659150e+08,\n",
       "        2.00000000e+00, 1.51064700e+06, 1.20741070e+09, 7.55323500e+05,\n",
       "        7.30000000e+00, 6.03705350e+08, 1.30000000e+01, 7.92598800e+06,\n",
       "        7.93856895e+09, 6.09691385e+05, 6.90000000e+00, 6.10659150e+08,\n",
       "        1.30000000e+01, 8.94539500e+06, 9.61714487e+09, 6.88107308e+05,\n",
       "        6.99230769e+00, 7.39780374e+08, 1.46000000e+02, 2.74549040e+07,\n",
       "        5.02047542e+10, 1.88047288e+05, 6.44452055e+00, 3.43868180e+08,\n",
       "        0.00000000e+00, 0.00000000e+00, 0.00000000e+00, 0.00000000e+00,\n",
       "        0.00000000e+00, 0.00000000e+00, 0.00000000e+00, 0.00000000e+00,\n",
       "        0.00000000e+00, 0.00000000e+00, 0.00000000e+00, 0.00000000e+00,\n",
       "        0.00000000e+00, 0.00000000e+00, 0.00000000e+00, 0.00000000e+00,\n",
       "        0.00000000e+00, 0.00000000e+00]),\n",
       " array([1.90053769e+08, 1.10000000e+01, 1.30818934e+08, 1.30000000e+02,\n",
       "        1.69388692e+08, 1.76900000e+03, 2.18445186e+08, 2.90346470e+11,\n",
       "        1.23485125e+05, 1.64130282e+08, 2.55502543e+08, 1.25700000e+03,\n",
       "        1.86419392e+08, 3.09180398e+11, 1.48305006e+05, 2.45966904e+08,\n",
       "        9.80245019e+07, 2.82400000e+03, 1.78676079e+08, 2.69406463e+11,\n",
       "        6.32705662e+04, 9.53988891e+07, 2.00222316e+08, 8.58000000e+02,\n",
       "        1.01327345e+08, 1.65583233e+11, 1.18097139e+05, 1.92987451e+08,\n",
       "        2.05304741e+08, 8.21000000e+02, 1.29246211e+08, 1.54704544e+11,\n",
       "        1.57425348e+05, 1.88434281e+08, 1.00000000e+00, 0.00000000e+00,\n",
       "        0.00000000e+00, 0.00000000e+00, 0.00000000e+00, 0.00000000e+00,\n",
       "        1.50000000e+01, 5.62644000e+06, 6.08034010e+09, 3.75096000e+05,\n",
       "        6.71333333e+00, 4.05356007e+08, 3.20000000e+01, 8.88871700e+06,\n",
       "        9.04024460e+09, 2.77772406e+05, 7.06875000e+00, 2.82507644e+08,\n",
       "        3.10000000e+01, 3.80809500e+06, 6.48316091e+09, 1.22841774e+05,\n",
       "        6.36774194e+00, 2.09134223e+08, 1.50000000e+01, 3.12007000e+06,\n",
       "        2.91551188e+09, 2.08004667e+05, 6.50666667e+00, 1.94367459e+08,\n",
       "        4.00000000e+01, 5.92190700e+06, 5.97572935e+09, 1.48047675e+05,\n",
       "        6.71000000e+00, 1.49393234e+08, 2.00000000e+00, 4.30896000e+05,\n",
       "        2.60877127e+08, 2.15448000e+05, 6.60000000e+00, 1.30438564e+08,\n",
       "        2.00000000e+01, 3.91584200e+06, 2.04584592e+09, 1.95792100e+05,\n",
       "        6.41500000e+00, 1.02292296e+08, 1.20000000e+01, 2.95034200e+06,\n",
       "        2.84799550e+09, 2.45861833e+05, 6.37500000e+00, 2.37332959e+08,\n",
       "        8.00000000e+00, 3.42336600e+06, 3.41879876e+09, 4.27920750e+05,\n",
       "        7.05000000e+00, 4.27349844e+08, 2.50000000e+01, 4.65988100e+06,\n",
       "        6.75558189e+09, 1.86395240e+05, 6.29600000e+00, 2.70223276e+08,\n",
       "        1.00000000e+00, 1.61137000e+05, 7.92009600e+06, 1.61137000e+05,\n",
       "        7.70000000e+00, 7.92009600e+06, 0.00000000e+00, 0.00000000e+00,\n",
       "        0.00000000e+00, 0.00000000e+00, 0.00000000e+00, 0.00000000e+00,\n",
       "        0.00000000e+00, 0.00000000e+00, 0.00000000e+00, 0.00000000e+00,\n",
       "        0.00000000e+00, 0.00000000e+00, 0.00000000e+00, 0.00000000e+00,\n",
       "        0.00000000e+00, 0.00000000e+00, 0.00000000e+00, 0.00000000e+00,\n",
       "        0.00000000e+00, 0.00000000e+00, 0.00000000e+00, 0.00000000e+00,\n",
       "        0.00000000e+00, 0.00000000e+00, 2.00000000e+00, 6.27046000e+05,\n",
       "        7.23106199e+08, 3.13523000e+05, 5.75000000e+00, 3.61553100e+08,\n",
       "        2.10000000e+01, 1.16801410e+07, 1.53452979e+10, 5.56197190e+05,\n",
       "        6.79047619e+00, 7.30728470e+08, 6.00000000e+00, 4.41672000e+06,\n",
       "        4.59474675e+09, 7.36120000e+05, 7.20000000e+00, 7.65791125e+08,\n",
       "        1.62000000e+02, 3.22091100e+07, 5.94156392e+10, 1.98821667e+05,\n",
       "        6.51728395e+00, 3.66763205e+08, 1.70000000e+01, 1.15925210e+07,\n",
       "        1.36906065e+10, 6.81913000e+05, 7.10588235e+00, 8.05329792e+08,\n",
       "        0.00000000e+00, 0.00000000e+00, 0.00000000e+00, 0.00000000e+00,\n",
       "        0.00000000e+00, 0.00000000e+00, 0.00000000e+00, 0.00000000e+00,\n",
       "        0.00000000e+00, 0.00000000e+00, 0.00000000e+00, 0.00000000e+00,\n",
       "        0.00000000e+00, 0.00000000e+00, 0.00000000e+00, 0.00000000e+00,\n",
       "        0.00000000e+00, 0.00000000e+00]))"
      ]
     },
     "execution_count": 79,
     "metadata": {},
     "output_type": "execute_result"
    }
   ],
   "source": [
    "xrr[0], xrr[1]"
   ]
  },
  {
   "cell_type": "markdown",
   "metadata": {},
   "source": [
    "# Normalize"
   ]
  },
  {
   "cell_type": "code",
   "execution_count": 142,
   "metadata": {},
   "outputs": [
    {
     "data": {
      "text/plain": [
       "178"
      ]
     },
     "execution_count": 142,
     "metadata": {},
     "output_type": "execute_result"
    }
   ],
   "source": [
    "mxrr = np.zeros(len(xrr[1]))\n",
    "len(mxrr)"
   ]
  },
  {
   "cell_type": "code",
   "execution_count": 143,
   "metadata": {},
   "outputs": [],
   "source": [
    "for feature in xrr:\n",
    "    for i in range(len(feature)):\n",
    "        mxrr[i] = max(mxrr[i], feature[i])"
   ]
  },
  {
   "cell_type": "code",
   "execution_count": 144,
   "metadata": {},
   "outputs": [],
   "source": [
    "mnrr = copy.deepcopy(mxrr)\n",
    "\n",
    "for feature in xrr:\n",
    "    for i in range(len(feature)):\n",
    "        mnrr[i] = min(mnrr[i], feature[i])"
   ]
  },
  {
   "cell_type": "code",
   "execution_count": 107,
   "metadata": {},
   "outputs": [],
   "source": [
    "# mxrr"
   ]
  },
  {
   "cell_type": "code",
   "execution_count": 108,
   "metadata": {},
   "outputs": [],
   "source": [
    "# mnrr"
   ]
  },
  {
   "cell_type": "code",
   "execution_count": 120,
   "metadata": {},
   "outputs": [
    {
     "data": {
      "text/plain": [
       "(178, 8181)"
      ]
     },
     "execution_count": 120,
     "metadata": {},
     "output_type": "execute_result"
    }
   ],
   "source": [
    "(len(xrr[0]) , len(xrr))"
   ]
  },
  {
   "cell_type": "code",
   "execution_count": 121,
   "metadata": {},
   "outputs": [],
   "source": [
    "nxrr = np.zeros( (len(xrr) , len(xrr[0])) )\n",
    "\n",
    "for i in range(len(xrr)):\n",
    "#     print(i)\n",
    "    for j in range(len(xrr[i])):\n",
    "        if(mxrr[j]-mnrr[j] != 0): \n",
    "            nxrr[i][j]= (xrr[i][j] - mnrr[j]) / (mxrr[j] - mnrr[j])\n",
    "#             print(i, j, nxrr[i][j])\n",
    "#     if(i == 3):\n",
    "#         break"
   ]
  },
  {
   "cell_type": "code",
   "execution_count": 122,
   "metadata": {},
   "outputs": [
    {
     "data": {
      "text/plain": [
       "(272987802.0, 190053769.0)"
      ]
     },
     "execution_count": 122,
     "metadata": {},
     "output_type": "execute_result"
    }
   ],
   "source": [
    "xrr[0][0],xrr[1][0]"
   ]
  },
  {
   "cell_type": "code",
   "execution_count": 123,
   "metadata": {},
   "outputs": [
    {
     "data": {
      "text/plain": [
       "(0.7289983417510857, 0.5075277409081593)"
      ]
     },
     "execution_count": 123,
     "metadata": {},
     "output_type": "execute_result"
    }
   ],
   "source": [
    "nxrr[0][0], nxrr[1][0]"
   ]
  },
  {
   "cell_type": "code",
   "execution_count": 124,
   "metadata": {},
   "outputs": [
    {
     "data": {
      "text/plain": [
       "((8181, 178), (8181, 178), (8181,))"
      ]
     },
     "execution_count": 124,
     "metadata": {},
     "output_type": "execute_result"
    }
   ],
   "source": [
    "xrr = np.array(xrr)\n",
    "nxrr = np.array(nxrr)\n",
    "yrr = np.array(yrr)\n",
    "\n",
    "xrr.shape, nxrr.shape, yrr.shape"
   ]
  },
  {
   "cell_type": "markdown",
   "metadata": {},
   "source": [
    "# Train-test split"
   ]
  },
  {
   "cell_type": "code",
   "execution_count": 125,
   "metadata": {},
   "outputs": [],
   "source": [
    "X_train, X_test, y_train, y_test = train_test_split(nxrr, yrr, test_size=0.30, random_state=17)"
   ]
  },
  {
   "cell_type": "code",
   "execution_count": 126,
   "metadata": {},
   "outputs": [
    {
     "data": {
      "text/plain": [
       "((5726, 178), (5726,))"
      ]
     },
     "execution_count": 126,
     "metadata": {},
     "output_type": "execute_result"
    }
   ],
   "source": [
    "X_train.shape, y_train.shape"
   ]
  },
  {
   "cell_type": "code",
   "execution_count": 127,
   "metadata": {},
   "outputs": [
    {
     "data": {
      "text/plain": [
       "((2455, 178), (2455,))"
      ]
     },
     "execution_count": 127,
     "metadata": {},
     "output_type": "execute_result"
    }
   ],
   "source": [
    "X_test.shape, y_test.shape"
   ]
  },
  {
   "cell_type": "markdown",
   "metadata": {},
   "source": [
    "# DNN"
   ]
  },
  {
   "cell_type": "code",
   "execution_count": 128,
   "metadata": {},
   "outputs": [],
   "source": [
    "# mlp for multiclass classification\n",
    "from numpy import argmax\n",
    "from pandas import read_csv\n",
    "from sklearn.model_selection import train_test_split\n",
    "from sklearn.preprocessing import LabelEncoder\n",
    "from tensorflow.keras import Sequential\n",
    "from tensorflow.keras.layers import Dense\n",
    "# load the dataset"
   ]
  },
  {
   "cell_type": "code",
   "execution_count": 129,
   "metadata": {},
   "outputs": [],
   "source": [
    "n_features = X_train.shape[1]\n",
    "# define model\n",
    "model = Sequential()\n",
    "model.add(Dense(100, activation='relu', kernel_initializer='he_normal', input_shape=(n_features,)))\n",
    "model.add(Dense(50, activation='relu', kernel_initializer='he_normal'))\n",
    "model.add(Dense(num_classes, activation='softmax'))"
   ]
  },
  {
   "cell_type": "code",
   "execution_count": 130,
   "metadata": {},
   "outputs": [
    {
     "name": "stdout",
     "output_type": "stream",
     "text": [
      "Epoch 1/15\n",
      "179/179 [==============================] - 1s 2ms/step - loss: 1.3685 - accuracy: 0.5943\n",
      "Epoch 2/15\n",
      "179/179 [==============================] - 0s 2ms/step - loss: 1.0217 - accuracy: 0.6619\n",
      "Epoch 3/15\n",
      "179/179 [==============================] - 0s 2ms/step - loss: 0.9587 - accuracy: 0.6750\n",
      "Epoch 4/15\n",
      "179/179 [==============================] - 0s 2ms/step - loss: 0.9416 - accuracy: 0.6777\n",
      "Epoch 5/15\n",
      "179/179 [==============================] - 1s 4ms/step - loss: 0.9106 - accuracy: 0.6843\n",
      "Epoch 6/15\n",
      "179/179 [==============================] - 0s 2ms/step - loss: 0.8943 - accuracy: 0.6968\n",
      "Epoch 7/15\n",
      "179/179 [==============================] - 0s 2ms/step - loss: 0.8896 - accuracy: 0.6904\n",
      "Epoch 8/15\n",
      "179/179 [==============================] - 1s 4ms/step - loss: 0.8874 - accuracy: 0.6944\n",
      "Epoch 9/15\n",
      "179/179 [==============================] - 0s 2ms/step - loss: 0.8391 - accuracy: 0.6983\n",
      "Epoch 10/15\n",
      "179/179 [==============================] - 0s 2ms/step - loss: 0.8436 - accuracy: 0.7021\n",
      "Epoch 11/15\n",
      "179/179 [==============================] - 1s 5ms/step - loss: 0.8239 - accuracy: 0.7077\n",
      "Epoch 12/15\n",
      "179/179 [==============================] - 0s 2ms/step - loss: 0.8070 - accuracy: 0.7125\n",
      "Epoch 13/15\n",
      "179/179 [==============================] - 0s 2ms/step - loss: 0.7588 - accuracy: 0.7252\n",
      "Epoch 14/15\n",
      "179/179 [==============================] - 0s 2ms/step - loss: 0.7527 - accuracy: 0.7213\n",
      "Epoch 15/15\n",
      "179/179 [==============================] - 1s 5ms/step - loss: 0.7337 - accuracy: 0.7371\n"
     ]
    },
    {
     "data": {
      "text/plain": [
       "<tensorflow.python.keras.callbacks.History at 0x7f8c5ec48590>"
      ]
     },
     "execution_count": 130,
     "metadata": {},
     "output_type": "execute_result"
    }
   ],
   "source": [
    "# compile the model\n",
    "model.compile(optimizer='adam', loss='sparse_categorical_crossentropy', metrics=['accuracy'])\n",
    "# fit the model\n",
    "model.fit(X_train, y_train, epochs=15, batch_size=32, verbose=1)"
   ]
  },
  {
   "cell_type": "code",
   "execution_count": 131,
   "metadata": {},
   "outputs": [
    {
     "name": "stdout",
     "output_type": "stream",
     "text": [
      "Test Accuracy: 0.654\n"
     ]
    }
   ],
   "source": [
    "# evaluate the model\n",
    "loss, acc = model.evaluate(X_test, y_test, verbose=0)\n",
    "print('Test Accuracy: %.3f' % acc)"
   ]
  },
  {
   "cell_type": "code",
   "execution_count": 141,
   "metadata": {},
   "outputs": [
    {
     "name": "stdout",
     "output_type": "stream",
     "text": [
      "Predicted: [[0.8260617  0.08665932 0.02342774 0.03320596 0.00632719 0.00774037\n",
      "  0.01657777]] (class=0)\n"
     ]
    }
   ],
   "source": [
    "row = np.array([X_test[10]])\n",
    "yhat = model.predict(row)\n",
    "print('Predicted: %s (class=%d)' % (yhat, argmax(yhat)))"
   ]
  },
  {
   "cell_type": "code",
   "execution_count": 133,
   "metadata": {},
   "outputs": [],
   "source": [
    "def getConfusionMatrix(target, predicted):\n",
    "    classes = sorted(list(set(target)))\n",
    "    matrix = {}\n",
    "    for c in classes:\n",
    "        matrix[c] = {}\n",
    "        for cc in classes:\n",
    "            matrix[c][cc] = 0\n",
    "    for i in range(len(target)):\n",
    "        t = target[i]\n",
    "        p = predicted[i]\n",
    "\n",
    "        matrix[t][p] += 1\n",
    "    \n",
    "    return matrix"
   ]
  },
  {
   "cell_type": "code",
   "execution_count": 138,
   "metadata": {},
   "outputs": [],
   "source": [
    "def plotMatrix(dct2D):\n",
    "    # print(dct2D)\n",
    "    arr2D = []\n",
    "    for ik in dct2D:\n",
    "        arr1D = []\n",
    "        for jk in dct2D[ik]:\n",
    "            arr1D.append(dct2D[ik][jk])\n",
    "        arr2D.append(arr1D)\n",
    "    df_cm = pd.DataFrame(arr2D, index = list(dct2D.keys()),\n",
    "                  columns = list(dct2D.keys()))\n",
    "    plt.figure(figsize = (20,14))\n",
    "    sn.heatmap(df_cm, annot=True)\n",
    "    plt.show()"
   ]
  },
  {
   "cell_type": "code",
   "execution_count": 135,
   "metadata": {},
   "outputs": [],
   "source": [
    "def getPrediction(model, X_test):\n",
    "    pred = model.predict(X_test)\n",
    "    y_hat = []\n",
    "    for i in range(len(pred)):\n",
    "        y_hat.append(np.argmax(pred[i]))\n",
    "    return y_hat"
   ]
  },
  {
   "cell_type": "code",
   "execution_count": 136,
   "metadata": {},
   "outputs": [],
   "source": [
    "matrix = getConfusionMatrix(y_test, getPrediction(model, X_test))"
   ]
  },
  {
   "cell_type": "code",
   "execution_count": 139,
   "metadata": {},
   "outputs": [
    {
     "data": {
      "image/png": "[encoded data removed]",
      "text/plain": [
       "<Figure size 1440x1008 with 2 Axes>"
      ]
     },
     "metadata": {
      "needs_background": "light"
     },
     "output_type": "display_data"
    }
   ],
   "source": [
    "plotMatrix(matrix)"
   ]
  },
  {
   "cell_type": "code",
   "execution_count": null,
   "metadata": {},
   "outputs": [],
   "source": []
  }
 ],
 "metadata": {
  "kernelspec": {
   "display_name": "Python 3",
   "language": "python",
   "name": "python3"
  },
  "language_info": {
   "codemirror_mode": {
    "name": "ipython",
    "version": 3
   },
   "file_extension": ".py",
   "mimetype": "text/x-python",
   "name": "python",
   "nbconvert_exporter": "python",
   "pygments_lexer": "ipython3",
   "version": "3.7.10"
  }
 },
 "nbformat": 4,
 "nbformat_minor": 2
}
