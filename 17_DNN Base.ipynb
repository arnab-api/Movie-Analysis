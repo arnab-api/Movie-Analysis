{
 "cells": [
  {
   "cell_type": "code",
   "execution_count": 1,
   "metadata": {},
   "outputs": [],
   "source": [
    "import json\n",
    "import numpy as np\n",
    "import pandas as pd\n",
    "import seaborn as sn\n",
    "from sklearn.model_selection import train_test_split\n",
    "import matplotlib.pyplot as plt\n",
    "from sklearn import datasets, svm, metrics\n",
    "import copy"
   ]
  },
  {
   "cell_type": "code",
   "execution_count": 2,
   "metadata": {},
   "outputs": [],
   "source": [
    "with open(\"SavedFeatures/final_feature_vector.json\", 'r') as f:\n",
    "    XY = json.load(f)"
   ]
  },
  {
   "cell_type": "code",
   "execution_count": 4,
   "metadata": {},
   "outputs": [],
   "source": [
    "# XY[0]"
   ]
  },
  {
   "cell_type": "code",
   "execution_count": 5,
   "metadata": {},
   "outputs": [],
   "source": [
    "# XY[1]"
   ]
  },
  {
   "cell_type": "code",
   "execution_count": 164,
   "metadata": {},
   "outputs": [
    {
     "output_type": "stream",
     "name": "stdout",
     "text": [
      "--- to 50000000 :: 0\n50000000 to 100000000 :: 1\n100000000 to 150000000 :: 2\n150000000 to 200000000 :: 3\n200000000 to 250000000 :: 4\n250000000 to 300000000 :: 5\n300000000 to +++ :: 6\n"
     ]
    }
   ],
   "source": [
    "step = 50000000\n",
    "lo = 0\n",
    "clss = 0\n",
    "num_classes = 7\n",
    "\n",
    "while(lo < step*(num_classes-1) + 1):\n",
    "    hi = lo + step\n",
    "    lo_txt = lo\n",
    "    hi_txt = hi\n",
    "    if(lo_txt == 0):\n",
    "        lo_txt = '---'\n",
    "    if(lo_txt == step*(num_classes-1)):\n",
    "        hi_txt = '+++'\n",
    "    print('{} to {} :: {}'.format(lo_txt, hi_txt, clss))\n",
    "\n",
    "    clss += 1\n",
    "    lo += step"
   ]
  },
  {
   "cell_type": "code",
   "execution_count": 9,
   "metadata": {},
   "outputs": [
    {
     "output_type": "execute_result",
     "data": {
      "text/plain": [
       "8181"
      ]
     },
     "metadata": {},
     "execution_count": 9
    }
   ],
   "source": [
    "len(XY)"
   ]
  },
  {
   "cell_type": "code",
   "execution_count": 10,
   "metadata": {},
   "outputs": [],
   "source": [
    "def getClass(revenue):\n",
    "    clss = revenue//step\n",
    "    return min(clss, num_classes-1)"
   ]
  },
  {
   "cell_type": "code",
   "execution_count": 61,
   "metadata": {},
   "outputs": [
    {
     "output_type": "execute_result",
     "data": {
      "text/plain": [
       "{0: 200, 1: 200, 2: 200, 3: 200, 4: 200, 5: 177, 6: 200}"
      ]
     },
     "metadata": {},
     "execution_count": 61
    }
   ],
   "source": [
    "xrr = []\n",
    "yrr = []\n",
    "frq_dst = {}\n",
    "thresh = 200\n",
    "\n",
    "for i in range(num_classes):\n",
    "    frq_dst[i] = 0\n",
    "\n",
    "for xy in XY:\n",
    "    clss = getClass(xy['target'])\n",
    "    if(thresh != -1 and frq_dst[clss] >= thresh):\n",
    "        continue\n",
    "    xrr.append(xy['feature'])\n",
    "    yrr.append(clss)\n",
    "    frq_dst[clss] += 1\n",
    "frq_dst"
   ]
  },
  {
   "cell_type": "code",
   "execution_count": 62,
   "metadata": {},
   "outputs": [],
   "source": [
    "# xrr[0], xrr[1]"
   ]
  },
  {
   "cell_type": "markdown",
   "metadata": {},
   "source": [
    "# Normalize"
   ]
  },
  {
   "cell_type": "code",
   "execution_count": 63,
   "metadata": {},
   "outputs": [
    {
     "output_type": "execute_result",
     "data": {
      "text/plain": [
       "178"
      ]
     },
     "metadata": {},
     "execution_count": 63
    }
   ],
   "source": [
    "mxrr = np.zeros(len(xrr[1]))\n",
    "len(mxrr)"
   ]
  },
  {
   "cell_type": "code",
   "execution_count": 64,
   "metadata": {},
   "outputs": [],
   "source": [
    "for feature in xrr:\n",
    "    for i in range(len(feature)):\n",
    "        mxrr[i] = max(mxrr[i], feature[i])"
   ]
  },
  {
   "cell_type": "code",
   "execution_count": 65,
   "metadata": {},
   "outputs": [],
   "source": [
    "mnrr = copy.deepcopy(mxrr)\n",
    "\n",
    "for feature in xrr:\n",
    "    for i in range(len(feature)):\n",
    "        mnrr[i] = min(mnrr[i], feature[i])"
   ]
  },
  {
   "cell_type": "code",
   "execution_count": 66,
   "metadata": {},
   "outputs": [],
   "source": [
    "# mxrr"
   ]
  },
  {
   "cell_type": "code",
   "execution_count": 67,
   "metadata": {},
   "outputs": [],
   "source": [
    "# mnrr"
   ]
  },
  {
   "cell_type": "code",
   "execution_count": 68,
   "metadata": {},
   "outputs": [
    {
     "output_type": "execute_result",
     "data": {
      "text/plain": [
       "(178, 1377)"
      ]
     },
     "metadata": {},
     "execution_count": 68
    }
   ],
   "source": [
    "(len(xrr[0]) , len(xrr))"
   ]
  },
  {
   "cell_type": "code",
   "execution_count": 69,
   "metadata": {},
   "outputs": [],
   "source": [
    "nxrr = np.zeros( (len(xrr) , len(xrr[0])) )\n",
    "\n",
    "for i in range(len(xrr)):\n",
    "#     print(i)\n",
    "    for j in range(len(xrr[i])):\n",
    "        if(mxrr[j]-mnrr[j] != 0): \n",
    "            nxrr[i][j]= (xrr[i][j] - mnrr[j]) / (mxrr[j] - mnrr[j])\n",
    "#             print(i, j, nxrr[i][j])\n",
    "#     if(i == 3):\n",
    "#         break"
   ]
  },
  {
   "cell_type": "code",
   "execution_count": 70,
   "metadata": {},
   "outputs": [
    {
     "output_type": "execute_result",
     "data": {
      "text/plain": [
       "(272987802, 190053769)"
      ]
     },
     "metadata": {},
     "execution_count": 70
    }
   ],
   "source": [
    "xrr[0][0],xrr[1][0]"
   ]
  },
  {
   "cell_type": "code",
   "execution_count": 71,
   "metadata": {},
   "outputs": [
    {
     "output_type": "execute_result",
     "data": {
      "text/plain": [
       "(0.7574626453164661, 0.5273292993370051)"
      ]
     },
     "metadata": {},
     "execution_count": 71
    }
   ],
   "source": [
    "nxrr[0][0], nxrr[1][0]"
   ]
  },
  {
   "cell_type": "code",
   "execution_count": 72,
   "metadata": {},
   "outputs": [
    {
     "output_type": "execute_result",
     "data": {
      "text/plain": [
       "((1377, 178), (1377, 178), (1377,))"
      ]
     },
     "metadata": {},
     "execution_count": 72
    }
   ],
   "source": [
    "xrr = np.array(xrr)\n",
    "nxrr = np.array(nxrr)\n",
    "yrr = np.array(yrr)\n",
    "\n",
    "xrr.shape, nxrr.shape, yrr.shape"
   ]
  },
  {
   "cell_type": "markdown",
   "metadata": {},
   "source": [
    "# Train-test split"
   ]
  },
  {
   "cell_type": "code",
   "execution_count": 169,
   "metadata": {},
   "outputs": [],
   "source": [
    "# def turnIntoOrdinalOnehot(clss):\n",
    "#     one_hot = [0]*num_classes\n",
    "#     for i in range(clss+1):\n",
    "#         one_hot[i] = 1\n",
    "#     return one_hot"
   ]
  },
  {
   "cell_type": "code",
   "execution_count": 188,
   "metadata": {},
   "outputs": [],
   "source": [
    "# def turnIntoOrdinalOnehot__Vector(labels):\n",
    "#     onehot_vec = []\n",
    "#     for i in range(len(labels)):\n",
    "#         onehot_vec.append(turnIntoOrdinalOnehot(labels[i]))\n",
    "#     return np.array(onehot_vec)"
   ]
  },
  {
   "cell_type": "code",
   "execution_count": 232,
   "metadata": {},
   "outputs": [],
   "source": [
    "X_train, X_test, y_train, y_test = train_test_split(nxrr, yrr, test_size=0.30, random_state=17)\n",
    "y_train_trans = y_train.reshape(-1, 1)\n",
    "y_test_trans = y_test.reshape(-1, 1)\n",
    "# y_train_tarns = turnIntoOrdinalOnehot__Vector(y_train)"
   ]
  },
  {
   "cell_type": "code",
   "execution_count": 233,
   "metadata": {},
   "outputs": [],
   "source": [
    "# turnIntoOrdinalOnehot(y_train[2])"
   ]
  },
  {
   "cell_type": "code",
   "execution_count": 234,
   "metadata": {},
   "outputs": [],
   "source": [
    "# turnIntoOrdinalOnehot__Vector([0,1,2,3])"
   ]
  },
  {
   "cell_type": "code",
   "execution_count": 235,
   "metadata": {},
   "outputs": [
    {
     "output_type": "execute_result",
     "data": {
      "text/plain": [
       "(array([2]), 2)"
      ]
     },
     "metadata": {},
     "execution_count": 235
    }
   ],
   "source": [
    "y_train_trans[10], y_train[10]"
   ]
  },
  {
   "cell_type": "code",
   "execution_count": 236,
   "metadata": {},
   "outputs": [
    {
     "output_type": "execute_result",
     "data": {
      "text/plain": [
       "((963, 178), (963,), (963, 1))"
      ]
     },
     "metadata": {},
     "execution_count": 236
    }
   ],
   "source": [
    "X_train.shape, y_train.shape, y_train_trans.shape"
   ]
  },
  {
   "cell_type": "code",
   "execution_count": 237,
   "metadata": {},
   "outputs": [
    {
     "output_type": "execute_result",
     "data": {
      "text/plain": [
       "((414, 178), (414,), (414, 1))"
      ]
     },
     "metadata": {},
     "execution_count": 237
    }
   ],
   "source": [
    "X_test.shape, y_test.shape, y_test_trans.shape"
   ]
  },
  {
   "cell_type": "code",
   "execution_count": 238,
   "metadata": {},
   "outputs": [
    {
     "output_type": "execute_result",
     "data": {
      "text/plain": [
       "OneHotEncoder()"
      ]
     },
     "metadata": {},
     "execution_count": 238
    }
   ],
   "source": [
    "from sklearn import preprocessing\n",
    "\n",
    "onehot = preprocessing.OneHotEncoder()\n",
    "onehot.fit(y_train_trans)"
   ]
  },
  {
   "cell_type": "code",
   "execution_count": 239,
   "metadata": {},
   "outputs": [],
   "source": [
    "y_train_ohe = onehot.transform(y_train_trans).toarray()\n",
    "y_test_ohe = onehot.transform(y_test_trans).toarray()"
   ]
  },
  {
   "cell_type": "code",
   "execution_count": 240,
   "metadata": {},
   "outputs": [
    {
     "output_type": "execute_result",
     "data": {
      "text/plain": [
       "((963, 7), (414, 7))"
      ]
     },
     "metadata": {},
     "execution_count": 240
    }
   ],
   "source": [
    "y_train_ohe.shape, y_test_ohe.shape"
   ]
  },
  {
   "cell_type": "code",
   "execution_count": 241,
   "metadata": {},
   "outputs": [
    {
     "output_type": "execute_result",
     "data": {
      "text/plain": [
       "(4, array([4]))"
      ]
     },
     "metadata": {},
     "execution_count": 241
    }
   ],
   "source": [
    "idx = 100\n",
    "y_train[idx], y_train_trans[idx]"
   ]
  },
  {
   "cell_type": "markdown",
   "metadata": {},
   "source": [
    "# DNN"
   ]
  },
  {
   "cell_type": "code",
   "execution_count": 242,
   "metadata": {},
   "outputs": [],
   "source": [
    "from numpy import argmax\n",
    "from pandas import read_csv\n",
    "from sklearn.model_selection import train_test_split\n",
    "from sklearn.preprocessing import LabelEncoder\n",
    "from tensorflow.keras import Sequential\n",
    "from tensorflow.keras.layers import Dense\n",
    "import tensorflow as tf"
   ]
  },
  {
   "cell_type": "code",
   "execution_count": 243,
   "metadata": {},
   "outputs": [],
   "source": [
    "from tensorflow.keras import backend"
   ]
  },
  {
   "cell_type": "code",
   "execution_count": 244,
   "metadata": {},
   "outputs": [],
   "source": [
    "def custom_loss(y_true, y_pred):\n",
    "    true_val = tf.argmax(y_true)\n",
    "    pred_val = tf.argmax(y_pred)\n",
    "    # print(true_val.numpy(), pred_val.numpy(), tf.square(true_val - pred_val).numpy())\n",
    "    # return tf.reduce_mean(tf.square(y_true-y_pred))\n",
    "    loss = tf.square(true_val - pred_val)\n",
    "    return tf.reduce_mean(tf.cast(loss, tf.float64))"
   ]
  },
  {
   "cell_type": "code",
   "execution_count": 245,
   "metadata": {},
   "outputs": [
    {
     "output_type": "execute_result",
     "data": {
      "text/plain": [
       "(2, 5)"
      ]
     },
     "metadata": {},
     "execution_count": 245
    }
   ],
   "source": [
    "a = 10\n",
    "b = 131\n",
    "y_train[a], y_train[b]"
   ]
  },
  {
   "cell_type": "code",
   "execution_count": 247,
   "metadata": {},
   "outputs": [
    {
     "output_type": "execute_result",
     "data": {
      "text/plain": [
       "9.0"
      ]
     },
     "metadata": {},
     "execution_count": 247
    }
   ],
   "source": [
    "custom_loss(y_train_ohe[a], y_train_ohe[b]).numpy()"
   ]
  },
  {
   "cell_type": "code",
   "execution_count": 248,
   "metadata": {},
   "outputs": [],
   "source": [
    "n_features = X_train.shape[1]\n",
    "# define model\n",
    "model = Sequential()\n",
    "model.add(Dense(100, activation='relu', kernel_initializer='he_normal', input_shape=(n_features,)))\n",
    "model. kernel_initializer='he_normal'))\n",
    "model.add(softmaxum_classes, activation='softmax'))"
   ]
  },
  {
   "cell_type": "code",
   "execution_count": 249,
   "metadata": {},
   "outputs": [
    {
     "output_type": "stream",
     "name": "stdout",
     "text": [
      "Train on 963 samples\n",
      "Epoch 1/15\n",
      "963/963 [==============================] - 1s 919us/sample - loss: 1.9425\n",
      "Epoch 2/15\n",
      "963/963 [==============================] - 0s 195us/sample - loss: 1.8526\n",
      "Epoch 3/15\n",
      "963/963 [==============================] - 0s 198us/sample - loss: 1.7632\n",
      "Epoch 4/15\n",
      "963/963 [==============================] - 0s 183us/sample - loss: 1.6851\n",
      "Epoch 5/15\n",
      "963/963 [==============================] - 0s 214us/sample - loss: 1.6376\n",
      "Epoch 6/15\n",
      "963/963 [==============================] - 0s 197us/sample - loss: 1.6065\n",
      "Epoch 7/15\n",
      "963/963 [==============================] - 0s 193us/sample - loss: 1.5686\n",
      "Epoch 8/15\n",
      "963/963 [==============================] - 0s 181us/sample - loss: 1.5371\n",
      "Epoch 9/15\n",
      "963/963 [==============================] - 0s 210us/sample - loss: 1.5024\n",
      "Epoch 10/15\n",
      "963/963 [==============================] - 0s 189us/sample - loss: 1.4688\n",
      "Epoch 11/15\n",
      "963/963 [==============================] - 0s 226us/sample - loss: 1.4512\n",
      "Epoch 12/15\n",
      "963/963 [==============================] - 0s 151us/sample - loss: 1.4089\n",
      "Epoch 13/15\n",
      "963/963 [==============================] - 0s 191us/sample - loss: 1.3776\n",
      "Epoch 14/15\n",
      "963/963 [==============================] - 0s 193us/sample - loss: 1.3306\n",
      "Epoch 15/15\n",
      "963/963 [==============================] - 0s 194us/sample - loss: 1.2952\n"
     ]
    },
    {
     "output_type": "execute_result",
     "data": {
      "text/plain": [
       "<tensorflow.python.keras.callbacks.History at 0x7f71dc1c7f10>"
      ]
     },
     "metadata": {},
     "execution_count": 249
    }
   ],
   "source": [
    "# compile the model\n",
    "model.compile(optimizer='adam', loss='categorical_crossentropy')\n",
    "# fit the model\n",
    "model.fit(X_train, y_train_ohe, epochs=15, batch_size=32, verbose=1)"
   ]
  },
  {
   "cell_type": "code",
   "execution_count": 251,
   "metadata": {},
   "outputs": [
    {
     "output_type": "error",
     "ename": "ValueError",
     "evalue": "You are passing a target array of shape (414, 1) while using as loss `categorical_crossentropy`. `categorical_crossentropy` expects targets to be binary matrices (1s and 0s) of shape (samples, classes). If your targets are integer classes, you can convert them to the expected format via:\n```\nfrom keras.utils import to_categorical\ny_binary = to_categorical(y_int)\n```\n\nAlternatively, you can use the loss function `sparse_categorical_crossentropy` instead, which does expect integer targets.",
     "traceback": [
      "\u001b[0;31m---------------------------------------------------------------------------\u001b[0m",
      "\u001b[0;31mValueError\u001b[0m                                Traceback (most recent call last)",
      "\u001b[0;32m<ipython-input-251-b4c5aab208d2>\u001b[0m in \u001b[0;36m<module>\u001b[0;34m\u001b[0m\n\u001b[1;32m      1\u001b[0m \u001b[0;31m# evaluate the model\u001b[0m\u001b[0;34m\u001b[0m\u001b[0;34m\u001b[0m\u001b[0;34m\u001b[0m\u001b[0m\n\u001b[0;32m----> 2\u001b[0;31m \u001b[0mloss\u001b[0m\u001b[0;34m,\u001b[0m \u001b[0macc\u001b[0m \u001b[0;34m=\u001b[0m \u001b[0mmodel\u001b[0m\u001b[0;34m.\u001b[0m\u001b[0mevaluate\u001b[0m\u001b[0;34m(\u001b[0m\u001b[0mX_test\u001b[0m\u001b[0;34m,\u001b[0m \u001b[0my_test\u001b[0m\u001b[0;34m,\u001b[0m \u001b[0mverbose\u001b[0m\u001b[0;34m=\u001b[0m\u001b[0;36m0\u001b[0m\u001b[0;34m)\u001b[0m\u001b[0;34m\u001b[0m\u001b[0;34m\u001b[0m\u001b[0m\n\u001b[0m\u001b[1;32m      3\u001b[0m \u001b[0mprint\u001b[0m\u001b[0;34m(\u001b[0m\u001b[0;34m'Test Accuracy: %.3f'\u001b[0m \u001b[0;34m%\u001b[0m \u001b[0macc\u001b[0m\u001b[0;34m)\u001b[0m\u001b[0;34m\u001b[0m\u001b[0;34m\u001b[0m\u001b[0m\n",
      "\u001b[0;32m~/anaconda3/envs/ml/lib/python3.7/site-packages/tensorflow_core/python/keras/engine/training.py\u001b[0m in \u001b[0;36mevaluate\u001b[0;34m(self, x, y, batch_size, verbose, sample_weight, steps, callbacks, max_queue_size, workers, use_multiprocessing)\u001b[0m\n\u001b[1;32m    928\u001b[0m         \u001b[0mmax_queue_size\u001b[0m\u001b[0;34m=\u001b[0m\u001b[0mmax_queue_size\u001b[0m\u001b[0;34m,\u001b[0m\u001b[0;34m\u001b[0m\u001b[0;34m\u001b[0m\u001b[0m\n\u001b[1;32m    929\u001b[0m         \u001b[0mworkers\u001b[0m\u001b[0;34m=\u001b[0m\u001b[0mworkers\u001b[0m\u001b[0;34m,\u001b[0m\u001b[0;34m\u001b[0m\u001b[0;34m\u001b[0m\u001b[0m\n\u001b[0;32m--> 930\u001b[0;31m         use_multiprocessing=use_multiprocessing)\n\u001b[0m\u001b[1;32m    931\u001b[0m \u001b[0;34m\u001b[0m\u001b[0m\n\u001b[1;32m    932\u001b[0m   def predict(self,\n",
      "\u001b[0;32m~/anaconda3/envs/ml/lib/python3.7/site-packages/tensorflow_core/python/keras/engine/training_v2.py\u001b[0m in \u001b[0;36mevaluate\u001b[0;34m(self, model, x, y, batch_size, verbose, sample_weight, steps, callbacks, max_queue_size, workers, use_multiprocessing, **kwargs)\u001b[0m\n\u001b[1;32m    488\u001b[0m         \u001b[0msample_weight\u001b[0m\u001b[0;34m=\u001b[0m\u001b[0msample_weight\u001b[0m\u001b[0;34m,\u001b[0m \u001b[0msteps\u001b[0m\u001b[0;34m=\u001b[0m\u001b[0msteps\u001b[0m\u001b[0;34m,\u001b[0m \u001b[0mcallbacks\u001b[0m\u001b[0;34m=\u001b[0m\u001b[0mcallbacks\u001b[0m\u001b[0;34m,\u001b[0m\u001b[0;34m\u001b[0m\u001b[0;34m\u001b[0m\u001b[0m\n\u001b[1;32m    489\u001b[0m         \u001b[0mmax_queue_size\u001b[0m\u001b[0;34m=\u001b[0m\u001b[0mmax_queue_size\u001b[0m\u001b[0;34m,\u001b[0m \u001b[0mworkers\u001b[0m\u001b[0;34m=\u001b[0m\u001b[0mworkers\u001b[0m\u001b[0;34m,\u001b[0m\u001b[0;34m\u001b[0m\u001b[0;34m\u001b[0m\u001b[0m\n\u001b[0;32m--> 490\u001b[0;31m         use_multiprocessing=use_multiprocessing, **kwargs)\n\u001b[0m\u001b[1;32m    491\u001b[0m \u001b[0;34m\u001b[0m\u001b[0m\n\u001b[1;32m    492\u001b[0m   def predict(self, model, x, batch_size=None, verbose=0, steps=None,\n",
      "\u001b[0;32m~/anaconda3/envs/ml/lib/python3.7/site-packages/tensorflow_core/python/keras/engine/training_v2.py\u001b[0m in \u001b[0;36m_model_iteration\u001b[0;34m(self, model, mode, x, y, batch_size, verbose, sample_weight, steps, callbacks, max_queue_size, workers, use_multiprocessing, **kwargs)\u001b[0m\n\u001b[1;32m    424\u001b[0m           \u001b[0mmax_queue_size\u001b[0m\u001b[0;34m=\u001b[0m\u001b[0mmax_queue_size\u001b[0m\u001b[0;34m,\u001b[0m\u001b[0;34m\u001b[0m\u001b[0;34m\u001b[0m\u001b[0m\n\u001b[1;32m    425\u001b[0m           \u001b[0mworkers\u001b[0m\u001b[0;34m=\u001b[0m\u001b[0mworkers\u001b[0m\u001b[0;34m,\u001b[0m\u001b[0;34m\u001b[0m\u001b[0;34m\u001b[0m\u001b[0m\n\u001b[0;32m--> 426\u001b[0;31m           use_multiprocessing=use_multiprocessing)\n\u001b[0m\u001b[1;32m    427\u001b[0m       \u001b[0mtotal_samples\u001b[0m \u001b[0;34m=\u001b[0m \u001b[0m_get_total_number_of_samples\u001b[0m\u001b[0;34m(\u001b[0m\u001b[0madapter\u001b[0m\u001b[0;34m)\u001b[0m\u001b[0;34m\u001b[0m\u001b[0;34m\u001b[0m\u001b[0m\n\u001b[1;32m    428\u001b[0m       \u001b[0muse_sample\u001b[0m \u001b[0;34m=\u001b[0m \u001b[0mtotal_samples\u001b[0m \u001b[0;32mis\u001b[0m \u001b[0;32mnot\u001b[0m \u001b[0;32mNone\u001b[0m\u001b[0;34m\u001b[0m\u001b[0;34m\u001b[0m\u001b[0m\n",
      "\u001b[0;32m~/anaconda3/envs/ml/lib/python3.7/site-packages/tensorflow_core/python/keras/engine/training_v2.py\u001b[0m in \u001b[0;36m_process_inputs\u001b[0;34m(model, mode, x, y, batch_size, epochs, sample_weights, class_weights, shuffle, steps, distribution_strategy, max_queue_size, workers, use_multiprocessing)\u001b[0m\n\u001b[1;32m    644\u001b[0m     \u001b[0mstandardize_function\u001b[0m \u001b[0;34m=\u001b[0m \u001b[0;32mNone\u001b[0m\u001b[0;34m\u001b[0m\u001b[0;34m\u001b[0m\u001b[0m\n\u001b[1;32m    645\u001b[0m     x, y, sample_weights = standardize(\n\u001b[0;32m--> 646\u001b[0;31m         x, y, sample_weight=sample_weights)\n\u001b[0m\u001b[1;32m    647\u001b[0m   \u001b[0;32melif\u001b[0m \u001b[0madapter_cls\u001b[0m \u001b[0;32mis\u001b[0m \u001b[0mdata_adapter\u001b[0m\u001b[0;34m.\u001b[0m\u001b[0mListsOfScalarsDataAdapter\u001b[0m\u001b[0;34m:\u001b[0m\u001b[0;34m\u001b[0m\u001b[0;34m\u001b[0m\u001b[0m\n\u001b[1;32m    648\u001b[0m     \u001b[0mstandardize_function\u001b[0m \u001b[0;34m=\u001b[0m \u001b[0mstandardize\u001b[0m\u001b[0;34m\u001b[0m\u001b[0;34m\u001b[0m\u001b[0m\n",
      "\u001b[0;32m~/anaconda3/envs/ml/lib/python3.7/site-packages/tensorflow_core/python/keras/engine/training.py\u001b[0m in \u001b[0;36m_standardize_user_data\u001b[0;34m(self, x, y, sample_weight, class_weight, batch_size, check_steps, steps_name, steps, validation_split, shuffle, extract_tensors_from_dataset)\u001b[0m\n\u001b[1;32m   2381\u001b[0m         \u001b[0mis_dataset\u001b[0m\u001b[0;34m=\u001b[0m\u001b[0mis_dataset\u001b[0m\u001b[0;34m,\u001b[0m\u001b[0;34m\u001b[0m\u001b[0;34m\u001b[0m\u001b[0m\n\u001b[1;32m   2382\u001b[0m         \u001b[0mclass_weight\u001b[0m\u001b[0;34m=\u001b[0m\u001b[0mclass_weight\u001b[0m\u001b[0;34m,\u001b[0m\u001b[0;34m\u001b[0m\u001b[0;34m\u001b[0m\u001b[0m\n\u001b[0;32m-> 2383\u001b[0;31m         batch_size=batch_size)\n\u001b[0m\u001b[1;32m   2384\u001b[0m \u001b[0;34m\u001b[0m\u001b[0m\n\u001b[1;32m   2385\u001b[0m   def _standardize_tensors(self, x, y, sample_weight, run_eagerly, dict_inputs,\n",
      "\u001b[0;32m~/anaconda3/envs/ml/lib/python3.7/site-packages/tensorflow_core/python/keras/engine/training.py\u001b[0m in \u001b[0;36m_standardize_tensors\u001b[0;34m(self, x, y, sample_weight, run_eagerly, dict_inputs, is_dataset, class_weight, batch_size)\u001b[0m\n\u001b[1;32m   2487\u001b[0m           \u001b[0;31m# Additional checks to avoid users mistakenly using improper loss fns.\u001b[0m\u001b[0;34m\u001b[0m\u001b[0;34m\u001b[0m\u001b[0;34m\u001b[0m\u001b[0m\n\u001b[1;32m   2488\u001b[0m           training_utils.check_loss_and_target_compatibility(\n\u001b[0;32m-> 2489\u001b[0;31m               y, self._feed_loss_fns, feed_output_shapes)\n\u001b[0m\u001b[1;32m   2490\u001b[0m \u001b[0;34m\u001b[0m\u001b[0m\n\u001b[1;32m   2491\u001b[0m       sample_weights, _, _ = training_utils.handle_partial_sample_weights(\n",
      "\u001b[0;32m~/anaconda3/envs/ml/lib/python3.7/site-packages/tensorflow_core/python/keras/engine/training_utils.py\u001b[0m in \u001b[0;36mcheck_loss_and_target_compatibility\u001b[0;34m(targets, loss_fns, output_shapes)\u001b[0m\n\u001b[1;32m    782\u001b[0m         raise ValueError('You are passing a target array of shape ' +\n\u001b[1;32m    783\u001b[0m                          \u001b[0mstr\u001b[0m\u001b[0;34m(\u001b[0m\u001b[0my\u001b[0m\u001b[0;34m.\u001b[0m\u001b[0mshape\u001b[0m\u001b[0;34m)\u001b[0m \u001b[0;34m+\u001b[0m\u001b[0;34m\u001b[0m\u001b[0;34m\u001b[0m\u001b[0m\n\u001b[0;32m--> 784\u001b[0;31m                          \u001b[0;34m' while using as loss `categorical_crossentropy`. '\u001b[0m\u001b[0;34m\u001b[0m\u001b[0;34m\u001b[0m\u001b[0m\n\u001b[0m\u001b[1;32m    785\u001b[0m                          \u001b[0;34m'`categorical_crossentropy` expects '\u001b[0m\u001b[0;34m\u001b[0m\u001b[0;34m\u001b[0m\u001b[0m\n\u001b[1;32m    786\u001b[0m                          \u001b[0;34m'targets to be binary matrices (1s and 0s) '\u001b[0m\u001b[0;34m\u001b[0m\u001b[0;34m\u001b[0m\u001b[0m\n",
      "\u001b[0;31mValueError\u001b[0m: You are passing a target array of shape (414, 1) while using as loss `categorical_crossentropy`. `categorical_crossentropy` expects targets to be binary matrices (1s and 0s) of shape (samples, classes). If your targets are integer classes, you can convert them to the expected format via:\n```\nfrom keras.utils import to_categorical\ny_binary = to_categorical(y_int)\n```\n\nAlternatively, you can use the loss function `sparse_categorical_crossentropy` instead, which does expect integer targets."
     ]
    }
   ],
   "source": [
    "# evaluate the model\n",
    "loss, acc = model.evaluate(X_test, y_test, verbose=0)\n",
    "print('Test Accuracy: %.3f' % acc)"
   ]
  },
  {
   "cell_type": "code",
   "execution_count": 252,
   "metadata": {},
   "outputs": [
    {
     "output_type": "stream",
     "name": "stdout",
     "text": [
      "Predicted: [[0.06625419 0.17085303 0.22725    0.2612418  0.07377887 0.12903517\n  0.07158692]] (class=3) 6\n"
     ]
    }
   ],
   "source": [
    "row = np.array([X_test[10]])\n",
    "yhat = model.predict(row)\n",
    "print('Predicted: %s (class=%d)' % (yhat, argmax(yhat)), y_test[10])"
   ]
  },
  {
   "cell_type": "code",
   "execution_count": 253,
   "metadata": {},
   "outputs": [],
   "source": [
    "def getConfusionMatrix(target, predicted):\n",
    "    classes = sorted(list(set(target)))\n",
    "    matrix = {}\n",
    "    for c in classes:\n",
    "        matrix[c] = {}\n",
    "        for cc in classes:\n",
    "            matrix[c][cc] = 0\n",
    "    for i in range(len(target)):\n",
    "        t = target[i]\n",
    "        p = predicted[i]\n",
    "\n",
    "        matrix[t][p] += 1\n",
    "    \n",
    "    return matrix"
   ]
  },
  {
   "cell_type": "code",
   "execution_count": 254,
   "metadata": {},
   "outputs": [],
   "source": [
    "def plotMatrix(dct2D):\n",
    "    # print(dct2D)\n",
    "    arr2D = []\n",
    "    for ik in dct2D:\n",
    "        arr1D = []\n",
    "        for jk in dct2D[ik]:\n",
    "            arr1D.append(dct2D[ik][jk])\n",
    "        arr2D.append(arr1D)\n",
    "    df_cm = pd.DataFrame(arr2D, index = list(dct2D.keys()),\n",
    "                  columns = list(dct2D.keys()))\n",
    "    plt.figure(figsize = (20,14))\n",
    "    sn.heatmap(df_cm, annot=True)\n",
    "    plt.show()"
   ]
  },
  {
   "cell_type": "code",
   "execution_count": 255,
   "metadata": {},
   "outputs": [],
   "source": [
    "def getPrediction(model, X_test):\n",
    "    pred = model.predict(X_test)\n",
    "    y_hat = []\n",
    "    for i in range(len(pred)):\n",
    "        y_hat.append(np.argmax(pred[i]))\n",
    "    return y_hat"
   ]
  },
  {
   "cell_type": "code",
   "execution_count": 256,
   "metadata": {},
   "outputs": [],
   "source": [
    "matrix = getConfusionMatrix(y_test, getPrediction(model, X_test))"
   ]
  },
  {
   "cell_type": "code",
   "execution_count": 257,
   "metadata": {},
   "outputs": [
    {
     "output_type": "display_data",
     "data": {
      "text/plain": "<Figure size 1440x1008 with 2 Axes>",
      "image/svg+xml": "<?xml version=\"1.0\" encoding=\"utf-8\" standalone=\"no\"?>\n<!DOCTYPE svg PUBLIC \"-//W3C//DTD SVG 1.1//EN\"\n  \"http://www.w3.org/Graphics/SVG/1.1/DTD/svg11.dtd\">\n<!-- Created with matplotlib (https://matplotlib.org/) -->\n<svg height=\"792.118125pt\" version=\"1.1\" viewBox=\"0 0 1037.455125 792.118125\" width=\"1037.455125pt\" xmlns=\"http://www.w3.org/2000/svg\" xmlns:xlink=\"http://www.w3.org/1999/xlink\">\n <metadata>\n  <rdf:RDF xmlns:cc=\"http://creativecommons.org/ns#\" xmlns:dc=\"http://purl.org/dc/elements/1.1/\" xmlns:rdf=\"http://www.w3.org/1999/02/22-rdf-syntax-ns#\">\n   <cc:Work>\n    <dc:type rdf:resource=\"http://purl.org/dc/dcmitype/StillImage\"/>\n    <dc:date>2021-05-25T15:35:39.254469</dc:date>\n    <dc:format>image/svg+xml</dc:format>\n    <dc:creator>\n     <cc:Agent>\n      <dc:title>Matplotlib v3.3.2, https://matplotlib.org/</dc:title>\n     </cc:Agent>\n    </dc:creator>\n   </cc:Work>\n  </rdf:RDF>\n </metadata>\n <defs>\n  <style type=\"text/css\">*{stroke-linecap:butt;stroke-linejoin:round;}</style>\n </defs>\n <g id=\"figure_1\">\n  <g id=\"patch_1\">\n   <path d=\"M 0 792.118125 \nL 1037.455125 792.118125 \nL 1037.455125 0 \nL 0 0 \nz\n\" style=\"fill:none;\"/>\n  </g>\n  <g id=\"axes_1\">\n   <g id=\"patch_2\">\n    <path d=\"M 23.878125 768.24 \nL 916.678125 768.24 \nL 916.678125 7.2 \nL 23.878125 7.2 \nz\n\" style=\"fill:#ffffff;\"/>\n   </g>\n   <g id=\"QuadMesh_1\">\n    <path clip-path=\"url(#pb06fe3905d)\" d=\"M 23.878125 7.2 \nL 151.420982 7.2 \nL 151.420982 115.92 \nL 23.878125 115.92 \nL 23.878125 7.2 \n\" style=\"fill:#faebdd;\"/>\n    <path clip-path=\"url(#pb06fe3905d)\" d=\"M 151.420982 7.2 \nL 278.963839 7.2 \nL 278.963839 115.92 \nL 151.420982 115.92 \nL 151.420982 7.2 \n\" style=\"fill:#8c1d5b;\"/>\n    <path clip-path=\"url(#pb06fe3905d)\" d=\"M 278.963839 7.2 \nL 406.506696 7.2 \nL 406.506696 115.92 \nL 278.963839 115.92 \nL 278.963839 7.2 \n\" style=\"fill:#641f54;\"/>\n    <path clip-path=\"url(#pb06fe3905d)\" d=\"M 406.506696 7.2 \nL 534.049554 7.2 \nL 534.049554 115.92 \nL 406.506696 115.92 \nL 406.506696 7.2 \n\" style=\"fill:#3d1a42;\"/>\n    <path clip-path=\"url(#pb06fe3905d)\" d=\"M 534.049554 7.2 \nL 661.592411 7.2 \nL 661.592411 115.92 \nL 534.049554 115.92 \nL 534.049554 7.2 \n\" style=\"fill:#03051a;\"/>\n    <path clip-path=\"url(#pb06fe3905d)\" d=\"M 661.592411 7.2 \nL 789.135268 7.2 \nL 789.135268 115.92 \nL 661.592411 115.92 \nL 661.592411 7.2 \n\" style=\"fill:#180f29;\"/>\n    <path clip-path=\"url(#pb06fe3905d)\" d=\"M 789.135268 7.2 \nL 916.678125 7.2 \nL 916.678125 115.92 \nL 789.135268 115.92 \nL 789.135268 7.2 \n\" style=\"fill:#241432;\"/>\n    <path clip-path=\"url(#pb06fe3905d)\" d=\"M 23.878125 115.92 \nL 151.420982 115.92 \nL 151.420982 224.64 \nL 23.878125 224.64 \nL 23.878125 115.92 \n\" style=\"fill:#ef5640;\"/>\n    <path clip-path=\"url(#pb06fe3905d)\" d=\"M 151.420982 115.92 \nL 278.963839 115.92 \nL 278.963839 224.64 \nL 151.420982 224.64 \nL 151.420982 115.92 \n\" style=\"fill:#aa185a;\"/>\n    <path clip-path=\"url(#pb06fe3905d)\" d=\"M 278.963839 115.92 \nL 406.506696 115.92 \nL 406.506696 224.64 \nL 278.963839 224.64 \nL 278.963839 115.92 \n\" style=\"fill:#b71657;\"/>\n    <path clip-path=\"url(#pb06fe3905d)\" d=\"M 406.506696 115.92 \nL 534.049554 115.92 \nL 534.049554 224.64 \nL 406.506696 224.64 \nL 406.506696 115.92 \n\" style=\"fill:#241432;\"/>\n    <path clip-path=\"url(#pb06fe3905d)\" d=\"M 534.049554 115.92 \nL 661.592411 115.92 \nL 661.592411 224.64 \nL 534.049554 224.64 \nL 534.049554 115.92 \n\" style=\"fill:#3d1a42;\"/>\n    <path clip-path=\"url(#pb06fe3905d)\" d=\"M 661.592411 115.92 \nL 789.135268 115.92 \nL 789.135268 224.64 \nL 661.592411 224.64 \nL 661.592411 115.92 \n\" style=\"fill:#03051a;\"/>\n    <path clip-path=\"url(#pb06fe3905d)\" d=\"M 789.135268 115.92 \nL 916.678125 115.92 \nL 916.678125 224.64 \nL 789.135268 224.64 \nL 789.135268 115.92 \n\" style=\"fill:#0d0a21;\"/>\n    <path clip-path=\"url(#pb06fe3905d)\" d=\"M 23.878125 224.64 \nL 151.420982 224.64 \nL 151.420982 333.36 \nL 23.878125 333.36 \nL 23.878125 224.64 \n\" style=\"fill:#641f54;\"/>\n    <path clip-path=\"url(#pb06fe3905d)\" d=\"M 151.420982 224.64 \nL 278.963839 224.64 \nL 278.963839 333.36 \nL 151.420982 333.36 \nL 151.420982 224.64 \n\" style=\"fill:#641f54;\"/>\n    <path clip-path=\"url(#pb06fe3905d)\" d=\"M 278.963839 224.64 \nL 406.506696 224.64 \nL 406.506696 333.36 \nL 278.963839 333.36 \nL 278.963839 224.64 \n\" style=\"fill:#e33641;\"/>\n    <path clip-path=\"url(#pb06fe3905d)\" d=\"M 406.506696 224.64 \nL 534.049554 224.64 \nL 534.049554 333.36 \nL 406.506696 333.36 \nL 406.506696 224.64 \n\" style=\"fill:#8c1d5b;\"/>\n    <path clip-path=\"url(#pb06fe3905d)\" d=\"M 534.049554 224.64 \nL 661.592411 224.64 \nL 661.592411 333.36 \nL 534.049554 333.36 \nL 534.049554 224.64 \n\" style=\"fill:#241432;\"/>\n    <path clip-path=\"url(#pb06fe3905d)\" d=\"M 661.592411 224.64 \nL 789.135268 224.64 \nL 789.135268 333.36 \nL 661.592411 333.36 \nL 661.592411 224.64 \n\" style=\"fill:#180f29;\"/>\n    <path clip-path=\"url(#pb06fe3905d)\" d=\"M 789.135268 224.64 \nL 916.678125 224.64 \nL 916.678125 333.36 \nL 789.135268 333.36 \nL 789.135268 224.64 \n\" style=\"fill:#3d1a42;\"/>\n    <path clip-path=\"url(#pb06fe3905d)\" d=\"M 23.878125 333.36 \nL 151.420982 333.36 \nL 151.420982 442.08 \nL 23.878125 442.08 \nL 23.878125 333.36 \n\" style=\"fill:#31183b;\"/>\n    <path clip-path=\"url(#pb06fe3905d)\" d=\"M 151.420982 333.36 \nL 278.963839 333.36 \nL 278.963839 442.08 \nL 151.420982 442.08 \nL 151.420982 333.36 \n\" style=\"fill:#491d49;\"/>\n    <path clip-path=\"url(#pb06fe3905d)\" d=\"M 278.963839 333.36 \nL 406.506696 333.36 \nL 406.506696 442.08 \nL 278.963839 442.08 \nL 278.963839 333.36 \n\" style=\"fill:#e33641;\"/>\n    <path clip-path=\"url(#pb06fe3905d)\" d=\"M 406.506696 333.36 \nL 534.049554 333.36 \nL 534.049554 442.08 \nL 406.506696 442.08 \nL 406.506696 333.36 \n\" style=\"fill:#711f57;\"/>\n    <path clip-path=\"url(#pb06fe3905d)\" d=\"M 534.049554 333.36 \nL 661.592411 333.36 \nL 661.592411 442.08 \nL 534.049554 442.08 \nL 534.049554 333.36 \n\" style=\"fill:#31183b;\"/>\n    <path clip-path=\"url(#pb06fe3905d)\" d=\"M 661.592411 333.36 \nL 789.135268 333.36 \nL 789.135268 442.08 \nL 661.592411 442.08 \nL 661.592411 333.36 \n\" style=\"fill:#7f1e5a;\"/>\n    <path clip-path=\"url(#pb06fe3905d)\" d=\"M 789.135268 333.36 \nL 916.678125 333.36 \nL 916.678125 442.08 \nL 789.135268 442.08 \nL 789.135268 333.36 \n\" style=\"fill:#561e4f;\"/>\n    <path clip-path=\"url(#pb06fe3905d)\" d=\"M 23.878125 442.08 \nL 151.420982 442.08 \nL 151.420982 550.8 \nL 23.878125 550.8 \nL 23.878125 442.08 \n\" style=\"fill:#3d1a42;\"/>\n    <path clip-path=\"url(#pb06fe3905d)\" d=\"M 151.420982 442.08 \nL 278.963839 442.08 \nL 278.963839 550.8 \nL 151.420982 550.8 \nL 151.420982 442.08 \n\" style=\"fill:#491d49;\"/>\n    <path clip-path=\"url(#pb06fe3905d)\" d=\"M 278.963839 442.08 \nL 406.506696 442.08 \nL 406.506696 550.8 \nL 278.963839 550.8 \nL 278.963839 442.08 \n\" style=\"fill:#b71657;\"/>\n    <path clip-path=\"url(#pb06fe3905d)\" d=\"M 406.506696 442.08 \nL 534.049554 442.08 \nL 534.049554 550.8 \nL 406.506696 550.8 \nL 406.506696 442.08 \n\" style=\"fill:#b71657;\"/>\n    <path clip-path=\"url(#pb06fe3905d)\" d=\"M 534.049554 442.08 \nL 661.592411 442.08 \nL 661.592411 550.8 \nL 534.049554 550.8 \nL 534.049554 442.08 \n\" style=\"fill:#aa185a;\"/>\n    <path clip-path=\"url(#pb06fe3905d)\" d=\"M 661.592411 442.08 \nL 789.135268 442.08 \nL 789.135268 550.8 \nL 661.592411 550.8 \nL 661.592411 442.08 \n\" style=\"fill:#9c1b5b;\"/>\n    <path clip-path=\"url(#pb06fe3905d)\" d=\"M 789.135268 442.08 \nL 916.678125 442.08 \nL 916.678125 550.8 \nL 789.135268 550.8 \nL 789.135268 442.08 \n\" style=\"fill:#711f57;\"/>\n    <path clip-path=\"url(#pb06fe3905d)\" d=\"M 23.878125 550.8 \nL 151.420982 550.8 \nL 151.420982 659.52 \nL 23.878125 659.52 \nL 23.878125 550.8 \n\" style=\"fill:#491d49;\"/>\n    <path clip-path=\"url(#pb06fe3905d)\" d=\"M 151.420982 550.8 \nL 278.963839 550.8 \nL 278.963839 659.52 \nL 151.420982 659.52 \nL 151.420982 550.8 \n\" style=\"fill:#241432;\"/>\n    <path clip-path=\"url(#pb06fe3905d)\" d=\"M 278.963839 550.8 \nL 406.506696 550.8 \nL 406.506696 659.52 \nL 278.963839 659.52 \nL 278.963839 550.8 \n\" style=\"fill:#561e4f;\"/>\n    <path clip-path=\"url(#pb06fe3905d)\" d=\"M 406.506696 550.8 \nL 534.049554 550.8 \nL 534.049554 659.52 \nL 406.506696 659.52 \nL 406.506696 550.8 \n\" style=\"fill:#711f57;\"/>\n    <path clip-path=\"url(#pb06fe3905d)\" d=\"M 534.049554 550.8 \nL 661.592411 550.8 \nL 661.592411 659.52 \nL 534.049554 659.52 \nL 534.049554 550.8 \n\" style=\"fill:#641f54;\"/>\n    <path clip-path=\"url(#pb06fe3905d)\" d=\"M 661.592411 550.8 \nL 789.135268 550.8 \nL 789.135268 659.52 \nL 661.592411 659.52 \nL 661.592411 550.8 \n\" style=\"fill:#711f57;\"/>\n    <path clip-path=\"url(#pb06fe3905d)\" d=\"M 789.135268 550.8 \nL 916.678125 550.8 \nL 916.678125 659.52 \nL 789.135268 659.52 \nL 789.135268 550.8 \n\" style=\"fill:#d11f4c;\"/>\n    <path clip-path=\"url(#pb06fe3905d)\" d=\"M 23.878125 659.52 \nL 151.420982 659.52 \nL 151.420982 768.24 \nL 23.878125 768.24 \nL 23.878125 659.52 \n\" style=\"fill:#180f29;\"/>\n    <path clip-path=\"url(#pb06fe3905d)\" d=\"M 151.420982 659.52 \nL 278.963839 659.52 \nL 278.963839 768.24 \nL 151.420982 768.24 \nL 151.420982 659.52 \n\" style=\"fill:#180f29;\"/>\n    <path clip-path=\"url(#pb06fe3905d)\" d=\"M 278.963839 659.52 \nL 406.506696 659.52 \nL 406.506696 768.24 \nL 278.963839 768.24 \nL 278.963839 659.52 \n\" style=\"fill:#3d1a42;\"/>\n    <path clip-path=\"url(#pb06fe3905d)\" d=\"M 406.506696 659.52 \nL 534.049554 659.52 \nL 534.049554 768.24 \nL 406.506696 768.24 \nL 406.506696 659.52 \n\" style=\"fill:#491d49;\"/>\n    <path clip-path=\"url(#pb06fe3905d)\" d=\"M 534.049554 659.52 \nL 661.592411 659.52 \nL 661.592411 768.24 \nL 534.049554 768.24 \nL 534.049554 659.52 \n\" style=\"fill:#31183b;\"/>\n    <path clip-path=\"url(#pb06fe3905d)\" d=\"M 661.592411 659.52 \nL 789.135268 659.52 \nL 789.135268 768.24 \nL 661.592411 768.24 \nL 661.592411 659.52 \n\" style=\"fill:#561e4f;\"/>\n    <path clip-path=\"url(#pb06fe3905d)\" d=\"M 789.135268 659.52 \nL 916.678125 659.52 \nL 916.678125 768.24 \nL 789.135268 768.24 \nL 789.135268 659.52 \n\" style=\"fill:#f7c7a8;\"/>\n   </g>\n   <g id=\"matplotlib.axis_1\">\n    <g id=\"xtick_1\">\n     <g id=\"line2d_1\">\n      <defs>\n       <path d=\"M 0 0 \nL 0 3.5 \n\" id=\"m168e742253\" style=\"stroke:#000000;stroke-width:0.8;\"/>\n      </defs>\n      <g>\n       <use style=\"stroke:#000000;stroke-width:0.8;\" x=\"87.649554\" xlink:href=\"#m168e742253\" y=\"768.24\"/>\n      </g>\n     </g>\n     <g id=\"text_1\">\n      <!-- 0 -->\n      <g transform=\"translate(84.468304 782.838437)scale(0.1 -0.1)\">\n       <defs>\n        <path d=\"M 31.78125 66.40625 \nQ 24.171875 66.40625 20.328125 58.90625 \nQ 16.5 51.421875 16.5 36.375 \nQ 16.5 21.390625 20.328125 13.890625 \nQ 24.171875 6.390625 31.78125 6.390625 \nQ 39.453125 6.390625 43.28125 13.890625 \nQ 47.125 21.390625 47.125 36.375 \nQ 47.125 51.421875 43.28125 58.90625 \nQ 39.453125 66.40625 31.78125 66.40625 \nz\nM 31.78125 74.21875 \nQ 44.046875 74.21875 50.515625 64.515625 \nQ 56.984375 54.828125 56.984375 36.375 \nQ 56.984375 17.96875 50.515625 8.265625 \nQ 44.046875 -1.421875 31.78125 -1.421875 \nQ 19.53125 -1.421875 13.0625 8.265625 \nQ 6.59375 17.96875 6.59375 36.375 \nQ 6.59375 54.828125 13.0625 64.515625 \nQ 19.53125 74.21875 31.78125 74.21875 \nz\n\" id=\"DejaVuSans-48\"/>\n       </defs>\n       <use xlink:href=\"#DejaVuSans-48\"/>\n      </g>\n     </g>\n    </g>\n    <g id=\"xtick_2\">\n     <g id=\"line2d_2\">\n      <g>\n       <use style=\"stroke:#000000;stroke-width:0.8;\" x=\"215.192411\" xlink:href=\"#m168e742253\" y=\"768.24\"/>\n      </g>\n     </g>\n     <g id=\"text_2\">\n      <!-- 1 -->\n      <g transform=\"translate(212.011161 782.838437)scale(0.1 -0.1)\">\n       <defs>\n        <path d=\"M 12.40625 8.296875 \nL 28.515625 8.296875 \nL 28.515625 63.921875 \nL 10.984375 60.40625 \nL 10.984375 69.390625 \nL 28.421875 72.90625 \nL 38.28125 72.90625 \nL 38.28125 8.296875 \nL 54.390625 8.296875 \nL 54.390625 0 \nL 12.40625 0 \nz\n\" id=\"DejaVuSans-49\"/>\n       </defs>\n       <use xlink:href=\"#DejaVuSans-49\"/>\n      </g>\n     </g>\n    </g>\n    <g id=\"xtick_3\">\n     <g id=\"line2d_3\">\n      <g>\n       <use style=\"stroke:#000000;stroke-width:0.8;\" x=\"342.735268\" xlink:href=\"#m168e742253\" y=\"768.24\"/>\n      </g>\n     </g>\n     <g id=\"text_3\">\n      <!-- 2 -->\n      <g transform=\"translate(339.554018 782.838437)scale(0.1 -0.1)\">\n       <defs>\n        <path d=\"M 19.1875 8.296875 \nL 53.609375 8.296875 \nL 53.609375 0 \nL 7.328125 0 \nL 7.328125 8.296875 \nQ 12.9375 14.109375 22.625 23.890625 \nQ 32.328125 33.6875 34.8125 36.53125 \nQ 39.546875 41.84375 41.421875 45.53125 \nQ 43.3125 49.21875 43.3125 52.78125 \nQ 43.3125 58.59375 39.234375 62.25 \nQ 35.15625 65.921875 28.609375 65.921875 \nQ 23.96875 65.921875 18.8125 64.3125 \nQ 13.671875 62.703125 7.8125 59.421875 \nL 7.8125 69.390625 \nQ 13.765625 71.78125 18.9375 73 \nQ 24.125 74.21875 28.421875 74.21875 \nQ 39.75 74.21875 46.484375 68.546875 \nQ 53.21875 62.890625 53.21875 53.421875 \nQ 53.21875 48.921875 51.53125 44.890625 \nQ 49.859375 40.875 45.40625 35.40625 \nQ 44.1875 33.984375 37.640625 27.21875 \nQ 31.109375 20.453125 19.1875 8.296875 \nz\n\" id=\"DejaVuSans-50\"/>\n       </defs>\n       <use xlink:href=\"#DejaVuSans-50\"/>\n      </g>\n     </g>\n    </g>\n    <g id=\"xtick_4\">\n     <g id=\"line2d_4\">\n      <g>\n       <use style=\"stroke:#000000;stroke-width:0.8;\" x=\"470.278125\" xlink:href=\"#m168e742253\" y=\"768.24\"/>\n      </g>\n     </g>\n     <g id=\"text_4\">\n      <!-- 3 -->\n      <g transform=\"translate(467.096875 782.838437)scale(0.1 -0.1)\">\n       <defs>\n        <path d=\"M 40.578125 39.3125 \nQ 47.65625 37.796875 51.625 33 \nQ 55.609375 28.21875 55.609375 21.1875 \nQ 55.609375 10.40625 48.1875 4.484375 \nQ 40.765625 -1.421875 27.09375 -1.421875 \nQ 22.515625 -1.421875 17.65625 -0.515625 \nQ 12.796875 0.390625 7.625 2.203125 \nL 7.625 11.71875 \nQ 11.71875 9.328125 16.59375 8.109375 \nQ 21.484375 6.890625 26.8125 6.890625 \nQ 36.078125 6.890625 40.9375 10.546875 \nQ 45.796875 14.203125 45.796875 21.1875 \nQ 45.796875 27.640625 41.28125 31.265625 \nQ 36.765625 34.90625 28.71875 34.90625 \nL 20.21875 34.90625 \nL 20.21875 43.015625 \nL 29.109375 43.015625 \nQ 36.375 43.015625 40.234375 45.921875 \nQ 44.09375 48.828125 44.09375 54.296875 \nQ 44.09375 59.90625 40.109375 62.90625 \nQ 36.140625 65.921875 28.71875 65.921875 \nQ 24.65625 65.921875 20.015625 65.03125 \nQ 15.375 64.15625 9.8125 62.3125 \nL 9.8125 71.09375 \nQ 15.4375 72.65625 20.34375 73.4375 \nQ 25.25 74.21875 29.59375 74.21875 \nQ 40.828125 74.21875 47.359375 69.109375 \nQ 53.90625 64.015625 53.90625 55.328125 \nQ 53.90625 49.265625 50.4375 45.09375 \nQ 46.96875 40.921875 40.578125 39.3125 \nz\n\" id=\"DejaVuSans-51\"/>\n       </defs>\n       <use xlink:href=\"#DejaVuSans-51\"/>\n      </g>\n     </g>\n    </g>\n    <g id=\"xtick_5\">\n     <g id=\"line2d_5\">\n      <g>\n       <use style=\"stroke:#000000;stroke-width:0.8;\" x=\"597.820982\" xlink:href=\"#m168e742253\" y=\"768.24\"/>\n      </g>\n     </g>\n     <g id=\"text_5\">\n      <!-- 4 -->\n      <g transform=\"translate(594.639732 782.838437)scale(0.1 -0.1)\">\n       <defs>\n        <path d=\"M 37.796875 64.3125 \nL 12.890625 25.390625 \nL 37.796875 25.390625 \nz\nM 35.203125 72.90625 \nL 47.609375 72.90625 \nL 47.609375 25.390625 \nL 58.015625 25.390625 \nL 58.015625 17.1875 \nL 47.609375 17.1875 \nL 47.609375 0 \nL 37.796875 0 \nL 37.796875 17.1875 \nL 4.890625 17.1875 \nL 4.890625 26.703125 \nz\n\" id=\"DejaVuSans-52\"/>\n       </defs>\n       <use xlink:href=\"#DejaVuSans-52\"/>\n      </g>\n     </g>\n    </g>\n    <g id=\"xtick_6\">\n     <g id=\"line2d_6\">\n      <g>\n       <use style=\"stroke:#000000;stroke-width:0.8;\" x=\"725.363839\" xlink:href=\"#m168e742253\" y=\"768.24\"/>\n      </g>\n     </g>\n     <g id=\"text_6\">\n      <!-- 5 -->\n      <g transform=\"translate(722.182589 782.838437)scale(0.1 -0.1)\">\n       <defs>\n        <path d=\"M 10.796875 72.90625 \nL 49.515625 72.90625 \nL 49.515625 64.59375 \nL 19.828125 64.59375 \nL 19.828125 46.734375 \nQ 21.96875 47.46875 24.109375 47.828125 \nQ 26.265625 48.1875 28.421875 48.1875 \nQ 40.625 48.1875 47.75 41.5 \nQ 54.890625 34.8125 54.890625 23.390625 \nQ 54.890625 11.625 47.5625 5.09375 \nQ 40.234375 -1.421875 26.90625 -1.421875 \nQ 22.3125 -1.421875 17.546875 -0.640625 \nQ 12.796875 0.140625 7.71875 1.703125 \nL 7.71875 11.625 \nQ 12.109375 9.234375 16.796875 8.0625 \nQ 21.484375 6.890625 26.703125 6.890625 \nQ 35.15625 6.890625 40.078125 11.328125 \nQ 45.015625 15.765625 45.015625 23.390625 \nQ 45.015625 31 40.078125 35.4375 \nQ 35.15625 39.890625 26.703125 39.890625 \nQ 22.75 39.890625 18.8125 39.015625 \nQ 14.890625 38.140625 10.796875 36.28125 \nz\n\" id=\"DejaVuSans-53\"/>\n       </defs>\n       <use xlink:href=\"#DejaVuSans-53\"/>\n      </g>\n     </g>\n    </g>\n    <g id=\"xtick_7\">\n     <g id=\"line2d_7\">\n      <g>\n       <use style=\"stroke:#000000;stroke-width:0.8;\" x=\"852.906696\" xlink:href=\"#m168e742253\" y=\"768.24\"/>\n      </g>\n     </g>\n     <g id=\"text_7\">\n      <!-- 6 -->\n      <g transform=\"translate(849.725446 782.838437)scale(0.1 -0.1)\">\n       <defs>\n        <path d=\"M 33.015625 40.375 \nQ 26.375 40.375 22.484375 35.828125 \nQ 18.609375 31.296875 18.609375 23.390625 \nQ 18.609375 15.53125 22.484375 10.953125 \nQ 26.375 6.390625 33.015625 6.390625 \nQ 39.65625 6.390625 43.53125 10.953125 \nQ 47.40625 15.53125 47.40625 23.390625 \nQ 47.40625 31.296875 43.53125 35.828125 \nQ 39.65625 40.375 33.015625 40.375 \nz\nM 52.59375 71.296875 \nL 52.59375 62.3125 \nQ 48.875 64.0625 45.09375 64.984375 \nQ 41.3125 65.921875 37.59375 65.921875 \nQ 27.828125 65.921875 22.671875 59.328125 \nQ 17.53125 52.734375 16.796875 39.40625 \nQ 19.671875 43.65625 24.015625 45.921875 \nQ 28.375 48.1875 33.59375 48.1875 \nQ 44.578125 48.1875 50.953125 41.515625 \nQ 57.328125 34.859375 57.328125 23.390625 \nQ 57.328125 12.15625 50.6875 5.359375 \nQ 44.046875 -1.421875 33.015625 -1.421875 \nQ 20.359375 -1.421875 13.671875 8.265625 \nQ 6.984375 17.96875 6.984375 36.375 \nQ 6.984375 53.65625 15.1875 63.9375 \nQ 23.390625 74.21875 37.203125 74.21875 \nQ 40.921875 74.21875 44.703125 73.484375 \nQ 48.484375 72.75 52.59375 71.296875 \nz\n\" id=\"DejaVuSans-54\"/>\n       </defs>\n       <use xlink:href=\"#DejaVuSans-54\"/>\n      </g>\n     </g>\n    </g>\n   </g>\n   <g id=\"matplotlib.axis_2\">\n    <g id=\"ytick_1\">\n     <g id=\"line2d_8\">\n      <defs>\n       <path d=\"M 0 0 \nL -3.5 0 \n\" id=\"m9fcf246425\" style=\"stroke:#000000;stroke-width:0.8;\"/>\n      </defs>\n      <g>\n       <use style=\"stroke:#000000;stroke-width:0.8;\" x=\"23.878125\" xlink:href=\"#m9fcf246425\" y=\"61.56\"/>\n      </g>\n     </g>\n     <g id=\"text_8\">\n      <!-- 0 -->\n      <g transform=\"translate(14.798438 64.123281)rotate(-90)scale(0.1 -0.1)\">\n       <use xlink:href=\"#DejaVuSans-48\"/>\n      </g>\n     </g>\n    </g>\n    <g id=\"ytick_2\">\n     <g id=\"line2d_9\">\n      <g>\n       <use style=\"stroke:#000000;stroke-width:0.8;\" x=\"23.878125\" xlink:href=\"#m9fcf246425\" y=\"170.28\"/>\n      </g>\n     </g>\n     <g id=\"text_9\">\n      <!-- 1 -->\n      <g transform=\"translate(14.798438 172.843281)rotate(-90)scale(0.1 -0.1)\">\n       <use xlink:href=\"#DejaVuSans-49\"/>\n      </g>\n     </g>\n    </g>\n    <g id=\"ytick_3\">\n     <g id=\"line2d_10\">\n      <g>\n       <use style=\"stroke:#000000;stroke-width:0.8;\" x=\"23.878125\" xlink:href=\"#m9fcf246425\" y=\"279\"/>\n      </g>\n     </g>\n     <g id=\"text_10\">\n      <!-- 2 -->\n      <g transform=\"translate(14.798438 281.563281)rotate(-90)scale(0.1 -0.1)\">\n       <use xlink:href=\"#DejaVuSans-50\"/>\n      </g>\n     </g>\n    </g>\n    <g id=\"ytick_4\">\n     <g id=\"line2d_11\">\n      <g>\n       <use style=\"stroke:#000000;stroke-width:0.8;\" x=\"23.878125\" xlink:href=\"#m9fcf246425\" y=\"387.72\"/>\n      </g>\n     </g>\n     <g id=\"text_11\">\n      <!-- 3 -->\n      <g transform=\"translate(14.798438 390.283281)rotate(-90)scale(0.1 -0.1)\">\n       <use xlink:href=\"#DejaVuSans-51\"/>\n      </g>\n     </g>\n    </g>\n    <g id=\"ytick_5\">\n     <g id=\"line2d_12\">\n      <g>\n       <use style=\"stroke:#000000;stroke-width:0.8;\" x=\"23.878125\" xlink:href=\"#m9fcf246425\" y=\"496.44\"/>\n      </g>\n     </g>\n     <g id=\"text_12\">\n      <!-- 4 -->\n      <g transform=\"translate(14.798438 499.003281)rotate(-90)scale(0.1 -0.1)\">\n       <use xlink:href=\"#DejaVuSans-52\"/>\n      </g>\n     </g>\n    </g>\n    <g id=\"ytick_6\">\n     <g id=\"line2d_13\">\n      <g>\n       <use style=\"stroke:#000000;stroke-width:0.8;\" x=\"23.878125\" xlink:href=\"#m9fcf246425\" y=\"605.16\"/>\n      </g>\n     </g>\n     <g id=\"text_13\">\n      <!-- 5 -->\n      <g transform=\"translate(14.798438 607.723281)rotate(-90)scale(0.1 -0.1)\">\n       <use xlink:href=\"#DejaVuSans-53\"/>\n      </g>\n     </g>\n    </g>\n    <g id=\"ytick_7\">\n     <g id=\"line2d_14\">\n      <g>\n       <use style=\"stroke:#000000;stroke-width:0.8;\" x=\"23.878125\" xlink:href=\"#m9fcf246425\" y=\"713.88\"/>\n      </g>\n     </g>\n     <g id=\"text_14\">\n      <!-- 6 -->\n      <g transform=\"translate(14.798438 716.443281)rotate(-90)scale(0.1 -0.1)\">\n       <use xlink:href=\"#DejaVuSans-54\"/>\n      </g>\n     </g>\n    </g>\n   </g>\n   <g id=\"text_15\">\n    <!-- 31 -->\n    <g style=\"fill:#262626;\" transform=\"translate(81.287054 64.319375)scale(0.1 -0.1)\">\n     <use xlink:href=\"#DejaVuSans-51\"/>\n     <use x=\"63.623047\" xlink:href=\"#DejaVuSans-49\"/>\n    </g>\n   </g>\n   <g id=\"text_16\">\n    <!-- 11 -->\n    <g style=\"fill:#ffffff;\" transform=\"translate(208.829911 64.319375)scale(0.1 -0.1)\">\n     <use xlink:href=\"#DejaVuSans-49\"/>\n     <use x=\"63.623047\" xlink:href=\"#DejaVuSans-49\"/>\n    </g>\n   </g>\n   <g id=\"text_17\">\n    <!-- 8 -->\n    <g style=\"fill:#ffffff;\" transform=\"translate(339.554018 64.319375)scale(0.1 -0.1)\">\n     <defs>\n      <path d=\"M 31.78125 34.625 \nQ 24.75 34.625 20.71875 30.859375 \nQ 16.703125 27.09375 16.703125 20.515625 \nQ 16.703125 13.921875 20.71875 10.15625 \nQ 24.75 6.390625 31.78125 6.390625 \nQ 38.8125 6.390625 42.859375 10.171875 \nQ 46.921875 13.96875 46.921875 20.515625 \nQ 46.921875 27.09375 42.890625 30.859375 \nQ 38.875 34.625 31.78125 34.625 \nz\nM 21.921875 38.8125 \nQ 15.578125 40.375 12.03125 44.71875 \nQ 8.5 49.078125 8.5 55.328125 \nQ 8.5 64.0625 14.71875 69.140625 \nQ 20.953125 74.21875 31.78125 74.21875 \nQ 42.671875 74.21875 48.875 69.140625 \nQ 55.078125 64.0625 55.078125 55.328125 \nQ 55.078125 49.078125 51.53125 44.71875 \nQ 48 40.375 41.703125 38.8125 \nQ 48.828125 37.15625 52.796875 32.3125 \nQ 56.78125 27.484375 56.78125 20.515625 \nQ 56.78125 9.90625 50.3125 4.234375 \nQ 43.84375 -1.421875 31.78125 -1.421875 \nQ 19.734375 -1.421875 13.25 4.234375 \nQ 6.78125 9.90625 6.78125 20.515625 \nQ 6.78125 27.484375 10.78125 32.3125 \nQ 14.796875 37.15625 21.921875 38.8125 \nz\nM 18.3125 54.390625 \nQ 18.3125 48.734375 21.84375 45.5625 \nQ 25.390625 42.390625 31.78125 42.390625 \nQ 38.140625 42.390625 41.71875 45.5625 \nQ 45.3125 48.734375 45.3125 54.390625 \nQ 45.3125 60.0625 41.71875 63.234375 \nQ 38.140625 66.40625 31.78125 66.40625 \nQ 25.390625 66.40625 21.84375 63.234375 \nQ 18.3125 60.0625 18.3125 54.390625 \nz\n\" id=\"DejaVuSans-56\"/>\n     </defs>\n     <use xlink:href=\"#DejaVuSans-56\"/>\n    </g>\n   </g>\n   <g id=\"text_18\">\n    <!-- 5 -->\n    <g style=\"fill:#ffffff;\" transform=\"translate(467.096875 64.319375)scale(0.1 -0.1)\">\n     <use xlink:href=\"#DejaVuSans-53\"/>\n    </g>\n   </g>\n   <g id=\"text_19\">\n    <!-- 0 -->\n    <g style=\"fill:#ffffff;\" transform=\"translate(594.639732 64.319375)scale(0.1 -0.1)\">\n     <use xlink:href=\"#DejaVuSans-48\"/>\n    </g>\n   </g>\n   <g id=\"text_20\">\n    <!-- 2 -->\n    <g style=\"fill:#ffffff;\" transform=\"translate(722.182589 64.319375)scale(0.1 -0.1)\">\n     <use xlink:href=\"#DejaVuSans-50\"/>\n    </g>\n   </g>\n   <g id=\"text_21\">\n    <!-- 3 -->\n    <g style=\"fill:#ffffff;\" transform=\"translate(849.725446 64.319375)scale(0.1 -0.1)\">\n     <use xlink:href=\"#DejaVuSans-51\"/>\n    </g>\n   </g>\n   <g id=\"text_22\">\n    <!-- 20 -->\n    <g style=\"fill:#ffffff;\" transform=\"translate(81.287054 173.039375)scale(0.1 -0.1)\">\n     <use xlink:href=\"#DejaVuSans-50\"/>\n     <use x=\"63.623047\" xlink:href=\"#DejaVuSans-48\"/>\n    </g>\n   </g>\n   <g id=\"text_23\">\n    <!-- 13 -->\n    <g style=\"fill:#ffffff;\" transform=\"translate(208.829911 173.039375)scale(0.1 -0.1)\">\n     <use xlink:href=\"#DejaVuSans-49\"/>\n     <use x=\"63.623047\" xlink:href=\"#DejaVuSans-51\"/>\n    </g>\n   </g>\n   <g id=\"text_24\">\n    <!-- 14 -->\n    <g style=\"fill:#ffffff;\" transform=\"translate(336.372768 173.039375)scale(0.1 -0.1)\">\n     <use xlink:href=\"#DejaVuSans-49\"/>\n     <use x=\"63.623047\" xlink:href=\"#DejaVuSans-52\"/>\n    </g>\n   </g>\n   <g id=\"text_25\">\n    <!-- 3 -->\n    <g style=\"fill:#ffffff;\" transform=\"translate(467.096875 173.039375)scale(0.1 -0.1)\">\n     <use xlink:href=\"#DejaVuSans-51\"/>\n    </g>\n   </g>\n   <g id=\"text_26\">\n    <!-- 5 -->\n    <g style=\"fill:#ffffff;\" transform=\"translate(594.639732 173.039375)scale(0.1 -0.1)\">\n     <use xlink:href=\"#DejaVuSans-53\"/>\n    </g>\n   </g>\n   <g id=\"text_27\">\n    <!-- 0 -->\n    <g style=\"fill:#ffffff;\" transform=\"translate(722.182589 173.039375)scale(0.1 -0.1)\">\n     <use xlink:href=\"#DejaVuSans-48\"/>\n    </g>\n   </g>\n   <g id=\"text_28\">\n    <!-- 1 -->\n    <g style=\"fill:#ffffff;\" transform=\"translate(849.725446 173.039375)scale(0.1 -0.1)\">\n     <use xlink:href=\"#DejaVuSans-49\"/>\n    </g>\n   </g>\n   <g id=\"text_29\">\n    <!-- 8 -->\n    <g style=\"fill:#ffffff;\" transform=\"translate(84.468304 281.759375)scale(0.1 -0.1)\">\n     <use xlink:href=\"#DejaVuSans-56\"/>\n    </g>\n   </g>\n   <g id=\"text_30\">\n    <!-- 8 -->\n    <g style=\"fill:#ffffff;\" transform=\"translate(212.011161 281.759375)scale(0.1 -0.1)\">\n     <use xlink:href=\"#DejaVuSans-56\"/>\n    </g>\n   </g>\n   <g id=\"text_31\">\n    <!-- 18 -->\n    <g style=\"fill:#ffffff;\" transform=\"translate(336.372768 281.759375)scale(0.1 -0.1)\">\n     <use xlink:href=\"#DejaVuSans-49\"/>\n     <use x=\"63.623047\" xlink:href=\"#DejaVuSans-56\"/>\n    </g>\n   </g>\n   <g id=\"text_32\">\n    <!-- 11 -->\n    <g style=\"fill:#ffffff;\" transform=\"translate(463.915625 281.759375)scale(0.1 -0.1)\">\n     <use xlink:href=\"#DejaVuSans-49\"/>\n     <use x=\"63.623047\" xlink:href=\"#DejaVuSans-49\"/>\n    </g>\n   </g>\n   <g id=\"text_33\">\n    <!-- 3 -->\n    <g style=\"fill:#ffffff;\" transform=\"translate(594.639732 281.759375)scale(0.1 -0.1)\">\n     <use xlink:href=\"#DejaVuSans-51\"/>\n    </g>\n   </g>\n   <g id=\"text_34\">\n    <!-- 2 -->\n    <g style=\"fill:#ffffff;\" transform=\"translate(722.182589 281.759375)scale(0.1 -0.1)\">\n     <use xlink:href=\"#DejaVuSans-50\"/>\n    </g>\n   </g>\n   <g id=\"text_35\">\n    <!-- 5 -->\n    <g style=\"fill:#ffffff;\" transform=\"translate(849.725446 281.759375)scale(0.1 -0.1)\">\n     <use xlink:href=\"#DejaVuSans-53\"/>\n    </g>\n   </g>\n   <g id=\"text_36\">\n    <!-- 4 -->\n    <g style=\"fill:#ffffff;\" transform=\"translate(84.468304 390.479375)scale(0.1 -0.1)\">\n     <use xlink:href=\"#DejaVuSans-52\"/>\n    </g>\n   </g>\n   <g id=\"text_37\">\n    <!-- 6 -->\n    <g style=\"fill:#ffffff;\" transform=\"translate(212.011161 390.479375)scale(0.1 -0.1)\">\n     <use xlink:href=\"#DejaVuSans-54\"/>\n    </g>\n   </g>\n   <g id=\"text_38\">\n    <!-- 18 -->\n    <g style=\"fill:#ffffff;\" transform=\"translate(336.372768 390.479375)scale(0.1 -0.1)\">\n     <use xlink:href=\"#DejaVuSans-49\"/>\n     <use x=\"63.623047\" xlink:href=\"#DejaVuSans-56\"/>\n    </g>\n   </g>\n   <g id=\"text_39\">\n    <!-- 9 -->\n    <g style=\"fill:#ffffff;\" transform=\"translate(467.096875 390.479375)scale(0.1 -0.1)\">\n     <defs>\n      <path d=\"M 10.984375 1.515625 \nL 10.984375 10.5 \nQ 14.703125 8.734375 18.5 7.8125 \nQ 22.3125 6.890625 25.984375 6.890625 \nQ 35.75 6.890625 40.890625 13.453125 \nQ 46.046875 20.015625 46.78125 33.40625 \nQ 43.953125 29.203125 39.59375 26.953125 \nQ 35.25 24.703125 29.984375 24.703125 \nQ 19.046875 24.703125 12.671875 31.3125 \nQ 6.296875 37.9375 6.296875 49.421875 \nQ 6.296875 60.640625 12.9375 67.421875 \nQ 19.578125 74.21875 30.609375 74.21875 \nQ 43.265625 74.21875 49.921875 64.515625 \nQ 56.59375 54.828125 56.59375 36.375 \nQ 56.59375 19.140625 48.40625 8.859375 \nQ 40.234375 -1.421875 26.421875 -1.421875 \nQ 22.703125 -1.421875 18.890625 -0.6875 \nQ 15.09375 0.046875 10.984375 1.515625 \nz\nM 30.609375 32.421875 \nQ 37.25 32.421875 41.125 36.953125 \nQ 45.015625 41.5 45.015625 49.421875 \nQ 45.015625 57.28125 41.125 61.84375 \nQ 37.25 66.40625 30.609375 66.40625 \nQ 23.96875 66.40625 20.09375 61.84375 \nQ 16.21875 57.28125 16.21875 49.421875 \nQ 16.21875 41.5 20.09375 36.953125 \nQ 23.96875 32.421875 30.609375 32.421875 \nz\n\" id=\"DejaVuSans-57\"/>\n     </defs>\n     <use xlink:href=\"#DejaVuSans-57\"/>\n    </g>\n   </g>\n   <g id=\"text_40\">\n    <!-- 4 -->\n    <g style=\"fill:#ffffff;\" transform=\"translate(594.639732 390.479375)scale(0.1 -0.1)\">\n     <use xlink:href=\"#DejaVuSans-52\"/>\n    </g>\n   </g>\n   <g id=\"text_41\">\n    <!-- 10 -->\n    <g style=\"fill:#ffffff;\" transform=\"translate(719.001339 390.479375)scale(0.1 -0.1)\">\n     <use xlink:href=\"#DejaVuSans-49\"/>\n     <use x=\"63.623047\" xlink:href=\"#DejaVuSans-48\"/>\n    </g>\n   </g>\n   <g id=\"text_42\">\n    <!-- 7 -->\n    <g style=\"fill:#ffffff;\" transform=\"translate(849.725446 390.479375)scale(0.1 -0.1)\">\n     <defs>\n      <path d=\"M 8.203125 72.90625 \nL 55.078125 72.90625 \nL 55.078125 68.703125 \nL 28.609375 0 \nL 18.3125 0 \nL 43.21875 64.59375 \nL 8.203125 64.59375 \nz\n\" id=\"DejaVuSans-55\"/>\n     </defs>\n     <use xlink:href=\"#DejaVuSans-55\"/>\n    </g>\n   </g>\n   <g id=\"text_43\">\n    <!-- 5 -->\n    <g style=\"fill:#ffffff;\" transform=\"translate(84.468304 499.199375)scale(0.1 -0.1)\">\n     <use xlink:href=\"#DejaVuSans-53\"/>\n    </g>\n   </g>\n   <g id=\"text_44\">\n    <!-- 6 -->\n    <g style=\"fill:#ffffff;\" transform=\"translate(212.011161 499.199375)scale(0.1 -0.1)\">\n     <use xlink:href=\"#DejaVuSans-54\"/>\n    </g>\n   </g>\n   <g id=\"text_45\">\n    <!-- 14 -->\n    <g style=\"fill:#ffffff;\" transform=\"translate(336.372768 499.199375)scale(0.1 -0.1)\">\n     <use xlink:href=\"#DejaVuSans-49\"/>\n     <use x=\"63.623047\" xlink:href=\"#DejaVuSans-52\"/>\n    </g>\n   </g>\n   <g id=\"text_46\">\n    <!-- 14 -->\n    <g style=\"fill:#ffffff;\" transform=\"translate(463.915625 499.199375)scale(0.1 -0.1)\">\n     <use xlink:href=\"#DejaVuSans-49\"/>\n     <use x=\"63.623047\" xlink:href=\"#DejaVuSans-52\"/>\n    </g>\n   </g>\n   <g id=\"text_47\">\n    <!-- 13 -->\n    <g style=\"fill:#ffffff;\" transform=\"translate(591.458482 499.199375)scale(0.1 -0.1)\">\n     <use xlink:href=\"#DejaVuSans-49\"/>\n     <use x=\"63.623047\" xlink:href=\"#DejaVuSans-51\"/>\n    </g>\n   </g>\n   <g id=\"text_48\">\n    <!-- 12 -->\n    <g style=\"fill:#ffffff;\" transform=\"translate(719.001339 499.199375)scale(0.1 -0.1)\">\n     <use xlink:href=\"#DejaVuSans-49\"/>\n     <use x=\"63.623047\" xlink:href=\"#DejaVuSans-50\"/>\n    </g>\n   </g>\n   <g id=\"text_49\">\n    <!-- 9 -->\n    <g style=\"fill:#ffffff;\" transform=\"translate(849.725446 499.199375)scale(0.1 -0.1)\">\n     <use xlink:href=\"#DejaVuSans-57\"/>\n    </g>\n   </g>\n   <g id=\"text_50\">\n    <!-- 6 -->\n    <g style=\"fill:#ffffff;\" transform=\"translate(84.468304 607.919375)scale(0.1 -0.1)\">\n     <use xlink:href=\"#DejaVuSans-54\"/>\n    </g>\n   </g>\n   <g id=\"text_51\">\n    <!-- 3 -->\n    <g style=\"fill:#ffffff;\" transform=\"translate(212.011161 607.919375)scale(0.1 -0.1)\">\n     <use xlink:href=\"#DejaVuSans-51\"/>\n    </g>\n   </g>\n   <g id=\"text_52\">\n    <!-- 7 -->\n    <g style=\"fill:#ffffff;\" transform=\"translate(339.554018 607.919375)scale(0.1 -0.1)\">\n     <use xlink:href=\"#DejaVuSans-55\"/>\n    </g>\n   </g>\n   <g id=\"text_53\">\n    <!-- 9 -->\n    <g style=\"fill:#ffffff;\" transform=\"translate(467.096875 607.919375)scale(0.1 -0.1)\">\n     <use xlink:href=\"#DejaVuSans-57\"/>\n    </g>\n   </g>\n   <g id=\"text_54\">\n    <!-- 8 -->\n    <g style=\"fill:#ffffff;\" transform=\"translate(594.639732 607.919375)scale(0.1 -0.1)\">\n     <use xlink:href=\"#DejaVuSans-56\"/>\n    </g>\n   </g>\n   <g id=\"text_55\">\n    <!-- 9 -->\n    <g style=\"fill:#ffffff;\" transform=\"translate(722.182589 607.919375)scale(0.1 -0.1)\">\n     <use xlink:href=\"#DejaVuSans-57\"/>\n    </g>\n   </g>\n   <g id=\"text_56\">\n    <!-- 16 -->\n    <g style=\"fill:#ffffff;\" transform=\"translate(846.544196 607.919375)scale(0.1 -0.1)\">\n     <use xlink:href=\"#DejaVuSans-49\"/>\n     <use x=\"63.623047\" xlink:href=\"#DejaVuSans-54\"/>\n    </g>\n   </g>\n   <g id=\"text_57\">\n    <!-- 2 -->\n    <g style=\"fill:#ffffff;\" transform=\"translate(84.468304 716.639375)scale(0.1 -0.1)\">\n     <use xlink:href=\"#DejaVuSans-50\"/>\n    </g>\n   </g>\n   <g id=\"text_58\">\n    <!-- 2 -->\n    <g style=\"fill:#ffffff;\" transform=\"translate(212.011161 716.639375)scale(0.1 -0.1)\">\n     <use xlink:href=\"#DejaVuSans-50\"/>\n    </g>\n   </g>\n   <g id=\"text_59\">\n    <!-- 5 -->\n    <g style=\"fill:#ffffff;\" transform=\"translate(339.554018 716.639375)scale(0.1 -0.1)\">\n     <use xlink:href=\"#DejaVuSans-53\"/>\n    </g>\n   </g>\n   <g id=\"text_60\">\n    <!-- 6 -->\n    <g style=\"fill:#ffffff;\" transform=\"translate(467.096875 716.639375)scale(0.1 -0.1)\">\n     <use xlink:href=\"#DejaVuSans-54\"/>\n    </g>\n   </g>\n   <g id=\"text_61\">\n    <!-- 4 -->\n    <g style=\"fill:#ffffff;\" transform=\"translate(594.639732 716.639375)scale(0.1 -0.1)\">\n     <use xlink:href=\"#DejaVuSans-52\"/>\n    </g>\n   </g>\n   <g id=\"text_62\">\n    <!-- 7 -->\n    <g style=\"fill:#ffffff;\" transform=\"translate(722.182589 716.639375)scale(0.1 -0.1)\">\n     <use xlink:href=\"#DejaVuSans-55\"/>\n    </g>\n   </g>\n   <g id=\"text_63\">\n    <!-- 28 -->\n    <g style=\"fill:#262626;\" transform=\"translate(846.544196 716.639375)scale(0.1 -0.1)\">\n     <use xlink:href=\"#DejaVuSans-50\"/>\n     <use x=\"63.623047\" xlink:href=\"#DejaVuSans-56\"/>\n    </g>\n   </g>\n  </g>\n  <g id=\"axes_2\">\n   <g id=\"patch_3\">\n    <path clip-path=\"url(#p6dc9e39a2b)\" d=\"M 972.478125 768.24 \nL 972.478125 765.267187 \nL 972.478125 10.172813 \nL 972.478125 7.2 \nL 1010.530125 7.2 \nL 1010.530125 10.172813 \nL 1010.530125 765.267187 \nL 1010.530125 768.24 \nz\n\" style=\"fill:#ffffff;stroke:#ffffff;stroke-linejoin:miter;stroke-width:0.01;\"/>\n   </g>\n   <image height=\"761\" id=\"image7fca875339\" transform=\"scale(1 -1)translate(0 -761)\" width=\"39\" x=\"972\" xlink:href=\"data:image/png;base64,\niVBORw0KGgoAAAANSUhEUgAAACcAAAL5CAYAAAAzCD1DAAAFBklEQVR4nO3dwZXDNgwAUYLGNrH992lXYB/mojnMVPCf9ABSziaZ19//+0i7TwN+tfO04EfqJ6fG7Yz3xaqfnBrXa6WpcTun14pS45pWmhq3t9fKUuNawjQ1rmmlqXGdrTQ1bm9LmKXGNa00Na6zlabGNa00Na6zlabGNa00Na6fI2hqXFcmmhrXEqapcV2ZaGpc00pT45pWmhq3M16fV3bkuD5waGpcHzg0Na5ppalxTStNjWtaaWpc00pT45pWmhrXtNLUuKaVpsb14yGtX9NpalwDQVPjmlaaGtethKbGtYRpalxLmKbGNa00Na7XSlPj+k8f0dS4fnalqXF94NDUuM5WmhrXBw5NjWtaaWpcZytNjVuzzmxz4zpbaWpcZytNjetspalxna00Na4lTFPjujLR1LiWME2N68pEU+M6W2lqXEuYpsa1hGlqXEuYpsb1t0w0Na6/ZaKpcV2ZaGpcVyaaGte00tS4ppWmxjWtNDWu71aaGtd3K62BoKlxHV80Na7LJk2Na1ppaly3Epoa15WJpsa1hGlqXEuYpsa1hGlqXEuYpsa1hGlqXEuYpsbtfT9N+J76yalxna00Na6zlabGNa00Na4rE02NawnT1LiWME2N6wOHpsa1hGlqXEuYpsb1WmlqXGcrTY3rbKWpcS1hmhrXa6WpcTudrSw1rmmlqXG9Vpoa1wcOTY3rA4emxrWEaWpcS5imxrWEaWrc3uMdV/mT8z4495NT47qV0NS4ji+aGrf37d3C6ienxrWEaWpcS5imxvUNQVPj+sChqXE7TStLjevKRFPjeq00Na4lTFPjmlaaGte00tS4vltpatxe8c9M6ienxrWEaWpcVyaaGrcj/hci1E9Ojdvba2Wpcf2DOZoa17TS1LjOVpoa17TS1LgV/w++3U9OjWsJ09S4ljBNjWsJ09S4ljBNjWsJ09S4HfFflKqfnBrX2UpT45pWmhrXlYmmxnVloqlxO2KemCbHtYRp3UpoalzfEDQ1rmmlqXG9Vpoa1xKmqXFNK02N69OQpsb1aUhT45pWmhrX2UpT45pWmhq3p7OVpcY1rTQ1rtdKU+N6rTQ1bs08MU2Oa1ppalzTSlPjmlaaGte00tS4HfF/qUz95NS4ppWmxjWtNDWuaaWpcXuaVpYa1xKmqXEtYZoa1xKmqXEtYZoa17TS1LheK02N2xH/2xrqJ6fGNa00Na7XSlPj9lyvzys7clzTSlPj+m6lNRA0NW6P+O+FvLIjxzWtNDWu10pT43b6hmCpcU0rTY3rykRT45pWmhrX73M0Na5ppalxna00Na5ppalxfbfS1LimlabGdbbS1LimlabG9d1KU+P29DebLDWuaaWpcb1WmhrXlYmmxvWBQ1PjWsI0Na4/xaWpcS1hmhrXEqapcb1WmhrXr0w0Na5ppalxXZloalzTSlPjeq00Na4rE02Na1ppalyvlabGdROmqXFNK62BoKlxDQRNjWtaaWpc00pT43qtNDWuJUxT45pWmhrXtNLUuKaVpsY1rTQ1rmmlqXE783ra8DX1k1PjmlaaGtdrpalxXZloalzTSlPjmlaaGrfndhNGqXFNK02N62ylqXFNK02N61cmmhrXEqapcS1hmhrXtNLUuKaVpsb1cwRNjWtaaWpcZytNjdtpWllqXNNKU+M6W2lqXDdhmhrXtNLUuM5WmhrXTZimxjWttI4vmhrXZZMWjvYBxS8xsczpR0AAAAAASUVORK5CYII=\" y=\"-7\"/>\n   <g id=\"matplotlib.axis_3\"/>\n   <g id=\"matplotlib.axis_4\">\n    <g id=\"ytick_8\">\n     <g id=\"line2d_15\">\n      <defs>\n       <path d=\"M 0 0 \nL 3.5 0 \n\" id=\"mb95ffb1d6a\" style=\"stroke:#000000;stroke-width:0.8;\"/>\n      </defs>\n      <g>\n       <use style=\"stroke:#000000;stroke-width:0.8;\" x=\"1010.530125\" xlink:href=\"#mb95ffb1d6a\" y=\"768.24\"/>\n      </g>\n     </g>\n     <g id=\"text_64\">\n      <!-- 0 -->\n      <g transform=\"translate(1017.530125 772.039219)scale(0.1 -0.1)\">\n       <use xlink:href=\"#DejaVuSans-48\"/>\n      </g>\n     </g>\n    </g>\n    <g id=\"ytick_9\">\n     <g id=\"line2d_16\">\n      <g>\n       <use style=\"stroke:#000000;stroke-width:0.8;\" x=\"1010.530125\" xlink:href=\"#mb95ffb1d6a\" y=\"645.491613\"/>\n      </g>\n     </g>\n     <g id=\"text_65\">\n      <!-- 5 -->\n      <g transform=\"translate(1017.530125 649.290832)scale(0.1 -0.1)\">\n       <use xlink:href=\"#DejaVuSans-53\"/>\n      </g>\n     </g>\n    </g>\n    <g id=\"ytick_10\">\n     <g id=\"line2d_17\">\n      <g>\n       <use style=\"stroke:#000000;stroke-width:0.8;\" x=\"1010.530125\" xlink:href=\"#mb95ffb1d6a\" y=\"522.743226\"/>\n      </g>\n     </g>\n     <g id=\"text_66\">\n      <!-- 10 -->\n      <g transform=\"translate(1017.530125 526.542445)scale(0.1 -0.1)\">\n       <use xlink:href=\"#DejaVuSans-49\"/>\n       <use x=\"63.623047\" xlink:href=\"#DejaVuSans-48\"/>\n      </g>\n     </g>\n    </g>\n    <g id=\"ytick_11\">\n     <g id=\"line2d_18\">\n      <g>\n       <use style=\"stroke:#000000;stroke-width:0.8;\" x=\"1010.530125\" xlink:href=\"#mb95ffb1d6a\" y=\"399.994839\"/>\n      </g>\n     </g>\n     <g id=\"text_67\">\n      <!-- 15 -->\n      <g transform=\"translate(1017.530125 403.794057)scale(0.1 -0.1)\">\n       <use xlink:href=\"#DejaVuSans-49\"/>\n       <use x=\"63.623047\" xlink:href=\"#DejaVuSans-53\"/>\n      </g>\n     </g>\n    </g>\n    <g id=\"ytick_12\">\n     <g id=\"line2d_19\">\n      <g>\n       <use style=\"stroke:#000000;stroke-width:0.8;\" x=\"1010.530125\" xlink:href=\"#mb95ffb1d6a\" y=\"277.246452\"/>\n      </g>\n     </g>\n     <g id=\"text_68\">\n      <!-- 20 -->\n      <g transform=\"translate(1017.530125 281.04567)scale(0.1 -0.1)\">\n       <use xlink:href=\"#DejaVuSans-50\"/>\n       <use x=\"63.623047\" xlink:href=\"#DejaVuSans-48\"/>\n      </g>\n     </g>\n    </g>\n    <g id=\"ytick_13\">\n     <g id=\"line2d_20\">\n      <g>\n       <use style=\"stroke:#000000;stroke-width:0.8;\" x=\"1010.530125\" xlink:href=\"#mb95ffb1d6a\" y=\"154.498065\"/>\n      </g>\n     </g>\n     <g id=\"text_69\">\n      <!-- 25 -->\n      <g transform=\"translate(1017.530125 158.297283)scale(0.1 -0.1)\">\n       <use xlink:href=\"#DejaVuSans-50\"/>\n       <use x=\"63.623047\" xlink:href=\"#DejaVuSans-53\"/>\n      </g>\n     </g>\n    </g>\n    <g id=\"ytick_14\">\n     <g id=\"line2d_21\">\n      <g>\n       <use style=\"stroke:#000000;stroke-width:0.8;\" x=\"1010.530125\" xlink:href=\"#mb95ffb1d6a\" y=\"31.749677\"/>\n      </g>\n     </g>\n     <g id=\"text_70\">\n      <!-- 30 -->\n      <g transform=\"translate(1017.530125 35.548896)scale(0.1 -0.1)\">\n       <use xlink:href=\"#DejaVuSans-51\"/>\n       <use x=\"63.623047\" xlink:href=\"#DejaVuSans-48\"/>\n      </g>\n     </g>\n    </g>\n   </g>\n   <g id=\"patch_4\">\n    <path d=\"M 972.478125 768.24 \nL 972.478125 765.267187 \nL 972.478125 10.172813 \nL 972.478125 7.2 \nL 1010.530125 7.2 \nL 1010.530125 10.172813 \nL 1010.530125 765.267187 \nL 1010.530125 768.24 \nz\n\" style=\"fill:none;\"/>\n   </g>\n  </g>\n </g>\n <defs>\n  <clipPath id=\"pb06fe3905d\">\n   <rect height=\"761.04\" width=\"892.8\" x=\"23.878125\" y=\"7.2\"/>\n  </clipPath>\n  <clipPath id=\"p6dc9e39a2b\">\n   <rect height=\"761.04\" width=\"38.052\" x=\"972.478125\" y=\"7.2\"/>\n  </clipPath>\n </defs>\n</svg>\n",
      "image/png": "[encoded data removed]"
     },
     "metadata": {
      "needs_background": "light"
     }
    }
   ],
   "source": [
    "plotMatrix(matrix)"
   ]
  },
  {
   "source": [
    "# Ordinal Regression (classification) resources\n",
    "\n",
    "https://nbviewer.jupyter.org/github/fabianp/minirank/blob/master/notebooks/comparison_ordinal_logistic.ipynb\n",
    "https://stackoverflow.com/questions/57561189/multi-class-multi-label-ordinal-classification-with-sklearn\n",
    "https://www.ethanrosenthal.com/2018/12/06/spacecutter-ordinal-regression/\n",
    "http://fa.bianp.net/blog/tag/ordinal-regression.html\n",
    "https://www.statsmodels.org/devel/examples/notebooks/generated/ordinal_regression.html\n",
    "https://pythonhosted.org/mord/\n",
    "https://pypi.org/project/coral-ordinal/\n",
    "https://github.com/sarvothaman/ordinal-classification\n"
   ],
   "cell_type": "markdown",
   "metadata": {}
  },
  {
   "source": [],
   "cell_type": "markdown",
   "metadata": {}
  }
 ],
 "metadata": {
  "kernelspec": {
   "name": "python379jvsc74a57bd06e81d77af03ce5c2f322ee28133a80996b3da90d809d78ecf9dd16de6b5482d3",
   "display_name": "Python 3.7.9 64-bit ('ml': conda)"
  },
  "language_info": {
   "codemirror_mode": {
    "name": "ipython",
    "version": 3
   },
   "file_extension": ".py",
   "mimetype": "text/x-python",
   "name": "python",
   "nbconvert_exporter": "python",
   "pygments_lexer": "ipython3",
   "version": "3.7.9"
  },
  "metadata": {
   "interpreter": {
    "hash": "916dbcbb3f70747c44a77c7bcd40155683ae19c65e1c03b4aa3499c5328201f1"
   }
  }
 },
 "nbformat": 4,
 "nbformat_minor": 2
}