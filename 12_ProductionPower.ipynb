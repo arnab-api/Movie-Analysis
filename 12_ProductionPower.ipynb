{
 "metadata": {
  "language_info": {
   "codemirror_mode": {
    "name": "ipython",
    "version": 3
   },
   "file_extension": ".py",
   "mimetype": "text/x-python",
   "name": "python",
   "nbconvert_exporter": "python",
   "pygments_lexer": "ipython3",
   "version": "3.7.9"
  },
  "orig_nbformat": 2,
  "kernelspec": {
   "name": "python379jvsc74a57bd06e81d77af03ce5c2f322ee28133a80996b3da90d809d78ecf9dd16de6b5482d3",
   "display_name": "Python 3.7.9 64-bit ('ml': conda)"
  },
  "metadata": {
   "interpreter": {
    "hash": "916dbcbb3f70747c44a77c7bcd40155683ae19c65e1c03b4aa3499c5328201f1"
   }
  }
 },
 "nbformat": 4,
 "nbformat_minor": 2,
 "cells": [
  {
   "cell_type": "code",
   "execution_count": 1,
   "metadata": {},
   "outputs": [],
   "source": [
    "import os\n",
    "import json\n",
    "import plotly.graph_objects as go\n",
    "from plotly.subplots import make_subplots\n",
    "# import cpi\n",
    "import pymongo\n",
    "from tqdm import tqdm\n",
    "from scipy import stats\n",
    "import math\n",
    "import numpy as np\n",
    "import pandas as pd\n",
    "import json"
   ]
  },
  {
   "cell_type": "code",
   "execution_count": 2,
   "metadata": {},
   "outputs": [],
   "source": [
    "myclient = pymongo.MongoClient(\"mongodb://localhost:27017/\")\n",
    "db = myclient[\"imdb\"]\n",
    "imdb = db['imdb_cleaned']"
   ]
  },
  {
   "cell_type": "code",
   "execution_count": 3,
   "metadata": {},
   "outputs": [
    {
     "output_type": "execute_result",
     "data": {
      "text/plain": [
       "8181"
      ]
     },
     "metadata": {},
     "execution_count": 3
    }
   ],
   "source": [
    "num_movies = imdb.count_documents({})\n",
    "num_movies"
   ]
  },
  {
   "cell_type": "code",
   "execution_count": 4,
   "metadata": {},
   "outputs": [],
   "source": [
    "def getMovie(imdb_id):\n",
    "    for x in imdb.find({'imdb_id': imdb_id}):\n",
    "        return x\n",
    "    return None"
   ]
  },
  {
   "cell_type": "code",
   "execution_count": 7,
   "metadata": {},
   "outputs": [],
   "source": [
    "prod_features = {}\n",
    "with open('SavedFeatures/prod_co_features.json', 'r') as f:\n",
    "    prod_features = json.load(f)"
   ]
  },
  {
   "cell_type": "code",
   "execution_count": 8,
   "metadata": {},
   "outputs": [
    {
     "output_type": "execute_result",
     "data": {
      "text/plain": [
       "7422"
      ]
     },
     "metadata": {},
     "execution_count": 8
    }
   ],
   "source": [
    "len(prod_features.keys())"
   ]
  },
  {
   "cell_type": "code",
   "execution_count": 11,
   "metadata": {},
   "outputs": [],
   "source": [
    "prod = prod_features['Universal Pictures']"
   ]
  },
  {
   "cell_type": "code",
   "execution_count": 12,
   "metadata": {},
   "outputs": [
    {
     "output_type": "execute_result",
     "data": {
      "text/plain": [
       "{'name': 'Universal Pictures',\n",
       " 'year-wise-performance': {'1967': {'num_movies': 0,\n",
       "   'sum_rating': 0,\n",
       "   'sum_revenue': 0,\n",
       "   'sum_budget': 0,\n",
       "   'num_raters': 0},\n",
       "  '1968': {'num_movies': 1,\n",
       "   'sum_rating': 6.5,\n",
       "   'sum_revenue': 23129373,\n",
       "   'sum_budget': 11155646,\n",
       "   'num_raters': 15925},\n",
       "  '1969': {'num_movies': 0,\n",
       "   'sum_rating': 0,\n",
       "   'sum_revenue': 0,\n",
       "   'sum_budget': 0,\n",
       "   'num_raters': 0},\n",
       "  '1970': {'num_movies': 1,\n",
       "   'sum_rating': 7.0,\n",
       "   'sum_revenue': 33685452,\n",
       "   'sum_budget': 16675966,\n",
       "   'num_raters': 24298},\n",
       "  '1971': {'num_movies': 1,\n",
       "   'sum_rating': 7.0,\n",
       "   'sum_revenue': 67738187,\n",
       "   'sum_budget': 4633036,\n",
       "   'num_raters': 26215},\n",
       "  '1972': {'num_movies': 0,\n",
       "   'sum_rating': 0,\n",
       "   'sum_revenue': 0,\n",
       "   'sum_budget': 0,\n",
       "   'num_raters': 0},\n",
       "  '1973': {'num_movies': 2,\n",
       "   'sum_rating': 15.700000000000001,\n",
       "   'sum_revenue': 1579681639,\n",
       "   'sum_budget': 36589113,\n",
       "   'num_raters': 328026},\n",
       "  '1974': {'num_movies': 2,\n",
       "   'sum_rating': 12.7,\n",
       "   'sum_revenue': 457625588,\n",
       "   'sum_budget': 52497160,\n",
       "   'num_raters': 29593},\n",
       "  '1975': {'num_movies': 3,\n",
       "   'sum_rating': 21.1,\n",
       "   'sum_revenue': 2435393334,\n",
       "   'sum_budget': 101022879,\n",
       "   'num_raters': 572158},\n",
       "  '1976': {'num_movies': 0,\n",
       "   'sum_rating': 0,\n",
       "   'sum_revenue': 0,\n",
       "   'sum_budget': 0,\n",
       "   'num_raters': 0},\n",
       "  '1977': {'num_movies': 3,\n",
       "   'sum_rating': 20.799999999999997,\n",
       "   'sum_revenue': 684368887,\n",
       "   'sum_budget': 125988851,\n",
       "   'num_raters': 66452},\n",
       "  '1978': {'num_movies': 5,\n",
       "   'sum_rating': 31.3,\n",
       "   'sum_revenue': 1458893268,\n",
       "   'sum_budget': 257223200,\n",
       "   'num_raters': 200951},\n",
       "  '1979': {'num_movies': 8,\n",
       "   'sum_rating': 48.699999999999996,\n",
       "   'sum_revenue': 1001175289,\n",
       "   'sum_budget': 383810293,\n",
       "   'num_raters': 380979},\n",
       "  '1980': {'num_movies': 5,\n",
       "   'sum_rating': 30.5,\n",
       "   'sum_revenue': 542374928,\n",
       "   'sum_budget': 285822825,\n",
       "   'num_raters': 209420},\n",
       "  '1981': {'num_movies': 5,\n",
       "   'sum_rating': 28.900000000000002,\n",
       "   'sum_revenue': 237199103,\n",
       "   'sum_budget': 126700652,\n",
       "   'num_raters': 100195},\n",
       "  '1982': {'num_movies': 11,\n",
       "   'sum_rating': 75.0,\n",
       "   'sum_revenue': 2792368284,\n",
       "   'sum_budget': 398810314,\n",
       "   'num_raters': 1111392},\n",
       "  '1983': {'num_movies': 9,\n",
       "   'sum_rating': 51.4,\n",
       "   'sum_revenue': 631143342,\n",
       "   'sum_budget': 226069848,\n",
       "   'num_raters': 951088},\n",
       "  '1984': {'num_movies': 5,\n",
       "   'sum_rating': 31.8,\n",
       "   'sum_revenue': 193592722,\n",
       "   'sum_budget': 156930632,\n",
       "   'num_raters': 195606},\n",
       "  '1985': {'num_movies': 9,\n",
       "   'sum_rating': 62.3,\n",
       "   'sum_revenue': 1572069549,\n",
       "   'sum_budget': 268191692,\n",
       "   'num_raters': 1652658},\n",
       "  '1986': {'num_movies': 3,\n",
       "   'sum_rating': 17.1,\n",
       "   'sum_revenue': 439492284,\n",
       "   'sum_budget': 205443037,\n",
       "   'num_raters': 106983},\n",
       "  '1987': {'num_movies': 7,\n",
       "   'sum_rating': 42.8,\n",
       "   'sum_revenue': 807017524,\n",
       "   'sum_budget': 284783228,\n",
       "   'num_raters': 191910},\n",
       "  '1988': {'num_movies': 10,\n",
       "   'sum_rating': 68.0,\n",
       "   'sum_revenue': 1199559733,\n",
       "   'sum_budget': 355509611,\n",
       "   'num_raters': 439724},\n",
       "  '1989': {'num_movies': 8,\n",
       "   'sum_rating': 53.900000000000006,\n",
       "   'sum_revenue': 1815140721,\n",
       "   'sum_budget': 344385601,\n",
       "   'num_raters': 753863},\n",
       "  '1990': {'num_movies': 10,\n",
       "   'sum_rating': 63.7,\n",
       "   'sum_revenue': 1571039678,\n",
       "   'sum_budget': 364355191,\n",
       "   'num_raters': 923781},\n",
       "  '1991': {'num_movies': 9,\n",
       "   'sum_rating': 52.4,\n",
       "   'sum_revenue': 583740904,\n",
       "   'sum_budget': 285053138,\n",
       "   'num_raters': 161494},\n",
       "  '1992': {'num_movies': 8,\n",
       "   'sum_rating': 52.4,\n",
       "   'sum_revenue': 1127982035,\n",
       "   'sum_budget': 440882598,\n",
       "   'num_raters': 348947},\n",
       "  '1993': {'num_movies': 13,\n",
       "   'sum_rating': 86.1,\n",
       "   'sum_revenue': 2869485931,\n",
       "   'sum_budget': 551652506,\n",
       "   'num_raters': 1554189},\n",
       "  '1994': {'num_movies': 12,\n",
       "   'sum_rating': 77.80000000000001,\n",
       "   'sum_revenue': 2033856928,\n",
       "   'sum_budget': 550977529,\n",
       "   'num_raters': 1727266},\n",
       "  '1995': {'num_movies': 13,\n",
       "   'sum_rating': 85.60000000000001,\n",
       "   'sum_revenue': 2662388654,\n",
       "   'sum_budget': 944218603,\n",
       "   'num_raters': 1481996},\n",
       "  '1996': {'num_movies': 13,\n",
       "   'sum_rating': 79.0,\n",
       "   'sum_revenue': 1847884044,\n",
       "   'sum_budget': 786049746,\n",
       "   'num_raters': 1307451},\n",
       "  '1997': {'num_movies': 11,\n",
       "   'sum_rating': 66.1,\n",
       "   'sum_revenue': 2139632906,\n",
       "   'sum_budget': 698628440,\n",
       "   'num_raters': 918891},\n",
       "  '1998': {'num_movies': 11,\n",
       "   'sum_rating': 67.5,\n",
       "   'sum_revenue': 1158627059,\n",
       "   'sum_budget': 808188946,\n",
       "   'num_raters': 784291},\n",
       "  '1999': {'num_movies': 14,\n",
       "   'sum_rating': 90.69999999999999,\n",
       "   'sum_revenue': 2334186254,\n",
       "   'sum_budget': 1308036378,\n",
       "   'num_raters': 1659967},\n",
       "  '2000': {'num_movies': 11,\n",
       "   'sum_rating': 68.80000000000001,\n",
       "   'sum_revenue': 2968285824,\n",
       "   'sum_budget': 1055083164,\n",
       "   'num_raters': 2381135},\n",
       "  '2001': {'num_movies': 12,\n",
       "   'sum_rating': 76.4,\n",
       "   'sum_revenue': 3282801083,\n",
       "   'sum_budget': 928709143,\n",
       "   'num_raters': 2201935},\n",
       "  '2002': {'num_movies': 11,\n",
       "   'sum_rating': 69.5,\n",
       "   'sum_revenue': 1768504374,\n",
       "   'sum_budget': 740898631,\n",
       "   'num_raters': 2083209},\n",
       "  '2003': {'num_movies': 16,\n",
       "   'sum_rating': 101.2,\n",
       "   'sum_revenue': 3607095150,\n",
       "   'sum_budget': 1538800176,\n",
       "   'num_raters': 2516375},\n",
       "  '2004': {'num_movies': 11,\n",
       "   'sum_rating': 72.7,\n",
       "   'sum_revenue': 2619588052,\n",
       "   'sum_budget': 865900217,\n",
       "   'num_raters': 1665716},\n",
       "  '2005': {'num_movies': 16,\n",
       "   'sum_rating': 106.8,\n",
       "   'sum_revenue': 2264541017,\n",
       "   'sum_budget': 1025702571,\n",
       "   'num_raters': 2259303},\n",
       "  '2006': {'num_movies': 15,\n",
       "   'sum_rating': 96.2,\n",
       "   'sum_revenue': 2181822498,\n",
       "   'sum_budget': 1073244021,\n",
       "   'num_raters': 1917075},\n",
       "  '2007': {'num_movies': 14,\n",
       "   'sum_rating': 93.10000000000002,\n",
       "   'sum_revenue': 2453693242,\n",
       "   'sum_budget': 1082217474,\n",
       "   'num_raters': 2803643},\n",
       "  '2008': {'num_movies': 14,\n",
       "   'sum_rating': 90.8,\n",
       "   'sum_revenue': 2876740868,\n",
       "   'sum_budget': 1001330974,\n",
       "   'num_raters': 2529904},\n",
       "  '2009': {'num_movies': 16,\n",
       "   'sum_rating': 103.1,\n",
       "   'sum_revenue': 2364810775,\n",
       "   'sum_budget': 1109860384,\n",
       "   'num_raters': 3015192},\n",
       "  '2010': {'num_movies': 12,\n",
       "   'sum_rating': 77.7,\n",
       "   'sum_revenue': 2214193529,\n",
       "   'sum_budget': 1019548407,\n",
       "   'num_raters': 2086598},\n",
       "  '2011': {'num_movies': 14,\n",
       "   'sum_rating': 87.30000000000001,\n",
       "   'sum_revenue': 2531876483,\n",
       "   'sum_budget': 993643512,\n",
       "   'num_raters': 2175578},\n",
       "  '2012': {'num_movies': 12,\n",
       "   'sum_rating': 78.6,\n",
       "   'sum_revenue': 3385088391,\n",
       "   'sum_budget': 1077204937,\n",
       "   'num_raters': 2530891},\n",
       "  '2013': {'num_movies': 10,\n",
       "   'sum_rating': 65.7,\n",
       "   'sum_revenue': 2967832427,\n",
       "   'sum_budget': 699918563,\n",
       "   'num_raters': 2467985},\n",
       "  '2014': {'num_movies': 8,\n",
       "   'sum_rating': 48.0,\n",
       "   'sum_revenue': 911404532,\n",
       "   'sum_budget': 195691268,\n",
       "   'num_raters': 758334},\n",
       "  '2015': {'num_movies': 12,\n",
       "   'sum_rating': 78.3,\n",
       "   'sum_revenue': 5873906902,\n",
       "   'sum_budget': 707584379,\n",
       "   'num_raters': 2576181},\n",
       "  '2016': {'num_movies': 15,\n",
       "   'sum_rating': 92.90000000000002,\n",
       "   'sum_revenue': 3208257156,\n",
       "   'sum_budget': 805417902,\n",
       "   'num_raters': 1529358},\n",
       "  '2017': {'num_movies': 9,\n",
       "   'sum_rating': 55.800000000000004,\n",
       "   'sum_revenue': 4122913667,\n",
       "   'sum_budget': 614823941,\n",
       "   'num_raters': 1752370},\n",
       "  '2018': {'num_movies': 8,\n",
       "   'sum_rating': 48.300000000000004,\n",
       "   'sum_revenue': 3348429868,\n",
       "   'sum_budget': 657573932,\n",
       "   'num_raters': 854760},\n",
       "  '2019': {'num_movies': 5,\n",
       "   'sum_rating': 28.7,\n",
       "   'sum_revenue': 866173582,\n",
       "   'sum_budget': 146788839,\n",
       "   'num_raters': 353528},\n",
       "  '2020': {'num_movies': 3,\n",
       "   'sum_rating': 18.9,\n",
       "   'sum_revenue': 390626450,\n",
       "   'sum_budget': 207000000,\n",
       "   'num_raters': 231936}},\n",
       " 'movie_arr': ['tt0088763',\n",
       "  'tt5052448',\n",
       "  'tt0361748',\n",
       "  'tt0107290',\n",
       "  'tt0172495',\n",
       "  'tt4972582',\n",
       "  'tt0108052',\n",
       "  'tt0446029',\n",
       "  'tt0414387',\n",
       "  'tt1051906',\n",
       "  'tt0086250',\n",
       "  'tt0800080',\n",
       "  'tt0454848',\n",
       "  'tt0470752',\n",
       "  'tt0268978',\n",
       "  'tt0117998',\n",
       "  'tt0369610',\n",
       "  'tt0077975',\n",
       "  'tt0083929',\n",
       "  'tt0314331',\n",
       "  'tt0120616',\n",
       "  'tt1707386',\n",
       "  'tt1483013',\n",
       "  'tt0163651',\n",
       "  'tt0258463',\n",
       "  'tt6673612',\n",
       "  'tt0088847',\n",
       "  'tt0096874',\n",
       "  'tt0289765',\n",
       "  'tt0232500',\n",
       "  'tt6823368',\n",
       "  'tt0195685',\n",
       "  'tt1478338',\n",
       "  'tt1213641',\n",
       "  'tt0379786',\n",
       "  'tt0116483',\n",
       "  'tt1905041',\n",
       "  'tt0765429',\n",
       "  'tt0405422',\n",
       "  'tt0112641',\n",
       "  'tt0212985',\n",
       "  'tt0783233',\n",
       "  'tt0338526',\n",
       "  'tt2345759',\n",
       "  'tt0360717',\n",
       "  'tt0084787',\n",
       "  'tt0073195',\n",
       "  'tt0082198',\n",
       "  'tt1599348',\n",
       "  'tt0795421',\n",
       "  'tt0083866',\n",
       "  'tt0077416',\n",
       "  'tt1650554',\n",
       "  'tt0286716',\n",
       "  'tt2820852',\n",
       "  'tt0372183',\n",
       "  'tt4881806',\n",
       "  'tt0463985',\n",
       "  'tt0206634',\n",
       "  'tt0069704',\n",
       "  'tt4630562',\n",
       "  'tt4196776',\n",
       "  'tt4477536',\n",
       "  'tt0114746',\n",
       "  'tt0112384',\n",
       "  'tt0190590',\n",
       "  'tt8305852',\n",
       "  'tt0099088',\n",
       "  'tt2848292',\n",
       "  'tt0311113',\n",
       "  'tt1781769',\n",
       "  'tt1637725',\n",
       "  'tt0105323',\n",
       "  'tt1013752',\n",
       "  'tt6911608',\n",
       "  'tt0088128',\n",
       "  'tt2557478',\n",
       "  'tt0090305',\n",
       "  'tt0440963',\n",
       "  'tt0493464',\n",
       "  'tt1092026',\n",
       "  'tt0080455',\n",
       "  'tt0114898',\n",
       "  'tt0163025',\n",
       "  'tt5113040',\n",
       "  'tt1596343',\n",
       "  'tt0119567',\n",
       "  'tt0096320',\n",
       "  'tt1735898',\n",
       "  'tt0478311',\n",
       "  'tt1213663',\n",
       "  'tt0209163',\n",
       "  'tt1440129',\n",
       "  'tt6977338',\n",
       "  'tt0803096',\n",
       "  'tt0322259',\n",
       "  'tt1323594',\n",
       "  'tt0089560',\n",
       "  'tt2870612',\n",
       "  'tt0800039',\n",
       "  'tt0131325',\n",
       "  'tt0316396',\n",
       "  'tt4465564',\n",
       "  'tt0296572',\n",
       "  'tt0100814',\n",
       "  'tt5308322',\n",
       "  'tt0955308',\n",
       "  'tt3469046',\n",
       "  'tt0091225',\n",
       "  'tt0243155',\n",
       "  'tt1216492',\n",
       "  'tt1489889',\n",
       "  'tt1488555',\n",
       "  'tt1272878',\n",
       "  'tt0829150',\n",
       "  'tt1194173',\n",
       "  'tt0109813',\n",
       "  'tt1398426',\n",
       "  'tt0118928',\n",
       "  'tt1152836',\n",
       "  'tt0384793',\n",
       "  'tt2184339',\n",
       "  'tt0076729',\n",
       "  'tt0112508',\n",
       "  'tt0098554',\n",
       "  'tt0471042',\n",
       "  'tt0430357',\n",
       "  'tt0099938',\n",
       "  'tt0110366',\n",
       "  'tt0138097',\n",
       "  'tt1482459',\n",
       "  'tt0475290',\n",
       "  'tt3181822',\n",
       "  'tt0119395',\n",
       "  'tt0104070',\n",
       "  'tt0408306',\n",
       "  'tt1758810',\n",
       "  'tt0360201',\n",
       "  'tt0119643',\n",
       "  'tt0106519',\n",
       "  'tt0119528',\n",
       "  'tt0390022',\n",
       "  'tt2637276',\n",
       "  'tt0409847',\n",
       "  'tt0099329',\n",
       "  'tt1385826',\n",
       "  'tt0457939',\n",
       "  'tt0472062',\n",
       "  'tt0276751',\n",
       "  'tt0112642',\n",
       "  'tt6781982',\n",
       "  'tt0251736',\n",
       "  'tt0107207',\n",
       "  'tt0905372',\n",
       "  'tt3960412',\n",
       "  'tt0859163',\n",
       "  'tt2080374',\n",
       "  'tt0101921',\n",
       "  'tt0475394',\n",
       "  'tt1226229',\n",
       "  'tt0315327',\n",
       "  'tt0430922',\n",
       "  'tt0277296',\n",
       "  'tt0070735',\n",
       "  'tt2293640',\n",
       "  'tt0116365',\n",
       "  'tt0266987',\n",
       "  'tt0411477',\n",
       "  'tt0123964',\n",
       "  'tt1605630',\n",
       "  'tt0312528',\n",
       "  'tt0452594',\n",
       "  'tt3152624',\n",
       "  'tt1195478',\n",
       "  'tt0098067',\n",
       "  'tt0122718',\n",
       "  'tt0086143',\n",
       "  'tt0396752',\n",
       "  'tt1690953',\n",
       "  'tt0093936',\n",
       "  'tt0352248',\n",
       "  'tt2709768',\n",
       "  'tt0132477',\n",
       "  'tt0105435',\n",
       "  'tt4438848',\n",
       "  'tt0252866',\n",
       "  'tt2096672',\n",
       "  'tt2381991',\n",
       "  'tt0095497',\n",
       "  'tt0170016',\n",
       "  'tt0087597',\n",
       "  'tt2975578',\n",
       "  'tt3564472',\n",
       "  'tt1240982',\n",
       "  'tt0289992',\n",
       "  'tt1024255',\n",
       "  'tt0350258',\n",
       "  'tt0160184',\n",
       "  'tt0218967',\n",
       "  'tt0120780',\n",
       "  'tt4094724',\n",
       "  'tt1078940',\n",
       "  'tt0413099',\n",
       "  'tt0099141',\n",
       "  'tt1524137',\n",
       "  'tt1314655',\n",
       "  'tt1127180',\n",
       "  'tt2023587',\n",
       "  'tt0343737',\n",
       "  'tt0418763',\n",
       "  'tt0414055',\n",
       "  'tt0327850',\n",
       "  'tt0095253',\n",
       "  'tt0212338',\n",
       "  'tt0112431',\n",
       "  'tt0300532',\n",
       "  'tt0452608',\n",
       "  'tt0328828',\n",
       "  'tt0120749',\n",
       "  'tt1473832',\n",
       "  'tt0132347',\n",
       "  'tt0790736',\n",
       "  'tt0145681',\n",
       "  'tt0236348',\n",
       "  'tt0290002',\n",
       "  'tt0144528',\n",
       "  'tt0120693',\n",
       "  'tt0105121',\n",
       "  'tt0455760',\n",
       "  'tt0387877',\n",
       "  'tt1230414',\n",
       "  'tt0141926',\n",
       "  'tt0076740',\n",
       "  'tt0343135',\n",
       "  'tt0397101',\n",
       "  'tt6921996',\n",
       "  'tt1634122',\n",
       "  'tt0095631',\n",
       "  'tt0088194',\n",
       "  'tt1131729',\n",
       "  'tt0099365',\n",
       "  'tt0089155',\n",
       "  'tt0138524',\n",
       "  'tt0095489',\n",
       "  'tt1408253',\n",
       "  'tt0110950',\n",
       "  'tt2318092',\n",
       "  'tt0114608',\n",
       "  'tt0104231',\n",
       "  'tt0431197',\n",
       "  'tt1201167',\n",
       "  'tt0098273',\n",
       "  'tt0086154',\n",
       "  'tt0129290',\n",
       "  'tt0457400',\n",
       "  'tt0158622',\n",
       "  'tt0083722',\n",
       "  'tt0475276',\n",
       "  'tt0077766',\n",
       "  'tt1411704',\n",
       "  'tt0116136',\n",
       "  'tt0762107',\n",
       "  'tt0780653',\n",
       "  'tt0107076',\n",
       "  'tt0405336',\n",
       "  'tt1220198',\n",
       "  'tt0418819',\n",
       "  'tt0078504',\n",
       "  'tt0100419',\n",
       "  'tt0125664',\n",
       "  'tt0126916',\n",
       "  'tt0889583',\n",
       "  'tt4361050',\n",
       "  'tt0144120',\n",
       "  'tt1053424',\n",
       "  'tt0821642',\n",
       "  'tt2709692',\n",
       "  'tt0155975',\n",
       "  'tt0078723',\n",
       "  'tt0110997',\n",
       "  'tt0274166',\n",
       "  'tt0112346',\n",
       "  'tt0109493',\n",
       "  'tt0329575',\n",
       "  'tt10481868',\n",
       "  'tt0317198',\n",
       "  'tt0093148',\n",
       "  'tt0395251',\n",
       "  'tt0082495',\n",
       "  'tt0067588',\n",
       "  'tt0102004',\n",
       "  'tt0453451',\n",
       "  'tt0118747',\n",
       "  'tt0091541',\n",
       "  'tt1578275',\n",
       "  'tt1204977',\n",
       "  'tt0085750',\n",
       "  'tt0083642',\n",
       "  'tt3707106',\n",
       "  'tt0116040',\n",
       "  'tt0065134',\n",
       "  'tt0081777',\n",
       "  'tt0120610',\n",
       "  'tt0111143',\n",
       "  'tt0970866',\n",
       "  'tt0089346',\n",
       "  'tt0947810',\n",
       "  'tt2702724',\n",
       "  'tt1583420',\n",
       "  'tt0899106',\n",
       "  'tt0093300',\n",
       "  'tt0099253',\n",
       "  'tt0094138',\n",
       "  'tt1415283',\n",
       "  'tt0105477',\n",
       "  'tt0096794',\n",
       "  'tt0870111',\n",
       "  'tt0110216',\n",
       "  'tt0373926',\n",
       "  'tt0092494',\n",
       "  'tt0322589',\n",
       "  'tt8085790',\n",
       "  'tt0102175',\n",
       "  'tt0087262',\n",
       "  'tt0131369',\n",
       "  'tt0088850',\n",
       "  'tt0881320',\n",
       "  'tt0450405',\n",
       "  'tt0106770',\n",
       "  'tt0085959',\n",
       "  'tt0085636',\n",
       "  'tt2494280',\n",
       "  'tt0115783',\n",
       "  'tt1438254',\n",
       "  'tt0116322',\n",
       "  'tt0114852',\n",
       "  'tt0279493',\n",
       "  'tt0380623',\n",
       "  'tt0103671',\n",
       "  'tt0100168',\n",
       "  'tt0417217',\n",
       "  'tt0381971',\n",
       "  'tt0082817',\n",
       "  'tt3850590',\n",
       "  'tt0420238',\n",
       "  'tt0379865',\n",
       "  'tt0095243',\n",
       "  'tt0092925',\n",
       "  'tt1135487',\n",
       "  'tt0071455',\n",
       "  'tt0107091',\n",
       "  'tt0072226',\n",
       "  'tt0102719',\n",
       "  'tt0072926',\n",
       "  'tt0114576',\n",
       "  'tt0112688',\n",
       "  'tt0120458',\n",
       "  'tt0104756',\n",
       "  'tt0096071',\n",
       "  'tt0102216',\n",
       "  'tt1430615',\n",
       "  'tt0463034',\n",
       "  'tt0103956',\n",
       "  'tt2869728',\n",
       "  'tt0385267',\n",
       "  'tt0238112',\n",
       "  'tt0106500',\n",
       "  'tt0494652',\n",
       "  'tt0106375',\n",
       "  'tt0092804',\n",
       "  'tt0109504',\n",
       "  'tt0259288',\n",
       "  'tt0465142',\n",
       "  'tt0084335',\n",
       "  'tt0384642',\n",
       "  'tt0062824',\n",
       "  'tt0134154',\n",
       "  'tt2083355',\n",
       "  'tt0079576',\n",
       "  'tt0192614',\n",
       "  'tt0097637',\n",
       "  'tt0107473',\n",
       "  'tt0097235',\n",
       "  'tt0119484',\n",
       "  'tt0192111',\n",
       "  'tt0107529',\n",
       "  'tt0077278',\n",
       "  'tt0079100',\n",
       "  'tt0113347',\n",
       "  'tt0106941',\n",
       "  'tt0375210',\n",
       "  'tt0110771',\n",
       "  'tt0073075',\n",
       "  'tt0102460',\n",
       "  'tt0097366',\n",
       "  'tt0079073',\n",
       "  'tt0119115',\n",
       "  'tt0091396',\n",
       "  'tt0115862',\n",
       "  'tt0078740',\n",
       "  'tt0080934',\n",
       "  'tt0117608',\n",
       "  'tt0085387',\n",
       "  'tt0105636',\n",
       "  'tt0483726',\n",
       "  'tt0083798',\n",
       "  'tt0088007',\n",
       "  'tt0120776',\n",
       "  'tt0095863',\n",
       "  'tt0120133',\n",
       "  'tt0081150',\n",
       "  'tt0160236',\n",
       "  'tt0081249',\n",
       "  'tt0120834',\n",
       "  'tt0095654',\n",
       "  'tt0119509',\n",
       "  'tt0099747',\n",
       "  'tt0182000',\n",
       "  'tt0280720',\n",
       "  'tt0083678',\n",
       "  'tt4649416',\n",
       "  'tt0119142',\n",
       "  'tt0102220',\n",
       "  'tt0082121',\n",
       "  'tt0270707',\n",
       "  'tt1054588',\n",
       "  'tt0082001',\n",
       "  'tt0095638',\n",
       "  'tt0102729',\n",
       "  'tt0262396',\n",
       "  'tt0113360',\n",
       "  'tt0110939',\n",
       "  'tt0117965',\n",
       "  'tt0105187',\n",
       "  'tt0106613',\n",
       "  'tt0082507',\n",
       "  'tt0345074',\n",
       "  'tt0156323',\n",
       "  'tt0086014',\n",
       "  'tt0435528',\n",
       "  'tt0117561',\n",
       "  'tt0090073',\n",
       "  'tt0083365',\n",
       "  'tt4669186',\n",
       "  'tt0085863',\n",
       "  'tt0076138',\n",
       "  'tt0116165',\n",
       "  'tt0116442',\n",
       "  'tt0087096',\n",
       "  'tt0085473',\n",
       "  'tt0077296',\n",
       "  'tt0079753',\n",
       "  'tt0077233',\n",
       "  'tt0388154',\n",
       "  'tt0363095',\n",
       "  'tt0115927'],\n",
       " 'total_movies': 456,\n",
       " 'total_rating': 2912.6000000000004,\n",
       " 'total_raters': 58916715,\n",
       " 'total_revenue': 92509059470,\n",
       " 'total_budget': 27927229094}"
      ]
     },
     "metadata": {},
     "execution_count": 12
    }
   ],
   "source": [
    "prod"
   ]
  },
  {
   "cell_type": "code",
   "execution_count": 13,
   "metadata": {},
   "outputs": [
    {
     "output_type": "execute_result",
     "data": {
      "text/plain": [
       "1968"
      ]
     },
     "metadata": {},
     "execution_count": 13
    }
   ],
   "source": [
    "rolling_year = 5\n",
    "present = 2020\n",
    "first_movie_year = 1967\n",
    "\n",
    "for year in rdj['year-wise-performance']:\n",
    "    if(rdj['year-wise-performance'][year]['num_movies'] != 0):\n",
    "        first_movie_year = int(year)\n",
    "        break\n",
    "first_movie_year"
   ]
  },
  {
   "cell_type": "code",
   "execution_count": 14,
   "metadata": {},
   "outputs": [],
   "source": [
    "def getValues(st_year, nd_year, entity):\n",
    "    info = {}\n",
    "    info['total_revenue'] = 0\n",
    "    info['total_budget'] = 0\n",
    "    info['num_movies'] = 0\n",
    "    info['num_raters'] = 0\n",
    "    for year in range(st_year, nd_year+1):\n",
    "        year = str(year)\n",
    "        info['total_revenue']   += entity['year-wise-performance'][year]['sum_revenue']\n",
    "        info['total_budget']    += entity['year-wise-performance'][year]['sum_budget']\n",
    "        info['num_movies']      += entity['year-wise-performance'][year]['num_movies']\n",
    "        info['num_raters']      += entity['year-wise-performance'][year]['num_raters']\n",
    "    return info"
   ]
  },
  {
   "cell_type": "code",
   "execution_count": 15,
   "metadata": {},
   "outputs": [
    {
     "output_type": "execute_result",
     "data": {
      "text/plain": [
       "{'total_revenue': 92509059470,\n",
       " 'total_budget': 27927229094,\n",
       " 'num_movies': 456,\n",
       " 'num_raters': 58916715}"
      ]
     },
     "metadata": {},
     "execution_count": 15
    }
   ],
   "source": [
    "getValues(first_movie_year, present, rdj)"
   ]
  },
  {
   "cell_type": "code",
   "execution_count": 16,
   "metadata": {},
   "outputs": [],
   "source": [
    "year_label = []\n",
    "revenue_arr = []\n",
    "budget_arr = []\n",
    "num_movie_arr = []\n",
    "\n",
    "for year in range(first_movie_year+rolling_year-1, present):\n",
    "    st_year = year - rolling_year + 1\n",
    "    nd_year = year\n",
    "    info = getValues(st_year, nd_year, rdj)\n",
    "    year_label.append('{} - {}'.format(st_year, nd_year))\n",
    "\n",
    "    if(info['num_movies'] != 0):\n",
    "        revenue_arr.append(info['total_revenue']/info['num_movies'])\n",
    "        budget_arr.append(info['total_budget']/info['num_movies'])\n",
    "        num_movie_arr.append(info['num_movies'])\n",
    "    else:\n",
    "        revenue_arr.append(0)\n",
    "        budget_arr.append(0)\n",
    "        num_movie_arr.append(0) "
   ]
  },
  {
   "cell_type": "code",
   "execution_count": 17,
   "metadata": {},
   "outputs": [],
   "source": [
    "def plotFigure(xrr, yrr, zrr):\n",
    "    fig = make_subplots()\n",
    "    fig.add_trace(\n",
    "        go.Scatter(\n",
    "            x=xrr, \n",
    "            y=yrr, \n",
    "            name=\"Revenue\",\n",
    "            mode='lines+markers',\n",
    "            line_color='rgba(102, 0, 204, .8)'\n",
    "        ),\n",
    "    )\n",
    "    \n",
    "    fig.add_trace(\n",
    "        go.Scatter(\n",
    "            x=xrr, \n",
    "            y=zrr, \n",
    "            name=\"Budget\",\n",
    "            mode='lines+markers',\n",
    "            line_color='rgba(153, 0, 51, .8)'\n",
    "        ),\n",
    "    )\n",
    "    return fig"
   ]
  },
  {
   "cell_type": "code",
   "execution_count": 18,
   "metadata": {},
   "outputs": [
    {
     "output_type": "display_data",
     "data": {
      "application/vnd.plotly.v1+json": {
       "config": {
        "plotlyServerURL": "https://plot.ly"
       },
       "data": [
        {
         "line": {
          "color": "rgba(102, 0, 204, .8)"
         },
         "mode": "lines+markers",
         "name": "Revenue",
         "type": "scatter",
         "x": [
          "1968 - 1972",
          "1969 - 1973",
          "1970 - 1974",
          "1971 - 1975",
          "1972 - 1976",
          "1973 - 1977",
          "1974 - 1978",
          "1975 - 1979",
          "1976 - 1980",
          "1977 - 1981",
          "1978 - 1982",
          "1979 - 1983",
          "1980 - 1984",
          "1981 - 1985",
          "1982 - 1986",
          "1983 - 1987",
          "1984 - 1988",
          "1985 - 1989",
          "1986 - 1990",
          "1987 - 1991",
          "1988 - 1992",
          "1989 - 1993",
          "1990 - 1994",
          "1991 - 1995",
          "1992 - 1996",
          "1993 - 1997",
          "1994 - 1998",
          "1995 - 1999",
          "1996 - 2000",
          "1997 - 2001",
          "1998 - 2002",
          "1999 - 2003",
          "2000 - 2004",
          "2001 - 2005",
          "2002 - 2006",
          "2003 - 2007",
          "2004 - 2008",
          "2005 - 2009",
          "2006 - 2010",
          "2007 - 2011",
          "2008 - 2012",
          "2009 - 2013",
          "2010 - 2014",
          "2011 - 2015",
          "2012 - 2016",
          "2013 - 2017",
          "2014 - 2018",
          "2015 - 2019"
         ],
         "y": [
          41517670.666666664,
          420276319.5,
          356455144.3333333,
          567554843.5,
          638957223,
          515706944.8,
          387406236.6923077,
          293675304.1052632,
          175562493.9047619,
          150923518.26923078,
          177412084.47058824,
          136954235.42105263,
          125619382.25714286,
          139137769.23076922,
          152126113,
          110403497.60606061,
          123874465.05882353,
          157656211.1081081,
          153480261.57894737,
          135829512.72727272,
          139943623.8,
          165987276.4375,
          157425105.30769232,
          168680990.03636363,
          178671145.62711865,
          186342717.1451613,
          164039826.51666668,
          163592240.5967742,
          174143601.45,
          201415815.69491526,
          195125501.59322035,
          218138635.703125,
          233545483.32786885,
          205189843.57575756,
          180312334.6521739,
          182315832.7638889,
          177091223.95714286,
          161888112,
          170299449.46478873,
          177733069.95714286,
          196657500.67647058,
          210371900.078125,
          214471345.75,
          279823370.26785713,
          286780515.9298246,
          316376197.8518519,
          335863694.71153843,
          355503697.4489796
         ]
        },
        {
         "line": {
          "color": "rgba(153, 0, 51, .8)"
         },
         "mode": "lines+markers",
         "name": "Budget",
         "type": "scatter",
         "x": [
          "1968 - 1972",
          "1969 - 1973",
          "1970 - 1974",
          "1971 - 1975",
          "1972 - 1976",
          "1973 - 1977",
          "1974 - 1978",
          "1975 - 1979",
          "1976 - 1980",
          "1977 - 1981",
          "1978 - 1982",
          "1979 - 1983",
          "1980 - 1984",
          "1981 - 1985",
          "1982 - 1986",
          "1983 - 1987",
          "1984 - 1988",
          "1985 - 1989",
          "1986 - 1990",
          "1987 - 1991",
          "1988 - 1992",
          "1989 - 1993",
          "1990 - 1994",
          "1991 - 1995",
          "1992 - 1996",
          "1993 - 1997",
          "1994 - 1998",
          "1995 - 1999",
          "1996 - 2000",
          "1997 - 2001",
          "1998 - 2002",
          "1999 - 2003",
          "2000 - 2004",
          "2001 - 2005",
          "2002 - 2006",
          "2003 - 2007",
          "2004 - 2008",
          "2005 - 2009",
          "2006 - 2010",
          "2007 - 2011",
          "2008 - 2012",
          "2009 - 2013",
          "2010 - 2014",
          "2011 - 2015",
          "2012 - 2016",
          "2013 - 2017",
          "2014 - 2018",
          "2015 - 2019"
         ],
         "y": [
          10821549.333333334,
          14474528.75,
          18399212.5,
          24342773.5,
          27158450.285714287,
          31609800.3,
          41287083.84615385,
          45686590.684210524,
          50135484.23809524,
          45367146.961538464,
          42716684.823529415,
          37400366.631578945,
          34123836.31428572,
          30171875.333333332,
          33930960.08108108,
          34588437.484848484,
          37378182.35294118,
          39413869.432432435,
          40907280.7368421,
          37138335.65909091,
          39781914.2,
          41381854.875,
          42171556.961538464,
          50414261.345454544,
          55487813.25423729,
          56960110.06451613,
          63134387.733333334,
          73308421.17741935,
          77599777.9,
          81332984.2542373,
          82049428.16949153,
          87055117.0625,
          84088382.47540984,
          77272889.96969697,
          76007907.47826087,
          77581450.81944445,
          72119932.24285714,
          70564738.98666666,
          74453538.87323944,
          74380010.72857143,
          76493944.3235294,
          76565246.921875,
          71178690.83928572,
          65607904.625,
          61154685.07017544,
          55989556.53703704,
          57328681.192307696,
          59840591.69387755
         ]
        }
       ],
       "layout": {
        "template": {
         "data": {
          "bar": [
           {
            "error_x": {
             "color": "#2a3f5f"
            },
            "error_y": {
             "color": "#2a3f5f"
            },
            "marker": {
             "line": {
              "color": "#E5ECF6",
              "width": 0.5
             }
            },
            "type": "bar"
           }
          ],
          "barpolar": [
           {
            "marker": {
             "line": {
              "color": "#E5ECF6",
              "width": 0.5
             }
            },
            "type": "barpolar"
           }
          ],
          "carpet": [
           {
            "aaxis": {
             "endlinecolor": "#2a3f5f",
             "gridcolor": "white",
             "linecolor": "white",
             "minorgridcolor": "white",
             "startlinecolor": "#2a3f5f"
            },
            "baxis": {
             "endlinecolor": "#2a3f5f",
             "gridcolor": "white",
             "linecolor": "white",
             "minorgridcolor": "white",
             "startlinecolor": "#2a3f5f"
            },
            "type": "carpet"
           }
          ],
          "choropleth": [
           {
            "colorbar": {
             "outlinewidth": 0,
             "ticks": ""
            },
            "type": "choropleth"
           }
          ],
          "contour": [
           {
            "colorbar": {
             "outlinewidth": 0,
             "ticks": ""
            },
            "colorscale": [
             [
              0,
              "#0d0887"
             ],
             [
              0.1111111111111111,
              "#46039f"
             ],
             [
              0.2222222222222222,
              "#7201a8"
             ],
             [
              0.3333333333333333,
              "#9c179e"
             ],
             [
              0.4444444444444444,
              "#bd3786"
             ],
             [
              0.5555555555555556,
              "#d8576b"
             ],
             [
              0.6666666666666666,
              "#ed7953"
             ],
             [
              0.7777777777777778,
              "#fb9f3a"
             ],
             [
              0.8888888888888888,
              "#fdca26"
             ],
             [
              1,
              "#f0f921"
             ]
            ],
            "type": "contour"
           }
          ],
          "contourcarpet": [
           {
            "colorbar": {
             "outlinewidth": 0,
             "ticks": ""
            },
            "type": "contourcarpet"
           }
          ],
          "heatmap": [
           {
            "colorbar": {
             "outlinewidth": 0,
             "ticks": ""
            },
            "colorscale": [
             [
              0,
              "#0d0887"
             ],
             [
              0.1111111111111111,
              "#46039f"
             ],
             [
              0.2222222222222222,
              "#7201a8"
             ],
             [
              0.3333333333333333,
              "#9c179e"
             ],
             [
              0.4444444444444444,
              "#bd3786"
             ],
             [
              0.5555555555555556,
              "#d8576b"
             ],
             [
              0.6666666666666666,
              "#ed7953"
             ],
             [
              0.7777777777777778,
              "#fb9f3a"
             ],
             [
              0.8888888888888888,
              "#fdca26"
             ],
             [
              1,
              "#f0f921"
             ]
            ],
            "type": "heatmap"
           }
          ],
          "heatmapgl": [
           {
            "colorbar": {
             "outlinewidth": 0,
             "ticks": ""
            },
            "colorscale": [
             [
              0,
              "#0d0887"
             ],
             [
              0.1111111111111111,
              "#46039f"
             ],
             [
              0.2222222222222222,
              "#7201a8"
             ],
             [
              0.3333333333333333,
              "#9c179e"
             ],
             [
              0.4444444444444444,
              "#bd3786"
             ],
             [
              0.5555555555555556,
              "#d8576b"
             ],
             [
              0.6666666666666666,
              "#ed7953"
             ],
             [
              0.7777777777777778,
              "#fb9f3a"
             ],
             [
              0.8888888888888888,
              "#fdca26"
             ],
             [
              1,
              "#f0f921"
             ]
            ],
            "type": "heatmapgl"
           }
          ],
          "histogram": [
           {
            "marker": {
             "colorbar": {
              "outlinewidth": 0,
              "ticks": ""
             }
            },
            "type": "histogram"
           }
          ],
          "histogram2d": [
           {
            "colorbar": {
             "outlinewidth": 0,
             "ticks": ""
            },
            "colorscale": [
             [
              0,
              "#0d0887"
             ],
             [
              0.1111111111111111,
              "#46039f"
             ],
             [
              0.2222222222222222,
              "#7201a8"
             ],
             [
              0.3333333333333333,
              "#9c179e"
             ],
             [
              0.4444444444444444,
              "#bd3786"
             ],
             [
              0.5555555555555556,
              "#d8576b"
             ],
             [
              0.6666666666666666,
              "#ed7953"
             ],
             [
              0.7777777777777778,
              "#fb9f3a"
             ],
             [
              0.8888888888888888,
              "#fdca26"
             ],
             [
              1,
              "#f0f921"
             ]
            ],
            "type": "histogram2d"
           }
          ],
          "histogram2dcontour": [
           {
            "colorbar": {
             "outlinewidth": 0,
             "ticks": ""
            },
            "colorscale": [
             [
              0,
              "#0d0887"
             ],
             [
              0.1111111111111111,
              "#46039f"
             ],
             [
              0.2222222222222222,
              "#7201a8"
             ],
             [
              0.3333333333333333,
              "#9c179e"
             ],
             [
              0.4444444444444444,
              "#bd3786"
             ],
             [
              0.5555555555555556,
              "#d8576b"
             ],
             [
              0.6666666666666666,
              "#ed7953"
             ],
             [
              0.7777777777777778,
              "#fb9f3a"
             ],
             [
              0.8888888888888888,
              "#fdca26"
             ],
             [
              1,
              "#f0f921"
             ]
            ],
            "type": "histogram2dcontour"
           }
          ],
          "mesh3d": [
           {
            "colorbar": {
             "outlinewidth": 0,
             "ticks": ""
            },
            "type": "mesh3d"
           }
          ],
          "parcoords": [
           {
            "line": {
             "colorbar": {
              "outlinewidth": 0,
              "ticks": ""
             }
            },
            "type": "parcoords"
           }
          ],
          "pie": [
           {
            "automargin": true,
            "type": "pie"
           }
          ],
          "scatter": [
           {
            "marker": {
             "colorbar": {
              "outlinewidth": 0,
              "ticks": ""
             }
            },
            "type": "scatter"
           }
          ],
          "scatter3d": [
           {
            "line": {
             "colorbar": {
              "outlinewidth": 0,
              "ticks": ""
             }
            },
            "marker": {
             "colorbar": {
              "outlinewidth": 0,
              "ticks": ""
             }
            },
            "type": "scatter3d"
           }
          ],
          "scattercarpet": [
           {
            "marker": {
             "colorbar": {
              "outlinewidth": 0,
              "ticks": ""
             }
            },
            "type": "scattercarpet"
           }
          ],
          "scattergeo": [
           {
            "marker": {
             "colorbar": {
              "outlinewidth": 0,
              "ticks": ""
             }
            },
            "type": "scattergeo"
           }
          ],
          "scattergl": [
           {
            "marker": {
             "colorbar": {
              "outlinewidth": 0,
              "ticks": ""
             }
            },
            "type": "scattergl"
           }
          ],
          "scattermapbox": [
           {
            "marker": {
             "colorbar": {
              "outlinewidth": 0,
              "ticks": ""
             }
            },
            "type": "scattermapbox"
           }
          ],
          "scatterpolar": [
           {
            "marker": {
             "colorbar": {
              "outlinewidth": 0,
              "ticks": ""
             }
            },
            "type": "scatterpolar"
           }
          ],
          "scatterpolargl": [
           {
            "marker": {
             "colorbar": {
              "outlinewidth": 0,
              "ticks": ""
             }
            },
            "type": "scatterpolargl"
           }
          ],
          "scatterternary": [
           {
            "marker": {
             "colorbar": {
              "outlinewidth": 0,
              "ticks": ""
             }
            },
            "type": "scatterternary"
           }
          ],
          "surface": [
           {
            "colorbar": {
             "outlinewidth": 0,
             "ticks": ""
            },
            "colorscale": [
             [
              0,
              "#0d0887"
             ],
             [
              0.1111111111111111,
              "#46039f"
             ],
             [
              0.2222222222222222,
              "#7201a8"
             ],
             [
              0.3333333333333333,
              "#9c179e"
             ],
             [
              0.4444444444444444,
              "#bd3786"
             ],
             [
              0.5555555555555556,
              "#d8576b"
             ],
             [
              0.6666666666666666,
              "#ed7953"
             ],
             [
              0.7777777777777778,
              "#fb9f3a"
             ],
             [
              0.8888888888888888,
              "#fdca26"
             ],
             [
              1,
              "#f0f921"
             ]
            ],
            "type": "surface"
           }
          ],
          "table": [
           {
            "cells": {
             "fill": {
              "color": "#EBF0F8"
             },
             "line": {
              "color": "white"
             }
            },
            "header": {
             "fill": {
              "color": "#C8D4E3"
             },
             "line": {
              "color": "white"
             }
            },
            "type": "table"
           }
          ]
         },
         "layout": {
          "annotationdefaults": {
           "arrowcolor": "#2a3f5f",
           "arrowhead": 0,
           "arrowwidth": 1
          },
          "autotypenumbers": "strict",
          "coloraxis": {
           "colorbar": {
            "outlinewidth": 0,
            "ticks": ""
           }
          },
          "colorscale": {
           "diverging": [
            [
             0,
             "#8e0152"
            ],
            [
             0.1,
             "#c51b7d"
            ],
            [
             0.2,
             "#de77ae"
            ],
            [
             0.3,
             "#f1b6da"
            ],
            [
             0.4,
             "#fde0ef"
            ],
            [
             0.5,
             "#f7f7f7"
            ],
            [
             0.6,
             "#e6f5d0"
            ],
            [
             0.7,
             "#b8e186"
            ],
            [
             0.8,
             "#7fbc41"
            ],
            [
             0.9,
             "#4d9221"
            ],
            [
             1,
             "#276419"
            ]
           ],
           "sequential": [
            [
             0,
             "#0d0887"
            ],
            [
             0.1111111111111111,
             "#46039f"
            ],
            [
             0.2222222222222222,
             "#7201a8"
            ],
            [
             0.3333333333333333,
             "#9c179e"
            ],
            [
             0.4444444444444444,
             "#bd3786"
            ],
            [
             0.5555555555555556,
             "#d8576b"
            ],
            [
             0.6666666666666666,
             "#ed7953"
            ],
            [
             0.7777777777777778,
             "#fb9f3a"
            ],
            [
             0.8888888888888888,
             "#fdca26"
            ],
            [
             1,
             "#f0f921"
            ]
           ],
           "sequentialminus": [
            [
             0,
             "#0d0887"
            ],
            [
             0.1111111111111111,
             "#46039f"
            ],
            [
             0.2222222222222222,
             "#7201a8"
            ],
            [
             0.3333333333333333,
             "#9c179e"
            ],
            [
             0.4444444444444444,
             "#bd3786"
            ],
            [
             0.5555555555555556,
             "#d8576b"
            ],
            [
             0.6666666666666666,
             "#ed7953"
            ],
            [
             0.7777777777777778,
             "#fb9f3a"
            ],
            [
             0.8888888888888888,
             "#fdca26"
            ],
            [
             1,
             "#f0f921"
            ]
           ]
          },
          "colorway": [
           "#636efa",
           "#EF553B",
           "#00cc96",
           "#ab63fa",
           "#FFA15A",
           "#19d3f3",
           "#FF6692",
           "#B6E880",
           "#FF97FF",
           "#FECB52"
          ],
          "font": {
           "color": "#2a3f5f"
          },
          "geo": {
           "bgcolor": "white",
           "lakecolor": "white",
           "landcolor": "#E5ECF6",
           "showlakes": true,
           "showland": true,
           "subunitcolor": "white"
          },
          "hoverlabel": {
           "align": "left"
          },
          "hovermode": "closest",
          "mapbox": {
           "style": "light"
          },
          "paper_bgcolor": "white",
          "plot_bgcolor": "#E5ECF6",
          "polar": {
           "angularaxis": {
            "gridcolor": "white",
            "linecolor": "white",
            "ticks": ""
           },
           "bgcolor": "#E5ECF6",
           "radialaxis": {
            "gridcolor": "white",
            "linecolor": "white",
            "ticks": ""
           }
          },
          "scene": {
           "xaxis": {
            "backgroundcolor": "#E5ECF6",
            "gridcolor": "white",
            "gridwidth": 2,
            "linecolor": "white",
            "showbackground": true,
            "ticks": "",
            "zerolinecolor": "white"
           },
           "yaxis": {
            "backgroundcolor": "#E5ECF6",
            "gridcolor": "white",
            "gridwidth": 2,
            "linecolor": "white",
            "showbackground": true,
            "ticks": "",
            "zerolinecolor": "white"
           },
           "zaxis": {
            "backgroundcolor": "#E5ECF6",
            "gridcolor": "white",
            "gridwidth": 2,
            "linecolor": "white",
            "showbackground": true,
            "ticks": "",
            "zerolinecolor": "white"
           }
          },
          "shapedefaults": {
           "line": {
            "color": "#2a3f5f"
           }
          },
          "ternary": {
           "aaxis": {
            "gridcolor": "white",
            "linecolor": "white",
            "ticks": ""
           },
           "baxis": {
            "gridcolor": "white",
            "linecolor": "white",
            "ticks": ""
           },
           "bgcolor": "#E5ECF6",
           "caxis": {
            "gridcolor": "white",
            "linecolor": "white",
            "ticks": ""
           }
          },
          "title": {
           "x": 0.05
          },
          "xaxis": {
           "automargin": true,
           "gridcolor": "white",
           "linecolor": "white",
           "ticks": "",
           "title": {
            "standoff": 15
           },
           "zerolinecolor": "white",
           "zerolinewidth": 2
          },
          "yaxis": {
           "automargin": true,
           "gridcolor": "white",
           "linecolor": "white",
           "ticks": "",
           "title": {
            "standoff": 15
           },
           "zerolinecolor": "white",
           "zerolinewidth": 2
          }
         }
        },
        "xaxis": {
         "anchor": "y",
         "domain": [
          0,
          1
         ]
        },
        "yaxis": {
         "anchor": "x",
         "domain": [
          0,
          1
         ]
        }
       }
      }
     },
     "metadata": {}
    }
   ],
   "source": [
    "fig = plotFigure(year_label, revenue_arr, budget_arr)\n",
    "fig.show()"
   ]
  },
  {
   "source": [
    "# Star Power -- KS Test"
   ],
   "cell_type": "markdown",
   "metadata": {}
  },
  {
   "cell_type": "code",
   "execution_count": 19,
   "metadata": {},
   "outputs": [],
   "source": [
    "def getEntityID(entity):\n",
    "    # print(entity)\n",
    "    id = entity['url'].split('?')[0].split('/')[-2]\n",
    "    return id"
   ]
  },
  {
   "cell_type": "code",
   "execution_count": 20,
   "metadata": {},
   "outputs": [],
   "source": [
    "def getStarInfo(star_id):\n",
    "    star_info = star_features[star_id]\n",
    "    return star_info['total_movies'], star_info['total_raters']"
   ]
  },
  {
   "cell_type": "code",
   "execution_count": 21,
   "metadata": {},
   "outputs": [],
   "source": [
    "movie = getMovie('tt0371746')\n",
    "# movie"
   ]
  },
  {
   "cell_type": "code",
   "execution_count": 22,
   "metadata": {},
   "outputs": [],
   "source": [
    "def getStarInfoBefore(star_id, year):\n",
    "    return getValues(1967, year-1, star_features[star_id])"
   ]
  },
  {
   "cell_type": "code",
   "execution_count": 23,
   "metadata": {},
   "outputs": [
    {
     "output_type": "execute_result",
     "data": {
      "text/plain": [
       "(456, 58916715)"
      ]
     },
     "metadata": {},
     "execution_count": 23
    }
   ],
   "source": [
    "getStarInfo('Universal Pictures')"
   ]
  },
  {
   "cell_type": "code",
   "execution_count": 24,
   "metadata": {},
   "outputs": [
    {
     "output_type": "execute_result",
     "data": {
      "text/plain": [
       "{'total_revenue': 57446804840,\n",
       " 'total_budget': 18690842056,\n",
       " 'num_movies': 318,\n",
       " 'num_raters': 36054100}"
      ]
     },
     "metadata": {},
     "execution_count": 24
    }
   ],
   "source": [
    "getStarInfoBefore('Universal Pictures', 2008)"
   ]
  },
  {
   "cell_type": "code",
   "execution_count": 29,
   "metadata": {},
   "outputs": [],
   "source": [
    "th_num_movie = 20\n",
    "th_avg_raters = 500000\n",
    "\n",
    "def getMovieCriteria(movie, printLog=False):\n",
    "    cast_ensamble = movie['cast_and_character']\n",
    "    if('Production Co' not in movie['details']):\n",
    "        if(printLog == True):\n",
    "            print(movie['imdb_id'], \"could ont find cast_ensamble\")\n",
    "    else:\n",
    "        prod_arr = movie['details']['Production Co']\n",
    "        if(type(prod_arr) is not list):\n",
    "            prod_arr = [prod_arr]\n",
    "        for cast in prod_arr:\n",
    "            star = cast\n",
    "            star_id = star\n",
    "            # num_movie, total_raters = getStarInfo(star_id)\n",
    "            info = getStarInfoBefore(star_id, int(movie['cleaned_year']))\n",
    "            num_movie = info['num_movies']\n",
    "            total_raters = info['num_raters']\n",
    "            avg_raters = 0\n",
    "            if(num_movie != 0):\n",
    "                avg_raters = total_raters/num_movie\n",
    "            # print(star_id, num_movie, th_num_movie, total_raters, total_raters/num_movie, th_avg_raters,  star['name'])\n",
    "            # print(num_movie > th_num_movie, avg_raters > th_avg_raters)\n",
    "            if(num_movie > th_num_movie or avg_raters > th_avg_raters):\n",
    "                return True\n",
    "    return False"
   ]
  },
  {
   "cell_type": "code",
   "execution_count": 30,
   "metadata": {},
   "outputs": [
    {
     "output_type": "execute_result",
     "data": {
      "text/plain": [
       "True"
      ]
     },
     "metadata": {},
     "execution_count": 30
    }
   ],
   "source": [
    "getMovieCriteria(movie)"
   ]
  },
  {
   "cell_type": "code",
   "execution_count": 31,
   "metadata": {
    "tags": []
   },
   "outputs": [],
   "source": [
    "has_star = []\n",
    "no_star = []\n",
    "\n",
    "for movie in imdb.find():\n",
    "    st = getMovieCriteria(movie)\n",
    "    revenue = movie['cleaned_Revenue']\n",
    "    if(st == True):\n",
    "        has_star.append((movie['imdb_id'], movie['name'], revenue))\n",
    "    else:\n",
    "        no_star.append((movie['imdb_id'], movie['name'], revenue))"
   ]
  },
  {
   "cell_type": "code",
   "execution_count": 32,
   "metadata": {},
   "outputs": [
    {
     "output_type": "execute_result",
     "data": {
      "text/plain": [
       "(3487, 4694)"
      ]
     },
     "metadata": {},
     "execution_count": 32
    }
   ],
   "source": [
    "len(has_star), len(no_star)"
   ]
  },
  {
   "cell_type": "code",
   "execution_count": 33,
   "metadata": {},
   "outputs": [],
   "source": [
    "has_star_revenue = []\n",
    "no_star_revenue = []\n",
    "\n",
    "for movie in has_star:\n",
    "    has_star_revenue.append(movie[2])\n",
    "\n",
    "for movie in no_star:\n",
    "    no_star_revenue.append(movie[2])"
   ]
  },
  {
   "cell_type": "code",
   "execution_count": 34,
   "metadata": {},
   "outputs": [
    {
     "output_type": "execute_result",
     "data": {
      "text/plain": [
       "(3487, 4694)"
      ]
     },
     "metadata": {},
     "execution_count": 34
    }
   ],
   "source": [
    "len(has_star_revenue), len(no_star_revenue)"
   ]
  },
  {
   "cell_type": "code",
   "execution_count": 35,
   "metadata": {},
   "outputs": [],
   "source": [
    "from scipy.stats import ks_2samp\n",
    "import numpy as np\n",
    "\n",
    "has_star_revenue = np.array(has_star_revenue)\n",
    "no_star_revenue = np.array(no_star_revenue)"
   ]
  },
  {
   "cell_type": "code",
   "execution_count": 36,
   "metadata": {},
   "outputs": [
    {
     "output_type": "execute_result",
     "data": {
      "text/plain": [
       "KstestResult(statistic=0.4834090075145507, pvalue=5.276495262940273e-08)"
      ]
     },
     "metadata": {},
     "execution_count": 36
    }
   ],
   "source": [
    "ks_2samp(has_star_revenue, no_star_revenue)"
   ]
  },
  {
   "cell_type": "code",
   "execution_count": 37,
   "metadata": {},
   "outputs": [
    {
     "output_type": "execute_result",
     "data": {
      "text/plain": [
       "(173658993.92801836, 46583439.662121855)"
      ]
     },
     "metadata": {},
     "execution_count": 37
    }
   ],
   "source": [
    "has_star_revenue.mean(), no_star_revenue.mean()"
   ]
  },
  {
   "cell_type": "code",
   "execution_count": 38,
   "metadata": {},
   "outputs": [
    {
     "output_type": "execute_result",
     "data": {
      "text/plain": [
       "127075554.2658965"
      ]
     },
     "metadata": {},
     "execution_count": 38
    }
   ],
   "source": [
    "has_star_revenue.mean()-no_star_revenue.mean()"
   ]
  },
  {
   "cell_type": "code",
   "execution_count": null,
   "metadata": {},
   "outputs": [],
   "source": []
  }
 ]
}