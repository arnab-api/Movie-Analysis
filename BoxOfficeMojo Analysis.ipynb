{
 "cells": [
  {
   "cell_type": "code",
   "execution_count": 1,
   "id": "9c4ea31a",
   "metadata": {},
   "outputs": [],
   "source": [
    "import os\n",
    "import json\n",
    "import plotly.graph_objects as go\n",
    "from plotly.subplots import make_subplots\n",
    "# import pymongo\n",
    "path = \"../Dataset/BoxOfficeMojo_with_imdb_ID/BoxOfficeMojo/\""
   ]
  },
  {
   "cell_type": "code",
   "execution_count": 2,
   "id": "f6f6aa01",
   "metadata": {},
   "outputs": [],
   "source": [
    "years = os.listdir(path)\n",
    "years = sorted(years)"
   ]
  },
  {
   "cell_type": "code",
   "execution_count": 3,
   "id": "e891f5b0",
   "metadata": {},
   "outputs": [],
   "source": [
    "num_movies = []\n",
    "for year in years:\n",
    "    movie_list = os.listdir(path + year)\n",
    "    num_movies.append(len(movie_list)-1)"
   ]
  },
  {
   "cell_type": "code",
   "execution_count": 4,
   "id": "ecfb9e0a",
   "metadata": {},
   "outputs": [
    {
     "output_type": "display_data",
     "data": {
      "application/vnd.plotly.v1+json": {
       "config": {
        "plotlyServerURL": "https://plot.ly"
       },
       "data": [
        {
         "type": "bar",
         "x": [
          "1977",
          "1978",
          "1979",
          "1980",
          "1981",
          "1982",
          "1983",
          "1984",
          "1985",
          "1986",
          "1987",
          "1988",
          "1989",
          "1990",
          "1991",
          "1992",
          "1993",
          "1994",
          "1995",
          "1996",
          "1997",
          "1998",
          "1999",
          "2000",
          "2001",
          "2002",
          "2003",
          "2004",
          "2005",
          "2006",
          "2007",
          "2008",
          "2009",
          "2010",
          "2011",
          "2012",
          "2013",
          "2014",
          "2015",
          "2016",
          "2017",
          "2018",
          "2019",
          "2020",
          "2021"
         ],
         "y": [
          35,
          55,
          84,
          116,
          114,
          132,
          159,
          165,
          180,
          208,
          234,
          248,
          236,
          224,
          244,
          236,
          260,
          257,
          282,
          312,
          305,
          341,
          396,
          414,
          690,
          1374,
          1396,
          1259,
          1352,
          1723,
          2686,
          3017,
          2448,
          2298,
          2340,
          2492,
          2350,
          2321,
          2430,
          3147,
          3237,
          3404,
          3489,
          1995,
          332
         ]
        }
       ],
       "layout": {
        "template": {
         "data": {
          "bar": [
           {
            "error_x": {
             "color": "#2a3f5f"
            },
            "error_y": {
             "color": "#2a3f5f"
            },
            "marker": {
             "line": {
              "color": "#E5ECF6",
              "width": 0.5
             }
            },
            "type": "bar"
           }
          ],
          "barpolar": [
           {
            "marker": {
             "line": {
              "color": "#E5ECF6",
              "width": 0.5
             }
            },
            "type": "barpolar"
           }
          ],
          "carpet": [
           {
            "aaxis": {
             "endlinecolor": "#2a3f5f",
             "gridcolor": "white",
             "linecolor": "white",
             "minorgridcolor": "white",
             "startlinecolor": "#2a3f5f"
            },
            "baxis": {
             "endlinecolor": "#2a3f5f",
             "gridcolor": "white",
             "linecolor": "white",
             "minorgridcolor": "white",
             "startlinecolor": "#2a3f5f"
            },
            "type": "carpet"
           }
          ],
          "choropleth": [
           {
            "colorbar": {
             "outlinewidth": 0,
             "ticks": ""
            },
            "type": "choropleth"
           }
          ],
          "contour": [
           {
            "colorbar": {
             "outlinewidth": 0,
             "ticks": ""
            },
            "colorscale": [
             [
              0,
              "#0d0887"
             ],
             [
              0.1111111111111111,
              "#46039f"
             ],
             [
              0.2222222222222222,
              "#7201a8"
             ],
             [
              0.3333333333333333,
              "#9c179e"
             ],
             [
              0.4444444444444444,
              "#bd3786"
             ],
             [
              0.5555555555555556,
              "#d8576b"
             ],
             [
              0.6666666666666666,
              "#ed7953"
             ],
             [
              0.7777777777777778,
              "#fb9f3a"
             ],
             [
              0.8888888888888888,
              "#fdca26"
             ],
             [
              1,
              "#f0f921"
             ]
            ],
            "type": "contour"
           }
          ],
          "contourcarpet": [
           {
            "colorbar": {
             "outlinewidth": 0,
             "ticks": ""
            },
            "type": "contourcarpet"
           }
          ],
          "heatmap": [
           {
            "colorbar": {
             "outlinewidth": 0,
             "ticks": ""
            },
            "colorscale": [
             [
              0,
              "#0d0887"
             ],
             [
              0.1111111111111111,
              "#46039f"
             ],
             [
              0.2222222222222222,
              "#7201a8"
             ],
             [
              0.3333333333333333,
              "#9c179e"
             ],
             [
              0.4444444444444444,
              "#bd3786"
             ],
             [
              0.5555555555555556,
              "#d8576b"
             ],
             [
              0.6666666666666666,
              "#ed7953"
             ],
             [
              0.7777777777777778,
              "#fb9f3a"
             ],
             [
              0.8888888888888888,
              "#fdca26"
             ],
             [
              1,
              "#f0f921"
             ]
            ],
            "type": "heatmap"
           }
          ],
          "heatmapgl": [
           {
            "colorbar": {
             "outlinewidth": 0,
             "ticks": ""
            },
            "colorscale": [
             [
              0,
              "#0d0887"
             ],
             [
              0.1111111111111111,
              "#46039f"
             ],
             [
              0.2222222222222222,
              "#7201a8"
             ],
             [
              0.3333333333333333,
              "#9c179e"
             ],
             [
              0.4444444444444444,
              "#bd3786"
             ],
             [
              0.5555555555555556,
              "#d8576b"
             ],
             [
              0.6666666666666666,
              "#ed7953"
             ],
             [
              0.7777777777777778,
              "#fb9f3a"
             ],
             [
              0.8888888888888888,
              "#fdca26"
             ],
             [
              1,
              "#f0f921"
             ]
            ],
            "type": "heatmapgl"
           }
          ],
          "histogram": [
           {
            "marker": {
             "colorbar": {
              "outlinewidth": 0,
              "ticks": ""
             }
            },
            "type": "histogram"
           }
          ],
          "histogram2d": [
           {
            "colorbar": {
             "outlinewidth": 0,
             "ticks": ""
            },
            "colorscale": [
             [
              0,
              "#0d0887"
             ],
             [
              0.1111111111111111,
              "#46039f"
             ],
             [
              0.2222222222222222,
              "#7201a8"
             ],
             [
              0.3333333333333333,
              "#9c179e"
             ],
             [
              0.4444444444444444,
              "#bd3786"
             ],
             [
              0.5555555555555556,
              "#d8576b"
             ],
             [
              0.6666666666666666,
              "#ed7953"
             ],
             [
              0.7777777777777778,
              "#fb9f3a"
             ],
             [
              0.8888888888888888,
              "#fdca26"
             ],
             [
              1,
              "#f0f921"
             ]
            ],
            "type": "histogram2d"
           }
          ],
          "histogram2dcontour": [
           {
            "colorbar": {
             "outlinewidth": 0,
             "ticks": ""
            },
            "colorscale": [
             [
              0,
              "#0d0887"
             ],
             [
              0.1111111111111111,
              "#46039f"
             ],
             [
              0.2222222222222222,
              "#7201a8"
             ],
             [
              0.3333333333333333,
              "#9c179e"
             ],
             [
              0.4444444444444444,
              "#bd3786"
             ],
             [
              0.5555555555555556,
              "#d8576b"
             ],
             [
              0.6666666666666666,
              "#ed7953"
             ],
             [
              0.7777777777777778,
              "#fb9f3a"
             ],
             [
              0.8888888888888888,
              "#fdca26"
             ],
             [
              1,
              "#f0f921"
             ]
            ],
            "type": "histogram2dcontour"
           }
          ],
          "mesh3d": [
           {
            "colorbar": {
             "outlinewidth": 0,
             "ticks": ""
            },
            "type": "mesh3d"
           }
          ],
          "parcoords": [
           {
            "line": {
             "colorbar": {
              "outlinewidth": 0,
              "ticks": ""
             }
            },
            "type": "parcoords"
           }
          ],
          "pie": [
           {
            "automargin": true,
            "type": "pie"
           }
          ],
          "scatter": [
           {
            "marker": {
             "colorbar": {
              "outlinewidth": 0,
              "ticks": ""
             }
            },
            "type": "scatter"
           }
          ],
          "scatter3d": [
           {
            "line": {
             "colorbar": {
              "outlinewidth": 0,
              "ticks": ""
             }
            },
            "marker": {
             "colorbar": {
              "outlinewidth": 0,
              "ticks": ""
             }
            },
            "type": "scatter3d"
           }
          ],
          "scattercarpet": [
           {
            "marker": {
             "colorbar": {
              "outlinewidth": 0,
              "ticks": ""
             }
            },
            "type": "scattercarpet"
           }
          ],
          "scattergeo": [
           {
            "marker": {
             "colorbar": {
              "outlinewidth": 0,
              "ticks": ""
             }
            },
            "type": "scattergeo"
           }
          ],
          "scattergl": [
           {
            "marker": {
             "colorbar": {
              "outlinewidth": 0,
              "ticks": ""
             }
            },
            "type": "scattergl"
           }
          ],
          "scattermapbox": [
           {
            "marker": {
             "colorbar": {
              "outlinewidth": 0,
              "ticks": ""
             }
            },
            "type": "scattermapbox"
           }
          ],
          "scatterpolar": [
           {
            "marker": {
             "colorbar": {
              "outlinewidth": 0,
              "ticks": ""
             }
            },
            "type": "scatterpolar"
           }
          ],
          "scatterpolargl": [
           {
            "marker": {
             "colorbar": {
              "outlinewidth": 0,
              "ticks": ""
             }
            },
            "type": "scatterpolargl"
           }
          ],
          "scatterternary": [
           {
            "marker": {
             "colorbar": {
              "outlinewidth": 0,
              "ticks": ""
             }
            },
            "type": "scatterternary"
           }
          ],
          "surface": [
           {
            "colorbar": {
             "outlinewidth": 0,
             "ticks": ""
            },
            "colorscale": [
             [
              0,
              "#0d0887"
             ],
             [
              0.1111111111111111,
              "#46039f"
             ],
             [
              0.2222222222222222,
              "#7201a8"
             ],
             [
              0.3333333333333333,
              "#9c179e"
             ],
             [
              0.4444444444444444,
              "#bd3786"
             ],
             [
              0.5555555555555556,
              "#d8576b"
             ],
             [
              0.6666666666666666,
              "#ed7953"
             ],
             [
              0.7777777777777778,
              "#fb9f3a"
             ],
             [
              0.8888888888888888,
              "#fdca26"
             ],
             [
              1,
              "#f0f921"
             ]
            ],
            "type": "surface"
           }
          ],
          "table": [
           {
            "cells": {
             "fill": {
              "color": "#EBF0F8"
             },
             "line": {
              "color": "white"
             }
            },
            "header": {
             "fill": {
              "color": "#C8D4E3"
             },
             "line": {
              "color": "white"
             }
            },
            "type": "table"
           }
          ]
         },
         "layout": {
          "annotationdefaults": {
           "arrowcolor": "#2a3f5f",
           "arrowhead": 0,
           "arrowwidth": 1
          },
          "autotypenumbers": "strict",
          "coloraxis": {
           "colorbar": {
            "outlinewidth": 0,
            "ticks": ""
           }
          },
          "colorscale": {
           "diverging": [
            [
             0,
             "#8e0152"
            ],
            [
             0.1,
             "#c51b7d"
            ],
            [
             0.2,
             "#de77ae"
            ],
            [
             0.3,
             "#f1b6da"
            ],
            [
             0.4,
             "#fde0ef"
            ],
            [
             0.5,
             "#f7f7f7"
            ],
            [
             0.6,
             "#e6f5d0"
            ],
            [
             0.7,
             "#b8e186"
            ],
            [
             0.8,
             "#7fbc41"
            ],
            [
             0.9,
             "#4d9221"
            ],
            [
             1,
             "#276419"
            ]
           ],
           "sequential": [
            [
             0,
             "#0d0887"
            ],
            [
             0.1111111111111111,
             "#46039f"
            ],
            [
             0.2222222222222222,
             "#7201a8"
            ],
            [
             0.3333333333333333,
             "#9c179e"
            ],
            [
             0.4444444444444444,
             "#bd3786"
            ],
            [
             0.5555555555555556,
             "#d8576b"
            ],
            [
             0.6666666666666666,
             "#ed7953"
            ],
            [
             0.7777777777777778,
             "#fb9f3a"
            ],
            [
             0.8888888888888888,
             "#fdca26"
            ],
            [
             1,
             "#f0f921"
            ]
           ],
           "sequentialminus": [
            [
             0,
             "#0d0887"
            ],
            [
             0.1111111111111111,
             "#46039f"
            ],
            [
             0.2222222222222222,
             "#7201a8"
            ],
            [
             0.3333333333333333,
             "#9c179e"
            ],
            [
             0.4444444444444444,
             "#bd3786"
            ],
            [
             0.5555555555555556,
             "#d8576b"
            ],
            [
             0.6666666666666666,
             "#ed7953"
            ],
            [
             0.7777777777777778,
             "#fb9f3a"
            ],
            [
             0.8888888888888888,
             "#fdca26"
            ],
            [
             1,
             "#f0f921"
            ]
           ]
          },
          "colorway": [
           "#636efa",
           "#EF553B",
           "#00cc96",
           "#ab63fa",
           "#FFA15A",
           "#19d3f3",
           "#FF6692",
           "#B6E880",
           "#FF97FF",
           "#FECB52"
          ],
          "font": {
           "color": "#2a3f5f"
          },
          "geo": {
           "bgcolor": "white",
           "lakecolor": "white",
           "landcolor": "#E5ECF6",
           "showlakes": true,
           "showland": true,
           "subunitcolor": "white"
          },
          "hoverlabel": {
           "align": "left"
          },
          "hovermode": "closest",
          "mapbox": {
           "style": "light"
          },
          "paper_bgcolor": "white",
          "plot_bgcolor": "#E5ECF6",
          "polar": {
           "angularaxis": {
            "gridcolor": "white",
            "linecolor": "white",
            "ticks": ""
           },
           "bgcolor": "#E5ECF6",
           "radialaxis": {
            "gridcolor": "white",
            "linecolor": "white",
            "ticks": ""
           }
          },
          "scene": {
           "xaxis": {
            "backgroundcolor": "#E5ECF6",
            "gridcolor": "white",
            "gridwidth": 2,
            "linecolor": "white",
            "showbackground": true,
            "ticks": "",
            "zerolinecolor": "white"
           },
           "yaxis": {
            "backgroundcolor": "#E5ECF6",
            "gridcolor": "white",
            "gridwidth": 2,
            "linecolor": "white",
            "showbackground": true,
            "ticks": "",
            "zerolinecolor": "white"
           },
           "zaxis": {
            "backgroundcolor": "#E5ECF6",
            "gridcolor": "white",
            "gridwidth": 2,
            "linecolor": "white",
            "showbackground": true,
            "ticks": "",
            "zerolinecolor": "white"
           }
          },
          "shapedefaults": {
           "line": {
            "color": "#2a3f5f"
           }
          },
          "ternary": {
           "aaxis": {
            "gridcolor": "white",
            "linecolor": "white",
            "ticks": ""
           },
           "baxis": {
            "gridcolor": "white",
            "linecolor": "white",
            "ticks": ""
           },
           "bgcolor": "#E5ECF6",
           "caxis": {
            "gridcolor": "white",
            "linecolor": "white",
            "ticks": ""
           }
          },
          "title": {
           "x": 0.05
          },
          "xaxis": {
           "automargin": true,
           "gridcolor": "white",
           "linecolor": "white",
           "ticks": "",
           "title": {
            "standoff": 15
           },
           "zerolinecolor": "white",
           "zerolinewidth": 2
          },
          "yaxis": {
           "automargin": true,
           "gridcolor": "white",
           "linecolor": "white",
           "ticks": "",
           "title": {
            "standoff": 15
           },
           "zerolinecolor": "white",
           "zerolinewidth": 2
          }
         }
        }
       }
      }
     },
     "metadata": {}
    }
   ],
   "source": [
    "fig = go.Figure([go.Bar(x=years, y=num_movies)])\n",
    "fig.show()"
   ]
  },
  {
   "cell_type": "code",
   "execution_count": 5,
   "id": "a69ba7de",
   "metadata": {},
   "outputs": [],
   "source": [
    "year = \"1994\""
   ]
  },
  {
   "cell_type": "code",
   "execution_count": 6,
   "id": "49d8635c",
   "metadata": {},
   "outputs": [],
   "source": [
    "def mergeDict(dict1, dict2):\n",
    "    ret = {}\n",
    "    for key in dict1:\n",
    "        ret[key] = dict1[key]\n",
    "    for key in dict2:\n",
    "        ret[key] = dict2[key]\n",
    "    return ret"
   ]
  },
  {
   "cell_type": "code",
   "execution_count": 7,
   "id": "05642f57",
   "metadata": {},
   "outputs": [],
   "source": [
    "def load_movies(year):\n",
    "    with open(path+year+\"/0_summary.json\", 'r') as f:\n",
    "        summary = json.load(f)\n",
    "    print(\"found {} movies in the year {}\".format(len(summary), year))\n",
    "    cnt = 0\n",
    "    movie_list = []\n",
    "    for movie in summary:\n",
    "        cnt+=1\n",
    "    #     print(\"loading {} out of {} -- \".format(cnt, len(summary)) + movie['name'])\n",
    "        file_name = str(cnt) + \"_\" + movie['file_name']\n",
    "        try: \n",
    "            with open(path + year + \"/\" + file_name + \".json\", 'r') as f:\n",
    "                movie_json = json.load(f)\n",
    "                movie_json = mergeDict(movie, movie_json)\n",
    "                movie_list.append(movie_json)\n",
    "#                 print(movie_json)\n",
    "        except:\n",
    "            print(\"NOT FOUND!!! >> {} -- {}\".format(file_name, year))\n",
    "#         break\n",
    "    return movie_list"
   ]
  },
  {
   "cell_type": "code",
   "execution_count": 8,
   "id": "4c954b3d",
   "metadata": {},
   "outputs": [
    {
     "output_type": "stream",
     "name": "stdout",
     "text": [
      "found 35 movies in the year 1977\n",
      "found 55 movies in the year 1978\n",
      "found 84 movies in the year 1979\n",
      "found 116 movies in the year 1980\n",
      "found 114 movies in the year 1981\n",
      "found 132 movies in the year 1982\n",
      "found 159 movies in the year 1983\n",
      "found 165 movies in the year 1984\n",
      "found 180 movies in the year 1985\n",
      "found 208 movies in the year 1986\n",
      "found 234 movies in the year 1987\n",
      "found 248 movies in the year 1988\n",
      "found 236 movies in the year 1989\n",
      "found 224 movies in the year 1990\n",
      "found 245 movies in the year 1991\n",
      "NOT FOUND!!! >> 48_necessary_roughness -- 1991\n",
      "found 236 movies in the year 1992\n",
      "found 260 movies in the year 1993\n",
      "found 257 movies in the year 1994\n",
      "found 282 movies in the year 1995\n",
      "found 312 movies in the year 1996\n",
      "found 305 movies in the year 1997\n",
      "found 341 movies in the year 1998\n",
      "found 396 movies in the year 1999\n",
      "found 414 movies in the year 2000\n",
      "found 690 movies in the year 2001\n",
      "found 1374 movies in the year 2002\n",
      "found 1396 movies in the year 2003\n",
      "NOT FOUND!!! >> 268_the_spanish_apartment_2003_re_release -- 2003\n",
      "found 1259 movies in the year 2004\n",
      "found 1352 movies in the year 2005\n",
      "found 1723 movies in the year 2006\n",
      "NOT FOUND!!! >> 363_the_white_planet_carte_blanche -- 2006\n",
      "found 2686 movies in the year 2007\n",
      "found 3017 movies in the year 2008\n",
      "found 2448 movies in the year 2009\n",
      "found 2298 movies in the year 2010\n",
      "found 2340 movies in the year 2011\n",
      "found 2492 movies in the year 2012\n",
      "found 2350 movies in the year 2013\n",
      "found 2321 movies in the year 2014\n",
      "found 2431 movies in the year 2015\n",
      "NOT FOUND!!! >> 920_unknown_title -- 2015\n",
      "found 3148 movies in the year 2016\n",
      "NOT FOUND!!! >> 1504_bang_gang__a_modern_love_story -- 2016\n",
      "NOT FOUND!!! >> 1905_the_book_of_love -- 2016\n",
      "NOT FOUND!!! >> 1965_mirror -- 2016\n",
      "found 3238 movies in the year 2017\n",
      "NOT FOUND!!! >> 1594_adventure_time__islands_part_6__min_and_marty_adventure_time__islands_part_1__the_invitation_adventure_time__islands_part_7__helpers_adventure_time__islands_part_4__imaginary_resources_adventure_time__islands_part_5__hide_and_seek_adventure_time__islands_part_8__the_light_cloud_adventure_time__islands_part_3__mysterious_island_adventure_time__islands_part_2__whipple_the_happy_dragon -- 2017\n",
      "found 3404 movies in the year 2018\n",
      "found 3490 movies in the year 2019\n",
      "NOT FOUND!!! >> 1031_a_white__white_day -- 2019\n",
      "found 1995 movies in the year 2020\n",
      "found 332 movies in the year 2021\n"
     ]
    }
   ],
   "source": [
    "all_movies = []\n",
    "for year in years:\n",
    "    all_movies += load_movies(year)\n",
    "#     break"
   ]
  },
  {
   "cell_type": "code",
   "execution_count": 9,
   "id": "295942c7",
   "metadata": {},
   "outputs": [
    {
     "output_type": "execute_result",
     "data": {
      "text/plain": [
       "51013"
      ]
     },
     "metadata": {},
     "execution_count": 9
    }
   ],
   "source": [
    "len(all_movies)"
   ]
  },
  {
   "cell_type": "markdown",
   "id": "be4914b2",
   "metadata": {},
   "source": [
    "# Release Month"
   ]
  },
  {
   "cell_type": "code",
   "execution_count": 10,
   "id": "edee8bbd",
   "metadata": {},
   "outputs": [],
   "source": [
    "selection_key = 'Release Date'\n",
    "\n",
    "problems = []\n",
    "movie_with_key = []\n",
    "for movie in all_movies:\n",
    "    found = False\n",
    "    for key in movie['General Info']:\n",
    "        if(selection_key in key):\n",
    "            found = True\n",
    "            movie_with_key.append(movie)\n",
    "            break\n",
    "    if(found == False):\n",
    "        problems.append(movie)"
   ]
  },
  {
   "cell_type": "code",
   "execution_count": 11,
   "id": "95da4d17",
   "metadata": {},
   "outputs": [
    {
     "output_type": "execute_result",
     "data": {
      "text/plain": [
       "'Among 51013 movies found 50747 movies with Release Date -- 266 without'"
      ]
     },
     "metadata": {},
     "execution_count": 11
    }
   ],
   "source": [
    "'Among {} movies found {} movies with {} -- {} without'.format(len(all_movies), len(movie_with_key), selection_key, len(problems))"
   ]
  },
  {
   "cell_type": "code",
   "execution_count": 13,
   "id": "f7f053a1",
   "metadata": {},
   "outputs": [
    {
     "output_type": "execute_result",
     "data": {
      "text/plain": [
       "{'href': '/releasegroup/gr183194117/?ref_=bo_ydw_table_1086',\n",
       " 'name': 'Fröken Sverige',\n",
       " 'file_name': 'fr_ken_sverige',\n",
       " 'world_wide': '$28,860',\n",
       " 'domestic': '-',\n",
       " 'foreign': '$28,860',\n",
       " 'General Info': {'Distributor': 'Oro Film A/S',\n",
       "  'Opening': '$11,321',\n",
       "  'Release Date': ['Jul 15, 2005'],\n",
       "  'Running Time': '1 hr 32 min',\n",
       "  'Genres': ['Drama'],\n",
       "  'In Release': '170 days/24 weeks',\n",
       "  'Widest Release': '3 theaters',\n",
       "  'IMDbPro': 'https://pro.imdb.com/title/tt0387233?ref_=mojo_rl_summary&rf=mojo_rl_summary'},\n",
       " 'Weekly Income': 'N/A -- checked on 2021-04-27 06:46:17.455579'}"
      ]
     },
     "metadata": {},
     "execution_count": 13
    }
   ],
   "source": [
    "movie_with_key[11010]"
   ]
  },
  {
   "cell_type": "code",
   "execution_count": 16,
   "id": "94db727b",
   "metadata": {},
   "outputs": [],
   "source": [
    "def processReleaseDate(date):\n",
    "    if(type(date) == list):\n",
    "        date = date[0]\n",
    "    month, day, year = date.replace(',','').split(\" \")\n",
    "    return month, day, year"
   ]
  },
  {
   "cell_type": "code",
   "execution_count": 17,
   "id": "0d0ffd8f",
   "metadata": {},
   "outputs": [],
   "source": [
    "month_2_movie = {}\n",
    "for movie in movie_with_key:\n",
    "    for key in movie['General Info']:\n",
    "        if(selection_key in key):\n",
    "            try:\n",
    "                month, day, year = processReleaseDate(movie['General Info'][key])\n",
    "                if(year < \"2010\"):\n",
    "                    continue\n",
    "                if(month not in month_2_movie):\n",
    "                    month_2_movie[month] = []\n",
    "                month_2_movie[month].append(movie)\n",
    "            except:\n",
    "                print(\">>>> \", key, movie['General Info'][key], type(movie['General Info'][key]), movie['name'])\n",
    "            break"
   ]
  },
  {
   "cell_type": "code",
   "execution_count": 18,
   "id": "e75ed18a",
   "metadata": {},
   "outputs": [
    {
     "output_type": "stream",
     "name": "stdout",
     "text": [
      "Jan 2245\nFeb 2207\nMar 2698\nApr 2480\nMay 2368\nJun 2242\nJul 2122\nAug 2376\nSep 2903\nOct 3084\nNov 2887\nDec 2259\n"
     ]
    }
   ],
   "source": [
    "months = ['Jan', 'Feb', 'Mar', 'Apr', 'May', 'Jun', 'Jul', 'Aug', 'Sep', 'Oct', 'Nov', 'Dec']\n",
    "num_movies = []\n",
    "for month in months:\n",
    "    print(month, len(month_2_movie[month]))\n",
    "    num_movies.append(len(month_2_movie[month]))"
   ]
  },
  {
   "cell_type": "code",
   "execution_count": 19,
   "id": "84180421",
   "metadata": {},
   "outputs": [
    {
     "output_type": "display_data",
     "data": {
      "application/vnd.plotly.v1+json": {
       "config": {
        "plotlyServerURL": "https://plot.ly"
       },
       "data": [
        {
         "type": "bar",
         "x": [
          "Jan",
          "Feb",
          "Mar",
          "Apr",
          "May",
          "Jun",
          "Jul",
          "Aug",
          "Sep",
          "Oct",
          "Nov",
          "Dec"
         ],
         "y": [
          2245,
          2207,
          2698,
          2480,
          2368,
          2242,
          2122,
          2376,
          2903,
          3084,
          2887,
          2259
         ]
        }
       ],
       "layout": {
        "template": {
         "data": {
          "bar": [
           {
            "error_x": {
             "color": "#2a3f5f"
            },
            "error_y": {
             "color": "#2a3f5f"
            },
            "marker": {
             "line": {
              "color": "#E5ECF6",
              "width": 0.5
             }
            },
            "type": "bar"
           }
          ],
          "barpolar": [
           {
            "marker": {
             "line": {
              "color": "#E5ECF6",
              "width": 0.5
             }
            },
            "type": "barpolar"
           }
          ],
          "carpet": [
           {
            "aaxis": {
             "endlinecolor": "#2a3f5f",
             "gridcolor": "white",
             "linecolor": "white",
             "minorgridcolor": "white",
             "startlinecolor": "#2a3f5f"
            },
            "baxis": {
             "endlinecolor": "#2a3f5f",
             "gridcolor": "white",
             "linecolor": "white",
             "minorgridcolor": "white",
             "startlinecolor": "#2a3f5f"
            },
            "type": "carpet"
           }
          ],
          "choropleth": [
           {
            "colorbar": {
             "outlinewidth": 0,
             "ticks": ""
            },
            "type": "choropleth"
           }
          ],
          "contour": [
           {
            "colorbar": {
             "outlinewidth": 0,
             "ticks": ""
            },
            "colorscale": [
             [
              0,
              "#0d0887"
             ],
             [
              0.1111111111111111,
              "#46039f"
             ],
             [
              0.2222222222222222,
              "#7201a8"
             ],
             [
              0.3333333333333333,
              "#9c179e"
             ],
             [
              0.4444444444444444,
              "#bd3786"
             ],
             [
              0.5555555555555556,
              "#d8576b"
             ],
             [
              0.6666666666666666,
              "#ed7953"
             ],
             [
              0.7777777777777778,
              "#fb9f3a"
             ],
             [
              0.8888888888888888,
              "#fdca26"
             ],
             [
              1,
              "#f0f921"
             ]
            ],
            "type": "contour"
           }
          ],
          "contourcarpet": [
           {
            "colorbar": {
             "outlinewidth": 0,
             "ticks": ""
            },
            "type": "contourcarpet"
           }
          ],
          "heatmap": [
           {
            "colorbar": {
             "outlinewidth": 0,
             "ticks": ""
            },
            "colorscale": [
             [
              0,
              "#0d0887"
             ],
             [
              0.1111111111111111,
              "#46039f"
             ],
             [
              0.2222222222222222,
              "#7201a8"
             ],
             [
              0.3333333333333333,
              "#9c179e"
             ],
             [
              0.4444444444444444,
              "#bd3786"
             ],
             [
              0.5555555555555556,
              "#d8576b"
             ],
             [
              0.6666666666666666,
              "#ed7953"
             ],
             [
              0.7777777777777778,
              "#fb9f3a"
             ],
             [
              0.8888888888888888,
              "#fdca26"
             ],
             [
              1,
              "#f0f921"
             ]
            ],
            "type": "heatmap"
           }
          ],
          "heatmapgl": [
           {
            "colorbar": {
             "outlinewidth": 0,
             "ticks": ""
            },
            "colorscale": [
             [
              0,
              "#0d0887"
             ],
             [
              0.1111111111111111,
              "#46039f"
             ],
             [
              0.2222222222222222,
              "#7201a8"
             ],
             [
              0.3333333333333333,
              "#9c179e"
             ],
             [
              0.4444444444444444,
              "#bd3786"
             ],
             [
              0.5555555555555556,
              "#d8576b"
             ],
             [
              0.6666666666666666,
              "#ed7953"
             ],
             [
              0.7777777777777778,
              "#fb9f3a"
             ],
             [
              0.8888888888888888,
              "#fdca26"
             ],
             [
              1,
              "#f0f921"
             ]
            ],
            "type": "heatmapgl"
           }
          ],
          "histogram": [
           {
            "marker": {
             "colorbar": {
              "outlinewidth": 0,
              "ticks": ""
             }
            },
            "type": "histogram"
           }
          ],
          "histogram2d": [
           {
            "colorbar": {
             "outlinewidth": 0,
             "ticks": ""
            },
            "colorscale": [
             [
              0,
              "#0d0887"
             ],
             [
              0.1111111111111111,
              "#46039f"
             ],
             [
              0.2222222222222222,
              "#7201a8"
             ],
             [
              0.3333333333333333,
              "#9c179e"
             ],
             [
              0.4444444444444444,
              "#bd3786"
             ],
             [
              0.5555555555555556,
              "#d8576b"
             ],
             [
              0.6666666666666666,
              "#ed7953"
             ],
             [
              0.7777777777777778,
              "#fb9f3a"
             ],
             [
              0.8888888888888888,
              "#fdca26"
             ],
             [
              1,
              "#f0f921"
             ]
            ],
            "type": "histogram2d"
           }
          ],
          "histogram2dcontour": [
           {
            "colorbar": {
             "outlinewidth": 0,
             "ticks": ""
            },
            "colorscale": [
             [
              0,
              "#0d0887"
             ],
             [
              0.1111111111111111,
              "#46039f"
             ],
             [
              0.2222222222222222,
              "#7201a8"
             ],
             [
              0.3333333333333333,
              "#9c179e"
             ],
             [
              0.4444444444444444,
              "#bd3786"
             ],
             [
              0.5555555555555556,
              "#d8576b"
             ],
             [
              0.6666666666666666,
              "#ed7953"
             ],
             [
              0.7777777777777778,
              "#fb9f3a"
             ],
             [
              0.8888888888888888,
              "#fdca26"
             ],
             [
              1,
              "#f0f921"
             ]
            ],
            "type": "histogram2dcontour"
           }
          ],
          "mesh3d": [
           {
            "colorbar": {
             "outlinewidth": 0,
             "ticks": ""
            },
            "type": "mesh3d"
           }
          ],
          "parcoords": [
           {
            "line": {
             "colorbar": {
              "outlinewidth": 0,
              "ticks": ""
             }
            },
            "type": "parcoords"
           }
          ],
          "pie": [
           {
            "automargin": true,
            "type": "pie"
           }
          ],
          "scatter": [
           {
            "marker": {
             "colorbar": {
              "outlinewidth": 0,
              "ticks": ""
             }
            },
            "type": "scatter"
           }
          ],
          "scatter3d": [
           {
            "line": {
             "colorbar": {
              "outlinewidth": 0,
              "ticks": ""
             }
            },
            "marker": {
             "colorbar": {
              "outlinewidth": 0,
              "ticks": ""
             }
            },
            "type": "scatter3d"
           }
          ],
          "scattercarpet": [
           {
            "marker": {
             "colorbar": {
              "outlinewidth": 0,
              "ticks": ""
             }
            },
            "type": "scattercarpet"
           }
          ],
          "scattergeo": [
           {
            "marker": {
             "colorbar": {
              "outlinewidth": 0,
              "ticks": ""
             }
            },
            "type": "scattergeo"
           }
          ],
          "scattergl": [
           {
            "marker": {
             "colorbar": {
              "outlinewidth": 0,
              "ticks": ""
             }
            },
            "type": "scattergl"
           }
          ],
          "scattermapbox": [
           {
            "marker": {
             "colorbar": {
              "outlinewidth": 0,
              "ticks": ""
             }
            },
            "type": "scattermapbox"
           }
          ],
          "scatterpolar": [
           {
            "marker": {
             "colorbar": {
              "outlinewidth": 0,
              "ticks": ""
             }
            },
            "type": "scatterpolar"
           }
          ],
          "scatterpolargl": [
           {
            "marker": {
             "colorbar": {
              "outlinewidth": 0,
              "ticks": ""
             }
            },
            "type": "scatterpolargl"
           }
          ],
          "scatterternary": [
           {
            "marker": {
             "colorbar": {
              "outlinewidth": 0,
              "ticks": ""
             }
            },
            "type": "scatterternary"
           }
          ],
          "surface": [
           {
            "colorbar": {
             "outlinewidth": 0,
             "ticks": ""
            },
            "colorscale": [
             [
              0,
              "#0d0887"
             ],
             [
              0.1111111111111111,
              "#46039f"
             ],
             [
              0.2222222222222222,
              "#7201a8"
             ],
             [
              0.3333333333333333,
              "#9c179e"
             ],
             [
              0.4444444444444444,
              "#bd3786"
             ],
             [
              0.5555555555555556,
              "#d8576b"
             ],
             [
              0.6666666666666666,
              "#ed7953"
             ],
             [
              0.7777777777777778,
              "#fb9f3a"
             ],
             [
              0.8888888888888888,
              "#fdca26"
             ],
             [
              1,
              "#f0f921"
             ]
            ],
            "type": "surface"
           }
          ],
          "table": [
           {
            "cells": {
             "fill": {
              "color": "#EBF0F8"
             },
             "line": {
              "color": "white"
             }
            },
            "header": {
             "fill": {
              "color": "#C8D4E3"
             },
             "line": {
              "color": "white"
             }
            },
            "type": "table"
           }
          ]
         },
         "layout": {
          "annotationdefaults": {
           "arrowcolor": "#2a3f5f",
           "arrowhead": 0,
           "arrowwidth": 1
          },
          "autotypenumbers": "strict",
          "coloraxis": {
           "colorbar": {
            "outlinewidth": 0,
            "ticks": ""
           }
          },
          "colorscale": {
           "diverging": [
            [
             0,
             "#8e0152"
            ],
            [
             0.1,
             "#c51b7d"
            ],
            [
             0.2,
             "#de77ae"
            ],
            [
             0.3,
             "#f1b6da"
            ],
            [
             0.4,
             "#fde0ef"
            ],
            [
             0.5,
             "#f7f7f7"
            ],
            [
             0.6,
             "#e6f5d0"
            ],
            [
             0.7,
             "#b8e186"
            ],
            [
             0.8,
             "#7fbc41"
            ],
            [
             0.9,
             "#4d9221"
            ],
            [
             1,
             "#276419"
            ]
           ],
           "sequential": [
            [
             0,
             "#0d0887"
            ],
            [
             0.1111111111111111,
             "#46039f"
            ],
            [
             0.2222222222222222,
             "#7201a8"
            ],
            [
             0.3333333333333333,
             "#9c179e"
            ],
            [
             0.4444444444444444,
             "#bd3786"
            ],
            [
             0.5555555555555556,
             "#d8576b"
            ],
            [
             0.6666666666666666,
             "#ed7953"
            ],
            [
             0.7777777777777778,
             "#fb9f3a"
            ],
            [
             0.8888888888888888,
             "#fdca26"
            ],
            [
             1,
             "#f0f921"
            ]
           ],
           "sequentialminus": [
            [
             0,
             "#0d0887"
            ],
            [
             0.1111111111111111,
             "#46039f"
            ],
            [
             0.2222222222222222,
             "#7201a8"
            ],
            [
             0.3333333333333333,
             "#9c179e"
            ],
            [
             0.4444444444444444,
             "#bd3786"
            ],
            [
             0.5555555555555556,
             "#d8576b"
            ],
            [
             0.6666666666666666,
             "#ed7953"
            ],
            [
             0.7777777777777778,
             "#fb9f3a"
            ],
            [
             0.8888888888888888,
             "#fdca26"
            ],
            [
             1,
             "#f0f921"
            ]
           ]
          },
          "colorway": [
           "#636efa",
           "#EF553B",
           "#00cc96",
           "#ab63fa",
           "#FFA15A",
           "#19d3f3",
           "#FF6692",
           "#B6E880",
           "#FF97FF",
           "#FECB52"
          ],
          "font": {
           "color": "#2a3f5f"
          },
          "geo": {
           "bgcolor": "white",
           "lakecolor": "white",
           "landcolor": "#E5ECF6",
           "showlakes": true,
           "showland": true,
           "subunitcolor": "white"
          },
          "hoverlabel": {
           "align": "left"
          },
          "hovermode": "closest",
          "mapbox": {
           "style": "light"
          },
          "paper_bgcolor": "white",
          "plot_bgcolor": "#E5ECF6",
          "polar": {
           "angularaxis": {
            "gridcolor": "white",
            "linecolor": "white",
            "ticks": ""
           },
           "bgcolor": "#E5ECF6",
           "radialaxis": {
            "gridcolor": "white",
            "linecolor": "white",
            "ticks": ""
           }
          },
          "scene": {
           "xaxis": {
            "backgroundcolor": "#E5ECF6",
            "gridcolor": "white",
            "gridwidth": 2,
            "linecolor": "white",
            "showbackground": true,
            "ticks": "",
            "zerolinecolor": "white"
           },
           "yaxis": {
            "backgroundcolor": "#E5ECF6",
            "gridcolor": "white",
            "gridwidth": 2,
            "linecolor": "white",
            "showbackground": true,
            "ticks": "",
            "zerolinecolor": "white"
           },
           "zaxis": {
            "backgroundcolor": "#E5ECF6",
            "gridcolor": "white",
            "gridwidth": 2,
            "linecolor": "white",
            "showbackground": true,
            "ticks": "",
            "zerolinecolor": "white"
           }
          },
          "shapedefaults": {
           "line": {
            "color": "#2a3f5f"
           }
          },
          "ternary": {
           "aaxis": {
            "gridcolor": "white",
            "linecolor": "white",
            "ticks": ""
           },
           "baxis": {
            "gridcolor": "white",
            "linecolor": "white",
            "ticks": ""
           },
           "bgcolor": "#E5ECF6",
           "caxis": {
            "gridcolor": "white",
            "linecolor": "white",
            "ticks": ""
           }
          },
          "title": {
           "x": 0.05
          },
          "xaxis": {
           "automargin": true,
           "gridcolor": "white",
           "linecolor": "white",
           "ticks": "",
           "title": {
            "standoff": 15
           },
           "zerolinecolor": "white",
           "zerolinewidth": 2
          },
          "yaxis": {
           "automargin": true,
           "gridcolor": "white",
           "linecolor": "white",
           "ticks": "",
           "title": {
            "standoff": 15
           },
           "zerolinecolor": "white",
           "zerolinewidth": 2
          }
         }
        }
       }
      }
     },
     "metadata": {}
    }
   ],
   "source": [
    "fig = go.Figure([go.Bar(x=months, y=num_movies)])\n",
    "fig.show()"
   ]
  },
  {
   "cell_type": "markdown",
   "id": "5843f3e2",
   "metadata": {},
   "source": [
    "### The month-wise release graph always remain more or less the same. Sep-Oct-Nov has the highest number of movie releases. And March -- Search Dump Months on wiki"
   ]
  },
  {
   "cell_type": "markdown",
   "id": "470e2cf7",
   "metadata": {},
   "source": [
    "# Month-Genre"
   ]
  },
  {
   "cell_type": "code",
   "execution_count": 20,
   "id": "ea692892",
   "metadata": {},
   "outputs": [],
   "source": [
    "all_genres = []\n",
    "without_genre_count = 0\n",
    "for movie in all_movies:\n",
    "    if('Genres' not in movie['General Info']):\n",
    "        without_genre_count += 1\n",
    "        continue\n",
    "    genres = movie['General Info']['Genres']\n",
    "    for genre in genres:\n",
    "        if genre not in all_genres:\n",
    "            all_genres.append(genre)"
   ]
  },
  {
   "cell_type": "code",
   "execution_count": 21,
   "id": "e54fc851",
   "metadata": {},
   "outputs": [
    {
     "output_type": "execute_result",
     "data": {
      "text/plain": [
       "(2736,\n",
       " ['Action',\n",
       "  'Adventure',\n",
       "  'Fantasy',\n",
       "  'Sci-Fi',\n",
       "  'Comedy',\n",
       "  'Drama',\n",
       "  'Music',\n",
       "  'History',\n",
       "  'War',\n",
       "  'Mystery',\n",
       "  'Thriller',\n",
       "  'Romance',\n",
       "  'Sport',\n",
       "  'Animation',\n",
       "  'Family',\n",
       "  'Musical',\n",
       "  'Horror',\n",
       "  'Crime',\n",
       "  'Biography',\n",
       "  'Western',\n",
       "  'Documentary',\n",
       "  'Film-Noir',\n",
       "  'Short',\n",
       "  'Adult',\n",
       "  'News',\n",
       "  'Reality-TV',\n",
       "  'Talk-Show',\n",
       "  'Game-Show'])"
      ]
     },
     "metadata": {},
     "execution_count": 21
    }
   ],
   "source": [
    "without_genre_count, all_genres"
   ]
  },
  {
   "cell_type": "code",
   "execution_count": 22,
   "id": "dfbb18d4",
   "metadata": {},
   "outputs": [],
   "source": [
    "months = ['Jan', 'Feb', 'Mar', 'Apr', 'May', 'Jun', 'Jul', 'Aug', 'Sep', 'Oct', 'Nov', 'Dec']\n",
    "month_dict = {}\n",
    "for month in months:\n",
    "    month_dict[month] = {}\n",
    "    for genre in all_genres:\n",
    "        month_dict[month][genre] = 0\n",
    "    movie_arr = month_2_movie[month]\n",
    "    for movie in movie_arr:\n",
    "        if('Genres' not in movie['General Info']):\n",
    "            continue\n",
    "        genres = movie['General Info']['Genres']\n",
    "        for genre in genres:\n",
    "            month_dict[month][genre] += 1"
   ]
  },
  {
   "cell_type": "code",
   "execution_count": 23,
   "id": "8a12f213",
   "metadata": {},
   "outputs": [],
   "source": [
    "def getFigure(month, dct):\n",
    "    movie_num = []\n",
    "    for genre in all_genres:\n",
    "        movie_num.append(dct[month][genre])\n",
    "    return movie_num"
   ]
  },
  {
   "cell_type": "code",
   "execution_count": 24,
   "id": "ba4da65a",
   "metadata": {},
   "outputs": [
    {
     "output_type": "display_data",
     "data": {
      "application/vnd.plotly.v1+json": {
       "config": {
        "plotlyServerURL": "https://plot.ly"
       },
       "data": [
        {
         "name": "Jan",
         "type": "bar",
         "x": [
          "Action",
          "Adventure",
          "Fantasy",
          "Sci-Fi",
          "Comedy",
          "Drama",
          "Music",
          "History",
          "War",
          "Mystery",
          "Thriller",
          "Romance",
          "Sport",
          "Animation",
          "Family",
          "Musical",
          "Horror",
          "Crime",
          "Biography",
          "Western",
          "Documentary",
          "Film-Noir",
          "Short",
          "Adult",
          "News",
          "Reality-TV",
          "Talk-Show",
          "Game-Show"
         ],
         "xaxis": "x",
         "y": [
          363,
          202,
          167,
          100,
          764,
          1004,
          55,
          110,
          55,
          127,
          352,
          279,
          38,
          137,
          183,
          36,
          154,
          207,
          105,
          14,
          197,
          1,
          7,
          0,
          7,
          1,
          0,
          0
         ],
         "yaxis": "y"
        },
        {
         "name": "Feb",
         "type": "bar",
         "x": [
          "Action",
          "Adventure",
          "Fantasy",
          "Sci-Fi",
          "Comedy",
          "Drama",
          "Music",
          "History",
          "War",
          "Mystery",
          "Thriller",
          "Romance",
          "Sport",
          "Animation",
          "Family",
          "Musical",
          "Horror",
          "Crime",
          "Biography",
          "Western",
          "Documentary",
          "Film-Noir",
          "Short",
          "Adult",
          "News",
          "Reality-TV",
          "Talk-Show",
          "Game-Show"
         ],
         "xaxis": "x2",
         "y": [
          300,
          209,
          156,
          88,
          752,
          978,
          58,
          84,
          61,
          128,
          330,
          418,
          40,
          146,
          176,
          57,
          166,
          205,
          97,
          5,
          197,
          2,
          5,
          0,
          2,
          1,
          0,
          0
         ],
         "yaxis": "y2"
        },
        {
         "name": "Mar",
         "type": "bar",
         "x": [
          "Action",
          "Adventure",
          "Fantasy",
          "Sci-Fi",
          "Comedy",
          "Drama",
          "Music",
          "History",
          "War",
          "Mystery",
          "Thriller",
          "Romance",
          "Sport",
          "Animation",
          "Family",
          "Musical",
          "Horror",
          "Crime",
          "Biography",
          "Western",
          "Documentary",
          "Film-Noir",
          "Short",
          "Adult",
          "News",
          "Reality-TV",
          "Talk-Show",
          "Game-Show"
         ],
         "xaxis": "x3",
         "y": [
          285,
          192,
          147,
          121,
          807,
          1316,
          94,
          127,
          77,
          168,
          423,
          390,
          54,
          122,
          172,
          41,
          196,
          216,
          152,
          14,
          291,
          0,
          18,
          0,
          5,
          2,
          0,
          0
         ],
         "yaxis": "y3"
        },
        {
         "name": "Apr",
         "type": "bar",
         "x": [
          "Action",
          "Adventure",
          "Fantasy",
          "Sci-Fi",
          "Comedy",
          "Drama",
          "Music",
          "History",
          "War",
          "Mystery",
          "Thriller",
          "Romance",
          "Sport",
          "Animation",
          "Family",
          "Musical",
          "Horror",
          "Crime",
          "Biography",
          "Western",
          "Documentary",
          "Film-Noir",
          "Short",
          "Adult",
          "News",
          "Reality-TV",
          "Talk-Show",
          "Game-Show"
         ],
         "xaxis": "x4",
         "y": [
          307,
          211,
          129,
          107,
          701,
          1228,
          63,
          126,
          83,
          160,
          398,
          328,
          55,
          127,
          180,
          35,
          163,
          244,
          136,
          14,
          297,
          0,
          16,
          0,
          7,
          2,
          2,
          0
         ],
         "yaxis": "y4"
        },
        {
         "name": "May",
         "type": "bar",
         "x": [
          "Action",
          "Adventure",
          "Fantasy",
          "Sci-Fi",
          "Comedy",
          "Drama",
          "Music",
          "History",
          "War",
          "Mystery",
          "Thriller",
          "Romance",
          "Sport",
          "Animation",
          "Family",
          "Musical",
          "Horror",
          "Crime",
          "Biography",
          "Western",
          "Documentary",
          "Film-Noir",
          "Short",
          "Adult",
          "News",
          "Reality-TV",
          "Talk-Show",
          "Game-Show"
         ],
         "xaxis": "x5",
         "y": [
          246,
          173,
          121,
          103,
          662,
          1161,
          74,
          95,
          69,
          125,
          333,
          319,
          67,
          91,
          142,
          39,
          159,
          195,
          142,
          13,
          309,
          1,
          5,
          0,
          11,
          1,
          1,
          0
         ],
         "yaxis": "y5"
        },
        {
         "name": "Jun",
         "type": "bar",
         "x": [
          "Action",
          "Adventure",
          "Fantasy",
          "Sci-Fi",
          "Comedy",
          "Drama",
          "Music",
          "History",
          "War",
          "Mystery",
          "Thriller",
          "Romance",
          "Sport",
          "Animation",
          "Family",
          "Musical",
          "Horror",
          "Crime",
          "Biography",
          "Western",
          "Documentary",
          "Film-Noir",
          "Short",
          "Adult",
          "News",
          "Reality-TV",
          "Talk-Show",
          "Game-Show"
         ],
         "xaxis": "x6",
         "y": [
          263,
          195,
          117,
          107,
          673,
          1052,
          94,
          86,
          53,
          145,
          325,
          310,
          48,
          112,
          143,
          44,
          157,
          208,
          122,
          15,
          279,
          1,
          14,
          0,
          8,
          0,
          0,
          0
         ],
         "yaxis": "y6"
        },
        {
         "name": "Jul",
         "type": "bar",
         "x": [
          "Action",
          "Adventure",
          "Fantasy",
          "Sci-Fi",
          "Comedy",
          "Drama",
          "Music",
          "History",
          "War",
          "Mystery",
          "Thriller",
          "Romance",
          "Sport",
          "Animation",
          "Family",
          "Musical",
          "Horror",
          "Crime",
          "Biography",
          "Western",
          "Documentary",
          "Film-Noir",
          "Short",
          "Adult",
          "News",
          "Reality-TV",
          "Talk-Show",
          "Game-Show"
         ],
         "xaxis": "x7",
         "y": [
          310,
          223,
          161,
          131,
          668,
          936,
          81,
          89,
          46,
          123,
          338,
          307,
          54,
          126,
          173,
          53,
          173,
          200,
          108,
          6,
          251,
          0,
          5,
          0,
          8,
          0,
          2,
          0
         ],
         "yaxis": "y7"
        },
        {
         "name": "Aug",
         "type": "bar",
         "x": [
          "Action",
          "Adventure",
          "Fantasy",
          "Sci-Fi",
          "Comedy",
          "Drama",
          "Music",
          "History",
          "War",
          "Mystery",
          "Thriller",
          "Romance",
          "Sport",
          "Animation",
          "Family",
          "Musical",
          "Horror",
          "Crime",
          "Biography",
          "Western",
          "Documentary",
          "Film-Noir",
          "Short",
          "Adult",
          "News",
          "Reality-TV",
          "Talk-Show",
          "Game-Show"
         ],
         "xaxis": "x8",
         "y": [
          335,
          229,
          177,
          122,
          749,
          1104,
          103,
          105,
          70,
          158,
          377,
          370,
          57,
          152,
          184,
          48,
          186,
          219,
          123,
          12,
          234,
          3,
          6,
          0,
          4,
          0,
          1,
          0
         ],
         "yaxis": "y8"
        },
        {
         "name": "Sep",
         "type": "bar",
         "x": [
          "Action",
          "Adventure",
          "Fantasy",
          "Sci-Fi",
          "Comedy",
          "Drama",
          "Music",
          "History",
          "War",
          "Mystery",
          "Thriller",
          "Romance",
          "Sport",
          "Animation",
          "Family",
          "Musical",
          "Horror",
          "Crime",
          "Biography",
          "Western",
          "Documentary",
          "Film-Noir",
          "Short",
          "Adult",
          "News",
          "Reality-TV",
          "Talk-Show",
          "Game-Show"
         ],
         "xaxis": "x9",
         "y": [
          319,
          241,
          153,
          104,
          780,
          1412,
          105,
          142,
          71,
          161,
          441,
          417,
          76,
          155,
          201,
          45,
          202,
          261,
          182,
          16,
          398,
          1,
          13,
          2,
          12,
          0,
          0,
          0
         ],
         "yaxis": "y9"
        },
        {
         "name": "Oct",
         "type": "bar",
         "x": [
          "Action",
          "Adventure",
          "Fantasy",
          "Sci-Fi",
          "Comedy",
          "Drama",
          "Music",
          "History",
          "War",
          "Mystery",
          "Thriller",
          "Romance",
          "Sport",
          "Animation",
          "Family",
          "Musical",
          "Horror",
          "Crime",
          "Biography",
          "Western",
          "Documentary",
          "Film-Noir",
          "Short",
          "Adult",
          "News",
          "Reality-TV",
          "Talk-Show",
          "Game-Show"
         ],
         "xaxis": "x10",
         "y": [
          346,
          249,
          214,
          110,
          864,
          1399,
          118,
          146,
          76,
          195,
          497,
          383,
          55,
          188,
          276,
          48,
          266,
          295,
          187,
          18,
          378,
          1,
          16,
          0,
          13,
          0,
          0,
          0
         ],
         "yaxis": "y10"
        },
        {
         "name": "Nov",
         "type": "bar",
         "x": [
          "Action",
          "Adventure",
          "Fantasy",
          "Sci-Fi",
          "Comedy",
          "Drama",
          "Music",
          "History",
          "War",
          "Mystery",
          "Thriller",
          "Romance",
          "Sport",
          "Animation",
          "Family",
          "Musical",
          "Horror",
          "Crime",
          "Biography",
          "Western",
          "Documentary",
          "Film-Noir",
          "Short",
          "Adult",
          "News",
          "Reality-TV",
          "Talk-Show",
          "Game-Show"
         ],
         "xaxis": "x11",
         "y": [
          328,
          239,
          206,
          103,
          773,
          1363,
          87,
          132,
          66,
          149,
          395,
          377,
          66,
          174,
          233,
          72,
          189,
          240,
          177,
          13,
          356,
          3,
          21,
          1,
          8,
          0,
          0,
          0
         ],
         "yaxis": "y11"
        },
        {
         "name": "Dec",
         "type": "bar",
         "x": [
          "Action",
          "Adventure",
          "Fantasy",
          "Sci-Fi",
          "Comedy",
          "Drama",
          "Music",
          "History",
          "War",
          "Mystery",
          "Thriller",
          "Romance",
          "Sport",
          "Animation",
          "Family",
          "Musical",
          "Horror",
          "Crime",
          "Biography",
          "Western",
          "Documentary",
          "Film-Noir",
          "Short",
          "Adult",
          "News",
          "Reality-TV",
          "Talk-Show",
          "Game-Show"
         ],
         "xaxis": "x12",
         "y": [
          257,
          215,
          187,
          88,
          768,
          988,
          68,
          109,
          61,
          118,
          275,
          332,
          46,
          152,
          237,
          55,
          104,
          147,
          126,
          16,
          178,
          1,
          13,
          0,
          3,
          2,
          0,
          0
         ],
         "yaxis": "y12"
        }
       ],
       "layout": {
        "height": 1800,
        "template": {
         "data": {
          "bar": [
           {
            "error_x": {
             "color": "#2a3f5f"
            },
            "error_y": {
             "color": "#2a3f5f"
            },
            "marker": {
             "line": {
              "color": "#E5ECF6",
              "width": 0.5
             }
            },
            "type": "bar"
           }
          ],
          "barpolar": [
           {
            "marker": {
             "line": {
              "color": "#E5ECF6",
              "width": 0.5
             }
            },
            "type": "barpolar"
           }
          ],
          "carpet": [
           {
            "aaxis": {
             "endlinecolor": "#2a3f5f",
             "gridcolor": "white",
             "linecolor": "white",
             "minorgridcolor": "white",
             "startlinecolor": "#2a3f5f"
            },
            "baxis": {
             "endlinecolor": "#2a3f5f",
             "gridcolor": "white",
             "linecolor": "white",
             "minorgridcolor": "white",
             "startlinecolor": "#2a3f5f"
            },
            "type": "carpet"
           }
          ],
          "choropleth": [
           {
            "colorbar": {
             "outlinewidth": 0,
             "ticks": ""
            },
            "type": "choropleth"
           }
          ],
          "contour": [
           {
            "colorbar": {
             "outlinewidth": 0,
             "ticks": ""
            },
            "colorscale": [
             [
              0,
              "#0d0887"
             ],
             [
              0.1111111111111111,
              "#46039f"
             ],
             [
              0.2222222222222222,
              "#7201a8"
             ],
             [
              0.3333333333333333,
              "#9c179e"
             ],
             [
              0.4444444444444444,
              "#bd3786"
             ],
             [
              0.5555555555555556,
              "#d8576b"
             ],
             [
              0.6666666666666666,
              "#ed7953"
             ],
             [
              0.7777777777777778,
              "#fb9f3a"
             ],
             [
              0.8888888888888888,
              "#fdca26"
             ],
             [
              1,
              "#f0f921"
             ]
            ],
            "type": "contour"
           }
          ],
          "contourcarpet": [
           {
            "colorbar": {
             "outlinewidth": 0,
             "ticks": ""
            },
            "type": "contourcarpet"
           }
          ],
          "heatmap": [
           {
            "colorbar": {
             "outlinewidth": 0,
             "ticks": ""
            },
            "colorscale": [
             [
              0,
              "#0d0887"
             ],
             [
              0.1111111111111111,
              "#46039f"
             ],
             [
              0.2222222222222222,
              "#7201a8"
             ],
             [
              0.3333333333333333,
              "#9c179e"
             ],
             [
              0.4444444444444444,
              "#bd3786"
             ],
             [
              0.5555555555555556,
              "#d8576b"
             ],
             [
              0.6666666666666666,
              "#ed7953"
             ],
             [
              0.7777777777777778,
              "#fb9f3a"
             ],
             [
              0.8888888888888888,
              "#fdca26"
             ],
             [
              1,
              "#f0f921"
             ]
            ],
            "type": "heatmap"
           }
          ],
          "heatmapgl": [
           {
            "colorbar": {
             "outlinewidth": 0,
             "ticks": ""
            },
            "colorscale": [
             [
              0,
              "#0d0887"
             ],
             [
              0.1111111111111111,
              "#46039f"
             ],
             [
              0.2222222222222222,
              "#7201a8"
             ],
             [
              0.3333333333333333,
              "#9c179e"
             ],
             [
              0.4444444444444444,
              "#bd3786"
             ],
             [
              0.5555555555555556,
              "#d8576b"
             ],
             [
              0.6666666666666666,
              "#ed7953"
             ],
             [
              0.7777777777777778,
              "#fb9f3a"
             ],
             [
              0.8888888888888888,
              "#fdca26"
             ],
             [
              1,
              "#f0f921"
             ]
            ],
            "type": "heatmapgl"
           }
          ],
          "histogram": [
           {
            "marker": {
             "colorbar": {
              "outlinewidth": 0,
              "ticks": ""
             }
            },
            "type": "histogram"
           }
          ],
          "histogram2d": [
           {
            "colorbar": {
             "outlinewidth": 0,
             "ticks": ""
            },
            "colorscale": [
             [
              0,
              "#0d0887"
             ],
             [
              0.1111111111111111,
              "#46039f"
             ],
             [
              0.2222222222222222,
              "#7201a8"
             ],
             [
              0.3333333333333333,
              "#9c179e"
             ],
             [
              0.4444444444444444,
              "#bd3786"
             ],
             [
              0.5555555555555556,
              "#d8576b"
             ],
             [
              0.6666666666666666,
              "#ed7953"
             ],
             [
              0.7777777777777778,
              "#fb9f3a"
             ],
             [
              0.8888888888888888,
              "#fdca26"
             ],
             [
              1,
              "#f0f921"
             ]
            ],
            "type": "histogram2d"
           }
          ],
          "histogram2dcontour": [
           {
            "colorbar": {
             "outlinewidth": 0,
             "ticks": ""
            },
            "colorscale": [
             [
              0,
              "#0d0887"
             ],
             [
              0.1111111111111111,
              "#46039f"
             ],
             [
              0.2222222222222222,
              "#7201a8"
             ],
             [
              0.3333333333333333,
              "#9c179e"
             ],
             [
              0.4444444444444444,
              "#bd3786"
             ],
             [
              0.5555555555555556,
              "#d8576b"
             ],
             [
              0.6666666666666666,
              "#ed7953"
             ],
             [
              0.7777777777777778,
              "#fb9f3a"
             ],
             [
              0.8888888888888888,
              "#fdca26"
             ],
             [
              1,
              "#f0f921"
             ]
            ],
            "type": "histogram2dcontour"
           }
          ],
          "mesh3d": [
           {
            "colorbar": {
             "outlinewidth": 0,
             "ticks": ""
            },
            "type": "mesh3d"
           }
          ],
          "parcoords": [
           {
            "line": {
             "colorbar": {
              "outlinewidth": 0,
              "ticks": ""
             }
            },
            "type": "parcoords"
           }
          ],
          "pie": [
           {
            "automargin": true,
            "type": "pie"
           }
          ],
          "scatter": [
           {
            "marker": {
             "colorbar": {
              "outlinewidth": 0,
              "ticks": ""
             }
            },
            "type": "scatter"
           }
          ],
          "scatter3d": [
           {
            "line": {
             "colorbar": {
              "outlinewidth": 0,
              "ticks": ""
             }
            },
            "marker": {
             "colorbar": {
              "outlinewidth": 0,
              "ticks": ""
             }
            },
            "type": "scatter3d"
           }
          ],
          "scattercarpet": [
           {
            "marker": {
             "colorbar": {
              "outlinewidth": 0,
              "ticks": ""
             }
            },
            "type": "scattercarpet"
           }
          ],
          "scattergeo": [
           {
            "marker": {
             "colorbar": {
              "outlinewidth": 0,
              "ticks": ""
             }
            },
            "type": "scattergeo"
           }
          ],
          "scattergl": [
           {
            "marker": {
             "colorbar": {
              "outlinewidth": 0,
              "ticks": ""
             }
            },
            "type": "scattergl"
           }
          ],
          "scattermapbox": [
           {
            "marker": {
             "colorbar": {
              "outlinewidth": 0,
              "ticks": ""
             }
            },
            "type": "scattermapbox"
           }
          ],
          "scatterpolar": [
           {
            "marker": {
             "colorbar": {
              "outlinewidth": 0,
              "ticks": ""
             }
            },
            "type": "scatterpolar"
           }
          ],
          "scatterpolargl": [
           {
            "marker": {
             "colorbar": {
              "outlinewidth": 0,
              "ticks": ""
             }
            },
            "type": "scatterpolargl"
           }
          ],
          "scatterternary": [
           {
            "marker": {
             "colorbar": {
              "outlinewidth": 0,
              "ticks": ""
             }
            },
            "type": "scatterternary"
           }
          ],
          "surface": [
           {
            "colorbar": {
             "outlinewidth": 0,
             "ticks": ""
            },
            "colorscale": [
             [
              0,
              "#0d0887"
             ],
             [
              0.1111111111111111,
              "#46039f"
             ],
             [
              0.2222222222222222,
              "#7201a8"
             ],
             [
              0.3333333333333333,
              "#9c179e"
             ],
             [
              0.4444444444444444,
              "#bd3786"
             ],
             [
              0.5555555555555556,
              "#d8576b"
             ],
             [
              0.6666666666666666,
              "#ed7953"
             ],
             [
              0.7777777777777778,
              "#fb9f3a"
             ],
             [
              0.8888888888888888,
              "#fdca26"
             ],
             [
              1,
              "#f0f921"
             ]
            ],
            "type": "surface"
           }
          ],
          "table": [
           {
            "cells": {
             "fill": {
              "color": "#EBF0F8"
             },
             "line": {
              "color": "white"
             }
            },
            "header": {
             "fill": {
              "color": "#C8D4E3"
             },
             "line": {
              "color": "white"
             }
            },
            "type": "table"
           }
          ]
         },
         "layout": {
          "annotationdefaults": {
           "arrowcolor": "#2a3f5f",
           "arrowhead": 0,
           "arrowwidth": 1
          },
          "autotypenumbers": "strict",
          "coloraxis": {
           "colorbar": {
            "outlinewidth": 0,
            "ticks": ""
           }
          },
          "colorscale": {
           "diverging": [
            [
             0,
             "#8e0152"
            ],
            [
             0.1,
             "#c51b7d"
            ],
            [
             0.2,
             "#de77ae"
            ],
            [
             0.3,
             "#f1b6da"
            ],
            [
             0.4,
             "#fde0ef"
            ],
            [
             0.5,
             "#f7f7f7"
            ],
            [
             0.6,
             "#e6f5d0"
            ],
            [
             0.7,
             "#b8e186"
            ],
            [
             0.8,
             "#7fbc41"
            ],
            [
             0.9,
             "#4d9221"
            ],
            [
             1,
             "#276419"
            ]
           ],
           "sequential": [
            [
             0,
             "#0d0887"
            ],
            [
             0.1111111111111111,
             "#46039f"
            ],
            [
             0.2222222222222222,
             "#7201a8"
            ],
            [
             0.3333333333333333,
             "#9c179e"
            ],
            [
             0.4444444444444444,
             "#bd3786"
            ],
            [
             0.5555555555555556,
             "#d8576b"
            ],
            [
             0.6666666666666666,
             "#ed7953"
            ],
            [
             0.7777777777777778,
             "#fb9f3a"
            ],
            [
             0.8888888888888888,
             "#fdca26"
            ],
            [
             1,
             "#f0f921"
            ]
           ],
           "sequentialminus": [
            [
             0,
             "#0d0887"
            ],
            [
             0.1111111111111111,
             "#46039f"
            ],
            [
             0.2222222222222222,
             "#7201a8"
            ],
            [
             0.3333333333333333,
             "#9c179e"
            ],
            [
             0.4444444444444444,
             "#bd3786"
            ],
            [
             0.5555555555555556,
             "#d8576b"
            ],
            [
             0.6666666666666666,
             "#ed7953"
            ],
            [
             0.7777777777777778,
             "#fb9f3a"
            ],
            [
             0.8888888888888888,
             "#fdca26"
            ],
            [
             1,
             "#f0f921"
            ]
           ]
          },
          "colorway": [
           "#636efa",
           "#EF553B",
           "#00cc96",
           "#ab63fa",
           "#FFA15A",
           "#19d3f3",
           "#FF6692",
           "#B6E880",
           "#FF97FF",
           "#FECB52"
          ],
          "font": {
           "color": "#2a3f5f"
          },
          "geo": {
           "bgcolor": "white",
           "lakecolor": "white",
           "landcolor": "#E5ECF6",
           "showlakes": true,
           "showland": true,
           "subunitcolor": "white"
          },
          "hoverlabel": {
           "align": "left"
          },
          "hovermode": "closest",
          "mapbox": {
           "style": "light"
          },
          "paper_bgcolor": "white",
          "plot_bgcolor": "#E5ECF6",
          "polar": {
           "angularaxis": {
            "gridcolor": "white",
            "linecolor": "white",
            "ticks": ""
           },
           "bgcolor": "#E5ECF6",
           "radialaxis": {
            "gridcolor": "white",
            "linecolor": "white",
            "ticks": ""
           }
          },
          "scene": {
           "xaxis": {
            "backgroundcolor": "#E5ECF6",
            "gridcolor": "white",
            "gridwidth": 2,
            "linecolor": "white",
            "showbackground": true,
            "ticks": "",
            "zerolinecolor": "white"
           },
           "yaxis": {
            "backgroundcolor": "#E5ECF6",
            "gridcolor": "white",
            "gridwidth": 2,
            "linecolor": "white",
            "showbackground": true,
            "ticks": "",
            "zerolinecolor": "white"
           },
           "zaxis": {
            "backgroundcolor": "#E5ECF6",
            "gridcolor": "white",
            "gridwidth": 2,
            "linecolor": "white",
            "showbackground": true,
            "ticks": "",
            "zerolinecolor": "white"
           }
          },
          "shapedefaults": {
           "line": {
            "color": "#2a3f5f"
           }
          },
          "ternary": {
           "aaxis": {
            "gridcolor": "white",
            "linecolor": "white",
            "ticks": ""
           },
           "baxis": {
            "gridcolor": "white",
            "linecolor": "white",
            "ticks": ""
           },
           "bgcolor": "#E5ECF6",
           "caxis": {
            "gridcolor": "white",
            "linecolor": "white",
            "ticks": ""
           }
          },
          "title": {
           "x": 0.05
          },
          "xaxis": {
           "automargin": true,
           "gridcolor": "white",
           "linecolor": "white",
           "ticks": "",
           "title": {
            "standoff": 15
           },
           "zerolinecolor": "white",
           "zerolinewidth": 2
          },
          "yaxis": {
           "automargin": true,
           "gridcolor": "white",
           "linecolor": "white",
           "ticks": "",
           "title": {
            "standoff": 15
           },
           "zerolinecolor": "white",
           "zerolinewidth": 2
          }
         }
        },
        "title": {
         "text": "Month-Genre"
        },
        "width": 1000,
        "xaxis": {
         "anchor": "y",
         "domain": [
          0,
          0.45
         ]
        },
        "xaxis10": {
         "anchor": "y10",
         "domain": [
          0.55,
          1
         ]
        },
        "xaxis11": {
         "anchor": "y11",
         "domain": [
          0,
          0.45
         ]
        },
        "xaxis12": {
         "anchor": "y12",
         "domain": [
          0.55,
          1
         ]
        },
        "xaxis2": {
         "anchor": "y2",
         "domain": [
          0.55,
          1
         ]
        },
        "xaxis3": {
         "anchor": "y3",
         "domain": [
          0,
          0.45
         ]
        },
        "xaxis4": {
         "anchor": "y4",
         "domain": [
          0.55,
          1
         ]
        },
        "xaxis5": {
         "anchor": "y5",
         "domain": [
          0,
          0.45
         ]
        },
        "xaxis6": {
         "anchor": "y6",
         "domain": [
          0.55,
          1
         ]
        },
        "xaxis7": {
         "anchor": "y7",
         "domain": [
          0,
          0.45
         ]
        },
        "xaxis8": {
         "anchor": "y8",
         "domain": [
          0.55,
          1
         ]
        },
        "xaxis9": {
         "anchor": "y9",
         "domain": [
          0,
          0.45
         ]
        },
        "yaxis": {
         "anchor": "x",
         "domain": [
          0.875,
          1
         ]
        },
        "yaxis10": {
         "anchor": "x10",
         "domain": [
          0.175,
          0.3
         ]
        },
        "yaxis11": {
         "anchor": "x11",
         "domain": [
          0,
          0.125
         ]
        },
        "yaxis12": {
         "anchor": "x12",
         "domain": [
          0,
          0.125
         ]
        },
        "yaxis2": {
         "anchor": "x2",
         "domain": [
          0.875,
          1
         ]
        },
        "yaxis3": {
         "anchor": "x3",
         "domain": [
          0.7,
          0.825
         ]
        },
        "yaxis4": {
         "anchor": "x4",
         "domain": [
          0.7,
          0.825
         ]
        },
        "yaxis5": {
         "anchor": "x5",
         "domain": [
          0.525,
          0.65
         ]
        },
        "yaxis6": {
         "anchor": "x6",
         "domain": [
          0.525,
          0.65
         ]
        },
        "yaxis7": {
         "anchor": "x7",
         "domain": [
          0.35,
          0.475
         ]
        },
        "yaxis8": {
         "anchor": "x8",
         "domain": [
          0.35,
          0.475
         ]
        },
        "yaxis9": {
         "anchor": "x9",
         "domain": [
          0.175,
          0.3
         ]
        }
       }
      }
     },
     "metadata": {}
    }
   ],
   "source": [
    "num_row, num_col = 6, 2\n",
    "fig = make_subplots(rows=num_row, cols=num_col)\n",
    "\n",
    "\n",
    "cur_row = 0\n",
    "cur_col = 0\n",
    "for month in months:\n",
    "    if(cur_col == num_col):\n",
    "        cur_col = 0\n",
    "        cur_row += 1\n",
    "#     print(cur_row, cur_col)\n",
    "    genres = all_genres\n",
    "    movie_num = getFigure(month, month_dict)\n",
    "#     print(month, movie_num)\n",
    "    fig.add_trace(\n",
    "        go.Bar(x=genres, y=movie_num, name=month),\n",
    "        cur_row+1, cur_col+1\n",
    "    )\n",
    "    cur_col += 1\n",
    "fig.update_layout(\n",
    "    height=1800, \n",
    "    width=1000,\n",
    "    title_text=\"Month-Genre\"\n",
    ")\n",
    "fig.show()"
   ]
  },
  {
   "cell_type": "markdown",
   "id": "3017944c",
   "metadata": {},
   "source": [
    "# Genre-Month"
   ]
  },
  {
   "cell_type": "code",
   "execution_count": 25,
   "id": "a7d82d8a",
   "metadata": {},
   "outputs": [],
   "source": [
    "months = ['Jan', 'Feb', 'Mar', 'Apr', 'May', 'Jun', 'Jul', 'Aug', 'Sep', 'Oct', 'Nov', 'Dec']\n",
    "genre_dict = {}\n",
    "for genre in all_genres:\n",
    "    genre_dict[genre] = []\n",
    "for month in months:\n",
    "    for genre in month_dict[month]:\n",
    "        genre_dict[genre].append(month_dict[month][genre])"
   ]
  },
  {
   "cell_type": "code",
   "execution_count": 26,
   "id": "a824fad5",
   "metadata": {},
   "outputs": [
    {
     "output_type": "execute_result",
     "data": {
      "text/plain": [
       "28"
      ]
     },
     "metadata": {},
     "execution_count": 26
    }
   ],
   "source": [
    "len(genre_dict)"
   ]
  },
  {
   "cell_type": "code",
   "execution_count": 27,
   "id": "b9f0dcff",
   "metadata": {},
   "outputs": [
    {
     "output_type": "display_data",
     "data": {
      "application/vnd.plotly.v1+json": {
       "config": {
        "plotlyServerURL": "https://plot.ly"
       },
       "data": [
        {
         "name": "Action",
         "type": "bar",
         "x": [
          "Jan",
          "Feb",
          "Mar",
          "Apr",
          "May",
          "Jun",
          "Jul",
          "Aug",
          "Sep",
          "Oct",
          "Nov",
          "Dec"
         ],
         "xaxis": "x",
         "y": [
          363,
          300,
          285,
          307,
          246,
          263,
          310,
          335,
          319,
          346,
          328,
          257
         ],
         "yaxis": "y"
        },
        {
         "name": "Adventure",
         "type": "bar",
         "x": [
          "Jan",
          "Feb",
          "Mar",
          "Apr",
          "May",
          "Jun",
          "Jul",
          "Aug",
          "Sep",
          "Oct",
          "Nov",
          "Dec"
         ],
         "xaxis": "x2",
         "y": [
          202,
          209,
          192,
          211,
          173,
          195,
          223,
          229,
          241,
          249,
          239,
          215
         ],
         "yaxis": "y2"
        },
        {
         "name": "Fantasy",
         "type": "bar",
         "x": [
          "Jan",
          "Feb",
          "Mar",
          "Apr",
          "May",
          "Jun",
          "Jul",
          "Aug",
          "Sep",
          "Oct",
          "Nov",
          "Dec"
         ],
         "xaxis": "x3",
         "y": [
          167,
          156,
          147,
          129,
          121,
          117,
          161,
          177,
          153,
          214,
          206,
          187
         ],
         "yaxis": "y3"
        },
        {
         "name": "Sci-Fi",
         "type": "bar",
         "x": [
          "Jan",
          "Feb",
          "Mar",
          "Apr",
          "May",
          "Jun",
          "Jul",
          "Aug",
          "Sep",
          "Oct",
          "Nov",
          "Dec"
         ],
         "xaxis": "x4",
         "y": [
          100,
          88,
          121,
          107,
          103,
          107,
          131,
          122,
          104,
          110,
          103,
          88
         ],
         "yaxis": "y4"
        },
        {
         "name": "Comedy",
         "type": "bar",
         "x": [
          "Jan",
          "Feb",
          "Mar",
          "Apr",
          "May",
          "Jun",
          "Jul",
          "Aug",
          "Sep",
          "Oct",
          "Nov",
          "Dec"
         ],
         "xaxis": "x5",
         "y": [
          764,
          752,
          807,
          701,
          662,
          673,
          668,
          749,
          780,
          864,
          773,
          768
         ],
         "yaxis": "y5"
        },
        {
         "name": "Drama",
         "type": "bar",
         "x": [
          "Jan",
          "Feb",
          "Mar",
          "Apr",
          "May",
          "Jun",
          "Jul",
          "Aug",
          "Sep",
          "Oct",
          "Nov",
          "Dec"
         ],
         "xaxis": "x6",
         "y": [
          1004,
          978,
          1316,
          1228,
          1161,
          1052,
          936,
          1104,
          1412,
          1399,
          1363,
          988
         ],
         "yaxis": "y6"
        },
        {
         "name": "Music",
         "type": "bar",
         "x": [
          "Jan",
          "Feb",
          "Mar",
          "Apr",
          "May",
          "Jun",
          "Jul",
          "Aug",
          "Sep",
          "Oct",
          "Nov",
          "Dec"
         ],
         "xaxis": "x7",
         "y": [
          55,
          58,
          94,
          63,
          74,
          94,
          81,
          103,
          105,
          118,
          87,
          68
         ],
         "yaxis": "y7"
        },
        {
         "name": "History",
         "type": "bar",
         "x": [
          "Jan",
          "Feb",
          "Mar",
          "Apr",
          "May",
          "Jun",
          "Jul",
          "Aug",
          "Sep",
          "Oct",
          "Nov",
          "Dec"
         ],
         "xaxis": "x8",
         "y": [
          110,
          84,
          127,
          126,
          95,
          86,
          89,
          105,
          142,
          146,
          132,
          109
         ],
         "yaxis": "y8"
        },
        {
         "name": "War",
         "type": "bar",
         "x": [
          "Jan",
          "Feb",
          "Mar",
          "Apr",
          "May",
          "Jun",
          "Jul",
          "Aug",
          "Sep",
          "Oct",
          "Nov",
          "Dec"
         ],
         "xaxis": "x9",
         "y": [
          55,
          61,
          77,
          83,
          69,
          53,
          46,
          70,
          71,
          76,
          66,
          61
         ],
         "yaxis": "y9"
        },
        {
         "name": "Mystery",
         "type": "bar",
         "x": [
          "Jan",
          "Feb",
          "Mar",
          "Apr",
          "May",
          "Jun",
          "Jul",
          "Aug",
          "Sep",
          "Oct",
          "Nov",
          "Dec"
         ],
         "xaxis": "x10",
         "y": [
          127,
          128,
          168,
          160,
          125,
          145,
          123,
          158,
          161,
          195,
          149,
          118
         ],
         "yaxis": "y10"
        },
        {
         "name": "Thriller",
         "type": "bar",
         "x": [
          "Jan",
          "Feb",
          "Mar",
          "Apr",
          "May",
          "Jun",
          "Jul",
          "Aug",
          "Sep",
          "Oct",
          "Nov",
          "Dec"
         ],
         "xaxis": "x11",
         "y": [
          352,
          330,
          423,
          398,
          333,
          325,
          338,
          377,
          441,
          497,
          395,
          275
         ],
         "yaxis": "y11"
        },
        {
         "name": "Romance",
         "type": "bar",
         "x": [
          "Jan",
          "Feb",
          "Mar",
          "Apr",
          "May",
          "Jun",
          "Jul",
          "Aug",
          "Sep",
          "Oct",
          "Nov",
          "Dec"
         ],
         "xaxis": "x12",
         "y": [
          279,
          418,
          390,
          328,
          319,
          310,
          307,
          370,
          417,
          383,
          377,
          332
         ],
         "yaxis": "y12"
        },
        {
         "name": "Sport",
         "type": "bar",
         "x": [
          "Jan",
          "Feb",
          "Mar",
          "Apr",
          "May",
          "Jun",
          "Jul",
          "Aug",
          "Sep",
          "Oct",
          "Nov",
          "Dec"
         ],
         "xaxis": "x13",
         "y": [
          38,
          40,
          54,
          55,
          67,
          48,
          54,
          57,
          76,
          55,
          66,
          46
         ],
         "yaxis": "y13"
        },
        {
         "name": "Animation",
         "type": "bar",
         "x": [
          "Jan",
          "Feb",
          "Mar",
          "Apr",
          "May",
          "Jun",
          "Jul",
          "Aug",
          "Sep",
          "Oct",
          "Nov",
          "Dec"
         ],
         "xaxis": "x14",
         "y": [
          137,
          146,
          122,
          127,
          91,
          112,
          126,
          152,
          155,
          188,
          174,
          152
         ],
         "yaxis": "y14"
        },
        {
         "name": "Family",
         "type": "bar",
         "x": [
          "Jan",
          "Feb",
          "Mar",
          "Apr",
          "May",
          "Jun",
          "Jul",
          "Aug",
          "Sep",
          "Oct",
          "Nov",
          "Dec"
         ],
         "xaxis": "x15",
         "y": [
          183,
          176,
          172,
          180,
          142,
          143,
          173,
          184,
          201,
          276,
          233,
          237
         ],
         "yaxis": "y15"
        },
        {
         "name": "Musical",
         "type": "bar",
         "x": [
          "Jan",
          "Feb",
          "Mar",
          "Apr",
          "May",
          "Jun",
          "Jul",
          "Aug",
          "Sep",
          "Oct",
          "Nov",
          "Dec"
         ],
         "xaxis": "x16",
         "y": [
          36,
          57,
          41,
          35,
          39,
          44,
          53,
          48,
          45,
          48,
          72,
          55
         ],
         "yaxis": "y16"
        },
        {
         "name": "Horror",
         "type": "bar",
         "x": [
          "Jan",
          "Feb",
          "Mar",
          "Apr",
          "May",
          "Jun",
          "Jul",
          "Aug",
          "Sep",
          "Oct",
          "Nov",
          "Dec"
         ],
         "xaxis": "x17",
         "y": [
          154,
          166,
          196,
          163,
          159,
          157,
          173,
          186,
          202,
          266,
          189,
          104
         ],
         "yaxis": "y17"
        },
        {
         "name": "Crime",
         "type": "bar",
         "x": [
          "Jan",
          "Feb",
          "Mar",
          "Apr",
          "May",
          "Jun",
          "Jul",
          "Aug",
          "Sep",
          "Oct",
          "Nov",
          "Dec"
         ],
         "xaxis": "x18",
         "y": [
          207,
          205,
          216,
          244,
          195,
          208,
          200,
          219,
          261,
          295,
          240,
          147
         ],
         "yaxis": "y18"
        },
        {
         "name": "Biography",
         "type": "bar",
         "x": [
          "Jan",
          "Feb",
          "Mar",
          "Apr",
          "May",
          "Jun",
          "Jul",
          "Aug",
          "Sep",
          "Oct",
          "Nov",
          "Dec"
         ],
         "xaxis": "x19",
         "y": [
          105,
          97,
          152,
          136,
          142,
          122,
          108,
          123,
          182,
          187,
          177,
          126
         ],
         "yaxis": "y19"
        },
        {
         "name": "Western",
         "type": "bar",
         "x": [
          "Jan",
          "Feb",
          "Mar",
          "Apr",
          "May",
          "Jun",
          "Jul",
          "Aug",
          "Sep",
          "Oct",
          "Nov",
          "Dec"
         ],
         "xaxis": "x20",
         "y": [
          14,
          5,
          14,
          14,
          13,
          15,
          6,
          12,
          16,
          18,
          13,
          16
         ],
         "yaxis": "y20"
        },
        {
         "name": "Documentary",
         "type": "bar",
         "x": [
          "Jan",
          "Feb",
          "Mar",
          "Apr",
          "May",
          "Jun",
          "Jul",
          "Aug",
          "Sep",
          "Oct",
          "Nov",
          "Dec"
         ],
         "xaxis": "x21",
         "y": [
          197,
          197,
          291,
          297,
          309,
          279,
          251,
          234,
          398,
          378,
          356,
          178
         ],
         "yaxis": "y21"
        },
        {
         "name": "Film-Noir",
         "type": "bar",
         "x": [
          "Jan",
          "Feb",
          "Mar",
          "Apr",
          "May",
          "Jun",
          "Jul",
          "Aug",
          "Sep",
          "Oct",
          "Nov",
          "Dec"
         ],
         "xaxis": "x22",
         "y": [
          1,
          2,
          0,
          0,
          1,
          1,
          0,
          3,
          1,
          1,
          3,
          1
         ],
         "yaxis": "y22"
        },
        {
         "name": "Short",
         "type": "bar",
         "x": [
          "Jan",
          "Feb",
          "Mar",
          "Apr",
          "May",
          "Jun",
          "Jul",
          "Aug",
          "Sep",
          "Oct",
          "Nov",
          "Dec"
         ],
         "xaxis": "x23",
         "y": [
          7,
          5,
          18,
          16,
          5,
          14,
          5,
          6,
          13,
          16,
          21,
          13
         ],
         "yaxis": "y23"
        },
        {
         "name": "Adult",
         "type": "bar",
         "x": [
          "Jan",
          "Feb",
          "Mar",
          "Apr",
          "May",
          "Jun",
          "Jul",
          "Aug",
          "Sep",
          "Oct",
          "Nov",
          "Dec"
         ],
         "xaxis": "x24",
         "y": [
          0,
          0,
          0,
          0,
          0,
          0,
          0,
          0,
          2,
          0,
          1,
          0
         ],
         "yaxis": "y24"
        },
        {
         "name": "News",
         "type": "bar",
         "x": [
          "Jan",
          "Feb",
          "Mar",
          "Apr",
          "May",
          "Jun",
          "Jul",
          "Aug",
          "Sep",
          "Oct",
          "Nov",
          "Dec"
         ],
         "xaxis": "x25",
         "y": [
          7,
          2,
          5,
          7,
          11,
          8,
          8,
          4,
          12,
          13,
          8,
          3
         ],
         "yaxis": "y25"
        },
        {
         "name": "Reality-TV",
         "type": "bar",
         "x": [
          "Jan",
          "Feb",
          "Mar",
          "Apr",
          "May",
          "Jun",
          "Jul",
          "Aug",
          "Sep",
          "Oct",
          "Nov",
          "Dec"
         ],
         "xaxis": "x26",
         "y": [
          1,
          1,
          2,
          2,
          1,
          0,
          0,
          0,
          0,
          0,
          0,
          2
         ],
         "yaxis": "y26"
        },
        {
         "name": "Talk-Show",
         "type": "bar",
         "x": [
          "Jan",
          "Feb",
          "Mar",
          "Apr",
          "May",
          "Jun",
          "Jul",
          "Aug",
          "Sep",
          "Oct",
          "Nov",
          "Dec"
         ],
         "xaxis": "x27",
         "y": [
          0,
          0,
          0,
          2,
          1,
          0,
          2,
          1,
          0,
          0,
          0,
          0
         ],
         "yaxis": "y27"
        },
        {
         "name": "Game-Show",
         "type": "bar",
         "x": [
          "Jan",
          "Feb",
          "Mar",
          "Apr",
          "May",
          "Jun",
          "Jul",
          "Aug",
          "Sep",
          "Oct",
          "Nov",
          "Dec"
         ],
         "xaxis": "x28",
         "y": [
          0,
          0,
          0,
          0,
          0,
          0,
          0,
          0,
          0,
          0,
          0,
          0
         ],
         "yaxis": "y28"
        }
       ],
       "layout": {
        "height": 2800,
        "template": {
         "data": {
          "bar": [
           {
            "error_x": {
             "color": "#2a3f5f"
            },
            "error_y": {
             "color": "#2a3f5f"
            },
            "marker": {
             "line": {
              "color": "#E5ECF6",
              "width": 0.5
             }
            },
            "type": "bar"
           }
          ],
          "barpolar": [
           {
            "marker": {
             "line": {
              "color": "#E5ECF6",
              "width": 0.5
             }
            },
            "type": "barpolar"
           }
          ],
          "carpet": [
           {
            "aaxis": {
             "endlinecolor": "#2a3f5f",
             "gridcolor": "white",
             "linecolor": "white",
             "minorgridcolor": "white",
             "startlinecolor": "#2a3f5f"
            },
            "baxis": {
             "endlinecolor": "#2a3f5f",
             "gridcolor": "white",
             "linecolor": "white",
             "minorgridcolor": "white",
             "startlinecolor": "#2a3f5f"
            },
            "type": "carpet"
           }
          ],
          "choropleth": [
           {
            "colorbar": {
             "outlinewidth": 0,
             "ticks": ""
            },
            "type": "choropleth"
           }
          ],
          "contour": [
           {
            "colorbar": {
             "outlinewidth": 0,
             "ticks": ""
            },
            "colorscale": [
             [
              0,
              "#0d0887"
             ],
             [
              0.1111111111111111,
              "#46039f"
             ],
             [
              0.2222222222222222,
              "#7201a8"
             ],
             [
              0.3333333333333333,
              "#9c179e"
             ],
             [
              0.4444444444444444,
              "#bd3786"
             ],
             [
              0.5555555555555556,
              "#d8576b"
             ],
             [
              0.6666666666666666,
              "#ed7953"
             ],
             [
              0.7777777777777778,
              "#fb9f3a"
             ],
             [
              0.8888888888888888,
              "#fdca26"
             ],
             [
              1,
              "#f0f921"
             ]
            ],
            "type": "contour"
           }
          ],
          "contourcarpet": [
           {
            "colorbar": {
             "outlinewidth": 0,
             "ticks": ""
            },
            "type": "contourcarpet"
           }
          ],
          "heatmap": [
           {
            "colorbar": {
             "outlinewidth": 0,
             "ticks": ""
            },
            "colorscale": [
             [
              0,
              "#0d0887"
             ],
             [
              0.1111111111111111,
              "#46039f"
             ],
             [
              0.2222222222222222,
              "#7201a8"
             ],
             [
              0.3333333333333333,
              "#9c179e"
             ],
             [
              0.4444444444444444,
              "#bd3786"
             ],
             [
              0.5555555555555556,
              "#d8576b"
             ],
             [
              0.6666666666666666,
              "#ed7953"
             ],
             [
              0.7777777777777778,
              "#fb9f3a"
             ],
             [
              0.8888888888888888,
              "#fdca26"
             ],
             [
              1,
              "#f0f921"
             ]
            ],
            "type": "heatmap"
           }
          ],
          "heatmapgl": [
           {
            "colorbar": {
             "outlinewidth": 0,
             "ticks": ""
            },
            "colorscale": [
             [
              0,
              "#0d0887"
             ],
             [
              0.1111111111111111,
              "#46039f"
             ],
             [
              0.2222222222222222,
              "#7201a8"
             ],
             [
              0.3333333333333333,
              "#9c179e"
             ],
             [
              0.4444444444444444,
              "#bd3786"
             ],
             [
              0.5555555555555556,
              "#d8576b"
             ],
             [
              0.6666666666666666,
              "#ed7953"
             ],
             [
              0.7777777777777778,
              "#fb9f3a"
             ],
             [
              0.8888888888888888,
              "#fdca26"
             ],
             [
              1,
              "#f0f921"
             ]
            ],
            "type": "heatmapgl"
           }
          ],
          "histogram": [
           {
            "marker": {
             "colorbar": {
              "outlinewidth": 0,
              "ticks": ""
             }
            },
            "type": "histogram"
           }
          ],
          "histogram2d": [
           {
            "colorbar": {
             "outlinewidth": 0,
             "ticks": ""
            },
            "colorscale": [
             [
              0,
              "#0d0887"
             ],
             [
              0.1111111111111111,
              "#46039f"
             ],
             [
              0.2222222222222222,
              "#7201a8"
             ],
             [
              0.3333333333333333,
              "#9c179e"
             ],
             [
              0.4444444444444444,
              "#bd3786"
             ],
             [
              0.5555555555555556,
              "#d8576b"
             ],
             [
              0.6666666666666666,
              "#ed7953"
             ],
             [
              0.7777777777777778,
              "#fb9f3a"
             ],
             [
              0.8888888888888888,
              "#fdca26"
             ],
             [
              1,
              "#f0f921"
             ]
            ],
            "type": "histogram2d"
           }
          ],
          "histogram2dcontour": [
           {
            "colorbar": {
             "outlinewidth": 0,
             "ticks": ""
            },
            "colorscale": [
             [
              0,
              "#0d0887"
             ],
             [
              0.1111111111111111,
              "#46039f"
             ],
             [
              0.2222222222222222,
              "#7201a8"
             ],
             [
              0.3333333333333333,
              "#9c179e"
             ],
             [
              0.4444444444444444,
              "#bd3786"
             ],
             [
              0.5555555555555556,
              "#d8576b"
             ],
             [
              0.6666666666666666,
              "#ed7953"
             ],
             [
              0.7777777777777778,
              "#fb9f3a"
             ],
             [
              0.8888888888888888,
              "#fdca26"
             ],
             [
              1,
              "#f0f921"
             ]
            ],
            "type": "histogram2dcontour"
           }
          ],
          "mesh3d": [
           {
            "colorbar": {
             "outlinewidth": 0,
             "ticks": ""
            },
            "type": "mesh3d"
           }
          ],
          "parcoords": [
           {
            "line": {
             "colorbar": {
              "outlinewidth": 0,
              "ticks": ""
             }
            },
            "type": "parcoords"
           }
          ],
          "pie": [
           {
            "automargin": true,
            "type": "pie"
           }
          ],
          "scatter": [
           {
            "marker": {
             "colorbar": {
              "outlinewidth": 0,
              "ticks": ""
             }
            },
            "type": "scatter"
           }
          ],
          "scatter3d": [
           {
            "line": {
             "colorbar": {
              "outlinewidth": 0,
              "ticks": ""
             }
            },
            "marker": {
             "colorbar": {
              "outlinewidth": 0,
              "ticks": ""
             }
            },
            "type": "scatter3d"
           }
          ],
          "scattercarpet": [
           {
            "marker": {
             "colorbar": {
              "outlinewidth": 0,
              "ticks": ""
             }
            },
            "type": "scattercarpet"
           }
          ],
          "scattergeo": [
           {
            "marker": {
             "colorbar": {
              "outlinewidth": 0,
              "ticks": ""
             }
            },
            "type": "scattergeo"
           }
          ],
          "scattergl": [
           {
            "marker": {
             "colorbar": {
              "outlinewidth": 0,
              "ticks": ""
             }
            },
            "type": "scattergl"
           }
          ],
          "scattermapbox": [
           {
            "marker": {
             "colorbar": {
              "outlinewidth": 0,
              "ticks": ""
             }
            },
            "type": "scattermapbox"
           }
          ],
          "scatterpolar": [
           {
            "marker": {
             "colorbar": {
              "outlinewidth": 0,
              "ticks": ""
             }
            },
            "type": "scatterpolar"
           }
          ],
          "scatterpolargl": [
           {
            "marker": {
             "colorbar": {
              "outlinewidth": 0,
              "ticks": ""
             }
            },
            "type": "scatterpolargl"
           }
          ],
          "scatterternary": [
           {
            "marker": {
             "colorbar": {
              "outlinewidth": 0,
              "ticks": ""
             }
            },
            "type": "scatterternary"
           }
          ],
          "surface": [
           {
            "colorbar": {
             "outlinewidth": 0,
             "ticks": ""
            },
            "colorscale": [
             [
              0,
              "#0d0887"
             ],
             [
              0.1111111111111111,
              "#46039f"
             ],
             [
              0.2222222222222222,
              "#7201a8"
             ],
             [
              0.3333333333333333,
              "#9c179e"
             ],
             [
              0.4444444444444444,
              "#bd3786"
             ],
             [
              0.5555555555555556,
              "#d8576b"
             ],
             [
              0.6666666666666666,
              "#ed7953"
             ],
             [
              0.7777777777777778,
              "#fb9f3a"
             ],
             [
              0.8888888888888888,
              "#fdca26"
             ],
             [
              1,
              "#f0f921"
             ]
            ],
            "type": "surface"
           }
          ],
          "table": [
           {
            "cells": {
             "fill": {
              "color": "#EBF0F8"
             },
             "line": {
              "color": "white"
             }
            },
            "header": {
             "fill": {
              "color": "#C8D4E3"
             },
             "line": {
              "color": "white"
             }
            },
            "type": "table"
           }
          ]
         },
         "layout": {
          "annotationdefaults": {
           "arrowcolor": "#2a3f5f",
           "arrowhead": 0,
           "arrowwidth": 1
          },
          "autotypenumbers": "strict",
          "coloraxis": {
           "colorbar": {
            "outlinewidth": 0,
            "ticks": ""
           }
          },
          "colorscale": {
           "diverging": [
            [
             0,
             "#8e0152"
            ],
            [
             0.1,
             "#c51b7d"
            ],
            [
             0.2,
             "#de77ae"
            ],
            [
             0.3,
             "#f1b6da"
            ],
            [
             0.4,
             "#fde0ef"
            ],
            [
             0.5,
             "#f7f7f7"
            ],
            [
             0.6,
             "#e6f5d0"
            ],
            [
             0.7,
             "#b8e186"
            ],
            [
             0.8,
             "#7fbc41"
            ],
            [
             0.9,
             "#4d9221"
            ],
            [
             1,
             "#276419"
            ]
           ],
           "sequential": [
            [
             0,
             "#0d0887"
            ],
            [
             0.1111111111111111,
             "#46039f"
            ],
            [
             0.2222222222222222,
             "#7201a8"
            ],
            [
             0.3333333333333333,
             "#9c179e"
            ],
            [
             0.4444444444444444,
             "#bd3786"
            ],
            [
             0.5555555555555556,
             "#d8576b"
            ],
            [
             0.6666666666666666,
             "#ed7953"
            ],
            [
             0.7777777777777778,
             "#fb9f3a"
            ],
            [
             0.8888888888888888,
             "#fdca26"
            ],
            [
             1,
             "#f0f921"
            ]
           ],
           "sequentialminus": [
            [
             0,
             "#0d0887"
            ],
            [
             0.1111111111111111,
             "#46039f"
            ],
            [
             0.2222222222222222,
             "#7201a8"
            ],
            [
             0.3333333333333333,
             "#9c179e"
            ],
            [
             0.4444444444444444,
             "#bd3786"
            ],
            [
             0.5555555555555556,
             "#d8576b"
            ],
            [
             0.6666666666666666,
             "#ed7953"
            ],
            [
             0.7777777777777778,
             "#fb9f3a"
            ],
            [
             0.8888888888888888,
             "#fdca26"
            ],
            [
             1,
             "#f0f921"
            ]
           ]
          },
          "colorway": [
           "#636efa",
           "#EF553B",
           "#00cc96",
           "#ab63fa",
           "#FFA15A",
           "#19d3f3",
           "#FF6692",
           "#B6E880",
           "#FF97FF",
           "#FECB52"
          ],
          "font": {
           "color": "#2a3f5f"
          },
          "geo": {
           "bgcolor": "white",
           "lakecolor": "white",
           "landcolor": "#E5ECF6",
           "showlakes": true,
           "showland": true,
           "subunitcolor": "white"
          },
          "hoverlabel": {
           "align": "left"
          },
          "hovermode": "closest",
          "mapbox": {
           "style": "light"
          },
          "paper_bgcolor": "white",
          "plot_bgcolor": "#E5ECF6",
          "polar": {
           "angularaxis": {
            "gridcolor": "white",
            "linecolor": "white",
            "ticks": ""
           },
           "bgcolor": "#E5ECF6",
           "radialaxis": {
            "gridcolor": "white",
            "linecolor": "white",
            "ticks": ""
           }
          },
          "scene": {
           "xaxis": {
            "backgroundcolor": "#E5ECF6",
            "gridcolor": "white",
            "gridwidth": 2,
            "linecolor": "white",
            "showbackground": true,
            "ticks": "",
            "zerolinecolor": "white"
           },
           "yaxis": {
            "backgroundcolor": "#E5ECF6",
            "gridcolor": "white",
            "gridwidth": 2,
            "linecolor": "white",
            "showbackground": true,
            "ticks": "",
            "zerolinecolor": "white"
           },
           "zaxis": {
            "backgroundcolor": "#E5ECF6",
            "gridcolor": "white",
            "gridwidth": 2,
            "linecolor": "white",
            "showbackground": true,
            "ticks": "",
            "zerolinecolor": "white"
           }
          },
          "shapedefaults": {
           "line": {
            "color": "#2a3f5f"
           }
          },
          "ternary": {
           "aaxis": {
            "gridcolor": "white",
            "linecolor": "white",
            "ticks": ""
           },
           "baxis": {
            "gridcolor": "white",
            "linecolor": "white",
            "ticks": ""
           },
           "bgcolor": "#E5ECF6",
           "caxis": {
            "gridcolor": "white",
            "linecolor": "white",
            "ticks": ""
           }
          },
          "title": {
           "x": 0.05
          },
          "xaxis": {
           "automargin": true,
           "gridcolor": "white",
           "linecolor": "white",
           "ticks": "",
           "title": {
            "standoff": 15
           },
           "zerolinecolor": "white",
           "zerolinewidth": 2
          },
          "yaxis": {
           "automargin": true,
           "gridcolor": "white",
           "linecolor": "white",
           "ticks": "",
           "title": {
            "standoff": 15
           },
           "zerolinecolor": "white",
           "zerolinewidth": 2
          }
         }
        },
        "title": {
         "text": "Genre-Month"
        },
        "width": 1000,
        "xaxis": {
         "anchor": "y",
         "domain": [
          0,
          0.45
         ]
        },
        "xaxis10": {
         "anchor": "y10",
         "domain": [
          0.55,
          1
         ]
        },
        "xaxis11": {
         "anchor": "y11",
         "domain": [
          0,
          0.45
         ]
        },
        "xaxis12": {
         "anchor": "y12",
         "domain": [
          0.55,
          1
         ]
        },
        "xaxis13": {
         "anchor": "y13",
         "domain": [
          0,
          0.45
         ]
        },
        "xaxis14": {
         "anchor": "y14",
         "domain": [
          0.55,
          1
         ]
        },
        "xaxis15": {
         "anchor": "y15",
         "domain": [
          0,
          0.45
         ]
        },
        "xaxis16": {
         "anchor": "y16",
         "domain": [
          0.55,
          1
         ]
        },
        "xaxis17": {
         "anchor": "y17",
         "domain": [
          0,
          0.45
         ]
        },
        "xaxis18": {
         "anchor": "y18",
         "domain": [
          0.55,
          1
         ]
        },
        "xaxis19": {
         "anchor": "y19",
         "domain": [
          0,
          0.45
         ]
        },
        "xaxis2": {
         "anchor": "y2",
         "domain": [
          0.55,
          1
         ]
        },
        "xaxis20": {
         "anchor": "y20",
         "domain": [
          0.55,
          1
         ]
        },
        "xaxis21": {
         "anchor": "y21",
         "domain": [
          0,
          0.45
         ]
        },
        "xaxis22": {
         "anchor": "y22",
         "domain": [
          0.55,
          1
         ]
        },
        "xaxis23": {
         "anchor": "y23",
         "domain": [
          0,
          0.45
         ]
        },
        "xaxis24": {
         "anchor": "y24",
         "domain": [
          0.55,
          1
         ]
        },
        "xaxis25": {
         "anchor": "y25",
         "domain": [
          0,
          0.45
         ]
        },
        "xaxis26": {
         "anchor": "y26",
         "domain": [
          0.55,
          1
         ]
        },
        "xaxis27": {
         "anchor": "y27",
         "domain": [
          0,
          0.45
         ]
        },
        "xaxis28": {
         "anchor": "y28",
         "domain": [
          0.55,
          1
         ]
        },
        "xaxis3": {
         "anchor": "y3",
         "domain": [
          0,
          0.45
         ]
        },
        "xaxis4": {
         "anchor": "y4",
         "domain": [
          0.55,
          1
         ]
        },
        "xaxis5": {
         "anchor": "y5",
         "domain": [
          0,
          0.45
         ]
        },
        "xaxis6": {
         "anchor": "y6",
         "domain": [
          0.55,
          1
         ]
        },
        "xaxis7": {
         "anchor": "y7",
         "domain": [
          0,
          0.45
         ]
        },
        "xaxis8": {
         "anchor": "y8",
         "domain": [
          0.55,
          1
         ]
        },
        "xaxis9": {
         "anchor": "y9",
         "domain": [
          0,
          0.45
         ]
        },
        "yaxis": {
         "anchor": "x",
         "domain": [
          0.948469387755102,
          1
         ]
        },
        "yaxis10": {
         "anchor": "x10",
         "domain": [
          0.6566326530612245,
          0.7081632653061225
         ]
        },
        "yaxis11": {
         "anchor": "x11",
         "domain": [
          0.5836734693877551,
          0.6352040816326531
         ]
        },
        "yaxis12": {
         "anchor": "x12",
         "domain": [
          0.5836734693877551,
          0.6352040816326531
         ]
        },
        "yaxis13": {
         "anchor": "x13",
         "domain": [
          0.5107142857142857,
          0.5622448979591836
         ]
        },
        "yaxis14": {
         "anchor": "x14",
         "domain": [
          0.5107142857142857,
          0.5622448979591836
         ]
        },
        "yaxis15": {
         "anchor": "x15",
         "domain": [
          0.4377551020408163,
          0.48928571428571427
         ]
        },
        "yaxis16": {
         "anchor": "x16",
         "domain": [
          0.4377551020408163,
          0.48928571428571427
         ]
        },
        "yaxis17": {
         "anchor": "x17",
         "domain": [
          0.3647959183673469,
          0.4163265306122449
         ]
        },
        "yaxis18": {
         "anchor": "x18",
         "domain": [
          0.3647959183673469,
          0.4163265306122449
         ]
        },
        "yaxis19": {
         "anchor": "x19",
         "domain": [
          0.29183673469387755,
          0.3433673469387755
         ]
        },
        "yaxis2": {
         "anchor": "x2",
         "domain": [
          0.948469387755102,
          1
         ]
        },
        "yaxis20": {
         "anchor": "x20",
         "domain": [
          0.29183673469387755,
          0.3433673469387755
         ]
        },
        "yaxis21": {
         "anchor": "x21",
         "domain": [
          0.21887755102040815,
          0.2704081632653061
         ]
        },
        "yaxis22": {
         "anchor": "x22",
         "domain": [
          0.21887755102040815,
          0.2704081632653061
         ]
        },
        "yaxis23": {
         "anchor": "x23",
         "domain": [
          0.14591836734693878,
          0.19744897959183674
         ]
        },
        "yaxis24": {
         "anchor": "x24",
         "domain": [
          0.14591836734693878,
          0.19744897959183674
         ]
        },
        "yaxis25": {
         "anchor": "x25",
         "domain": [
          0.07295918367346939,
          0.12448979591836734
         ]
        },
        "yaxis26": {
         "anchor": "x26",
         "domain": [
          0.07295918367346939,
          0.12448979591836734
         ]
        },
        "yaxis27": {
         "anchor": "x27",
         "domain": [
          0,
          0.05153061224489796
         ]
        },
        "yaxis28": {
         "anchor": "x28",
         "domain": [
          0,
          0.05153061224489796
         ]
        },
        "yaxis3": {
         "anchor": "x3",
         "domain": [
          0.8755102040816326,
          0.9270408163265306
         ]
        },
        "yaxis4": {
         "anchor": "x4",
         "domain": [
          0.8755102040816326,
          0.9270408163265306
         ]
        },
        "yaxis5": {
         "anchor": "x5",
         "domain": [
          0.8025510204081632,
          0.8540816326530611
         ]
        },
        "yaxis6": {
         "anchor": "x6",
         "domain": [
          0.8025510204081632,
          0.8540816326530611
         ]
        },
        "yaxis7": {
         "anchor": "x7",
         "domain": [
          0.7295918367346939,
          0.7811224489795918
         ]
        },
        "yaxis8": {
         "anchor": "x8",
         "domain": [
          0.7295918367346939,
          0.7811224489795918
         ]
        },
        "yaxis9": {
         "anchor": "x9",
         "domain": [
          0.6566326530612245,
          0.7081632653061225
         ]
        }
       }
      }
     },
     "metadata": {}
    }
   ],
   "source": [
    "num_row, num_col = 14, 2\n",
    "fig = make_subplots(rows=num_row, cols=num_col)\n",
    "\n",
    "\n",
    "cur_row = 0\n",
    "cur_col = 0\n",
    "for genre in all_genres:\n",
    "    if(cur_col == num_col):\n",
    "        cur_col = 0\n",
    "        cur_row += 1\n",
    "    fig.add_trace(\n",
    "        go.Bar(x=months, y=genre_dict[genre], name=genre),\n",
    "        cur_row+1, cur_col+1\n",
    "    )\n",
    "    cur_col += 1\n",
    "fig.update_layout(\n",
    "    height=2800, \n",
    "    width=1000,\n",
    "    title_text=\"Genre-Month\"\n",
    ")\n",
    "fig.show()"
   ]
  },
  {
   "cell_type": "markdown",
   "id": "f3fc1302",
   "metadata": {},
   "source": [
    "# Revenue-month"
   ]
  },
  {
   "cell_type": "code",
   "execution_count": 28,
   "id": "ffb882e0",
   "metadata": {},
   "outputs": [
    {
     "output_type": "execute_result",
     "data": {
      "text/plain": [
       "{'href': '/releasegroup/gr2703380997/?ref_=bo_ydw_table_419',\n",
       " 'name': 'Bangkok Traffic (Love) Story',\n",
       " 'file_name': 'bangkok_traffic__love__story',\n",
       " 'world_wide': '$4,427,719',\n",
       " 'domestic': '-',\n",
       " 'foreign': '$4,427,719',\n",
       " 'General Info': {'Opening': '$7,590',\n",
       "  'Release Date': ['Jan 20, 2011'],\n",
       "  'Running Time': '2 hr 6 min',\n",
       "  'Genres': ['Comedy', 'Romance'],\n",
       "  'In Release': '346 days/49 weeks',\n",
       "  'Widest Release': '10 theaters',\n",
       "  'IMDbPro': 'https://pro.imdb.com/title/tt1621642?ref_=mojo_rl_summary&rf=mojo_rl_summary'},\n",
       " 'Weekly Income': 'N/A -- checked on 2021-04-28 06:27:08.731366'}"
      ]
     },
     "metadata": {},
     "execution_count": 28
    }
   ],
   "source": [
    "month_2_movie['Jan'][10]"
   ]
  },
  {
   "cell_type": "code",
   "execution_count": 29,
   "id": "2d910c1c",
   "metadata": {},
   "outputs": [],
   "source": [
    "months = ['Jan', 'Feb', 'Mar', 'Apr', 'May', 'Jun', 'Jul', 'Aug', 'Sep', 'Oct', 'Nov', 'Dec']\n",
    "num_movie = [0]*len(months)\n",
    "revenue = [0]*len(months)\n",
    "for idx in range(len(months)):\n",
    "    month = months[idx]\n",
    "    movie_list = month_2_movie[month]\n",
    "    for movie in movie_list:\n",
    "        rev = movie['world_wide']\n",
    "        rev = rev.replace(',','').replace('$','')\n",
    "        rev = int(rev)\n",
    "        num_movie[idx] += 1\n",
    "        revenue[idx] += rev"
   ]
  },
  {
   "cell_type": "code",
   "execution_count": 30,
   "id": "6aad7ca2",
   "metadata": {},
   "outputs": [
    {
     "output_type": "stream",
     "name": "stdout",
     "text": [
      "Jan 2245 18283491521  >>  8144094.21870824\nFeb 2207 27711952328  >>  12556389.817852288\nMar 2698 28378973419  >>  10518522.393995551\nApr 2480 26437675776  >>  10660353.13548387\nMay 2368 33342211421  >>  14080325.769003378\nJun 2242 36048876781  >>  16078892.409009812\nJul 2122 39045839464  >>  18400489.851083882\nAug 2376 22616123895  >>  9518570.662878787\nSep 2903 20587090992  >>  7091660.693076128\nOct 3084 25670862755  >>  8323885.458819714\nNov 2887 40147537116  >>  13906316.97817804\nDec 2259 41043182407  >>  18168739.445329793\n"
     ]
    }
   ],
   "source": [
    "avg = [None]*len(months)\n",
    "for idx in range(len(months)):\n",
    "    avg[idx] = revenue[idx]/num_movie[idx]\n",
    "    print(months[idx], num_movie[idx], revenue[idx], \" >> \", avg[idx])"
   ]
  },
  {
   "cell_type": "code",
   "execution_count": 35,
   "id": "a7b17177",
   "metadata": {},
   "outputs": [
    {
     "output_type": "display_data",
     "data": {
      "application/vnd.plotly.v1+json": {
       "config": {
        "plotlyServerURL": "https://plot.ly"
       },
       "data": [
        {
         "name": "# of movies",
         "type": "bar",
         "x": [
          "Jan",
          "Feb",
          "Mar",
          "Apr",
          "May",
          "Jun",
          "Jul",
          "Aug",
          "Sep",
          "Oct",
          "Nov",
          "Dec"
         ],
         "xaxis": "x",
         "y": [
          2245,
          2207,
          2698,
          2480,
          2368,
          2242,
          2122,
          2376,
          2903,
          3084,
          2887,
          2259
         ],
         "yaxis": "y"
        },
        {
         "name": "Revenue from movies",
         "type": "bar",
         "x": [
          "Jan",
          "Feb",
          "Mar",
          "Apr",
          "May",
          "Jun",
          "Jul",
          "Aug",
          "Sep",
          "Oct",
          "Nov",
          "Dec"
         ],
         "xaxis": "x2",
         "y": [
          18283491521,
          27711952328,
          28378973419,
          26437675776,
          33342211421,
          36048876781,
          39045839464,
          22616123895,
          20587090992,
          25670862755,
          40147537116,
          41043182407
         ],
         "yaxis": "y2"
        },
        {
         "name": "Average Revenue",
         "type": "bar",
         "x": [
          "Jan",
          "Feb",
          "Mar",
          "Apr",
          "May",
          "Jun",
          "Jul",
          "Aug",
          "Sep",
          "Oct",
          "Nov",
          "Dec"
         ],
         "xaxis": "x3",
         "y": [
          8144094.21870824,
          12556389.817852288,
          10518522.393995551,
          10660353.13548387,
          14080325.769003378,
          16078892.409009812,
          18400489.851083882,
          9518570.662878787,
          7091660.693076128,
          8323885.458819714,
          13906316.97817804,
          18168739.445329793
         ],
         "yaxis": "y3"
        }
       ],
       "layout": {
        "height": 400,
        "template": {
         "data": {
          "bar": [
           {
            "error_x": {
             "color": "#2a3f5f"
            },
            "error_y": {
             "color": "#2a3f5f"
            },
            "marker": {
             "line": {
              "color": "#E5ECF6",
              "width": 0.5
             }
            },
            "type": "bar"
           }
          ],
          "barpolar": [
           {
            "marker": {
             "line": {
              "color": "#E5ECF6",
              "width": 0.5
             }
            },
            "type": "barpolar"
           }
          ],
          "carpet": [
           {
            "aaxis": {
             "endlinecolor": "#2a3f5f",
             "gridcolor": "white",
             "linecolor": "white",
             "minorgridcolor": "white",
             "startlinecolor": "#2a3f5f"
            },
            "baxis": {
             "endlinecolor": "#2a3f5f",
             "gridcolor": "white",
             "linecolor": "white",
             "minorgridcolor": "white",
             "startlinecolor": "#2a3f5f"
            },
            "type": "carpet"
           }
          ],
          "choropleth": [
           {
            "colorbar": {
             "outlinewidth": 0,
             "ticks": ""
            },
            "type": "choropleth"
           }
          ],
          "contour": [
           {
            "colorbar": {
             "outlinewidth": 0,
             "ticks": ""
            },
            "colorscale": [
             [
              0,
              "#0d0887"
             ],
             [
              0.1111111111111111,
              "#46039f"
             ],
             [
              0.2222222222222222,
              "#7201a8"
             ],
             [
              0.3333333333333333,
              "#9c179e"
             ],
             [
              0.4444444444444444,
              "#bd3786"
             ],
             [
              0.5555555555555556,
              "#d8576b"
             ],
             [
              0.6666666666666666,
              "#ed7953"
             ],
             [
              0.7777777777777778,
              "#fb9f3a"
             ],
             [
              0.8888888888888888,
              "#fdca26"
             ],
             [
              1,
              "#f0f921"
             ]
            ],
            "type": "contour"
           }
          ],
          "contourcarpet": [
           {
            "colorbar": {
             "outlinewidth": 0,
             "ticks": ""
            },
            "type": "contourcarpet"
           }
          ],
          "heatmap": [
           {
            "colorbar": {
             "outlinewidth": 0,
             "ticks": ""
            },
            "colorscale": [
             [
              0,
              "#0d0887"
             ],
             [
              0.1111111111111111,
              "#46039f"
             ],
             [
              0.2222222222222222,
              "#7201a8"
             ],
             [
              0.3333333333333333,
              "#9c179e"
             ],
             [
              0.4444444444444444,
              "#bd3786"
             ],
             [
              0.5555555555555556,
              "#d8576b"
             ],
             [
              0.6666666666666666,
              "#ed7953"
             ],
             [
              0.7777777777777778,
              "#fb9f3a"
             ],
             [
              0.8888888888888888,
              "#fdca26"
             ],
             [
              1,
              "#f0f921"
             ]
            ],
            "type": "heatmap"
           }
          ],
          "heatmapgl": [
           {
            "colorbar": {
             "outlinewidth": 0,
             "ticks": ""
            },
            "colorscale": [
             [
              0,
              "#0d0887"
             ],
             [
              0.1111111111111111,
              "#46039f"
             ],
             [
              0.2222222222222222,
              "#7201a8"
             ],
             [
              0.3333333333333333,
              "#9c179e"
             ],
             [
              0.4444444444444444,
              "#bd3786"
             ],
             [
              0.5555555555555556,
              "#d8576b"
             ],
             [
              0.6666666666666666,
              "#ed7953"
             ],
             [
              0.7777777777777778,
              "#fb9f3a"
             ],
             [
              0.8888888888888888,
              "#fdca26"
             ],
             [
              1,
              "#f0f921"
             ]
            ],
            "type": "heatmapgl"
           }
          ],
          "histogram": [
           {
            "marker": {
             "colorbar": {
              "outlinewidth": 0,
              "ticks": ""
             }
            },
            "type": "histogram"
           }
          ],
          "histogram2d": [
           {
            "colorbar": {
             "outlinewidth": 0,
             "ticks": ""
            },
            "colorscale": [
             [
              0,
              "#0d0887"
             ],
             [
              0.1111111111111111,
              "#46039f"
             ],
             [
              0.2222222222222222,
              "#7201a8"
             ],
             [
              0.3333333333333333,
              "#9c179e"
             ],
             [
              0.4444444444444444,
              "#bd3786"
             ],
             [
              0.5555555555555556,
              "#d8576b"
             ],
             [
              0.6666666666666666,
              "#ed7953"
             ],
             [
              0.7777777777777778,
              "#fb9f3a"
             ],
             [
              0.8888888888888888,
              "#fdca26"
             ],
             [
              1,
              "#f0f921"
             ]
            ],
            "type": "histogram2d"
           }
          ],
          "histogram2dcontour": [
           {
            "colorbar": {
             "outlinewidth": 0,
             "ticks": ""
            },
            "colorscale": [
             [
              0,
              "#0d0887"
             ],
             [
              0.1111111111111111,
              "#46039f"
             ],
             [
              0.2222222222222222,
              "#7201a8"
             ],
             [
              0.3333333333333333,
              "#9c179e"
             ],
             [
              0.4444444444444444,
              "#bd3786"
             ],
             [
              0.5555555555555556,
              "#d8576b"
             ],
             [
              0.6666666666666666,
              "#ed7953"
             ],
             [
              0.7777777777777778,
              "#fb9f3a"
             ],
             [
              0.8888888888888888,
              "#fdca26"
             ],
             [
              1,
              "#f0f921"
             ]
            ],
            "type": "histogram2dcontour"
           }
          ],
          "mesh3d": [
           {
            "colorbar": {
             "outlinewidth": 0,
             "ticks": ""
            },
            "type": "mesh3d"
           }
          ],
          "parcoords": [
           {
            "line": {
             "colorbar": {
              "outlinewidth": 0,
              "ticks": ""
             }
            },
            "type": "parcoords"
           }
          ],
          "pie": [
           {
            "automargin": true,
            "type": "pie"
           }
          ],
          "scatter": [
           {
            "marker": {
             "colorbar": {
              "outlinewidth": 0,
              "ticks": ""
             }
            },
            "type": "scatter"
           }
          ],
          "scatter3d": [
           {
            "line": {
             "colorbar": {
              "outlinewidth": 0,
              "ticks": ""
             }
            },
            "marker": {
             "colorbar": {
              "outlinewidth": 0,
              "ticks": ""
             }
            },
            "type": "scatter3d"
           }
          ],
          "scattercarpet": [
           {
            "marker": {
             "colorbar": {
              "outlinewidth": 0,
              "ticks": ""
             }
            },
            "type": "scattercarpet"
           }
          ],
          "scattergeo": [
           {
            "marker": {
             "colorbar": {
              "outlinewidth": 0,
              "ticks": ""
             }
            },
            "type": "scattergeo"
           }
          ],
          "scattergl": [
           {
            "marker": {
             "colorbar": {
              "outlinewidth": 0,
              "ticks": ""
             }
            },
            "type": "scattergl"
           }
          ],
          "scattermapbox": [
           {
            "marker": {
             "colorbar": {
              "outlinewidth": 0,
              "ticks": ""
             }
            },
            "type": "scattermapbox"
           }
          ],
          "scatterpolar": [
           {
            "marker": {
             "colorbar": {
              "outlinewidth": 0,
              "ticks": ""
             }
            },
            "type": "scatterpolar"
           }
          ],
          "scatterpolargl": [
           {
            "marker": {
             "colorbar": {
              "outlinewidth": 0,
              "ticks": ""
             }
            },
            "type": "scatterpolargl"
           }
          ],
          "scatterternary": [
           {
            "marker": {
             "colorbar": {
              "outlinewidth": 0,
              "ticks": ""
             }
            },
            "type": "scatterternary"
           }
          ],
          "surface": [
           {
            "colorbar": {
             "outlinewidth": 0,
             "ticks": ""
            },
            "colorscale": [
             [
              0,
              "#0d0887"
             ],
             [
              0.1111111111111111,
              "#46039f"
             ],
             [
              0.2222222222222222,
              "#7201a8"
             ],
             [
              0.3333333333333333,
              "#9c179e"
             ],
             [
              0.4444444444444444,
              "#bd3786"
             ],
             [
              0.5555555555555556,
              "#d8576b"
             ],
             [
              0.6666666666666666,
              "#ed7953"
             ],
             [
              0.7777777777777778,
              "#fb9f3a"
             ],
             [
              0.8888888888888888,
              "#fdca26"
             ],
             [
              1,
              "#f0f921"
             ]
            ],
            "type": "surface"
           }
          ],
          "table": [
           {
            "cells": {
             "fill": {
              "color": "#EBF0F8"
             },
             "line": {
              "color": "white"
             }
            },
            "header": {
             "fill": {
              "color": "#C8D4E3"
             },
             "line": {
              "color": "white"
             }
            },
            "type": "table"
           }
          ]
         },
         "layout": {
          "annotationdefaults": {
           "arrowcolor": "#2a3f5f",
           "arrowhead": 0,
           "arrowwidth": 1
          },
          "autotypenumbers": "strict",
          "coloraxis": {
           "colorbar": {
            "outlinewidth": 0,
            "ticks": ""
           }
          },
          "colorscale": {
           "diverging": [
            [
             0,
             "#8e0152"
            ],
            [
             0.1,
             "#c51b7d"
            ],
            [
             0.2,
             "#de77ae"
            ],
            [
             0.3,
             "#f1b6da"
            ],
            [
             0.4,
             "#fde0ef"
            ],
            [
             0.5,
             "#f7f7f7"
            ],
            [
             0.6,
             "#e6f5d0"
            ],
            [
             0.7,
             "#b8e186"
            ],
            [
             0.8,
             "#7fbc41"
            ],
            [
             0.9,
             "#4d9221"
            ],
            [
             1,
             "#276419"
            ]
           ],
           "sequential": [
            [
             0,
             "#0d0887"
            ],
            [
             0.1111111111111111,
             "#46039f"
            ],
            [
             0.2222222222222222,
             "#7201a8"
            ],
            [
             0.3333333333333333,
             "#9c179e"
            ],
            [
             0.4444444444444444,
             "#bd3786"
            ],
            [
             0.5555555555555556,
             "#d8576b"
            ],
            [
             0.6666666666666666,
             "#ed7953"
            ],
            [
             0.7777777777777778,
             "#fb9f3a"
            ],
            [
             0.8888888888888888,
             "#fdca26"
            ],
            [
             1,
             "#f0f921"
            ]
           ],
           "sequentialminus": [
            [
             0,
             "#0d0887"
            ],
            [
             0.1111111111111111,
             "#46039f"
            ],
            [
             0.2222222222222222,
             "#7201a8"
            ],
            [
             0.3333333333333333,
             "#9c179e"
            ],
            [
             0.4444444444444444,
             "#bd3786"
            ],
            [
             0.5555555555555556,
             "#d8576b"
            ],
            [
             0.6666666666666666,
             "#ed7953"
            ],
            [
             0.7777777777777778,
             "#fb9f3a"
            ],
            [
             0.8888888888888888,
             "#fdca26"
            ],
            [
             1,
             "#f0f921"
            ]
           ]
          },
          "colorway": [
           "#636efa",
           "#EF553B",
           "#00cc96",
           "#ab63fa",
           "#FFA15A",
           "#19d3f3",
           "#FF6692",
           "#B6E880",
           "#FF97FF",
           "#FECB52"
          ],
          "font": {
           "color": "#2a3f5f"
          },
          "geo": {
           "bgcolor": "white",
           "lakecolor": "white",
           "landcolor": "#E5ECF6",
           "showlakes": true,
           "showland": true,
           "subunitcolor": "white"
          },
          "hoverlabel": {
           "align": "left"
          },
          "hovermode": "closest",
          "mapbox": {
           "style": "light"
          },
          "paper_bgcolor": "white",
          "plot_bgcolor": "#E5ECF6",
          "polar": {
           "angularaxis": {
            "gridcolor": "white",
            "linecolor": "white",
            "ticks": ""
           },
           "bgcolor": "#E5ECF6",
           "radialaxis": {
            "gridcolor": "white",
            "linecolor": "white",
            "ticks": ""
           }
          },
          "scene": {
           "xaxis": {
            "backgroundcolor": "#E5ECF6",
            "gridcolor": "white",
            "gridwidth": 2,
            "linecolor": "white",
            "showbackground": true,
            "ticks": "",
            "zerolinecolor": "white"
           },
           "yaxis": {
            "backgroundcolor": "#E5ECF6",
            "gridcolor": "white",
            "gridwidth": 2,
            "linecolor": "white",
            "showbackground": true,
            "ticks": "",
            "zerolinecolor": "white"
           },
           "zaxis": {
            "backgroundcolor": "#E5ECF6",
            "gridcolor": "white",
            "gridwidth": 2,
            "linecolor": "white",
            "showbackground": true,
            "ticks": "",
            "zerolinecolor": "white"
           }
          },
          "shapedefaults": {
           "line": {
            "color": "#2a3f5f"
           }
          },
          "ternary": {
           "aaxis": {
            "gridcolor": "white",
            "linecolor": "white",
            "ticks": ""
           },
           "baxis": {
            "gridcolor": "white",
            "linecolor": "white",
            "ticks": ""
           },
           "bgcolor": "#E5ECF6",
           "caxis": {
            "gridcolor": "white",
            "linecolor": "white",
            "ticks": ""
           }
          },
          "title": {
           "x": 0.05
          },
          "xaxis": {
           "automargin": true,
           "gridcolor": "white",
           "linecolor": "white",
           "ticks": "",
           "title": {
            "standoff": 15
           },
           "zerolinecolor": "white",
           "zerolinewidth": 2
          },
          "yaxis": {
           "automargin": true,
           "gridcolor": "white",
           "linecolor": "white",
           "ticks": "",
           "title": {
            "standoff": 15
           },
           "zerolinecolor": "white",
           "zerolinewidth": 2
          }
         }
        },
        "width": 1100,
        "xaxis": {
         "anchor": "y",
         "domain": [
          0,
          0.2888888888888889
         ]
        },
        "xaxis2": {
         "anchor": "y2",
         "domain": [
          0.35555555555555557,
          0.6444444444444445
         ]
        },
        "xaxis3": {
         "anchor": "y3",
         "domain": [
          0.7111111111111111,
          1
         ]
        },
        "yaxis": {
         "anchor": "x",
         "domain": [
          0,
          1
         ]
        },
        "yaxis2": {
         "anchor": "x2",
         "domain": [
          0,
          1
         ]
        },
        "yaxis3": {
         "anchor": "x3",
         "domain": [
          0,
          1
         ]
        }
       }
      }
     },
     "metadata": {}
    }
   ],
   "source": [
    "num_row, num_col = 1, 3\n",
    "fig = make_subplots(rows=num_row, cols=num_col)\n",
    "fig.add_trace(\n",
    "    go.Bar(x=months, y=num_movie, name=\"# of movies\"),\n",
    "    1, 1\n",
    ")\n",
    "\n",
    "fig.add_trace(\n",
    "    go.Bar(x=months, y=revenue, name=\"Revenue from movies\"),\n",
    "    1, 2\n",
    ")\n",
    "\n",
    "fig.add_trace(\n",
    "    go.Bar(x=months, y=avg, name=\"Average Revenue\"),\n",
    "    1, 3\n",
    ")\n",
    "\n",
    "fig.update_layout(\n",
    "    height=400, \n",
    "    width=1100,\n",
    ")\n",
    "\n",
    "fig.show()"
   ]
  },
  {
   "cell_type": "code",
   "execution_count": null,
   "id": "251a63fb",
   "metadata": {},
   "outputs": [],
   "source": []
  },
  {
   "cell_type": "code",
   "execution_count": null,
   "id": "95402303",
   "metadata": {},
   "outputs": [],
   "source": []
  },
  {
   "cell_type": "markdown",
   "id": "9c50190a",
   "metadata": {},
   "source": [
    "# Revenue-Year"
   ]
  },
  {
   "cell_type": "code",
   "execution_count": 36,
   "id": "d3b72d0b",
   "metadata": {},
   "outputs": [
    {
     "output_type": "stream",
     "name": "stdout",
     "text": [
      "found 35 movies in the year 1977\n",
      "found 55 movies in the year 1978\n",
      "found 84 movies in the year 1979\n",
      "found 116 movies in the year 1980\n",
      "found 114 movies in the year 1981\n",
      "found 132 movies in the year 1982\n",
      "found 159 movies in the year 1983\n",
      "found 165 movies in the year 1984\n",
      "found 180 movies in the year 1985\n",
      "found 208 movies in the year 1986\n",
      "found 234 movies in the year 1987\n",
      "found 248 movies in the year 1988\n",
      "found 236 movies in the year 1989\n",
      "found 224 movies in the year 1990\n",
      "found 245 movies in the year 1991\n",
      "NOT FOUND!!! >> 48_necessary_roughness -- 1991\n",
      "found 236 movies in the year 1992\n",
      "found 260 movies in the year 1993\n",
      "found 257 movies in the year 1994\n",
      "found 282 movies in the year 1995\n",
      "found 312 movies in the year 1996\n",
      "found 305 movies in the year 1997\n",
      "found 341 movies in the year 1998\n",
      "found 396 movies in the year 1999\n",
      "found 414 movies in the year 2000\n",
      "found 690 movies in the year 2001\n",
      "found 1374 movies in the year 2002\n",
      "found 1396 movies in the year 2003\n",
      "NOT FOUND!!! >> 268_the_spanish_apartment_2003_re_release -- 2003\n",
      "found 1259 movies in the year 2004\n",
      "found 1352 movies in the year 2005\n",
      "found 1723 movies in the year 2006\n",
      "NOT FOUND!!! >> 363_the_white_planet_carte_blanche -- 2006\n",
      "found 2686 movies in the year 2007\n",
      "found 3017 movies in the year 2008\n",
      "found 2448 movies in the year 2009\n",
      "found 2298 movies in the year 2010\n",
      "found 2340 movies in the year 2011\n",
      "found 2492 movies in the year 2012\n",
      "found 2350 movies in the year 2013\n",
      "found 2321 movies in the year 2014\n",
      "found 2431 movies in the year 2015\n",
      "NOT FOUND!!! >> 920_unknown_title -- 2015\n",
      "found 3148 movies in the year 2016\n",
      "NOT FOUND!!! >> 1504_bang_gang__a_modern_love_story -- 2016\n",
      "NOT FOUND!!! >> 1905_the_book_of_love -- 2016\n",
      "NOT FOUND!!! >> 1965_mirror -- 2016\n",
      "found 3238 movies in the year 2017\n",
      "NOT FOUND!!! >> 1594_adventure_time__islands_part_6__min_and_marty_adventure_time__islands_part_1__the_invitation_adventure_time__islands_part_7__helpers_adventure_time__islands_part_4__imaginary_resources_adventure_time__islands_part_5__hide_and_seek_adventure_time__islands_part_8__the_light_cloud_adventure_time__islands_part_3__mysterious_island_adventure_time__islands_part_2__whipple_the_happy_dragon -- 2017\n",
      "found 3404 movies in the year 2018\n",
      "found 3490 movies in the year 2019\n",
      "NOT FOUND!!! >> 1031_a_white__white_day -- 2019\n",
      "found 1995 movies in the year 2020\n",
      "found 332 movies in the year 2021\n"
     ]
    }
   ],
   "source": [
    "year_2_movie = {}\n",
    "for year in years:\n",
    "    year_2_movie[year] = load_movies(year)"
   ]
  },
  {
   "cell_type": "code",
   "execution_count": 37,
   "id": "08499794",
   "metadata": {},
   "outputs": [],
   "source": [
    "num_movie = [0]*len(years)\n",
    "revenue = [0]*len(years)\n",
    "for idx in range(len(years)):\n",
    "    year = years[idx]\n",
    "    movie_list = year_2_movie[year]\n",
    "    for movie in movie_list:\n",
    "        rev = movie['world_wide']\n",
    "        rev = rev.replace(',','').replace('$','')\n",
    "        rev = int(rev)\n",
    "        num_movie[idx] += 1\n",
    "        revenue[idx] += rev"
   ]
  },
  {
   "cell_type": "code",
   "execution_count": 38,
   "id": "0221d266",
   "metadata": {},
   "outputs": [
    {
     "output_type": "stream",
     "name": "stdout",
     "text": [
      "1977 35 1373129789  >>  39232279.68571428\n1978 55 1552352250  >>  28224586.363636363\n1979 84 1957520257  >>  23303812.583333332\n1980 116 2299002276  >>  19818985.137931034\n1981 114 2283184308  >>  20027932.52631579\n1982 132 2866154342  >>  21713290.46969697\n1983 159 2653198357  >>  16686782.119496856\n1984 165 3347747045  >>  20289376.03030303\n1985 180 3206339207  >>  17812995.594444446\n1986 208 3201522029  >>  15391932.83173077\n1987 234 3562996755  >>  15226481.858974358\n1988 248 3647463171  >>  14707512.786290323\n1989 236 4234653224  >>  17943445.86440678\n1990 224 4531747693  >>  20231016.48660714\n1991 244 4394802279  >>  18011484.75\n1992 236 4784185085  >>  20271970.699152544\n1993 260 5492732503  >>  21125894.242307693\n1994 257 5727752798  >>  22286975.86770428\n1995 282 5563640725  >>  19729222.429078013\n1996 312 5957306783  >>  19093931.996794872\n1997 305 8164858931  >>  26770029.28196721\n1998 341 11336306149  >>  33244299.557184752\n1999 396 12958112812  >>  32722507.101010103\n2000 414 14015213259  >>  33853172.123188406\n2001 690 16478820111  >>  23882347.986956522\n2002 1374 18958460361  >>  13798006.085152838\n2003 1395 19902364143  >>  14266927.701075269\n2004 1259 20762650612  >>  16491382.535345512\n2005 1352 20728944673  >>  15332059.669378698\n2006 1722 22532734858  >>  13085211.88037166\n2007 2686 25787007211  >>  9600523.905807892\n2008 3017 26772019443  >>  8873722.05601591\n2009 2448 28928777358  >>  11817311.012254901\n2010 2298 28771792984  >>  12520362.482158398\n2011 2340 30402086306  >>  12992344.575213674\n2012 2492 32973367057  >>  13231688.225120386\n2013 2350 32720052852  >>  13923426.745531915\n2014 2321 34083143873  >>  14684680.686342094\n2015 2430 36684758374  >>  15096608.38436214\n2016 3145 36299885296  >>  11542093.893799681\n2017 3237 38264417314  >>  11820950.668520235\n2018 3404 38409606315  >>  11283668.13014101\n2019 3489 38931905084  >>  11158470.932645457\n2020 1995 8269235424  >>  4144980.162406015\n2021 332 3524387723  >>  10615625.671686746\n"
     ]
    }
   ],
   "source": [
    "avg = [None]*len(years)\n",
    "for idx in range(len(years)):\n",
    "    avg[idx] = revenue[idx]/num_movie[idx]\n",
    "    print(years[idx], num_movie[idx], revenue[idx], \" >> \", avg[idx])"
   ]
  },
  {
   "cell_type": "code",
   "execution_count": 39,
   "id": "b41345ec",
   "metadata": {
    "scrolled": true
   },
   "outputs": [
    {
     "output_type": "display_data",
     "data": {
      "application/vnd.plotly.v1+json": {
       "config": {
        "plotlyServerURL": "https://plot.ly"
       },
       "data": [
        {
         "name": "# of movies",
         "type": "bar",
         "x": [
          "1977",
          "1978",
          "1979",
          "1980",
          "1981",
          "1982",
          "1983",
          "1984",
          "1985",
          "1986",
          "1987",
          "1988",
          "1989",
          "1990",
          "1991",
          "1992",
          "1993",
          "1994",
          "1995",
          "1996",
          "1997",
          "1998",
          "1999",
          "2000",
          "2001",
          "2002",
          "2003",
          "2004",
          "2005",
          "2006",
          "2007",
          "2008",
          "2009",
          "2010",
          "2011",
          "2012",
          "2013",
          "2014",
          "2015",
          "2016",
          "2017",
          "2018",
          "2019",
          "2020",
          "2021"
         ],
         "xaxis": "x",
         "y": [
          35,
          55,
          84,
          116,
          114,
          132,
          159,
          165,
          180,
          208,
          234,
          248,
          236,
          224,
          244,
          236,
          260,
          257,
          282,
          312,
          305,
          341,
          396,
          414,
          690,
          1374,
          1395,
          1259,
          1352,
          1722,
          2686,
          3017,
          2448,
          2298,
          2340,
          2492,
          2350,
          2321,
          2430,
          3145,
          3237,
          3404,
          3489,
          1995,
          332
         ],
         "yaxis": "y"
        },
        {
         "name": "Revenue from movies",
         "type": "bar",
         "x": [
          "1977",
          "1978",
          "1979",
          "1980",
          "1981",
          "1982",
          "1983",
          "1984",
          "1985",
          "1986",
          "1987",
          "1988",
          "1989",
          "1990",
          "1991",
          "1992",
          "1993",
          "1994",
          "1995",
          "1996",
          "1997",
          "1998",
          "1999",
          "2000",
          "2001",
          "2002",
          "2003",
          "2004",
          "2005",
          "2006",
          "2007",
          "2008",
          "2009",
          "2010",
          "2011",
          "2012",
          "2013",
          "2014",
          "2015",
          "2016",
          "2017",
          "2018",
          "2019",
          "2020",
          "2021"
         ],
         "xaxis": "x2",
         "y": [
          1373129789,
          1552352250,
          1957520257,
          2299002276,
          2283184308,
          2866154342,
          2653198357,
          3347747045,
          3206339207,
          3201522029,
          3562996755,
          3647463171,
          4234653224,
          4531747693,
          4394802279,
          4784185085,
          5492732503,
          5727752798,
          5563640725,
          5957306783,
          8164858931,
          11336306149,
          12958112812,
          14015213259,
          16478820111,
          18958460361,
          19902364143,
          20762650612,
          20728944673,
          22532734858,
          25787007211,
          26772019443,
          28928777358,
          28771792984,
          30402086306,
          32973367057,
          32720052852,
          34083143873,
          36684758374,
          36299885296,
          38264417314,
          38409606315,
          38931905084,
          8269235424,
          3524387723
         ],
         "yaxis": "y2"
        },
        {
         "name": "Average Revenue",
         "type": "bar",
         "x": [
          "1977",
          "1978",
          "1979",
          "1980",
          "1981",
          "1982",
          "1983",
          "1984",
          "1985",
          "1986",
          "1987",
          "1988",
          "1989",
          "1990",
          "1991",
          "1992",
          "1993",
          "1994",
          "1995",
          "1996",
          "1997",
          "1998",
          "1999",
          "2000",
          "2001",
          "2002",
          "2003",
          "2004",
          "2005",
          "2006",
          "2007",
          "2008",
          "2009",
          "2010",
          "2011",
          "2012",
          "2013",
          "2014",
          "2015",
          "2016",
          "2017",
          "2018",
          "2019",
          "2020",
          "2021"
         ],
         "xaxis": "x3",
         "y": [
          39232279.68571428,
          28224586.363636363,
          23303812.583333332,
          19818985.137931034,
          20027932.52631579,
          21713290.46969697,
          16686782.119496856,
          20289376.03030303,
          17812995.594444446,
          15391932.83173077,
          15226481.858974358,
          14707512.786290323,
          17943445.86440678,
          20231016.48660714,
          18011484.75,
          20271970.699152544,
          21125894.242307693,
          22286975.86770428,
          19729222.429078013,
          19093931.996794872,
          26770029.28196721,
          33244299.557184752,
          32722507.101010103,
          33853172.123188406,
          23882347.986956522,
          13798006.085152838,
          14266927.701075269,
          16491382.535345512,
          15332059.669378698,
          13085211.88037166,
          9600523.905807892,
          8873722.05601591,
          11817311.012254901,
          12520362.482158398,
          12992344.575213674,
          13231688.225120386,
          13923426.745531915,
          14684680.686342094,
          15096608.38436214,
          11542093.893799681,
          11820950.668520235,
          11283668.13014101,
          11158470.932645457,
          4144980.162406015,
          10615625.671686746
         ],
         "yaxis": "y3"
        }
       ],
       "layout": {
        "height": 800,
        "template": {
         "data": {
          "bar": [
           {
            "error_x": {
             "color": "#2a3f5f"
            },
            "error_y": {
             "color": "#2a3f5f"
            },
            "marker": {
             "line": {
              "color": "#E5ECF6",
              "width": 0.5
             }
            },
            "type": "bar"
           }
          ],
          "barpolar": [
           {
            "marker": {
             "line": {
              "color": "#E5ECF6",
              "width": 0.5
             }
            },
            "type": "barpolar"
           }
          ],
          "carpet": [
           {
            "aaxis": {
             "endlinecolor": "#2a3f5f",
             "gridcolor": "white",
             "linecolor": "white",
             "minorgridcolor": "white",
             "startlinecolor": "#2a3f5f"
            },
            "baxis": {
             "endlinecolor": "#2a3f5f",
             "gridcolor": "white",
             "linecolor": "white",
             "minorgridcolor": "white",
             "startlinecolor": "#2a3f5f"
            },
            "type": "carpet"
           }
          ],
          "choropleth": [
           {
            "colorbar": {
             "outlinewidth": 0,
             "ticks": ""
            },
            "type": "choropleth"
           }
          ],
          "contour": [
           {
            "colorbar": {
             "outlinewidth": 0,
             "ticks": ""
            },
            "colorscale": [
             [
              0,
              "#0d0887"
             ],
             [
              0.1111111111111111,
              "#46039f"
             ],
             [
              0.2222222222222222,
              "#7201a8"
             ],
             [
              0.3333333333333333,
              "#9c179e"
             ],
             [
              0.4444444444444444,
              "#bd3786"
             ],
             [
              0.5555555555555556,
              "#d8576b"
             ],
             [
              0.6666666666666666,
              "#ed7953"
             ],
             [
              0.7777777777777778,
              "#fb9f3a"
             ],
             [
              0.8888888888888888,
              "#fdca26"
             ],
             [
              1,
              "#f0f921"
             ]
            ],
            "type": "contour"
           }
          ],
          "contourcarpet": [
           {
            "colorbar": {
             "outlinewidth": 0,
             "ticks": ""
            },
            "type": "contourcarpet"
           }
          ],
          "heatmap": [
           {
            "colorbar": {
             "outlinewidth": 0,
             "ticks": ""
            },
            "colorscale": [
             [
              0,
              "#0d0887"
             ],
             [
              0.1111111111111111,
              "#46039f"
             ],
             [
              0.2222222222222222,
              "#7201a8"
             ],
             [
              0.3333333333333333,
              "#9c179e"
             ],
             [
              0.4444444444444444,
              "#bd3786"
             ],
             [
              0.5555555555555556,
              "#d8576b"
             ],
             [
              0.6666666666666666,
              "#ed7953"
             ],
             [
              0.7777777777777778,
              "#fb9f3a"
             ],
             [
              0.8888888888888888,
              "#fdca26"
             ],
             [
              1,
              "#f0f921"
             ]
            ],
            "type": "heatmap"
           }
          ],
          "heatmapgl": [
           {
            "colorbar": {
             "outlinewidth": 0,
             "ticks": ""
            },
            "colorscale": [
             [
              0,
              "#0d0887"
             ],
             [
              0.1111111111111111,
              "#46039f"
             ],
             [
              0.2222222222222222,
              "#7201a8"
             ],
             [
              0.3333333333333333,
              "#9c179e"
             ],
             [
              0.4444444444444444,
              "#bd3786"
             ],
             [
              0.5555555555555556,
              "#d8576b"
             ],
             [
              0.6666666666666666,
              "#ed7953"
             ],
             [
              0.7777777777777778,
              "#fb9f3a"
             ],
             [
              0.8888888888888888,
              "#fdca26"
             ],
             [
              1,
              "#f0f921"
             ]
            ],
            "type": "heatmapgl"
           }
          ],
          "histogram": [
           {
            "marker": {
             "colorbar": {
              "outlinewidth": 0,
              "ticks": ""
             }
            },
            "type": "histogram"
           }
          ],
          "histogram2d": [
           {
            "colorbar": {
             "outlinewidth": 0,
             "ticks": ""
            },
            "colorscale": [
             [
              0,
              "#0d0887"
             ],
             [
              0.1111111111111111,
              "#46039f"
             ],
             [
              0.2222222222222222,
              "#7201a8"
             ],
             [
              0.3333333333333333,
              "#9c179e"
             ],
             [
              0.4444444444444444,
              "#bd3786"
             ],
             [
              0.5555555555555556,
              "#d8576b"
             ],
             [
              0.6666666666666666,
              "#ed7953"
             ],
             [
              0.7777777777777778,
              "#fb9f3a"
             ],
             [
              0.8888888888888888,
              "#fdca26"
             ],
             [
              1,
              "#f0f921"
             ]
            ],
            "type": "histogram2d"
           }
          ],
          "histogram2dcontour": [
           {
            "colorbar": {
             "outlinewidth": 0,
             "ticks": ""
            },
            "colorscale": [
             [
              0,
              "#0d0887"
             ],
             [
              0.1111111111111111,
              "#46039f"
             ],
             [
              0.2222222222222222,
              "#7201a8"
             ],
             [
              0.3333333333333333,
              "#9c179e"
             ],
             [
              0.4444444444444444,
              "#bd3786"
             ],
             [
              0.5555555555555556,
              "#d8576b"
             ],
             [
              0.6666666666666666,
              "#ed7953"
             ],
             [
              0.7777777777777778,
              "#fb9f3a"
             ],
             [
              0.8888888888888888,
              "#fdca26"
             ],
             [
              1,
              "#f0f921"
             ]
            ],
            "type": "histogram2dcontour"
           }
          ],
          "mesh3d": [
           {
            "colorbar": {
             "outlinewidth": 0,
             "ticks": ""
            },
            "type": "mesh3d"
           }
          ],
          "parcoords": [
           {
            "line": {
             "colorbar": {
              "outlinewidth": 0,
              "ticks": ""
             }
            },
            "type": "parcoords"
           }
          ],
          "pie": [
           {
            "automargin": true,
            "type": "pie"
           }
          ],
          "scatter": [
           {
            "marker": {
             "colorbar": {
              "outlinewidth": 0,
              "ticks": ""
             }
            },
            "type": "scatter"
           }
          ],
          "scatter3d": [
           {
            "line": {
             "colorbar": {
              "outlinewidth": 0,
              "ticks": ""
             }
            },
            "marker": {
             "colorbar": {
              "outlinewidth": 0,
              "ticks": ""
             }
            },
            "type": "scatter3d"
           }
          ],
          "scattercarpet": [
           {
            "marker": {
             "colorbar": {
              "outlinewidth": 0,
              "ticks": ""
             }
            },
            "type": "scattercarpet"
           }
          ],
          "scattergeo": [
           {
            "marker": {
             "colorbar": {
              "outlinewidth": 0,
              "ticks": ""
             }
            },
            "type": "scattergeo"
           }
          ],
          "scattergl": [
           {
            "marker": {
             "colorbar": {
              "outlinewidth": 0,
              "ticks": ""
             }
            },
            "type": "scattergl"
           }
          ],
          "scattermapbox": [
           {
            "marker": {
             "colorbar": {
              "outlinewidth": 0,
              "ticks": ""
             }
            },
            "type": "scattermapbox"
           }
          ],
          "scatterpolar": [
           {
            "marker": {
             "colorbar": {
              "outlinewidth": 0,
              "ticks": ""
             }
            },
            "type": "scatterpolar"
           }
          ],
          "scatterpolargl": [
           {
            "marker": {
             "colorbar": {
              "outlinewidth": 0,
              "ticks": ""
             }
            },
            "type": "scatterpolargl"
           }
          ],
          "scatterternary": [
           {
            "marker": {
             "colorbar": {
              "outlinewidth": 0,
              "ticks": ""
             }
            },
            "type": "scatterternary"
           }
          ],
          "surface": [
           {
            "colorbar": {
             "outlinewidth": 0,
             "ticks": ""
            },
            "colorscale": [
             [
              0,
              "#0d0887"
             ],
             [
              0.1111111111111111,
              "#46039f"
             ],
             [
              0.2222222222222222,
              "#7201a8"
             ],
             [
              0.3333333333333333,
              "#9c179e"
             ],
             [
              0.4444444444444444,
              "#bd3786"
             ],
             [
              0.5555555555555556,
              "#d8576b"
             ],
             [
              0.6666666666666666,
              "#ed7953"
             ],
             [
              0.7777777777777778,
              "#fb9f3a"
             ],
             [
              0.8888888888888888,
              "#fdca26"
             ],
             [
              1,
              "#f0f921"
             ]
            ],
            "type": "surface"
           }
          ],
          "table": [
           {
            "cells": {
             "fill": {
              "color": "#EBF0F8"
             },
             "line": {
              "color": "white"
             }
            },
            "header": {
             "fill": {
              "color": "#C8D4E3"
             },
             "line": {
              "color": "white"
             }
            },
            "type": "table"
           }
          ]
         },
         "layout": {
          "annotationdefaults": {
           "arrowcolor": "#2a3f5f",
           "arrowhead": 0,
           "arrowwidth": 1
          },
          "autotypenumbers": "strict",
          "coloraxis": {
           "colorbar": {
            "outlinewidth": 0,
            "ticks": ""
           }
          },
          "colorscale": {
           "diverging": [
            [
             0,
             "#8e0152"
            ],
            [
             0.1,
             "#c51b7d"
            ],
            [
             0.2,
             "#de77ae"
            ],
            [
             0.3,
             "#f1b6da"
            ],
            [
             0.4,
             "#fde0ef"
            ],
            [
             0.5,
             "#f7f7f7"
            ],
            [
             0.6,
             "#e6f5d0"
            ],
            [
             0.7,
             "#b8e186"
            ],
            [
             0.8,
             "#7fbc41"
            ],
            [
             0.9,
             "#4d9221"
            ],
            [
             1,
             "#276419"
            ]
           ],
           "sequential": [
            [
             0,
             "#0d0887"
            ],
            [
             0.1111111111111111,
             "#46039f"
            ],
            [
             0.2222222222222222,
             "#7201a8"
            ],
            [
             0.3333333333333333,
             "#9c179e"
            ],
            [
             0.4444444444444444,
             "#bd3786"
            ],
            [
             0.5555555555555556,
             "#d8576b"
            ],
            [
             0.6666666666666666,
             "#ed7953"
            ],
            [
             0.7777777777777778,
             "#fb9f3a"
            ],
            [
             0.8888888888888888,
             "#fdca26"
            ],
            [
             1,
             "#f0f921"
            ]
           ],
           "sequentialminus": [
            [
             0,
             "#0d0887"
            ],
            [
             0.1111111111111111,
             "#46039f"
            ],
            [
             0.2222222222222222,
             "#7201a8"
            ],
            [
             0.3333333333333333,
             "#9c179e"
            ],
            [
             0.4444444444444444,
             "#bd3786"
            ],
            [
             0.5555555555555556,
             "#d8576b"
            ],
            [
             0.6666666666666666,
             "#ed7953"
            ],
            [
             0.7777777777777778,
             "#fb9f3a"
            ],
            [
             0.8888888888888888,
             "#fdca26"
            ],
            [
             1,
             "#f0f921"
            ]
           ]
          },
          "colorway": [
           "#636efa",
           "#EF553B",
           "#00cc96",
           "#ab63fa",
           "#FFA15A",
           "#19d3f3",
           "#FF6692",
           "#B6E880",
           "#FF97FF",
           "#FECB52"
          ],
          "font": {
           "color": "#2a3f5f"
          },
          "geo": {
           "bgcolor": "white",
           "lakecolor": "white",
           "landcolor": "#E5ECF6",
           "showlakes": true,
           "showland": true,
           "subunitcolor": "white"
          },
          "hoverlabel": {
           "align": "left"
          },
          "hovermode": "closest",
          "mapbox": {
           "style": "light"
          },
          "paper_bgcolor": "white",
          "plot_bgcolor": "#E5ECF6",
          "polar": {
           "angularaxis": {
            "gridcolor": "white",
            "linecolor": "white",
            "ticks": ""
           },
           "bgcolor": "#E5ECF6",
           "radialaxis": {
            "gridcolor": "white",
            "linecolor": "white",
            "ticks": ""
           }
          },
          "scene": {
           "xaxis": {
            "backgroundcolor": "#E5ECF6",
            "gridcolor": "white",
            "gridwidth": 2,
            "linecolor": "white",
            "showbackground": true,
            "ticks": "",
            "zerolinecolor": "white"
           },
           "yaxis": {
            "backgroundcolor": "#E5ECF6",
            "gridcolor": "white",
            "gridwidth": 2,
            "linecolor": "white",
            "showbackground": true,
            "ticks": "",
            "zerolinecolor": "white"
           },
           "zaxis": {
            "backgroundcolor": "#E5ECF6",
            "gridcolor": "white",
            "gridwidth": 2,
            "linecolor": "white",
            "showbackground": true,
            "ticks": "",
            "zerolinecolor": "white"
           }
          },
          "shapedefaults": {
           "line": {
            "color": "#2a3f5f"
           }
          },
          "ternary": {
           "aaxis": {
            "gridcolor": "white",
            "linecolor": "white",
            "ticks": ""
           },
           "baxis": {
            "gridcolor": "white",
            "linecolor": "white",
            "ticks": ""
           },
           "bgcolor": "#E5ECF6",
           "caxis": {
            "gridcolor": "white",
            "linecolor": "white",
            "ticks": ""
           }
          },
          "title": {
           "x": 0.05
          },
          "xaxis": {
           "automargin": true,
           "gridcolor": "white",
           "linecolor": "white",
           "ticks": "",
           "title": {
            "standoff": 15
           },
           "zerolinecolor": "white",
           "zerolinewidth": 2
          },
          "yaxis": {
           "automargin": true,
           "gridcolor": "white",
           "linecolor": "white",
           "ticks": "",
           "title": {
            "standoff": 15
           },
           "zerolinecolor": "white",
           "zerolinewidth": 2
          }
         }
        },
        "title": {
         "text": "Movie_year"
        },
        "xaxis": {
         "anchor": "y",
         "domain": [
          0,
          1
         ]
        },
        "xaxis2": {
         "anchor": "y2",
         "domain": [
          0,
          1
         ]
        },
        "xaxis3": {
         "anchor": "y3",
         "domain": [
          0,
          1
         ]
        },
        "yaxis": {
         "anchor": "x",
         "domain": [
          0.7333333333333333,
          1
         ]
        },
        "yaxis2": {
         "anchor": "x2",
         "domain": [
          0.36666666666666664,
          0.6333333333333333
         ]
        },
        "yaxis3": {
         "anchor": "x3",
         "domain": [
          0,
          0.26666666666666666
         ]
        }
       }
      }
     },
     "metadata": {}
    }
   ],
   "source": [
    "num_row, num_col = 3, 1\n",
    "fig = make_subplots(rows=num_row, cols=num_col)\n",
    "fig.add_trace(\n",
    "    go.Bar(x=years, y=num_movie, name=\"# of movies\"),\n",
    "    1, 1\n",
    ")\n",
    "\n",
    "fig.add_trace(\n",
    "    go.Bar(x=years, y=revenue, name=\"Revenue from movies\"),\n",
    "    2, 1\n",
    ")\n",
    "\n",
    "fig.add_trace(\n",
    "    go.Bar(x=years, y=avg, name=\"Average Revenue\"),\n",
    "    3, 1\n",
    ")\n",
    "\n",
    "fig.update_layout(\n",
    "    height=800, \n",
    "    title_text=\"Movie_year\"\n",
    ")\n",
    "\n",
    "fig.show()"
   ]
  },
  {
   "cell_type": "markdown",
   "id": "fce8a72b",
   "metadata": {},
   "source": [
    "## Distributor"
   ]
  },
  {
   "cell_type": "code",
   "execution_count": 40,
   "id": "7df32267",
   "metadata": {},
   "outputs": [
    {
     "output_type": "execute_result",
     "data": {
      "text/plain": [
       "{'href': '/releasegroup/gr937972229/?ref_=bo_ydw_table_21',\n",
       " 'name': 'The Other Side of Midnight',\n",
       " 'file_name': 'the_other_side_of_midnight',\n",
       " 'world_wide': '$24,652,021',\n",
       " 'domestic': '$24,652,021',\n",
       " 'foreign': '-',\n",
       " 'General Info': {'Distributor': 'Twentieth Century Fox',\n",
       "  'Release Date': ['Jun 8, 1977'],\n",
       "  'Running Time': '2 hr 45 min',\n",
       "  'Genres': ['Drama', 'Romance', 'Thriller'],\n",
       "  'In Release': '937 days/133 weeks',\n",
       "  'IMDbPro': 'https://pro.imdb.com/title/tt0076507?ref_=mojo_rl_summary&rf=mojo_rl_summary'},\n",
       " 'Weekly Income': 'N/A -- checked on 2021-04-28 23:56:54.012456'}"
      ]
     },
     "metadata": {},
     "execution_count": 40
    }
   ],
   "source": [
    "all_movies[20]"
   ]
  },
  {
   "cell_type": "code",
   "execution_count": 41,
   "id": "044bff31",
   "metadata": {},
   "outputs": [],
   "source": [
    "without = 0\n",
    "dist_2_movie = {}\n",
    "for movie in all_movies:\n",
    "    if('Distributor' not in movie['General Info']):\n",
    "        without += 1\n",
    "        continue\n",
    "    distributor = movie['General Info']['Distributor']\n",
    "    if(distributor not in dist_2_movie):\n",
    "        dist_2_movie[distributor] = []\n",
    "    dist_2_movie[distributor].append(movie)"
   ]
  },
  {
   "cell_type": "code",
   "execution_count": 42,
   "id": "592f973e",
   "metadata": {},
   "outputs": [
    {
     "output_type": "execute_result",
     "data": {
      "text/plain": [
       "12974"
      ]
     },
     "metadata": {},
     "execution_count": 42
    }
   ],
   "source": [
    "without"
   ]
  },
  {
   "cell_type": "code",
   "execution_count": 43,
   "id": "8d44acbb",
   "metadata": {},
   "outputs": [
    {
     "output_type": "execute_result",
     "data": {
      "text/plain": [
       "2666"
      ]
     },
     "metadata": {},
     "execution_count": 43
    }
   ],
   "source": [
    "distributors = list(dist_2_movie.keys())\n",
    "len(distributors)"
   ]
  },
  {
   "cell_type": "code",
   "execution_count": 44,
   "id": "2491e183",
   "metadata": {},
   "outputs": [],
   "source": [
    "distributor_info = {}\n",
    "for distributor in distributors:\n",
    "    distributor_info[distributor] = {\n",
    "        'distributor': distributor,\n",
    "        'num_movies' : 0,\n",
    "        'revenue'    : 0,\n",
    "    }"
   ]
  },
  {
   "cell_type": "code",
   "execution_count": 45,
   "id": "dee1a172",
   "metadata": {},
   "outputs": [],
   "source": [
    "for idx in range(len(distributors)):\n",
    "    distributor = distributors[idx]\n",
    "    movie_list = dist_2_movie[distributor]\n",
    "    for movie in movie_list:\n",
    "        rev = movie['world_wide']\n",
    "        rev = rev.replace(',','').replace('$','')\n",
    "        rev = int(rev)\n",
    "        distributor_info[distributor]['num_movies'] += 1\n",
    "        distributor_info[distributor]['revenue'] += rev"
   ]
  },
  {
   "cell_type": "code",
   "execution_count": 46,
   "id": "2773ce50",
   "metadata": {},
   "outputs": [],
   "source": [
    "distributor_list = []\n",
    "for dist in distributor_info:\n",
    "    distributor_info[dist]['avg_revenue'] = distributor_info[dist]['revenue']/distributor_info[dist]['num_movies']\n",
    "    distributor_list.append(distributor_info[dist])"
   ]
  },
  {
   "cell_type": "code",
   "execution_count": 47,
   "id": "ebf8a27e",
   "metadata": {},
   "outputs": [],
   "source": [
    "from operator import itemgetter\n",
    "import pandas as pd"
   ]
  },
  {
   "cell_type": "code",
   "execution_count": 48,
   "id": "ed6a3931",
   "metadata": {},
   "outputs": [
    {
     "output_type": "execute_result",
     "data": {
      "text/plain": [
       "                             distributor  num_movies      revenue  \\\n",
       "0                  Twentieth Century Fox         633  68727659662   \n",
       "1                     Universal Pictures         740  69458787081   \n",
       "2                      Columbia Pictures         219   5253789501   \n",
       "3                     Paramount Pictures         595  48394012634   \n",
       "4                         United Artists          70   1696288950   \n",
       "5                           Warner Bros.        1446  92821558827   \n",
       "6    Walt Disney Studios Motion Pictures         660  98710866519   \n",
       "7         Compass International Pictures           1     47000000   \n",
       "8              Metro-Goldwyn-Mayer (MGM)         380   7672759547   \n",
       "9  American International Pictures (AIP)           4    104059705   \n",
       "\n",
       "    avg_revenue  \n",
       "0  1.085745e+08  \n",
       "1  9.386323e+07  \n",
       "2  2.398991e+07  \n",
       "3  8.133448e+07  \n",
       "4  2.423270e+07  \n",
       "5  6.419195e+07  \n",
       "6  1.495619e+08  \n",
       "7  4.700000e+07  \n",
       "8  2.019147e+07  \n",
       "9  2.601493e+07  "
      ],
      "text/html": "<div>\n<style scoped>\n    .dataframe tbody tr th:only-of-type {\n        vertical-align: middle;\n    }\n\n    .dataframe tbody tr th {\n        vertical-align: top;\n    }\n\n    .dataframe thead th {\n        text-align: right;\n    }\n</style>\n<table border=\"1\" class=\"dataframe\">\n  <thead>\n    <tr style=\"text-align: right;\">\n      <th></th>\n      <th>distributor</th>\n      <th>num_movies</th>\n      <th>revenue</th>\n      <th>avg_revenue</th>\n    </tr>\n  </thead>\n  <tbody>\n    <tr>\n      <th>0</th>\n      <td>Twentieth Century Fox</td>\n      <td>633</td>\n      <td>68727659662</td>\n      <td>1.085745e+08</td>\n    </tr>\n    <tr>\n      <th>1</th>\n      <td>Universal Pictures</td>\n      <td>740</td>\n      <td>69458787081</td>\n      <td>9.386323e+07</td>\n    </tr>\n    <tr>\n      <th>2</th>\n      <td>Columbia Pictures</td>\n      <td>219</td>\n      <td>5253789501</td>\n      <td>2.398991e+07</td>\n    </tr>\n    <tr>\n      <th>3</th>\n      <td>Paramount Pictures</td>\n      <td>595</td>\n      <td>48394012634</td>\n      <td>8.133448e+07</td>\n    </tr>\n    <tr>\n      <th>4</th>\n      <td>United Artists</td>\n      <td>70</td>\n      <td>1696288950</td>\n      <td>2.423270e+07</td>\n    </tr>\n    <tr>\n      <th>5</th>\n      <td>Warner Bros.</td>\n      <td>1446</td>\n      <td>92821558827</td>\n      <td>6.419195e+07</td>\n    </tr>\n    <tr>\n      <th>6</th>\n      <td>Walt Disney Studios Motion Pictures</td>\n      <td>660</td>\n      <td>98710866519</td>\n      <td>1.495619e+08</td>\n    </tr>\n    <tr>\n      <th>7</th>\n      <td>Compass International Pictures</td>\n      <td>1</td>\n      <td>47000000</td>\n      <td>4.700000e+07</td>\n    </tr>\n    <tr>\n      <th>8</th>\n      <td>Metro-Goldwyn-Mayer (MGM)</td>\n      <td>380</td>\n      <td>7672759547</td>\n      <td>2.019147e+07</td>\n    </tr>\n    <tr>\n      <th>9</th>\n      <td>American International Pictures (AIP)</td>\n      <td>4</td>\n      <td>104059705</td>\n      <td>2.601493e+07</td>\n    </tr>\n  </tbody>\n</table>\n</div>"
     },
     "metadata": {},
     "execution_count": 48
    }
   ],
   "source": [
    "df = pd.DataFrame(distributor_list)\n",
    "df.head(10)"
   ]
  },
  {
   "cell_type": "code",
   "execution_count": 49,
   "id": "b0873860",
   "metadata": {},
   "outputs": [
    {
     "output_type": "execute_result",
     "data": {
      "text/plain": [
       "[{'distributor': 'Warner Bros.',\n",
       "  'num_movies': 1446,\n",
       "  'revenue': 92821558827,\n",
       "  'avg_revenue': 64191949.39626556},\n",
       " {'distributor': 'Universal Pictures',\n",
       "  'num_movies': 740,\n",
       "  'revenue': 69458787081,\n",
       "  'avg_revenue': 93863225.78513514}]"
      ]
     },
     "metadata": {},
     "execution_count": 49
    }
   ],
   "source": [
    "sorted(distributor_list, key=itemgetter('num_movies'), reverse=True)[0:2]"
   ]
  },
  {
   "cell_type": "code",
   "execution_count": 50,
   "id": "37fadf13",
   "metadata": {},
   "outputs": [
    {
     "output_type": "execute_result",
     "data": {
      "text/plain": [
       "                              distributor  num_movies      revenue  \\\n",
       "5                            Warner Bros.        1446  92821558827   \n",
       "1                      Universal Pictures         740  69458787081   \n",
       "6     Walt Disney Studios Motion Pictures         660  98710866519   \n",
       "0                   Twentieth Century Fox         633  68727659662   \n",
       "3                      Paramount Pictures         595  48394012634   \n",
       "253                             IFC Films         524   1715844099   \n",
       "1755                           Phars Film         449    218964912   \n",
       "69      Sony Pictures Entertainment (SPE)         447  50790640035   \n",
       "109                Sony Pictures Classics         426   4165775304   \n",
       "150                             Lionsgate         423  20134250068   \n",
       "\n",
       "       avg_revenue  \n",
       "5     6.419195e+07  \n",
       "1     9.386323e+07  \n",
       "6     1.495619e+08  \n",
       "0     1.085745e+08  \n",
       "3     8.133448e+07  \n",
       "253   3.274512e+06  \n",
       "1755  4.876724e+05  \n",
       "69    1.136256e+08  \n",
       "109   9.778815e+06  \n",
       "150   4.759870e+07  "
      ],
      "text/html": "<div>\n<style scoped>\n    .dataframe tbody tr th:only-of-type {\n        vertical-align: middle;\n    }\n\n    .dataframe tbody tr th {\n        vertical-align: top;\n    }\n\n    .dataframe thead th {\n        text-align: right;\n    }\n</style>\n<table border=\"1\" class=\"dataframe\">\n  <thead>\n    <tr style=\"text-align: right;\">\n      <th></th>\n      <th>distributor</th>\n      <th>num_movies</th>\n      <th>revenue</th>\n      <th>avg_revenue</th>\n    </tr>\n  </thead>\n  <tbody>\n    <tr>\n      <th>5</th>\n      <td>Warner Bros.</td>\n      <td>1446</td>\n      <td>92821558827</td>\n      <td>6.419195e+07</td>\n    </tr>\n    <tr>\n      <th>1</th>\n      <td>Universal Pictures</td>\n      <td>740</td>\n      <td>69458787081</td>\n      <td>9.386323e+07</td>\n    </tr>\n    <tr>\n      <th>6</th>\n      <td>Walt Disney Studios Motion Pictures</td>\n      <td>660</td>\n      <td>98710866519</td>\n      <td>1.495619e+08</td>\n    </tr>\n    <tr>\n      <th>0</th>\n      <td>Twentieth Century Fox</td>\n      <td>633</td>\n      <td>68727659662</td>\n      <td>1.085745e+08</td>\n    </tr>\n    <tr>\n      <th>3</th>\n      <td>Paramount Pictures</td>\n      <td>595</td>\n      <td>48394012634</td>\n      <td>8.133448e+07</td>\n    </tr>\n    <tr>\n      <th>253</th>\n      <td>IFC Films</td>\n      <td>524</td>\n      <td>1715844099</td>\n      <td>3.274512e+06</td>\n    </tr>\n    <tr>\n      <th>1755</th>\n      <td>Phars Film</td>\n      <td>449</td>\n      <td>218964912</td>\n      <td>4.876724e+05</td>\n    </tr>\n    <tr>\n      <th>69</th>\n      <td>Sony Pictures Entertainment (SPE)</td>\n      <td>447</td>\n      <td>50790640035</td>\n      <td>1.136256e+08</td>\n    </tr>\n    <tr>\n      <th>109</th>\n      <td>Sony Pictures Classics</td>\n      <td>426</td>\n      <td>4165775304</td>\n      <td>9.778815e+06</td>\n    </tr>\n    <tr>\n      <th>150</th>\n      <td>Lionsgate</td>\n      <td>423</td>\n      <td>20134250068</td>\n      <td>4.759870e+07</td>\n    </tr>\n  </tbody>\n</table>\n</div>"
     },
     "metadata": {},
     "execution_count": 50
    }
   ],
   "source": [
    "df.sort_values(by=['num_movies'], ascending= False).head(10)"
   ]
  },
  {
   "cell_type": "code",
   "execution_count": 51,
   "id": "a4b3e624",
   "metadata": {},
   "outputs": [
    {
     "output_type": "execute_result",
     "data": {
      "text/plain": [
       "                             distributor  num_movies      revenue  \\\n",
       "6    Walt Disney Studios Motion Pictures         660  98710866519   \n",
       "5                           Warner Bros.        1446  92821558827   \n",
       "1                     Universal Pictures         740  69458787081   \n",
       "0                  Twentieth Century Fox         633  68727659662   \n",
       "69     Sony Pictures Entertainment (SPE)         447  50790640035   \n",
       "3                     Paramount Pictures         595  48394012634   \n",
       "150                            Lionsgate         423  20134250068   \n",
       "28                       New Line Cinema         249  12081227002   \n",
       "786                           DreamWorks          39  11815413567   \n",
       "176              DreamWorks Distribution          60   8632749441   \n",
       "\n",
       "      avg_revenue  \n",
       "6    1.495619e+08  \n",
       "5    6.419195e+07  \n",
       "1    9.386323e+07  \n",
       "0    1.085745e+08  \n",
       "69   1.136256e+08  \n",
       "3    8.133448e+07  \n",
       "150  4.759870e+07  \n",
       "28   4.851898e+07  \n",
       "786  3.029593e+08  \n",
       "176  1.438792e+08  "
      ],
      "text/html": "<div>\n<style scoped>\n    .dataframe tbody tr th:only-of-type {\n        vertical-align: middle;\n    }\n\n    .dataframe tbody tr th {\n        vertical-align: top;\n    }\n\n    .dataframe thead th {\n        text-align: right;\n    }\n</style>\n<table border=\"1\" class=\"dataframe\">\n  <thead>\n    <tr style=\"text-align: right;\">\n      <th></th>\n      <th>distributor</th>\n      <th>num_movies</th>\n      <th>revenue</th>\n      <th>avg_revenue</th>\n    </tr>\n  </thead>\n  <tbody>\n    <tr>\n      <th>6</th>\n      <td>Walt Disney Studios Motion Pictures</td>\n      <td>660</td>\n      <td>98710866519</td>\n      <td>1.495619e+08</td>\n    </tr>\n    <tr>\n      <th>5</th>\n      <td>Warner Bros.</td>\n      <td>1446</td>\n      <td>92821558827</td>\n      <td>6.419195e+07</td>\n    </tr>\n    <tr>\n      <th>1</th>\n      <td>Universal Pictures</td>\n      <td>740</td>\n      <td>69458787081</td>\n      <td>9.386323e+07</td>\n    </tr>\n    <tr>\n      <th>0</th>\n      <td>Twentieth Century Fox</td>\n      <td>633</td>\n      <td>68727659662</td>\n      <td>1.085745e+08</td>\n    </tr>\n    <tr>\n      <th>69</th>\n      <td>Sony Pictures Entertainment (SPE)</td>\n      <td>447</td>\n      <td>50790640035</td>\n      <td>1.136256e+08</td>\n    </tr>\n    <tr>\n      <th>3</th>\n      <td>Paramount Pictures</td>\n      <td>595</td>\n      <td>48394012634</td>\n      <td>8.133448e+07</td>\n    </tr>\n    <tr>\n      <th>150</th>\n      <td>Lionsgate</td>\n      <td>423</td>\n      <td>20134250068</td>\n      <td>4.759870e+07</td>\n    </tr>\n    <tr>\n      <th>28</th>\n      <td>New Line Cinema</td>\n      <td>249</td>\n      <td>12081227002</td>\n      <td>4.851898e+07</td>\n    </tr>\n    <tr>\n      <th>786</th>\n      <td>DreamWorks</td>\n      <td>39</td>\n      <td>11815413567</td>\n      <td>3.029593e+08</td>\n    </tr>\n    <tr>\n      <th>176</th>\n      <td>DreamWorks Distribution</td>\n      <td>60</td>\n      <td>8632749441</td>\n      <td>1.438792e+08</td>\n    </tr>\n  </tbody>\n</table>\n</div>"
     },
     "metadata": {},
     "execution_count": 51
    }
   ],
   "source": [
    "df.sort_values(by=['revenue'], ascending= False).head(10)"
   ]
  },
  {
   "cell_type": "code",
   "execution_count": 52,
   "id": "2a94bf10",
   "metadata": {},
   "outputs": [
    {
     "output_type": "execute_result",
     "data": {
      "text/plain": [
       "                              distributor  num_movies      revenue  \\\n",
       "2079                     The H Collective           1    870325439   \n",
       "2533                       Little Monster           2    825008800   \n",
       "786                            DreamWorks          39  11815413567   \n",
       "6     Walt Disney Studios Motion Pictures         660  98710866519   \n",
       "1600                         AMC Theaters           2    296532278   \n",
       "176               DreamWorks Distribution          60   8632749441   \n",
       "938                  Summit Entertainment          31   3930045457   \n",
       "2229                         CMC Pictures          22   2756747529   \n",
       "2081                                 Enec           1    119055731   \n",
       "69      Sony Pictures Entertainment (SPE)         447  50790640035   \n",
       "\n",
       "       avg_revenue  \n",
       "2079  8.703254e+08  \n",
       "2533  4.125044e+08  \n",
       "786   3.029593e+08  \n",
       "6     1.495619e+08  \n",
       "1600  1.482661e+08  \n",
       "176   1.438792e+08  \n",
       "938   1.267757e+08  \n",
       "2229  1.253067e+08  \n",
       "2081  1.190557e+08  \n",
       "69    1.136256e+08  "
      ],
      "text/html": "<div>\n<style scoped>\n    .dataframe tbody tr th:only-of-type {\n        vertical-align: middle;\n    }\n\n    .dataframe tbody tr th {\n        vertical-align: top;\n    }\n\n    .dataframe thead th {\n        text-align: right;\n    }\n</style>\n<table border=\"1\" class=\"dataframe\">\n  <thead>\n    <tr style=\"text-align: right;\">\n      <th></th>\n      <th>distributor</th>\n      <th>num_movies</th>\n      <th>revenue</th>\n      <th>avg_revenue</th>\n    </tr>\n  </thead>\n  <tbody>\n    <tr>\n      <th>2079</th>\n      <td>The H Collective</td>\n      <td>1</td>\n      <td>870325439</td>\n      <td>8.703254e+08</td>\n    </tr>\n    <tr>\n      <th>2533</th>\n      <td>Little Monster</td>\n      <td>2</td>\n      <td>825008800</td>\n      <td>4.125044e+08</td>\n    </tr>\n    <tr>\n      <th>786</th>\n      <td>DreamWorks</td>\n      <td>39</td>\n      <td>11815413567</td>\n      <td>3.029593e+08</td>\n    </tr>\n    <tr>\n      <th>6</th>\n      <td>Walt Disney Studios Motion Pictures</td>\n      <td>660</td>\n      <td>98710866519</td>\n      <td>1.495619e+08</td>\n    </tr>\n    <tr>\n      <th>1600</th>\n      <td>AMC Theaters</td>\n      <td>2</td>\n      <td>296532278</td>\n      <td>1.482661e+08</td>\n    </tr>\n    <tr>\n      <th>176</th>\n      <td>DreamWorks Distribution</td>\n      <td>60</td>\n      <td>8632749441</td>\n      <td>1.438792e+08</td>\n    </tr>\n    <tr>\n      <th>938</th>\n      <td>Summit Entertainment</td>\n      <td>31</td>\n      <td>3930045457</td>\n      <td>1.267757e+08</td>\n    </tr>\n    <tr>\n      <th>2229</th>\n      <td>CMC Pictures</td>\n      <td>22</td>\n      <td>2756747529</td>\n      <td>1.253067e+08</td>\n    </tr>\n    <tr>\n      <th>2081</th>\n      <td>Enec</td>\n      <td>1</td>\n      <td>119055731</td>\n      <td>1.190557e+08</td>\n    </tr>\n    <tr>\n      <th>69</th>\n      <td>Sony Pictures Entertainment (SPE)</td>\n      <td>447</td>\n      <td>50790640035</td>\n      <td>1.136256e+08</td>\n    </tr>\n  </tbody>\n</table>\n</div>"
     },
     "metadata": {},
     "execution_count": 52
    }
   ],
   "source": [
    "df.sort_values(by=['avg_revenue'], ascending= False).head(10)"
   ]
  }
 ],
 "metadata": {
  "kernelspec": {
   "name": "python3710jvsc74a57bd0675abc6ed7102a3882be767b904c0764594f0d349dbaa39bdd7921b9b43ead8b",
   "display_name": "Python 3.7.10 64-bit ('covid': conda)"
  },
  "language_info": {
   "codemirror_mode": {
    "name": "ipython",
    "version": 3
   },
   "file_extension": ".py",
   "mimetype": "text/x-python",
   "name": "python",
   "nbconvert_exporter": "python",
   "pygments_lexer": "ipython3",
   "version": "3.7.10"
  },
  "metadata": {
   "interpreter": {
    "hash": "916dbcbb3f70747c44a77c7bcd40155683ae19c65e1c03b4aa3499c5328201f1"
   }
  }
 },
 "nbformat": 4,
 "nbformat_minor": 5
}