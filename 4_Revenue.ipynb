{
 "metadata": {
  "language_info": {
   "codemirror_mode": {
    "name": "ipython",
    "version": 3
   },
   "file_extension": ".py",
   "mimetype": "text/x-python",
   "name": "python",
   "nbconvert_exporter": "python",
   "pygments_lexer": "ipython3",
   "version": "3.7.9"
  },
  "orig_nbformat": 2,
  "kernelspec": {
   "name": "python379jvsc74a57bd06e81d77af03ce5c2f322ee28133a80996b3da90d809d78ecf9dd16de6b5482d3",
   "display_name": "Python 3.7.9 64-bit ('ml': conda)"
  },
  "metadata": {
   "interpreter": {
    "hash": "916dbcbb3f70747c44a77c7bcd40155683ae19c65e1c03b4aa3499c5328201f1"
   }
  }
 },
 "nbformat": 4,
 "nbformat_minor": 2,
 "cells": [
  {
   "cell_type": "code",
   "execution_count": 2,
   "metadata": {},
   "outputs": [],
   "source": [
    "import os\n",
    "import json\n",
    "import plotly.graph_objects as go\n",
    "from plotly.subplots import make_subplots\n",
    "# import cpi\n",
    "import pymongo\n",
    "from tqdm import tqdm\n",
    "from scipy import stats\n",
    "import math"
   ]
  },
  {
   "cell_type": "code",
   "execution_count": 3,
   "metadata": {},
   "outputs": [],
   "source": [
    "myclient = pymongo.MongoClient(\"mongodb://localhost:27017/\")\n",
    "db = myclient[\"imdb\"]\n",
    "imdb = db['imdb_cleaned']"
   ]
  },
  {
   "cell_type": "code",
   "execution_count": 5,
   "metadata": {},
   "outputs": [
    {
     "output_type": "execute_result",
     "data": {
      "text/plain": [
       "8181"
      ]
     },
     "metadata": {},
     "execution_count": 5
    }
   ],
   "source": [
    "num_movies = imdb.count_documents({})\n",
    "num_movies"
   ]
  },
  {
   "cell_type": "code",
   "execution_count": 6,
   "metadata": {},
   "outputs": [],
   "source": [
    "rev_arr = []\n",
    "for movie in imdb.find():\n",
    "    rev = movie['cleaned_Revenue']\n",
    "    rev_arr.append(rev) "
   ]
  },
  {
   "cell_type": "code",
   "execution_count": 10,
   "metadata": {},
   "outputs": [],
   "source": [
    "import numpy as np"
   ]
  },
  {
   "cell_type": "code",
   "execution_count": 11,
   "metadata": {},
   "outputs": [],
   "source": [
    "rev_arr = np.array(rev_arr)"
   ]
  },
  {
   "cell_type": "code",
   "execution_count": 12,
   "metadata": {},
   "outputs": [
    {
     "output_type": "execute_result",
     "data": {
      "text/plain": [
       "DescribeResult(nobs=8181, minmax=(38, 3550221370), mean=100747045.3002078, variance=4.423010334815394e+16, skewness=5.235542127662483, kurtosis=45.489504310842435)"
      ]
     },
     "metadata": {},
     "execution_count": 12
    }
   ],
   "source": [
    "stats.describe(rev_arr)"
   ]
  },
  {
   "cell_type": "code",
   "execution_count": 13,
   "metadata": {},
   "outputs": [],
   "source": [
    "def findIMDbMovie(imdb_id):\n",
    "    for x in imdb.find({'imdb_id': imdb_id}):\n",
    "        return x\n",
    "    return None"
   ]
  },
  {
   "cell_type": "code",
   "execution_count": 14,
   "metadata": {},
   "outputs": [],
   "source": [
    "# findIMDbMovie('tt0371746')"
   ]
  },
  {
   "cell_type": "code",
   "execution_count": 15,
   "metadata": {},
   "outputs": [],
   "source": [
    "bucket_size = 50000000 # 50 million\n",
    "buckets = {}\n",
    "curr = 0\n",
    "while(curr <= rev_arr.max()):\n",
    "    buckets[curr] = 0\n",
    "    curr += bucket_size "
   ]
  },
  {
   "cell_type": "code",
   "execution_count": 16,
   "metadata": {},
   "outputs": [],
   "source": [
    "for movie in imdb.find():\n",
    "    rev = movie['cleaned_Revenue']\n",
    "    lo = int(np.floor(rev/bucket_size)*bucket_size)\n",
    "    buckets[lo] += 1"
   ]
  },
  {
   "cell_type": "code",
   "execution_count": 17,
   "metadata": {},
   "outputs": [
    {
     "output_type": "execute_result",
     "data": {
      "text/plain": [
       "1000000"
      ]
     },
     "metadata": {},
     "execution_count": 17
    }
   ],
   "source": [
    "million = 10**6\n",
    "million"
   ]
  },
  {
   "cell_type": "code",
   "execution_count": 20,
   "metadata": {},
   "outputs": [
    {
     "output_type": "stream",
     "name": "stdout",
     "text": [
      "low range 0 -- num movies 5082 -- total 5082(62.11954528786212%) of 8181 movies\nlow range 50000000 -- num movies 1063 -- total 6145(75.11306686224178%) of 8181 movies\nlow range 100000000 -- num movies 527 -- total 6672(81.55482214888156%) of 8181 movies\nlow range 150000000 -- num movies 351 -- total 7023(85.84525119178585%) of 8181 movies\nlow range 200000000 -- num movies 248 -- total 7271(88.87666544432221%) of 8181 movies\nlow range 250000000 -- num movies 177 -- total 7448(91.04021513262437%) of 8181 movies\nlow range 300000000 -- num movies 131 -- total 7579(92.64148637085931%) of 8181 movies\nlow range 350000000 -- num movies 109 -- total 7688(93.9738418286273%) of 8181 movies\nlow range 400000000 -- num movies 73 -- total 7761(94.86615328199487%) of 8181 movies\nlow range 450000000 -- num movies 60 -- total 7821(95.5995599559956%) of 8181 movies\nlow range 500000000 -- num movies 49 -- total 7870(96.19850873976287%) of 8181 movies\nlow range 550000000 -- num movies 44 -- total 7914(96.73634030069674%) of 8181 movies\nlow range 600000000 -- num movies 32 -- total 7946(97.12749052683046%) of 8181 movies\nlow range 650000000 -- num movies 26 -- total 7972(97.44530008556411%) of 8181 movies\nlow range 700000000 -- num movies 33 -- total 8005(97.84867375626452%) of 8181 movies\nlow range 750000000 -- num movies 21 -- total 8026(98.10536609216477%) of 8181 movies\nlow range 800000000 -- num movies 25 -- total 8051(98.41095220633174%) of 8181 movies\nlow range 850000000 -- num movies 14 -- total 8065(98.58208043026525%) of 8181 movies\nlow range 900000000 -- num movies 16 -- total 8081(98.77765554333212%) of 8181 movies\nlow range 950000000 -- num movies 12 -- total 8093(98.92433687813225%) of 8181 movies\nlow range 1000000000 -- num movies 9 -- total 8102(99.03434787923237%) of 8181 movies\nlow range 1050000000 -- num movies 10 -- total 8112(99.15658232489916%) of 8181 movies\nlow range 1100000000 -- num movies 9 -- total 8121(99.26659332599927%) of 8181 movies\nlow range 1150000000 -- num movies 8 -- total 8129(99.3643808825327%) of 8181 movies\nlow range 1200000000 -- num movies 8 -- total 8137(99.46216843906613%) of 8181 movies\nlow range 1250000000 -- num movies 6 -- total 8143(99.53550910646621%) of 8181 movies\nlow range 1300000000 -- num movies 7 -- total 8150(99.62107321843295%) of 8181 movies\nlow range 1350000000 -- num movies 4 -- total 8154(99.66996699669967%) of 8181 movies\nlow range 1400000000 -- num movies 2 -- total 8156(99.69441388583303%) of 8181 movies\nlow range 1450000000 -- num movies 2 -- total 8158(99.71886077496639%) of 8181 movies\nlow range 1500000000 -- num movies 3 -- total 8161(99.75553110866642%) of 8181 movies\nlow range 1550000000 -- num movies 3 -- total 8164(99.79220144236646%) of 8181 movies\nlow range 1600000000 -- num movies 1 -- total 8165(99.80442488693313%) of 8181 movies\nlow range 1650000000 -- num movies 3 -- total 8168(99.84109522063318%) of 8181 movies\nlow range 1700000000 -- num movies 1 -- total 8169(99.85331866519985%) of 8181 movies\nlow range 1750000000 -- num movies 0 -- total 8169(99.85331866519985%) of 8181 movies\nlow range 1800000000 -- num movies 1 -- total 8170(99.86554210976654%) of 8181 movies\nlow range 1850000000 -- num movies 2 -- total 8172(99.8899889988999%) of 8181 movies\nlow range 1900000000 -- num movies 0 -- total 8172(99.8899889988999%) of 8181 movies\nlow range 1950000000 -- num movies 0 -- total 8172(99.8899889988999%) of 8181 movies\nlow range 2000000000 -- num movies 0 -- total 8172(99.8899889988999%) of 8181 movies\nlow range 2050000000 -- num movies 0 -- total 8172(99.8899889988999%) of 8181 movies\nlow range 2100000000 -- num movies 2 -- total 8174(99.91443588803325%) of 8181 movies\nlow range 2150000000 -- num movies 0 -- total 8174(99.91443588803325%) of 8181 movies\nlow range 2200000000 -- num movies 0 -- total 8174(99.91443588803325%) of 8181 movies\nlow range 2250000000 -- num movies 2 -- total 8176(99.93888277716661%) of 8181 movies\nlow range 2300000000 -- num movies 0 -- total 8176(99.93888277716661%) of 8181 movies\nlow range 2350000000 -- num movies 0 -- total 8176(99.93888277716661%) of 8181 movies\nlow range 2400000000 -- num movies 0 -- total 8176(99.93888277716661%) of 8181 movies\nlow range 2450000000 -- num movies 0 -- total 8176(99.93888277716661%) of 8181 movies\nlow range 2500000000 -- num movies 0 -- total 8176(99.93888277716661%) of 8181 movies\nlow range 2550000000 -- num movies 1 -- total 8177(99.95110622173328%) of 8181 movies\nlow range 2600000000 -- num movies 0 -- total 8177(99.95110622173328%) of 8181 movies\nlow range 2650000000 -- num movies 0 -- total 8177(99.95110622173328%) of 8181 movies\nlow range 2700000000 -- num movies 0 -- total 8177(99.95110622173328%) of 8181 movies\nlow range 2750000000 -- num movies 0 -- total 8177(99.95110622173328%) of 8181 movies\nlow range 2800000000 -- num movies 1 -- total 8178(99.96332966629997%) of 8181 movies\nlow range 2850000000 -- num movies 0 -- total 8178(99.96332966629997%) of 8181 movies\nlow range 2900000000 -- num movies 0 -- total 8178(99.96332966629997%) of 8181 movies\nlow range 2950000000 -- num movies 0 -- total 8178(99.96332966629997%) of 8181 movies\nlow range 3000000000 -- num movies 0 -- total 8178(99.96332966629997%) of 8181 movies\nlow range 3050000000 -- num movies 0 -- total 8178(99.96332966629997%) of 8181 movies\nlow range 3100000000 -- num movies 0 -- total 8178(99.96332966629997%) of 8181 movies\nlow range 3150000000 -- num movies 0 -- total 8178(99.96332966629997%) of 8181 movies\nlow range 3200000000 -- num movies 0 -- total 8178(99.96332966629997%) of 8181 movies\nlow range 3250000000 -- num movies 0 -- total 8178(99.96332966629997%) of 8181 movies\nlow range 3300000000 -- num movies 1 -- total 8179(99.97555311086664%) of 8181 movies\nlow range 3350000000 -- num movies 0 -- total 8179(99.97555311086664%) of 8181 movies\nlow range 3400000000 -- num movies 1 -- total 8180(99.98777655543333%) of 8181 movies\nlow range 3450000000 -- num movies 0 -- total 8180(99.98777655543333%) of 8181 movies\nlow range 3500000000 -- num movies 0 -- total 8180(99.98777655543333%) of 8181 movies\nlow range 3550000000 -- num movies 1 -- total 8181(100.0%) of 8181 movies\n"
     ]
    }
   ],
   "source": [
    "xrr = []\n",
    "yrr = []\n",
    "\n",
    "cnt = 0\n",
    "for lo in buckets:\n",
    "    hi = lo + bucket_size\n",
    "    cnt += buckets[lo]\n",
    "    xrr.append('{}M - {}M'.format(lo/million, hi/million, cnt, cnt/num_movies))\n",
    "    yrr.append(buckets[lo])\n",
    "\n",
    "    print('low range {} -- num movies {} -- total {}({}%) of {} movies'.format(lo, buckets[lo], cnt, cnt*100/num_movies, num_movies))"
   ]
  },
  {
   "cell_type": "code",
   "execution_count": 29,
   "metadata": {},
   "outputs": [
    {
     "output_type": "display_data",
     "data": {
      "application/vnd.plotly.v1+json": {
       "config": {
        "plotlyServerURL": "https://plot.ly"
       },
       "data": [
        {
         "type": "bar",
         "x": [
          "0.0M - 50.0M",
          "50.0M - 100.0M",
          "100.0M - 150.0M",
          "150.0M - 200.0M",
          "200.0M - 250.0M",
          "250.0M - 300.0M",
          "300.0M - 350.0M",
          "350.0M - 400.0M",
          "400.0M - 450.0M",
          "450.0M - 500.0M",
          "500.0M - 550.0M",
          "550.0M - 600.0M",
          "600.0M - 650.0M",
          "650.0M - 700.0M",
          "700.0M - 750.0M",
          "750.0M - 800.0M",
          "800.0M - 850.0M",
          "850.0M - 900.0M",
          "900.0M - 950.0M",
          "950.0M - 1000.0M",
          "1000.0M - 1050.0M",
          "1050.0M - 1100.0M",
          "1100.0M - 1150.0M",
          "1150.0M - 1200.0M",
          "1200.0M - 1250.0M",
          "1250.0M - 1300.0M",
          "1300.0M - 1350.0M",
          "1350.0M - 1400.0M",
          "1400.0M - 1450.0M",
          "1450.0M - 1500.0M",
          "1500.0M - 1550.0M",
          "1550.0M - 1600.0M",
          "1600.0M - 1650.0M",
          "1650.0M - 1700.0M",
          "1700.0M - 1750.0M",
          "1750.0M - 1800.0M",
          "1800.0M - 1850.0M",
          "1850.0M - 1900.0M",
          "1900.0M - 1950.0M",
          "1950.0M - 2000.0M",
          "2000.0M - 2050.0M",
          "2050.0M - 2100.0M",
          "2100.0M - 2150.0M",
          "2150.0M - 2200.0M",
          "2200.0M - 2250.0M",
          "2250.0M - 2300.0M",
          "2300.0M - 2350.0M",
          "2350.0M - 2400.0M",
          "2400.0M - 2450.0M",
          "2450.0M - 2500.0M",
          "2500.0M - 2550.0M",
          "2550.0M - 2600.0M",
          "2600.0M - 2650.0M",
          "2650.0M - 2700.0M",
          "2700.0M - 2750.0M",
          "2750.0M - 2800.0M",
          "2800.0M - 2850.0M",
          "2850.0M - 2900.0M",
          "2900.0M - 2950.0M",
          "2950.0M - 3000.0M",
          "3000.0M - 3050.0M",
          "3050.0M - 3100.0M",
          "3100.0M - 3150.0M",
          "3150.0M - 3200.0M",
          "3200.0M - 3250.0M",
          "3250.0M - 3300.0M",
          "3300.0M - 3350.0M",
          "3350.0M - 3400.0M",
          "3400.0M - 3450.0M",
          "3450.0M - 3500.0M",
          "3500.0M - 3550.0M",
          "3550.0M - 3600.0M"
         ],
         "y": [
          5082,
          1063,
          527,
          351,
          248,
          177,
          131,
          109,
          73,
          60,
          49,
          44,
          32,
          26,
          33,
          21,
          25,
          14,
          16,
          12,
          9,
          10,
          9,
          8,
          8,
          6,
          7,
          4,
          2,
          2,
          3,
          3,
          1,
          3,
          1,
          0,
          1,
          2,
          0,
          0,
          0,
          0,
          2,
          0,
          0,
          2,
          0,
          0,
          0,
          0,
          0,
          1,
          0,
          0,
          0,
          0,
          1,
          0,
          0,
          0,
          0,
          0,
          0,
          0,
          0,
          0,
          1,
          0,
          1,
          0,
          0,
          1
         ]
        }
       ],
       "layout": {
        "template": {
         "data": {
          "bar": [
           {
            "error_x": {
             "color": "#2a3f5f"
            },
            "error_y": {
             "color": "#2a3f5f"
            },
            "marker": {
             "line": {
              "color": "#E5ECF6",
              "width": 0.5
             }
            },
            "type": "bar"
           }
          ],
          "barpolar": [
           {
            "marker": {
             "line": {
              "color": "#E5ECF6",
              "width": 0.5
             }
            },
            "type": "barpolar"
           }
          ],
          "carpet": [
           {
            "aaxis": {
             "endlinecolor": "#2a3f5f",
             "gridcolor": "white",
             "linecolor": "white",
             "minorgridcolor": "white",
             "startlinecolor": "#2a3f5f"
            },
            "baxis": {
             "endlinecolor": "#2a3f5f",
             "gridcolor": "white",
             "linecolor": "white",
             "minorgridcolor": "white",
             "startlinecolor": "#2a3f5f"
            },
            "type": "carpet"
           }
          ],
          "choropleth": [
           {
            "colorbar": {
             "outlinewidth": 0,
             "ticks": ""
            },
            "type": "choropleth"
           }
          ],
          "contour": [
           {
            "colorbar": {
             "outlinewidth": 0,
             "ticks": ""
            },
            "colorscale": [
             [
              0,
              "#0d0887"
             ],
             [
              0.1111111111111111,
              "#46039f"
             ],
             [
              0.2222222222222222,
              "#7201a8"
             ],
             [
              0.3333333333333333,
              "#9c179e"
             ],
             [
              0.4444444444444444,
              "#bd3786"
             ],
             [
              0.5555555555555556,
              "#d8576b"
             ],
             [
              0.6666666666666666,
              "#ed7953"
             ],
             [
              0.7777777777777778,
              "#fb9f3a"
             ],
             [
              0.8888888888888888,
              "#fdca26"
             ],
             [
              1,
              "#f0f921"
             ]
            ],
            "type": "contour"
           }
          ],
          "contourcarpet": [
           {
            "colorbar": {
             "outlinewidth": 0,
             "ticks": ""
            },
            "type": "contourcarpet"
           }
          ],
          "heatmap": [
           {
            "colorbar": {
             "outlinewidth": 0,
             "ticks": ""
            },
            "colorscale": [
             [
              0,
              "#0d0887"
             ],
             [
              0.1111111111111111,
              "#46039f"
             ],
             [
              0.2222222222222222,
              "#7201a8"
             ],
             [
              0.3333333333333333,
              "#9c179e"
             ],
             [
              0.4444444444444444,
              "#bd3786"
             ],
             [
              0.5555555555555556,
              "#d8576b"
             ],
             [
              0.6666666666666666,
              "#ed7953"
             ],
             [
              0.7777777777777778,
              "#fb9f3a"
             ],
             [
              0.8888888888888888,
              "#fdca26"
             ],
             [
              1,
              "#f0f921"
             ]
            ],
            "type": "heatmap"
           }
          ],
          "heatmapgl": [
           {
            "colorbar": {
             "outlinewidth": 0,
             "ticks": ""
            },
            "colorscale": [
             [
              0,
              "#0d0887"
             ],
             [
              0.1111111111111111,
              "#46039f"
             ],
             [
              0.2222222222222222,
              "#7201a8"
             ],
             [
              0.3333333333333333,
              "#9c179e"
             ],
             [
              0.4444444444444444,
              "#bd3786"
             ],
             [
              0.5555555555555556,
              "#d8576b"
             ],
             [
              0.6666666666666666,
              "#ed7953"
             ],
             [
              0.7777777777777778,
              "#fb9f3a"
             ],
             [
              0.8888888888888888,
              "#fdca26"
             ],
             [
              1,
              "#f0f921"
             ]
            ],
            "type": "heatmapgl"
           }
          ],
          "histogram": [
           {
            "marker": {
             "colorbar": {
              "outlinewidth": 0,
              "ticks": ""
             }
            },
            "type": "histogram"
           }
          ],
          "histogram2d": [
           {
            "colorbar": {
             "outlinewidth": 0,
             "ticks": ""
            },
            "colorscale": [
             [
              0,
              "#0d0887"
             ],
             [
              0.1111111111111111,
              "#46039f"
             ],
             [
              0.2222222222222222,
              "#7201a8"
             ],
             [
              0.3333333333333333,
              "#9c179e"
             ],
             [
              0.4444444444444444,
              "#bd3786"
             ],
             [
              0.5555555555555556,
              "#d8576b"
             ],
             [
              0.6666666666666666,
              "#ed7953"
             ],
             [
              0.7777777777777778,
              "#fb9f3a"
             ],
             [
              0.8888888888888888,
              "#fdca26"
             ],
             [
              1,
              "#f0f921"
             ]
            ],
            "type": "histogram2d"
           }
          ],
          "histogram2dcontour": [
           {
            "colorbar": {
             "outlinewidth": 0,
             "ticks": ""
            },
            "colorscale": [
             [
              0,
              "#0d0887"
             ],
             [
              0.1111111111111111,
              "#46039f"
             ],
             [
              0.2222222222222222,
              "#7201a8"
             ],
             [
              0.3333333333333333,
              "#9c179e"
             ],
             [
              0.4444444444444444,
              "#bd3786"
             ],
             [
              0.5555555555555556,
              "#d8576b"
             ],
             [
              0.6666666666666666,
              "#ed7953"
             ],
             [
              0.7777777777777778,
              "#fb9f3a"
             ],
             [
              0.8888888888888888,
              "#fdca26"
             ],
             [
              1,
              "#f0f921"
             ]
            ],
            "type": "histogram2dcontour"
           }
          ],
          "mesh3d": [
           {
            "colorbar": {
             "outlinewidth": 0,
             "ticks": ""
            },
            "type": "mesh3d"
           }
          ],
          "parcoords": [
           {
            "line": {
             "colorbar": {
              "outlinewidth": 0,
              "ticks": ""
             }
            },
            "type": "parcoords"
           }
          ],
          "pie": [
           {
            "automargin": true,
            "type": "pie"
           }
          ],
          "scatter": [
           {
            "marker": {
             "colorbar": {
              "outlinewidth": 0,
              "ticks": ""
             }
            },
            "type": "scatter"
           }
          ],
          "scatter3d": [
           {
            "line": {
             "colorbar": {
              "outlinewidth": 0,
              "ticks": ""
             }
            },
            "marker": {
             "colorbar": {
              "outlinewidth": 0,
              "ticks": ""
             }
            },
            "type": "scatter3d"
           }
          ],
          "scattercarpet": [
           {
            "marker": {
             "colorbar": {
              "outlinewidth": 0,
              "ticks": ""
             }
            },
            "type": "scattercarpet"
           }
          ],
          "scattergeo": [
           {
            "marker": {
             "colorbar": {
              "outlinewidth": 0,
              "ticks": ""
             }
            },
            "type": "scattergeo"
           }
          ],
          "scattergl": [
           {
            "marker": {
             "colorbar": {
              "outlinewidth": 0,
              "ticks": ""
             }
            },
            "type": "scattergl"
           }
          ],
          "scattermapbox": [
           {
            "marker": {
             "colorbar": {
              "outlinewidth": 0,
              "ticks": ""
             }
            },
            "type": "scattermapbox"
           }
          ],
          "scatterpolar": [
           {
            "marker": {
             "colorbar": {
              "outlinewidth": 0,
              "ticks": ""
             }
            },
            "type": "scatterpolar"
           }
          ],
          "scatterpolargl": [
           {
            "marker": {
             "colorbar": {
              "outlinewidth": 0,
              "ticks": ""
             }
            },
            "type": "scatterpolargl"
           }
          ],
          "scatterternary": [
           {
            "marker": {
             "colorbar": {
              "outlinewidth": 0,
              "ticks": ""
             }
            },
            "type": "scatterternary"
           }
          ],
          "surface": [
           {
            "colorbar": {
             "outlinewidth": 0,
             "ticks": ""
            },
            "colorscale": [
             [
              0,
              "#0d0887"
             ],
             [
              0.1111111111111111,
              "#46039f"
             ],
             [
              0.2222222222222222,
              "#7201a8"
             ],
             [
              0.3333333333333333,
              "#9c179e"
             ],
             [
              0.4444444444444444,
              "#bd3786"
             ],
             [
              0.5555555555555556,
              "#d8576b"
             ],
             [
              0.6666666666666666,
              "#ed7953"
             ],
             [
              0.7777777777777778,
              "#fb9f3a"
             ],
             [
              0.8888888888888888,
              "#fdca26"
             ],
             [
              1,
              "#f0f921"
             ]
            ],
            "type": "surface"
           }
          ],
          "table": [
           {
            "cells": {
             "fill": {
              "color": "#EBF0F8"
             },
             "line": {
              "color": "white"
             }
            },
            "header": {
             "fill": {
              "color": "#C8D4E3"
             },
             "line": {
              "color": "white"
             }
            },
            "type": "table"
           }
          ]
         },
         "layout": {
          "annotationdefaults": {
           "arrowcolor": "#2a3f5f",
           "arrowhead": 0,
           "arrowwidth": 1
          },
          "autotypenumbers": "strict",
          "coloraxis": {
           "colorbar": {
            "outlinewidth": 0,
            "ticks": ""
           }
          },
          "colorscale": {
           "diverging": [
            [
             0,
             "#8e0152"
            ],
            [
             0.1,
             "#c51b7d"
            ],
            [
             0.2,
             "#de77ae"
            ],
            [
             0.3,
             "#f1b6da"
            ],
            [
             0.4,
             "#fde0ef"
            ],
            [
             0.5,
             "#f7f7f7"
            ],
            [
             0.6,
             "#e6f5d0"
            ],
            [
             0.7,
             "#b8e186"
            ],
            [
             0.8,
             "#7fbc41"
            ],
            [
             0.9,
             "#4d9221"
            ],
            [
             1,
             "#276419"
            ]
           ],
           "sequential": [
            [
             0,
             "#0d0887"
            ],
            [
             0.1111111111111111,
             "#46039f"
            ],
            [
             0.2222222222222222,
             "#7201a8"
            ],
            [
             0.3333333333333333,
             "#9c179e"
            ],
            [
             0.4444444444444444,
             "#bd3786"
            ],
            [
             0.5555555555555556,
             "#d8576b"
            ],
            [
             0.6666666666666666,
             "#ed7953"
            ],
            [
             0.7777777777777778,
             "#fb9f3a"
            ],
            [
             0.8888888888888888,
             "#fdca26"
            ],
            [
             1,
             "#f0f921"
            ]
           ],
           "sequentialminus": [
            [
             0,
             "#0d0887"
            ],
            [
             0.1111111111111111,
             "#46039f"
            ],
            [
             0.2222222222222222,
             "#7201a8"
            ],
            [
             0.3333333333333333,
             "#9c179e"
            ],
            [
             0.4444444444444444,
             "#bd3786"
            ],
            [
             0.5555555555555556,
             "#d8576b"
            ],
            [
             0.6666666666666666,
             "#ed7953"
            ],
            [
             0.7777777777777778,
             "#fb9f3a"
            ],
            [
             0.8888888888888888,
             "#fdca26"
            ],
            [
             1,
             "#f0f921"
            ]
           ]
          },
          "colorway": [
           "#636efa",
           "#EF553B",
           "#00cc96",
           "#ab63fa",
           "#FFA15A",
           "#19d3f3",
           "#FF6692",
           "#B6E880",
           "#FF97FF",
           "#FECB52"
          ],
          "font": {
           "color": "#2a3f5f"
          },
          "geo": {
           "bgcolor": "white",
           "lakecolor": "white",
           "landcolor": "#E5ECF6",
           "showlakes": true,
           "showland": true,
           "subunitcolor": "white"
          },
          "hoverlabel": {
           "align": "left"
          },
          "hovermode": "closest",
          "mapbox": {
           "style": "light"
          },
          "paper_bgcolor": "white",
          "plot_bgcolor": "#E5ECF6",
          "polar": {
           "angularaxis": {
            "gridcolor": "white",
            "linecolor": "white",
            "ticks": ""
           },
           "bgcolor": "#E5ECF6",
           "radialaxis": {
            "gridcolor": "white",
            "linecolor": "white",
            "ticks": ""
           }
          },
          "scene": {
           "xaxis": {
            "backgroundcolor": "#E5ECF6",
            "gridcolor": "white",
            "gridwidth": 2,
            "linecolor": "white",
            "showbackground": true,
            "ticks": "",
            "zerolinecolor": "white"
           },
           "yaxis": {
            "backgroundcolor": "#E5ECF6",
            "gridcolor": "white",
            "gridwidth": 2,
            "linecolor": "white",
            "showbackground": true,
            "ticks": "",
            "zerolinecolor": "white"
           },
           "zaxis": {
            "backgroundcolor": "#E5ECF6",
            "gridcolor": "white",
            "gridwidth": 2,
            "linecolor": "white",
            "showbackground": true,
            "ticks": "",
            "zerolinecolor": "white"
           }
          },
          "shapedefaults": {
           "line": {
            "color": "#2a3f5f"
           }
          },
          "ternary": {
           "aaxis": {
            "gridcolor": "white",
            "linecolor": "white",
            "ticks": ""
           },
           "baxis": {
            "gridcolor": "white",
            "linecolor": "white",
            "ticks": ""
           },
           "bgcolor": "#E5ECF6",
           "caxis": {
            "gridcolor": "white",
            "linecolor": "white",
            "ticks": ""
           }
          },
          "title": {
           "x": 0.05
          },
          "xaxis": {
           "automargin": true,
           "gridcolor": "white",
           "linecolor": "white",
           "ticks": "",
           "title": {
            "standoff": 15
           },
           "zerolinecolor": "white",
           "zerolinewidth": 2
          },
          "yaxis": {
           "automargin": true,
           "gridcolor": "white",
           "linecolor": "white",
           "ticks": "",
           "title": {
            "standoff": 15
           },
           "zerolinecolor": "white",
           "zerolinewidth": 2
          }
         }
        }
       }
      }
     },
     "metadata": {}
    }
   ],
   "source": [
    "fig = go.Figure([go.Bar(x=xrr, y=yrr)])\n",
    "fig.show()"
   ]
  },
  {
   "cell_type": "code",
   "execution_count": null,
   "metadata": {},
   "outputs": [],
   "source": []
  }
 ]
}