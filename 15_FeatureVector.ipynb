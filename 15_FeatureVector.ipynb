{
 "metadata": {
  "language_info": {
   "codemirror_mode": {
    "name": "ipython",
    "version": 3
   },
   "file_extension": ".py",
   "mimetype": "text/x-python",
   "name": "python",
   "nbconvert_exporter": "python",
   "pygments_lexer": "ipython3",
   "version": "3.7.9"
  },
  "orig_nbformat": 2,
  "kernelspec": {
   "name": "python379jvsc74a57bd06e81d77af03ce5c2f322ee28133a80996b3da90d809d78ecf9dd16de6b5482d3",
   "display_name": "Python 3.7.9 64-bit ('ml': conda)"
  },
  "metadata": {
   "interpreter": {
    "hash": "916dbcbb3f70747c44a77c7bcd40155683ae19c65e1c03b4aa3499c5328201f1"
   }
  }
 },
 "nbformat": 4,
 "nbformat_minor": 2,
 "cells": [
  {
   "cell_type": "code",
   "execution_count": 2,
   "metadata": {},
   "outputs": [],
   "source": [
    "import os\n",
    "import json\n",
    "import plotly.graph_objects as go\n",
    "from plotly.subplots import make_subplots\n",
    "# import cpi\n",
    "import pymongo\n",
    "from tqdm import tqdm\n",
    "from scipy import stats\n",
    "import math\n",
    "import numpy as np\n",
    "import pandas as pd\n",
    "import json"
   ]
  },
  {
   "cell_type": "code",
   "execution_count": 3,
   "metadata": {},
   "outputs": [],
   "source": [
    "myclient = pymongo.MongoClient(\"mongodb://localhost:27017/\")\n",
    "db = myclient[\"imdb\"]\n",
    "imdb = db['imdb_cleaned']"
   ]
  },
  {
   "cell_type": "code",
   "execution_count": 4,
   "metadata": {},
   "outputs": [
    {
     "output_type": "execute_result",
     "data": {
      "text/plain": [
       "8181"
      ]
     },
     "metadata": {},
     "execution_count": 4
    }
   ],
   "source": [
    "num_movies = imdb.count_documents({})\n",
    "num_movies"
   ]
  },
  {
   "cell_type": "code",
   "execution_count": 5,
   "metadata": {},
   "outputs": [],
   "source": [
    "def getMovie(imdb_id):\n",
    "    for x in imdb.find({'imdb_id': imdb_id}):\n",
    "        return x\n",
    "    return None"
   ]
  },
  {
   "cell_type": "code",
   "execution_count": 17,
   "metadata": {},
   "outputs": [
    {
     "output_type": "execute_result",
     "data": {
      "text/plain": [
       "{'_id': ObjectId('60a6633eef235d48e488a31c'),\n",
       " '@context': 'http://schema.org',\n",
       " '@type': 'Movie',\n",
       " 'url': '/title/tt0371746/',\n",
       " 'name': 'Iron Man',\n",
       " 'image': 'https://m.media-amazon.com/images/M/MV5BMTczNTI2ODUwOF5BMl5BanBnXkFtZTcwMTU0NTIzMw@@._V1_.jpg',\n",
       " 'genre': ['Action', 'Adventure', 'Sci-Fi'],\n",
       " 'contentRating': 'PG-13',\n",
       " 'actor': [{'@type': 'Person',\n",
       "   'url': '/name/nm0000375/',\n",
       "   'name': 'Robert Downey Jr.'},\n",
       "  {'@type': 'Person', 'url': '/name/nm0000569/', 'name': 'Gwyneth Paltrow'},\n",
       "  {'@type': 'Person', 'url': '/name/nm0005024/', 'name': 'Terrence Howard'},\n",
       "  {'@type': 'Person', 'url': '/name/nm0000313/', 'name': 'Jeff Bridges'}],\n",
       " 'director': {'@type': 'Person',\n",
       "  'url': '/name/nm0269463/',\n",
       "  'name': 'Jon Favreau'},\n",
       " 'creator': [{'@type': 'Person',\n",
       "   'url': '/name/nm1318843/',\n",
       "   'name': 'Mark Fergus'},\n",
       "  {'@type': 'Person', 'url': '/name/nm1319757/', 'name': 'Hawk Ostby'},\n",
       "  {'@type': 'Person', 'url': '/name/nm1436466/', 'name': 'Art Marcum'},\n",
       "  {'@type': 'Person', 'url': '/name/nm0391344/', 'name': 'Matt Holloway'},\n",
       "  {'@type': 'Person', 'url': '/name/nm0498278/', 'name': 'Stan Lee'},\n",
       "  {'@type': 'Person', 'url': '/name/nm1411347/', 'name': 'Don Heck'},\n",
       "  {'@type': 'Person', 'url': '/name/nm1293367/', 'name': 'Larry Lieber'},\n",
       "  {'@type': 'Person', 'url': '/name/nm0456158/', 'name': 'Jack Kirby'},\n",
       "  {'@type': 'Organization', 'url': '/company/co0023400/'},\n",
       "  {'@type': 'Organization', 'url': '/company/co0095134/'},\n",
       "  {'@type': 'Organization', 'url': '/company/co0051941/'},\n",
       "  {'@type': 'Organization', 'url': '/company/co0008347/'},\n",
       "  {'@type': 'Organization', 'url': '/company/co0216018/'},\n",
       "  {'@type': 'Organization', 'url': '/company/co0229253/'}],\n",
       " 'description': 'Iron Man is a movie starring Robert Downey Jr., Gwyneth Paltrow, and Terrence Howard. After being held captive in an Afghan cave, billionaire engineer Tony Stark creates a unique weaponized suit of armor to fight evil.',\n",
       " 'datePublished': '2008-04-30',\n",
       " 'keywords': 'billionaire,inventor,robot suit,based on comic,marvel cinematic universe',\n",
       " 'aggregateRating': {'@type': 'AggregateRating',\n",
       "  'ratingCount': 956424,\n",
       "  'bestRating': '10.0',\n",
       "  'worstRating': '1.0',\n",
       "  'ratingValue': '7.9'},\n",
       " 'review': {'@type': 'Review',\n",
       "  'itemReviewed': {'@type': 'CreativeWork', 'url': '/title/tt0371746/'},\n",
       "  'author': {'@type': 'Person', 'name': 'darkmax'},\n",
       "  'dateCreated': '2008-04-30',\n",
       "  'inLanguage': 'English',\n",
       "  'name': 'Not bad at all',\n",
       "  'reviewBody': \"Fortunately, I'm not one easily influenced by some users' negative comments. These people should try to restrain their bias opinions and try to review the movies as neutrally as possible.\\n\\nNow I would say that this movie has slow but steady momentum-building. It is a movie for people who has never known Iron Man in the comic series. The characters are given names and personalities, true to their comic book counterparts.\\n\\nActing was among the best comic-turn movie I have seen so far. Effects were believable and not overwhelmingly CGI, except for the tank scene.\\n\\nThis movie, however, has sequel written all over it. We know that because there are many scenes that could have lead to more.\\n\\nIt's well worth its ticket price.\",\n",
       "  'reviewRating': {'@type': 'Rating',\n",
       "   'worstRating': '1',\n",
       "   'bestRating': '10',\n",
       "   'ratingValue': '9'}},\n",
       " 'duration': 'PT2H6M',\n",
       " 'trailer': {'@type': 'VideoObject',\n",
       "  'name': 'Iron Man',\n",
       "  'embedUrl': '/video/imdb/vi447873305',\n",
       "  'thumbnail': {'@type': 'ImageObject',\n",
       "   'contentUrl': 'https://m.media-amazon.com/images/M/MV5BZGM4ZGJiM2UtMmYyYi00Y2YzLTk5ZWEtN2ZkNzBlYTczZjQwXkEyXkFqcGdeQUlNRGJWaWRlb1RodW1ibmFpbFNlcnZpY2U@._V1_.jpg'},\n",
       "  'thumbnailUrl': 'https://m.media-amazon.com/images/M/MV5BZGM4ZGJiM2UtMmYyYi00Y2YzLTk5ZWEtN2ZkNzBlYTczZjQwXkEyXkFqcGdeQUlNRGJWaWRlb1RodW1ibmFpbFNlcnZpY2U@._V1_.jpg',\n",
       "  'description': 'Iron Man trailer',\n",
       "  'uploadDate': '2007-11-21T18:02:03Z'},\n",
       " 'cast_and_character': [{'actor': {'@type': 'Person',\n",
       "    'url': '/name/nm0000375/?ref_=tt_cl_t1',\n",
       "    'name': 'Robert Downey Jr.'},\n",
       "   'character_and_episodes': [{'url': '/title/tt0371746/characters/nm0000375?ref_=tt_cl_t1',\n",
       "     'name': 'Tony Stark'}]},\n",
       "  {'actor': {'@type': 'Person',\n",
       "    'url': '/name/nm0000313/?ref_=tt_cl_t3',\n",
       "    'name': 'Jeff Bridges'},\n",
       "   'character_and_episodes': [{'url': '/title/tt0371746/characters/nm0000313?ref_=tt_cl_t3',\n",
       "     'name': 'Obadiah Stane'}]},\n",
       "  {'actor': {'@type': 'Person',\n",
       "    'url': '/name/nm0004753/?ref_=tt_cl_t5',\n",
       "    'name': 'Leslie Bibb'},\n",
       "   'character_and_episodes': [{'url': '/title/tt0371746/characters/nm0004753?ref_=tt_cl_t5',\n",
       "     'name': 'Christine Everhart'}]},\n",
       "  {'actor': {'@type': 'Person',\n",
       "    'url': '/name/nm0846687/?ref_=tt_cl_t7',\n",
       "    'name': 'Faran Tahir'},\n",
       "   'character_and_episodes': [{'url': '/title/tt0371746/characters/nm0846687?ref_=tt_cl_t7',\n",
       "     'name': 'Raza'}]},\n",
       "  {'actor': {'@type': 'Person',\n",
       "    'url': '/name/nm0810488/?ref_=tt_cl_t9',\n",
       "    'name': 'Bill Smitrovich'},\n",
       "   'character_and_episodes': [{'url': '/title/tt0371746/characters/nm0810488?ref_=tt_cl_t9',\n",
       "     'name': 'General Gabriel'}]},\n",
       "  {'actor': {'@type': 'Person',\n",
       "    'url': '/name/nm0079273/?ref_=tt_cl_t11',\n",
       "    'name': 'Paul Bettany'},\n",
       "   'character_and_episodes': [{'url': '/title/tt0371746/characters/nm0079273?ref_=tt_cl_t11',\n",
       "     'name': 'JARVIS'}]},\n",
       "  {'actor': {'@type': 'Person',\n",
       "    'url': '/name/nm0082526/?ref_=tt_cl_t13',\n",
       "    'name': 'Peter Billingsley'},\n",
       "   'character_and_episodes': [{'url': '/title/tt0371746/characters/nm0082526?ref_=tt_cl_t13',\n",
       "     'name': 'William Ginter Riva'}]},\n",
       "  {'actor': {'@type': 'Person',\n",
       "    'url': '/name/nm0528164/?ref_=tt_cl_t15',\n",
       "    'name': 'Will Lyman'},\n",
       "   'character_and_episodes': [{'url': '/title/tt0371746/characters/nm0528164?ref_=tt_cl_t15',\n",
       "     'name': 'Award Ceremony Narrator'}]},\n",
       "  {'actor': {'@type': 'Person',\n",
       "    'url': '/name/nm0005024/?ref_=tt_cl_t2',\n",
       "    'name': 'Terrence Howard'},\n",
       "   'character_and_episodes': [{'url': '/title/tt0371746/characters/nm0005024?ref_=tt_cl_t2',\n",
       "     'name': 'Rhodey'}]},\n",
       "  {'actor': {'@type': 'Person',\n",
       "    'url': '/name/nm0000569/?ref_=tt_cl_t4',\n",
       "    'name': 'Gwyneth Paltrow'},\n",
       "   'character_and_episodes': [{'url': '/title/tt0371746/characters/nm0000569?ref_=tt_cl_t4',\n",
       "     'name': 'Pepper Potts'}]},\n",
       "  {'actor': {'@type': 'Person',\n",
       "    'url': '/name/nm0869467/?ref_=tt_cl_t6',\n",
       "    'name': 'Shaun Toub'},\n",
       "   'character_and_episodes': [{'url': '/title/tt0371746/characters/nm0869467?ref_=tt_cl_t6',\n",
       "     'name': 'Yinsen'}]},\n",
       "  {'actor': {'@type': 'Person',\n",
       "    'url': '/name/nm0163988/?ref_=tt_cl_t8',\n",
       "    'name': 'Clark Gregg'},\n",
       "   'character_and_episodes': [{'url': '/title/tt0371746/characters/nm0163988?ref_=tt_cl_t8',\n",
       "     'name': 'Agent Coulson'}]},\n",
       "  {'actor': {'@type': 'Person',\n",
       "    'url': '/name/nm0046223/?ref_=tt_cl_t10',\n",
       "    'name': 'Sayed Badreya'},\n",
       "   'character_and_episodes': [{'url': '/title/tt0371746/characters/nm0046223?ref_=tt_cl_t10',\n",
       "     'name': 'Abu Bakaar'}]},\n",
       "  {'actor': {'@type': 'Person',\n",
       "    'url': '/name/nm0269463/?ref_=tt_cl_t12',\n",
       "    'name': 'Jon Favreau'},\n",
       "   'character_and_episodes': [{'url': '/title/tt0371746/characters/nm0269463?ref_=tt_cl_t12',\n",
       "     'name': 'Hogan'}]},\n",
       "  {'actor': {'@type': 'Person',\n",
       "    'url': '/name/nm0347375/?ref_=tt_cl_t14',\n",
       "    'name': 'Tim Guinee'},\n",
       "   'character_and_episodes': [{'url': '/title/tt0371746/characters/nm0347375?ref_=tt_cl_t14',\n",
       "     'name': 'Major Allen'}]}],\n",
       " 'details': {'Country': ['USA', 'Canada'],\n",
       "  'Language': ['English',\n",
       "   'Persian',\n",
       "   'Urdu',\n",
       "   'Arabic',\n",
       "   'Kurdish',\n",
       "   'Hindi',\n",
       "   'Hungarian'],\n",
       "  'Release Date': ['2 May 2008 (USA)'],\n",
       "  'Also Known As': ['Ironman'],\n",
       "  'Filming Locations': ['Palmdale Regional Airport, Palmdale, California, USA'],\n",
       "  'Budget': ['$140,000,000', '(estimated)'],\n",
       "  'Opening Weekend USA': ['$98,618,668,', '4 May 2008'],\n",
       "  'Gross USA': ['$319,034,126'],\n",
       "  'Cumulative Worldwide Gross': ['$585,796,247'],\n",
       "  'Production Co': ['Paramount Pictures',\n",
       "   'Marvel Enterprises',\n",
       "   'Marvel Studios'],\n",
       "  'Runtime': ['126 min'],\n",
       "  'Sound Mix': ['SDDS', 'Dolby Digital', 'DTS', 'Dolby Atmos'],\n",
       "  'Aspect Ratio': ['2.39 : 1']},\n",
       " 'imdb_id': 'tt0371746',\n",
       " 'cleaned_month': 'May',\n",
       " 'cleaned_year': '2008',\n",
       " 'cleaned_contentRating': 'PG-13',\n",
       " 'cleaned_Runtime_min': 126,\n",
       " 'cleaned_Budget': 168290920,\n",
       " 'cleaned_Revenue': 704172781}"
      ]
     },
     "metadata": {},
     "execution_count": 17
    }
   ],
   "source": [
    "# test_movie = getMovie('tt0371746') # \n",
    "test_movie = getMovie('tt0371746')\n",
    "test_movie"
   ]
  },
  {
   "cell_type": "code",
   "execution_count": 18,
   "metadata": {},
   "outputs": [],
   "source": [
    "def getInformation(movie):\n",
    "    year                = movie['cleaned_year']\n",
    "    rating              = movie['aggregateRating']['ratingValue']\n",
    "    num_rating_givers   = movie['aggregateRating']['ratingCount']\n",
    "    revenue             = movie['cleaned_Revenue']\n",
    "    budget              = movie['cleaned_Budget']\n",
    "    # opening_weekend     = movie['details']['Opening Weekend USA'][0]\n",
    "    # return year, float(rating), int(num_rating_givers), revenue, budget\n",
    "    return {\n",
    "        'movie_id'  : movie['imdb_id'],\n",
    "        'year'      : int(year),\n",
    "        'rating'    : float(rating),\n",
    "        'num_raters': int(num_rating_givers),\n",
    "        'revenue'   : revenue,\n",
    "        'budget'    : budget\n",
    "    }"
   ]
  },
  {
   "cell_type": "code",
   "execution_count": 19,
   "metadata": {},
   "outputs": [
    {
     "output_type": "execute_result",
     "data": {
      "text/plain": [
       "{'movie_id': 'tt0371746',\n",
       " 'year': 2008,\n",
       " 'rating': 7.9,\n",
       " 'num_raters': 956424,\n",
       " 'revenue': 704172781,\n",
       " 'budget': 168290920}"
      ]
     },
     "metadata": {},
     "execution_count": 19
    }
   ],
   "source": [
    "getInformation(test_movie)"
   ]
  },
  {
   "cell_type": "code",
   "execution_count": 20,
   "metadata": {},
   "outputs": [],
   "source": [
    "month_track = {\n",
    "        'January': (1, 57402403.634036146),\n",
    "        'February': (2, 74235592.49102773),\n",
    "        'March': (3, 82181438.64876632),\n",
    "        'April': (4, 59965216.39048991),\n",
    "        'May': (5, 156523313.91325694),\n",
    "        'June': (6, 170183081.491654),\n",
    "        'July': (7, 152447106.1206349),\n",
    "        'August': (8, 68545242.55675675),\n",
    "        'September': (9, 49954451.7446198),\n",
    "        'October': (10, 60086038.029336736),\n",
    "        'November': (11, 130818934.29671897),\n",
    "        'December': (12, 163332990.71816882)\n",
    "    }"
   ]
  },
  {
   "cell_type": "code",
   "execution_count": 31,
   "metadata": {},
   "outputs": [
    {
     "output_type": "execute_result",
     "data": {
      "text/plain": [
       "23"
      ]
     },
     "metadata": {},
     "execution_count": 31
    }
   ],
   "source": [
    "genre_track = {\n",
    "        'Action': (0, 169388692.13589364),\n",
    "        'Adventure': (1, 255502542.74965325),\n",
    "        'Sci-Fi': (2, 205304741.40341514),\n",
    "        'Comedy': (3, 98024501.8939987),\n",
    "        'Fantasy': (4, 200222315.72959185),\n",
    "        'Drama': (5, 67705931.90470776),\n",
    "        'Mystery': (6, 86606633.73725055),\n",
    "        'Thriller': (7, 90004692.5918124),\n",
    "        'Romance': (8, 80306682.65585168),\n",
    "        'Crime': (9, 70616080.00800985),\n",
    "        'Horror': (10, 58328445.15274949),\n",
    "        'Family': (11, 202603250.5475331),\n",
    "        'Animation': (12, 253666143.74559194),\n",
    "        'Musical': (13, 192324158.4041451),\n",
    "        'Music': (14, 77118085.2032258),\n",
    "        'Biography': (15, 63399900.22803738),\n",
    "        'Western': (16, 93041041.61764705),\n",
    "        'Sport': (17, 71139162.43728814),\n",
    "        'War': (18, 81059365.2005814),\n",
    "        'History': (19, 66552163.24931507),\n",
    "        'Documentary': (20, 15596859.45508982),\n",
    "        'News': (21, 12874080.0),\n",
    "        'Short': (22, 740558.0)\n",
    "    }\n",
    "genre_features = {}\n",
    "with open('SavedFeatures/genre_features.json', 'r') as f:\n",
    "    genre_features = json.load(f)\n",
    "len(genre_features.keys())"
   ]
  },
  {
   "cell_type": "code",
   "execution_count": 74,
   "metadata": {},
   "outputs": [
    {
     "output_type": "execute_result",
     "data": {
      "text/plain": [
       "57064"
      ]
     },
     "metadata": {},
     "execution_count": 74
    }
   ],
   "source": [
    "star_features = {}\n",
    "with open('SavedFeatures/star_features.json', 'r') as f:\n",
    "    star_features = json.load(f)\n",
    "len(star_features.keys())"
   ]
  },
  {
   "cell_type": "code",
   "execution_count": 76,
   "metadata": {},
   "outputs": [
    {
     "output_type": "execute_result",
     "data": {
      "text/plain": [
       "4078"
      ]
     },
     "metadata": {},
     "execution_count": 76
    }
   ],
   "source": [
    "director_features = {}\n",
    "with open('SavedFeatures/director_features.json', 'r') as f:\n",
    "    director_features = json.load(f)\n",
    "len(director_features.keys())"
   ]
  },
  {
   "cell_type": "code",
   "execution_count": 78,
   "metadata": {},
   "outputs": [
    {
     "output_type": "execute_result",
     "data": {
      "text/plain": [
       "7422"
      ]
     },
     "metadata": {},
     "execution_count": 78
    }
   ],
   "source": [
    "prod_features = {}\n",
    "with open('SavedFeatures/prod_co_features.json', 'r') as f:\n",
    "    prod_features = json.load(f)\n",
    "len(prod_features.keys())"
   ]
  },
  {
   "cell_type": "code",
   "execution_count": 143,
   "metadata": {},
   "outputs": [
    {
     "output_type": "execute_result",
     "data": {
      "text/plain": [
       "21666"
      ]
     },
     "metadata": {},
     "execution_count": 143
    }
   ],
   "source": [
    "creator_features = {}\n",
    "with open('SavedFeatures/creator_features.json', 'r') as f:\n",
    "    creator_features = json.load(f)\n",
    "len(creator_features.keys())"
   ]
  },
  {
   "cell_type": "code",
   "execution_count": 57,
   "metadata": {},
   "outputs": [],
   "source": [
    "def getValues(st_year, nd_year, entity):\n",
    "    info = {}\n",
    "    info['total_revenue'] = 0\n",
    "    info['total_budget'] = 0\n",
    "    info['num_movies'] = 0\n",
    "    info['num_raters'] = 0\n",
    "    info['sum_rating'] = 0\n",
    "    for year in range(st_year, nd_year+1):\n",
    "        year = str(year)\n",
    "        info['total_revenue']   += entity['year-wise-performance'][year]['sum_revenue']\n",
    "        info['total_budget']    += entity['year-wise-performance'][year]['sum_budget']\n",
    "        info['num_movies']      += entity['year-wise-performance'][year]['num_movies']\n",
    "        info['num_raters']      += entity['year-wise-performance'][year]['num_raters']\n",
    "        info['sum_rating']      += entity['year-wise-performance'][year]['sum_rating']\n",
    "    return info"
   ]
  },
  {
   "cell_type": "code",
   "execution_count": 58,
   "metadata": {},
   "outputs": [],
   "source": [
    "def getValuesBefore(entity_id, year, dictionary):\n",
    "    return getValues(1967, year-1, dictionary[entity_id])"
   ]
  },
  {
   "cell_type": "code",
   "execution_count": 59,
   "metadata": {},
   "outputs": [
    {
     "output_type": "execute_result",
     "data": {
      "text/plain": [
       "{'total_revenue': 153972358202,\n",
       " 'total_budget': 59622506498,\n",
       " 'num_movies': 992,\n",
       " 'num_raters': 101879326,\n",
       " 'sum_rating': 6066.6}"
      ]
     },
     "metadata": {},
     "execution_count": 59
    }
   ],
   "source": [
    "getValuesBefore('Action', 2007, genre_features)"
   ]
  },
  {
   "cell_type": "code",
   "execution_count": 146,
   "metadata": {},
   "outputs": [
    {
     "output_type": "execute_result",
     "data": {
      "text/plain": [
       "(30,\n",
       " [169388692.13589364,\n",
       "  1048,\n",
       "  111126976,\n",
       "  164993501728,\n",
       "  106037.19083969465,\n",
       "  157436547.45038167,\n",
       "  255502542.74965325,\n",
       "  761,\n",
       "  94382434,\n",
       "  161879199656,\n",
       "  124024.22339027595,\n",
       "  212719053.42444152,\n",
       "  205304741.40341514,\n",
       "  508,\n",
       "  63094864,\n",
       "  79559120917,\n",
       "  124202.48818897638,\n",
       "  156612442.75,\n",
       "  0,\n",
       "  0,\n",
       "  0,\n",
       "  0,\n",
       "  0,\n",
       "  0,\n",
       "  0,\n",
       "  0,\n",
       "  0,\n",
       "  0,\n",
       "  0,\n",
       "  0])"
      ]
     },
     "metadata": {},
     "execution_count": 146
    }
   ],
   "source": [
    "def getGenreVector(movie):\n",
    "    # genre\n",
    "    limit = 5\n",
    "    vector = []\n",
    "    genre = movie['genre']\n",
    "    year = movie['cleaned_year']\n",
    "    if(type(genre) is not list):\n",
    "        genre = [genre]\n",
    "    cnt = 0\n",
    "    for g in genre:\n",
    "        vector.append(genre_track[g][1])\n",
    "        info = getValuesBefore(g, int(year), genre_features)\n",
    "        vector.append(info['num_movies'])\n",
    "        vector.append(info['num_raters'])\n",
    "        vector.append(info['total_revenue'])\n",
    "        if(info['num_movies'] != 0):\n",
    "            vector.append(info['num_raters']/info['num_movies'])\n",
    "            vector.append(info['total_revenue']/info['num_movies'])\n",
    "        else:\n",
    "            vector.append(0)\n",
    "            vector.append(0)\n",
    "\n",
    "        cnt += 1\n",
    "        if(cnt == limit):\n",
    "            break\n",
    "\n",
    "    while(len(vector) < limit*6):\n",
    "        vector.append(0)\n",
    "    return vector\n",
    "\n",
    "tst = getGenreVector(test_movie)\n",
    "len(tst), tst"
   ]
  },
  {
   "cell_type": "code",
   "execution_count": 147,
   "metadata": {},
   "outputs": [],
   "source": [
    "def getEntityID(entity):\n",
    "    # print(entity)\n",
    "    id = entity['url'].split('?')[0].split('/')[-2]\n",
    "    return id"
   ]
  },
  {
   "cell_type": "code",
   "execution_count": 151,
   "metadata": {},
   "outputs": [
    {
     "output_type": "execute_result",
     "data": {
      "text/plain": [
       "(60,\n",
       " [32,\n",
       "  1831093,\n",
       "  1684379189,\n",
       "  57221.65625,\n",
       "  6.271874999999999,\n",
       "  52636849.65625,\n",
       "  32,\n",
       "  1761620,\n",
       "  1960190448,\n",
       "  55050.625,\n",
       "  6.640625,\n",
       "  61255951.5,\n",
       "  4,\n",
       "  263857,\n",
       "  349566015,\n",
       "  65964.25,\n",
       "  6.250000000000001,\n",
       "  87391503.75,\n",
       "  2,\n",
       "  33674,\n",
       "  112207008,\n",
       "  16837.0,\n",
       "  6.1,\n",
       "  56103504.0,\n",
       "  6,\n",
       "  129954,\n",
       "  85611449,\n",
       "  21659.0,\n",
       "  5.8500000000000005,\n",
       "  14268574.833333334,\n",
       "  7,\n",
       "  1851799,\n",
       "  1981163805,\n",
       "  264542.71428571426,\n",
       "  7.142857142857144,\n",
       "  283023400.71428573,\n",
       "  2,\n",
       "  134640,\n",
       "  59376678,\n",
       "  67320.0,\n",
       "  6.550000000000001,\n",
       "  29688339.0,\n",
       "  1,\n",
       "  80446,\n",
       "  203299006,\n",
       "  80446.0,\n",
       "  6.5,\n",
       "  203299006.0,\n",
       "  18,\n",
       "  876637,\n",
       "  1250786359,\n",
       "  48702.055555555555,\n",
       "  6.199999999999999,\n",
       "  69488131.05555555,\n",
       "  21,\n",
       "  2604833,\n",
       "  1774427577,\n",
       "  124039.66666666667,\n",
       "  6.457142857142857,\n",
       "  84496551.28571428])"
      ]
     },
     "metadata": {},
     "execution_count": 151
    }
   ],
   "source": [
    "def getStarVector(movie, printLog=False):\n",
    "    # genre\n",
    "    limit = 10\n",
    "    vector = []\n",
    "    year = movie['cleaned_year']\n",
    "\n",
    "    cast_ensamble = movie['cast_and_character']\n",
    "    if(type(cast_ensamble) is not list):\n",
    "        if(printLog == True):\n",
    "            print(movie['imdb_id'], cast_ensamble)\n",
    "    else:\n",
    "        cnt = 0\n",
    "        for cast in cast_ensamble:\n",
    "            star = cast['actor']\n",
    "            star_id = getEntityID(star)\n",
    "            info = getValuesBefore(star_id, int(year), star_features)\n",
    "            # print(star['name'],info)\n",
    "\n",
    "            vector.append(info['num_movies'])\n",
    "            vector.append(info['num_raters'])\n",
    "            vector.append(info['total_revenue'])\n",
    "            if(info['num_movies'] != 0):\n",
    "                vector.append(info['num_raters']/info['num_movies'])\n",
    "                vector.append(info['sum_rating']/info['num_movies'])\n",
    "                vector.append(info['total_revenue']/info['num_movies'])\n",
    "            else:\n",
    "                vector.append(0)\n",
    "                vector.append(0)\n",
    "                vector.append(0)\n",
    "            # vector.append(-1)\n",
    "\n",
    "            cnt += 1\n",
    "            if(cnt == limit):\n",
    "                break\n",
    "\n",
    "    while(len(vector) < limit*6):\n",
    "        vector.append(0)\n",
    "    return vector\n",
    "\n",
    "tst = getStarVector(test_movie)\n",
    "len(tst), tst"
   ]
  },
  {
   "cell_type": "code",
   "execution_count": 152,
   "metadata": {},
   "outputs": [
    {
     "output_type": "execute_result",
     "data": {
      "text/plain": [
       "(18,\n",
       " [3,\n",
       "  346564,\n",
       "  409120505,\n",
       "  115521.33333333333,\n",
       "  6.533333333333334,\n",
       "  136373501.66666666,\n",
       "  0,\n",
       "  0,\n",
       "  0,\n",
       "  0,\n",
       "  0,\n",
       "  0,\n",
       "  0,\n",
       "  0,\n",
       "  0,\n",
       "  0,\n",
       "  0,\n",
       "  0])"
      ]
     },
     "metadata": {},
     "execution_count": 152
    }
   ],
   "source": [
    "def getDirectorVector(movie, printLog=False):\n",
    "    # genre\n",
    "    limit = 3\n",
    "    vector = []\n",
    "    year = movie['cleaned_year']\n",
    "\n",
    "    directors = movie['director']\n",
    "    if(type(directors) is not list):\n",
    "        directors = [directors]\n",
    "    # print(directors)\n",
    "    \n",
    "    cnt = 0\n",
    "    for dr in directors:\n",
    "        dr_id = getEntityID(dr)\n",
    "        info = getValuesBefore(dr_id, int(year), director_features)\n",
    "        # print(dr['name'],info)\n",
    "        vector.append(info['num_movies'])\n",
    "        vector.append(info['num_raters'])\n",
    "        vector.append(info['total_revenue'])\n",
    "        if(info['num_movies'] != 0):\n",
    "            vector.append(info['num_raters']/info['num_movies'])\n",
    "            vector.append(info['sum_rating']/info['num_movies'])\n",
    "            vector.append(info['total_revenue']/info['num_movies'])\n",
    "        else:\n",
    "            vector.append(0)\n",
    "            vector.append(0)\n",
    "            vector.append(0)\n",
    "        # vector.append(-1)\n",
    "        cnt += 1\n",
    "        if(cnt == limit):\n",
    "            break\n",
    "\n",
    "    while(len(vector) < limit*6):\n",
    "        vector.append(0)\n",
    "    return vector\n",
    "\n",
    "tst = getDirectorVector(test_movie)\n",
    "len(tst), tst"
   ]
  },
  {
   "cell_type": "code",
   "execution_count": 157,
   "metadata": {},
   "outputs": [
    {
     "output_type": "execute_result",
     "data": {
      "text/plain": [
       "(30,\n",
       " [2,\n",
       "  478039,\n",
       "  88832890,\n",
       "  239019.5,\n",
       "  7.050000000000001,\n",
       "  44416445.0,\n",
       "  2,\n",
       "  478039,\n",
       "  88832890,\n",
       "  239019.5,\n",
       "  7.050000000000001,\n",
       "  44416445.0,\n",
       "  0,\n",
       "  0,\n",
       "  0,\n",
       "  0,\n",
       "  0,\n",
       "  0,\n",
       "  0,\n",
       "  0,\n",
       "  0,\n",
       "  0,\n",
       "  0,\n",
       "  0,\n",
       "  6,\n",
       "  2577885,\n",
       "  4548904821,\n",
       "  429647.5,\n",
       "  6.283333333333334,\n",
       "  758150803.5])"
      ]
     },
     "metadata": {},
     "execution_count": 157
    }
   ],
   "source": [
    "def getCreatorVector(movie, printLog=False):\n",
    "    # genre\n",
    "    limit = 5\n",
    "    vector = []\n",
    "    year = movie['cleaned_year']\n",
    "\n",
    "    # creator\n",
    "    if('creator' not in movie):\n",
    "        if(printLog == True):\n",
    "            print(movie['imdb_id'], 'error loading creator information')\n",
    "    else:\n",
    "        creators = movie['creator']\n",
    "        if(type(creators) is not list):\n",
    "            creators = [creators]\n",
    "    \n",
    "        cnt = 0\n",
    "        for cr in creators:\n",
    "            dr_id = getEntityID(cr)\n",
    "            info = getValuesBefore(dr_id, int(year), creator_features)\n",
    "            # print(cr,info)\n",
    "            vector.append(info['num_movies'])\n",
    "            vector.append(info['num_raters'])\n",
    "            vector.append(info['total_revenue'])\n",
    "            if(info['num_movies'] != 0):\n",
    "                vector.append(info['num_raters']/info['num_movies'])\n",
    "                vector.append(info['sum_rating']/info['num_movies'])\n",
    "                vector.append(info['total_revenue']/info['num_movies'])\n",
    "            else:\n",
    "                vector.append(0)\n",
    "                vector.append(0)\n",
    "                vector.append(0)\n",
    "            # vector.append(-1)\n",
    "            cnt += 1\n",
    "            if(cnt == limit):\n",
    "                break\n",
    "\n",
    "    while(len(vector) < limit*6):\n",
    "        vector.append(0)\n",
    "    return vector\n",
    "\n",
    "tst = getCreatorVector(test_movie)\n",
    "len(tst), tst"
   ]
  },
  {
   "cell_type": "code",
   "execution_count": 172,
   "metadata": {},
   "outputs": [
    {
     "output_type": "execute_result",
     "data": {
      "text/plain": [
       "(30,\n",
       " [294,\n",
       "  31916135,\n",
       "  53247754417,\n",
       "  108558.28231292516,\n",
       "  6.392517006802722,\n",
       "  181114810.94217688,\n",
       "  13,\n",
       "  4305562,\n",
       "  5500158143,\n",
       "  331197.07692307694,\n",
       "  6.276923076923078,\n",
       "  423089087.9230769,\n",
       "  2,\n",
       "  759710,\n",
       "  1494004981,\n",
       "  379855.0,\n",
       "  5.9,\n",
       "  747002490.5,\n",
       "  0,\n",
       "  0,\n",
       "  0,\n",
       "  0,\n",
       "  0,\n",
       "  0,\n",
       "  0,\n",
       "  0,\n",
       "  0,\n",
       "  0,\n",
       "  0,\n",
       "  0])"
      ]
     },
     "metadata": {},
     "execution_count": 172
    }
   ],
   "source": [
    "def getProdVector(movie, printLog=False):\n",
    "    # genre\n",
    "    limit = 5\n",
    "    vector = []\n",
    "    year = movie['cleaned_year']\n",
    "\n",
    "    if('Production Co' not in movie['details']):\n",
    "        if(printLog == True):\n",
    "            print(movie['imdb_id'], cast_ensamble)\n",
    "    else:\n",
    "        prod_arr = movie['details']['Production Co']\n",
    "        if(type(prod_arr) is not list):\n",
    "            prod_arr = [prod_arr]\n",
    "        \n",
    "        cnt = 0\n",
    "        for pr in prod_arr:\n",
    "            pr_id = pr\n",
    "            info = getValuesBefore(pr_id, int(year), prod_features)\n",
    "            # print(pr,info)\n",
    "            vector.append(info['num_movies'])\n",
    "            vector.append(info['num_raters'])\n",
    "            vector.append(info['total_revenue'])\n",
    "\n",
    "            if(info['num_movies'] != 0):\n",
    "                vector.append(info['num_raters']/info['num_movies'])\n",
    "                vector.append(info['sum_rating']/info['num_movies'])\n",
    "                vector.append(info['total_revenue']/info['num_movies'])\n",
    "            else:\n",
    "                vector.append(0)\n",
    "                vector.append(0)\n",
    "                vector.append(0)\n",
    "            # vector.append(-1)\n",
    "            cnt += 1\n",
    "            if(cnt == limit):\n",
    "                break\n",
    "\n",
    "    while(len(vector) < limit*6):\n",
    "        vector.append(0)\n",
    "    return vector\n",
    "\n",
    "tst = getProdVector(test_movie)\n",
    "len(tst), tst"
   ]
  },
  {
   "cell_type": "code",
   "execution_count": 173,
   "metadata": {},
   "outputs": [],
   "source": [
    "mpaa_track = {'PG': 0, 'R': 1, 'TV': 2, 'G': 3, 'Unrated': 4, 'Others': 5}\n",
    "clusters = {\n",
    "    'PG'        : ['PG-13', 'PG'],\n",
    "    'R'         : ['R', 'NC-17'],\n",
    "    'Others'    : [\"Approved\", \"X\", \"M\", \"M/PG\", \"GP\", \"Passed\", \"Passed\"],\n",
    "    'TV'        : [\"TV-MA\", \"TV-PG\", \"TV-14\", \"TV-Y7\", \"TV-G\"],\n",
    "    'Unrated'   : [\"Unrated\", \"Not Rated\"] \n",
    "}\n",
    "\n",
    "def getCluster(key):\n",
    "    for cluster in clusters:\n",
    "        if(key in clusters[cluster]):\n",
    "            return cluster\n",
    "    return key\n",
    "\n",
    "def getMPAAonehot(movie):\n",
    "    mpaa = movie['contentRating']\n",
    "    vec = [0]*len(list(mpaa_track.keys()))\n",
    "    vec[mpaa_track[getCluster(mpaa)]] = 1\n",
    "    return vec"
   ]
  },
  {
   "cell_type": "code",
   "execution_count": 174,
   "metadata": {},
   "outputs": [
    {
     "output_type": "execute_result",
     "data": {
      "text/plain": [
       "[1, 0, 0, 0, 0, 0]"
      ]
     },
     "metadata": {},
     "execution_count": 174
    }
   ],
   "source": [
    "getMPAAonehot(test_movie)"
   ]
  },
  {
   "cell_type": "code",
   "execution_count": 175,
   "metadata": {},
   "outputs": [],
   "source": [
    "def getFeatureVector(movie, printLog=False):\n",
    "    budget = movie['cleaned_Budget']\n",
    "    month = movie['cleaned_month']\n",
    "    month_idx, month_avg_rev = month_track[month]\n",
    "    runtime = movie['cleaned_Runtime_min']\n",
    "    genre_vector = getGenreVector(movie)\n",
    "    mpaa_onehot = getMPAAonehot(movie)\n",
    "    star_features = getStarVector(movie)\n",
    "    director = getDirectorVector(movie)\n",
    "    creator = getCreatorVector(movie)\n",
    "    prod = getProdVector(movie)\n",
    "\n",
    "    feature_vector = [budget, month_idx, month_avg_rev, runtime] + genre_vector + mpaa_onehot + star_features + director + creator + prod\n",
    "    \n",
    "    return feature_vector"
   ]
  },
  {
   "cell_type": "code",
   "execution_count": 176,
   "metadata": {},
   "outputs": [
    {
     "output_type": "execute_result",
     "data": {
      "text/plain": [
       "178"
      ]
     },
     "metadata": {},
     "execution_count": 176
    }
   ],
   "source": [
    "len(getFeatureVector(test_movie))"
   ]
  },
  {
   "cell_type": "code",
   "execution_count": 177,
   "metadata": {},
   "outputs": [],
   "source": [
    "xy = []\n",
    "\n",
    "for movie in imdb.find():\n",
    "    feature_vector = getFeatureVector(movie)\n",
    "    target = movie['cleaned_Revenue']\n",
    "    xy.append({\n",
    "        'feature'   : feature_vector,\n",
    "        'target'    : target \n",
    "    })"
   ]
  },
  {
   "cell_type": "code",
   "execution_count": 178,
   "metadata": {},
   "outputs": [],
   "source": [
    "with open('SavedFeatures/final_feature_vector.json', 'w') as f:\n",
    "    json.dump(xy, f)"
   ]
  },
  {
   "cell_type": "code",
   "execution_count": 179,
   "metadata": {},
   "outputs": [
    {
     "output_type": "execute_result",
     "data": {
      "text/plain": [
       "8181"
      ]
     },
     "metadata": {},
     "execution_count": 179
    }
   ],
   "source": [
    "len(xy)"
   ]
  },
  {
   "cell_type": "code",
   "execution_count": null,
   "metadata": {},
   "outputs": [],
   "source": []
  }
 ]
}