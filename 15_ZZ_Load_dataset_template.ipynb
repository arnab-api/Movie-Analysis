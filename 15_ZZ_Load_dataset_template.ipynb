{
 "metadata": {
  "language_info": {
   "codemirror_mode": {
    "name": "ipython",
    "version": 3
   },
   "file_extension": ".py",
   "mimetype": "text/x-python",
   "name": "python",
   "nbconvert_exporter": "python",
   "pygments_lexer": "ipython3",
   "version": "3.7.9"
  },
  "orig_nbformat": 2,
  "kernelspec": {
   "name": "python379jvsc74a57bd06e81d77af03ce5c2f322ee28133a80996b3da90d809d78ecf9dd16de6b5482d3",
   "display_name": "Python 3.7.9 64-bit ('ml': conda)"
  }
 },
 "nbformat": 4,
 "nbformat_minor": 2,
 "cells": [
  {
   "cell_type": "code",
   "execution_count": 19,
   "metadata": {},
   "outputs": [],
   "source": [
    "import json\n",
    "import numpy as np\n",
    "from sklearn.model_selection import train_test_split\n",
    "import matplotlib.pyplot as plt\n",
    "from sklearn import datasets, svm, metrics\n",
    "import copy"
   ]
  },
  {
   "cell_type": "code",
   "execution_count": 2,
   "metadata": {},
   "outputs": [],
   "source": [
    "with open(\"SavedFeatures/final_feature_vector.json\", 'r') as f:\n",
    "    XY = json.load(f)"
   ]
  },
  {
   "cell_type": "code",
   "execution_count": 11,
   "metadata": {},
   "outputs": [
    {
     "output_type": "stream",
     "name": "stdout",
     "text": [
      "--- to 50000000 :: 0\n50000000 to 100000000 :: 1\n100000000 to 150000000 :: 2\n150000000 to 200000000 :: 3\n200000000 to 250000000 :: 4\n250000000 to 300000000 :: 5\n300000000 to +++ :: 6\n"
     ]
    }
   ],
   "source": [
    "step = 50000000\n",
    "lo = 0\n",
    "clss = 0\n",
    "num_classes = 7\n",
    "\n",
    "while(lo < step*(num_classes-1) + 1):\n",
    "    hi = lo + step\n",
    "    lo_txt = lo\n",
    "    hi_txt = hi\n",
    "    if(lo_txt == 0):\n",
    "        lo_txt = '---'\n",
    "    if(lo_txt == step*(num_classes-1)):\n",
    "        hi_txt = '+++'\n",
    "    print('{} to {} :: {}'.format(lo_txt, hi_txt, clss))\n",
    "\n",
    "    clss += 1\n",
    "    lo += step"
   ]
  },
  {
   "cell_type": "code",
   "execution_count": 12,
   "metadata": {},
   "outputs": [
    {
     "output_type": "execute_result",
     "data": {
      "text/plain": [
       "8181"
      ]
     },
     "metadata": {},
     "execution_count": 12
    }
   ],
   "source": [
    "len(XY)"
   ]
  },
  {
   "cell_type": "code",
   "execution_count": 13,
   "metadata": {},
   "outputs": [],
   "source": [
    "def getClass(revenue):\n",
    "    clss = revenue//step\n",
    "    return min(clss, num_classes-1)"
   ]
  },
  {
   "cell_type": "code",
   "execution_count": 14,
   "metadata": {},
   "outputs": [
    {
     "output_type": "execute_result",
     "data": {
      "text/plain": [
       "{0: 5082, 1: 1063, 2: 527, 3: 351, 4: 248, 5: 177, 6: 733}"
      ]
     },
     "metadata": {},
     "execution_count": 14
    }
   ],
   "source": [
    "xrr = []\n",
    "yrr = []\n",
    "frq_dst = {}\n",
    "for i in range(num_classes):\n",
    "    frq_dst[i] = 0\n",
    "\n",
    "for xy in XY:\n",
    "    xrr.append(xy['feature'])\n",
    "    yrr.append(getClass(xy['target']))\n",
    "    frq_dst[getClass(xy['target'])] += 1\n",
    "frq_dst"
   ]
  },
  {
   "source": [
    "# Normalize"
   ],
   "cell_type": "markdown",
   "metadata": {}
  },
  {
   "cell_type": "code",
   "execution_count": 15,
   "metadata": {},
   "outputs": [
    {
     "output_type": "execute_result",
     "data": {
      "text/plain": [
       "178"
      ]
     },
     "metadata": {},
     "execution_count": 15
    }
   ],
   "source": [
    "mxrr = [0]*len(xrr[1])\n",
    "len(mxrr)"
   ]
  },
  {
   "cell_type": "code",
   "execution_count": 16,
   "metadata": {},
   "outputs": [],
   "source": [
    "for feature in xrr:\n",
    "    for i in range(len(feature)):\n",
    "        mxrr[i] = max(mxrr[i], feature[i])"
   ]
  },
  {
   "cell_type": "code",
   "execution_count": 20,
   "metadata": {},
   "outputs": [],
   "source": [
    "mnrr = copy.deepcopy(mxrr)\n",
    "\n",
    "for feature in xrr:\n",
    "    for i in range(len(feature)):\n",
    "        mnrr[i] = min(mnrr[i], feature[i])"
   ]
  },
  {
   "cell_type": "code",
   "execution_count": 21,
   "metadata": {},
   "outputs": [],
   "source": [
    "nxrr = [[0]*len(xrr[0])]*len(xrr)\n",
    "\n",
    "for i in range(len(xrr)):\n",
    "    for j in range(len(xrr[i])):\n",
    "        if(mxrr[j]-mnrr[j] != 0):        \n",
    "            nxrr[i][j]= (xrr[i][j] - mnrr[j]) / (mxrr[j] - mnrr[j])"
   ]
  },
  {
   "cell_type": "code",
   "execution_count": 23,
   "metadata": {},
   "outputs": [
    {
     "output_type": "execute_result",
     "data": {
      "text/plain": [
       "((8181, 178), (8181, 178), (8181,))"
      ]
     },
     "metadata": {},
     "execution_count": 23
    }
   ],
   "source": [
    "xrr = np.array(xrr)\n",
    "nxrr = np.array(nxrr)\n",
    "yrr = np.array(yrr)\n",
    "\n",
    "xrr.shape, nxrr.shape, yrr.shape"
   ]
  },
  {
   "source": [
    "# Train-test split"
   ],
   "cell_type": "markdown",
   "metadata": {}
  },
  {
   "cell_type": "code",
   "execution_count": 1,
   "metadata": {},
   "outputs": [
    {
     "output_type": "error",
     "ename": "NameError",
     "evalue": "name 'train_test_split' is not defined",
     "traceback": [
      "\u001b[0;31m---------------------------------------------------------------------------\u001b[0m",
      "\u001b[0;31mNameError\u001b[0m                                 Traceback (most recent call last)",
      "\u001b[0;32m<ipython-input-1-d4adaf7ace6c>\u001b[0m in \u001b[0;36m<module>\u001b[0;34m\u001b[0m\n\u001b[0;32m----> 1\u001b[0;31m \u001b[0mNX_train\u001b[0m\u001b[0;34m,\u001b[0m \u001b[0mNX_test\u001b[0m\u001b[0;34m,\u001b[0m \u001b[0mny_train\u001b[0m\u001b[0;34m,\u001b[0m \u001b[0mny_test\u001b[0m \u001b[0;34m=\u001b[0m \u001b[0mtrain_test_split\u001b[0m\u001b[0;34m(\u001b[0m\u001b[0mnxrr\u001b[0m\u001b[0;34m,\u001b[0m \u001b[0myrr\u001b[0m\u001b[0;34m,\u001b[0m \u001b[0mtest_size\u001b[0m\u001b[0;34m=\u001b[0m\u001b[0;36m0.30\u001b[0m\u001b[0;34m,\u001b[0m \u001b[0mrandom_state\u001b[0m\u001b[0;34m=\u001b[0m\u001b[0;36m17\u001b[0m\u001b[0;34m)\u001b[0m \u001b[0;31m# normalized\u001b[0m\u001b[0;34m\u001b[0m\u001b[0;34m\u001b[0m\u001b[0m\n\u001b[0m\u001b[1;32m      2\u001b[0m \u001b[0mX_train\u001b[0m\u001b[0;34m,\u001b[0m \u001b[0mX_test\u001b[0m\u001b[0;34m,\u001b[0m \u001b[0my_train\u001b[0m\u001b[0;34m,\u001b[0m \u001b[0my_test\u001b[0m \u001b[0;34m=\u001b[0m \u001b[0mtrain_test_split\u001b[0m\u001b[0;34m(\u001b[0m\u001b[0mxrr\u001b[0m\u001b[0;34m,\u001b[0m \u001b[0myrr\u001b[0m\u001b[0;34m,\u001b[0m \u001b[0mtest_size\u001b[0m\u001b[0;34m=\u001b[0m\u001b[0;36m0.30\u001b[0m\u001b[0;34m,\u001b[0m \u001b[0mrandom_state\u001b[0m\u001b[0;34m=\u001b[0m\u001b[0;36m17\u001b[0m\u001b[0;34m)\u001b[0m \u001b[0;31m# not normalized\u001b[0m\u001b[0;34m\u001b[0m\u001b[0;34m\u001b[0m\u001b[0m\n",
      "\u001b[0;31mNameError\u001b[0m: name 'train_test_split' is not defined"
     ]
    }
   ],
   "source": [
    "NX_train, NX_test, ny_train, ny_test = train_test_split(nxrr, yrr, test_size=0.30, random_state=17) # normalized\n",
    "X_train, X_test, y_train, y_test = train_test_split(xrr, yrr, test_size=0.30, random_state=17) # not normalized"
   ]
  },
  {
   "cell_type": "code",
   "execution_count": null,
   "metadata": {},
   "outputs": [],
   "source": []
  }
 ]
}