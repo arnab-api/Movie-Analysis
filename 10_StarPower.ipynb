{
 "metadata": {
  "language_info": {
   "codemirror_mode": {
    "name": "ipython",
    "version": 3
   },
   "file_extension": ".py",
   "mimetype": "text/x-python",
   "name": "python",
   "nbconvert_exporter": "python",
   "pygments_lexer": "ipython3",
   "version": "3.7.9"
  },
  "orig_nbformat": 2,
  "kernelspec": {
   "name": "python379jvsc74a57bd06e81d77af03ce5c2f322ee28133a80996b3da90d809d78ecf9dd16de6b5482d3",
   "display_name": "Python 3.7.9 64-bit ('ml': conda)"
  },
  "metadata": {
   "interpreter": {
    "hash": "916dbcbb3f70747c44a77c7bcd40155683ae19c65e1c03b4aa3499c5328201f1"
   }
  }
 },
 "nbformat": 4,
 "nbformat_minor": 2,
 "cells": [
  {
   "cell_type": "code",
   "execution_count": 1,
   "metadata": {},
   "outputs": [],
   "source": [
    "import os\n",
    "import json\n",
    "import plotly.graph_objects as go\n",
    "from plotly.subplots import make_subplots\n",
    "# import cpi\n",
    "import pymongo\n",
    "from tqdm import tqdm\n",
    "from scipy import stats\n",
    "import math\n",
    "import numpy as np\n",
    "import pandas as pd\n",
    "import json"
   ]
  },
  {
   "cell_type": "code",
   "execution_count": 2,
   "metadata": {},
   "outputs": [],
   "source": [
    "myclient = pymongo.MongoClient(\"mongodb://localhost:27017/\")\n",
    "db = myclient[\"imdb\"]\n",
    "imdb = db['imdb_cleaned']"
   ]
  },
  {
   "cell_type": "code",
   "execution_count": 3,
   "metadata": {},
   "outputs": [
    {
     "output_type": "execute_result",
     "data": {
      "text/plain": [
       "8181"
      ]
     },
     "metadata": {},
     "execution_count": 3
    }
   ],
   "source": [
    "num_movies = imdb.count_documents({})\n",
    "num_movies"
   ]
  },
  {
   "cell_type": "code",
   "execution_count": 4,
   "metadata": {},
   "outputs": [],
   "source": [
    "def getMovie(imdb_id):\n",
    "    for x in imdb.find({'imdb_id': imdb_id}):\n",
    "        return x\n",
    "    return None"
   ]
  },
  {
   "cell_type": "code",
   "execution_count": 5,
   "metadata": {},
   "outputs": [],
   "source": [
    "star_features = {}\n",
    "with open('SavedFeatures/star_features.json', 'r') as f:\n",
    "    star_features = json.load(f)"
   ]
  },
  {
   "cell_type": "code",
   "execution_count": 6,
   "metadata": {},
   "outputs": [
    {
     "output_type": "execute_result",
     "data": {
      "text/plain": [
       "57064"
      ]
     },
     "metadata": {},
     "execution_count": 6
    }
   ],
   "source": [
    "len(star_features.keys())"
   ]
  },
  {
   "cell_type": "code",
   "execution_count": 7,
   "metadata": {},
   "outputs": [],
   "source": [
    "rdj = star_features['nm0000288']"
   ]
  },
  {
   "cell_type": "code",
   "execution_count": 8,
   "metadata": {},
   "outputs": [
    {
     "output_type": "execute_result",
     "data": {
      "text/plain": [
       "{'@type': 'Person',\n",
       " 'url': '/name/nm0000288/?ref_=tt_cl_t1',\n",
       " 'name': 'Christian Bale',\n",
       " 'year-wise-performance': {'1967': {'num_movies': 0,\n",
       "   'sum_rating': 0,\n",
       "   'sum_revenue': 0,\n",
       "   'sum_budget': 0,\n",
       "   'num_raters': 0},\n",
       "  '1968': {'num_movies': 0,\n",
       "   'sum_rating': 0,\n",
       "   'sum_revenue': 0,\n",
       "   'sum_budget': 0,\n",
       "   'num_raters': 0},\n",
       "  '1969': {'num_movies': 0,\n",
       "   'sum_rating': 0,\n",
       "   'sum_revenue': 0,\n",
       "   'sum_budget': 0,\n",
       "   'num_raters': 0},\n",
       "  '1970': {'num_movies': 0,\n",
       "   'sum_rating': 0,\n",
       "   'sum_revenue': 0,\n",
       "   'sum_budget': 0,\n",
       "   'num_raters': 0},\n",
       "  '1971': {'num_movies': 0,\n",
       "   'sum_rating': 0,\n",
       "   'sum_revenue': 0,\n",
       "   'sum_budget': 0,\n",
       "   'num_raters': 0},\n",
       "  '1972': {'num_movies': 0,\n",
       "   'sum_rating': 0,\n",
       "   'sum_revenue': 0,\n",
       "   'sum_budget': 0,\n",
       "   'num_raters': 0},\n",
       "  '1973': {'num_movies': 0,\n",
       "   'sum_rating': 0,\n",
       "   'sum_revenue': 0,\n",
       "   'sum_budget': 0,\n",
       "   'num_raters': 0},\n",
       "  '1974': {'num_movies': 0,\n",
       "   'sum_rating': 0,\n",
       "   'sum_revenue': 0,\n",
       "   'sum_budget': 0,\n",
       "   'num_raters': 0},\n",
       "  '1975': {'num_movies': 0,\n",
       "   'sum_rating': 0,\n",
       "   'sum_revenue': 0,\n",
       "   'sum_budget': 0,\n",
       "   'num_raters': 0},\n",
       "  '1976': {'num_movies': 0,\n",
       "   'sum_rating': 0,\n",
       "   'sum_revenue': 0,\n",
       "   'sum_budget': 0,\n",
       "   'num_raters': 0},\n",
       "  '1977': {'num_movies': 0,\n",
       "   'sum_rating': 0,\n",
       "   'sum_revenue': 0,\n",
       "   'sum_budget': 0,\n",
       "   'num_raters': 0},\n",
       "  '1978': {'num_movies': 0,\n",
       "   'sum_rating': 0,\n",
       "   'sum_revenue': 0,\n",
       "   'sum_budget': 0,\n",
       "   'num_raters': 0},\n",
       "  '1979': {'num_movies': 0,\n",
       "   'sum_rating': 0,\n",
       "   'sum_revenue': 0,\n",
       "   'sum_budget': 0,\n",
       "   'num_raters': 0},\n",
       "  '1980': {'num_movies': 0,\n",
       "   'sum_rating': 0,\n",
       "   'sum_revenue': 0,\n",
       "   'sum_budget': 0,\n",
       "   'num_raters': 0},\n",
       "  '1981': {'num_movies': 0,\n",
       "   'sum_rating': 0,\n",
       "   'sum_revenue': 0,\n",
       "   'sum_budget': 0,\n",
       "   'num_raters': 0},\n",
       "  '1982': {'num_movies': 0,\n",
       "   'sum_rating': 0,\n",
       "   'sum_revenue': 0,\n",
       "   'sum_budget': 0,\n",
       "   'num_raters': 0},\n",
       "  '1983': {'num_movies': 0,\n",
       "   'sum_rating': 0,\n",
       "   'sum_revenue': 0,\n",
       "   'sum_budget': 0,\n",
       "   'num_raters': 0},\n",
       "  '1984': {'num_movies': 0,\n",
       "   'sum_rating': 0,\n",
       "   'sum_revenue': 0,\n",
       "   'sum_budget': 0,\n",
       "   'num_raters': 0},\n",
       "  '1985': {'num_movies': 0,\n",
       "   'sum_rating': 0,\n",
       "   'sum_revenue': 0,\n",
       "   'sum_budget': 0,\n",
       "   'num_raters': 0},\n",
       "  '1986': {'num_movies': 0,\n",
       "   'sum_rating': 0,\n",
       "   'sum_revenue': 0,\n",
       "   'sum_budget': 0,\n",
       "   'num_raters': 0},\n",
       "  '1987': {'num_movies': 1,\n",
       "   'sum_rating': 7.7,\n",
       "   'sum_revenue': 50665661,\n",
       "   'sum_budget': 79739304,\n",
       "   'num_raters': 117495},\n",
       "  '1988': {'num_movies': 0,\n",
       "   'sum_rating': 0,\n",
       "   'sum_revenue': 0,\n",
       "   'sum_budget': 0,\n",
       "   'num_raters': 0},\n",
       "  '1989': {'num_movies': 0,\n",
       "   'sum_rating': 0,\n",
       "   'sum_revenue': 0,\n",
       "   'sum_budget': 0,\n",
       "   'num_raters': 0},\n",
       "  '1990': {'num_movies': 0,\n",
       "   'sum_rating': 0,\n",
       "   'sum_revenue': 0,\n",
       "   'sum_budget': 0,\n",
       "   'num_raters': 0},\n",
       "  '1991': {'num_movies': 0,\n",
       "   'sum_rating': 0,\n",
       "   'sum_revenue': 0,\n",
       "   'sum_budget': 0,\n",
       "   'num_raters': 0},\n",
       "  '1992': {'num_movies': 1,\n",
       "   'sum_rating': 7.0,\n",
       "   'sum_revenue': 5201095,\n",
       "   'sum_budget': 27670456,\n",
       "   'num_raters': 19282},\n",
       "  '1993': {'num_movies': 0,\n",
       "   'sum_rating': 0,\n",
       "   'sum_revenue': 0,\n",
       "   'sum_budget': 0,\n",
       "   'num_raters': 0},\n",
       "  '1994': {'num_movies': 1,\n",
       "   'sum_rating': 7.3,\n",
       "   'sum_revenue': 87464175,\n",
       "   'sum_budget': 31434534,\n",
       "   'num_raters': 53369},\n",
       "  '1995': {'num_movies': 1,\n",
       "   'sum_rating': 6.7,\n",
       "   'sum_revenue': 587724751,\n",
       "   'sum_budget': 93402919,\n",
       "   'num_raters': 173231},\n",
       "  '1996': {'num_movies': 1,\n",
       "   'sum_rating': 5.7,\n",
       "   'sum_revenue': 175849,\n",
       "   'sum_budget': 11546698,\n",
       "   'num_raters': 2211},\n",
       "  '1997': {'num_movies': 0,\n",
       "   'sum_rating': 0,\n",
       "   'sum_revenue': 0,\n",
       "   'sum_budget': 0,\n",
       "   'num_raters': 0},\n",
       "  '1998': {'num_movies': 0,\n",
       "   'sum_rating': 0,\n",
       "   'sum_revenue': 0,\n",
       "   'sum_budget': 0,\n",
       "   'num_raters': 0},\n",
       "  '1999': {'num_movies': 1,\n",
       "   'sum_rating': 6.4,\n",
       "   'sum_revenue': 24967633,\n",
       "   'sum_budget': 17088361,\n",
       "   'num_raters': 24606},\n",
       "  '2000': {'num_movies': 2,\n",
       "   'sum_rating': 13.5,\n",
       "   'sum_revenue': 213260096,\n",
       "   'sum_budget': 79657276,\n",
       "   'num_raters': 578853},\n",
       "  '2001': {'num_movies': 1,\n",
       "   'sum_rating': 5.9,\n",
       "   'sum_revenue': 90770753,\n",
       "   'sum_budget': 83298853,\n",
       "   'num_raters': 33192},\n",
       "  '2002': {'num_movies': 2,\n",
       "   'sum_rating': 13.600000000000001,\n",
       "   'sum_revenue': 125907306,\n",
       "   'sum_budget': 115091049,\n",
       "   'num_raters': 441511},\n",
       "  '2003': {'num_movies': 0,\n",
       "   'sum_rating': 0,\n",
       "   'sum_revenue': 0,\n",
       "   'sum_budget': 0,\n",
       "   'num_raters': 0},\n",
       "  '2004': {'num_movies': 1,\n",
       "   'sum_rating': 7.7,\n",
       "   'sum_revenue': 11239213,\n",
       "   'sum_budget': 6850476,\n",
       "   'num_raters': 362988},\n",
       "  '2005': {'num_movies': 2,\n",
       "   'sum_rating': 16.4,\n",
       "   'sum_revenue': 808206445,\n",
       "   'sum_budget': 230584300,\n",
       "   'num_raters': 1672865},\n",
       "  '2006': {'num_movies': 3,\n",
       "   'sum_rating': 22.1,\n",
       "   'sum_revenue': 211799821,\n",
       "   'sum_budget': 92432498,\n",
       "   'num_raters': 1359116},\n",
       "  '2007': {'num_movies': 3,\n",
       "   'sum_rating': 21.900000000000002,\n",
       "   'sum_revenue': 111075087,\n",
       "   'sum_budget': 106099751,\n",
       "   'num_raters': 451489},\n",
       "  '2008': {'num_movies': 1,\n",
       "   'sum_rating': 9.0,\n",
       "   'sum_revenue': 1209258788,\n",
       "   'sum_budget': 222384430,\n",
       "   'num_raters': 2348542},\n",
       "  '2009': {'num_movies': 2,\n",
       "   'sum_rating': 13.5,\n",
       "   'sum_revenue': 706278507,\n",
       "   'sum_budget': 361910998,\n",
       "   'num_raters': 631405},\n",
       "  '2010': {'num_movies': 1,\n",
       "   'sum_rating': 7.8,\n",
       "   'sum_revenue': 153336840,\n",
       "   'sum_budget': 29672538,\n",
       "   'num_raters': 345039},\n",
       "  '2011': {'num_movies': 1,\n",
       "   'sum_rating': 7.6,\n",
       "   'sum_revenue': 3285655,\n",
       "   'sum_budget': 108154806,\n",
       "   'num_raters': 50248},\n",
       "  '2012': {'num_movies': 1,\n",
       "   'sum_rating': 8.4,\n",
       "   'sum_revenue': 1218723488,\n",
       "   'sum_budget': 281813766,\n",
       "   'num_raters': 1541123},\n",
       "  '2013': {'num_movies': 2,\n",
       "   'sum_rating': 14.0,\n",
       "   'sum_revenue': 296447022,\n",
       "   'sum_budget': 68880874,\n",
       "   'num_raters': 562937},\n",
       "  '2014': {'num_movies': 1,\n",
       "   'sum_rating': 6.0,\n",
       "   'sum_revenue': 293182292,\n",
       "   'sum_budget': 153054626,\n",
       "   'num_raters': 161081},\n",
       "  '2015': {'num_movies': 1,\n",
       "   'sum_rating': 7.8,\n",
       "   'sum_revenue': 145710919,\n",
       "   'sum_budget': 30574633,\n",
       "   'num_raters': 374644},\n",
       "  '2016': {'num_movies': 0,\n",
       "   'sum_rating': 0,\n",
       "   'sum_revenue': 0,\n",
       "   'sum_budget': 0,\n",
       "   'num_raters': 0},\n",
       "  '2017': {'num_movies': 1,\n",
       "   'sum_rating': 6.4,\n",
       "   'sum_revenue': 13143987,\n",
       "   'sum_budget': 95026884,\n",
       "   'num_raters': 173489},\n",
       "  '2018': {'num_movies': 2,\n",
       "   'sum_rating': 14.4,\n",
       "   'sum_revenue': 115170780,\n",
       "   'sum_budget': 102037333,\n",
       "   'num_raters': 201883},\n",
       "  '2019': {'num_movies': 1,\n",
       "   'sum_rating': 8.1,\n",
       "   'sum_revenue': 228290269,\n",
       "   'sum_budget': 98804075,\n",
       "   'num_raters': 310471},\n",
       "  '2020': {'num_movies': 0,\n",
       "   'sum_rating': 0,\n",
       "   'sum_revenue': 0,\n",
       "   'sum_budget': 0,\n",
       "   'num_raters': 0}},\n",
       " 'movie_arr': ['tt0468569',\n",
       "  'tt1345836',\n",
       "  'tt0144084',\n",
       "  'tt0482571',\n",
       "  'tt0372784',\n",
       "  'tt6266538',\n",
       "  'tt1950186',\n",
       "  'tt1596363',\n",
       "  'tt0381849',\n",
       "  'tt0347149',\n",
       "  'tt1800241',\n",
       "  'tt0092965',\n",
       "  'tt5478478',\n",
       "  'tt0253556',\n",
       "  'tt0361862',\n",
       "  'tt0964517',\n",
       "  'tt1206543',\n",
       "  'tt1152836',\n",
       "  'tt1528100',\n",
       "  'tt0110367',\n",
       "  'tt0238380',\n",
       "  'tt0438488',\n",
       "  'tt0114148',\n",
       "  'tt0104990',\n",
       "  'tt0402399',\n",
       "  'tt4776998',\n",
       "  'tt0368794',\n",
       "  'tt0162650',\n",
       "  'tt0462504',\n",
       "  'tt0433387',\n",
       "  'tt0140379',\n",
       "  'tt1410063',\n",
       "  'tt0238112',\n",
       "  'tt0117582'],\n",
       " 'total_movies': 34,\n",
       " 'total_rating': 244.90000000000003,\n",
       " 'total_raters': 11991070,\n",
       " 'total_revenue': 6711286432,\n",
       " 'total_budget': 2527211438}"
      ]
     },
     "metadata": {},
     "execution_count": 8
    }
   ],
   "source": [
    "rdj"
   ]
  },
  {
   "cell_type": "code",
   "execution_count": 9,
   "metadata": {},
   "outputs": [
    {
     "output_type": "execute_result",
     "data": {
      "text/plain": [
       "1987"
      ]
     },
     "metadata": {},
     "execution_count": 9
    }
   ],
   "source": [
    "rolling_year = 5\n",
    "present = 2020\n",
    "first_movie_year = 1967\n",
    "\n",
    "for year in rdj['year-wise-performance']:\n",
    "    if(rdj['year-wise-performance'][year]['num_movies'] != 0):\n",
    "        first_movie_year = int(year)\n",
    "        break\n",
    "first_movie_year"
   ]
  },
  {
   "cell_type": "code",
   "execution_count": 119,
   "metadata": {},
   "outputs": [],
   "source": [
    "def getValues(st_year, nd_year, entity):\n",
    "    info = {}\n",
    "    info['total_revenue'] = 0\n",
    "    info['total_budget'] = 0\n",
    "    info['num_movies'] = 0\n",
    "    info['num_raters'] = 0\n",
    "    for year in range(st_year, nd_year+1):\n",
    "        year = str(year)\n",
    "        info['total_revenue']   += entity['year-wise-performance'][year]['sum_revenue']\n",
    "        info['total_budget']    += entity['year-wise-performance'][year]['sum_budget']\n",
    "        info['num_movies']      += entity['year-wise-performance'][year]['num_movies']\n",
    "        info['num_raters']      += entity['year-wise-performance'][year]['num_raters']\n",
    "    return info"
   ]
  },
  {
   "cell_type": "code",
   "execution_count": 120,
   "metadata": {},
   "outputs": [
    {
     "output_type": "execute_result",
     "data": {
      "text/plain": [
       "{'total_revenue': 6711286432,\n",
       " 'total_budget': 2527211438,\n",
       " 'num_movies': 34,\n",
       " 'num_raters': 11991070}"
      ]
     },
     "metadata": {},
     "execution_count": 120
    }
   ],
   "source": [
    "getValues(first_movie_year, present, rdj)"
   ]
  },
  {
   "cell_type": "code",
   "execution_count": 12,
   "metadata": {},
   "outputs": [],
   "source": [
    "year_label = []\n",
    "revenue_arr = []\n",
    "budget_arr = []\n",
    "num_movie_arr = []\n",
    "\n",
    "for year in range(first_movie_year+rolling_year-1, present):\n",
    "    st_year = year - rolling_year + 1\n",
    "    nd_year = year\n",
    "    info = getValues(st_year, nd_year, rdj)\n",
    "    year_label.append('{} - {}'.format(st_year, nd_year))\n",
    "\n",
    "    if(info['num_movies'] != 0):\n",
    "        revenue_arr.append(info['total_revenue']/info['num_movies'])\n",
    "        budget_arr.append(info['total_budget']/info['num_movies'])\n",
    "        num_movie_arr.append(info['num_movies'])\n",
    "    else:\n",
    "        revenue_arr.append(0)\n",
    "        budget_arr.append(0)\n",
    "        num_movie_arr.append(0) "
   ]
  },
  {
   "cell_type": "code",
   "execution_count": 13,
   "metadata": {},
   "outputs": [],
   "source": [
    "def plotFigure(xrr, yrr, zrr):\n",
    "    fig = make_subplots()\n",
    "    fig.add_trace(\n",
    "        go.Scatter(\n",
    "            x=xrr, \n",
    "            y=yrr, \n",
    "            name=\"Revenue\",\n",
    "            mode='lines+markers',\n",
    "            line_color='rgba(102, 0, 204, .8)'\n",
    "        ),\n",
    "    )\n",
    "    \n",
    "    fig.add_trace(\n",
    "        go.Scatter(\n",
    "            x=xrr, \n",
    "            y=zrr, \n",
    "            name=\"Budget\",\n",
    "            mode='lines+markers',\n",
    "            line_color='rgba(153, 0, 51, .8)'\n",
    "        ),\n",
    "    )\n",
    "    return fig"
   ]
  },
  {
   "cell_type": "code",
   "execution_count": 14,
   "metadata": {},
   "outputs": [
    {
     "output_type": "display_data",
     "data": {
      "application/vnd.plotly.v1+json": {
       "config": {
        "plotlyServerURL": "https://plot.ly"
       },
       "data": [
        {
         "line": {
          "color": "rgba(102, 0, 204, .8)"
         },
         "mode": "lines+markers",
         "name": "Revenue",
         "type": "scatter",
         "x": [
          "1987 - 1991",
          "1988 - 1992",
          "1989 - 1993",
          "1990 - 1994",
          "1991 - 1995",
          "1992 - 1996",
          "1993 - 1997",
          "1994 - 1998",
          "1995 - 1999",
          "1996 - 2000",
          "1997 - 2001",
          "1998 - 2002",
          "1999 - 2003",
          "2000 - 2004",
          "2001 - 2005",
          "2002 - 2006",
          "2003 - 2007",
          "2004 - 2008",
          "2005 - 2009",
          "2006 - 2010",
          "2007 - 2011",
          "2008 - 2012",
          "2009 - 2013",
          "2010 - 2014",
          "2011 - 2015",
          "2012 - 2016",
          "2013 - 2017",
          "2014 - 2018",
          "2015 - 2019"
         ],
         "y": [
          50665661,
          5201095,
          5201095,
          46332635,
          226796673.66666666,
          170141467.5,
          225121591.66666666,
          225121591.66666666,
          204289411,
          59600894.5,
          82249620.5,
          75817631.33333333,
          75817631.33333333,
          73529561.33333333,
          172687286.16666666,
          144644098.125,
          126924507.33333333,
          235157935.4,
          276965331.6363636,
          239174904.3,
          272904359.625,
          548480546.3333334,
          339724501.71428573,
          327495882.8333333,
          326224896,
          390812744.2,
          149696844,
          113441595.6,
          100463191
         ]
        },
        {
         "line": {
          "color": "rgba(153, 0, 51, .8)"
         },
         "mode": "lines+markers",
         "name": "Budget",
         "type": "scatter",
         "x": [
          "1987 - 1991",
          "1988 - 1992",
          "1989 - 1993",
          "1990 - 1994",
          "1991 - 1995",
          "1992 - 1996",
          "1993 - 1997",
          "1994 - 1998",
          "1995 - 1999",
          "1996 - 2000",
          "1997 - 2001",
          "1998 - 2002",
          "1999 - 2003",
          "2000 - 2004",
          "2001 - 2005",
          "2002 - 2006",
          "2003 - 2007",
          "2004 - 2008",
          "2005 - 2009",
          "2006 - 2010",
          "2007 - 2011",
          "2008 - 2012",
          "2009 - 2013",
          "2010 - 2014",
          "2011 - 2015",
          "2012 - 2016",
          "2013 - 2017",
          "2014 - 2018",
          "2015 - 2019"
         ],
         "y": [
          79739304,
          27670456,
          27670456,
          29552495,
          50835969.666666664,
          41013651.75,
          45461383.666666664,
          45461383.666666664,
          40679326,
          27073083.75,
          45011122.5,
          49189256.5,
          49189256.5,
          47482942.333333336,
          72637446.33333333,
          55619790.375,
          48440780.55555555,
          65835145.5,
          92128361.54545455,
          81250021.5,
          103527815.375,
          167322756.33333334,
          121490426,
          106929435,
          107079784.16666667,
          106864779.8,
          69507403.4,
          76138695.2,
          65288585
         ]
        }
       ],
       "layout": {
        "template": {
         "data": {
          "bar": [
           {
            "error_x": {
             "color": "#2a3f5f"
            },
            "error_y": {
             "color": "#2a3f5f"
            },
            "marker": {
             "line": {
              "color": "#E5ECF6",
              "width": 0.5
             }
            },
            "type": "bar"
           }
          ],
          "barpolar": [
           {
            "marker": {
             "line": {
              "color": "#E5ECF6",
              "width": 0.5
             }
            },
            "type": "barpolar"
           }
          ],
          "carpet": [
           {
            "aaxis": {
             "endlinecolor": "#2a3f5f",
             "gridcolor": "white",
             "linecolor": "white",
             "minorgridcolor": "white",
             "startlinecolor": "#2a3f5f"
            },
            "baxis": {
             "endlinecolor": "#2a3f5f",
             "gridcolor": "white",
             "linecolor": "white",
             "minorgridcolor": "white",
             "startlinecolor": "#2a3f5f"
            },
            "type": "carpet"
           }
          ],
          "choropleth": [
           {
            "colorbar": {
             "outlinewidth": 0,
             "ticks": ""
            },
            "type": "choropleth"
           }
          ],
          "contour": [
           {
            "colorbar": {
             "outlinewidth": 0,
             "ticks": ""
            },
            "colorscale": [
             [
              0,
              "#0d0887"
             ],
             [
              0.1111111111111111,
              "#46039f"
             ],
             [
              0.2222222222222222,
              "#7201a8"
             ],
             [
              0.3333333333333333,
              "#9c179e"
             ],
             [
              0.4444444444444444,
              "#bd3786"
             ],
             [
              0.5555555555555556,
              "#d8576b"
             ],
             [
              0.6666666666666666,
              "#ed7953"
             ],
             [
              0.7777777777777778,
              "#fb9f3a"
             ],
             [
              0.8888888888888888,
              "#fdca26"
             ],
             [
              1,
              "#f0f921"
             ]
            ],
            "type": "contour"
           }
          ],
          "contourcarpet": [
           {
            "colorbar": {
             "outlinewidth": 0,
             "ticks": ""
            },
            "type": "contourcarpet"
           }
          ],
          "heatmap": [
           {
            "colorbar": {
             "outlinewidth": 0,
             "ticks": ""
            },
            "colorscale": [
             [
              0,
              "#0d0887"
             ],
             [
              0.1111111111111111,
              "#46039f"
             ],
             [
              0.2222222222222222,
              "#7201a8"
             ],
             [
              0.3333333333333333,
              "#9c179e"
             ],
             [
              0.4444444444444444,
              "#bd3786"
             ],
             [
              0.5555555555555556,
              "#d8576b"
             ],
             [
              0.6666666666666666,
              "#ed7953"
             ],
             [
              0.7777777777777778,
              "#fb9f3a"
             ],
             [
              0.8888888888888888,
              "#fdca26"
             ],
             [
              1,
              "#f0f921"
             ]
            ],
            "type": "heatmap"
           }
          ],
          "heatmapgl": [
           {
            "colorbar": {
             "outlinewidth": 0,
             "ticks": ""
            },
            "colorscale": [
             [
              0,
              "#0d0887"
             ],
             [
              0.1111111111111111,
              "#46039f"
             ],
             [
              0.2222222222222222,
              "#7201a8"
             ],
             [
              0.3333333333333333,
              "#9c179e"
             ],
             [
              0.4444444444444444,
              "#bd3786"
             ],
             [
              0.5555555555555556,
              "#d8576b"
             ],
             [
              0.6666666666666666,
              "#ed7953"
             ],
             [
              0.7777777777777778,
              "#fb9f3a"
             ],
             [
              0.8888888888888888,
              "#fdca26"
             ],
             [
              1,
              "#f0f921"
             ]
            ],
            "type": "heatmapgl"
           }
          ],
          "histogram": [
           {
            "marker": {
             "colorbar": {
              "outlinewidth": 0,
              "ticks": ""
             }
            },
            "type": "histogram"
           }
          ],
          "histogram2d": [
           {
            "colorbar": {
             "outlinewidth": 0,
             "ticks": ""
            },
            "colorscale": [
             [
              0,
              "#0d0887"
             ],
             [
              0.1111111111111111,
              "#46039f"
             ],
             [
              0.2222222222222222,
              "#7201a8"
             ],
             [
              0.3333333333333333,
              "#9c179e"
             ],
             [
              0.4444444444444444,
              "#bd3786"
             ],
             [
              0.5555555555555556,
              "#d8576b"
             ],
             [
              0.6666666666666666,
              "#ed7953"
             ],
             [
              0.7777777777777778,
              "#fb9f3a"
             ],
             [
              0.8888888888888888,
              "#fdca26"
             ],
             [
              1,
              "#f0f921"
             ]
            ],
            "type": "histogram2d"
           }
          ],
          "histogram2dcontour": [
           {
            "colorbar": {
             "outlinewidth": 0,
             "ticks": ""
            },
            "colorscale": [
             [
              0,
              "#0d0887"
             ],
             [
              0.1111111111111111,
              "#46039f"
             ],
             [
              0.2222222222222222,
              "#7201a8"
             ],
             [
              0.3333333333333333,
              "#9c179e"
             ],
             [
              0.4444444444444444,
              "#bd3786"
             ],
             [
              0.5555555555555556,
              "#d8576b"
             ],
             [
              0.6666666666666666,
              "#ed7953"
             ],
             [
              0.7777777777777778,
              "#fb9f3a"
             ],
             [
              0.8888888888888888,
              "#fdca26"
             ],
             [
              1,
              "#f0f921"
             ]
            ],
            "type": "histogram2dcontour"
           }
          ],
          "mesh3d": [
           {
            "colorbar": {
             "outlinewidth": 0,
             "ticks": ""
            },
            "type": "mesh3d"
           }
          ],
          "parcoords": [
           {
            "line": {
             "colorbar": {
              "outlinewidth": 0,
              "ticks": ""
             }
            },
            "type": "parcoords"
           }
          ],
          "pie": [
           {
            "automargin": true,
            "type": "pie"
           }
          ],
          "scatter": [
           {
            "marker": {
             "colorbar": {
              "outlinewidth": 0,
              "ticks": ""
             }
            },
            "type": "scatter"
           }
          ],
          "scatter3d": [
           {
            "line": {
             "colorbar": {
              "outlinewidth": 0,
              "ticks": ""
             }
            },
            "marker": {
             "colorbar": {
              "outlinewidth": 0,
              "ticks": ""
             }
            },
            "type": "scatter3d"
           }
          ],
          "scattercarpet": [
           {
            "marker": {
             "colorbar": {
              "outlinewidth": 0,
              "ticks": ""
             }
            },
            "type": "scattercarpet"
           }
          ],
          "scattergeo": [
           {
            "marker": {
             "colorbar": {
              "outlinewidth": 0,
              "ticks": ""
             }
            },
            "type": "scattergeo"
           }
          ],
          "scattergl": [
           {
            "marker": {
             "colorbar": {
              "outlinewidth": 0,
              "ticks": ""
             }
            },
            "type": "scattergl"
           }
          ],
          "scattermapbox": [
           {
            "marker": {
             "colorbar": {
              "outlinewidth": 0,
              "ticks": ""
             }
            },
            "type": "scattermapbox"
           }
          ],
          "scatterpolar": [
           {
            "marker": {
             "colorbar": {
              "outlinewidth": 0,
              "ticks": ""
             }
            },
            "type": "scatterpolar"
           }
          ],
          "scatterpolargl": [
           {
            "marker": {
             "colorbar": {
              "outlinewidth": 0,
              "ticks": ""
             }
            },
            "type": "scatterpolargl"
           }
          ],
          "scatterternary": [
           {
            "marker": {
             "colorbar": {
              "outlinewidth": 0,
              "ticks": ""
             }
            },
            "type": "scatterternary"
           }
          ],
          "surface": [
           {
            "colorbar": {
             "outlinewidth": 0,
             "ticks": ""
            },
            "colorscale": [
             [
              0,
              "#0d0887"
             ],
             [
              0.1111111111111111,
              "#46039f"
             ],
             [
              0.2222222222222222,
              "#7201a8"
             ],
             [
              0.3333333333333333,
              "#9c179e"
             ],
             [
              0.4444444444444444,
              "#bd3786"
             ],
             [
              0.5555555555555556,
              "#d8576b"
             ],
             [
              0.6666666666666666,
              "#ed7953"
             ],
             [
              0.7777777777777778,
              "#fb9f3a"
             ],
             [
              0.8888888888888888,
              "#fdca26"
             ],
             [
              1,
              "#f0f921"
             ]
            ],
            "type": "surface"
           }
          ],
          "table": [
           {
            "cells": {
             "fill": {
              "color": "#EBF0F8"
             },
             "line": {
              "color": "white"
             }
            },
            "header": {
             "fill": {
              "color": "#C8D4E3"
             },
             "line": {
              "color": "white"
             }
            },
            "type": "table"
           }
          ]
         },
         "layout": {
          "annotationdefaults": {
           "arrowcolor": "#2a3f5f",
           "arrowhead": 0,
           "arrowwidth": 1
          },
          "autotypenumbers": "strict",
          "coloraxis": {
           "colorbar": {
            "outlinewidth": 0,
            "ticks": ""
           }
          },
          "colorscale": {
           "diverging": [
            [
             0,
             "#8e0152"
            ],
            [
             0.1,
             "#c51b7d"
            ],
            [
             0.2,
             "#de77ae"
            ],
            [
             0.3,
             "#f1b6da"
            ],
            [
             0.4,
             "#fde0ef"
            ],
            [
             0.5,
             "#f7f7f7"
            ],
            [
             0.6,
             "#e6f5d0"
            ],
            [
             0.7,
             "#b8e186"
            ],
            [
             0.8,
             "#7fbc41"
            ],
            [
             0.9,
             "#4d9221"
            ],
            [
             1,
             "#276419"
            ]
           ],
           "sequential": [
            [
             0,
             "#0d0887"
            ],
            [
             0.1111111111111111,
             "#46039f"
            ],
            [
             0.2222222222222222,
             "#7201a8"
            ],
            [
             0.3333333333333333,
             "#9c179e"
            ],
            [
             0.4444444444444444,
             "#bd3786"
            ],
            [
             0.5555555555555556,
             "#d8576b"
            ],
            [
             0.6666666666666666,
             "#ed7953"
            ],
            [
             0.7777777777777778,
             "#fb9f3a"
            ],
            [
             0.8888888888888888,
             "#fdca26"
            ],
            [
             1,
             "#f0f921"
            ]
           ],
           "sequentialminus": [
            [
             0,
             "#0d0887"
            ],
            [
             0.1111111111111111,
             "#46039f"
            ],
            [
             0.2222222222222222,
             "#7201a8"
            ],
            [
             0.3333333333333333,
             "#9c179e"
            ],
            [
             0.4444444444444444,
             "#bd3786"
            ],
            [
             0.5555555555555556,
             "#d8576b"
            ],
            [
             0.6666666666666666,
             "#ed7953"
            ],
            [
             0.7777777777777778,
             "#fb9f3a"
            ],
            [
             0.8888888888888888,
             "#fdca26"
            ],
            [
             1,
             "#f0f921"
            ]
           ]
          },
          "colorway": [
           "#636efa",
           "#EF553B",
           "#00cc96",
           "#ab63fa",
           "#FFA15A",
           "#19d3f3",
           "#FF6692",
           "#B6E880",
           "#FF97FF",
           "#FECB52"
          ],
          "font": {
           "color": "#2a3f5f"
          },
          "geo": {
           "bgcolor": "white",
           "lakecolor": "white",
           "landcolor": "#E5ECF6",
           "showlakes": true,
           "showland": true,
           "subunitcolor": "white"
          },
          "hoverlabel": {
           "align": "left"
          },
          "hovermode": "closest",
          "mapbox": {
           "style": "light"
          },
          "paper_bgcolor": "white",
          "plot_bgcolor": "#E5ECF6",
          "polar": {
           "angularaxis": {
            "gridcolor": "white",
            "linecolor": "white",
            "ticks": ""
           },
           "bgcolor": "#E5ECF6",
           "radialaxis": {
            "gridcolor": "white",
            "linecolor": "white",
            "ticks": ""
           }
          },
          "scene": {
           "xaxis": {
            "backgroundcolor": "#E5ECF6",
            "gridcolor": "white",
            "gridwidth": 2,
            "linecolor": "white",
            "showbackground": true,
            "ticks": "",
            "zerolinecolor": "white"
           },
           "yaxis": {
            "backgroundcolor": "#E5ECF6",
            "gridcolor": "white",
            "gridwidth": 2,
            "linecolor": "white",
            "showbackground": true,
            "ticks": "",
            "zerolinecolor": "white"
           },
           "zaxis": {
            "backgroundcolor": "#E5ECF6",
            "gridcolor": "white",
            "gridwidth": 2,
            "linecolor": "white",
            "showbackground": true,
            "ticks": "",
            "zerolinecolor": "white"
           }
          },
          "shapedefaults": {
           "line": {
            "color": "#2a3f5f"
           }
          },
          "ternary": {
           "aaxis": {
            "gridcolor": "white",
            "linecolor": "white",
            "ticks": ""
           },
           "baxis": {
            "gridcolor": "white",
            "linecolor": "white",
            "ticks": ""
           },
           "bgcolor": "#E5ECF6",
           "caxis": {
            "gridcolor": "white",
            "linecolor": "white",
            "ticks": ""
           }
          },
          "title": {
           "x": 0.05
          },
          "xaxis": {
           "automargin": true,
           "gridcolor": "white",
           "linecolor": "white",
           "ticks": "",
           "title": {
            "standoff": 15
           },
           "zerolinecolor": "white",
           "zerolinewidth": 2
          },
          "yaxis": {
           "automargin": true,
           "gridcolor": "white",
           "linecolor": "white",
           "ticks": "",
           "title": {
            "standoff": 15
           },
           "zerolinecolor": "white",
           "zerolinewidth": 2
          }
         }
        },
        "xaxis": {
         "anchor": "y",
         "domain": [
          0,
          1
         ]
        },
        "yaxis": {
         "anchor": "x",
         "domain": [
          0,
          1
         ]
        }
       }
      }
     },
     "metadata": {}
    }
   ],
   "source": [
    "fig = plotFigure(year_label, revenue_arr, budget_arr)\n",
    "fig.show()"
   ]
  },
  {
   "source": [
    "# Star Power -- KS Test"
   ],
   "cell_type": "markdown",
   "metadata": {}
  },
  {
   "cell_type": "code",
   "execution_count": 19,
   "metadata": {},
   "outputs": [],
   "source": [
    "def getEntityID(entity):\n",
    "    # print(entity)\n",
    "    id = entity['url'].split('?')[0].split('/')[-2]\n",
    "    return id"
   ]
  },
  {
   "cell_type": "code",
   "execution_count": 22,
   "metadata": {},
   "outputs": [],
   "source": [
    "def getStarInfo(star_id):\n",
    "    star_info = star_features[star_id]\n",
    "    return star_info['total_movies'], star_info['total_raters']"
   ]
  },
  {
   "cell_type": "code",
   "execution_count": 118,
   "metadata": {},
   "outputs": [],
   "source": [
    "movie = getMovie('tt0371746')\n",
    "# movie"
   ]
  },
  {
   "cell_type": "code",
   "execution_count": 124,
   "metadata": {},
   "outputs": [],
   "source": [
    "def getStarInfoBefore(star_id, year):\n",
    "    return getValues(1967, year-1, star_features[star_id])"
   ]
  },
  {
   "cell_type": "code",
   "execution_count": 122,
   "metadata": {},
   "outputs": [
    {
     "output_type": "execute_result",
     "data": {
      "text/plain": [
       "(50, 11559434)"
      ]
     },
     "metadata": {},
     "execution_count": 122
    }
   ],
   "source": [
    "getStarInfo('nm0000375')"
   ]
  },
  {
   "cell_type": "code",
   "execution_count": 128,
   "metadata": {},
   "outputs": [
    {
     "output_type": "execute_result",
     "data": {
      "text/plain": [
       "{'total_revenue': 1684379189,\n",
       " 'total_budget': 1289423029,\n",
       " 'num_movies': 32,\n",
       " 'num_raters': 1831093}"
      ]
     },
     "metadata": {},
     "execution_count": 128
    }
   ],
   "source": [
    "getStarInfoBefore('nm0000375', 2008)"
   ]
  },
  {
   "cell_type": "code",
   "execution_count": 138,
   "metadata": {},
   "outputs": [],
   "source": [
    "th_num_movie = 20\n",
    "th_avg_raters = 200000\n",
    "\n",
    "def getMovieCriteria(movie, printLog=False):\n",
    "    cast_ensamble = movie['cast_and_character']\n",
    "    if(type(cast_ensamble) is not list):\n",
    "        if(printLog == True):\n",
    "            print(movie['imdb_id'], \"could ont find cast_ensamble\")\n",
    "    else:\n",
    "        for cast in cast_ensamble:\n",
    "            star = cast['actor']\n",
    "            star_id = getEntityID(star)\n",
    "            # num_movie, total_raters = getStarInfo(star_id)\n",
    "            info = getStarInfoBefore(star_id, int(movie['cleaned_year']))\n",
    "            num_movie = info['num_movies']\n",
    "            total_raters = info['num_raters']\n",
    "            avg_raters = 0\n",
    "            if(num_movie != 0):\n",
    "                avg_raters = total_raters/num_movie\n",
    "            # print(star_id, num_movie, th_num_movie, total_raters, total_raters/num_movie, th_avg_raters,  star['name'])\n",
    "            # print(num_movie > th_num_movie, avg_raters > th_avg_raters)\n",
    "            if(num_movie > th_num_movie or avg_raters > th_avg_raters):\n",
    "                return True\n",
    "    return False"
   ]
  },
  {
   "cell_type": "code",
   "execution_count": 139,
   "metadata": {},
   "outputs": [
    {
     "output_type": "execute_result",
     "data": {
      "text/plain": [
       "False"
      ]
     },
     "metadata": {},
     "execution_count": 139
    }
   ],
   "source": [
    "getMovieCriteria(movie)"
   ]
  },
  {
   "cell_type": "code",
   "execution_count": 140,
   "metadata": {
    "tags": []
   },
   "outputs": [],
   "source": [
    "has_star = []\n",
    "no_star = []\n",
    "\n",
    "for movie in imdb.find():\n",
    "    st = getMovieCriteria(movie)\n",
    "    revenue = movie['cleaned_Revenue']\n",
    "    if(st == True):\n",
    "        has_star.append((movie['imdb_id'], movie['name'], revenue))\n",
    "    else:\n",
    "        no_star.append((movie['imdb_id'], movie['name'], revenue))"
   ]
  },
  {
   "cell_type": "code",
   "execution_count": 141,
   "metadata": {},
   "outputs": [
    {
     "output_type": "execute_result",
     "data": {
      "text/plain": [
       "(4750, 3431)"
      ]
     },
     "metadata": {},
     "execution_count": 141
    }
   ],
   "source": [
    "len(has_star), len(no_star)"
   ]
  },
  {
   "cell_type": "code",
   "execution_count": 142,
   "metadata": {},
   "outputs": [],
   "source": [
    "has_star_revenue = []\n",
    "no_star_revenue = []\n",
    "\n",
    "for movie in has_star:\n",
    "    has_star_revenue.append(movie[2])\n",
    "\n",
    "for movie in no_star:\n",
    "    no_star_revenue.append(movie[2])"
   ]
  },
  {
   "cell_type": "code",
   "execution_count": 143,
   "metadata": {},
   "outputs": [
    {
     "output_type": "execute_result",
     "data": {
      "text/plain": [
       "(4750, 3431)"
      ]
     },
     "metadata": {},
     "execution_count": 143
    }
   ],
   "source": [
    "len(has_star_revenue), len(no_star_revenue)"
   ]
  },
  {
   "cell_type": "code",
   "execution_count": 144,
   "metadata": {},
   "outputs": [],
   "source": [
    "from scipy.stats import ks_2samp\n",
    "import numpy as np\n",
    "\n",
    "has_star_revenue = np.array(has_star_revenue)\n",
    "no_star_revenue = np.array(no_star_revenue)"
   ]
  },
  {
   "cell_type": "code",
   "execution_count": 145,
   "metadata": {},
   "outputs": [
    {
     "output_type": "execute_result",
     "data": {
      "text/plain": [
       "KstestResult(statistic=0.18396619061498107, pvalue=1.4432899320127035e-15)"
      ]
     },
     "metadata": {},
     "execution_count": 145
    }
   ],
   "source": [
    "ks_2samp(has_star_revenue, no_star_revenue)"
   ]
  },
  {
   "cell_type": "code",
   "execution_count": 146,
   "metadata": {},
   "outputs": [
    {
     "output_type": "execute_result",
     "data": {
      "text/plain": [
       "(128014288.64568421, 62997291.32439522)"
      ]
     },
     "metadata": {},
     "execution_count": 146
    }
   ],
   "source": [
    "has_star_revenue.mean(), no_star_revenue.mean()"
   ]
  },
  {
   "cell_type": "code",
   "execution_count": 147,
   "metadata": {},
   "outputs": [
    {
     "output_type": "execute_result",
     "data": {
      "text/plain": [
       "65016997.321288995"
      ]
     },
     "metadata": {},
     "execution_count": 147
    }
   ],
   "source": [
    "has_star_revenue.mean()-no_star_revenue.mean()"
   ]
  },
  {
   "cell_type": "code",
   "execution_count": null,
   "metadata": {},
   "outputs": [],
   "source": []
  }
 ]
}