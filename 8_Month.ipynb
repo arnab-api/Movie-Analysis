{
 "metadata": {
  "language_info": {
   "codemirror_mode": {
    "name": "ipython",
    "version": 3
   },
   "file_extension": ".py",
   "mimetype": "text/x-python",
   "name": "python",
   "nbconvert_exporter": "python",
   "pygments_lexer": "ipython3",
   "version": "3.7.9"
  },
  "orig_nbformat": 2,
  "kernelspec": {
   "name": "python379jvsc74a57bd06e81d77af03ce5c2f322ee28133a80996b3da90d809d78ecf9dd16de6b5482d3",
   "display_name": "Python 3.7.9 64-bit ('ml': conda)"
  },
  "metadata": {
   "interpreter": {
    "hash": "916dbcbb3f70747c44a77c7bcd40155683ae19c65e1c03b4aa3499c5328201f1"
   }
  }
 },
 "nbformat": 4,
 "nbformat_minor": 2,
 "cells": [
  {
   "cell_type": "code",
   "execution_count": 19,
   "metadata": {},
   "outputs": [],
   "source": [
    "import os\n",
    "import json\n",
    "import plotly.graph_objects as go\n",
    "from plotly.subplots import make_subplots\n",
    "# import cpi\n",
    "import pymongo\n",
    "from tqdm import tqdm\n",
    "from scipy import stats\n",
    "import math\n",
    "import numpy as np\n",
    "import pandas as pd\n",
    "from scipy.stats import ks_2samp"
   ]
  },
  {
   "cell_type": "code",
   "execution_count": 2,
   "metadata": {},
   "outputs": [],
   "source": [
    "myclient = pymongo.MongoClient(\"mongodb://localhost:27017/\")\n",
    "db = myclient[\"imdb\"]\n",
    "imdb = db['imdb_cleaned']"
   ]
  },
  {
   "cell_type": "code",
   "execution_count": 3,
   "metadata": {},
   "outputs": [
    {
     "output_type": "execute_result",
     "data": {
      "text/plain": [
       "8181"
      ]
     },
     "metadata": {},
     "execution_count": 3
    }
   ],
   "source": [
    "num_movies = imdb.count_documents({})\n",
    "num_movies"
   ]
  },
  {
   "cell_type": "code",
   "execution_count": 32,
   "metadata": {},
   "outputs": [],
   "source": [
    "months =    ['January', 'February', 'March', 'April', 'May', 'June',\n",
    "            'July', 'August', 'September', 'October', 'November', 'December']\n",
    "\n",
    "month_dict = {}\n",
    "budget_dict = {}\n",
    "for month in months:\n",
    "    month_dict[month] = []\n",
    "    budget_dict[month] = []\n",
    "\n",
    "for movie in imdb.find():\n",
    "    rev = movie['cleaned_Revenue']\n",
    "    month = movie['cleaned_month']\n",
    "    month_dict[month].append(rev)\n",
    "    budget_dict[month].append(movie['cleaned_Budget'])"
   ]
  },
  {
   "cell_type": "code",
   "execution_count": 33,
   "metadata": {},
   "outputs": [
    {
     "output_type": "stream",
     "name": "stdout",
     "text": [
      "January 664\nFebruary 613\nMarch 689\nApril 694\nMay 611\nJune 659\nJuly 630\nAugust 740\nSeptember 697\nOctober 784\nNovember 701\nDecember 699\n"
     ]
    }
   ],
   "source": [
    "for month in month_dict:\n",
    "    print(month, len(month_dict[month]))"
   ]
  },
  {
   "cell_type": "code",
   "execution_count": 34,
   "metadata": {},
   "outputs": [],
   "source": [
    "def plotBars(dct, isList = False):\n",
    "    xrr = []\n",
    "    yrr = []\n",
    "    for key in dct:\n",
    "        xrr.append(key)\n",
    "        if(isList == True):\n",
    "            yrr.append(len(dct[key]))\n",
    "        else:\n",
    "            yrr.append(dct[key])\n",
    "    fig = go.Figure([go.Bar(x=xrr, y=yrr)])\n",
    "    return fig"
   ]
  },
  {
   "cell_type": "code",
   "execution_count": 35,
   "metadata": {},
   "outputs": [
    {
     "output_type": "display_data",
     "data": {
      "application/vnd.plotly.v1+json": {
       "config": {
        "plotlyServerURL": "https://plot.ly"
       },
       "data": [
        {
         "type": "bar",
         "x": [
          "January",
          "February",
          "March",
          "April",
          "May",
          "June",
          "July",
          "August",
          "September",
          "October",
          "November",
          "December"
         ],
         "y": [
          664,
          613,
          689,
          694,
          611,
          659,
          630,
          740,
          697,
          784,
          701,
          699
         ]
        }
       ],
       "layout": {
        "template": {
         "data": {
          "bar": [
           {
            "error_x": {
             "color": "#2a3f5f"
            },
            "error_y": {
             "color": "#2a3f5f"
            },
            "marker": {
             "line": {
              "color": "#E5ECF6",
              "width": 0.5
             }
            },
            "type": "bar"
           }
          ],
          "barpolar": [
           {
            "marker": {
             "line": {
              "color": "#E5ECF6",
              "width": 0.5
             }
            },
            "type": "barpolar"
           }
          ],
          "carpet": [
           {
            "aaxis": {
             "endlinecolor": "#2a3f5f",
             "gridcolor": "white",
             "linecolor": "white",
             "minorgridcolor": "white",
             "startlinecolor": "#2a3f5f"
            },
            "baxis": {
             "endlinecolor": "#2a3f5f",
             "gridcolor": "white",
             "linecolor": "white",
             "minorgridcolor": "white",
             "startlinecolor": "#2a3f5f"
            },
            "type": "carpet"
           }
          ],
          "choropleth": [
           {
            "colorbar": {
             "outlinewidth": 0,
             "ticks": ""
            },
            "type": "choropleth"
           }
          ],
          "contour": [
           {
            "colorbar": {
             "outlinewidth": 0,
             "ticks": ""
            },
            "colorscale": [
             [
              0,
              "#0d0887"
             ],
             [
              0.1111111111111111,
              "#46039f"
             ],
             [
              0.2222222222222222,
              "#7201a8"
             ],
             [
              0.3333333333333333,
              "#9c179e"
             ],
             [
              0.4444444444444444,
              "#bd3786"
             ],
             [
              0.5555555555555556,
              "#d8576b"
             ],
             [
              0.6666666666666666,
              "#ed7953"
             ],
             [
              0.7777777777777778,
              "#fb9f3a"
             ],
             [
              0.8888888888888888,
              "#fdca26"
             ],
             [
              1,
              "#f0f921"
             ]
            ],
            "type": "contour"
           }
          ],
          "contourcarpet": [
           {
            "colorbar": {
             "outlinewidth": 0,
             "ticks": ""
            },
            "type": "contourcarpet"
           }
          ],
          "heatmap": [
           {
            "colorbar": {
             "outlinewidth": 0,
             "ticks": ""
            },
            "colorscale": [
             [
              0,
              "#0d0887"
             ],
             [
              0.1111111111111111,
              "#46039f"
             ],
             [
              0.2222222222222222,
              "#7201a8"
             ],
             [
              0.3333333333333333,
              "#9c179e"
             ],
             [
              0.4444444444444444,
              "#bd3786"
             ],
             [
              0.5555555555555556,
              "#d8576b"
             ],
             [
              0.6666666666666666,
              "#ed7953"
             ],
             [
              0.7777777777777778,
              "#fb9f3a"
             ],
             [
              0.8888888888888888,
              "#fdca26"
             ],
             [
              1,
              "#f0f921"
             ]
            ],
            "type": "heatmap"
           }
          ],
          "heatmapgl": [
           {
            "colorbar": {
             "outlinewidth": 0,
             "ticks": ""
            },
            "colorscale": [
             [
              0,
              "#0d0887"
             ],
             [
              0.1111111111111111,
              "#46039f"
             ],
             [
              0.2222222222222222,
              "#7201a8"
             ],
             [
              0.3333333333333333,
              "#9c179e"
             ],
             [
              0.4444444444444444,
              "#bd3786"
             ],
             [
              0.5555555555555556,
              "#d8576b"
             ],
             [
              0.6666666666666666,
              "#ed7953"
             ],
             [
              0.7777777777777778,
              "#fb9f3a"
             ],
             [
              0.8888888888888888,
              "#fdca26"
             ],
             [
              1,
              "#f0f921"
             ]
            ],
            "type": "heatmapgl"
           }
          ],
          "histogram": [
           {
            "marker": {
             "colorbar": {
              "outlinewidth": 0,
              "ticks": ""
             }
            },
            "type": "histogram"
           }
          ],
          "histogram2d": [
           {
            "colorbar": {
             "outlinewidth": 0,
             "ticks": ""
            },
            "colorscale": [
             [
              0,
              "#0d0887"
             ],
             [
              0.1111111111111111,
              "#46039f"
             ],
             [
              0.2222222222222222,
              "#7201a8"
             ],
             [
              0.3333333333333333,
              "#9c179e"
             ],
             [
              0.4444444444444444,
              "#bd3786"
             ],
             [
              0.5555555555555556,
              "#d8576b"
             ],
             [
              0.6666666666666666,
              "#ed7953"
             ],
             [
              0.7777777777777778,
              "#fb9f3a"
             ],
             [
              0.8888888888888888,
              "#fdca26"
             ],
             [
              1,
              "#f0f921"
             ]
            ],
            "type": "histogram2d"
           }
          ],
          "histogram2dcontour": [
           {
            "colorbar": {
             "outlinewidth": 0,
             "ticks": ""
            },
            "colorscale": [
             [
              0,
              "#0d0887"
             ],
             [
              0.1111111111111111,
              "#46039f"
             ],
             [
              0.2222222222222222,
              "#7201a8"
             ],
             [
              0.3333333333333333,
              "#9c179e"
             ],
             [
              0.4444444444444444,
              "#bd3786"
             ],
             [
              0.5555555555555556,
              "#d8576b"
             ],
             [
              0.6666666666666666,
              "#ed7953"
             ],
             [
              0.7777777777777778,
              "#fb9f3a"
             ],
             [
              0.8888888888888888,
              "#fdca26"
             ],
             [
              1,
              "#f0f921"
             ]
            ],
            "type": "histogram2dcontour"
           }
          ],
          "mesh3d": [
           {
            "colorbar": {
             "outlinewidth": 0,
             "ticks": ""
            },
            "type": "mesh3d"
           }
          ],
          "parcoords": [
           {
            "line": {
             "colorbar": {
              "outlinewidth": 0,
              "ticks": ""
             }
            },
            "type": "parcoords"
           }
          ],
          "pie": [
           {
            "automargin": true,
            "type": "pie"
           }
          ],
          "scatter": [
           {
            "marker": {
             "colorbar": {
              "outlinewidth": 0,
              "ticks": ""
             }
            },
            "type": "scatter"
           }
          ],
          "scatter3d": [
           {
            "line": {
             "colorbar": {
              "outlinewidth": 0,
              "ticks": ""
             }
            },
            "marker": {
             "colorbar": {
              "outlinewidth": 0,
              "ticks": ""
             }
            },
            "type": "scatter3d"
           }
          ],
          "scattercarpet": [
           {
            "marker": {
             "colorbar": {
              "outlinewidth": 0,
              "ticks": ""
             }
            },
            "type": "scattercarpet"
           }
          ],
          "scattergeo": [
           {
            "marker": {
             "colorbar": {
              "outlinewidth": 0,
              "ticks": ""
             }
            },
            "type": "scattergeo"
           }
          ],
          "scattergl": [
           {
            "marker": {
             "colorbar": {
              "outlinewidth": 0,
              "ticks": ""
             }
            },
            "type": "scattergl"
           }
          ],
          "scattermapbox": [
           {
            "marker": {
             "colorbar": {
              "outlinewidth": 0,
              "ticks": ""
             }
            },
            "type": "scattermapbox"
           }
          ],
          "scatterpolar": [
           {
            "marker": {
             "colorbar": {
              "outlinewidth": 0,
              "ticks": ""
             }
            },
            "type": "scatterpolar"
           }
          ],
          "scatterpolargl": [
           {
            "marker": {
             "colorbar": {
              "outlinewidth": 0,
              "ticks": ""
             }
            },
            "type": "scatterpolargl"
           }
          ],
          "scatterternary": [
           {
            "marker": {
             "colorbar": {
              "outlinewidth": 0,
              "ticks": ""
             }
            },
            "type": "scatterternary"
           }
          ],
          "surface": [
           {
            "colorbar": {
             "outlinewidth": 0,
             "ticks": ""
            },
            "colorscale": [
             [
              0,
              "#0d0887"
             ],
             [
              0.1111111111111111,
              "#46039f"
             ],
             [
              0.2222222222222222,
              "#7201a8"
             ],
             [
              0.3333333333333333,
              "#9c179e"
             ],
             [
              0.4444444444444444,
              "#bd3786"
             ],
             [
              0.5555555555555556,
              "#d8576b"
             ],
             [
              0.6666666666666666,
              "#ed7953"
             ],
             [
              0.7777777777777778,
              "#fb9f3a"
             ],
             [
              0.8888888888888888,
              "#fdca26"
             ],
             [
              1,
              "#f0f921"
             ]
            ],
            "type": "surface"
           }
          ],
          "table": [
           {
            "cells": {
             "fill": {
              "color": "#EBF0F8"
             },
             "line": {
              "color": "white"
             }
            },
            "header": {
             "fill": {
              "color": "#C8D4E3"
             },
             "line": {
              "color": "white"
             }
            },
            "type": "table"
           }
          ]
         },
         "layout": {
          "annotationdefaults": {
           "arrowcolor": "#2a3f5f",
           "arrowhead": 0,
           "arrowwidth": 1
          },
          "autotypenumbers": "strict",
          "coloraxis": {
           "colorbar": {
            "outlinewidth": 0,
            "ticks": ""
           }
          },
          "colorscale": {
           "diverging": [
            [
             0,
             "#8e0152"
            ],
            [
             0.1,
             "#c51b7d"
            ],
            [
             0.2,
             "#de77ae"
            ],
            [
             0.3,
             "#f1b6da"
            ],
            [
             0.4,
             "#fde0ef"
            ],
            [
             0.5,
             "#f7f7f7"
            ],
            [
             0.6,
             "#e6f5d0"
            ],
            [
             0.7,
             "#b8e186"
            ],
            [
             0.8,
             "#7fbc41"
            ],
            [
             0.9,
             "#4d9221"
            ],
            [
             1,
             "#276419"
            ]
           ],
           "sequential": [
            [
             0,
             "#0d0887"
            ],
            [
             0.1111111111111111,
             "#46039f"
            ],
            [
             0.2222222222222222,
             "#7201a8"
            ],
            [
             0.3333333333333333,
             "#9c179e"
            ],
            [
             0.4444444444444444,
             "#bd3786"
            ],
            [
             0.5555555555555556,
             "#d8576b"
            ],
            [
             0.6666666666666666,
             "#ed7953"
            ],
            [
             0.7777777777777778,
             "#fb9f3a"
            ],
            [
             0.8888888888888888,
             "#fdca26"
            ],
            [
             1,
             "#f0f921"
            ]
           ],
           "sequentialminus": [
            [
             0,
             "#0d0887"
            ],
            [
             0.1111111111111111,
             "#46039f"
            ],
            [
             0.2222222222222222,
             "#7201a8"
            ],
            [
             0.3333333333333333,
             "#9c179e"
            ],
            [
             0.4444444444444444,
             "#bd3786"
            ],
            [
             0.5555555555555556,
             "#d8576b"
            ],
            [
             0.6666666666666666,
             "#ed7953"
            ],
            [
             0.7777777777777778,
             "#fb9f3a"
            ],
            [
             0.8888888888888888,
             "#fdca26"
            ],
            [
             1,
             "#f0f921"
            ]
           ]
          },
          "colorway": [
           "#636efa",
           "#EF553B",
           "#00cc96",
           "#ab63fa",
           "#FFA15A",
           "#19d3f3",
           "#FF6692",
           "#B6E880",
           "#FF97FF",
           "#FECB52"
          ],
          "font": {
           "color": "#2a3f5f"
          },
          "geo": {
           "bgcolor": "white",
           "lakecolor": "white",
           "landcolor": "#E5ECF6",
           "showlakes": true,
           "showland": true,
           "subunitcolor": "white"
          },
          "hoverlabel": {
           "align": "left"
          },
          "hovermode": "closest",
          "mapbox": {
           "style": "light"
          },
          "paper_bgcolor": "white",
          "plot_bgcolor": "#E5ECF6",
          "polar": {
           "angularaxis": {
            "gridcolor": "white",
            "linecolor": "white",
            "ticks": ""
           },
           "bgcolor": "#E5ECF6",
           "radialaxis": {
            "gridcolor": "white",
            "linecolor": "white",
            "ticks": ""
           }
          },
          "scene": {
           "xaxis": {
            "backgroundcolor": "#E5ECF6",
            "gridcolor": "white",
            "gridwidth": 2,
            "linecolor": "white",
            "showbackground": true,
            "ticks": "",
            "zerolinecolor": "white"
           },
           "yaxis": {
            "backgroundcolor": "#E5ECF6",
            "gridcolor": "white",
            "gridwidth": 2,
            "linecolor": "white",
            "showbackground": true,
            "ticks": "",
            "zerolinecolor": "white"
           },
           "zaxis": {
            "backgroundcolor": "#E5ECF6",
            "gridcolor": "white",
            "gridwidth": 2,
            "linecolor": "white",
            "showbackground": true,
            "ticks": "",
            "zerolinecolor": "white"
           }
          },
          "shapedefaults": {
           "line": {
            "color": "#2a3f5f"
           }
          },
          "ternary": {
           "aaxis": {
            "gridcolor": "white",
            "linecolor": "white",
            "ticks": ""
           },
           "baxis": {
            "gridcolor": "white",
            "linecolor": "white",
            "ticks": ""
           },
           "bgcolor": "#E5ECF6",
           "caxis": {
            "gridcolor": "white",
            "linecolor": "white",
            "ticks": ""
           }
          },
          "title": {
           "x": 0.05
          },
          "xaxis": {
           "automargin": true,
           "gridcolor": "white",
           "linecolor": "white",
           "ticks": "",
           "title": {
            "standoff": 15
           },
           "zerolinecolor": "white",
           "zerolinewidth": 2
          },
          "yaxis": {
           "automargin": true,
           "gridcolor": "white",
           "linecolor": "white",
           "ticks": "",
           "title": {
            "standoff": 15
           },
           "zerolinecolor": "white",
           "zerolinewidth": 2
          }
         }
        }
       }
      }
     },
     "metadata": {}
    }
   ],
   "source": [
    "fig = plotBars(month_dict, isList=True)\n",
    "fig.show()"
   ]
  },
  {
   "cell_type": "code",
   "execution_count": 36,
   "metadata": {},
   "outputs": [],
   "source": [
    "avg_rev = {}\n",
    "for key in month_dict:\n",
    "    month_dict[key] = np.array(month_dict[key])\n",
    "    avg_rev[key] = month_dict[key].mean()"
   ]
  },
  {
   "cell_type": "code",
   "execution_count": 37,
   "metadata": {},
   "outputs": [
    {
     "output_type": "display_data",
     "data": {
      "application/vnd.plotly.v1+json": {
       "config": {
        "plotlyServerURL": "https://plot.ly"
       },
       "data": [
        {
         "type": "bar",
         "x": [
          "January",
          "February",
          "March",
          "April",
          "May",
          "June",
          "July",
          "August",
          "September",
          "October",
          "November",
          "December"
         ],
         "y": [
          57402403.634036146,
          74235592.49102773,
          82181438.64876632,
          59965216.39048991,
          156523313.91325694,
          170183081.491654,
          152447106.1206349,
          68545242.55675675,
          49954451.7446198,
          60086038.029336736,
          130818934.29671897,
          163332990.71816882
         ]
        }
       ],
       "layout": {
        "template": {
         "data": {
          "bar": [
           {
            "error_x": {
             "color": "#2a3f5f"
            },
            "error_y": {
             "color": "#2a3f5f"
            },
            "marker": {
             "line": {
              "color": "#E5ECF6",
              "width": 0.5
             }
            },
            "type": "bar"
           }
          ],
          "barpolar": [
           {
            "marker": {
             "line": {
              "color": "#E5ECF6",
              "width": 0.5
             }
            },
            "type": "barpolar"
           }
          ],
          "carpet": [
           {
            "aaxis": {
             "endlinecolor": "#2a3f5f",
             "gridcolor": "white",
             "linecolor": "white",
             "minorgridcolor": "white",
             "startlinecolor": "#2a3f5f"
            },
            "baxis": {
             "endlinecolor": "#2a3f5f",
             "gridcolor": "white",
             "linecolor": "white",
             "minorgridcolor": "white",
             "startlinecolor": "#2a3f5f"
            },
            "type": "carpet"
           }
          ],
          "choropleth": [
           {
            "colorbar": {
             "outlinewidth": 0,
             "ticks": ""
            },
            "type": "choropleth"
           }
          ],
          "contour": [
           {
            "colorbar": {
             "outlinewidth": 0,
             "ticks": ""
            },
            "colorscale": [
             [
              0,
              "#0d0887"
             ],
             [
              0.1111111111111111,
              "#46039f"
             ],
             [
              0.2222222222222222,
              "#7201a8"
             ],
             [
              0.3333333333333333,
              "#9c179e"
             ],
             [
              0.4444444444444444,
              "#bd3786"
             ],
             [
              0.5555555555555556,
              "#d8576b"
             ],
             [
              0.6666666666666666,
              "#ed7953"
             ],
             [
              0.7777777777777778,
              "#fb9f3a"
             ],
             [
              0.8888888888888888,
              "#fdca26"
             ],
             [
              1,
              "#f0f921"
             ]
            ],
            "type": "contour"
           }
          ],
          "contourcarpet": [
           {
            "colorbar": {
             "outlinewidth": 0,
             "ticks": ""
            },
            "type": "contourcarpet"
           }
          ],
          "heatmap": [
           {
            "colorbar": {
             "outlinewidth": 0,
             "ticks": ""
            },
            "colorscale": [
             [
              0,
              "#0d0887"
             ],
             [
              0.1111111111111111,
              "#46039f"
             ],
             [
              0.2222222222222222,
              "#7201a8"
             ],
             [
              0.3333333333333333,
              "#9c179e"
             ],
             [
              0.4444444444444444,
              "#bd3786"
             ],
             [
              0.5555555555555556,
              "#d8576b"
             ],
             [
              0.6666666666666666,
              "#ed7953"
             ],
             [
              0.7777777777777778,
              "#fb9f3a"
             ],
             [
              0.8888888888888888,
              "#fdca26"
             ],
             [
              1,
              "#f0f921"
             ]
            ],
            "type": "heatmap"
           }
          ],
          "heatmapgl": [
           {
            "colorbar": {
             "outlinewidth": 0,
             "ticks": ""
            },
            "colorscale": [
             [
              0,
              "#0d0887"
             ],
             [
              0.1111111111111111,
              "#46039f"
             ],
             [
              0.2222222222222222,
              "#7201a8"
             ],
             [
              0.3333333333333333,
              "#9c179e"
             ],
             [
              0.4444444444444444,
              "#bd3786"
             ],
             [
              0.5555555555555556,
              "#d8576b"
             ],
             [
              0.6666666666666666,
              "#ed7953"
             ],
             [
              0.7777777777777778,
              "#fb9f3a"
             ],
             [
              0.8888888888888888,
              "#fdca26"
             ],
             [
              1,
              "#f0f921"
             ]
            ],
            "type": "heatmapgl"
           }
          ],
          "histogram": [
           {
            "marker": {
             "colorbar": {
              "outlinewidth": 0,
              "ticks": ""
             }
            },
            "type": "histogram"
           }
          ],
          "histogram2d": [
           {
            "colorbar": {
             "outlinewidth": 0,
             "ticks": ""
            },
            "colorscale": [
             [
              0,
              "#0d0887"
             ],
             [
              0.1111111111111111,
              "#46039f"
             ],
             [
              0.2222222222222222,
              "#7201a8"
             ],
             [
              0.3333333333333333,
              "#9c179e"
             ],
             [
              0.4444444444444444,
              "#bd3786"
             ],
             [
              0.5555555555555556,
              "#d8576b"
             ],
             [
              0.6666666666666666,
              "#ed7953"
             ],
             [
              0.7777777777777778,
              "#fb9f3a"
             ],
             [
              0.8888888888888888,
              "#fdca26"
             ],
             [
              1,
              "#f0f921"
             ]
            ],
            "type": "histogram2d"
           }
          ],
          "histogram2dcontour": [
           {
            "colorbar": {
             "outlinewidth": 0,
             "ticks": ""
            },
            "colorscale": [
             [
              0,
              "#0d0887"
             ],
             [
              0.1111111111111111,
              "#46039f"
             ],
             [
              0.2222222222222222,
              "#7201a8"
             ],
             [
              0.3333333333333333,
              "#9c179e"
             ],
             [
              0.4444444444444444,
              "#bd3786"
             ],
             [
              0.5555555555555556,
              "#d8576b"
             ],
             [
              0.6666666666666666,
              "#ed7953"
             ],
             [
              0.7777777777777778,
              "#fb9f3a"
             ],
             [
              0.8888888888888888,
              "#fdca26"
             ],
             [
              1,
              "#f0f921"
             ]
            ],
            "type": "histogram2dcontour"
           }
          ],
          "mesh3d": [
           {
            "colorbar": {
             "outlinewidth": 0,
             "ticks": ""
            },
            "type": "mesh3d"
           }
          ],
          "parcoords": [
           {
            "line": {
             "colorbar": {
              "outlinewidth": 0,
              "ticks": ""
             }
            },
            "type": "parcoords"
           }
          ],
          "pie": [
           {
            "automargin": true,
            "type": "pie"
           }
          ],
          "scatter": [
           {
            "marker": {
             "colorbar": {
              "outlinewidth": 0,
              "ticks": ""
             }
            },
            "type": "scatter"
           }
          ],
          "scatter3d": [
           {
            "line": {
             "colorbar": {
              "outlinewidth": 0,
              "ticks": ""
             }
            },
            "marker": {
             "colorbar": {
              "outlinewidth": 0,
              "ticks": ""
             }
            },
            "type": "scatter3d"
           }
          ],
          "scattercarpet": [
           {
            "marker": {
             "colorbar": {
              "outlinewidth": 0,
              "ticks": ""
             }
            },
            "type": "scattercarpet"
           }
          ],
          "scattergeo": [
           {
            "marker": {
             "colorbar": {
              "outlinewidth": 0,
              "ticks": ""
             }
            },
            "type": "scattergeo"
           }
          ],
          "scattergl": [
           {
            "marker": {
             "colorbar": {
              "outlinewidth": 0,
              "ticks": ""
             }
            },
            "type": "scattergl"
           }
          ],
          "scattermapbox": [
           {
            "marker": {
             "colorbar": {
              "outlinewidth": 0,
              "ticks": ""
             }
            },
            "type": "scattermapbox"
           }
          ],
          "scatterpolar": [
           {
            "marker": {
             "colorbar": {
              "outlinewidth": 0,
              "ticks": ""
             }
            },
            "type": "scatterpolar"
           }
          ],
          "scatterpolargl": [
           {
            "marker": {
             "colorbar": {
              "outlinewidth": 0,
              "ticks": ""
             }
            },
            "type": "scatterpolargl"
           }
          ],
          "scatterternary": [
           {
            "marker": {
             "colorbar": {
              "outlinewidth": 0,
              "ticks": ""
             }
            },
            "type": "scatterternary"
           }
          ],
          "surface": [
           {
            "colorbar": {
             "outlinewidth": 0,
             "ticks": ""
            },
            "colorscale": [
             [
              0,
              "#0d0887"
             ],
             [
              0.1111111111111111,
              "#46039f"
             ],
             [
              0.2222222222222222,
              "#7201a8"
             ],
             [
              0.3333333333333333,
              "#9c179e"
             ],
             [
              0.4444444444444444,
              "#bd3786"
             ],
             [
              0.5555555555555556,
              "#d8576b"
             ],
             [
              0.6666666666666666,
              "#ed7953"
             ],
             [
              0.7777777777777778,
              "#fb9f3a"
             ],
             [
              0.8888888888888888,
              "#fdca26"
             ],
             [
              1,
              "#f0f921"
             ]
            ],
            "type": "surface"
           }
          ],
          "table": [
           {
            "cells": {
             "fill": {
              "color": "#EBF0F8"
             },
             "line": {
              "color": "white"
             }
            },
            "header": {
             "fill": {
              "color": "#C8D4E3"
             },
             "line": {
              "color": "white"
             }
            },
            "type": "table"
           }
          ]
         },
         "layout": {
          "annotationdefaults": {
           "arrowcolor": "#2a3f5f",
           "arrowhead": 0,
           "arrowwidth": 1
          },
          "autotypenumbers": "strict",
          "coloraxis": {
           "colorbar": {
            "outlinewidth": 0,
            "ticks": ""
           }
          },
          "colorscale": {
           "diverging": [
            [
             0,
             "#8e0152"
            ],
            [
             0.1,
             "#c51b7d"
            ],
            [
             0.2,
             "#de77ae"
            ],
            [
             0.3,
             "#f1b6da"
            ],
            [
             0.4,
             "#fde0ef"
            ],
            [
             0.5,
             "#f7f7f7"
            ],
            [
             0.6,
             "#e6f5d0"
            ],
            [
             0.7,
             "#b8e186"
            ],
            [
             0.8,
             "#7fbc41"
            ],
            [
             0.9,
             "#4d9221"
            ],
            [
             1,
             "#276419"
            ]
           ],
           "sequential": [
            [
             0,
             "#0d0887"
            ],
            [
             0.1111111111111111,
             "#46039f"
            ],
            [
             0.2222222222222222,
             "#7201a8"
            ],
            [
             0.3333333333333333,
             "#9c179e"
            ],
            [
             0.4444444444444444,
             "#bd3786"
            ],
            [
             0.5555555555555556,
             "#d8576b"
            ],
            [
             0.6666666666666666,
             "#ed7953"
            ],
            [
             0.7777777777777778,
             "#fb9f3a"
            ],
            [
             0.8888888888888888,
             "#fdca26"
            ],
            [
             1,
             "#f0f921"
            ]
           ],
           "sequentialminus": [
            [
             0,
             "#0d0887"
            ],
            [
             0.1111111111111111,
             "#46039f"
            ],
            [
             0.2222222222222222,
             "#7201a8"
            ],
            [
             0.3333333333333333,
             "#9c179e"
            ],
            [
             0.4444444444444444,
             "#bd3786"
            ],
            [
             0.5555555555555556,
             "#d8576b"
            ],
            [
             0.6666666666666666,
             "#ed7953"
            ],
            [
             0.7777777777777778,
             "#fb9f3a"
            ],
            [
             0.8888888888888888,
             "#fdca26"
            ],
            [
             1,
             "#f0f921"
            ]
           ]
          },
          "colorway": [
           "#636efa",
           "#EF553B",
           "#00cc96",
           "#ab63fa",
           "#FFA15A",
           "#19d3f3",
           "#FF6692",
           "#B6E880",
           "#FF97FF",
           "#FECB52"
          ],
          "font": {
           "color": "#2a3f5f"
          },
          "geo": {
           "bgcolor": "white",
           "lakecolor": "white",
           "landcolor": "#E5ECF6",
           "showlakes": true,
           "showland": true,
           "subunitcolor": "white"
          },
          "hoverlabel": {
           "align": "left"
          },
          "hovermode": "closest",
          "mapbox": {
           "style": "light"
          },
          "paper_bgcolor": "white",
          "plot_bgcolor": "#E5ECF6",
          "polar": {
           "angularaxis": {
            "gridcolor": "white",
            "linecolor": "white",
            "ticks": ""
           },
           "bgcolor": "#E5ECF6",
           "radialaxis": {
            "gridcolor": "white",
            "linecolor": "white",
            "ticks": ""
           }
          },
          "scene": {
           "xaxis": {
            "backgroundcolor": "#E5ECF6",
            "gridcolor": "white",
            "gridwidth": 2,
            "linecolor": "white",
            "showbackground": true,
            "ticks": "",
            "zerolinecolor": "white"
           },
           "yaxis": {
            "backgroundcolor": "#E5ECF6",
            "gridcolor": "white",
            "gridwidth": 2,
            "linecolor": "white",
            "showbackground": true,
            "ticks": "",
            "zerolinecolor": "white"
           },
           "zaxis": {
            "backgroundcolor": "#E5ECF6",
            "gridcolor": "white",
            "gridwidth": 2,
            "linecolor": "white",
            "showbackground": true,
            "ticks": "",
            "zerolinecolor": "white"
           }
          },
          "shapedefaults": {
           "line": {
            "color": "#2a3f5f"
           }
          },
          "ternary": {
           "aaxis": {
            "gridcolor": "white",
            "linecolor": "white",
            "ticks": ""
           },
           "baxis": {
            "gridcolor": "white",
            "linecolor": "white",
            "ticks": ""
           },
           "bgcolor": "#E5ECF6",
           "caxis": {
            "gridcolor": "white",
            "linecolor": "white",
            "ticks": ""
           }
          },
          "title": {
           "x": 0.05
          },
          "xaxis": {
           "automargin": true,
           "gridcolor": "white",
           "linecolor": "white",
           "ticks": "",
           "title": {
            "standoff": 15
           },
           "zerolinecolor": "white",
           "zerolinewidth": 2
          },
          "yaxis": {
           "automargin": true,
           "gridcolor": "white",
           "linecolor": "white",
           "ticks": "",
           "title": {
            "standoff": 15
           },
           "zerolinecolor": "white",
           "zerolinewidth": 2
          }
         }
        }
       }
      }
     },
     "metadata": {}
    }
   ],
   "source": [
    "fig = plotBars(avg_rev)\n",
    "fig.show()"
   ]
  },
  {
   "cell_type": "code",
   "execution_count": 38,
   "metadata": {},
   "outputs": [],
   "source": [
    "avg_bjt = {}\n",
    "for key in budget_dict:\n",
    "    avg_bjt[key] = np.array(budget_dict[key]).mean()"
   ]
  },
  {
   "cell_type": "code",
   "execution_count": 39,
   "metadata": {},
   "outputs": [
    {
     "output_type": "display_data",
     "data": {
      "application/vnd.plotly.v1+json": {
       "config": {
        "plotlyServerURL": "https://plot.ly"
       },
       "data": [
        {
         "type": "bar",
         "x": [
          "January",
          "February",
          "March",
          "April",
          "May",
          "June",
          "July",
          "August",
          "September",
          "October",
          "November",
          "December"
         ],
         "y": [
          26713253.659638554,
          31966168.088091355,
          33939801.50072569,
          27189484.324207492,
          47300741.14075287,
          50167713.23975721,
          47457412.37777778,
          30885106.174324322,
          25815293.86370158,
          28546392.854591835,
          46206596.94721826,
          50818574.66380543
         ]
        }
       ],
       "layout": {
        "template": {
         "data": {
          "bar": [
           {
            "error_x": {
             "color": "#2a3f5f"
            },
            "error_y": {
             "color": "#2a3f5f"
            },
            "marker": {
             "line": {
              "color": "#E5ECF6",
              "width": 0.5
             }
            },
            "type": "bar"
           }
          ],
          "barpolar": [
           {
            "marker": {
             "line": {
              "color": "#E5ECF6",
              "width": 0.5
             }
            },
            "type": "barpolar"
           }
          ],
          "carpet": [
           {
            "aaxis": {
             "endlinecolor": "#2a3f5f",
             "gridcolor": "white",
             "linecolor": "white",
             "minorgridcolor": "white",
             "startlinecolor": "#2a3f5f"
            },
            "baxis": {
             "endlinecolor": "#2a3f5f",
             "gridcolor": "white",
             "linecolor": "white",
             "minorgridcolor": "white",
             "startlinecolor": "#2a3f5f"
            },
            "type": "carpet"
           }
          ],
          "choropleth": [
           {
            "colorbar": {
             "outlinewidth": 0,
             "ticks": ""
            },
            "type": "choropleth"
           }
          ],
          "contour": [
           {
            "colorbar": {
             "outlinewidth": 0,
             "ticks": ""
            },
            "colorscale": [
             [
              0,
              "#0d0887"
             ],
             [
              0.1111111111111111,
              "#46039f"
             ],
             [
              0.2222222222222222,
              "#7201a8"
             ],
             [
              0.3333333333333333,
              "#9c179e"
             ],
             [
              0.4444444444444444,
              "#bd3786"
             ],
             [
              0.5555555555555556,
              "#d8576b"
             ],
             [
              0.6666666666666666,
              "#ed7953"
             ],
             [
              0.7777777777777778,
              "#fb9f3a"
             ],
             [
              0.8888888888888888,
              "#fdca26"
             ],
             [
              1,
              "#f0f921"
             ]
            ],
            "type": "contour"
           }
          ],
          "contourcarpet": [
           {
            "colorbar": {
             "outlinewidth": 0,
             "ticks": ""
            },
            "type": "contourcarpet"
           }
          ],
          "heatmap": [
           {
            "colorbar": {
             "outlinewidth": 0,
             "ticks": ""
            },
            "colorscale": [
             [
              0,
              "#0d0887"
             ],
             [
              0.1111111111111111,
              "#46039f"
             ],
             [
              0.2222222222222222,
              "#7201a8"
             ],
             [
              0.3333333333333333,
              "#9c179e"
             ],
             [
              0.4444444444444444,
              "#bd3786"
             ],
             [
              0.5555555555555556,
              "#d8576b"
             ],
             [
              0.6666666666666666,
              "#ed7953"
             ],
             [
              0.7777777777777778,
              "#fb9f3a"
             ],
             [
              0.8888888888888888,
              "#fdca26"
             ],
             [
              1,
              "#f0f921"
             ]
            ],
            "type": "heatmap"
           }
          ],
          "heatmapgl": [
           {
            "colorbar": {
             "outlinewidth": 0,
             "ticks": ""
            },
            "colorscale": [
             [
              0,
              "#0d0887"
             ],
             [
              0.1111111111111111,
              "#46039f"
             ],
             [
              0.2222222222222222,
              "#7201a8"
             ],
             [
              0.3333333333333333,
              "#9c179e"
             ],
             [
              0.4444444444444444,
              "#bd3786"
             ],
             [
              0.5555555555555556,
              "#d8576b"
             ],
             [
              0.6666666666666666,
              "#ed7953"
             ],
             [
              0.7777777777777778,
              "#fb9f3a"
             ],
             [
              0.8888888888888888,
              "#fdca26"
             ],
             [
              1,
              "#f0f921"
             ]
            ],
            "type": "heatmapgl"
           }
          ],
          "histogram": [
           {
            "marker": {
             "colorbar": {
              "outlinewidth": 0,
              "ticks": ""
             }
            },
            "type": "histogram"
           }
          ],
          "histogram2d": [
           {
            "colorbar": {
             "outlinewidth": 0,
             "ticks": ""
            },
            "colorscale": [
             [
              0,
              "#0d0887"
             ],
             [
              0.1111111111111111,
              "#46039f"
             ],
             [
              0.2222222222222222,
              "#7201a8"
             ],
             [
              0.3333333333333333,
              "#9c179e"
             ],
             [
              0.4444444444444444,
              "#bd3786"
             ],
             [
              0.5555555555555556,
              "#d8576b"
             ],
             [
              0.6666666666666666,
              "#ed7953"
             ],
             [
              0.7777777777777778,
              "#fb9f3a"
             ],
             [
              0.8888888888888888,
              "#fdca26"
             ],
             [
              1,
              "#f0f921"
             ]
            ],
            "type": "histogram2d"
           }
          ],
          "histogram2dcontour": [
           {
            "colorbar": {
             "outlinewidth": 0,
             "ticks": ""
            },
            "colorscale": [
             [
              0,
              "#0d0887"
             ],
             [
              0.1111111111111111,
              "#46039f"
             ],
             [
              0.2222222222222222,
              "#7201a8"
             ],
             [
              0.3333333333333333,
              "#9c179e"
             ],
             [
              0.4444444444444444,
              "#bd3786"
             ],
             [
              0.5555555555555556,
              "#d8576b"
             ],
             [
              0.6666666666666666,
              "#ed7953"
             ],
             [
              0.7777777777777778,
              "#fb9f3a"
             ],
             [
              0.8888888888888888,
              "#fdca26"
             ],
             [
              1,
              "#f0f921"
             ]
            ],
            "type": "histogram2dcontour"
           }
          ],
          "mesh3d": [
           {
            "colorbar": {
             "outlinewidth": 0,
             "ticks": ""
            },
            "type": "mesh3d"
           }
          ],
          "parcoords": [
           {
            "line": {
             "colorbar": {
              "outlinewidth": 0,
              "ticks": ""
             }
            },
            "type": "parcoords"
           }
          ],
          "pie": [
           {
            "automargin": true,
            "type": "pie"
           }
          ],
          "scatter": [
           {
            "marker": {
             "colorbar": {
              "outlinewidth": 0,
              "ticks": ""
             }
            },
            "type": "scatter"
           }
          ],
          "scatter3d": [
           {
            "line": {
             "colorbar": {
              "outlinewidth": 0,
              "ticks": ""
             }
            },
            "marker": {
             "colorbar": {
              "outlinewidth": 0,
              "ticks": ""
             }
            },
            "type": "scatter3d"
           }
          ],
          "scattercarpet": [
           {
            "marker": {
             "colorbar": {
              "outlinewidth": 0,
              "ticks": ""
             }
            },
            "type": "scattercarpet"
           }
          ],
          "scattergeo": [
           {
            "marker": {
             "colorbar": {
              "outlinewidth": 0,
              "ticks": ""
             }
            },
            "type": "scattergeo"
           }
          ],
          "scattergl": [
           {
            "marker": {
             "colorbar": {
              "outlinewidth": 0,
              "ticks": ""
             }
            },
            "type": "scattergl"
           }
          ],
          "scattermapbox": [
           {
            "marker": {
             "colorbar": {
              "outlinewidth": 0,
              "ticks": ""
             }
            },
            "type": "scattermapbox"
           }
          ],
          "scatterpolar": [
           {
            "marker": {
             "colorbar": {
              "outlinewidth": 0,
              "ticks": ""
             }
            },
            "type": "scatterpolar"
           }
          ],
          "scatterpolargl": [
           {
            "marker": {
             "colorbar": {
              "outlinewidth": 0,
              "ticks": ""
             }
            },
            "type": "scatterpolargl"
           }
          ],
          "scatterternary": [
           {
            "marker": {
             "colorbar": {
              "outlinewidth": 0,
              "ticks": ""
             }
            },
            "type": "scatterternary"
           }
          ],
          "surface": [
           {
            "colorbar": {
             "outlinewidth": 0,
             "ticks": ""
            },
            "colorscale": [
             [
              0,
              "#0d0887"
             ],
             [
              0.1111111111111111,
              "#46039f"
             ],
             [
              0.2222222222222222,
              "#7201a8"
             ],
             [
              0.3333333333333333,
              "#9c179e"
             ],
             [
              0.4444444444444444,
              "#bd3786"
             ],
             [
              0.5555555555555556,
              "#d8576b"
             ],
             [
              0.6666666666666666,
              "#ed7953"
             ],
             [
              0.7777777777777778,
              "#fb9f3a"
             ],
             [
              0.8888888888888888,
              "#fdca26"
             ],
             [
              1,
              "#f0f921"
             ]
            ],
            "type": "surface"
           }
          ],
          "table": [
           {
            "cells": {
             "fill": {
              "color": "#EBF0F8"
             },
             "line": {
              "color": "white"
             }
            },
            "header": {
             "fill": {
              "color": "#C8D4E3"
             },
             "line": {
              "color": "white"
             }
            },
            "type": "table"
           }
          ]
         },
         "layout": {
          "annotationdefaults": {
           "arrowcolor": "#2a3f5f",
           "arrowhead": 0,
           "arrowwidth": 1
          },
          "autotypenumbers": "strict",
          "coloraxis": {
           "colorbar": {
            "outlinewidth": 0,
            "ticks": ""
           }
          },
          "colorscale": {
           "diverging": [
            [
             0,
             "#8e0152"
            ],
            [
             0.1,
             "#c51b7d"
            ],
            [
             0.2,
             "#de77ae"
            ],
            [
             0.3,
             "#f1b6da"
            ],
            [
             0.4,
             "#fde0ef"
            ],
            [
             0.5,
             "#f7f7f7"
            ],
            [
             0.6,
             "#e6f5d0"
            ],
            [
             0.7,
             "#b8e186"
            ],
            [
             0.8,
             "#7fbc41"
            ],
            [
             0.9,
             "#4d9221"
            ],
            [
             1,
             "#276419"
            ]
           ],
           "sequential": [
            [
             0,
             "#0d0887"
            ],
            [
             0.1111111111111111,
             "#46039f"
            ],
            [
             0.2222222222222222,
             "#7201a8"
            ],
            [
             0.3333333333333333,
             "#9c179e"
            ],
            [
             0.4444444444444444,
             "#bd3786"
            ],
            [
             0.5555555555555556,
             "#d8576b"
            ],
            [
             0.6666666666666666,
             "#ed7953"
            ],
            [
             0.7777777777777778,
             "#fb9f3a"
            ],
            [
             0.8888888888888888,
             "#fdca26"
            ],
            [
             1,
             "#f0f921"
            ]
           ],
           "sequentialminus": [
            [
             0,
             "#0d0887"
            ],
            [
             0.1111111111111111,
             "#46039f"
            ],
            [
             0.2222222222222222,
             "#7201a8"
            ],
            [
             0.3333333333333333,
             "#9c179e"
            ],
            [
             0.4444444444444444,
             "#bd3786"
            ],
            [
             0.5555555555555556,
             "#d8576b"
            ],
            [
             0.6666666666666666,
             "#ed7953"
            ],
            [
             0.7777777777777778,
             "#fb9f3a"
            ],
            [
             0.8888888888888888,
             "#fdca26"
            ],
            [
             1,
             "#f0f921"
            ]
           ]
          },
          "colorway": [
           "#636efa",
           "#EF553B",
           "#00cc96",
           "#ab63fa",
           "#FFA15A",
           "#19d3f3",
           "#FF6692",
           "#B6E880",
           "#FF97FF",
           "#FECB52"
          ],
          "font": {
           "color": "#2a3f5f"
          },
          "geo": {
           "bgcolor": "white",
           "lakecolor": "white",
           "landcolor": "#E5ECF6",
           "showlakes": true,
           "showland": true,
           "subunitcolor": "white"
          },
          "hoverlabel": {
           "align": "left"
          },
          "hovermode": "closest",
          "mapbox": {
           "style": "light"
          },
          "paper_bgcolor": "white",
          "plot_bgcolor": "#E5ECF6",
          "polar": {
           "angularaxis": {
            "gridcolor": "white",
            "linecolor": "white",
            "ticks": ""
           },
           "bgcolor": "#E5ECF6",
           "radialaxis": {
            "gridcolor": "white",
            "linecolor": "white",
            "ticks": ""
           }
          },
          "scene": {
           "xaxis": {
            "backgroundcolor": "#E5ECF6",
            "gridcolor": "white",
            "gridwidth": 2,
            "linecolor": "white",
            "showbackground": true,
            "ticks": "",
            "zerolinecolor": "white"
           },
           "yaxis": {
            "backgroundcolor": "#E5ECF6",
            "gridcolor": "white",
            "gridwidth": 2,
            "linecolor": "white",
            "showbackground": true,
            "ticks": "",
            "zerolinecolor": "white"
           },
           "zaxis": {
            "backgroundcolor": "#E5ECF6",
            "gridcolor": "white",
            "gridwidth": 2,
            "linecolor": "white",
            "showbackground": true,
            "ticks": "",
            "zerolinecolor": "white"
           }
          },
          "shapedefaults": {
           "line": {
            "color": "#2a3f5f"
           }
          },
          "ternary": {
           "aaxis": {
            "gridcolor": "white",
            "linecolor": "white",
            "ticks": ""
           },
           "baxis": {
            "gridcolor": "white",
            "linecolor": "white",
            "ticks": ""
           },
           "bgcolor": "#E5ECF6",
           "caxis": {
            "gridcolor": "white",
            "linecolor": "white",
            "ticks": ""
           }
          },
          "title": {
           "x": 0.05
          },
          "xaxis": {
           "automargin": true,
           "gridcolor": "white",
           "linecolor": "white",
           "ticks": "",
           "title": {
            "standoff": 15
           },
           "zerolinecolor": "white",
           "zerolinewidth": 2
          },
          "yaxis": {
           "automargin": true,
           "gridcolor": "white",
           "linecolor": "white",
           "ticks": "",
           "title": {
            "standoff": 15
           },
           "zerolinecolor": "white",
           "zerolinewidth": 2
          }
         }
        }
       }
      }
     },
     "metadata": {}
    }
   ],
   "source": [
    "fig = plotBars(avg_bjt)\n",
    "fig.show()"
   ]
  },
  {
   "cell_type": "code",
   "execution_count": 20,
   "metadata": {},
   "outputs": [
    {
     "output_type": "execute_result",
     "data": {
      "text/plain": [
       "KstestResult(statistic=0.21148973576710275, pvalue=7.704947790898586e-14)"
      ]
     },
     "metadata": {},
     "execution_count": 20
    }
   ],
   "source": [
    "ks_2samp(month_dict['January'], month_dict['December'])"
   ]
  },
  {
   "cell_type": "code",
   "execution_count": 23,
   "metadata": {},
   "outputs": [
    {
     "output_type": "execute_result",
     "data": {
      "text/plain": [
       "KstestResult(statistic=0.050978305362259516, pvalue=0.7202812148554827)"
      ]
     },
     "metadata": {},
     "execution_count": 23
    }
   ],
   "source": [
    "import random\n",
    "\n",
    "arr = month_dict['December']\n",
    "random.shuffle(arr)\n",
    "middle = len(arr)//2\n",
    "ks_2samp(arr[0:middle], arr[middle:len(arr)])"
   ]
  },
  {
   "cell_type": "code",
   "execution_count": 24,
   "metadata": {},
   "outputs": [],
   "source": [
    "stat_matrix = {}\n",
    "pvalue_matrix = {}\n",
    "\n",
    "for ik in month_dict:\n",
    "    stat_matrix[ik] = {}\n",
    "    pvalue_matrix[ik] = {}\n",
    "    for jk in month_dict:\n",
    "        ks = ks_2samp(month_dict[ik], month_dict[jk])\n",
    "        stat_matrix[ik][jk] = ks.statistic\n",
    "        pvalue_matrix[ik][jk] = ks.pvalue\n",
    "        if(jk == ik):\n",
    "            break"
   ]
  },
  {
   "cell_type": "code",
   "execution_count": 25,
   "metadata": {},
   "outputs": [
    {
     "output_type": "execute_result",
     "data": {
      "text/plain": [
       "           January  February     March     April       May      June  \\\n",
       "January        0.0  0.068292  0.048011  0.079902  0.154231  0.223877   \n",
       "February       NaN  0.000000  0.081727  0.136046  0.134382  0.187743   \n",
       "March          NaN       NaN  0.000000  0.088965  0.115493  0.186988   \n",
       "April          NaN       NaN       NaN  0.000000  0.163242  0.256565   \n",
       "May            NaN       NaN       NaN       NaN  0.000000  0.127155   \n",
       "June           NaN       NaN       NaN       NaN       NaN  0.000000   \n",
       "July           NaN       NaN       NaN       NaN       NaN       NaN   \n",
       "August         NaN       NaN       NaN       NaN       NaN       NaN   \n",
       "September      NaN       NaN       NaN       NaN       NaN       NaN   \n",
       "October        NaN       NaN       NaN       NaN       NaN       NaN   \n",
       "November       NaN       NaN       NaN       NaN       NaN       NaN   \n",
       "December       NaN       NaN       NaN       NaN       NaN       NaN   \n",
       "\n",
       "               July    August  September   October  November  December  \n",
       "January    0.182124  0.081732   0.086204  0.060794  0.147159  0.211490  \n",
       "February   0.158963  0.048673   0.140010  0.109388  0.109978  0.186745  \n",
       "March      0.154791  0.066750   0.099675  0.057690  0.100599  0.192068  \n",
       "April      0.232775  0.103517   0.033069  0.057931  0.165782  0.265804  \n",
       "May        0.134448  0.137225   0.161095  0.149590  0.079139  0.171917  \n",
       "June       0.055401  0.208451   0.250760  0.219066  0.097671  0.079459  \n",
       "July       0.000000  0.168940   0.247888  0.202098  0.090447  0.048995  \n",
       "August          NaN  0.000000   0.115604  0.073545  0.121564  0.211621  \n",
       "September       NaN       NaN   0.000000  0.073445  0.174096  0.279752  \n",
       "October         NaN       NaN        NaN  0.000000  0.137533  0.235995  \n",
       "November        NaN       NaN        NaN       NaN  0.000000  0.124527  \n",
       "December        NaN       NaN        NaN       NaN       NaN  0.000000  "
      ],
      "text/html": "<div>\n<style scoped>\n    .dataframe tbody tr th:only-of-type {\n        vertical-align: middle;\n    }\n\n    .dataframe tbody tr th {\n        vertical-align: top;\n    }\n\n    .dataframe thead th {\n        text-align: right;\n    }\n</style>\n<table border=\"1\" class=\"dataframe\">\n  <thead>\n    <tr style=\"text-align: right;\">\n      <th></th>\n      <th>January</th>\n      <th>February</th>\n      <th>March</th>\n      <th>April</th>\n      <th>May</th>\n      <th>June</th>\n      <th>July</th>\n      <th>August</th>\n      <th>September</th>\n      <th>October</th>\n      <th>November</th>\n      <th>December</th>\n    </tr>\n  </thead>\n  <tbody>\n    <tr>\n      <th>January</th>\n      <td>0.0</td>\n      <td>0.068292</td>\n      <td>0.048011</td>\n      <td>0.079902</td>\n      <td>0.154231</td>\n      <td>0.223877</td>\n      <td>0.182124</td>\n      <td>0.081732</td>\n      <td>0.086204</td>\n      <td>0.060794</td>\n      <td>0.147159</td>\n      <td>0.211490</td>\n    </tr>\n    <tr>\n      <th>February</th>\n      <td>NaN</td>\n      <td>0.000000</td>\n      <td>0.081727</td>\n      <td>0.136046</td>\n      <td>0.134382</td>\n      <td>0.187743</td>\n      <td>0.158963</td>\n      <td>0.048673</td>\n      <td>0.140010</td>\n      <td>0.109388</td>\n      <td>0.109978</td>\n      <td>0.186745</td>\n    </tr>\n    <tr>\n      <th>March</th>\n      <td>NaN</td>\n      <td>NaN</td>\n      <td>0.000000</td>\n      <td>0.088965</td>\n      <td>0.115493</td>\n      <td>0.186988</td>\n      <td>0.154791</td>\n      <td>0.066750</td>\n      <td>0.099675</td>\n      <td>0.057690</td>\n      <td>0.100599</td>\n      <td>0.192068</td>\n    </tr>\n    <tr>\n      <th>April</th>\n      <td>NaN</td>\n      <td>NaN</td>\n      <td>NaN</td>\n      <td>0.000000</td>\n      <td>0.163242</td>\n      <td>0.256565</td>\n      <td>0.232775</td>\n      <td>0.103517</td>\n      <td>0.033069</td>\n      <td>0.057931</td>\n      <td>0.165782</td>\n      <td>0.265804</td>\n    </tr>\n    <tr>\n      <th>May</th>\n      <td>NaN</td>\n      <td>NaN</td>\n      <td>NaN</td>\n      <td>NaN</td>\n      <td>0.000000</td>\n      <td>0.127155</td>\n      <td>0.134448</td>\n      <td>0.137225</td>\n      <td>0.161095</td>\n      <td>0.149590</td>\n      <td>0.079139</td>\n      <td>0.171917</td>\n    </tr>\n    <tr>\n      <th>June</th>\n      <td>NaN</td>\n      <td>NaN</td>\n      <td>NaN</td>\n      <td>NaN</td>\n      <td>NaN</td>\n      <td>0.000000</td>\n      <td>0.055401</td>\n      <td>0.208451</td>\n      <td>0.250760</td>\n      <td>0.219066</td>\n      <td>0.097671</td>\n      <td>0.079459</td>\n    </tr>\n    <tr>\n      <th>July</th>\n      <td>NaN</td>\n      <td>NaN</td>\n      <td>NaN</td>\n      <td>NaN</td>\n      <td>NaN</td>\n      <td>NaN</td>\n      <td>0.000000</td>\n      <td>0.168940</td>\n      <td>0.247888</td>\n      <td>0.202098</td>\n      <td>0.090447</td>\n      <td>0.048995</td>\n    </tr>\n    <tr>\n      <th>August</th>\n      <td>NaN</td>\n      <td>NaN</td>\n      <td>NaN</td>\n      <td>NaN</td>\n      <td>NaN</td>\n      <td>NaN</td>\n      <td>NaN</td>\n      <td>0.000000</td>\n      <td>0.115604</td>\n      <td>0.073545</td>\n      <td>0.121564</td>\n      <td>0.211621</td>\n    </tr>\n    <tr>\n      <th>September</th>\n      <td>NaN</td>\n      <td>NaN</td>\n      <td>NaN</td>\n      <td>NaN</td>\n      <td>NaN</td>\n      <td>NaN</td>\n      <td>NaN</td>\n      <td>NaN</td>\n      <td>0.000000</td>\n      <td>0.073445</td>\n      <td>0.174096</td>\n      <td>0.279752</td>\n    </tr>\n    <tr>\n      <th>October</th>\n      <td>NaN</td>\n      <td>NaN</td>\n      <td>NaN</td>\n      <td>NaN</td>\n      <td>NaN</td>\n      <td>NaN</td>\n      <td>NaN</td>\n      <td>NaN</td>\n      <td>NaN</td>\n      <td>0.000000</td>\n      <td>0.137533</td>\n      <td>0.235995</td>\n    </tr>\n    <tr>\n      <th>November</th>\n      <td>NaN</td>\n      <td>NaN</td>\n      <td>NaN</td>\n      <td>NaN</td>\n      <td>NaN</td>\n      <td>NaN</td>\n      <td>NaN</td>\n      <td>NaN</td>\n      <td>NaN</td>\n      <td>NaN</td>\n      <td>0.000000</td>\n      <td>0.124527</td>\n    </tr>\n    <tr>\n      <th>December</th>\n      <td>NaN</td>\n      <td>NaN</td>\n      <td>NaN</td>\n      <td>NaN</td>\n      <td>NaN</td>\n      <td>NaN</td>\n      <td>NaN</td>\n      <td>NaN</td>\n      <td>NaN</td>\n      <td>NaN</td>\n      <td>NaN</td>\n      <td>0.000000</td>\n    </tr>\n  </tbody>\n</table>\n</div>"
     },
     "metadata": {},
     "execution_count": 25
    }
   ],
   "source": [
    "stat_df = pd.DataFrame(stat_matrix)\n",
    "stat_df"
   ]
  },
  {
   "cell_type": "code",
   "execution_count": 26,
   "metadata": {},
   "outputs": [],
   "source": [
    "import seaborn as sn\n",
    "import pandas as pd\n",
    "import matplotlib.pyplot as plt"
   ]
  },
  {
   "cell_type": "code",
   "execution_count": 27,
   "metadata": {},
   "outputs": [],
   "source": [
    "def plotMatrix(dct2D):\n",
    "    # print(dct2D)\n",
    "    arr2D = []\n",
    "    for ik in dct2D:\n",
    "        arr1D = []\n",
    "        for jk in dct2D[ik]:\n",
    "            arr1D.append(dct2D[ik][jk])\n",
    "        arr2D.append(arr1D)\n",
    "    df_cm = pd.DataFrame(arr2D, index = list(dct2D.keys()),\n",
    "                  columns = list(dct2D.keys()))\n",
    "    plt.figure(figsize = (20,14))\n",
    "    sn.heatmap(df_cm, annot=True)\n",
    "    plt.show()"
   ]
  },
  {
   "cell_type": "code",
   "execution_count": 30,
   "metadata": {},
   "outputs": [
    {
     "output_type": "display_data",
     "data": {
      "text/plain": "<Figure size 1440x1008 with 2 Axes>",
      "image/svg+xml": "<?xml version=\"1.0\" encoding=\"utf-8\" standalone=\"no\"?>\n<!DOCTYPE svg PUBLIC \"-//W3C//DTD SVG 1.1//EN\"\n  \"http://www.w3.org/Graphics/SVG/1.1/DTD/svg11.dtd\">\n<!-- Created with matplotlib (https://matplotlib.org/) -->\n<svg height=\"871.053672pt\" version=\"1.1\" viewBox=\"0 0 1121.821531 871.053672\" width=\"1121.821531pt\" xmlns=\"http://www.w3.org/2000/svg\" xmlns:xlink=\"http://www.w3.org/1999/xlink\">\n <metadata>\n  <rdf:RDF xmlns:cc=\"http://creativecommons.org/ns#\" xmlns:dc=\"http://purl.org/dc/elements/1.1/\" xmlns:rdf=\"http://www.w3.org/1999/02/22-rdf-syntax-ns#\">\n   <cc:Work>\n    <dc:type rdf:resource=\"http://purl.org/dc/dcmitype/StillImage\"/>\n    <dc:date>2021-05-22T02:15:43.213546</dc:date>\n    <dc:format>image/svg+xml</dc:format>\n    <dc:creator>\n     <cc:Agent>\n      <dc:title>Matplotlib v3.3.2, https://matplotlib.org/</dc:title>\n     </cc:Agent>\n    </dc:creator>\n   </cc:Work>\n  </rdf:RDF>\n </metadata>\n <defs>\n  <style type=\"text/css\">*{stroke-linecap:butt;stroke-linejoin:round;}</style>\n </defs>\n <g id=\"figure_1\">\n  <g id=\"patch_1\">\n   <path d=\"M 0 871.053672 \nL 1121.821531 871.053672 \nL 1121.821531 0 \nL 0 0 \nz\n\" style=\"fill:none;\"/>\n  </g>\n  <g id=\"axes_1\">\n   <g id=\"patch_2\">\n    <path d=\"M 97.114844 773.938828 \nL 989.914844 773.938828 \nL 989.914844 12.898828 \nL 97.114844 12.898828 \nz\n\" style=\"fill:#ffffff;\"/>\n   </g>\n   <g id=\"QuadMesh_1\">\n    <path clip-path=\"url(#pa25f4ff947)\" d=\"M 97.114844 12.898828 \nL 171.514844 12.898828 \nL 171.514844 76.318828 \nL 97.114844 76.318828 \nL 97.114844 12.898828 \n\" style=\"fill:#faebdd;\"/>\n    <path clip-path=\"url(#pa25f4ff947)\" d=\"M 171.514844 12.898828 \nL 245.914844 12.898828 \nL 245.914844 76.318828 \nL 171.514844 76.318828 \nL 171.514844 12.898828 \n\" style=\"fill:none;\"/>\n    <path clip-path=\"url(#pa25f4ff947)\" d=\"M 245.914844 12.898828 \nL 320.314844 12.898828 \nL 320.314844 76.318828 \nL 245.914844 76.318828 \nL 245.914844 12.898828 \n\" style=\"fill:none;\"/>\n    <path clip-path=\"url(#pa25f4ff947)\" d=\"M 320.314844 12.898828 \nL 394.714844 12.898828 \nL 394.714844 76.318828 \nL 320.314844 76.318828 \nL 320.314844 12.898828 \n\" style=\"fill:none;\"/>\n    <path clip-path=\"url(#pa25f4ff947)\" d=\"M 394.714844 12.898828 \nL 469.114844 12.898828 \nL 469.114844 76.318828 \nL 394.714844 76.318828 \nL 394.714844 12.898828 \n\" style=\"fill:none;\"/>\n    <path clip-path=\"url(#pa25f4ff947)\" d=\"M 469.114844 12.898828 \nL 543.514844 12.898828 \nL 543.514844 76.318828 \nL 469.114844 76.318828 \nL 469.114844 12.898828 \n\" style=\"fill:none;\"/>\n    <path clip-path=\"url(#pa25f4ff947)\" d=\"M 543.514844 12.898828 \nL 617.914844 12.898828 \nL 617.914844 76.318828 \nL 543.514844 76.318828 \nL 543.514844 12.898828 \n\" style=\"fill:none;\"/>\n    <path clip-path=\"url(#pa25f4ff947)\" d=\"M 617.914844 12.898828 \nL 692.314844 12.898828 \nL 692.314844 76.318828 \nL 617.914844 76.318828 \nL 617.914844 12.898828 \n\" style=\"fill:none;\"/>\n    <path clip-path=\"url(#pa25f4ff947)\" d=\"M 692.314844 12.898828 \nL 766.714844 12.898828 \nL 766.714844 76.318828 \nL 692.314844 76.318828 \nL 692.314844 12.898828 \n\" style=\"fill:none;\"/>\n    <path clip-path=\"url(#pa25f4ff947)\" d=\"M 766.714844 12.898828 \nL 841.114844 12.898828 \nL 841.114844 76.318828 \nL 766.714844 76.318828 \nL 766.714844 12.898828 \n\" style=\"fill:none;\"/>\n    <path clip-path=\"url(#pa25f4ff947)\" d=\"M 841.114844 12.898828 \nL 915.514844 12.898828 \nL 915.514844 76.318828 \nL 841.114844 76.318828 \nL 841.114844 12.898828 \n\" style=\"fill:none;\"/>\n    <path clip-path=\"url(#pa25f4ff947)\" d=\"M 915.514844 12.898828 \nL 989.914844 12.898828 \nL 989.914844 76.318828 \nL 915.514844 76.318828 \nL 915.514844 12.898828 \n\" style=\"fill:none;\"/>\n    <path clip-path=\"url(#pa25f4ff947)\" d=\"M 97.114844 76.318828 \nL 171.514844 76.318828 \nL 171.514844 139.738828 \nL 97.114844 139.738828 \nL 97.114844 76.318828 \n\" style=\"fill:#241432;\"/>\n    <path clip-path=\"url(#pa25f4ff947)\" d=\"M 171.514844 76.318828 \nL 245.914844 76.318828 \nL 245.914844 139.738828 \nL 171.514844 139.738828 \nL 171.514844 76.318828 \n\" style=\"fill:#faebdd;\"/>\n    <path clip-path=\"url(#pa25f4ff947)\" d=\"M 245.914844 76.318828 \nL 320.314844 76.318828 \nL 320.314844 139.738828 \nL 245.914844 139.738828 \nL 245.914844 76.318828 \n\" style=\"fill:none;\"/>\n    <path clip-path=\"url(#pa25f4ff947)\" d=\"M 320.314844 76.318828 \nL 394.714844 76.318828 \nL 394.714844 139.738828 \nL 320.314844 139.738828 \nL 320.314844 76.318828 \n\" style=\"fill:none;\"/>\n    <path clip-path=\"url(#pa25f4ff947)\" d=\"M 394.714844 76.318828 \nL 469.114844 76.318828 \nL 469.114844 139.738828 \nL 394.714844 139.738828 \nL 394.714844 76.318828 \n\" style=\"fill:none;\"/>\n    <path clip-path=\"url(#pa25f4ff947)\" d=\"M 469.114844 76.318828 \nL 543.514844 76.318828 \nL 543.514844 139.738828 \nL 469.114844 139.738828 \nL 469.114844 76.318828 \n\" style=\"fill:none;\"/>\n    <path clip-path=\"url(#pa25f4ff947)\" d=\"M 543.514844 76.318828 \nL 617.914844 76.318828 \nL 617.914844 139.738828 \nL 543.514844 139.738828 \nL 543.514844 76.318828 \n\" style=\"fill:none;\"/>\n    <path clip-path=\"url(#pa25f4ff947)\" d=\"M 617.914844 76.318828 \nL 692.314844 76.318828 \nL 692.314844 139.738828 \nL 617.914844 139.738828 \nL 617.914844 76.318828 \n\" style=\"fill:none;\"/>\n    <path clip-path=\"url(#pa25f4ff947)\" d=\"M 692.314844 76.318828 \nL 766.714844 76.318828 \nL 766.714844 139.738828 \nL 692.314844 139.738828 \nL 692.314844 76.318828 \n\" style=\"fill:none;\"/>\n    <path clip-path=\"url(#pa25f4ff947)\" d=\"M 766.714844 76.318828 \nL 841.114844 76.318828 \nL 841.114844 139.738828 \nL 766.714844 139.738828 \nL 766.714844 76.318828 \n\" style=\"fill:none;\"/>\n    <path clip-path=\"url(#pa25f4ff947)\" d=\"M 841.114844 76.318828 \nL 915.514844 76.318828 \nL 915.514844 139.738828 \nL 841.114844 139.738828 \nL 841.114844 76.318828 \n\" style=\"fill:none;\"/>\n    <path clip-path=\"url(#pa25f4ff947)\" d=\"M 915.514844 76.318828 \nL 989.914844 76.318828 \nL 989.914844 139.738828 \nL 915.514844 139.738828 \nL 915.514844 76.318828 \n\" style=\"fill:none;\"/>\n    <path clip-path=\"url(#pa25f4ff947)\" d=\"M 97.114844 139.738828 \nL 171.514844 139.738828 \nL 171.514844 203.158828 \nL 97.114844 203.158828 \nL 97.114844 139.738828 \n\" style=\"fill:#a11a5b;\"/>\n    <path clip-path=\"url(#pa25f4ff947)\" d=\"M 171.514844 139.738828 \nL 245.914844 139.738828 \nL 245.914844 203.158828 \nL 171.514844 203.158828 \nL 171.514844 139.738828 \n\" style=\"fill:#0a091f;\"/>\n    <path clip-path=\"url(#pa25f4ff947)\" d=\"M 245.914844 139.738828 \nL 320.314844 139.738828 \nL 320.314844 203.158828 \nL 245.914844 203.158828 \nL 245.914844 139.738828 \n\" style=\"fill:#faebdd;\"/>\n    <path clip-path=\"url(#pa25f4ff947)\" d=\"M 320.314844 139.738828 \nL 394.714844 139.738828 \nL 394.714844 203.158828 \nL 320.314844 203.158828 \nL 320.314844 139.738828 \n\" style=\"fill:none;\"/>\n    <path clip-path=\"url(#pa25f4ff947)\" d=\"M 394.714844 139.738828 \nL 469.114844 139.738828 \nL 469.114844 203.158828 \nL 394.714844 203.158828 \nL 394.714844 139.738828 \n\" style=\"fill:none;\"/>\n    <path clip-path=\"url(#pa25f4ff947)\" d=\"M 469.114844 139.738828 \nL 543.514844 139.738828 \nL 543.514844 203.158828 \nL 469.114844 203.158828 \nL 469.114844 139.738828 \n\" style=\"fill:none;\"/>\n    <path clip-path=\"url(#pa25f4ff947)\" d=\"M 543.514844 139.738828 \nL 617.914844 139.738828 \nL 617.914844 203.158828 \nL 543.514844 203.158828 \nL 543.514844 139.738828 \n\" style=\"fill:none;\"/>\n    <path clip-path=\"url(#pa25f4ff947)\" d=\"M 617.914844 139.738828 \nL 692.314844 139.738828 \nL 692.314844 203.158828 \nL 617.914844 203.158828 \nL 617.914844 139.738828 \n\" style=\"fill:none;\"/>\n    <path clip-path=\"url(#pa25f4ff947)\" d=\"M 692.314844 139.738828 \nL 766.714844 139.738828 \nL 766.714844 203.158828 \nL 692.314844 203.158828 \nL 692.314844 139.738828 \n\" style=\"fill:none;\"/>\n    <path clip-path=\"url(#pa25f4ff947)\" d=\"M 766.714844 139.738828 \nL 841.114844 139.738828 \nL 841.114844 203.158828 \nL 766.714844 203.158828 \nL 766.714844 139.738828 \n\" style=\"fill:none;\"/>\n    <path clip-path=\"url(#pa25f4ff947)\" d=\"M 841.114844 139.738828 \nL 915.514844 139.738828 \nL 915.514844 203.158828 \nL 841.114844 203.158828 \nL 841.114844 139.738828 \n\" style=\"fill:none;\"/>\n    <path clip-path=\"url(#pa25f4ff947)\" d=\"M 915.514844 139.738828 \nL 989.914844 139.738828 \nL 989.914844 203.158828 \nL 915.514844 203.158828 \nL 915.514844 139.738828 \n\" style=\"fill:none;\"/>\n    <path clip-path=\"url(#pa25f4ff947)\" d=\"M 97.114844 203.158828 \nL 171.514844 203.158828 \nL 171.514844 266.578828 \nL 97.114844 266.578828 \nL 97.114844 203.158828 \n\" style=\"fill:#0a091f;\"/>\n    <path clip-path=\"url(#pa25f4ff947)\" d=\"M 171.514844 203.158828 \nL 245.914844 203.158828 \nL 245.914844 266.578828 \nL 171.514844 266.578828 \nL 171.514844 203.158828 \n\" style=\"fill:#03051a;\"/>\n    <path clip-path=\"url(#pa25f4ff947)\" d=\"M 245.914844 203.158828 \nL 320.314844 203.158828 \nL 320.314844 266.578828 \nL 245.914844 266.578828 \nL 245.914844 203.158828 \n\" style=\"fill:#04051a;\"/>\n    <path clip-path=\"url(#pa25f4ff947)\" d=\"M 320.314844 203.158828 \nL 394.714844 203.158828 \nL 394.714844 266.578828 \nL 320.314844 266.578828 \nL 320.314844 203.158828 \n\" style=\"fill:#faebdd;\"/>\n    <path clip-path=\"url(#pa25f4ff947)\" d=\"M 394.714844 203.158828 \nL 469.114844 203.158828 \nL 469.114844 266.578828 \nL 394.714844 266.578828 \nL 394.714844 203.158828 \n\" style=\"fill:none;\"/>\n    <path clip-path=\"url(#pa25f4ff947)\" d=\"M 469.114844 203.158828 \nL 543.514844 203.158828 \nL 543.514844 266.578828 \nL 469.114844 266.578828 \nL 469.114844 203.158828 \n\" style=\"fill:none;\"/>\n    <path clip-path=\"url(#pa25f4ff947)\" d=\"M 543.514844 203.158828 \nL 617.914844 203.158828 \nL 617.914844 266.578828 \nL 543.514844 266.578828 \nL 543.514844 203.158828 \n\" style=\"fill:none;\"/>\n    <path clip-path=\"url(#pa25f4ff947)\" d=\"M 617.914844 203.158828 \nL 692.314844 203.158828 \nL 692.314844 266.578828 \nL 617.914844 266.578828 \nL 617.914844 203.158828 \n\" style=\"fill:none;\"/>\n    <path clip-path=\"url(#pa25f4ff947)\" d=\"M 692.314844 203.158828 \nL 766.714844 203.158828 \nL 766.714844 266.578828 \nL 692.314844 266.578828 \nL 692.314844 203.158828 \n\" style=\"fill:none;\"/>\n    <path clip-path=\"url(#pa25f4ff947)\" d=\"M 766.714844 203.158828 \nL 841.114844 203.158828 \nL 841.114844 266.578828 \nL 766.714844 266.578828 \nL 766.714844 203.158828 \n\" style=\"fill:none;\"/>\n    <path clip-path=\"url(#pa25f4ff947)\" d=\"M 841.114844 203.158828 \nL 915.514844 203.158828 \nL 915.514844 266.578828 \nL 841.114844 266.578828 \nL 841.114844 203.158828 \n\" style=\"fill:none;\"/>\n    <path clip-path=\"url(#pa25f4ff947)\" d=\"M 915.514844 203.158828 \nL 989.914844 203.158828 \nL 989.914844 266.578828 \nL 915.514844 266.578828 \nL 915.514844 203.158828 \n\" style=\"fill:none;\"/>\n    <path clip-path=\"url(#pa25f4ff947)\" d=\"M 97.114844 266.578828 \nL 171.514844 266.578828 \nL 171.514844 329.998828 \nL 97.114844 329.998828 \nL 97.114844 266.578828 \n\" style=\"fill:#03051a;\"/>\n    <path clip-path=\"url(#pa25f4ff947)\" d=\"M 171.514844 266.578828 \nL 245.914844 266.578828 \nL 245.914844 329.998828 \nL 171.514844 329.998828 \nL 171.514844 266.578828 \n\" style=\"fill:#03051a;\"/>\n    <path clip-path=\"url(#pa25f4ff947)\" d=\"M 245.914844 266.578828 \nL 320.314844 266.578828 \nL 320.314844 329.998828 \nL 245.914844 329.998828 \nL 245.914844 266.578828 \n\" style=\"fill:#03051a;\"/>\n    <path clip-path=\"url(#pa25f4ff947)\" d=\"M 320.314844 266.578828 \nL 394.714844 266.578828 \nL 394.714844 329.998828 \nL 320.314844 329.998828 \nL 320.314844 266.578828 \n\" style=\"fill:#03051a;\"/>\n    <path clip-path=\"url(#pa25f4ff947)\" d=\"M 394.714844 266.578828 \nL 469.114844 266.578828 \nL 469.114844 329.998828 \nL 394.714844 329.998828 \nL 394.714844 266.578828 \n\" style=\"fill:#faebdd;\"/>\n    <path clip-path=\"url(#pa25f4ff947)\" d=\"M 469.114844 266.578828 \nL 543.514844 266.578828 \nL 543.514844 329.998828 \nL 469.114844 329.998828 \nL 469.114844 266.578828 \n\" style=\"fill:none;\"/>\n    <path clip-path=\"url(#pa25f4ff947)\" d=\"M 543.514844 266.578828 \nL 617.914844 266.578828 \nL 617.914844 329.998828 \nL 543.514844 329.998828 \nL 543.514844 266.578828 \n\" style=\"fill:none;\"/>\n    <path clip-path=\"url(#pa25f4ff947)\" d=\"M 617.914844 266.578828 \nL 692.314844 266.578828 \nL 692.314844 329.998828 \nL 617.914844 329.998828 \nL 617.914844 266.578828 \n\" style=\"fill:none;\"/>\n    <path clip-path=\"url(#pa25f4ff947)\" d=\"M 692.314844 266.578828 \nL 766.714844 266.578828 \nL 766.714844 329.998828 \nL 692.314844 329.998828 \nL 692.314844 266.578828 \n\" style=\"fill:none;\"/>\n    <path clip-path=\"url(#pa25f4ff947)\" d=\"M 766.714844 266.578828 \nL 841.114844 266.578828 \nL 841.114844 329.998828 \nL 766.714844 329.998828 \nL 766.714844 266.578828 \n\" style=\"fill:none;\"/>\n    <path clip-path=\"url(#pa25f4ff947)\" d=\"M 841.114844 266.578828 \nL 915.514844 266.578828 \nL 915.514844 329.998828 \nL 841.114844 329.998828 \nL 841.114844 266.578828 \n\" style=\"fill:none;\"/>\n    <path clip-path=\"url(#pa25f4ff947)\" d=\"M 915.514844 266.578828 \nL 989.914844 266.578828 \nL 989.914844 329.998828 \nL 915.514844 329.998828 \nL 915.514844 266.578828 \n\" style=\"fill:none;\"/>\n    <path clip-path=\"url(#pa25f4ff947)\" d=\"M 97.114844 329.998828 \nL 171.514844 329.998828 \nL 171.514844 393.418828 \nL 97.114844 393.418828 \nL 97.114844 329.998828 \n\" style=\"fill:#03051a;\"/>\n    <path clip-path=\"url(#pa25f4ff947)\" d=\"M 171.514844 329.998828 \nL 245.914844 329.998828 \nL 245.914844 393.418828 \nL 171.514844 393.418828 \nL 171.514844 329.998828 \n\" style=\"fill:#03051a;\"/>\n    <path clip-path=\"url(#pa25f4ff947)\" d=\"M 245.914844 329.998828 \nL 320.314844 329.998828 \nL 320.314844 393.418828 \nL 245.914844 393.418828 \nL 245.914844 329.998828 \n\" style=\"fill:#03051a;\"/>\n    <path clip-path=\"url(#pa25f4ff947)\" d=\"M 320.314844 329.998828 \nL 394.714844 329.998828 \nL 394.714844 393.418828 \nL 320.314844 393.418828 \nL 320.314844 329.998828 \n\" style=\"fill:#03051a;\"/>\n    <path clip-path=\"url(#pa25f4ff947)\" d=\"M 394.714844 329.998828 \nL 469.114844 329.998828 \nL 469.114844 393.418828 \nL 394.714844 393.418828 \nL 394.714844 329.998828 \n\" style=\"fill:#03051a;\"/>\n    <path clip-path=\"url(#pa25f4ff947)\" d=\"M 469.114844 329.998828 \nL 543.514844 329.998828 \nL 543.514844 393.418828 \nL 469.114844 393.418828 \nL 469.114844 329.998828 \n\" style=\"fill:#faebdd;\"/>\n    <path clip-path=\"url(#pa25f4ff947)\" d=\"M 543.514844 329.998828 \nL 617.914844 329.998828 \nL 617.914844 393.418828 \nL 543.514844 393.418828 \nL 543.514844 329.998828 \n\" style=\"fill:none;\"/>\n    <path clip-path=\"url(#pa25f4ff947)\" d=\"M 617.914844 329.998828 \nL 692.314844 329.998828 \nL 692.314844 393.418828 \nL 617.914844 393.418828 \nL 617.914844 329.998828 \n\" style=\"fill:none;\"/>\n    <path clip-path=\"url(#pa25f4ff947)\" d=\"M 692.314844 329.998828 \nL 766.714844 329.998828 \nL 766.714844 393.418828 \nL 692.314844 393.418828 \nL 692.314844 329.998828 \n\" style=\"fill:none;\"/>\n    <path clip-path=\"url(#pa25f4ff947)\" d=\"M 766.714844 329.998828 \nL 841.114844 329.998828 \nL 841.114844 393.418828 \nL 766.714844 393.418828 \nL 766.714844 329.998828 \n\" style=\"fill:none;\"/>\n    <path clip-path=\"url(#pa25f4ff947)\" d=\"M 841.114844 329.998828 \nL 915.514844 329.998828 \nL 915.514844 393.418828 \nL 841.114844 393.418828 \nL 841.114844 329.998828 \n\" style=\"fill:none;\"/>\n    <path clip-path=\"url(#pa25f4ff947)\" d=\"M 915.514844 329.998828 \nL 989.914844 329.998828 \nL 989.914844 393.418828 \nL 915.514844 393.418828 \nL 915.514844 329.998828 \n\" style=\"fill:none;\"/>\n    <path clip-path=\"url(#pa25f4ff947)\" d=\"M 97.114844 393.418828 \nL 171.514844 393.418828 \nL 171.514844 456.838828 \nL 97.114844 456.838828 \nL 97.114844 393.418828 \n\" style=\"fill:#03051a;\"/>\n    <path clip-path=\"url(#pa25f4ff947)\" d=\"M 171.514844 393.418828 \nL 245.914844 393.418828 \nL 245.914844 456.838828 \nL 171.514844 456.838828 \nL 171.514844 393.418828 \n\" style=\"fill:#03051a;\"/>\n    <path clip-path=\"url(#pa25f4ff947)\" d=\"M 245.914844 393.418828 \nL 320.314844 393.418828 \nL 320.314844 456.838828 \nL 245.914844 456.838828 \nL 245.914844 393.418828 \n\" style=\"fill:#03051a;\"/>\n    <path clip-path=\"url(#pa25f4ff947)\" d=\"M 320.314844 393.418828 \nL 394.714844 393.418828 \nL 394.714844 456.838828 \nL 320.314844 456.838828 \nL 320.314844 393.418828 \n\" style=\"fill:#03051a;\"/>\n    <path clip-path=\"url(#pa25f4ff947)\" d=\"M 394.714844 393.418828 \nL 469.114844 393.418828 \nL 469.114844 456.838828 \nL 394.714844 456.838828 \nL 394.714844 393.418828 \n\" style=\"fill:#03051a;\"/>\n    <path clip-path=\"url(#pa25f4ff947)\" d=\"M 469.114844 393.418828 \nL 543.514844 393.418828 \nL 543.514844 456.838828 \nL 469.114844 456.838828 \nL 469.114844 393.418828 \n\" style=\"fill:#661f54;\"/>\n    <path clip-path=\"url(#pa25f4ff947)\" d=\"M 543.514844 393.418828 \nL 617.914844 393.418828 \nL 617.914844 456.838828 \nL 543.514844 456.838828 \nL 543.514844 393.418828 \n\" style=\"fill:#faebdd;\"/>\n    <path clip-path=\"url(#pa25f4ff947)\" d=\"M 617.914844 393.418828 \nL 692.314844 393.418828 \nL 692.314844 456.838828 \nL 617.914844 456.838828 \nL 617.914844 393.418828 \n\" style=\"fill:none;\"/>\n    <path clip-path=\"url(#pa25f4ff947)\" d=\"M 692.314844 393.418828 \nL 766.714844 393.418828 \nL 766.714844 456.838828 \nL 692.314844 456.838828 \nL 692.314844 393.418828 \n\" style=\"fill:none;\"/>\n    <path clip-path=\"url(#pa25f4ff947)\" d=\"M 766.714844 393.418828 \nL 841.114844 393.418828 \nL 841.114844 456.838828 \nL 766.714844 456.838828 \nL 766.714844 393.418828 \n\" style=\"fill:none;\"/>\n    <path clip-path=\"url(#pa25f4ff947)\" d=\"M 841.114844 393.418828 \nL 915.514844 393.418828 \nL 915.514844 456.838828 \nL 841.114844 456.838828 \nL 841.114844 393.418828 \n\" style=\"fill:none;\"/>\n    <path clip-path=\"url(#pa25f4ff947)\" d=\"M 915.514844 393.418828 \nL 989.914844 393.418828 \nL 989.914844 456.838828 \nL 915.514844 456.838828 \nL 915.514844 393.418828 \n\" style=\"fill:none;\"/>\n    <path clip-path=\"url(#pa25f4ff947)\" d=\"M 97.114844 456.838828 \nL 171.514844 456.838828 \nL 171.514844 520.258828 \nL 97.114844 520.258828 \nL 97.114844 456.838828 \n\" style=\"fill:#07071d;\"/>\n    <path clip-path=\"url(#pa25f4ff947)\" d=\"M 171.514844 456.838828 \nL 245.914844 456.838828 \nL 245.914844 520.258828 \nL 171.514844 520.258828 \nL 171.514844 456.838828 \n\" style=\"fill:#9c1b5b;\"/>\n    <path clip-path=\"url(#pa25f4ff947)\" d=\"M 245.914844 456.838828 \nL 320.314844 456.838828 \nL 320.314844 520.258828 \nL 245.914844 520.258828 \nL 245.914844 456.838828 \n\" style=\"fill:#1e122d;\"/>\n    <path clip-path=\"url(#pa25f4ff947)\" d=\"M 320.314844 456.838828 \nL 394.714844 456.838828 \nL 394.714844 520.258828 \nL 320.314844 520.258828 \nL 320.314844 456.838828 \n\" style=\"fill:#03051a;\"/>\n    <path clip-path=\"url(#pa25f4ff947)\" d=\"M 394.714844 456.838828 \nL 469.114844 456.838828 \nL 469.114844 520.258828 \nL 394.714844 520.258828 \nL 394.714844 456.838828 \n\" style=\"fill:#03051a;\"/>\n    <path clip-path=\"url(#pa25f4ff947)\" d=\"M 469.114844 456.838828 \nL 543.514844 456.838828 \nL 543.514844 520.258828 \nL 469.114844 520.258828 \nL 469.114844 456.838828 \n\" style=\"fill:#03051a;\"/>\n    <path clip-path=\"url(#pa25f4ff947)\" d=\"M 543.514844 456.838828 \nL 617.914844 456.838828 \nL 617.914844 520.258828 \nL 543.514844 520.258828 \nL 543.514844 456.838828 \n\" style=\"fill:#03051a;\"/>\n    <path clip-path=\"url(#pa25f4ff947)\" d=\"M 617.914844 456.838828 \nL 692.314844 456.838828 \nL 692.314844 520.258828 \nL 617.914844 520.258828 \nL 617.914844 456.838828 \n\" style=\"fill:#faebdd;\"/>\n    <path clip-path=\"url(#pa25f4ff947)\" d=\"M 692.314844 456.838828 \nL 766.714844 456.838828 \nL 766.714844 520.258828 \nL 692.314844 520.258828 \nL 692.314844 456.838828 \n\" style=\"fill:none;\"/>\n    <path clip-path=\"url(#pa25f4ff947)\" d=\"M 766.714844 456.838828 \nL 841.114844 456.838828 \nL 841.114844 520.258828 \nL 766.714844 520.258828 \nL 766.714844 456.838828 \n\" style=\"fill:none;\"/>\n    <path clip-path=\"url(#pa25f4ff947)\" d=\"M 841.114844 456.838828 \nL 915.514844 456.838828 \nL 915.514844 520.258828 \nL 841.114844 520.258828 \nL 841.114844 456.838828 \n\" style=\"fill:none;\"/>\n    <path clip-path=\"url(#pa25f4ff947)\" d=\"M 915.514844 456.838828 \nL 989.914844 456.838828 \nL 989.914844 520.258828 \nL 915.514844 520.258828 \nL 915.514844 456.838828 \n\" style=\"fill:none;\"/>\n    <path clip-path=\"url(#pa25f4ff947)\" d=\"M 97.114844 520.258828 \nL 171.514844 520.258828 \nL 171.514844 583.678828 \nL 97.114844 583.678828 \nL 97.114844 520.258828 \n\" style=\"fill:#06071c;\"/>\n    <path clip-path=\"url(#pa25f4ff947)\" d=\"M 171.514844 520.258828 \nL 245.914844 520.258828 \nL 245.914844 583.678828 \nL 171.514844 583.678828 \nL 171.514844 520.258828 \n\" style=\"fill:#03051a;\"/>\n    <path clip-path=\"url(#pa25f4ff947)\" d=\"M 245.914844 520.258828 \nL 320.314844 520.258828 \nL 320.314844 583.678828 \nL 245.914844 583.678828 \nL 245.914844 520.258828 \n\" style=\"fill:#03051a;\"/>\n    <path clip-path=\"url(#pa25f4ff947)\" d=\"M 320.314844 520.258828 \nL 394.714844 520.258828 \nL 394.714844 583.678828 \nL 320.314844 583.678828 \nL 320.314844 520.258828 \n\" style=\"fill:#f6a67e;\"/>\n    <path clip-path=\"url(#pa25f4ff947)\" d=\"M 394.714844 520.258828 \nL 469.114844 520.258828 \nL 469.114844 583.678828 \nL 394.714844 583.678828 \nL 394.714844 520.258828 \n\" style=\"fill:#03051a;\"/>\n    <path clip-path=\"url(#pa25f4ff947)\" d=\"M 469.114844 520.258828 \nL 543.514844 520.258828 \nL 543.514844 583.678828 \nL 469.114844 583.678828 \nL 469.114844 520.258828 \n\" style=\"fill:#03051a;\"/>\n    <path clip-path=\"url(#pa25f4ff947)\" d=\"M 543.514844 520.258828 \nL 617.914844 520.258828 \nL 617.914844 583.678828 \nL 543.514844 583.678828 \nL 543.514844 520.258828 \n\" style=\"fill:#03051a;\"/>\n    <path clip-path=\"url(#pa25f4ff947)\" d=\"M 617.914844 520.258828 \nL 692.314844 520.258828 \nL 692.314844 583.678828 \nL 617.914844 583.678828 \nL 617.914844 520.258828 \n\" style=\"fill:#03051a;\"/>\n    <path clip-path=\"url(#pa25f4ff947)\" d=\"M 692.314844 520.258828 \nL 766.714844 520.258828 \nL 766.714844 583.678828 \nL 692.314844 583.678828 \nL 692.314844 520.258828 \n\" style=\"fill:#faebdd;\"/>\n    <path clip-path=\"url(#pa25f4ff947)\" d=\"M 766.714844 520.258828 \nL 841.114844 520.258828 \nL 841.114844 583.678828 \nL 766.714844 583.678828 \nL 766.714844 520.258828 \n\" style=\"fill:none;\"/>\n    <path clip-path=\"url(#pa25f4ff947)\" d=\"M 841.114844 520.258828 \nL 915.514844 520.258828 \nL 915.514844 583.678828 \nL 841.114844 583.678828 \nL 841.114844 520.258828 \n\" style=\"fill:none;\"/>\n    <path clip-path=\"url(#pa25f4ff947)\" d=\"M 915.514844 520.258828 \nL 989.914844 520.258828 \nL 989.914844 583.678828 \nL 915.514844 583.678828 \nL 915.514844 520.258828 \n\" style=\"fill:none;\"/>\n    <path clip-path=\"url(#pa25f4ff947)\" d=\"M 97.114844 583.678828 \nL 171.514844 583.678828 \nL 171.514844 647.098828 \nL 97.114844 647.098828 \nL 97.114844 583.678828 \n\" style=\"fill:#33183c;\"/>\n    <path clip-path=\"url(#pa25f4ff947)\" d=\"M 171.514844 583.678828 \nL 245.914844 583.678828 \nL 245.914844 647.098828 \nL 171.514844 647.098828 \nL 171.514844 583.678828 \n\" style=\"fill:#03051a;\"/>\n    <path clip-path=\"url(#pa25f4ff947)\" d=\"M 245.914844 583.678828 \nL 320.314844 583.678828 \nL 320.314844 647.098828 \nL 245.914844 647.098828 \nL 245.914844 583.678828 \n\" style=\"fill:#3f1b43;\"/>\n    <path clip-path=\"url(#pa25f4ff947)\" d=\"M 320.314844 583.678828 \nL 394.714844 583.678828 \nL 394.714844 647.098828 \nL 320.314844 647.098828 \nL 320.314844 583.678828 \n\" style=\"fill:#3d1a42;\"/>\n    <path clip-path=\"url(#pa25f4ff947)\" d=\"M 394.714844 583.678828 \nL 469.114844 583.678828 \nL 469.114844 647.098828 \nL 394.714844 647.098828 \nL 394.714844 583.678828 \n\" style=\"fill:#03051a;\"/>\n    <path clip-path=\"url(#pa25f4ff947)\" d=\"M 469.114844 583.678828 \nL 543.514844 583.678828 \nL 543.514844 647.098828 \nL 469.114844 647.098828 \nL 469.114844 583.678828 \n\" style=\"fill:#03051a;\"/>\n    <path clip-path=\"url(#pa25f4ff947)\" d=\"M 543.514844 583.678828 \nL 617.914844 583.678828 \nL 617.914844 647.098828 \nL 543.514844 647.098828 \nL 543.514844 583.678828 \n\" style=\"fill:#03051a;\"/>\n    <path clip-path=\"url(#pa25f4ff947)\" d=\"M 617.914844 583.678828 \nL 692.314844 583.678828 \nL 692.314844 647.098828 \nL 617.914844 647.098828 \nL 617.914844 583.678828 \n\" style=\"fill:#0b0920;\"/>\n    <path clip-path=\"url(#pa25f4ff947)\" d=\"M 692.314844 583.678828 \nL 766.714844 583.678828 \nL 766.714844 647.098828 \nL 692.314844 647.098828 \nL 692.314844 583.678828 \n\" style=\"fill:#0d0a21;\"/>\n    <path clip-path=\"url(#pa25f4ff947)\" d=\"M 766.714844 583.678828 \nL 841.114844 583.678828 \nL 841.114844 647.098828 \nL 766.714844 647.098828 \nL 766.714844 583.678828 \n\" style=\"fill:#faebdd;\"/>\n    <path clip-path=\"url(#pa25f4ff947)\" d=\"M 841.114844 583.678828 \nL 915.514844 583.678828 \nL 915.514844 647.098828 \nL 841.114844 647.098828 \nL 841.114844 583.678828 \n\" style=\"fill:none;\"/>\n    <path clip-path=\"url(#pa25f4ff947)\" d=\"M 915.514844 583.678828 \nL 989.914844 583.678828 \nL 989.914844 647.098828 \nL 915.514844 647.098828 \nL 915.514844 583.678828 \n\" style=\"fill:none;\"/>\n    <path clip-path=\"url(#pa25f4ff947)\" d=\"M 97.114844 647.098828 \nL 171.514844 647.098828 \nL 171.514844 710.518828 \nL 97.114844 710.518828 \nL 97.114844 647.098828 \n\" style=\"fill:#03051a;\"/>\n    <path clip-path=\"url(#pa25f4ff947)\" d=\"M 171.514844 647.098828 \nL 245.914844 647.098828 \nL 245.914844 710.518828 \nL 171.514844 710.518828 \nL 171.514844 647.098828 \n\" style=\"fill:#03051a;\"/>\n    <path clip-path=\"url(#pa25f4ff947)\" d=\"M 245.914844 647.098828 \nL 320.314844 647.098828 \nL 320.314844 710.518828 \nL 245.914844 710.518828 \nL 245.914844 647.098828 \n\" style=\"fill:#03051a;\"/>\n    <path clip-path=\"url(#pa25f4ff947)\" d=\"M 320.314844 647.098828 \nL 394.714844 647.098828 \nL 394.714844 710.518828 \nL 320.314844 710.518828 \nL 320.314844 647.098828 \n\" style=\"fill:#03051a;\"/>\n    <path clip-path=\"url(#pa25f4ff947)\" d=\"M 394.714844 647.098828 \nL 469.114844 647.098828 \nL 469.114844 710.518828 \nL 394.714844 710.518828 \nL 394.714844 647.098828 \n\" style=\"fill:#0b0920;\"/>\n    <path clip-path=\"url(#pa25f4ff947)\" d=\"M 469.114844 647.098828 \nL 543.514844 647.098828 \nL 543.514844 710.518828 \nL 469.114844 710.518828 \nL 469.114844 647.098828 \n\" style=\"fill:#03051a;\"/>\n    <path clip-path=\"url(#pa25f4ff947)\" d=\"M 543.514844 647.098828 \nL 617.914844 647.098828 \nL 617.914844 710.518828 \nL 543.514844 710.518828 \nL 543.514844 647.098828 \n\" style=\"fill:#05061b;\"/>\n    <path clip-path=\"url(#pa25f4ff947)\" d=\"M 617.914844 647.098828 \nL 692.314844 647.098828 \nL 692.314844 710.518828 \nL 617.914844 710.518828 \nL 617.914844 647.098828 \n\" style=\"fill:#03051a;\"/>\n    <path clip-path=\"url(#pa25f4ff947)\" d=\"M 692.314844 647.098828 \nL 766.714844 647.098828 \nL 766.714844 710.518828 \nL 692.314844 710.518828 \nL 692.314844 647.098828 \n\" style=\"fill:#03051a;\"/>\n    <path clip-path=\"url(#pa25f4ff947)\" d=\"M 766.714844 647.098828 \nL 841.114844 647.098828 \nL 841.114844 710.518828 \nL 766.714844 710.518828 \nL 766.714844 647.098828 \n\" style=\"fill:#03051a;\"/>\n    <path clip-path=\"url(#pa25f4ff947)\" d=\"M 841.114844 647.098828 \nL 915.514844 647.098828 \nL 915.514844 710.518828 \nL 841.114844 710.518828 \nL 841.114844 647.098828 \n\" style=\"fill:#faebdd;\"/>\n    <path clip-path=\"url(#pa25f4ff947)\" d=\"M 915.514844 647.098828 \nL 989.914844 647.098828 \nL 989.914844 710.518828 \nL 915.514844 710.518828 \nL 915.514844 647.098828 \n\" style=\"fill:none;\"/>\n    <path clip-path=\"url(#pa25f4ff947)\" d=\"M 97.114844 710.518828 \nL 171.514844 710.518828 \nL 171.514844 773.938828 \nL 97.114844 773.938828 \nL 97.114844 710.518828 \n\" style=\"fill:#03051a;\"/>\n    <path clip-path=\"url(#pa25f4ff947)\" d=\"M 171.514844 710.518828 \nL 245.914844 710.518828 \nL 245.914844 773.938828 \nL 171.514844 773.938828 \nL 171.514844 710.518828 \n\" style=\"fill:#03051a;\"/>\n    <path clip-path=\"url(#pa25f4ff947)\" d=\"M 245.914844 710.518828 \nL 320.314844 710.518828 \nL 320.314844 773.938828 \nL 245.914844 773.938828 \nL 245.914844 710.518828 \n\" style=\"fill:#03051a;\"/>\n    <path clip-path=\"url(#pa25f4ff947)\" d=\"M 320.314844 710.518828 \nL 394.714844 710.518828 \nL 394.714844 773.938828 \nL 320.314844 773.938828 \nL 320.314844 710.518828 \n\" style=\"fill:#03051a;\"/>\n    <path clip-path=\"url(#pa25f4ff947)\" d=\"M 394.714844 710.518828 \nL 469.114844 710.518828 \nL 469.114844 773.938828 \nL 394.714844 773.938828 \nL 394.714844 710.518828 \n\" style=\"fill:#03051a;\"/>\n    <path clip-path=\"url(#pa25f4ff947)\" d=\"M 469.114844 710.518828 \nL 543.514844 710.518828 \nL 543.514844 773.938828 \nL 469.114844 773.938828 \nL 469.114844 710.518828 \n\" style=\"fill:#0a091f;\"/>\n    <path clip-path=\"url(#pa25f4ff947)\" d=\"M 543.514844 710.518828 \nL 617.914844 710.518828 \nL 617.914844 773.938828 \nL 543.514844 773.938828 \nL 543.514844 710.518828 \n\" style=\"fill:#9c1b5b;\"/>\n    <path clip-path=\"url(#pa25f4ff947)\" d=\"M 617.914844 710.518828 \nL 692.314844 710.518828 \nL 692.314844 773.938828 \nL 617.914844 773.938828 \nL 617.914844 710.518828 \n\" style=\"fill:#03051a;\"/>\n    <path clip-path=\"url(#pa25f4ff947)\" d=\"M 692.314844 710.518828 \nL 766.714844 710.518828 \nL 766.714844 773.938828 \nL 692.314844 773.938828 \nL 692.314844 710.518828 \n\" style=\"fill:#03051a;\"/>\n    <path clip-path=\"url(#pa25f4ff947)\" d=\"M 766.714844 710.518828 \nL 841.114844 710.518828 \nL 841.114844 773.938828 \nL 766.714844 773.938828 \nL 766.714844 710.518828 \n\" style=\"fill:#03051a;\"/>\n    <path clip-path=\"url(#pa25f4ff947)\" d=\"M 841.114844 710.518828 \nL 915.514844 710.518828 \nL 915.514844 773.938828 \nL 841.114844 773.938828 \nL 841.114844 710.518828 \n\" style=\"fill:#03051a;\"/>\n    <path clip-path=\"url(#pa25f4ff947)\" d=\"M 915.514844 710.518828 \nL 989.914844 710.518828 \nL 989.914844 773.938828 \nL 915.514844 773.938828 \nL 915.514844 710.518828 \n\" style=\"fill:#faebdd;\"/>\n   </g>\n   <g id=\"matplotlib.axis_1\">\n    <g id=\"xtick_1\">\n     <g id=\"line2d_1\">\n      <defs>\n       <path d=\"M 0 0 \nL 0 3.5 \n\" id=\"m0304ef6441\" style=\"stroke:#000000;stroke-width:0.8;\"/>\n      </defs>\n      <g>\n       <use style=\"stroke:#000000;stroke-width:0.8;\" x=\"134.314844\" xlink:href=\"#m0304ef6441\" y=\"773.938828\"/>\n      </g>\n     </g>\n     <g id=\"text_1\">\n      <!-- January -->\n      <g transform=\"translate(138.453906 837.805234)rotate(-90)scale(0.15 -0.15)\">\n       <defs>\n        <path d=\"M 9.8125 72.90625 \nL 19.671875 72.90625 \nL 19.671875 5.078125 \nQ 19.671875 -8.109375 14.671875 -14.0625 \nQ 9.671875 -20.015625 -1.421875 -20.015625 \nL -5.171875 -20.015625 \nL -5.171875 -11.71875 \nL -2.09375 -11.71875 \nQ 4.4375 -11.71875 7.125 -8.046875 \nQ 9.8125 -4.390625 9.8125 5.078125 \nz\n\" id=\"DejaVuSans-74\"/>\n        <path d=\"M 34.28125 27.484375 \nQ 23.390625 27.484375 19.1875 25 \nQ 14.984375 22.515625 14.984375 16.5 \nQ 14.984375 11.71875 18.140625 8.90625 \nQ 21.296875 6.109375 26.703125 6.109375 \nQ 34.1875 6.109375 38.703125 11.40625 \nQ 43.21875 16.703125 43.21875 25.484375 \nL 43.21875 27.484375 \nz\nM 52.203125 31.203125 \nL 52.203125 0 \nL 43.21875 0 \nL 43.21875 8.296875 \nQ 40.140625 3.328125 35.546875 0.953125 \nQ 30.953125 -1.421875 24.3125 -1.421875 \nQ 15.921875 -1.421875 10.953125 3.296875 \nQ 6 8.015625 6 15.921875 \nQ 6 25.140625 12.171875 29.828125 \nQ 18.359375 34.515625 30.609375 34.515625 \nL 43.21875 34.515625 \nL 43.21875 35.40625 \nQ 43.21875 41.609375 39.140625 45 \nQ 35.0625 48.390625 27.6875 48.390625 \nQ 23 48.390625 18.546875 47.265625 \nQ 14.109375 46.140625 10.015625 43.890625 \nL 10.015625 52.203125 \nQ 14.9375 54.109375 19.578125 55.046875 \nQ 24.21875 56 28.609375 56 \nQ 40.484375 56 46.34375 49.84375 \nQ 52.203125 43.703125 52.203125 31.203125 \nz\n\" id=\"DejaVuSans-97\"/>\n        <path d=\"M 54.890625 33.015625 \nL 54.890625 0 \nL 45.90625 0 \nL 45.90625 32.71875 \nQ 45.90625 40.484375 42.875 44.328125 \nQ 39.84375 48.1875 33.796875 48.1875 \nQ 26.515625 48.1875 22.3125 43.546875 \nQ 18.109375 38.921875 18.109375 30.90625 \nL 18.109375 0 \nL 9.078125 0 \nL 9.078125 54.6875 \nL 18.109375 54.6875 \nL 18.109375 46.1875 \nQ 21.34375 51.125 25.703125 53.5625 \nQ 30.078125 56 35.796875 56 \nQ 45.21875 56 50.046875 50.171875 \nQ 54.890625 44.34375 54.890625 33.015625 \nz\n\" id=\"DejaVuSans-110\"/>\n        <path d=\"M 8.5 21.578125 \nL 8.5 54.6875 \nL 17.484375 54.6875 \nL 17.484375 21.921875 \nQ 17.484375 14.15625 20.5 10.265625 \nQ 23.53125 6.390625 29.59375 6.390625 \nQ 36.859375 6.390625 41.078125 11.03125 \nQ 45.3125 15.671875 45.3125 23.6875 \nL 45.3125 54.6875 \nL 54.296875 54.6875 \nL 54.296875 0 \nL 45.3125 0 \nL 45.3125 8.40625 \nQ 42.046875 3.421875 37.71875 1 \nQ 33.40625 -1.421875 27.6875 -1.421875 \nQ 18.265625 -1.421875 13.375 4.4375 \nQ 8.5 10.296875 8.5 21.578125 \nz\nM 31.109375 56 \nz\n\" id=\"DejaVuSans-117\"/>\n        <path d=\"M 41.109375 46.296875 \nQ 39.59375 47.171875 37.8125 47.578125 \nQ 36.03125 48 33.890625 48 \nQ 26.265625 48 22.1875 43.046875 \nQ 18.109375 38.09375 18.109375 28.8125 \nL 18.109375 0 \nL 9.078125 0 \nL 9.078125 54.6875 \nL 18.109375 54.6875 \nL 18.109375 46.1875 \nQ 20.953125 51.171875 25.484375 53.578125 \nQ 30.03125 56 36.53125 56 \nQ 37.453125 56 38.578125 55.875 \nQ 39.703125 55.765625 41.0625 55.515625 \nz\n\" id=\"DejaVuSans-114\"/>\n        <path d=\"M 32.171875 -5.078125 \nQ 28.375 -14.84375 24.75 -17.8125 \nQ 21.140625 -20.796875 15.09375 -20.796875 \nL 7.90625 -20.796875 \nL 7.90625 -13.28125 \nL 13.1875 -13.28125 \nQ 16.890625 -13.28125 18.9375 -11.515625 \nQ 21 -9.765625 23.484375 -3.21875 \nL 25.09375 0.875 \nL 2.984375 54.6875 \nL 12.5 54.6875 \nL 29.59375 11.921875 \nL 46.6875 54.6875 \nL 56.203125 54.6875 \nz\n\" id=\"DejaVuSans-121\"/>\n       </defs>\n       <use xlink:href=\"#DejaVuSans-74\"/>\n       <use x=\"29.492188\" xlink:href=\"#DejaVuSans-97\"/>\n       <use x=\"90.771484\" xlink:href=\"#DejaVuSans-110\"/>\n       <use x=\"154.150391\" xlink:href=\"#DejaVuSans-117\"/>\n       <use x=\"217.529297\" xlink:href=\"#DejaVuSans-97\"/>\n       <use x=\"278.808594\" xlink:href=\"#DejaVuSans-114\"/>\n       <use x=\"319.921875\" xlink:href=\"#DejaVuSans-121\"/>\n      </g>\n     </g>\n    </g>\n    <g id=\"xtick_2\">\n     <g id=\"line2d_2\">\n      <g>\n       <use style=\"stroke:#000000;stroke-width:0.8;\" x=\"208.714844\" xlink:href=\"#m0304ef6441\" y=\"773.938828\"/>\n      </g>\n     </g>\n     <g id=\"text_2\">\n      <!-- February -->\n      <g transform=\"translate(212.853906 847.402891)rotate(-90)scale(0.15 -0.15)\">\n       <defs>\n        <path d=\"M 9.8125 72.90625 \nL 51.703125 72.90625 \nL 51.703125 64.59375 \nL 19.671875 64.59375 \nL 19.671875 43.109375 \nL 48.578125 43.109375 \nL 48.578125 34.8125 \nL 19.671875 34.8125 \nL 19.671875 0 \nL 9.8125 0 \nz\n\" id=\"DejaVuSans-70\"/>\n        <path d=\"M 56.203125 29.59375 \nL 56.203125 25.203125 \nL 14.890625 25.203125 \nQ 15.484375 15.921875 20.484375 11.0625 \nQ 25.484375 6.203125 34.421875 6.203125 \nQ 39.59375 6.203125 44.453125 7.46875 \nQ 49.3125 8.734375 54.109375 11.28125 \nL 54.109375 2.78125 \nQ 49.265625 0.734375 44.1875 -0.34375 \nQ 39.109375 -1.421875 33.890625 -1.421875 \nQ 20.796875 -1.421875 13.15625 6.1875 \nQ 5.515625 13.8125 5.515625 26.8125 \nQ 5.515625 40.234375 12.765625 48.109375 \nQ 20.015625 56 32.328125 56 \nQ 43.359375 56 49.78125 48.890625 \nQ 56.203125 41.796875 56.203125 29.59375 \nz\nM 47.21875 32.234375 \nQ 47.125 39.59375 43.09375 43.984375 \nQ 39.0625 48.390625 32.421875 48.390625 \nQ 24.90625 48.390625 20.390625 44.140625 \nQ 15.875 39.890625 15.1875 32.171875 \nz\n\" id=\"DejaVuSans-101\"/>\n        <path d=\"M 48.6875 27.296875 \nQ 48.6875 37.203125 44.609375 42.84375 \nQ 40.53125 48.484375 33.40625 48.484375 \nQ 26.265625 48.484375 22.1875 42.84375 \nQ 18.109375 37.203125 18.109375 27.296875 \nQ 18.109375 17.390625 22.1875 11.75 \nQ 26.265625 6.109375 33.40625 6.109375 \nQ 40.53125 6.109375 44.609375 11.75 \nQ 48.6875 17.390625 48.6875 27.296875 \nz\nM 18.109375 46.390625 \nQ 20.953125 51.265625 25.265625 53.625 \nQ 29.59375 56 35.59375 56 \nQ 45.5625 56 51.78125 48.09375 \nQ 58.015625 40.1875 58.015625 27.296875 \nQ 58.015625 14.40625 51.78125 6.484375 \nQ 45.5625 -1.421875 35.59375 -1.421875 \nQ 29.59375 -1.421875 25.265625 0.953125 \nQ 20.953125 3.328125 18.109375 8.203125 \nL 18.109375 0 \nL 9.078125 0 \nL 9.078125 75.984375 \nL 18.109375 75.984375 \nz\n\" id=\"DejaVuSans-98\"/>\n       </defs>\n       <use xlink:href=\"#DejaVuSans-70\"/>\n       <use x=\"52.019531\" xlink:href=\"#DejaVuSans-101\"/>\n       <use x=\"113.542969\" xlink:href=\"#DejaVuSans-98\"/>\n       <use x=\"177.019531\" xlink:href=\"#DejaVuSans-114\"/>\n       <use x=\"218.132812\" xlink:href=\"#DejaVuSans-117\"/>\n       <use x=\"281.511719\" xlink:href=\"#DejaVuSans-97\"/>\n       <use x=\"342.791016\" xlink:href=\"#DejaVuSans-114\"/>\n       <use x=\"383.904297\" xlink:href=\"#DejaVuSans-121\"/>\n      </g>\n     </g>\n    </g>\n    <g id=\"xtick_3\">\n     <g id=\"line2d_3\">\n      <g>\n       <use style=\"stroke:#000000;stroke-width:0.8;\" x=\"283.114844\" xlink:href=\"#m0304ef6441\" y=\"773.938828\"/>\n      </g>\n     </g>\n     <g id=\"text_3\">\n      <!-- March -->\n      <g transform=\"translate(287.253906 826.656016)rotate(-90)scale(0.15 -0.15)\">\n       <defs>\n        <path d=\"M 9.8125 72.90625 \nL 24.515625 72.90625 \nL 43.109375 23.296875 \nL 61.8125 72.90625 \nL 76.515625 72.90625 \nL 76.515625 0 \nL 66.890625 0 \nL 66.890625 64.015625 \nL 48.09375 14.015625 \nL 38.1875 14.015625 \nL 19.390625 64.015625 \nL 19.390625 0 \nL 9.8125 0 \nz\n\" id=\"DejaVuSans-77\"/>\n        <path d=\"M 48.78125 52.59375 \nL 48.78125 44.1875 \nQ 44.96875 46.296875 41.140625 47.34375 \nQ 37.3125 48.390625 33.40625 48.390625 \nQ 24.65625 48.390625 19.8125 42.84375 \nQ 14.984375 37.3125 14.984375 27.296875 \nQ 14.984375 17.28125 19.8125 11.734375 \nQ 24.65625 6.203125 33.40625 6.203125 \nQ 37.3125 6.203125 41.140625 7.25 \nQ 44.96875 8.296875 48.78125 10.40625 \nL 48.78125 2.09375 \nQ 45.015625 0.34375 40.984375 -0.53125 \nQ 36.96875 -1.421875 32.421875 -1.421875 \nQ 20.0625 -1.421875 12.78125 6.34375 \nQ 5.515625 14.109375 5.515625 27.296875 \nQ 5.515625 40.671875 12.859375 48.328125 \nQ 20.21875 56 33.015625 56 \nQ 37.15625 56 41.109375 55.140625 \nQ 45.0625 54.296875 48.78125 52.59375 \nz\n\" id=\"DejaVuSans-99\"/>\n        <path d=\"M 54.890625 33.015625 \nL 54.890625 0 \nL 45.90625 0 \nL 45.90625 32.71875 \nQ 45.90625 40.484375 42.875 44.328125 \nQ 39.84375 48.1875 33.796875 48.1875 \nQ 26.515625 48.1875 22.3125 43.546875 \nQ 18.109375 38.921875 18.109375 30.90625 \nL 18.109375 0 \nL 9.078125 0 \nL 9.078125 75.984375 \nL 18.109375 75.984375 \nL 18.109375 46.1875 \nQ 21.34375 51.125 25.703125 53.5625 \nQ 30.078125 56 35.796875 56 \nQ 45.21875 56 50.046875 50.171875 \nQ 54.890625 44.34375 54.890625 33.015625 \nz\n\" id=\"DejaVuSans-104\"/>\n       </defs>\n       <use xlink:href=\"#DejaVuSans-77\"/>\n       <use x=\"86.279297\" xlink:href=\"#DejaVuSans-97\"/>\n       <use x=\"147.558594\" xlink:href=\"#DejaVuSans-114\"/>\n       <use x=\"186.421875\" xlink:href=\"#DejaVuSans-99\"/>\n       <use x=\"241.402344\" xlink:href=\"#DejaVuSans-104\"/>\n      </g>\n     </g>\n    </g>\n    <g id=\"xtick_4\">\n     <g id=\"line2d_4\">\n      <g>\n       <use style=\"stroke:#000000;stroke-width:0.8;\" x=\"357.514844\" xlink:href=\"#m0304ef6441\" y=\"773.938828\"/>\n      </g>\n     </g>\n     <g id=\"text_4\">\n      <!-- April -->\n      <g transform=\"translate(361.653906 815.223203)rotate(-90)scale(0.15 -0.15)\">\n       <defs>\n        <path d=\"M 34.1875 63.1875 \nL 20.796875 26.90625 \nL 47.609375 26.90625 \nz\nM 28.609375 72.90625 \nL 39.796875 72.90625 \nL 67.578125 0 \nL 57.328125 0 \nL 50.6875 18.703125 \nL 17.828125 18.703125 \nL 11.1875 0 \nL 0.78125 0 \nz\n\" id=\"DejaVuSans-65\"/>\n        <path d=\"M 18.109375 8.203125 \nL 18.109375 -20.796875 \nL 9.078125 -20.796875 \nL 9.078125 54.6875 \nL 18.109375 54.6875 \nL 18.109375 46.390625 \nQ 20.953125 51.265625 25.265625 53.625 \nQ 29.59375 56 35.59375 56 \nQ 45.5625 56 51.78125 48.09375 \nQ 58.015625 40.1875 58.015625 27.296875 \nQ 58.015625 14.40625 51.78125 6.484375 \nQ 45.5625 -1.421875 35.59375 -1.421875 \nQ 29.59375 -1.421875 25.265625 0.953125 \nQ 20.953125 3.328125 18.109375 8.203125 \nz\nM 48.6875 27.296875 \nQ 48.6875 37.203125 44.609375 42.84375 \nQ 40.53125 48.484375 33.40625 48.484375 \nQ 26.265625 48.484375 22.1875 42.84375 \nQ 18.109375 37.203125 18.109375 27.296875 \nQ 18.109375 17.390625 22.1875 11.75 \nQ 26.265625 6.109375 33.40625 6.109375 \nQ 40.53125 6.109375 44.609375 11.75 \nQ 48.6875 17.390625 48.6875 27.296875 \nz\n\" id=\"DejaVuSans-112\"/>\n        <path d=\"M 9.421875 54.6875 \nL 18.40625 54.6875 \nL 18.40625 0 \nL 9.421875 0 \nz\nM 9.421875 75.984375 \nL 18.40625 75.984375 \nL 18.40625 64.59375 \nL 9.421875 64.59375 \nz\n\" id=\"DejaVuSans-105\"/>\n        <path d=\"M 9.421875 75.984375 \nL 18.40625 75.984375 \nL 18.40625 0 \nL 9.421875 0 \nz\n\" id=\"DejaVuSans-108\"/>\n       </defs>\n       <use xlink:href=\"#DejaVuSans-65\"/>\n       <use x=\"68.408203\" xlink:href=\"#DejaVuSans-112\"/>\n       <use x=\"131.884766\" xlink:href=\"#DejaVuSans-114\"/>\n       <use x=\"172.998047\" xlink:href=\"#DejaVuSans-105\"/>\n       <use x=\"200.78125\" xlink:href=\"#DejaVuSans-108\"/>\n      </g>\n     </g>\n    </g>\n    <g id=\"xtick_5\">\n     <g id=\"line2d_5\">\n      <g>\n       <use style=\"stroke:#000000;stroke-width:0.8;\" x=\"431.914844\" xlink:href=\"#m0304ef6441\" y=\"773.938828\"/>\n      </g>\n     </g>\n     <g id=\"text_5\">\n      <!-- May -->\n      <g transform=\"translate(436.053906 811.951328)rotate(-90)scale(0.15 -0.15)\">\n       <use xlink:href=\"#DejaVuSans-77\"/>\n       <use x=\"86.279297\" xlink:href=\"#DejaVuSans-97\"/>\n       <use x=\"147.558594\" xlink:href=\"#DejaVuSans-121\"/>\n      </g>\n     </g>\n    </g>\n    <g id=\"xtick_6\">\n     <g id=\"line2d_6\">\n      <g>\n       <use style=\"stroke:#000000;stroke-width:0.8;\" x=\"506.314844\" xlink:href=\"#m0304ef6441\" y=\"773.938828\"/>\n      </g>\n     </g>\n     <g id=\"text_6\">\n      <!-- June -->\n      <g transform=\"translate(510.453906 813.606016)rotate(-90)scale(0.15 -0.15)\">\n       <use xlink:href=\"#DejaVuSans-74\"/>\n       <use x=\"29.492188\" xlink:href=\"#DejaVuSans-117\"/>\n       <use x=\"92.871094\" xlink:href=\"#DejaVuSans-110\"/>\n       <use x=\"156.25\" xlink:href=\"#DejaVuSans-101\"/>\n      </g>\n     </g>\n    </g>\n    <g id=\"xtick_7\">\n     <g id=\"line2d_7\">\n      <g>\n       <use style=\"stroke:#000000;stroke-width:0.8;\" x=\"580.714844\" xlink:href=\"#m0304ef6441\" y=\"773.938828\"/>\n      </g>\n     </g>\n     <g id=\"text_7\">\n      <!-- July -->\n      <g transform=\"translate(584.853906 807.915391)rotate(-90)scale(0.15 -0.15)\">\n       <use xlink:href=\"#DejaVuSans-74\"/>\n       <use x=\"29.492188\" xlink:href=\"#DejaVuSans-117\"/>\n       <use x=\"92.871094\" xlink:href=\"#DejaVuSans-108\"/>\n       <use x=\"120.654297\" xlink:href=\"#DejaVuSans-121\"/>\n      </g>\n     </g>\n    </g>\n    <g id=\"xtick_8\">\n     <g id=\"line2d_8\">\n      <g>\n       <use style=\"stroke:#000000;stroke-width:0.8;\" x=\"655.114844\" xlink:href=\"#m0304ef6441\" y=\"773.938828\"/>\n      </g>\n     </g>\n     <g id=\"text_8\">\n      <!-- August -->\n      <g transform=\"translate(659.253906 833.429453)rotate(-90)scale(0.15 -0.15)\">\n       <defs>\n        <path d=\"M 45.40625 27.984375 \nQ 45.40625 37.75 41.375 43.109375 \nQ 37.359375 48.484375 30.078125 48.484375 \nQ 22.859375 48.484375 18.828125 43.109375 \nQ 14.796875 37.75 14.796875 27.984375 \nQ 14.796875 18.265625 18.828125 12.890625 \nQ 22.859375 7.515625 30.078125 7.515625 \nQ 37.359375 7.515625 41.375 12.890625 \nQ 45.40625 18.265625 45.40625 27.984375 \nz\nM 54.390625 6.78125 \nQ 54.390625 -7.171875 48.1875 -13.984375 \nQ 42 -20.796875 29.203125 -20.796875 \nQ 24.46875 -20.796875 20.265625 -20.09375 \nQ 16.0625 -19.390625 12.109375 -17.921875 \nL 12.109375 -9.1875 \nQ 16.0625 -11.328125 19.921875 -12.34375 \nQ 23.78125 -13.375 27.78125 -13.375 \nQ 36.625 -13.375 41.015625 -8.765625 \nQ 45.40625 -4.15625 45.40625 5.171875 \nL 45.40625 9.625 \nQ 42.625 4.78125 38.28125 2.390625 \nQ 33.9375 0 27.875 0 \nQ 17.828125 0 11.671875 7.65625 \nQ 5.515625 15.328125 5.515625 27.984375 \nQ 5.515625 40.671875 11.671875 48.328125 \nQ 17.828125 56 27.875 56 \nQ 33.9375 56 38.28125 53.609375 \nQ 42.625 51.21875 45.40625 46.390625 \nL 45.40625 54.6875 \nL 54.390625 54.6875 \nz\n\" id=\"DejaVuSans-103\"/>\n        <path d=\"M 44.28125 53.078125 \nL 44.28125 44.578125 \nQ 40.484375 46.53125 36.375 47.5 \nQ 32.28125 48.484375 27.875 48.484375 \nQ 21.1875 48.484375 17.84375 46.4375 \nQ 14.5 44.390625 14.5 40.28125 \nQ 14.5 37.15625 16.890625 35.375 \nQ 19.28125 33.59375 26.515625 31.984375 \nL 29.59375 31.296875 \nQ 39.15625 29.25 43.1875 25.515625 \nQ 47.21875 21.78125 47.21875 15.09375 \nQ 47.21875 7.46875 41.1875 3.015625 \nQ 35.15625 -1.421875 24.609375 -1.421875 \nQ 20.21875 -1.421875 15.453125 -0.5625 \nQ 10.6875 0.296875 5.421875 2 \nL 5.421875 11.28125 \nQ 10.40625 8.6875 15.234375 7.390625 \nQ 20.0625 6.109375 24.8125 6.109375 \nQ 31.15625 6.109375 34.5625 8.28125 \nQ 37.984375 10.453125 37.984375 14.40625 \nQ 37.984375 18.0625 35.515625 20.015625 \nQ 33.0625 21.96875 24.703125 23.78125 \nL 21.578125 24.515625 \nQ 13.234375 26.265625 9.515625 29.90625 \nQ 5.8125 33.546875 5.8125 39.890625 \nQ 5.8125 47.609375 11.28125 51.796875 \nQ 16.75 56 26.8125 56 \nQ 31.78125 56 36.171875 55.265625 \nQ 40.578125 54.546875 44.28125 53.078125 \nz\n\" id=\"DejaVuSans-115\"/>\n        <path d=\"M 18.3125 70.21875 \nL 18.3125 54.6875 \nL 36.8125 54.6875 \nL 36.8125 47.703125 \nL 18.3125 47.703125 \nL 18.3125 18.015625 \nQ 18.3125 11.328125 20.140625 9.421875 \nQ 21.96875 7.515625 27.59375 7.515625 \nL 36.8125 7.515625 \nL 36.8125 0 \nL 27.59375 0 \nQ 17.1875 0 13.234375 3.875 \nQ 9.28125 7.765625 9.28125 18.015625 \nL 9.28125 47.703125 \nL 2.6875 47.703125 \nL 2.6875 54.6875 \nL 9.28125 54.6875 \nL 9.28125 70.21875 \nz\n\" id=\"DejaVuSans-116\"/>\n       </defs>\n       <use xlink:href=\"#DejaVuSans-65\"/>\n       <use x=\"68.408203\" xlink:href=\"#DejaVuSans-117\"/>\n       <use x=\"131.787109\" xlink:href=\"#DejaVuSans-103\"/>\n       <use x=\"195.263672\" xlink:href=\"#DejaVuSans-117\"/>\n       <use x=\"258.642578\" xlink:href=\"#DejaVuSans-115\"/>\n       <use x=\"310.742188\" xlink:href=\"#DejaVuSans-116\"/>\n      </g>\n     </g>\n    </g>\n    <g id=\"xtick_9\">\n     <g id=\"line2d_9\">\n      <g>\n       <use style=\"stroke:#000000;stroke-width:0.8;\" x=\"729.514844\" xlink:href=\"#m0304ef6441\" y=\"773.938828\"/>\n      </g>\n     </g>\n     <g id=\"text_9\">\n      <!-- September -->\n      <g transform=\"translate(733.653906 863.853672)rotate(-90)scale(0.15 -0.15)\">\n       <defs>\n        <path d=\"M 53.515625 70.515625 \nL 53.515625 60.890625 \nQ 47.90625 63.578125 42.921875 64.890625 \nQ 37.9375 66.21875 33.296875 66.21875 \nQ 25.25 66.21875 20.875 63.09375 \nQ 16.5 59.96875 16.5 54.203125 \nQ 16.5 49.359375 19.40625 46.890625 \nQ 22.3125 44.4375 30.421875 42.921875 \nL 36.375 41.703125 \nQ 47.40625 39.59375 52.65625 34.296875 \nQ 57.90625 29 57.90625 20.125 \nQ 57.90625 9.515625 50.796875 4.046875 \nQ 43.703125 -1.421875 29.984375 -1.421875 \nQ 24.8125 -1.421875 18.96875 -0.25 \nQ 13.140625 0.921875 6.890625 3.21875 \nL 6.890625 13.375 \nQ 12.890625 10.015625 18.65625 8.296875 \nQ 24.421875 6.59375 29.984375 6.59375 \nQ 38.421875 6.59375 43.015625 9.90625 \nQ 47.609375 13.234375 47.609375 19.390625 \nQ 47.609375 24.75 44.3125 27.78125 \nQ 41.015625 30.8125 33.5 32.328125 \nL 27.484375 33.5 \nQ 16.453125 35.6875 11.515625 40.375 \nQ 6.59375 45.0625 6.59375 53.421875 \nQ 6.59375 63.09375 13.40625 68.65625 \nQ 20.21875 74.21875 32.171875 74.21875 \nQ 37.3125 74.21875 42.625 73.28125 \nQ 47.953125 72.359375 53.515625 70.515625 \nz\n\" id=\"DejaVuSans-83\"/>\n        <path d=\"M 52 44.1875 \nQ 55.375 50.25 60.0625 53.125 \nQ 64.75 56 71.09375 56 \nQ 79.640625 56 84.28125 50.015625 \nQ 88.921875 44.046875 88.921875 33.015625 \nL 88.921875 0 \nL 79.890625 0 \nL 79.890625 32.71875 \nQ 79.890625 40.578125 77.09375 44.375 \nQ 74.3125 48.1875 68.609375 48.1875 \nQ 61.625 48.1875 57.5625 43.546875 \nQ 53.515625 38.921875 53.515625 30.90625 \nL 53.515625 0 \nL 44.484375 0 \nL 44.484375 32.71875 \nQ 44.484375 40.625 41.703125 44.40625 \nQ 38.921875 48.1875 33.109375 48.1875 \nQ 26.21875 48.1875 22.15625 43.53125 \nQ 18.109375 38.875 18.109375 30.90625 \nL 18.109375 0 \nL 9.078125 0 \nL 9.078125 54.6875 \nL 18.109375 54.6875 \nL 18.109375 46.1875 \nQ 21.1875 51.21875 25.484375 53.609375 \nQ 29.78125 56 35.6875 56 \nQ 41.65625 56 45.828125 52.96875 \nQ 50 49.953125 52 44.1875 \nz\n\" id=\"DejaVuSans-109\"/>\n       </defs>\n       <use xlink:href=\"#DejaVuSans-83\"/>\n       <use x=\"63.476562\" xlink:href=\"#DejaVuSans-101\"/>\n       <use x=\"125\" xlink:href=\"#DejaVuSans-112\"/>\n       <use x=\"188.476562\" xlink:href=\"#DejaVuSans-116\"/>\n       <use x=\"227.685547\" xlink:href=\"#DejaVuSans-101\"/>\n       <use x=\"289.208984\" xlink:href=\"#DejaVuSans-109\"/>\n       <use x=\"386.621094\" xlink:href=\"#DejaVuSans-98\"/>\n       <use x=\"450.097656\" xlink:href=\"#DejaVuSans-101\"/>\n       <use x=\"511.621094\" xlink:href=\"#DejaVuSans-114\"/>\n      </g>\n     </g>\n    </g>\n    <g id=\"xtick_10\">\n     <g id=\"line2d_10\">\n      <g>\n       <use style=\"stroke:#000000;stroke-width:0.8;\" x=\"803.914844\" xlink:href=\"#m0304ef6441\" y=\"773.938828\"/>\n      </g>\n     </g>\n     <g id=\"text_10\">\n      <!-- October -->\n      <g transform=\"translate(808.053906 840.971641)rotate(-90)scale(0.15 -0.15)\">\n       <defs>\n        <path d=\"M 39.40625 66.21875 \nQ 28.65625 66.21875 22.328125 58.203125 \nQ 16.015625 50.203125 16.015625 36.375 \nQ 16.015625 22.609375 22.328125 14.59375 \nQ 28.65625 6.59375 39.40625 6.59375 \nQ 50.140625 6.59375 56.421875 14.59375 \nQ 62.703125 22.609375 62.703125 36.375 \nQ 62.703125 50.203125 56.421875 58.203125 \nQ 50.140625 66.21875 39.40625 66.21875 \nz\nM 39.40625 74.21875 \nQ 54.734375 74.21875 63.90625 63.9375 \nQ 73.09375 53.65625 73.09375 36.375 \nQ 73.09375 19.140625 63.90625 8.859375 \nQ 54.734375 -1.421875 39.40625 -1.421875 \nQ 24.03125 -1.421875 14.8125 8.828125 \nQ 5.609375 19.09375 5.609375 36.375 \nQ 5.609375 53.65625 14.8125 63.9375 \nQ 24.03125 74.21875 39.40625 74.21875 \nz\n\" id=\"DejaVuSans-79\"/>\n        <path d=\"M 30.609375 48.390625 \nQ 23.390625 48.390625 19.1875 42.75 \nQ 14.984375 37.109375 14.984375 27.296875 \nQ 14.984375 17.484375 19.15625 11.84375 \nQ 23.34375 6.203125 30.609375 6.203125 \nQ 37.796875 6.203125 41.984375 11.859375 \nQ 46.1875 17.53125 46.1875 27.296875 \nQ 46.1875 37.015625 41.984375 42.703125 \nQ 37.796875 48.390625 30.609375 48.390625 \nz\nM 30.609375 56 \nQ 42.328125 56 49.015625 48.375 \nQ 55.71875 40.765625 55.71875 27.296875 \nQ 55.71875 13.875 49.015625 6.21875 \nQ 42.328125 -1.421875 30.609375 -1.421875 \nQ 18.84375 -1.421875 12.171875 6.21875 \nQ 5.515625 13.875 5.515625 27.296875 \nQ 5.515625 40.765625 12.171875 48.375 \nQ 18.84375 56 30.609375 56 \nz\n\" id=\"DejaVuSans-111\"/>\n       </defs>\n       <use xlink:href=\"#DejaVuSans-79\"/>\n       <use x=\"78.710938\" xlink:href=\"#DejaVuSans-99\"/>\n       <use x=\"133.691406\" xlink:href=\"#DejaVuSans-116\"/>\n       <use x=\"172.900391\" xlink:href=\"#DejaVuSans-111\"/>\n       <use x=\"234.082031\" xlink:href=\"#DejaVuSans-98\"/>\n       <use x=\"297.558594\" xlink:href=\"#DejaVuSans-101\"/>\n       <use x=\"359.082031\" xlink:href=\"#DejaVuSans-114\"/>\n      </g>\n     </g>\n    </g>\n    <g id=\"xtick_11\">\n     <g id=\"line2d_11\">\n      <g>\n       <use style=\"stroke:#000000;stroke-width:0.8;\" x=\"878.314844\" xlink:href=\"#m0304ef6441\" y=\"773.938828\"/>\n      </g>\n     </g>\n     <g id=\"text_11\">\n      <!-- November -->\n      <g transform=\"translate(882.453906 858.976328)rotate(-90)scale(0.15 -0.15)\">\n       <defs>\n        <path d=\"M 9.8125 72.90625 \nL 23.09375 72.90625 \nL 55.421875 11.921875 \nL 55.421875 72.90625 \nL 64.984375 72.90625 \nL 64.984375 0 \nL 51.703125 0 \nL 19.390625 60.984375 \nL 19.390625 0 \nL 9.8125 0 \nz\n\" id=\"DejaVuSans-78\"/>\n        <path d=\"M 2.984375 54.6875 \nL 12.5 54.6875 \nL 29.59375 8.796875 \nL 46.6875 54.6875 \nL 56.203125 54.6875 \nL 35.6875 0 \nL 23.484375 0 \nz\n\" id=\"DejaVuSans-118\"/>\n       </defs>\n       <use xlink:href=\"#DejaVuSans-78\"/>\n       <use x=\"74.804688\" xlink:href=\"#DejaVuSans-111\"/>\n       <use x=\"135.986328\" xlink:href=\"#DejaVuSans-118\"/>\n       <use x=\"195.166016\" xlink:href=\"#DejaVuSans-101\"/>\n       <use x=\"256.689453\" xlink:href=\"#DejaVuSans-109\"/>\n       <use x=\"354.101562\" xlink:href=\"#DejaVuSans-98\"/>\n       <use x=\"417.578125\" xlink:href=\"#DejaVuSans-101\"/>\n       <use x=\"479.101562\" xlink:href=\"#DejaVuSans-114\"/>\n      </g>\n     </g>\n    </g>\n    <g id=\"xtick_12\">\n     <g id=\"line2d_12\">\n      <g>\n       <use style=\"stroke:#000000;stroke-width:0.8;\" x=\"952.714844\" xlink:href=\"#m0304ef6441\" y=\"773.938828\"/>\n      </g>\n     </g>\n     <g id=\"text_12\">\n      <!-- December -->\n      <g transform=\"translate(956.853906 858.725547)rotate(-90)scale(0.15 -0.15)\">\n       <defs>\n        <path d=\"M 19.671875 64.796875 \nL 19.671875 8.109375 \nL 31.59375 8.109375 \nQ 46.6875 8.109375 53.6875 14.9375 \nQ 60.6875 21.78125 60.6875 36.53125 \nQ 60.6875 51.171875 53.6875 57.984375 \nQ 46.6875 64.796875 31.59375 64.796875 \nz\nM 9.8125 72.90625 \nL 30.078125 72.90625 \nQ 51.265625 72.90625 61.171875 64.09375 \nQ 71.09375 55.28125 71.09375 36.53125 \nQ 71.09375 17.671875 61.125 8.828125 \nQ 51.171875 0 30.078125 0 \nL 9.8125 0 \nz\n\" id=\"DejaVuSans-68\"/>\n       </defs>\n       <use xlink:href=\"#DejaVuSans-68\"/>\n       <use x=\"77.001953\" xlink:href=\"#DejaVuSans-101\"/>\n       <use x=\"138.525391\" xlink:href=\"#DejaVuSans-99\"/>\n       <use x=\"193.505859\" xlink:href=\"#DejaVuSans-101\"/>\n       <use x=\"255.029297\" xlink:href=\"#DejaVuSans-109\"/>\n       <use x=\"352.441406\" xlink:href=\"#DejaVuSans-98\"/>\n       <use x=\"415.917969\" xlink:href=\"#DejaVuSans-101\"/>\n       <use x=\"477.441406\" xlink:href=\"#DejaVuSans-114\"/>\n      </g>\n     </g>\n    </g>\n   </g>\n   <g id=\"matplotlib.axis_2\">\n    <g id=\"ytick_1\">\n     <g id=\"line2d_13\">\n      <defs>\n       <path d=\"M 0 0 \nL -3.5 0 \n\" id=\"mfbf94c4dcc\" style=\"stroke:#000000;stroke-width:0.8;\"/>\n      </defs>\n      <g>\n       <use style=\"stroke:#000000;stroke-width:0.8;\" x=\"97.114844\" xlink:href=\"#mfbf94c4dcc\" y=\"44.608828\"/>\n      </g>\n     </g>\n     <g id=\"text_13\">\n      <!-- January -->\n      <g transform=\"translate(33.248438 50.307656)scale(0.15 -0.15)\">\n       <use xlink:href=\"#DejaVuSans-74\"/>\n       <use x=\"29.492188\" xlink:href=\"#DejaVuSans-97\"/>\n       <use x=\"90.771484\" xlink:href=\"#DejaVuSans-110\"/>\n       <use x=\"154.150391\" xlink:href=\"#DejaVuSans-117\"/>\n       <use x=\"217.529297\" xlink:href=\"#DejaVuSans-97\"/>\n       <use x=\"278.808594\" xlink:href=\"#DejaVuSans-114\"/>\n       <use x=\"319.921875\" xlink:href=\"#DejaVuSans-121\"/>\n      </g>\n     </g>\n    </g>\n    <g id=\"ytick_2\">\n     <g id=\"line2d_14\">\n      <g>\n       <use style=\"stroke:#000000;stroke-width:0.8;\" x=\"97.114844\" xlink:href=\"#mfbf94c4dcc\" y=\"108.028828\"/>\n      </g>\n     </g>\n     <g id=\"text_14\">\n      <!-- February -->\n      <g transform=\"translate(23.650781 113.727656)scale(0.15 -0.15)\">\n       <use xlink:href=\"#DejaVuSans-70\"/>\n       <use x=\"52.019531\" xlink:href=\"#DejaVuSans-101\"/>\n       <use x=\"113.542969\" xlink:href=\"#DejaVuSans-98\"/>\n       <use x=\"177.019531\" xlink:href=\"#DejaVuSans-114\"/>\n       <use x=\"218.132812\" xlink:href=\"#DejaVuSans-117\"/>\n       <use x=\"281.511719\" xlink:href=\"#DejaVuSans-97\"/>\n       <use x=\"342.791016\" xlink:href=\"#DejaVuSans-114\"/>\n       <use x=\"383.904297\" xlink:href=\"#DejaVuSans-121\"/>\n      </g>\n     </g>\n    </g>\n    <g id=\"ytick_3\">\n     <g id=\"line2d_15\">\n      <g>\n       <use style=\"stroke:#000000;stroke-width:0.8;\" x=\"97.114844\" xlink:href=\"#mfbf94c4dcc\" y=\"171.448828\"/>\n      </g>\n     </g>\n     <g id=\"text_15\">\n      <!-- March -->\n      <g transform=\"translate(44.397656 177.147656)scale(0.15 -0.15)\">\n       <use xlink:href=\"#DejaVuSans-77\"/>\n       <use x=\"86.279297\" xlink:href=\"#DejaVuSans-97\"/>\n       <use x=\"147.558594\" xlink:href=\"#DejaVuSans-114\"/>\n       <use x=\"186.421875\" xlink:href=\"#DejaVuSans-99\"/>\n       <use x=\"241.402344\" xlink:href=\"#DejaVuSans-104\"/>\n      </g>\n     </g>\n    </g>\n    <g id=\"ytick_4\">\n     <g id=\"line2d_16\">\n      <g>\n       <use style=\"stroke:#000000;stroke-width:0.8;\" x=\"97.114844\" xlink:href=\"#mfbf94c4dcc\" y=\"234.868828\"/>\n      </g>\n     </g>\n     <g id=\"text_16\">\n      <!-- April -->\n      <g transform=\"translate(55.830469 240.567656)scale(0.15 -0.15)\">\n       <use xlink:href=\"#DejaVuSans-65\"/>\n       <use x=\"68.408203\" xlink:href=\"#DejaVuSans-112\"/>\n       <use x=\"131.884766\" xlink:href=\"#DejaVuSans-114\"/>\n       <use x=\"172.998047\" xlink:href=\"#DejaVuSans-105\"/>\n       <use x=\"200.78125\" xlink:href=\"#DejaVuSans-108\"/>\n      </g>\n     </g>\n    </g>\n    <g id=\"ytick_5\">\n     <g id=\"line2d_17\">\n      <g>\n       <use style=\"stroke:#000000;stroke-width:0.8;\" x=\"97.114844\" xlink:href=\"#mfbf94c4dcc\" y=\"298.288828\"/>\n      </g>\n     </g>\n     <g id=\"text_17\">\n      <!-- May -->\n      <g transform=\"translate(59.102344 303.987656)scale(0.15 -0.15)\">\n       <use xlink:href=\"#DejaVuSans-77\"/>\n       <use x=\"86.279297\" xlink:href=\"#DejaVuSans-97\"/>\n       <use x=\"147.558594\" xlink:href=\"#DejaVuSans-121\"/>\n      </g>\n     </g>\n    </g>\n    <g id=\"ytick_6\">\n     <g id=\"line2d_18\">\n      <g>\n       <use style=\"stroke:#000000;stroke-width:0.8;\" x=\"97.114844\" xlink:href=\"#mfbf94c4dcc\" y=\"361.708828\"/>\n      </g>\n     </g>\n     <g id=\"text_18\">\n      <!-- June -->\n      <g transform=\"translate(57.447656 367.407656)scale(0.15 -0.15)\">\n       <use xlink:href=\"#DejaVuSans-74\"/>\n       <use x=\"29.492188\" xlink:href=\"#DejaVuSans-117\"/>\n       <use x=\"92.871094\" xlink:href=\"#DejaVuSans-110\"/>\n       <use x=\"156.25\" xlink:href=\"#DejaVuSans-101\"/>\n      </g>\n     </g>\n    </g>\n    <g id=\"ytick_7\">\n     <g id=\"line2d_19\">\n      <g>\n       <use style=\"stroke:#000000;stroke-width:0.8;\" x=\"97.114844\" xlink:href=\"#mfbf94c4dcc\" y=\"425.128828\"/>\n      </g>\n     </g>\n     <g id=\"text_19\">\n      <!-- July -->\n      <g transform=\"translate(63.138281 430.827656)scale(0.15 -0.15)\">\n       <use xlink:href=\"#DejaVuSans-74\"/>\n       <use x=\"29.492188\" xlink:href=\"#DejaVuSans-117\"/>\n       <use x=\"92.871094\" xlink:href=\"#DejaVuSans-108\"/>\n       <use x=\"120.654297\" xlink:href=\"#DejaVuSans-121\"/>\n      </g>\n     </g>\n    </g>\n    <g id=\"ytick_8\">\n     <g id=\"line2d_20\">\n      <g>\n       <use style=\"stroke:#000000;stroke-width:0.8;\" x=\"97.114844\" xlink:href=\"#mfbf94c4dcc\" y=\"488.548828\"/>\n      </g>\n     </g>\n     <g id=\"text_20\">\n      <!-- August -->\n      <g transform=\"translate(37.624219 494.247656)scale(0.15 -0.15)\">\n       <use xlink:href=\"#DejaVuSans-65\"/>\n       <use x=\"68.408203\" xlink:href=\"#DejaVuSans-117\"/>\n       <use x=\"131.787109\" xlink:href=\"#DejaVuSans-103\"/>\n       <use x=\"195.263672\" xlink:href=\"#DejaVuSans-117\"/>\n       <use x=\"258.642578\" xlink:href=\"#DejaVuSans-115\"/>\n       <use x=\"310.742188\" xlink:href=\"#DejaVuSans-116\"/>\n      </g>\n     </g>\n    </g>\n    <g id=\"ytick_9\">\n     <g id=\"line2d_21\">\n      <g>\n       <use style=\"stroke:#000000;stroke-width:0.8;\" x=\"97.114844\" xlink:href=\"#mfbf94c4dcc\" y=\"551.968828\"/>\n      </g>\n     </g>\n     <g id=\"text_21\">\n      <!-- September -->\n      <g transform=\"translate(7.2 557.667656)scale(0.15 -0.15)\">\n       <use xlink:href=\"#DejaVuSans-83\"/>\n       <use x=\"63.476562\" xlink:href=\"#DejaVuSans-101\"/>\n       <use x=\"125\" xlink:href=\"#DejaVuSans-112\"/>\n       <use x=\"188.476562\" xlink:href=\"#DejaVuSans-116\"/>\n       <use x=\"227.685547\" xlink:href=\"#DejaVuSans-101\"/>\n       <use x=\"289.208984\" xlink:href=\"#DejaVuSans-109\"/>\n       <use x=\"386.621094\" xlink:href=\"#DejaVuSans-98\"/>\n       <use x=\"450.097656\" xlink:href=\"#DejaVuSans-101\"/>\n       <use x=\"511.621094\" xlink:href=\"#DejaVuSans-114\"/>\n      </g>\n     </g>\n    </g>\n    <g id=\"ytick_10\">\n     <g id=\"line2d_22\">\n      <g>\n       <use style=\"stroke:#000000;stroke-width:0.8;\" x=\"97.114844\" xlink:href=\"#mfbf94c4dcc\" y=\"615.388828\"/>\n      </g>\n     </g>\n     <g id=\"text_22\">\n      <!-- October -->\n      <g transform=\"translate(30.082031 621.087656)scale(0.15 -0.15)\">\n       <use xlink:href=\"#DejaVuSans-79\"/>\n       <use x=\"78.710938\" xlink:href=\"#DejaVuSans-99\"/>\n       <use x=\"133.691406\" xlink:href=\"#DejaVuSans-116\"/>\n       <use x=\"172.900391\" xlink:href=\"#DejaVuSans-111\"/>\n       <use x=\"234.082031\" xlink:href=\"#DejaVuSans-98\"/>\n       <use x=\"297.558594\" xlink:href=\"#DejaVuSans-101\"/>\n       <use x=\"359.082031\" xlink:href=\"#DejaVuSans-114\"/>\n      </g>\n     </g>\n    </g>\n    <g id=\"ytick_11\">\n     <g id=\"line2d_23\">\n      <g>\n       <use style=\"stroke:#000000;stroke-width:0.8;\" x=\"97.114844\" xlink:href=\"#mfbf94c4dcc\" y=\"678.808828\"/>\n      </g>\n     </g>\n     <g id=\"text_23\">\n      <!-- November -->\n      <g transform=\"translate(12.077344 684.507656)scale(0.15 -0.15)\">\n       <use xlink:href=\"#DejaVuSans-78\"/>\n       <use x=\"74.804688\" xlink:href=\"#DejaVuSans-111\"/>\n       <use x=\"135.986328\" xlink:href=\"#DejaVuSans-118\"/>\n       <use x=\"195.166016\" xlink:href=\"#DejaVuSans-101\"/>\n       <use x=\"256.689453\" xlink:href=\"#DejaVuSans-109\"/>\n       <use x=\"354.101562\" xlink:href=\"#DejaVuSans-98\"/>\n       <use x=\"417.578125\" xlink:href=\"#DejaVuSans-101\"/>\n       <use x=\"479.101562\" xlink:href=\"#DejaVuSans-114\"/>\n      </g>\n     </g>\n    </g>\n    <g id=\"ytick_12\">\n     <g id=\"line2d_24\">\n      <g>\n       <use style=\"stroke:#000000;stroke-width:0.8;\" x=\"97.114844\" xlink:href=\"#mfbf94c4dcc\" y=\"742.228828\"/>\n      </g>\n     </g>\n     <g id=\"text_24\">\n      <!-- December -->\n      <g transform=\"translate(12.328125 747.927656)scale(0.15 -0.15)\">\n       <use xlink:href=\"#DejaVuSans-68\"/>\n       <use x=\"77.001953\" xlink:href=\"#DejaVuSans-101\"/>\n       <use x=\"138.525391\" xlink:href=\"#DejaVuSans-99\"/>\n       <use x=\"193.505859\" xlink:href=\"#DejaVuSans-101\"/>\n       <use x=\"255.029297\" xlink:href=\"#DejaVuSans-109\"/>\n       <use x=\"352.441406\" xlink:href=\"#DejaVuSans-98\"/>\n       <use x=\"415.917969\" xlink:href=\"#DejaVuSans-101\"/>\n       <use x=\"477.441406\" xlink:href=\"#DejaVuSans-114\"/>\n      </g>\n     </g>\n    </g>\n   </g>\n   <g id=\"text_25\">\n    <!-- 1 -->\n    <g style=\"fill:#262626;\" transform=\"translate(129.542969 48.747891)scale(0.15 -0.15)\">\n     <defs>\n      <path d=\"M 12.40625 8.296875 \nL 28.515625 8.296875 \nL 28.515625 63.921875 \nL 10.984375 60.40625 \nL 10.984375 69.390625 \nL 28.421875 72.90625 \nL 38.28125 72.90625 \nL 38.28125 8.296875 \nL 54.390625 8.296875 \nL 54.390625 0 \nL 12.40625 0 \nz\n\" id=\"DejaVuSans-49\"/>\n     </defs>\n     <use xlink:href=\"#DejaVuSans-49\"/>\n    </g>\n   </g>\n   <g id=\"text_26\">\n    <!-- 0.096 -->\n    <g style=\"fill:#ffffff;\" transform=\"translate(112.84375 112.167891)scale(0.15 -0.15)\">\n     <defs>\n      <path d=\"M 31.78125 66.40625 \nQ 24.171875 66.40625 20.328125 58.90625 \nQ 16.5 51.421875 16.5 36.375 \nQ 16.5 21.390625 20.328125 13.890625 \nQ 24.171875 6.390625 31.78125 6.390625 \nQ 39.453125 6.390625 43.28125 13.890625 \nQ 47.125 21.390625 47.125 36.375 \nQ 47.125 51.421875 43.28125 58.90625 \nQ 39.453125 66.40625 31.78125 66.40625 \nz\nM 31.78125 74.21875 \nQ 44.046875 74.21875 50.515625 64.515625 \nQ 56.984375 54.828125 56.984375 36.375 \nQ 56.984375 17.96875 50.515625 8.265625 \nQ 44.046875 -1.421875 31.78125 -1.421875 \nQ 19.53125 -1.421875 13.0625 8.265625 \nQ 6.59375 17.96875 6.59375 36.375 \nQ 6.59375 54.828125 13.0625 64.515625 \nQ 19.53125 74.21875 31.78125 74.21875 \nz\n\" id=\"DejaVuSans-48\"/>\n      <path d=\"M 10.6875 12.40625 \nL 21 12.40625 \nL 21 0 \nL 10.6875 0 \nz\n\" id=\"DejaVuSans-46\"/>\n      <path d=\"M 10.984375 1.515625 \nL 10.984375 10.5 \nQ 14.703125 8.734375 18.5 7.8125 \nQ 22.3125 6.890625 25.984375 6.890625 \nQ 35.75 6.890625 40.890625 13.453125 \nQ 46.046875 20.015625 46.78125 33.40625 \nQ 43.953125 29.203125 39.59375 26.953125 \nQ 35.25 24.703125 29.984375 24.703125 \nQ 19.046875 24.703125 12.671875 31.3125 \nQ 6.296875 37.9375 6.296875 49.421875 \nQ 6.296875 60.640625 12.9375 67.421875 \nQ 19.578125 74.21875 30.609375 74.21875 \nQ 43.265625 74.21875 49.921875 64.515625 \nQ 56.59375 54.828125 56.59375 36.375 \nQ 56.59375 19.140625 48.40625 8.859375 \nQ 40.234375 -1.421875 26.421875 -1.421875 \nQ 22.703125 -1.421875 18.890625 -0.6875 \nQ 15.09375 0.046875 10.984375 1.515625 \nz\nM 30.609375 32.421875 \nQ 37.25 32.421875 41.125 36.953125 \nQ 45.015625 41.5 45.015625 49.421875 \nQ 45.015625 57.28125 41.125 61.84375 \nQ 37.25 66.40625 30.609375 66.40625 \nQ 23.96875 66.40625 20.09375 61.84375 \nQ 16.21875 57.28125 16.21875 49.421875 \nQ 16.21875 41.5 20.09375 36.953125 \nQ 23.96875 32.421875 30.609375 32.421875 \nz\n\" id=\"DejaVuSans-57\"/>\n      <path d=\"M 33.015625 40.375 \nQ 26.375 40.375 22.484375 35.828125 \nQ 18.609375 31.296875 18.609375 23.390625 \nQ 18.609375 15.53125 22.484375 10.953125 \nQ 26.375 6.390625 33.015625 6.390625 \nQ 39.65625 6.390625 43.53125 10.953125 \nQ 47.40625 15.53125 47.40625 23.390625 \nQ 47.40625 31.296875 43.53125 35.828125 \nQ 39.65625 40.375 33.015625 40.375 \nz\nM 52.59375 71.296875 \nL 52.59375 62.3125 \nQ 48.875 64.0625 45.09375 64.984375 \nQ 41.3125 65.921875 37.59375 65.921875 \nQ 27.828125 65.921875 22.671875 59.328125 \nQ 17.53125 52.734375 16.796875 39.40625 \nQ 19.671875 43.65625 24.015625 45.921875 \nQ 28.375 48.1875 33.59375 48.1875 \nQ 44.578125 48.1875 50.953125 41.515625 \nQ 57.328125 34.859375 57.328125 23.390625 \nQ 57.328125 12.15625 50.6875 5.359375 \nQ 44.046875 -1.421875 33.015625 -1.421875 \nQ 20.359375 -1.421875 13.671875 8.265625 \nQ 6.984375 17.96875 6.984375 36.375 \nQ 6.984375 53.65625 15.1875 63.9375 \nQ 23.390625 74.21875 37.203125 74.21875 \nQ 40.921875 74.21875 44.703125 73.484375 \nQ 48.484375 72.75 52.59375 71.296875 \nz\n\" id=\"DejaVuSans-54\"/>\n     </defs>\n     <use xlink:href=\"#DejaVuSans-48\"/>\n     <use x=\"63.623047\" xlink:href=\"#DejaVuSans-46\"/>\n     <use x=\"95.410156\" xlink:href=\"#DejaVuSans-48\"/>\n     <use x=\"159.033203\" xlink:href=\"#DejaVuSans-57\"/>\n     <use x=\"222.65625\" xlink:href=\"#DejaVuSans-54\"/>\n    </g>\n   </g>\n   <g id=\"text_27\">\n    <!-- 1 -->\n    <g style=\"fill:#262626;\" transform=\"translate(203.942969 112.167891)scale(0.15 -0.15)\">\n     <use xlink:href=\"#DejaVuSans-49\"/>\n    </g>\n   </g>\n   <g id=\"text_28\">\n    <!-- 0.4 -->\n    <g style=\"fill:#ffffff;\" transform=\"translate(122.3875 175.587891)scale(0.15 -0.15)\">\n     <defs>\n      <path d=\"M 37.796875 64.3125 \nL 12.890625 25.390625 \nL 37.796875 25.390625 \nz\nM 35.203125 72.90625 \nL 47.609375 72.90625 \nL 47.609375 25.390625 \nL 58.015625 25.390625 \nL 58.015625 17.1875 \nL 47.609375 17.1875 \nL 47.609375 0 \nL 37.796875 0 \nL 37.796875 17.1875 \nL 4.890625 17.1875 \nL 4.890625 26.703125 \nz\n\" id=\"DejaVuSans-52\"/>\n     </defs>\n     <use xlink:href=\"#DejaVuSans-48\"/>\n     <use x=\"63.623047\" xlink:href=\"#DejaVuSans-46\"/>\n     <use x=\"95.410156\" xlink:href=\"#DejaVuSans-52\"/>\n    </g>\n   </g>\n   <g id=\"text_29\">\n    <!-- 0.024 -->\n    <g style=\"fill:#ffffff;\" transform=\"translate(187.24375 175.587891)scale(0.15 -0.15)\">\n     <defs>\n      <path d=\"M 19.1875 8.296875 \nL 53.609375 8.296875 \nL 53.609375 0 \nL 7.328125 0 \nL 7.328125 8.296875 \nQ 12.9375 14.109375 22.625 23.890625 \nQ 32.328125 33.6875 34.8125 36.53125 \nQ 39.546875 41.84375 41.421875 45.53125 \nQ 43.3125 49.21875 43.3125 52.78125 \nQ 43.3125 58.59375 39.234375 62.25 \nQ 35.15625 65.921875 28.609375 65.921875 \nQ 23.96875 65.921875 18.8125 64.3125 \nQ 13.671875 62.703125 7.8125 59.421875 \nL 7.8125 69.390625 \nQ 13.765625 71.78125 18.9375 73 \nQ 24.125 74.21875 28.421875 74.21875 \nQ 39.75 74.21875 46.484375 68.546875 \nQ 53.21875 62.890625 53.21875 53.421875 \nQ 53.21875 48.921875 51.53125 44.890625 \nQ 49.859375 40.875 45.40625 35.40625 \nQ 44.1875 33.984375 37.640625 27.21875 \nQ 31.109375 20.453125 19.1875 8.296875 \nz\n\" id=\"DejaVuSans-50\"/>\n     </defs>\n     <use xlink:href=\"#DejaVuSans-48\"/>\n     <use x=\"63.623047\" xlink:href=\"#DejaVuSans-46\"/>\n     <use x=\"95.410156\" xlink:href=\"#DejaVuSans-48\"/>\n     <use x=\"159.033203\" xlink:href=\"#DejaVuSans-50\"/>\n     <use x=\"222.65625\" xlink:href=\"#DejaVuSans-52\"/>\n    </g>\n   </g>\n   <g id=\"text_30\">\n    <!-- 1 -->\n    <g style=\"fill:#262626;\" transform=\"translate(278.342969 175.587891)scale(0.15 -0.15)\">\n     <use xlink:href=\"#DejaVuSans-49\"/>\n    </g>\n   </g>\n   <g id=\"text_31\">\n    <!-- 0.024 -->\n    <g style=\"fill:#ffffff;\" transform=\"translate(112.84375 239.007891)scale(0.15 -0.15)\">\n     <use xlink:href=\"#DejaVuSans-48\"/>\n     <use x=\"63.623047\" xlink:href=\"#DejaVuSans-46\"/>\n     <use x=\"95.410156\" xlink:href=\"#DejaVuSans-48\"/>\n     <use x=\"159.033203\" xlink:href=\"#DejaVuSans-50\"/>\n     <use x=\"222.65625\" xlink:href=\"#DejaVuSans-52\"/>\n    </g>\n   </g>\n   <g id=\"text_32\">\n    <!-- 1e-05 -->\n    <g style=\"fill:#ffffff;\" transform=\"translate(187.078516 239.007891)scale(0.15 -0.15)\">\n     <defs>\n      <path d=\"M 4.890625 31.390625 \nL 31.203125 31.390625 \nL 31.203125 23.390625 \nL 4.890625 23.390625 \nz\n\" id=\"DejaVuSans-45\"/>\n      <path d=\"M 10.796875 72.90625 \nL 49.515625 72.90625 \nL 49.515625 64.59375 \nL 19.828125 64.59375 \nL 19.828125 46.734375 \nQ 21.96875 47.46875 24.109375 47.828125 \nQ 26.265625 48.1875 28.421875 48.1875 \nQ 40.625 48.1875 47.75 41.5 \nQ 54.890625 34.8125 54.890625 23.390625 \nQ 54.890625 11.625 47.5625 5.09375 \nQ 40.234375 -1.421875 26.90625 -1.421875 \nQ 22.3125 -1.421875 17.546875 -0.640625 \nQ 12.796875 0.140625 7.71875 1.703125 \nL 7.71875 11.625 \nQ 12.109375 9.234375 16.796875 8.0625 \nQ 21.484375 6.890625 26.703125 6.890625 \nQ 35.15625 6.890625 40.078125 11.328125 \nQ 45.015625 15.765625 45.015625 23.390625 \nQ 45.015625 31 40.078125 35.4375 \nQ 35.15625 39.890625 26.703125 39.890625 \nQ 22.75 39.890625 18.8125 39.015625 \nQ 14.890625 38.140625 10.796875 36.28125 \nz\n\" id=\"DejaVuSans-53\"/>\n     </defs>\n     <use xlink:href=\"#DejaVuSans-49\"/>\n     <use x=\"63.623047\" xlink:href=\"#DejaVuSans-101\"/>\n     <use x=\"125.146484\" xlink:href=\"#DejaVuSans-45\"/>\n     <use x=\"161.230469\" xlink:href=\"#DejaVuSans-48\"/>\n     <use x=\"224.853516\" xlink:href=\"#DejaVuSans-53\"/>\n    </g>\n   </g>\n   <g id=\"text_33\">\n    <!-- 0.0077 -->\n    <g style=\"fill:#ffffff;\" transform=\"translate(256.871875 239.007891)scale(0.15 -0.15)\">\n     <defs>\n      <path d=\"M 8.203125 72.90625 \nL 55.078125 72.90625 \nL 55.078125 68.703125 \nL 28.609375 0 \nL 18.3125 0 \nL 43.21875 64.59375 \nL 8.203125 64.59375 \nz\n\" id=\"DejaVuSans-55\"/>\n     </defs>\n     <use xlink:href=\"#DejaVuSans-48\"/>\n     <use x=\"63.623047\" xlink:href=\"#DejaVuSans-46\"/>\n     <use x=\"95.410156\" xlink:href=\"#DejaVuSans-48\"/>\n     <use x=\"159.033203\" xlink:href=\"#DejaVuSans-48\"/>\n     <use x=\"222.65625\" xlink:href=\"#DejaVuSans-55\"/>\n     <use x=\"286.279297\" xlink:href=\"#DejaVuSans-55\"/>\n    </g>\n   </g>\n   <g id=\"text_34\">\n    <!-- 1 -->\n    <g style=\"fill:#262626;\" transform=\"translate(352.742969 239.007891)scale(0.15 -0.15)\">\n     <use xlink:href=\"#DejaVuSans-49\"/>\n    </g>\n   </g>\n   <g id=\"text_35\">\n    <!-- 4.4e-07 -->\n    <g style=\"fill:#ffffff;\" transform=\"translate(105.523047 302.427891)scale(0.15 -0.15)\">\n     <use xlink:href=\"#DejaVuSans-52\"/>\n     <use x=\"63.623047\" xlink:href=\"#DejaVuSans-46\"/>\n     <use x=\"95.410156\" xlink:href=\"#DejaVuSans-52\"/>\n     <use x=\"159.033203\" xlink:href=\"#DejaVuSans-101\"/>\n     <use x=\"220.556641\" xlink:href=\"#DejaVuSans-45\"/>\n     <use x=\"256.640625\" xlink:href=\"#DejaVuSans-48\"/>\n     <use x=\"320.263672\" xlink:href=\"#DejaVuSans-55\"/>\n    </g>\n   </g>\n   <g id=\"text_36\">\n    <!-- 2.6e-05 -->\n    <g style=\"fill:#ffffff;\" transform=\"translate(179.923047 302.427891)scale(0.15 -0.15)\">\n     <use xlink:href=\"#DejaVuSans-50\"/>\n     <use x=\"63.623047\" xlink:href=\"#DejaVuSans-46\"/>\n     <use x=\"95.410156\" xlink:href=\"#DejaVuSans-54\"/>\n     <use x=\"159.033203\" xlink:href=\"#DejaVuSans-101\"/>\n     <use x=\"220.556641\" xlink:href=\"#DejaVuSans-45\"/>\n     <use x=\"256.640625\" xlink:href=\"#DejaVuSans-48\"/>\n     <use x=\"320.263672\" xlink:href=\"#DejaVuSans-53\"/>\n    </g>\n   </g>\n   <g id=\"text_37\">\n    <!-- 0.00032 -->\n    <g style=\"fill:#ffffff;\" transform=\"translate(252.1 302.427891)scale(0.15 -0.15)\">\n     <defs>\n      <path d=\"M 40.578125 39.3125 \nQ 47.65625 37.796875 51.625 33 \nQ 55.609375 28.21875 55.609375 21.1875 \nQ 55.609375 10.40625 48.1875 4.484375 \nQ 40.765625 -1.421875 27.09375 -1.421875 \nQ 22.515625 -1.421875 17.65625 -0.515625 \nQ 12.796875 0.390625 7.625 2.203125 \nL 7.625 11.71875 \nQ 11.71875 9.328125 16.59375 8.109375 \nQ 21.484375 6.890625 26.8125 6.890625 \nQ 36.078125 6.890625 40.9375 10.546875 \nQ 45.796875 14.203125 45.796875 21.1875 \nQ 45.796875 27.640625 41.28125 31.265625 \nQ 36.765625 34.90625 28.71875 34.90625 \nL 20.21875 34.90625 \nL 20.21875 43.015625 \nL 29.109375 43.015625 \nQ 36.375 43.015625 40.234375 45.921875 \nQ 44.09375 48.828125 44.09375 54.296875 \nQ 44.09375 59.90625 40.109375 62.90625 \nQ 36.140625 65.921875 28.71875 65.921875 \nQ 24.65625 65.921875 20.015625 65.03125 \nQ 15.375 64.15625 9.8125 62.3125 \nL 9.8125 71.09375 \nQ 15.4375 72.65625 20.34375 73.4375 \nQ 25.25 74.21875 29.59375 74.21875 \nQ 40.828125 74.21875 47.359375 69.109375 \nQ 53.90625 64.015625 53.90625 55.328125 \nQ 53.90625 49.265625 50.4375 45.09375 \nQ 46.96875 40.921875 40.578125 39.3125 \nz\n\" id=\"DejaVuSans-51\"/>\n     </defs>\n     <use xlink:href=\"#DejaVuSans-48\"/>\n     <use x=\"63.623047\" xlink:href=\"#DejaVuSans-46\"/>\n     <use x=\"95.410156\" xlink:href=\"#DejaVuSans-48\"/>\n     <use x=\"159.033203\" xlink:href=\"#DejaVuSans-48\"/>\n     <use x=\"222.65625\" xlink:href=\"#DejaVuSans-48\"/>\n     <use x=\"286.279297\" xlink:href=\"#DejaVuSans-51\"/>\n     <use x=\"349.902344\" xlink:href=\"#DejaVuSans-50\"/>\n    </g>\n   </g>\n   <g id=\"text_38\">\n    <!-- 4.9e-08 -->\n    <g style=\"fill:#ffffff;\" transform=\"translate(328.723047 302.427891)scale(0.15 -0.15)\">\n     <defs>\n      <path d=\"M 31.78125 34.625 \nQ 24.75 34.625 20.71875 30.859375 \nQ 16.703125 27.09375 16.703125 20.515625 \nQ 16.703125 13.921875 20.71875 10.15625 \nQ 24.75 6.390625 31.78125 6.390625 \nQ 38.8125 6.390625 42.859375 10.171875 \nQ 46.921875 13.96875 46.921875 20.515625 \nQ 46.921875 27.09375 42.890625 30.859375 \nQ 38.875 34.625 31.78125 34.625 \nz\nM 21.921875 38.8125 \nQ 15.578125 40.375 12.03125 44.71875 \nQ 8.5 49.078125 8.5 55.328125 \nQ 8.5 64.0625 14.71875 69.140625 \nQ 20.953125 74.21875 31.78125 74.21875 \nQ 42.671875 74.21875 48.875 69.140625 \nQ 55.078125 64.0625 55.078125 55.328125 \nQ 55.078125 49.078125 51.53125 44.71875 \nQ 48 40.375 41.703125 38.8125 \nQ 48.828125 37.15625 52.796875 32.3125 \nQ 56.78125 27.484375 56.78125 20.515625 \nQ 56.78125 9.90625 50.3125 4.234375 \nQ 43.84375 -1.421875 31.78125 -1.421875 \nQ 19.734375 -1.421875 13.25 4.234375 \nQ 6.78125 9.90625 6.78125 20.515625 \nQ 6.78125 27.484375 10.78125 32.3125 \nQ 14.796875 37.15625 21.921875 38.8125 \nz\nM 18.3125 54.390625 \nQ 18.3125 48.734375 21.84375 45.5625 \nQ 25.390625 42.390625 31.78125 42.390625 \nQ 38.140625 42.390625 41.71875 45.5625 \nQ 45.3125 48.734375 45.3125 54.390625 \nQ 45.3125 60.0625 41.71875 63.234375 \nQ 38.140625 66.40625 31.78125 66.40625 \nQ 25.390625 66.40625 21.84375 63.234375 \nQ 18.3125 60.0625 18.3125 54.390625 \nz\n\" id=\"DejaVuSans-56\"/>\n     </defs>\n     <use xlink:href=\"#DejaVuSans-52\"/>\n     <use x=\"63.623047\" xlink:href=\"#DejaVuSans-46\"/>\n     <use x=\"95.410156\" xlink:href=\"#DejaVuSans-57\"/>\n     <use x=\"159.033203\" xlink:href=\"#DejaVuSans-101\"/>\n     <use x=\"220.556641\" xlink:href=\"#DejaVuSans-45\"/>\n     <use x=\"256.640625\" xlink:href=\"#DejaVuSans-48\"/>\n     <use x=\"320.263672\" xlink:href=\"#DejaVuSans-56\"/>\n    </g>\n   </g>\n   <g id=\"text_39\">\n    <!-- 1 -->\n    <g style=\"fill:#262626;\" transform=\"translate(427.142969 302.427891)scale(0.15 -0.15)\">\n     <use xlink:href=\"#DejaVuSans-49\"/>\n    </g>\n   </g>\n   <g id=\"text_40\">\n    <!-- 4.4e-15 -->\n    <g style=\"fill:#ffffff;\" transform=\"translate(105.523047 365.847891)scale(0.15 -0.15)\">\n     <use xlink:href=\"#DejaVuSans-52\"/>\n     <use x=\"63.623047\" xlink:href=\"#DejaVuSans-46\"/>\n     <use x=\"95.410156\" xlink:href=\"#DejaVuSans-52\"/>\n     <use x=\"159.033203\" xlink:href=\"#DejaVuSans-101\"/>\n     <use x=\"220.556641\" xlink:href=\"#DejaVuSans-45\"/>\n     <use x=\"256.640625\" xlink:href=\"#DejaVuSans-49\"/>\n     <use x=\"320.263672\" xlink:href=\"#DejaVuSans-53\"/>\n    </g>\n   </g>\n   <g id=\"text_41\">\n    <!-- 2.8e-10 -->\n    <g style=\"fill:#ffffff;\" transform=\"translate(179.923047 365.847891)scale(0.15 -0.15)\">\n     <use xlink:href=\"#DejaVuSans-50\"/>\n     <use x=\"63.623047\" xlink:href=\"#DejaVuSans-46\"/>\n     <use x=\"95.410156\" xlink:href=\"#DejaVuSans-56\"/>\n     <use x=\"159.033203\" xlink:href=\"#DejaVuSans-101\"/>\n     <use x=\"220.556641\" xlink:href=\"#DejaVuSans-45\"/>\n     <use x=\"256.640625\" xlink:href=\"#DejaVuSans-49\"/>\n     <use x=\"320.263672\" xlink:href=\"#DejaVuSans-48\"/>\n    </g>\n   </g>\n   <g id=\"text_42\">\n    <!-- 8.8e-11 -->\n    <g style=\"fill:#ffffff;\" transform=\"translate(254.323047 365.847891)scale(0.15 -0.15)\">\n     <use xlink:href=\"#DejaVuSans-56\"/>\n     <use x=\"63.623047\" xlink:href=\"#DejaVuSans-46\"/>\n     <use x=\"95.410156\" xlink:href=\"#DejaVuSans-56\"/>\n     <use x=\"159.033203\" xlink:href=\"#DejaVuSans-101\"/>\n     <use x=\"220.556641\" xlink:href=\"#DejaVuSans-45\"/>\n     <use x=\"256.640625\" xlink:href=\"#DejaVuSans-49\"/>\n     <use x=\"320.263672\" xlink:href=\"#DejaVuSans-49\"/>\n    </g>\n   </g>\n   <g id=\"text_43\">\n    <!-- 4.2e-20 -->\n    <g style=\"fill:#ffffff;\" transform=\"translate(328.723047 365.847891)scale(0.15 -0.15)\">\n     <use xlink:href=\"#DejaVuSans-52\"/>\n     <use x=\"63.623047\" xlink:href=\"#DejaVuSans-46\"/>\n     <use x=\"95.410156\" xlink:href=\"#DejaVuSans-50\"/>\n     <use x=\"159.033203\" xlink:href=\"#DejaVuSans-101\"/>\n     <use x=\"220.556641\" xlink:href=\"#DejaVuSans-45\"/>\n     <use x=\"256.640625\" xlink:href=\"#DejaVuSans-50\"/>\n     <use x=\"320.263672\" xlink:href=\"#DejaVuSans-48\"/>\n    </g>\n   </g>\n   <g id=\"text_44\">\n    <!-- 6.2e-05 -->\n    <g style=\"fill:#ffffff;\" transform=\"translate(403.123047 365.847891)scale(0.15 -0.15)\">\n     <use xlink:href=\"#DejaVuSans-54\"/>\n     <use x=\"63.623047\" xlink:href=\"#DejaVuSans-46\"/>\n     <use x=\"95.410156\" xlink:href=\"#DejaVuSans-50\"/>\n     <use x=\"159.033203\" xlink:href=\"#DejaVuSans-101\"/>\n     <use x=\"220.556641\" xlink:href=\"#DejaVuSans-45\"/>\n     <use x=\"256.640625\" xlink:href=\"#DejaVuSans-48\"/>\n     <use x=\"320.263672\" xlink:href=\"#DejaVuSans-53\"/>\n    </g>\n   </g>\n   <g id=\"text_45\">\n    <!-- 1 -->\n    <g style=\"fill:#262626;\" transform=\"translate(501.542969 365.847891)scale(0.15 -0.15)\">\n     <use xlink:href=\"#DejaVuSans-49\"/>\n    </g>\n   </g>\n   <g id=\"text_46\">\n    <!-- 7.4e-10 -->\n    <g style=\"fill:#ffffff;\" transform=\"translate(105.523047 429.267891)scale(0.15 -0.15)\">\n     <use xlink:href=\"#DejaVuSans-55\"/>\n     <use x=\"63.623047\" xlink:href=\"#DejaVuSans-46\"/>\n     <use x=\"95.410156\" xlink:href=\"#DejaVuSans-52\"/>\n     <use x=\"159.033203\" xlink:href=\"#DejaVuSans-101\"/>\n     <use x=\"220.556641\" xlink:href=\"#DejaVuSans-45\"/>\n     <use x=\"256.640625\" xlink:href=\"#DejaVuSans-49\"/>\n     <use x=\"320.263672\" xlink:href=\"#DejaVuSans-48\"/>\n    </g>\n   </g>\n   <g id=\"text_47\">\n    <!-- 2.5e-07 -->\n    <g style=\"fill:#ffffff;\" transform=\"translate(179.923047 429.267891)scale(0.15 -0.15)\">\n     <use xlink:href=\"#DejaVuSans-50\"/>\n     <use x=\"63.623047\" xlink:href=\"#DejaVuSans-46\"/>\n     <use x=\"95.410156\" xlink:href=\"#DejaVuSans-53\"/>\n     <use x=\"159.033203\" xlink:href=\"#DejaVuSans-101\"/>\n     <use x=\"220.556641\" xlink:href=\"#DejaVuSans-45\"/>\n     <use x=\"256.640625\" xlink:href=\"#DejaVuSans-48\"/>\n     <use x=\"320.263672\" xlink:href=\"#DejaVuSans-55\"/>\n    </g>\n   </g>\n   <g id=\"text_48\">\n    <!-- 2.3e-07 -->\n    <g style=\"fill:#ffffff;\" transform=\"translate(254.323047 429.267891)scale(0.15 -0.15)\">\n     <use xlink:href=\"#DejaVuSans-50\"/>\n     <use x=\"63.623047\" xlink:href=\"#DejaVuSans-46\"/>\n     <use x=\"95.410156\" xlink:href=\"#DejaVuSans-51\"/>\n     <use x=\"159.033203\" xlink:href=\"#DejaVuSans-101\"/>\n     <use x=\"220.556641\" xlink:href=\"#DejaVuSans-45\"/>\n     <use x=\"256.640625\" xlink:href=\"#DejaVuSans-48\"/>\n     <use x=\"320.263672\" xlink:href=\"#DejaVuSans-55\"/>\n    </g>\n   </g>\n   <g id=\"text_49\">\n    <!-- 0 -->\n    <g style=\"fill:#ffffff;\" transform=\"translate(352.742969 429.267891)scale(0.15 -0.15)\">\n     <use xlink:href=\"#DejaVuSans-48\"/>\n    </g>\n   </g>\n   <g id=\"text_50\">\n    <!-- 2.3e-05 -->\n    <g style=\"fill:#ffffff;\" transform=\"translate(403.123047 429.267891)scale(0.15 -0.15)\">\n     <use xlink:href=\"#DejaVuSans-50\"/>\n     <use x=\"63.623047\" xlink:href=\"#DejaVuSans-46\"/>\n     <use x=\"95.410156\" xlink:href=\"#DejaVuSans-51\"/>\n     <use x=\"159.033203\" xlink:href=\"#DejaVuSans-101\"/>\n     <use x=\"220.556641\" xlink:href=\"#DejaVuSans-45\"/>\n     <use x=\"256.640625\" xlink:href=\"#DejaVuSans-48\"/>\n     <use x=\"320.263672\" xlink:href=\"#DejaVuSans-53\"/>\n    </g>\n   </g>\n   <g id=\"text_51\">\n    <!-- 0.26 -->\n    <g style=\"fill:#ffffff;\" transform=\"translate(489.615625 429.267891)scale(0.15 -0.15)\">\n     <use xlink:href=\"#DejaVuSans-48\"/>\n     <use x=\"63.623047\" xlink:href=\"#DejaVuSans-46\"/>\n     <use x=\"95.410156\" xlink:href=\"#DejaVuSans-50\"/>\n     <use x=\"159.033203\" xlink:href=\"#DejaVuSans-54\"/>\n    </g>\n   </g>\n   <g id=\"text_52\">\n    <!-- 1 -->\n    <g style=\"fill:#262626;\" transform=\"translate(575.942969 429.267891)scale(0.15 -0.15)\">\n     <use xlink:href=\"#DejaVuSans-49\"/>\n    </g>\n   </g>\n   <g id=\"text_53\">\n    <!-- 0.017 -->\n    <g style=\"fill:#ffffff;\" transform=\"translate(112.84375 492.687891)scale(0.15 -0.15)\">\n     <use xlink:href=\"#DejaVuSans-48\"/>\n     <use x=\"63.623047\" xlink:href=\"#DejaVuSans-46\"/>\n     <use x=\"95.410156\" xlink:href=\"#DejaVuSans-48\"/>\n     <use x=\"159.033203\" xlink:href=\"#DejaVuSans-49\"/>\n     <use x=\"222.65625\" xlink:href=\"#DejaVuSans-55\"/>\n    </g>\n   </g>\n   <g id=\"text_54\">\n    <!-- 0.39 -->\n    <g style=\"fill:#ffffff;\" transform=\"translate(192.015625 492.687891)scale(0.15 -0.15)\">\n     <use xlink:href=\"#DejaVuSans-48\"/>\n     <use x=\"63.623047\" xlink:href=\"#DejaVuSans-46\"/>\n     <use x=\"95.410156\" xlink:href=\"#DejaVuSans-51\"/>\n     <use x=\"159.033203\" xlink:href=\"#DejaVuSans-57\"/>\n    </g>\n   </g>\n   <g id=\"text_55\">\n    <!-- 0.078 -->\n    <g style=\"fill:#ffffff;\" transform=\"translate(261.64375 492.687891)scale(0.15 -0.15)\">\n     <use xlink:href=\"#DejaVuSans-48\"/>\n     <use x=\"63.623047\" xlink:href=\"#DejaVuSans-46\"/>\n     <use x=\"95.410156\" xlink:href=\"#DejaVuSans-48\"/>\n     <use x=\"159.033203\" xlink:href=\"#DejaVuSans-55\"/>\n     <use x=\"222.65625\" xlink:href=\"#DejaVuSans-56\"/>\n    </g>\n   </g>\n   <g id=\"text_56\">\n    <!-- 0.00084 -->\n    <g style=\"fill:#ffffff;\" transform=\"translate(326.5 492.687891)scale(0.15 -0.15)\">\n     <use xlink:href=\"#DejaVuSans-48\"/>\n     <use x=\"63.623047\" xlink:href=\"#DejaVuSans-46\"/>\n     <use x=\"95.410156\" xlink:href=\"#DejaVuSans-48\"/>\n     <use x=\"159.033203\" xlink:href=\"#DejaVuSans-48\"/>\n     <use x=\"222.65625\" xlink:href=\"#DejaVuSans-48\"/>\n     <use x=\"286.279297\" xlink:href=\"#DejaVuSans-56\"/>\n     <use x=\"349.902344\" xlink:href=\"#DejaVuSans-52\"/>\n    </g>\n   </g>\n   <g id=\"text_57\">\n    <!-- 5.8e-06 -->\n    <g style=\"fill:#ffffff;\" transform=\"translate(403.123047 492.687891)scale(0.15 -0.15)\">\n     <use xlink:href=\"#DejaVuSans-53\"/>\n     <use x=\"63.623047\" xlink:href=\"#DejaVuSans-46\"/>\n     <use x=\"95.410156\" xlink:href=\"#DejaVuSans-56\"/>\n     <use x=\"159.033203\" xlink:href=\"#DejaVuSans-101\"/>\n     <use x=\"220.556641\" xlink:href=\"#DejaVuSans-45\"/>\n     <use x=\"256.640625\" xlink:href=\"#DejaVuSans-48\"/>\n     <use x=\"320.263672\" xlink:href=\"#DejaVuSans-54\"/>\n    </g>\n   </g>\n   <g id=\"text_58\">\n    <!-- 9.3e-14 -->\n    <g style=\"fill:#ffffff;\" transform=\"translate(477.523047 492.687891)scale(0.15 -0.15)\">\n     <use xlink:href=\"#DejaVuSans-57\"/>\n     <use x=\"63.623047\" xlink:href=\"#DejaVuSans-46\"/>\n     <use x=\"95.410156\" xlink:href=\"#DejaVuSans-51\"/>\n     <use x=\"159.033203\" xlink:href=\"#DejaVuSans-101\"/>\n     <use x=\"220.556641\" xlink:href=\"#DejaVuSans-45\"/>\n     <use x=\"256.640625\" xlink:href=\"#DejaVuSans-49\"/>\n     <use x=\"320.263672\" xlink:href=\"#DejaVuSans-52\"/>\n    </g>\n   </g>\n   <g id=\"text_59\">\n    <!-- 5.8e-09 -->\n    <g style=\"fill:#ffffff;\" transform=\"translate(551.923047 492.687891)scale(0.15 -0.15)\">\n     <use xlink:href=\"#DejaVuSans-53\"/>\n     <use x=\"63.623047\" xlink:href=\"#DejaVuSans-46\"/>\n     <use x=\"95.410156\" xlink:href=\"#DejaVuSans-56\"/>\n     <use x=\"159.033203\" xlink:href=\"#DejaVuSans-101\"/>\n     <use x=\"220.556641\" xlink:href=\"#DejaVuSans-45\"/>\n     <use x=\"256.640625\" xlink:href=\"#DejaVuSans-48\"/>\n     <use x=\"320.263672\" xlink:href=\"#DejaVuSans-57\"/>\n    </g>\n   </g>\n   <g id=\"text_60\">\n    <!-- 1 -->\n    <g style=\"fill:#262626;\" transform=\"translate(650.342969 492.687891)scale(0.15 -0.15)\">\n     <use xlink:href=\"#DejaVuSans-49\"/>\n    </g>\n   </g>\n   <g id=\"text_61\">\n    <!-- 0.012 -->\n    <g style=\"fill:#ffffff;\" transform=\"translate(112.84375 556.107891)scale(0.15 -0.15)\">\n     <use xlink:href=\"#DejaVuSans-48\"/>\n     <use x=\"63.623047\" xlink:href=\"#DejaVuSans-46\"/>\n     <use x=\"95.410156\" xlink:href=\"#DejaVuSans-48\"/>\n     <use x=\"159.033203\" xlink:href=\"#DejaVuSans-49\"/>\n     <use x=\"222.65625\" xlink:href=\"#DejaVuSans-50\"/>\n    </g>\n   </g>\n   <g id=\"text_62\">\n    <!-- 4.8e-06 -->\n    <g style=\"fill:#ffffff;\" transform=\"translate(179.923047 556.107891)scale(0.15 -0.15)\">\n     <use xlink:href=\"#DejaVuSans-52\"/>\n     <use x=\"63.623047\" xlink:href=\"#DejaVuSans-46\"/>\n     <use x=\"95.410156\" xlink:href=\"#DejaVuSans-56\"/>\n     <use x=\"159.033203\" xlink:href=\"#DejaVuSans-101\"/>\n     <use x=\"220.556641\" xlink:href=\"#DejaVuSans-45\"/>\n     <use x=\"256.640625\" xlink:href=\"#DejaVuSans-48\"/>\n     <use x=\"320.263672\" xlink:href=\"#DejaVuSans-54\"/>\n    </g>\n   </g>\n   <g id=\"text_63\">\n    <!-- 0.0018 -->\n    <g style=\"fill:#ffffff;\" transform=\"translate(256.871875 556.107891)scale(0.15 -0.15)\">\n     <use xlink:href=\"#DejaVuSans-48\"/>\n     <use x=\"63.623047\" xlink:href=\"#DejaVuSans-46\"/>\n     <use x=\"95.410156\" xlink:href=\"#DejaVuSans-48\"/>\n     <use x=\"159.033203\" xlink:href=\"#DejaVuSans-48\"/>\n     <use x=\"222.65625\" xlink:href=\"#DejaVuSans-49\"/>\n     <use x=\"286.279297\" xlink:href=\"#DejaVuSans-56\"/>\n    </g>\n   </g>\n   <g id=\"text_64\">\n    <!-- 0.82 -->\n    <g style=\"fill:#262626;\" transform=\"translate(340.815625 556.107891)scale(0.15 -0.15)\">\n     <use xlink:href=\"#DejaVuSans-48\"/>\n     <use x=\"63.623047\" xlink:href=\"#DejaVuSans-46\"/>\n     <use x=\"95.410156\" xlink:href=\"#DejaVuSans-56\"/>\n     <use x=\"159.033203\" xlink:href=\"#DejaVuSans-50\"/>\n    </g>\n   </g>\n   <g id=\"text_65\">\n    <!-- 7.5e-08 -->\n    <g style=\"fill:#ffffff;\" transform=\"translate(403.123047 556.107891)scale(0.15 -0.15)\">\n     <use xlink:href=\"#DejaVuSans-55\"/>\n     <use x=\"63.623047\" xlink:href=\"#DejaVuSans-46\"/>\n     <use x=\"95.410156\" xlink:href=\"#DejaVuSans-53\"/>\n     <use x=\"159.033203\" xlink:href=\"#DejaVuSans-101\"/>\n     <use x=\"220.556641\" xlink:href=\"#DejaVuSans-45\"/>\n     <use x=\"256.640625\" xlink:href=\"#DejaVuSans-48\"/>\n     <use x=\"320.263672\" xlink:href=\"#DejaVuSans-56\"/>\n    </g>\n   </g>\n   <g id=\"text_66\">\n    <!-- 8.9e-16 -->\n    <g style=\"fill:#ffffff;\" transform=\"translate(477.523047 556.107891)scale(0.15 -0.15)\">\n     <use xlink:href=\"#DejaVuSans-56\"/>\n     <use x=\"63.623047\" xlink:href=\"#DejaVuSans-46\"/>\n     <use x=\"95.410156\" xlink:href=\"#DejaVuSans-57\"/>\n     <use x=\"159.033203\" xlink:href=\"#DejaVuSans-101\"/>\n     <use x=\"220.556641\" xlink:href=\"#DejaVuSans-45\"/>\n     <use x=\"256.640625\" xlink:href=\"#DejaVuSans-49\"/>\n     <use x=\"320.263672\" xlink:href=\"#DejaVuSans-54\"/>\n    </g>\n   </g>\n   <g id=\"text_67\">\n    <!-- 1.7e-15 -->\n    <g style=\"fill:#ffffff;\" transform=\"translate(551.923047 556.107891)scale(0.15 -0.15)\">\n     <use xlink:href=\"#DejaVuSans-49\"/>\n     <use x=\"63.623047\" xlink:href=\"#DejaVuSans-46\"/>\n     <use x=\"95.410156\" xlink:href=\"#DejaVuSans-55\"/>\n     <use x=\"159.033203\" xlink:href=\"#DejaVuSans-101\"/>\n     <use x=\"220.556641\" xlink:href=\"#DejaVuSans-45\"/>\n     <use x=\"256.640625\" xlink:href=\"#DejaVuSans-49\"/>\n     <use x=\"320.263672\" xlink:href=\"#DejaVuSans-53\"/>\n    </g>\n   </g>\n   <g id=\"text_68\">\n    <!-- 0.00012 -->\n    <g style=\"fill:#ffffff;\" transform=\"translate(624.1 556.107891)scale(0.15 -0.15)\">\n     <use xlink:href=\"#DejaVuSans-48\"/>\n     <use x=\"63.623047\" xlink:href=\"#DejaVuSans-46\"/>\n     <use x=\"95.410156\" xlink:href=\"#DejaVuSans-48\"/>\n     <use x=\"159.033203\" xlink:href=\"#DejaVuSans-48\"/>\n     <use x=\"222.65625\" xlink:href=\"#DejaVuSans-48\"/>\n     <use x=\"286.279297\" xlink:href=\"#DejaVuSans-49\"/>\n     <use x=\"349.902344\" xlink:href=\"#DejaVuSans-50\"/>\n    </g>\n   </g>\n   <g id=\"text_69\">\n    <!-- 1 -->\n    <g style=\"fill:#262626;\" transform=\"translate(724.742969 556.107891)scale(0.15 -0.15)\">\n     <use xlink:href=\"#DejaVuSans-49\"/>\n    </g>\n   </g>\n   <g id=\"text_70\">\n    <!-- 0.13 -->\n    <g style=\"fill:#ffffff;\" transform=\"translate(117.615625 619.527891)scale(0.15 -0.15)\">\n     <use xlink:href=\"#DejaVuSans-48\"/>\n     <use x=\"63.623047\" xlink:href=\"#DejaVuSans-46\"/>\n     <use x=\"95.410156\" xlink:href=\"#DejaVuSans-49\"/>\n     <use x=\"159.033203\" xlink:href=\"#DejaVuSans-51\"/>\n    </g>\n   </g>\n   <g id=\"text_71\">\n    <!-- 0.00048 -->\n    <g style=\"fill:#ffffff;\" transform=\"translate(177.7 619.527891)scale(0.15 -0.15)\">\n     <use xlink:href=\"#DejaVuSans-48\"/>\n     <use x=\"63.623047\" xlink:href=\"#DejaVuSans-46\"/>\n     <use x=\"95.410156\" xlink:href=\"#DejaVuSans-48\"/>\n     <use x=\"159.033203\" xlink:href=\"#DejaVuSans-48\"/>\n     <use x=\"222.65625\" xlink:href=\"#DejaVuSans-48\"/>\n     <use x=\"286.279297\" xlink:href=\"#DejaVuSans-52\"/>\n     <use x=\"349.902344\" xlink:href=\"#DejaVuSans-56\"/>\n    </g>\n   </g>\n   <g id=\"text_72\">\n    <!-- 0.17 -->\n    <g style=\"fill:#ffffff;\" transform=\"translate(266.415625 619.527891)scale(0.15 -0.15)\">\n     <use xlink:href=\"#DejaVuSans-48\"/>\n     <use x=\"63.623047\" xlink:href=\"#DejaVuSans-46\"/>\n     <use x=\"95.410156\" xlink:href=\"#DejaVuSans-49\"/>\n     <use x=\"159.033203\" xlink:href=\"#DejaVuSans-55\"/>\n    </g>\n   </g>\n   <g id=\"text_73\">\n    <!-- 0.16 -->\n    <g style=\"fill:#ffffff;\" transform=\"translate(340.815625 619.527891)scale(0.15 -0.15)\">\n     <use xlink:href=\"#DejaVuSans-48\"/>\n     <use x=\"63.623047\" xlink:href=\"#DejaVuSans-46\"/>\n     <use x=\"95.410156\" xlink:href=\"#DejaVuSans-49\"/>\n     <use x=\"159.033203\" xlink:href=\"#DejaVuSans-54\"/>\n    </g>\n   </g>\n   <g id=\"text_74\">\n    <!-- 3.5e-07 -->\n    <g style=\"fill:#ffffff;\" transform=\"translate(403.123047 619.527891)scale(0.15 -0.15)\">\n     <use xlink:href=\"#DejaVuSans-51\"/>\n     <use x=\"63.623047\" xlink:href=\"#DejaVuSans-46\"/>\n     <use x=\"95.410156\" xlink:href=\"#DejaVuSans-53\"/>\n     <use x=\"159.033203\" xlink:href=\"#DejaVuSans-101\"/>\n     <use x=\"220.556641\" xlink:href=\"#DejaVuSans-45\"/>\n     <use x=\"256.640625\" xlink:href=\"#DejaVuSans-48\"/>\n     <use x=\"320.263672\" xlink:href=\"#DejaVuSans-55\"/>\n    </g>\n   </g>\n   <g id=\"text_75\">\n    <!-- 1.1e-16 -->\n    <g style=\"fill:#ffffff;\" transform=\"translate(477.523047 619.527891)scale(0.15 -0.15)\">\n     <use xlink:href=\"#DejaVuSans-49\"/>\n     <use x=\"63.623047\" xlink:href=\"#DejaVuSans-46\"/>\n     <use x=\"95.410156\" xlink:href=\"#DejaVuSans-49\"/>\n     <use x=\"159.033203\" xlink:href=\"#DejaVuSans-101\"/>\n     <use x=\"220.556641\" xlink:href=\"#DejaVuSans-45\"/>\n     <use x=\"256.640625\" xlink:href=\"#DejaVuSans-49\"/>\n     <use x=\"320.263672\" xlink:href=\"#DejaVuSans-54\"/>\n    </g>\n   </g>\n   <g id=\"text_76\">\n    <!-- 5.7e-13 -->\n    <g style=\"fill:#ffffff;\" transform=\"translate(551.923047 619.527891)scale(0.15 -0.15)\">\n     <use xlink:href=\"#DejaVuSans-53\"/>\n     <use x=\"63.623047\" xlink:href=\"#DejaVuSans-46\"/>\n     <use x=\"95.410156\" xlink:href=\"#DejaVuSans-55\"/>\n     <use x=\"159.033203\" xlink:href=\"#DejaVuSans-101\"/>\n     <use x=\"220.556641\" xlink:href=\"#DejaVuSans-45\"/>\n     <use x=\"256.640625\" xlink:href=\"#DejaVuSans-49\"/>\n     <use x=\"320.263672\" xlink:href=\"#DejaVuSans-51\"/>\n    </g>\n   </g>\n   <g id=\"text_77\">\n    <!-- 0.03 -->\n    <g style=\"fill:#ffffff;\" transform=\"translate(638.415625 619.527891)scale(0.15 -0.15)\">\n     <use xlink:href=\"#DejaVuSans-48\"/>\n     <use x=\"63.623047\" xlink:href=\"#DejaVuSans-46\"/>\n     <use x=\"95.410156\" xlink:href=\"#DejaVuSans-48\"/>\n     <use x=\"159.033203\" xlink:href=\"#DejaVuSans-51\"/>\n    </g>\n   </g>\n   <g id=\"text_78\">\n    <!-- 0.035 -->\n    <g style=\"fill:#ffffff;\" transform=\"translate(708.04375 619.527891)scale(0.15 -0.15)\">\n     <use xlink:href=\"#DejaVuSans-48\"/>\n     <use x=\"63.623047\" xlink:href=\"#DejaVuSans-46\"/>\n     <use x=\"95.410156\" xlink:href=\"#DejaVuSans-48\"/>\n     <use x=\"159.033203\" xlink:href=\"#DejaVuSans-51\"/>\n     <use x=\"222.65625\" xlink:href=\"#DejaVuSans-53\"/>\n    </g>\n   </g>\n   <g id=\"text_79\">\n    <!-- 1 -->\n    <g style=\"fill:#262626;\" transform=\"translate(799.142969 619.527891)scale(0.15 -0.15)\">\n     <use xlink:href=\"#DejaVuSans-49\"/>\n    </g>\n   </g>\n   <g id=\"text_80\">\n    <!-- 6.5e-07 -->\n    <g style=\"fill:#ffffff;\" transform=\"translate(105.523047 682.947891)scale(0.15 -0.15)\">\n     <use xlink:href=\"#DejaVuSans-54\"/>\n     <use x=\"63.623047\" xlink:href=\"#DejaVuSans-46\"/>\n     <use x=\"95.410156\" xlink:href=\"#DejaVuSans-53\"/>\n     <use x=\"159.033203\" xlink:href=\"#DejaVuSans-101\"/>\n     <use x=\"220.556641\" xlink:href=\"#DejaVuSans-45\"/>\n     <use x=\"256.640625\" xlink:href=\"#DejaVuSans-48\"/>\n     <use x=\"320.263672\" xlink:href=\"#DejaVuSans-55\"/>\n    </g>\n   </g>\n   <g id=\"text_81\">\n    <!-- 0.00066 -->\n    <g style=\"fill:#ffffff;\" transform=\"translate(177.7 682.947891)scale(0.15 -0.15)\">\n     <use xlink:href=\"#DejaVuSans-48\"/>\n     <use x=\"63.623047\" xlink:href=\"#DejaVuSans-46\"/>\n     <use x=\"95.410156\" xlink:href=\"#DejaVuSans-48\"/>\n     <use x=\"159.033203\" xlink:href=\"#DejaVuSans-48\"/>\n     <use x=\"222.65625\" xlink:href=\"#DejaVuSans-48\"/>\n     <use x=\"286.279297\" xlink:href=\"#DejaVuSans-54\"/>\n     <use x=\"349.902344\" xlink:href=\"#DejaVuSans-54\"/>\n    </g>\n   </g>\n   <g id=\"text_82\">\n    <!-- 0.0016 -->\n    <g style=\"fill:#ffffff;\" transform=\"translate(256.871875 682.947891)scale(0.15 -0.15)\">\n     <use xlink:href=\"#DejaVuSans-48\"/>\n     <use x=\"63.623047\" xlink:href=\"#DejaVuSans-46\"/>\n     <use x=\"95.410156\" xlink:href=\"#DejaVuSans-48\"/>\n     <use x=\"159.033203\" xlink:href=\"#DejaVuSans-48\"/>\n     <use x=\"222.65625\" xlink:href=\"#DejaVuSans-49\"/>\n     <use x=\"286.279297\" xlink:href=\"#DejaVuSans-54\"/>\n    </g>\n   </g>\n   <g id=\"text_83\">\n    <!-- 7.5e-09 -->\n    <g style=\"fill:#ffffff;\" transform=\"translate(328.723047 682.947891)scale(0.15 -0.15)\">\n     <use xlink:href=\"#DejaVuSans-55\"/>\n     <use x=\"63.623047\" xlink:href=\"#DejaVuSans-46\"/>\n     <use x=\"95.410156\" xlink:href=\"#DejaVuSans-53\"/>\n     <use x=\"159.033203\" xlink:href=\"#DejaVuSans-101\"/>\n     <use x=\"220.556641\" xlink:href=\"#DejaVuSans-45\"/>\n     <use x=\"256.640625\" xlink:href=\"#DejaVuSans-48\"/>\n     <use x=\"320.263672\" xlink:href=\"#DejaVuSans-57\"/>\n    </g>\n   </g>\n   <g id=\"text_84\">\n    <!-- 0.031 -->\n    <g style=\"fill:#ffffff;\" transform=\"translate(410.44375 682.947891)scale(0.15 -0.15)\">\n     <use xlink:href=\"#DejaVuSans-48\"/>\n     <use x=\"63.623047\" xlink:href=\"#DejaVuSans-46\"/>\n     <use x=\"95.410156\" xlink:href=\"#DejaVuSans-48\"/>\n     <use x=\"159.033203\" xlink:href=\"#DejaVuSans-51\"/>\n     <use x=\"222.65625\" xlink:href=\"#DejaVuSans-49\"/>\n    </g>\n   </g>\n   <g id=\"text_85\">\n    <!-- 0.0028 -->\n    <g style=\"fill:#ffffff;\" transform=\"translate(480.071875 682.947891)scale(0.15 -0.15)\">\n     <use xlink:href=\"#DejaVuSans-48\"/>\n     <use x=\"63.623047\" xlink:href=\"#DejaVuSans-46\"/>\n     <use x=\"95.410156\" xlink:href=\"#DejaVuSans-48\"/>\n     <use x=\"159.033203\" xlink:href=\"#DejaVuSans-48\"/>\n     <use x=\"222.65625\" xlink:href=\"#DejaVuSans-50\"/>\n     <use x=\"286.279297\" xlink:href=\"#DejaVuSans-56\"/>\n    </g>\n   </g>\n   <g id=\"text_86\">\n    <!-- 0.0081 -->\n    <g style=\"fill:#ffffff;\" transform=\"translate(554.471875 682.947891)scale(0.15 -0.15)\">\n     <use xlink:href=\"#DejaVuSans-48\"/>\n     <use x=\"63.623047\" xlink:href=\"#DejaVuSans-46\"/>\n     <use x=\"95.410156\" xlink:href=\"#DejaVuSans-48\"/>\n     <use x=\"159.033203\" xlink:href=\"#DejaVuSans-48\"/>\n     <use x=\"222.65625\" xlink:href=\"#DejaVuSans-56\"/>\n     <use x=\"286.279297\" xlink:href=\"#DejaVuSans-49\"/>\n    </g>\n   </g>\n   <g id=\"text_87\">\n    <!-- 4.2e-05 -->\n    <g style=\"fill:#ffffff;\" transform=\"translate(626.323047 682.947891)scale(0.15 -0.15)\">\n     <use xlink:href=\"#DejaVuSans-52\"/>\n     <use x=\"63.623047\" xlink:href=\"#DejaVuSans-46\"/>\n     <use x=\"95.410156\" xlink:href=\"#DejaVuSans-50\"/>\n     <use x=\"159.033203\" xlink:href=\"#DejaVuSans-101\"/>\n     <use x=\"220.556641\" xlink:href=\"#DejaVuSans-45\"/>\n     <use x=\"256.640625\" xlink:href=\"#DejaVuSans-48\"/>\n     <use x=\"320.263672\" xlink:href=\"#DejaVuSans-53\"/>\n    </g>\n   </g>\n   <g id=\"text_88\">\n    <!-- 9.9e-10 -->\n    <g style=\"fill:#ffffff;\" transform=\"translate(700.723047 682.947891)scale(0.15 -0.15)\">\n     <use xlink:href=\"#DejaVuSans-57\"/>\n     <use x=\"63.623047\" xlink:href=\"#DejaVuSans-46\"/>\n     <use x=\"95.410156\" xlink:href=\"#DejaVuSans-57\"/>\n     <use x=\"159.033203\" xlink:href=\"#DejaVuSans-101\"/>\n     <use x=\"220.556641\" xlink:href=\"#DejaVuSans-45\"/>\n     <use x=\"256.640625\" xlink:href=\"#DejaVuSans-49\"/>\n     <use x=\"320.263672\" xlink:href=\"#DejaVuSans-48\"/>\n    </g>\n   </g>\n   <g id=\"text_89\">\n    <!-- 1.4e-06 -->\n    <g style=\"fill:#ffffff;\" transform=\"translate(775.123047 682.947891)scale(0.15 -0.15)\">\n     <use xlink:href=\"#DejaVuSans-49\"/>\n     <use x=\"63.623047\" xlink:href=\"#DejaVuSans-46\"/>\n     <use x=\"95.410156\" xlink:href=\"#DejaVuSans-52\"/>\n     <use x=\"159.033203\" xlink:href=\"#DejaVuSans-101\"/>\n     <use x=\"220.556641\" xlink:href=\"#DejaVuSans-45\"/>\n     <use x=\"256.640625\" xlink:href=\"#DejaVuSans-48\"/>\n     <use x=\"320.263672\" xlink:href=\"#DejaVuSans-54\"/>\n    </g>\n   </g>\n   <g id=\"text_90\">\n    <!-- 1 -->\n    <g style=\"fill:#262626;\" transform=\"translate(873.542969 682.947891)scale(0.15 -0.15)\">\n     <use xlink:href=\"#DejaVuSans-49\"/>\n    </g>\n   </g>\n   <g id=\"text_91\">\n    <!-- 7.7e-14 -->\n    <g style=\"fill:#ffffff;\" transform=\"translate(105.523047 746.367891)scale(0.15 -0.15)\">\n     <use xlink:href=\"#DejaVuSans-55\"/>\n     <use x=\"63.623047\" xlink:href=\"#DejaVuSans-46\"/>\n     <use x=\"95.410156\" xlink:href=\"#DejaVuSans-55\"/>\n     <use x=\"159.033203\" xlink:href=\"#DejaVuSans-101\"/>\n     <use x=\"220.556641\" xlink:href=\"#DejaVuSans-45\"/>\n     <use x=\"256.640625\" xlink:href=\"#DejaVuSans-49\"/>\n     <use x=\"320.263672\" xlink:href=\"#DejaVuSans-52\"/>\n    </g>\n   </g>\n   <g id=\"text_92\">\n    <!-- 1.9e-10 -->\n    <g style=\"fill:#ffffff;\" transform=\"translate(179.923047 746.367891)scale(0.15 -0.15)\">\n     <use xlink:href=\"#DejaVuSans-49\"/>\n     <use x=\"63.623047\" xlink:href=\"#DejaVuSans-46\"/>\n     <use x=\"95.410156\" xlink:href=\"#DejaVuSans-57\"/>\n     <use x=\"159.033203\" xlink:href=\"#DejaVuSans-101\"/>\n     <use x=\"220.556641\" xlink:href=\"#DejaVuSans-45\"/>\n     <use x=\"256.640625\" xlink:href=\"#DejaVuSans-49\"/>\n     <use x=\"320.263672\" xlink:href=\"#DejaVuSans-48\"/>\n    </g>\n   </g>\n   <g id=\"text_93\">\n    <!-- 1.1e-11 -->\n    <g style=\"fill:#ffffff;\" transform=\"translate(254.323047 746.367891)scale(0.15 -0.15)\">\n     <use xlink:href=\"#DejaVuSans-49\"/>\n     <use x=\"63.623047\" xlink:href=\"#DejaVuSans-46\"/>\n     <use x=\"95.410156\" xlink:href=\"#DejaVuSans-49\"/>\n     <use x=\"159.033203\" xlink:href=\"#DejaVuSans-101\"/>\n     <use x=\"220.556641\" xlink:href=\"#DejaVuSans-45\"/>\n     <use x=\"256.640625\" xlink:href=\"#DejaVuSans-49\"/>\n     <use x=\"320.263672\" xlink:href=\"#DejaVuSans-49\"/>\n    </g>\n   </g>\n   <g id=\"text_94\">\n    <!-- 3.4e-22 -->\n    <g style=\"fill:#ffffff;\" transform=\"translate(328.723047 746.367891)scale(0.15 -0.15)\">\n     <use xlink:href=\"#DejaVuSans-51\"/>\n     <use x=\"63.623047\" xlink:href=\"#DejaVuSans-46\"/>\n     <use x=\"95.410156\" xlink:href=\"#DejaVuSans-52\"/>\n     <use x=\"159.033203\" xlink:href=\"#DejaVuSans-101\"/>\n     <use x=\"220.556641\" xlink:href=\"#DejaVuSans-45\"/>\n     <use x=\"256.640625\" xlink:href=\"#DejaVuSans-50\"/>\n     <use x=\"320.263672\" xlink:href=\"#DejaVuSans-50\"/>\n    </g>\n   </g>\n   <g id=\"text_95\">\n    <!-- 6.8e-09 -->\n    <g style=\"fill:#ffffff;\" transform=\"translate(403.123047 746.367891)scale(0.15 -0.15)\">\n     <use xlink:href=\"#DejaVuSans-54\"/>\n     <use x=\"63.623047\" xlink:href=\"#DejaVuSans-46\"/>\n     <use x=\"95.410156\" xlink:href=\"#DejaVuSans-56\"/>\n     <use x=\"159.033203\" xlink:href=\"#DejaVuSans-101\"/>\n     <use x=\"220.556641\" xlink:href=\"#DejaVuSans-45\"/>\n     <use x=\"256.640625\" xlink:href=\"#DejaVuSans-48\"/>\n     <use x=\"320.263672\" xlink:href=\"#DejaVuSans-57\"/>\n    </g>\n   </g>\n   <g id=\"text_96\">\n    <!-- 0.026 -->\n    <g style=\"fill:#ffffff;\" transform=\"translate(484.84375 746.367891)scale(0.15 -0.15)\">\n     <use xlink:href=\"#DejaVuSans-48\"/>\n     <use x=\"63.623047\" xlink:href=\"#DejaVuSans-46\"/>\n     <use x=\"95.410156\" xlink:href=\"#DejaVuSans-48\"/>\n     <use x=\"159.033203\" xlink:href=\"#DejaVuSans-50\"/>\n     <use x=\"222.65625\" xlink:href=\"#DejaVuSans-54\"/>\n    </g>\n   </g>\n   <g id=\"text_97\">\n    <!-- 0.39 -->\n    <g style=\"fill:#ffffff;\" transform=\"translate(564.015625 746.367891)scale(0.15 -0.15)\">\n     <use xlink:href=\"#DejaVuSans-48\"/>\n     <use x=\"63.623047\" xlink:href=\"#DejaVuSans-46\"/>\n     <use x=\"95.410156\" xlink:href=\"#DejaVuSans-51\"/>\n     <use x=\"159.033203\" xlink:href=\"#DejaVuSans-57\"/>\n    </g>\n   </g>\n   <g id=\"text_98\">\n    <!-- 1.1e-14 -->\n    <g style=\"fill:#ffffff;\" transform=\"translate(626.323047 746.367891)scale(0.15 -0.15)\">\n     <use xlink:href=\"#DejaVuSans-49\"/>\n     <use x=\"63.623047\" xlink:href=\"#DejaVuSans-46\"/>\n     <use x=\"95.410156\" xlink:href=\"#DejaVuSans-49\"/>\n     <use x=\"159.033203\" xlink:href=\"#DejaVuSans-101\"/>\n     <use x=\"220.556641\" xlink:href=\"#DejaVuSans-45\"/>\n     <use x=\"256.640625\" xlink:href=\"#DejaVuSans-49\"/>\n     <use x=\"320.263672\" xlink:href=\"#DejaVuSans-52\"/>\n    </g>\n   </g>\n   <g id=\"text_99\">\n    <!-- 1.2e-24 -->\n    <g style=\"fill:#ffffff;\" transform=\"translate(700.723047 746.367891)scale(0.15 -0.15)\">\n     <use xlink:href=\"#DejaVuSans-49\"/>\n     <use x=\"63.623047\" xlink:href=\"#DejaVuSans-46\"/>\n     <use x=\"95.410156\" xlink:href=\"#DejaVuSans-50\"/>\n     <use x=\"159.033203\" xlink:href=\"#DejaVuSans-101\"/>\n     <use x=\"220.556641\" xlink:href=\"#DejaVuSans-45\"/>\n     <use x=\"256.640625\" xlink:href=\"#DejaVuSans-50\"/>\n     <use x=\"320.263672\" xlink:href=\"#DejaVuSans-52\"/>\n    </g>\n   </g>\n   <g id=\"text_100\">\n    <!-- 2e-15 -->\n    <g style=\"fill:#ffffff;\" transform=\"translate(782.278516 746.367891)scale(0.15 -0.15)\">\n     <use xlink:href=\"#DejaVuSans-50\"/>\n     <use x=\"63.623047\" xlink:href=\"#DejaVuSans-101\"/>\n     <use x=\"125.146484\" xlink:href=\"#DejaVuSans-45\"/>\n     <use x=\"161.230469\" xlink:href=\"#DejaVuSans-49\"/>\n     <use x=\"224.853516\" xlink:href=\"#DejaVuSans-53\"/>\n    </g>\n   </g>\n   <g id=\"text_101\">\n    <!-- 3.3e-05 -->\n    <g style=\"fill:#ffffff;\" transform=\"translate(849.523047 746.367891)scale(0.15 -0.15)\">\n     <use xlink:href=\"#DejaVuSans-51\"/>\n     <use x=\"63.623047\" xlink:href=\"#DejaVuSans-46\"/>\n     <use x=\"95.410156\" xlink:href=\"#DejaVuSans-51\"/>\n     <use x=\"159.033203\" xlink:href=\"#DejaVuSans-101\"/>\n     <use x=\"220.556641\" xlink:href=\"#DejaVuSans-45\"/>\n     <use x=\"256.640625\" xlink:href=\"#DejaVuSans-48\"/>\n     <use x=\"320.263672\" xlink:href=\"#DejaVuSans-53\"/>\n    </g>\n   </g>\n   <g id=\"text_102\">\n    <!-- 1 -->\n    <g style=\"fill:#262626;\" transform=\"translate(947.942969 746.367891)scale(0.15 -0.15)\">\n     <use xlink:href=\"#DejaVuSans-49\"/>\n    </g>\n   </g>\n  </g>\n  <g id=\"axes_2\">\n   <g id=\"patch_3\">\n    <path clip-path=\"url(#p35286a6d66)\" d=\"M 1045.714844 773.938828 \nL 1045.714844 770.966016 \nL 1045.714844 15.871641 \nL 1045.714844 12.898828 \nL 1083.766844 12.898828 \nL 1083.766844 15.871641 \nL 1083.766844 770.966016 \nL 1083.766844 773.938828 \nz\n\" style=\"fill:#ffffff;stroke:#ffffff;stroke-linejoin:miter;stroke-width:0.01;\"/>\n   </g>\n   <image height=\"761\" id=\"image9cf5780a25\" transform=\"scale(1 -1)translate(0 -761)\" width=\"38\" x=\"1046\" xlink:href=\"data:image/png;base64,\niVBORw0KGgoAAAANSUhEUgAAACYAAAL5CAYAAADcylZ9AAAFB0lEQVR4nO3dwZErOQzAUFHmJDH552knYB9wahyACF65h5Ta6/o7r7//9xF2nwb8SgvbeVrwI+0npoXtjPNhaj8xLaxHSdPCdk6PEtUfP00L29ujZGlh7TGaFtZU0rSwzkqaFra3BcvSwppKmhbWWUnTwppKmhbWWUnTwppKmhbWVwQ0LaxrD00La8HStLCuPTQtrKmkaWFNJU0L2xmnzak6YlgvIzQtrJcRmhbWVNK0sKaSpoU1lTQtrKmkaWFNJU0LayppWlhTSdPC+uKOpoX1dTpNC2sqaVpYU0nTwrr20LSwFixNC2vB0rSwppKmhfUoaVpY/zwOra86aVpYd36aFtaRRNPCuvPTtLCmkqaFdVbStLC1yqwuL6yzkqaFdVbStLDOSpoW1llJ08JasDQtrGsPTQtrwdK0sK49NC2ss5KmhbVgaVpYC5amhbVgaVpYP6GhaWH9toemhXXtoWlhXXtoWlhTSdPCmkqaFtZU0rSw3itpWljvlTQtrKmkaWGdlTQtrBssTQtrKmlaWNcemhbWtYemhbVgaVpYC5bWHqNpYe0xmhbWHqNpYS1Ymha29/004XvaT0wL66ykaWGdlTQtrKmkaWFde2haWAuWpoW1YGlaWC8jNC2sBUvTwlqwNC2sR0nTwjoraVpYZyVNC2vB0rSwHiVNC9vprGRpYU0lTQvrUdK0sF5GaFpYLyM0LawFS9PCWrA0LawFS9PC9h7nWGo/MS2sBUvTwrr20LSwzkqaFrb37dyw2k9MC2vB0rSwFixNC+tlhKaF9TJC08J2mkpWtwuaFtajpGlh7TGaFtZU0rSwppKmhfX6RtPC9kq/VdF+YlpYC5amhXXtoWlhO9If9Gs/MS1sb4+SpYX135JoWlhTSdPCOitpWlhTSdPCVvo/LvZ+YlpYC5amhbVgaVpYC5amhbVgaVpYC5amhe1If6So/cS0sM5KmhbWVNK0sK49NC2saw9NC9uR0qQsMawFS9PCuvbQtLBeRmhaWFNJ08J6lDQtrAVL08KaSpoW1nslTQvrvZKmhTWVtI4kmhbWHz9NC9vTkcTSwppKmhbWo6RpYT1Kmha2VpqUJYY1lTQtrKmkaWFNJU0LayppWtiO9F+t0n5iWlhTSdPCmkqaFtZU0rSwPU0lSwtrwdK0sBYsTQtrwdK0sBYsTQtrKmlaWI+SpoXtSH/Qr/3EtLCmkqaF9ShpWtie67Q5VUcMayppWljvlTQtrKmkaWF7pD/ucaqOGNZU0rSwHiVNC9vpZYSlhTWVNC2saw9NC2sqaVpYX9zR+uOnaWEdSTQtrKmkaWG9vtG0sKaSpoV1VtK0sKaSpoX1+kbTwvb0G0WWFtZU0rSwHiVNC+vaQ9PCehmhaWEtWJoW1s9NaVpYC5amhbVgaVpYj5KmhfVtD00LayppWljXHpoW1lTStLAeJU0L69pD08KaSpoW1qOkaWHdYGlaWFNJ08KaSpoW1lTStLCmkqaFNZU0LaxHSdPCWrA0LayppGlhTSWtP36aFtYfP00LayppWtjOvJ42fE37iWlhTSVNC+tR0rSwrj00LayppGlhTSVNC9tzu8GitLCmkqaFdVbStLCmkqaF9W0PTQtrwdK0sBYsTQtrKmlaWFNJ08L6ioCmhTWVNC2ss5Kmhe00lSwtrKmkaWGdlTQtrBssTQtrKmlaWGclTQvrBkvTwppKmhbWWUnTwrrB0rSwDxmrMbFkcIuXAAAAAElFTkSuQmCC\" y=\"-13\"/>\n   <g id=\"matplotlib.axis_3\"/>\n   <g id=\"matplotlib.axis_4\">\n    <g id=\"ytick_13\">\n     <g id=\"line2d_25\">\n      <defs>\n       <path d=\"M 0 0 \nL 3.5 0 \n\" id=\"m7ae17c9364\" style=\"stroke:#000000;stroke-width:0.8;\"/>\n      </defs>\n      <g>\n       <use style=\"stroke:#000000;stroke-width:0.8;\" x=\"1083.766844\" xlink:href=\"#m7ae17c9364\" y=\"773.938828\"/>\n      </g>\n     </g>\n     <g id=\"text_103\">\n      <!-- 0.0 -->\n      <g transform=\"translate(1090.766844 779.637656)scale(0.15 -0.15)\">\n       <use xlink:href=\"#DejaVuSans-48\"/>\n       <use x=\"63.623047\" xlink:href=\"#DejaVuSans-46\"/>\n       <use x=\"95.410156\" xlink:href=\"#DejaVuSans-48\"/>\n      </g>\n     </g>\n    </g>\n    <g id=\"ytick_14\">\n     <g id=\"line2d_26\">\n      <g>\n       <use style=\"stroke:#000000;stroke-width:0.8;\" x=\"1083.766844\" xlink:href=\"#m7ae17c9364\" y=\"621.730828\"/>\n      </g>\n     </g>\n     <g id=\"text_104\">\n      <!-- 0.2 -->\n      <g transform=\"translate(1090.766844 627.429656)scale(0.15 -0.15)\">\n       <use xlink:href=\"#DejaVuSans-48\"/>\n       <use x=\"63.623047\" xlink:href=\"#DejaVuSans-46\"/>\n       <use x=\"95.410156\" xlink:href=\"#DejaVuSans-50\"/>\n      </g>\n     </g>\n    </g>\n    <g id=\"ytick_15\">\n     <g id=\"line2d_27\">\n      <g>\n       <use style=\"stroke:#000000;stroke-width:0.8;\" x=\"1083.766844\" xlink:href=\"#m7ae17c9364\" y=\"469.522828\"/>\n      </g>\n     </g>\n     <g id=\"text_105\">\n      <!-- 0.4 -->\n      <g transform=\"translate(1090.766844 475.221656)scale(0.15 -0.15)\">\n       <use xlink:href=\"#DejaVuSans-48\"/>\n       <use x=\"63.623047\" xlink:href=\"#DejaVuSans-46\"/>\n       <use x=\"95.410156\" xlink:href=\"#DejaVuSans-52\"/>\n      </g>\n     </g>\n    </g>\n    <g id=\"ytick_16\">\n     <g id=\"line2d_28\">\n      <g>\n       <use style=\"stroke:#000000;stroke-width:0.8;\" x=\"1083.766844\" xlink:href=\"#m7ae17c9364\" y=\"317.314828\"/>\n      </g>\n     </g>\n     <g id=\"text_106\">\n      <!-- 0.6 -->\n      <g transform=\"translate(1090.766844 323.013656)scale(0.15 -0.15)\">\n       <use xlink:href=\"#DejaVuSans-48\"/>\n       <use x=\"63.623047\" xlink:href=\"#DejaVuSans-46\"/>\n       <use x=\"95.410156\" xlink:href=\"#DejaVuSans-54\"/>\n      </g>\n     </g>\n    </g>\n    <g id=\"ytick_17\">\n     <g id=\"line2d_29\">\n      <g>\n       <use style=\"stroke:#000000;stroke-width:0.8;\" x=\"1083.766844\" xlink:href=\"#m7ae17c9364\" y=\"165.106828\"/>\n      </g>\n     </g>\n     <g id=\"text_107\">\n      <!-- 0.8 -->\n      <g transform=\"translate(1090.766844 170.805656)scale(0.15 -0.15)\">\n       <use xlink:href=\"#DejaVuSans-48\"/>\n       <use x=\"63.623047\" xlink:href=\"#DejaVuSans-46\"/>\n       <use x=\"95.410156\" xlink:href=\"#DejaVuSans-56\"/>\n      </g>\n     </g>\n    </g>\n    <g id=\"ytick_18\">\n     <g id=\"line2d_30\">\n      <g>\n       <use style=\"stroke:#000000;stroke-width:0.8;\" x=\"1083.766844\" xlink:href=\"#m7ae17c9364\" y=\"12.898828\"/>\n      </g>\n     </g>\n     <g id=\"text_108\">\n      <!-- 1.0 -->\n      <g transform=\"translate(1090.766844 18.597656)scale(0.15 -0.15)\">\n       <use xlink:href=\"#DejaVuSans-49\"/>\n       <use x=\"63.623047\" xlink:href=\"#DejaVuSans-46\"/>\n       <use x=\"95.410156\" xlink:href=\"#DejaVuSans-48\"/>\n      </g>\n     </g>\n    </g>\n   </g>\n   <g id=\"patch_4\">\n    <path d=\"M 1045.714844 773.938828 \nL 1045.714844 770.966016 \nL 1045.714844 15.871641 \nL 1045.714844 12.898828 \nL 1083.766844 12.898828 \nL 1083.766844 15.871641 \nL 1083.766844 770.966016 \nL 1083.766844 773.938828 \nz\n\" style=\"fill:none;\"/>\n   </g>\n  </g>\n </g>\n <defs>\n  <clipPath id=\"pa25f4ff947\">\n   <rect height=\"761.04\" width=\"892.8\" x=\"97.114844\" y=\"12.898828\"/>\n  </clipPath>\n  <clipPath id=\"p35286a6d66\">\n   <rect height=\"761.04\" width=\"38.052\" x=\"1045.714844\" y=\"12.898828\"/>\n  </clipPath>\n </defs>\n</svg>\n",
      "image/png": "[encoded data removed]"
     },
     "metadata": {
      "needs_background": "light"
     }
    }
   ],
   "source": [
    "plt.rcParams.update({'font.size': 15})\n",
    "plotMatrix(pvalue_matrix)"
   ]
  },
  {
   "cell_type": "code",
   "execution_count": 31,
   "metadata": {},
   "outputs": [
    {
     "output_type": "display_data",
     "data": {
      "text/plain": "<Figure size 1440x1008 with 2 Axes>",
      "image/svg+xml": "<?xml version=\"1.0\" encoding=\"utf-8\" standalone=\"no\"?>\n<!DOCTYPE svg PUBLIC \"-//W3C//DTD SVG 1.1//EN\"\n  \"http://www.w3.org/Graphics/SVG/1.1/DTD/svg11.dtd\">\n<!-- Created with matplotlib (https://matplotlib.org/) -->\n<svg height=\"865.354844pt\" version=\"1.1\" viewBox=\"0 0 1131.365281 865.354844\" width=\"1131.365281pt\" xmlns=\"http://www.w3.org/2000/svg\" xmlns:xlink=\"http://www.w3.org/1999/xlink\">\n <metadata>\n  <rdf:RDF xmlns:cc=\"http://creativecommons.org/ns#\" xmlns:dc=\"http://purl.org/dc/elements/1.1/\" xmlns:rdf=\"http://www.w3.org/1999/02/22-rdf-syntax-ns#\">\n   <cc:Work>\n    <dc:type rdf:resource=\"http://purl.org/dc/dcmitype/StillImage\"/>\n    <dc:date>2021-05-22T02:17:21.288036</dc:date>\n    <dc:format>image/svg+xml</dc:format>\n    <dc:creator>\n     <cc:Agent>\n      <dc:title>Matplotlib v3.3.2, https://matplotlib.org/</dc:title>\n     </cc:Agent>\n    </dc:creator>\n   </cc:Work>\n  </rdf:RDF>\n </metadata>\n <defs>\n  <style type=\"text/css\">*{stroke-linecap:butt;stroke-linejoin:round;}</style>\n </defs>\n <g id=\"figure_1\">\n  <g id=\"patch_1\">\n   <path d=\"M 0 865.354844 \nL 1131.365281 865.354844 \nL 1131.365281 0 \nL 0 0 \nz\n\" style=\"fill:none;\"/>\n  </g>\n  <g id=\"axes_1\">\n   <g id=\"patch_2\">\n    <path d=\"M 97.114844 768.24 \nL 989.914844 768.24 \nL 989.914844 7.2 \nL 97.114844 7.2 \nz\n\" style=\"fill:#ffffff;\"/>\n   </g>\n   <g id=\"QuadMesh_1\">\n    <path clip-path=\"url(#p41e94e35f4)\" d=\"M 97.114844 7.2 \nL 171.514844 7.2 \nL 171.514844 70.62 \nL 97.114844 70.62 \nL 97.114844 7.2 \n\" style=\"fill:#03051a;\"/>\n    <path clip-path=\"url(#p41e94e35f4)\" d=\"M 171.514844 7.2 \nL 245.914844 7.2 \nL 245.914844 70.62 \nL 171.514844 70.62 \nL 171.514844 7.2 \n\" style=\"fill:none;\"/>\n    <path clip-path=\"url(#p41e94e35f4)\" d=\"M 245.914844 7.2 \nL 320.314844 7.2 \nL 320.314844 70.62 \nL 245.914844 70.62 \nL 245.914844 7.2 \n\" style=\"fill:none;\"/>\n    <path clip-path=\"url(#p41e94e35f4)\" d=\"M 320.314844 7.2 \nL 394.714844 7.2 \nL 394.714844 70.62 \nL 320.314844 70.62 \nL 320.314844 7.2 \n\" style=\"fill:none;\"/>\n    <path clip-path=\"url(#p41e94e35f4)\" d=\"M 394.714844 7.2 \nL 469.114844 7.2 \nL 469.114844 70.62 \nL 394.714844 70.62 \nL 394.714844 7.2 \n\" style=\"fill:none;\"/>\n    <path clip-path=\"url(#p41e94e35f4)\" d=\"M 469.114844 7.2 \nL 543.514844 7.2 \nL 543.514844 70.62 \nL 469.114844 70.62 \nL 469.114844 7.2 \n\" style=\"fill:none;\"/>\n    <path clip-path=\"url(#p41e94e35f4)\" d=\"M 543.514844 7.2 \nL 617.914844 7.2 \nL 617.914844 70.62 \nL 543.514844 70.62 \nL 543.514844 7.2 \n\" style=\"fill:none;\"/>\n    <path clip-path=\"url(#p41e94e35f4)\" d=\"M 617.914844 7.2 \nL 692.314844 7.2 \nL 692.314844 70.62 \nL 617.914844 70.62 \nL 617.914844 7.2 \n\" style=\"fill:none;\"/>\n    <path clip-path=\"url(#p41e94e35f4)\" d=\"M 692.314844 7.2 \nL 766.714844 7.2 \nL 766.714844 70.62 \nL 692.314844 70.62 \nL 692.314844 7.2 \n\" style=\"fill:none;\"/>\n    <path clip-path=\"url(#p41e94e35f4)\" d=\"M 766.714844 7.2 \nL 841.114844 7.2 \nL 841.114844 70.62 \nL 766.714844 70.62 \nL 766.714844 7.2 \n\" style=\"fill:none;\"/>\n    <path clip-path=\"url(#p41e94e35f4)\" d=\"M 841.114844 7.2 \nL 915.514844 7.2 \nL 915.514844 70.62 \nL 841.114844 70.62 \nL 841.114844 7.2 \n\" style=\"fill:none;\"/>\n    <path clip-path=\"url(#p41e94e35f4)\" d=\"M 915.514844 7.2 \nL 989.914844 7.2 \nL 989.914844 70.62 \nL 915.514844 70.62 \nL 915.514844 7.2 \n\" style=\"fill:none;\"/>\n    <path clip-path=\"url(#p41e94e35f4)\" d=\"M 97.114844 70.62 \nL 171.514844 70.62 \nL 171.514844 134.04 \nL 97.114844 134.04 \nL 97.114844 70.62 \n\" style=\"fill:#5e1f52;\"/>\n    <path clip-path=\"url(#p41e94e35f4)\" d=\"M 171.514844 70.62 \nL 245.914844 70.62 \nL 245.914844 134.04 \nL 171.514844 134.04 \nL 171.514844 70.62 \n\" style=\"fill:#03051a;\"/>\n    <path clip-path=\"url(#p41e94e35f4)\" d=\"M 245.914844 70.62 \nL 320.314844 70.62 \nL 320.314844 134.04 \nL 245.914844 134.04 \nL 245.914844 70.62 \n\" style=\"fill:none;\"/>\n    <path clip-path=\"url(#p41e94e35f4)\" d=\"M 320.314844 70.62 \nL 394.714844 70.62 \nL 394.714844 134.04 \nL 320.314844 134.04 \nL 320.314844 70.62 \n\" style=\"fill:none;\"/>\n    <path clip-path=\"url(#p41e94e35f4)\" d=\"M 394.714844 70.62 \nL 469.114844 70.62 \nL 469.114844 134.04 \nL 394.714844 134.04 \nL 394.714844 70.62 \n\" style=\"fill:none;\"/>\n    <path clip-path=\"url(#p41e94e35f4)\" d=\"M 469.114844 70.62 \nL 543.514844 70.62 \nL 543.514844 134.04 \nL 469.114844 134.04 \nL 469.114844 70.62 \n\" style=\"fill:none;\"/>\n    <path clip-path=\"url(#p41e94e35f4)\" d=\"M 543.514844 70.62 \nL 617.914844 70.62 \nL 617.914844 134.04 \nL 543.514844 134.04 \nL 543.514844 70.62 \n\" style=\"fill:none;\"/>\n    <path clip-path=\"url(#p41e94e35f4)\" d=\"M 617.914844 70.62 \nL 692.314844 70.62 \nL 692.314844 134.04 \nL 617.914844 134.04 \nL 617.914844 70.62 \n\" style=\"fill:none;\"/>\n    <path clip-path=\"url(#p41e94e35f4)\" d=\"M 692.314844 70.62 \nL 766.714844 70.62 \nL 766.714844 134.04 \nL 692.314844 134.04 \nL 692.314844 70.62 \n\" style=\"fill:none;\"/>\n    <path clip-path=\"url(#p41e94e35f4)\" d=\"M 766.714844 70.62 \nL 841.114844 70.62 \nL 841.114844 134.04 \nL 766.714844 134.04 \nL 766.714844 70.62 \n\" style=\"fill:none;\"/>\n    <path clip-path=\"url(#p41e94e35f4)\" d=\"M 841.114844 70.62 \nL 915.514844 70.62 \nL 915.514844 134.04 \nL 841.114844 134.04 \nL 841.114844 70.62 \n\" style=\"fill:none;\"/>\n    <path clip-path=\"url(#p41e94e35f4)\" d=\"M 915.514844 70.62 \nL 989.914844 70.62 \nL 989.914844 134.04 \nL 915.514844 134.04 \nL 915.514844 70.62 \n\" style=\"fill:none;\"/>\n    <path clip-path=\"url(#p41e94e35f4)\" d=\"M 97.114844 134.04 \nL 171.514844 134.04 \nL 171.514844 197.46 \nL 97.114844 197.46 \nL 97.114844 134.04 \n\" style=\"fill:#401b44;\"/>\n    <path clip-path=\"url(#p41e94e35f4)\" d=\"M 171.514844 134.04 \nL 245.914844 134.04 \nL 245.914844 197.46 \nL 171.514844 197.46 \nL 171.514844 134.04 \n\" style=\"fill:#711f57;\"/>\n    <path clip-path=\"url(#p41e94e35f4)\" d=\"M 245.914844 134.04 \nL 320.314844 134.04 \nL 320.314844 197.46 \nL 245.914844 197.46 \nL 245.914844 134.04 \n\" style=\"fill:#03051a;\"/>\n    <path clip-path=\"url(#p41e94e35f4)\" d=\"M 320.314844 134.04 \nL 394.714844 134.04 \nL 394.714844 197.46 \nL 320.314844 197.46 \nL 320.314844 134.04 \n\" style=\"fill:none;\"/>\n    <path clip-path=\"url(#p41e94e35f4)\" d=\"M 394.714844 134.04 \nL 469.114844 134.04 \nL 469.114844 197.46 \nL 394.714844 197.46 \nL 394.714844 134.04 \n\" style=\"fill:none;\"/>\n    <path clip-path=\"url(#p41e94e35f4)\" d=\"M 469.114844 134.04 \nL 543.514844 134.04 \nL 543.514844 197.46 \nL 469.114844 197.46 \nL 469.114844 134.04 \n\" style=\"fill:none;\"/>\n    <path clip-path=\"url(#p41e94e35f4)\" d=\"M 543.514844 134.04 \nL 617.914844 134.04 \nL 617.914844 197.46 \nL 543.514844 197.46 \nL 543.514844 134.04 \n\" style=\"fill:none;\"/>\n    <path clip-path=\"url(#p41e94e35f4)\" d=\"M 617.914844 134.04 \nL 692.314844 134.04 \nL 692.314844 197.46 \nL 617.914844 197.46 \nL 617.914844 134.04 \n\" style=\"fill:none;\"/>\n    <path clip-path=\"url(#p41e94e35f4)\" d=\"M 692.314844 134.04 \nL 766.714844 134.04 \nL 766.714844 197.46 \nL 692.314844 197.46 \nL 692.314844 134.04 \n\" style=\"fill:none;\"/>\n    <path clip-path=\"url(#p41e94e35f4)\" d=\"M 766.714844 134.04 \nL 841.114844 134.04 \nL 841.114844 197.46 \nL 766.714844 197.46 \nL 766.714844 134.04 \n\" style=\"fill:none;\"/>\n    <path clip-path=\"url(#p41e94e35f4)\" d=\"M 841.114844 134.04 \nL 915.514844 134.04 \nL 915.514844 197.46 \nL 841.114844 197.46 \nL 841.114844 134.04 \n\" style=\"fill:none;\"/>\n    <path clip-path=\"url(#p41e94e35f4)\" d=\"M 915.514844 134.04 \nL 989.914844 134.04 \nL 989.914844 197.46 \nL 915.514844 197.46 \nL 915.514844 134.04 \n\" style=\"fill:none;\"/>\n    <path clip-path=\"url(#p41e94e35f4)\" d=\"M 97.114844 197.46 \nL 171.514844 197.46 \nL 171.514844 260.88 \nL 97.114844 260.88 \nL 97.114844 197.46 \n\" style=\"fill:#701f57;\"/>\n    <path clip-path=\"url(#p41e94e35f4)\" d=\"M 171.514844 197.46 \nL 245.914844 197.46 \nL 245.914844 260.88 \nL 171.514844 260.88 \nL 171.514844 197.46 \n\" style=\"fill:#c51852;\"/>\n    <path clip-path=\"url(#p41e94e35f4)\" d=\"M 245.914844 197.46 \nL 320.314844 197.46 \nL 320.314844 260.88 \nL 245.914844 260.88 \nL 245.914844 197.46 \n\" style=\"fill:#7d1f5a;\"/>\n    <path clip-path=\"url(#p41e94e35f4)\" d=\"M 320.314844 197.46 \nL 394.714844 197.46 \nL 394.714844 260.88 \nL 320.314844 260.88 \nL 320.314844 197.46 \n\" style=\"fill:#03051a;\"/>\n    <path clip-path=\"url(#p41e94e35f4)\" d=\"M 394.714844 197.46 \nL 469.114844 197.46 \nL 469.114844 260.88 \nL 394.714844 260.88 \nL 394.714844 197.46 \n\" style=\"fill:none;\"/>\n    <path clip-path=\"url(#p41e94e35f4)\" d=\"M 469.114844 197.46 \nL 543.514844 197.46 \nL 543.514844 260.88 \nL 469.114844 260.88 \nL 469.114844 197.46 \n\" style=\"fill:none;\"/>\n    <path clip-path=\"url(#p41e94e35f4)\" d=\"M 543.514844 197.46 \nL 617.914844 197.46 \nL 617.914844 260.88 \nL 543.514844 260.88 \nL 543.514844 197.46 \n\" style=\"fill:none;\"/>\n    <path clip-path=\"url(#p41e94e35f4)\" d=\"M 617.914844 197.46 \nL 692.314844 197.46 \nL 692.314844 260.88 \nL 617.914844 260.88 \nL 617.914844 197.46 \n\" style=\"fill:none;\"/>\n    <path clip-path=\"url(#p41e94e35f4)\" d=\"M 692.314844 197.46 \nL 766.714844 197.46 \nL 766.714844 260.88 \nL 692.314844 260.88 \nL 692.314844 197.46 \n\" style=\"fill:none;\"/>\n    <path clip-path=\"url(#p41e94e35f4)\" d=\"M 766.714844 197.46 \nL 841.114844 197.46 \nL 841.114844 260.88 \nL 766.714844 260.88 \nL 766.714844 197.46 \n\" style=\"fill:none;\"/>\n    <path clip-path=\"url(#p41e94e35f4)\" d=\"M 841.114844 197.46 \nL 915.514844 197.46 \nL 915.514844 260.88 \nL 841.114844 260.88 \nL 841.114844 197.46 \n\" style=\"fill:none;\"/>\n    <path clip-path=\"url(#p41e94e35f4)\" d=\"M 915.514844 197.46 \nL 989.914844 197.46 \nL 989.914844 260.88 \nL 915.514844 260.88 \nL 915.514844 197.46 \n\" style=\"fill:none;\"/>\n    <path clip-path=\"url(#p41e94e35f4)\" d=\"M 97.114844 260.88 \nL 171.514844 260.88 \nL 171.514844 324.3 \nL 97.114844 324.3 \nL 97.114844 260.88 \n\" style=\"fill:#dc2b46;\"/>\n    <path clip-path=\"url(#p41e94e35f4)\" d=\"M 171.514844 260.88 \nL 245.914844 260.88 \nL 245.914844 324.3 \nL 171.514844 324.3 \nL 171.514844 260.88 \n\" style=\"fill:#c21753;\"/>\n    <path clip-path=\"url(#p41e94e35f4)\" d=\"M 245.914844 260.88 \nL 320.314844 260.88 \nL 320.314844 324.3 \nL 245.914844 324.3 \nL 245.914844 260.88 \n\" style=\"fill:#a6195a;\"/>\n    <path clip-path=\"url(#p41e94e35f4)\" d=\"M 320.314844 260.88 \nL 394.714844 260.88 \nL 394.714844 324.3 \nL 320.314844 324.3 \nL 320.314844 260.88 \n\" style=\"fill:#e43841;\"/>\n    <path clip-path=\"url(#p41e94e35f4)\" d=\"M 394.714844 260.88 \nL 469.114844 260.88 \nL 469.114844 324.3 \nL 394.714844 324.3 \nL 394.714844 260.88 \n\" style=\"fill:#03051a;\"/>\n    <path clip-path=\"url(#p41e94e35f4)\" d=\"M 469.114844 260.88 \nL 543.514844 260.88 \nL 543.514844 324.3 \nL 469.114844 324.3 \nL 469.114844 260.88 \n\" style=\"fill:none;\"/>\n    <path clip-path=\"url(#p41e94e35f4)\" d=\"M 543.514844 260.88 \nL 617.914844 260.88 \nL 617.914844 324.3 \nL 543.514844 324.3 \nL 543.514844 260.88 \n\" style=\"fill:none;\"/>\n    <path clip-path=\"url(#p41e94e35f4)\" d=\"M 617.914844 260.88 \nL 692.314844 260.88 \nL 692.314844 324.3 \nL 617.914844 324.3 \nL 617.914844 260.88 \n\" style=\"fill:none;\"/>\n    <path clip-path=\"url(#p41e94e35f4)\" d=\"M 692.314844 260.88 \nL 766.714844 260.88 \nL 766.714844 324.3 \nL 692.314844 324.3 \nL 692.314844 260.88 \n\" style=\"fill:none;\"/>\n    <path clip-path=\"url(#p41e94e35f4)\" d=\"M 766.714844 260.88 \nL 841.114844 260.88 \nL 841.114844 324.3 \nL 766.714844 324.3 \nL 766.714844 260.88 \n\" style=\"fill:none;\"/>\n    <path clip-path=\"url(#p41e94e35f4)\" d=\"M 841.114844 260.88 \nL 915.514844 260.88 \nL 915.514844 324.3 \nL 841.114844 324.3 \nL 841.114844 260.88 \n\" style=\"fill:none;\"/>\n    <path clip-path=\"url(#p41e94e35f4)\" d=\"M 915.514844 260.88 \nL 989.914844 260.88 \nL 989.914844 324.3 \nL 915.514844 324.3 \nL 915.514844 260.88 \n\" style=\"fill:none;\"/>\n    <path clip-path=\"url(#p41e94e35f4)\" d=\"M 97.114844 324.3 \nL 171.514844 324.3 \nL 171.514844 387.72 \nL 97.114844 387.72 \nL 97.114844 324.3 \n\" style=\"fill:#f69c73;\"/>\n    <path clip-path=\"url(#p41e94e35f4)\" d=\"M 171.514844 324.3 \nL 245.914844 324.3 \nL 245.914844 387.72 \nL 171.514844 387.72 \nL 171.514844 324.3 \n\" style=\"fill:#f16244;\"/>\n    <path clip-path=\"url(#p41e94e35f4)\" d=\"M 245.914844 324.3 \nL 320.314844 324.3 \nL 320.314844 387.72 \nL 245.914844 387.72 \nL 245.914844 324.3 \n\" style=\"fill:#f16244;\"/>\n    <path clip-path=\"url(#p41e94e35f4)\" d=\"M 320.314844 324.3 \nL 394.714844 324.3 \nL 394.714844 387.72 \nL 320.314844 387.72 \nL 320.314844 324.3 \n\" style=\"fill:#f7ccaf;\"/>\n    <path clip-path=\"url(#p41e94e35f4)\" d=\"M 394.714844 324.3 \nL 469.114844 324.3 \nL 469.114844 387.72 \nL 394.714844 387.72 \nL 394.714844 324.3 \n\" style=\"fill:#b91657;\"/>\n    <path clip-path=\"url(#p41e94e35f4)\" d=\"M 469.114844 324.3 \nL 543.514844 324.3 \nL 543.514844 387.72 \nL 469.114844 387.72 \nL 469.114844 324.3 \n\" style=\"fill:#03051a;\"/>\n    <path clip-path=\"url(#p41e94e35f4)\" d=\"M 543.514844 324.3 \nL 617.914844 324.3 \nL 617.914844 387.72 \nL 543.514844 387.72 \nL 543.514844 324.3 \n\" style=\"fill:none;\"/>\n    <path clip-path=\"url(#p41e94e35f4)\" d=\"M 617.914844 324.3 \nL 692.314844 324.3 \nL 692.314844 387.72 \nL 617.914844 387.72 \nL 617.914844 324.3 \n\" style=\"fill:none;\"/>\n    <path clip-path=\"url(#p41e94e35f4)\" d=\"M 692.314844 324.3 \nL 766.714844 324.3 \nL 766.714844 387.72 \nL 692.314844 387.72 \nL 692.314844 324.3 \n\" style=\"fill:none;\"/>\n    <path clip-path=\"url(#p41e94e35f4)\" d=\"M 766.714844 324.3 \nL 841.114844 324.3 \nL 841.114844 387.72 \nL 766.714844 387.72 \nL 766.714844 324.3 \n\" style=\"fill:none;\"/>\n    <path clip-path=\"url(#p41e94e35f4)\" d=\"M 841.114844 324.3 \nL 915.514844 324.3 \nL 915.514844 387.72 \nL 841.114844 387.72 \nL 841.114844 324.3 \n\" style=\"fill:none;\"/>\n    <path clip-path=\"url(#p41e94e35f4)\" d=\"M 915.514844 324.3 \nL 989.914844 324.3 \nL 989.914844 387.72 \nL 915.514844 387.72 \nL 915.514844 324.3 \n\" style=\"fill:none;\"/>\n    <path clip-path=\"url(#p41e94e35f4)\" d=\"M 97.114844 387.72 \nL 171.514844 387.72 \nL 171.514844 451.14 \nL 97.114844 451.14 \nL 97.114844 387.72 \n\" style=\"fill:#ef5840;\"/>\n    <path clip-path=\"url(#p41e94e35f4)\" d=\"M 171.514844 387.72 \nL 245.914844 387.72 \nL 245.914844 451.14 \nL 171.514844 451.14 \nL 171.514844 387.72 \n\" style=\"fill:#e03143;\"/>\n    <path clip-path=\"url(#p41e94e35f4)\" d=\"M 245.914844 387.72 \nL 320.314844 387.72 \nL 320.314844 451.14 \nL 245.914844 451.14 \nL 245.914844 387.72 \n\" style=\"fill:#dc2b46;\"/>\n    <path clip-path=\"url(#p41e94e35f4)\" d=\"M 320.314844 387.72 \nL 394.714844 387.72 \nL 394.714844 451.14 \nL 320.314844 451.14 \nL 320.314844 387.72 \n\" style=\"fill:#f6ab83;\"/>\n    <path clip-path=\"url(#p41e94e35f4)\" d=\"M 394.714844 387.72 \nL 469.114844 387.72 \nL 469.114844 451.14 \nL 394.714844 451.14 \nL 394.714844 387.72 \n\" style=\"fill:#c41753;\"/>\n    <path clip-path=\"url(#p41e94e35f4)\" d=\"M 469.114844 387.72 \nL 543.514844 387.72 \nL 543.514844 451.14 \nL 469.114844 451.14 \nL 469.114844 387.72 \n\" style=\"fill:#4b1d4a;\"/>\n    <path clip-path=\"url(#p41e94e35f4)\" d=\"M 543.514844 387.72 \nL 617.914844 387.72 \nL 617.914844 451.14 \nL 543.514844 451.14 \nL 543.514844 387.72 \n\" style=\"fill:#03051a;\"/>\n    <path clip-path=\"url(#p41e94e35f4)\" d=\"M 617.914844 387.72 \nL 692.314844 387.72 \nL 692.314844 451.14 \nL 617.914844 451.14 \nL 617.914844 387.72 \n\" style=\"fill:none;\"/>\n    <path clip-path=\"url(#p41e94e35f4)\" d=\"M 692.314844 387.72 \nL 766.714844 387.72 \nL 766.714844 451.14 \nL 692.314844 451.14 \nL 692.314844 387.72 \n\" style=\"fill:none;\"/>\n    <path clip-path=\"url(#p41e94e35f4)\" d=\"M 766.714844 387.72 \nL 841.114844 387.72 \nL 841.114844 451.14 \nL 766.714844 451.14 \nL 766.714844 387.72 \n\" style=\"fill:none;\"/>\n    <path clip-path=\"url(#p41e94e35f4)\" d=\"M 841.114844 387.72 \nL 915.514844 387.72 \nL 915.514844 451.14 \nL 841.114844 451.14 \nL 841.114844 387.72 \n\" style=\"fill:none;\"/>\n    <path clip-path=\"url(#p41e94e35f4)\" d=\"M 915.514844 387.72 \nL 989.914844 387.72 \nL 989.914844 451.14 \nL 915.514844 451.14 \nL 915.514844 387.72 \n\" style=\"fill:none;\"/>\n    <path clip-path=\"url(#p41e94e35f4)\" d=\"M 97.114844 451.14 \nL 171.514844 451.14 \nL 171.514844 514.56 \nL 97.114844 514.56 \nL 97.114844 451.14 \n\" style=\"fill:#711f57;\"/>\n    <path clip-path=\"url(#p41e94e35f4)\" d=\"M 171.514844 451.14 \nL 245.914844 451.14 \nL 245.914844 514.56 \nL 171.514844 514.56 \nL 171.514844 451.14 \n\" style=\"fill:#421b45;\"/>\n    <path clip-path=\"url(#p41e94e35f4)\" d=\"M 245.914844 451.14 \nL 320.314844 451.14 \nL 320.314844 514.56 \nL 245.914844 514.56 \nL 245.914844 451.14 \n\" style=\"fill:#5c1e51;\"/>\n    <path clip-path=\"url(#p41e94e35f4)\" d=\"M 320.314844 451.14 \nL 394.714844 451.14 \nL 394.714844 514.56 \nL 320.314844 514.56 \nL 320.314844 451.14 \n\" style=\"fill:#931c5b;\"/>\n    <path clip-path=\"url(#p41e94e35f4)\" d=\"M 394.714844 451.14 \nL 469.114844 451.14 \nL 469.114844 514.56 \nL 394.714844 514.56 \nL 394.714844 451.14 \n\" style=\"fill:#c71951;\"/>\n    <path clip-path=\"url(#p41e94e35f4)\" d=\"M 469.114844 451.14 \nL 543.514844 451.14 \nL 543.514844 514.56 \nL 469.114844 514.56 \nL 469.114844 451.14 \n\" style=\"fill:#f4845d;\"/>\n    <path clip-path=\"url(#p41e94e35f4)\" d=\"M 543.514844 451.14 \nL 617.914844 451.14 \nL 617.914844 514.56 \nL 543.514844 514.56 \nL 543.514844 451.14 \n\" style=\"fill:#e8403e;\"/>\n    <path clip-path=\"url(#p41e94e35f4)\" d=\"M 617.914844 451.14 \nL 692.314844 451.14 \nL 692.314844 514.56 \nL 617.914844 514.56 \nL 617.914844 451.14 \n\" style=\"fill:#03051a;\"/>\n    <path clip-path=\"url(#p41e94e35f4)\" d=\"M 692.314844 451.14 \nL 766.714844 451.14 \nL 766.714844 514.56 \nL 692.314844 514.56 \nL 692.314844 451.14 \n\" style=\"fill:none;\"/>\n    <path clip-path=\"url(#p41e94e35f4)\" d=\"M 766.714844 451.14 \nL 841.114844 451.14 \nL 841.114844 514.56 \nL 766.714844 514.56 \nL 766.714844 451.14 \n\" style=\"fill:none;\"/>\n    <path clip-path=\"url(#p41e94e35f4)\" d=\"M 841.114844 451.14 \nL 915.514844 451.14 \nL 915.514844 514.56 \nL 841.114844 514.56 \nL 841.114844 451.14 \n\" style=\"fill:none;\"/>\n    <path clip-path=\"url(#p41e94e35f4)\" d=\"M 915.514844 451.14 \nL 989.914844 451.14 \nL 989.914844 514.56 \nL 915.514844 514.56 \nL 915.514844 451.14 \n\" style=\"fill:none;\"/>\n    <path clip-path=\"url(#p41e94e35f4)\" d=\"M 97.114844 514.56 \nL 171.514844 514.56 \nL 171.514844 577.98 \nL 97.114844 577.98 \nL 97.114844 514.56 \n\" style=\"fill:#781f59;\"/>\n    <path clip-path=\"url(#p41e94e35f4)\" d=\"M 171.514844 514.56 \nL 245.914844 514.56 \nL 245.914844 577.98 \nL 171.514844 577.98 \nL 171.514844 514.56 \n\" style=\"fill:#cb1b4f;\"/>\n    <path clip-path=\"url(#p41e94e35f4)\" d=\"M 245.914844 514.56 \nL 320.314844 514.56 \nL 320.314844 577.98 \nL 245.914844 577.98 \nL 245.914844 514.56 \n\" style=\"fill:#8e1d5b;\"/>\n    <path clip-path=\"url(#p41e94e35f4)\" d=\"M 320.314844 514.56 \nL 394.714844 514.56 \nL 394.714844 577.98 \nL 320.314844 577.98 \nL 320.314844 514.56 \n\" style=\"fill:#2d1738;\"/>\n    <path clip-path=\"url(#p41e94e35f4)\" d=\"M 394.714844 514.56 \nL 469.114844 514.56 \nL 469.114844 577.98 \nL 394.714844 577.98 \nL 394.714844 514.56 \n\" style=\"fill:#e23442;\"/>\n    <path clip-path=\"url(#p41e94e35f4)\" d=\"M 469.114844 514.56 \nL 543.514844 514.56 \nL 543.514844 577.98 \nL 469.114844 577.98 \nL 469.114844 514.56 \n\" style=\"fill:#f7c4a4;\"/>\n    <path clip-path=\"url(#p41e94e35f4)\" d=\"M 543.514844 514.56 \nL 617.914844 514.56 \nL 617.914844 577.98 \nL 543.514844 577.98 \nL 543.514844 514.56 \n\" style=\"fill:#f6bf9d;\"/>\n    <path clip-path=\"url(#p41e94e35f4)\" d=\"M 617.914844 514.56 \nL 692.314844 514.56 \nL 692.314844 577.98 \nL 617.914844 577.98 \nL 617.914844 514.56 \n\" style=\"fill:#a6195a;\"/>\n    <path clip-path=\"url(#p41e94e35f4)\" d=\"M 692.314844 514.56 \nL 766.714844 514.56 \nL 766.714844 577.98 \nL 692.314844 577.98 \nL 692.314844 514.56 \n\" style=\"fill:#03051a;\"/>\n    <path clip-path=\"url(#p41e94e35f4)\" d=\"M 766.714844 514.56 \nL 841.114844 514.56 \nL 841.114844 577.98 \nL 766.714844 577.98 \nL 766.714844 514.56 \n\" style=\"fill:none;\"/>\n    <path clip-path=\"url(#p41e94e35f4)\" d=\"M 841.114844 514.56 \nL 915.514844 514.56 \nL 915.514844 577.98 \nL 841.114844 577.98 \nL 841.114844 514.56 \n\" style=\"fill:none;\"/>\n    <path clip-path=\"url(#p41e94e35f4)\" d=\"M 915.514844 514.56 \nL 989.914844 514.56 \nL 989.914844 577.98 \nL 915.514844 577.98 \nL 915.514844 514.56 \n\" style=\"fill:none;\"/>\n    <path clip-path=\"url(#p41e94e35f4)\" d=\"M 97.114844 577.98 \nL 171.514844 577.98 \nL 171.514844 641.4 \nL 97.114844 641.4 \nL 97.114844 577.98 \n\" style=\"fill:#531e4d;\"/>\n    <path clip-path=\"url(#p41e94e35f4)\" d=\"M 171.514844 577.98 \nL 245.914844 577.98 \nL 245.914844 641.4 \nL 171.514844 641.4 \nL 171.514844 577.98 \n\" style=\"fill:#9e1a5b;\"/>\n    <path clip-path=\"url(#p41e94e35f4)\" d=\"M 245.914844 577.98 \nL 320.314844 577.98 \nL 320.314844 641.4 \nL 245.914844 641.4 \nL 245.914844 577.98 \n\" style=\"fill:#4e1d4b;\"/>\n    <path clip-path=\"url(#p41e94e35f4)\" d=\"M 320.314844 577.98 \nL 394.714844 577.98 \nL 394.714844 641.4 \nL 320.314844 641.4 \nL 320.314844 577.98 \n\" style=\"fill:#501d4c;\"/>\n    <path clip-path=\"url(#p41e94e35f4)\" d=\"M 394.714844 577.98 \nL 469.114844 577.98 \nL 469.114844 641.4 \nL 394.714844 641.4 \nL 394.714844 577.98 \n\" style=\"fill:#d62449;\"/>\n    <path clip-path=\"url(#p41e94e35f4)\" d=\"M 469.114844 577.98 \nL 543.514844 577.98 \nL 543.514844 641.4 \nL 469.114844 641.4 \nL 469.114844 577.98 \n\" style=\"fill:#f5966c;\"/>\n    <path clip-path=\"url(#p41e94e35f4)\" d=\"M 543.514844 577.98 \nL 617.914844 577.98 \nL 617.914844 641.4 \nL 543.514844 641.4 \nL 543.514844 577.98 \n\" style=\"fill:#f47a54;\"/>\n    <path clip-path=\"url(#p41e94e35f4)\" d=\"M 617.914844 577.98 \nL 692.314844 577.98 \nL 692.314844 641.4 \nL 617.914844 641.4 \nL 617.914844 577.98 \n\" style=\"fill:#661f54;\"/>\n    <path clip-path=\"url(#p41e94e35f4)\" d=\"M 692.314844 577.98 \nL 766.714844 577.98 \nL 766.714844 641.4 \nL 692.314844 641.4 \nL 692.314844 577.98 \n\" style=\"fill:#661f54;\"/>\n    <path clip-path=\"url(#p41e94e35f4)\" d=\"M 766.714844 577.98 \nL 841.114844 577.98 \nL 841.114844 641.4 \nL 766.714844 641.4 \nL 766.714844 577.98 \n\" style=\"fill:#03051a;\"/>\n    <path clip-path=\"url(#p41e94e35f4)\" d=\"M 841.114844 577.98 \nL 915.514844 577.98 \nL 915.514844 641.4 \nL 841.114844 641.4 \nL 841.114844 577.98 \n\" style=\"fill:none;\"/>\n    <path clip-path=\"url(#p41e94e35f4)\" d=\"M 915.514844 577.98 \nL 989.914844 577.98 \nL 989.914844 641.4 \nL 915.514844 641.4 \nL 915.514844 577.98 \n\" style=\"fill:none;\"/>\n    <path clip-path=\"url(#p41e94e35f4)\" d=\"M 97.114844 641.4 \nL 171.514844 641.4 \nL 171.514844 704.82 \nL 97.114844 704.82 \nL 97.114844 641.4 \n\" style=\"fill:#d3214b;\"/>\n    <path clip-path=\"url(#p41e94e35f4)\" d=\"M 171.514844 641.4 \nL 245.914844 641.4 \nL 245.914844 704.82 \nL 171.514844 704.82 \nL 171.514844 641.4 \n\" style=\"fill:#9e1a5b;\"/>\n    <path clip-path=\"url(#p41e94e35f4)\" d=\"M 245.914844 641.4 \nL 320.314844 641.4 \nL 320.314844 704.82 \nL 245.914844 704.82 \nL 245.914844 641.4 \n\" style=\"fill:#901d5b;\"/>\n    <path clip-path=\"url(#p41e94e35f4)\" d=\"M 320.314844 641.4 \nL 394.714844 641.4 \nL 394.714844 704.82 \nL 320.314844 704.82 \nL 320.314844 641.4 \n\" style=\"fill:#e63b40;\"/>\n    <path clip-path=\"url(#p41e94e35f4)\" d=\"M 394.714844 641.4 \nL 469.114844 641.4 \nL 469.114844 704.82 \nL 394.714844 704.82 \nL 394.714844 641.4 \n\" style=\"fill:#6e1f57;\"/>\n    <path clip-path=\"url(#p41e94e35f4)\" d=\"M 469.114844 641.4 \nL 543.514844 641.4 \nL 543.514844 704.82 \nL 469.114844 704.82 \nL 469.114844 641.4 \n\" style=\"fill:#8b1d5b;\"/>\n    <path clip-path=\"url(#p41e94e35f4)\" d=\"M 543.514844 641.4 \nL 617.914844 641.4 \nL 617.914844 704.82 \nL 543.514844 704.82 \nL 543.514844 641.4 \n\" style=\"fill:#7f1e5a;\"/>\n    <path clip-path=\"url(#p41e94e35f4)\" d=\"M 617.914844 641.4 \nL 692.314844 641.4 \nL 692.314844 704.82 \nL 617.914844 704.82 \nL 617.914844 641.4 \n\" style=\"fill:#b01759;\"/>\n    <path clip-path=\"url(#p41e94e35f4)\" d=\"M 692.314844 641.4 \nL 766.714844 641.4 \nL 766.714844 704.82 \nL 692.314844 704.82 \nL 692.314844 641.4 \n\" style=\"fill:#ec4a3e;\"/>\n    <path clip-path=\"url(#p41e94e35f4)\" d=\"M 766.714844 641.4 \nL 841.114844 641.4 \nL 841.114844 704.82 \nL 766.714844 704.82 \nL 766.714844 641.4 \n\" style=\"fill:#c71951;\"/>\n    <path clip-path=\"url(#p41e94e35f4)\" d=\"M 841.114844 641.4 \nL 915.514844 641.4 \nL 915.514844 704.82 \nL 841.114844 704.82 \nL 841.114844 641.4 \n\" style=\"fill:#03051a;\"/>\n    <path clip-path=\"url(#p41e94e35f4)\" d=\"M 915.514844 641.4 \nL 989.914844 641.4 \nL 989.914844 704.82 \nL 915.514844 704.82 \nL 915.514844 641.4 \n\" style=\"fill:none;\"/>\n    <path clip-path=\"url(#p41e94e35f4)\" d=\"M 97.114844 704.82 \nL 171.514844 704.82 \nL 171.514844 768.24 \nL 97.114844 768.24 \nL 97.114844 704.82 \n\" style=\"fill:#f58a61;\"/>\n    <path clip-path=\"url(#p41e94e35f4)\" d=\"M 171.514844 704.82 \nL 245.914844 704.82 \nL 245.914844 768.24 \nL 171.514844 768.24 \nL 171.514844 704.82 \n\" style=\"fill:#f06043;\"/>\n    <path clip-path=\"url(#p41e94e35f4)\" d=\"M 245.914844 704.82 \nL 320.314844 704.82 \nL 320.314844 768.24 \nL 245.914844 768.24 \nL 245.914844 704.82 \n\" style=\"fill:#f26948;\"/>\n    <path clip-path=\"url(#p41e94e35f4)\" d=\"M 320.314844 704.82 \nL 394.714844 704.82 \nL 394.714844 768.24 \nL 320.314844 768.24 \nL 320.314844 704.82 \n\" style=\"fill:#f8d9c3;\"/>\n    <path clip-path=\"url(#p41e94e35f4)\" d=\"M 394.714844 704.82 \nL 469.114844 704.82 \nL 469.114844 768.24 \nL 394.714844 768.24 \nL 394.714844 704.82 \n\" style=\"fill:#eb463e;\"/>\n    <path clip-path=\"url(#p41e94e35f4)\" d=\"M 469.114844 704.82 \nL 543.514844 704.82 \nL 543.514844 768.24 \nL 469.114844 768.24 \nL 469.114844 704.82 \n\" style=\"fill:#6e1f57;\"/>\n    <path clip-path=\"url(#p41e94e35f4)\" d=\"M 543.514844 704.82 \nL 617.914844 704.82 \nL 617.914844 768.24 \nL 543.514844 768.24 \nL 543.514844 704.82 \n\" style=\"fill:#421b45;\"/>\n    <path clip-path=\"url(#p41e94e35f4)\" d=\"M 617.914844 704.82 \nL 692.314844 704.82 \nL 692.314844 768.24 \nL 617.914844 768.24 \nL 617.914844 704.82 \n\" style=\"fill:#f58a61;\"/>\n    <path clip-path=\"url(#p41e94e35f4)\" d=\"M 692.314844 704.82 \nL 766.714844 704.82 \nL 766.714844 768.24 \nL 692.314844 768.24 \nL 692.314844 704.82 \n\" style=\"fill:#faebdd;\"/>\n    <path clip-path=\"url(#p41e94e35f4)\" d=\"M 766.714844 704.82 \nL 841.114844 704.82 \nL 841.114844 768.24 \nL 766.714844 768.24 \nL 766.714844 704.82 \n\" style=\"fill:#f6ae87;\"/>\n    <path clip-path=\"url(#p41e94e35f4)\" d=\"M 841.114844 704.82 \nL 915.514844 704.82 \nL 915.514844 768.24 \nL 841.114844 768.24 \nL 841.114844 704.82 \n\" style=\"fill:#b41658;\"/>\n    <path clip-path=\"url(#p41e94e35f4)\" d=\"M 915.514844 704.82 \nL 989.914844 704.82 \nL 989.914844 768.24 \nL 915.514844 768.24 \nL 915.514844 704.82 \n\" style=\"fill:#03051a;\"/>\n   </g>\n   <g id=\"matplotlib.axis_1\">\n    <g id=\"xtick_1\">\n     <g id=\"line2d_1\">\n      <defs>\n       <path d=\"M 0 0 \nL 0 3.5 \n\" id=\"mc29d2c974d\" style=\"stroke:#000000;stroke-width:0.8;\"/>\n      </defs>\n      <g>\n       <use style=\"stroke:#000000;stroke-width:0.8;\" x=\"134.314844\" xlink:href=\"#mc29d2c974d\" y=\"768.24\"/>\n      </g>\n     </g>\n     <g id=\"text_1\">\n      <!-- January -->\n      <g transform=\"translate(138.453906 832.106406)rotate(-90)scale(0.15 -0.15)\">\n       <defs>\n        <path d=\"M 9.8125 72.90625 \nL 19.671875 72.90625 \nL 19.671875 5.078125 \nQ 19.671875 -8.109375 14.671875 -14.0625 \nQ 9.671875 -20.015625 -1.421875 -20.015625 \nL -5.171875 -20.015625 \nL -5.171875 -11.71875 \nL -2.09375 -11.71875 \nQ 4.4375 -11.71875 7.125 -8.046875 \nQ 9.8125 -4.390625 9.8125 5.078125 \nz\n\" id=\"DejaVuSans-74\"/>\n        <path d=\"M 34.28125 27.484375 \nQ 23.390625 27.484375 19.1875 25 \nQ 14.984375 22.515625 14.984375 16.5 \nQ 14.984375 11.71875 18.140625 8.90625 \nQ 21.296875 6.109375 26.703125 6.109375 \nQ 34.1875 6.109375 38.703125 11.40625 \nQ 43.21875 16.703125 43.21875 25.484375 \nL 43.21875 27.484375 \nz\nM 52.203125 31.203125 \nL 52.203125 0 \nL 43.21875 0 \nL 43.21875 8.296875 \nQ 40.140625 3.328125 35.546875 0.953125 \nQ 30.953125 -1.421875 24.3125 -1.421875 \nQ 15.921875 -1.421875 10.953125 3.296875 \nQ 6 8.015625 6 15.921875 \nQ 6 25.140625 12.171875 29.828125 \nQ 18.359375 34.515625 30.609375 34.515625 \nL 43.21875 34.515625 \nL 43.21875 35.40625 \nQ 43.21875 41.609375 39.140625 45 \nQ 35.0625 48.390625 27.6875 48.390625 \nQ 23 48.390625 18.546875 47.265625 \nQ 14.109375 46.140625 10.015625 43.890625 \nL 10.015625 52.203125 \nQ 14.9375 54.109375 19.578125 55.046875 \nQ 24.21875 56 28.609375 56 \nQ 40.484375 56 46.34375 49.84375 \nQ 52.203125 43.703125 52.203125 31.203125 \nz\n\" id=\"DejaVuSans-97\"/>\n        <path d=\"M 54.890625 33.015625 \nL 54.890625 0 \nL 45.90625 0 \nL 45.90625 32.71875 \nQ 45.90625 40.484375 42.875 44.328125 \nQ 39.84375 48.1875 33.796875 48.1875 \nQ 26.515625 48.1875 22.3125 43.546875 \nQ 18.109375 38.921875 18.109375 30.90625 \nL 18.109375 0 \nL 9.078125 0 \nL 9.078125 54.6875 \nL 18.109375 54.6875 \nL 18.109375 46.1875 \nQ 21.34375 51.125 25.703125 53.5625 \nQ 30.078125 56 35.796875 56 \nQ 45.21875 56 50.046875 50.171875 \nQ 54.890625 44.34375 54.890625 33.015625 \nz\n\" id=\"DejaVuSans-110\"/>\n        <path d=\"M 8.5 21.578125 \nL 8.5 54.6875 \nL 17.484375 54.6875 \nL 17.484375 21.921875 \nQ 17.484375 14.15625 20.5 10.265625 \nQ 23.53125 6.390625 29.59375 6.390625 \nQ 36.859375 6.390625 41.078125 11.03125 \nQ 45.3125 15.671875 45.3125 23.6875 \nL 45.3125 54.6875 \nL 54.296875 54.6875 \nL 54.296875 0 \nL 45.3125 0 \nL 45.3125 8.40625 \nQ 42.046875 3.421875 37.71875 1 \nQ 33.40625 -1.421875 27.6875 -1.421875 \nQ 18.265625 -1.421875 13.375 4.4375 \nQ 8.5 10.296875 8.5 21.578125 \nz\nM 31.109375 56 \nz\n\" id=\"DejaVuSans-117\"/>\n        <path d=\"M 41.109375 46.296875 \nQ 39.59375 47.171875 37.8125 47.578125 \nQ 36.03125 48 33.890625 48 \nQ 26.265625 48 22.1875 43.046875 \nQ 18.109375 38.09375 18.109375 28.8125 \nL 18.109375 0 \nL 9.078125 0 \nL 9.078125 54.6875 \nL 18.109375 54.6875 \nL 18.109375 46.1875 \nQ 20.953125 51.171875 25.484375 53.578125 \nQ 30.03125 56 36.53125 56 \nQ 37.453125 56 38.578125 55.875 \nQ 39.703125 55.765625 41.0625 55.515625 \nz\n\" id=\"DejaVuSans-114\"/>\n        <path d=\"M 32.171875 -5.078125 \nQ 28.375 -14.84375 24.75 -17.8125 \nQ 21.140625 -20.796875 15.09375 -20.796875 \nL 7.90625 -20.796875 \nL 7.90625 -13.28125 \nL 13.1875 -13.28125 \nQ 16.890625 -13.28125 18.9375 -11.515625 \nQ 21 -9.765625 23.484375 -3.21875 \nL 25.09375 0.875 \nL 2.984375 54.6875 \nL 12.5 54.6875 \nL 29.59375 11.921875 \nL 46.6875 54.6875 \nL 56.203125 54.6875 \nz\n\" id=\"DejaVuSans-121\"/>\n       </defs>\n       <use xlink:href=\"#DejaVuSans-74\"/>\n       <use x=\"29.492188\" xlink:href=\"#DejaVuSans-97\"/>\n       <use x=\"90.771484\" xlink:href=\"#DejaVuSans-110\"/>\n       <use x=\"154.150391\" xlink:href=\"#DejaVuSans-117\"/>\n       <use x=\"217.529297\" xlink:href=\"#DejaVuSans-97\"/>\n       <use x=\"278.808594\" xlink:href=\"#DejaVuSans-114\"/>\n       <use x=\"319.921875\" xlink:href=\"#DejaVuSans-121\"/>\n      </g>\n     </g>\n    </g>\n    <g id=\"xtick_2\">\n     <g id=\"line2d_2\">\n      <g>\n       <use style=\"stroke:#000000;stroke-width:0.8;\" x=\"208.714844\" xlink:href=\"#mc29d2c974d\" y=\"768.24\"/>\n      </g>\n     </g>\n     <g id=\"text_2\">\n      <!-- February -->\n      <g transform=\"translate(212.853906 841.704062)rotate(-90)scale(0.15 -0.15)\">\n       <defs>\n        <path d=\"M 9.8125 72.90625 \nL 51.703125 72.90625 \nL 51.703125 64.59375 \nL 19.671875 64.59375 \nL 19.671875 43.109375 \nL 48.578125 43.109375 \nL 48.578125 34.8125 \nL 19.671875 34.8125 \nL 19.671875 0 \nL 9.8125 0 \nz\n\" id=\"DejaVuSans-70\"/>\n        <path d=\"M 56.203125 29.59375 \nL 56.203125 25.203125 \nL 14.890625 25.203125 \nQ 15.484375 15.921875 20.484375 11.0625 \nQ 25.484375 6.203125 34.421875 6.203125 \nQ 39.59375 6.203125 44.453125 7.46875 \nQ 49.3125 8.734375 54.109375 11.28125 \nL 54.109375 2.78125 \nQ 49.265625 0.734375 44.1875 -0.34375 \nQ 39.109375 -1.421875 33.890625 -1.421875 \nQ 20.796875 -1.421875 13.15625 6.1875 \nQ 5.515625 13.8125 5.515625 26.8125 \nQ 5.515625 40.234375 12.765625 48.109375 \nQ 20.015625 56 32.328125 56 \nQ 43.359375 56 49.78125 48.890625 \nQ 56.203125 41.796875 56.203125 29.59375 \nz\nM 47.21875 32.234375 \nQ 47.125 39.59375 43.09375 43.984375 \nQ 39.0625 48.390625 32.421875 48.390625 \nQ 24.90625 48.390625 20.390625 44.140625 \nQ 15.875 39.890625 15.1875 32.171875 \nz\n\" id=\"DejaVuSans-101\"/>\n        <path d=\"M 48.6875 27.296875 \nQ 48.6875 37.203125 44.609375 42.84375 \nQ 40.53125 48.484375 33.40625 48.484375 \nQ 26.265625 48.484375 22.1875 42.84375 \nQ 18.109375 37.203125 18.109375 27.296875 \nQ 18.109375 17.390625 22.1875 11.75 \nQ 26.265625 6.109375 33.40625 6.109375 \nQ 40.53125 6.109375 44.609375 11.75 \nQ 48.6875 17.390625 48.6875 27.296875 \nz\nM 18.109375 46.390625 \nQ 20.953125 51.265625 25.265625 53.625 \nQ 29.59375 56 35.59375 56 \nQ 45.5625 56 51.78125 48.09375 \nQ 58.015625 40.1875 58.015625 27.296875 \nQ 58.015625 14.40625 51.78125 6.484375 \nQ 45.5625 -1.421875 35.59375 -1.421875 \nQ 29.59375 -1.421875 25.265625 0.953125 \nQ 20.953125 3.328125 18.109375 8.203125 \nL 18.109375 0 \nL 9.078125 0 \nL 9.078125 75.984375 \nL 18.109375 75.984375 \nz\n\" id=\"DejaVuSans-98\"/>\n       </defs>\n       <use xlink:href=\"#DejaVuSans-70\"/>\n       <use x=\"52.019531\" xlink:href=\"#DejaVuSans-101\"/>\n       <use x=\"113.542969\" xlink:href=\"#DejaVuSans-98\"/>\n       <use x=\"177.019531\" xlink:href=\"#DejaVuSans-114\"/>\n       <use x=\"218.132812\" xlink:href=\"#DejaVuSans-117\"/>\n       <use x=\"281.511719\" xlink:href=\"#DejaVuSans-97\"/>\n       <use x=\"342.791016\" xlink:href=\"#DejaVuSans-114\"/>\n       <use x=\"383.904297\" xlink:href=\"#DejaVuSans-121\"/>\n      </g>\n     </g>\n    </g>\n    <g id=\"xtick_3\">\n     <g id=\"line2d_3\">\n      <g>\n       <use style=\"stroke:#000000;stroke-width:0.8;\" x=\"283.114844\" xlink:href=\"#mc29d2c974d\" y=\"768.24\"/>\n      </g>\n     </g>\n     <g id=\"text_3\">\n      <!-- March -->\n      <g transform=\"translate(287.253906 820.957187)rotate(-90)scale(0.15 -0.15)\">\n       <defs>\n        <path d=\"M 9.8125 72.90625 \nL 24.515625 72.90625 \nL 43.109375 23.296875 \nL 61.8125 72.90625 \nL 76.515625 72.90625 \nL 76.515625 0 \nL 66.890625 0 \nL 66.890625 64.015625 \nL 48.09375 14.015625 \nL 38.1875 14.015625 \nL 19.390625 64.015625 \nL 19.390625 0 \nL 9.8125 0 \nz\n\" id=\"DejaVuSans-77\"/>\n        <path d=\"M 48.78125 52.59375 \nL 48.78125 44.1875 \nQ 44.96875 46.296875 41.140625 47.34375 \nQ 37.3125 48.390625 33.40625 48.390625 \nQ 24.65625 48.390625 19.8125 42.84375 \nQ 14.984375 37.3125 14.984375 27.296875 \nQ 14.984375 17.28125 19.8125 11.734375 \nQ 24.65625 6.203125 33.40625 6.203125 \nQ 37.3125 6.203125 41.140625 7.25 \nQ 44.96875 8.296875 48.78125 10.40625 \nL 48.78125 2.09375 \nQ 45.015625 0.34375 40.984375 -0.53125 \nQ 36.96875 -1.421875 32.421875 -1.421875 \nQ 20.0625 -1.421875 12.78125 6.34375 \nQ 5.515625 14.109375 5.515625 27.296875 \nQ 5.515625 40.671875 12.859375 48.328125 \nQ 20.21875 56 33.015625 56 \nQ 37.15625 56 41.109375 55.140625 \nQ 45.0625 54.296875 48.78125 52.59375 \nz\n\" id=\"DejaVuSans-99\"/>\n        <path d=\"M 54.890625 33.015625 \nL 54.890625 0 \nL 45.90625 0 \nL 45.90625 32.71875 \nQ 45.90625 40.484375 42.875 44.328125 \nQ 39.84375 48.1875 33.796875 48.1875 \nQ 26.515625 48.1875 22.3125 43.546875 \nQ 18.109375 38.921875 18.109375 30.90625 \nL 18.109375 0 \nL 9.078125 0 \nL 9.078125 75.984375 \nL 18.109375 75.984375 \nL 18.109375 46.1875 \nQ 21.34375 51.125 25.703125 53.5625 \nQ 30.078125 56 35.796875 56 \nQ 45.21875 56 50.046875 50.171875 \nQ 54.890625 44.34375 54.890625 33.015625 \nz\n\" id=\"DejaVuSans-104\"/>\n       </defs>\n       <use xlink:href=\"#DejaVuSans-77\"/>\n       <use x=\"86.279297\" xlink:href=\"#DejaVuSans-97\"/>\n       <use x=\"147.558594\" xlink:href=\"#DejaVuSans-114\"/>\n       <use x=\"186.421875\" xlink:href=\"#DejaVuSans-99\"/>\n       <use x=\"241.402344\" xlink:href=\"#DejaVuSans-104\"/>\n      </g>\n     </g>\n    </g>\n    <g id=\"xtick_4\">\n     <g id=\"line2d_4\">\n      <g>\n       <use style=\"stroke:#000000;stroke-width:0.8;\" x=\"357.514844\" xlink:href=\"#mc29d2c974d\" y=\"768.24\"/>\n      </g>\n     </g>\n     <g id=\"text_4\">\n      <!-- April -->\n      <g transform=\"translate(361.653906 809.524375)rotate(-90)scale(0.15 -0.15)\">\n       <defs>\n        <path d=\"M 34.1875 63.1875 \nL 20.796875 26.90625 \nL 47.609375 26.90625 \nz\nM 28.609375 72.90625 \nL 39.796875 72.90625 \nL 67.578125 0 \nL 57.328125 0 \nL 50.6875 18.703125 \nL 17.828125 18.703125 \nL 11.1875 0 \nL 0.78125 0 \nz\n\" id=\"DejaVuSans-65\"/>\n        <path d=\"M 18.109375 8.203125 \nL 18.109375 -20.796875 \nL 9.078125 -20.796875 \nL 9.078125 54.6875 \nL 18.109375 54.6875 \nL 18.109375 46.390625 \nQ 20.953125 51.265625 25.265625 53.625 \nQ 29.59375 56 35.59375 56 \nQ 45.5625 56 51.78125 48.09375 \nQ 58.015625 40.1875 58.015625 27.296875 \nQ 58.015625 14.40625 51.78125 6.484375 \nQ 45.5625 -1.421875 35.59375 -1.421875 \nQ 29.59375 -1.421875 25.265625 0.953125 \nQ 20.953125 3.328125 18.109375 8.203125 \nz\nM 48.6875 27.296875 \nQ 48.6875 37.203125 44.609375 42.84375 \nQ 40.53125 48.484375 33.40625 48.484375 \nQ 26.265625 48.484375 22.1875 42.84375 \nQ 18.109375 37.203125 18.109375 27.296875 \nQ 18.109375 17.390625 22.1875 11.75 \nQ 26.265625 6.109375 33.40625 6.109375 \nQ 40.53125 6.109375 44.609375 11.75 \nQ 48.6875 17.390625 48.6875 27.296875 \nz\n\" id=\"DejaVuSans-112\"/>\n        <path d=\"M 9.421875 54.6875 \nL 18.40625 54.6875 \nL 18.40625 0 \nL 9.421875 0 \nz\nM 9.421875 75.984375 \nL 18.40625 75.984375 \nL 18.40625 64.59375 \nL 9.421875 64.59375 \nz\n\" id=\"DejaVuSans-105\"/>\n        <path d=\"M 9.421875 75.984375 \nL 18.40625 75.984375 \nL 18.40625 0 \nL 9.421875 0 \nz\n\" id=\"DejaVuSans-108\"/>\n       </defs>\n       <use xlink:href=\"#DejaVuSans-65\"/>\n       <use x=\"68.408203\" xlink:href=\"#DejaVuSans-112\"/>\n       <use x=\"131.884766\" xlink:href=\"#DejaVuSans-114\"/>\n       <use x=\"172.998047\" xlink:href=\"#DejaVuSans-105\"/>\n       <use x=\"200.78125\" xlink:href=\"#DejaVuSans-108\"/>\n      </g>\n     </g>\n    </g>\n    <g id=\"xtick_5\">\n     <g id=\"line2d_5\">\n      <g>\n       <use style=\"stroke:#000000;stroke-width:0.8;\" x=\"431.914844\" xlink:href=\"#mc29d2c974d\" y=\"768.24\"/>\n      </g>\n     </g>\n     <g id=\"text_5\">\n      <!-- May -->\n      <g transform=\"translate(436.053906 806.2525)rotate(-90)scale(0.15 -0.15)\">\n       <use xlink:href=\"#DejaVuSans-77\"/>\n       <use x=\"86.279297\" xlink:href=\"#DejaVuSans-97\"/>\n       <use x=\"147.558594\" xlink:href=\"#DejaVuSans-121\"/>\n      </g>\n     </g>\n    </g>\n    <g id=\"xtick_6\">\n     <g id=\"line2d_6\">\n      <g>\n       <use style=\"stroke:#000000;stroke-width:0.8;\" x=\"506.314844\" xlink:href=\"#mc29d2c974d\" y=\"768.24\"/>\n      </g>\n     </g>\n     <g id=\"text_6\">\n      <!-- June -->\n      <g transform=\"translate(510.453906 807.907187)rotate(-90)scale(0.15 -0.15)\">\n       <use xlink:href=\"#DejaVuSans-74\"/>\n       <use x=\"29.492188\" xlink:href=\"#DejaVuSans-117\"/>\n       <use x=\"92.871094\" xlink:href=\"#DejaVuSans-110\"/>\n       <use x=\"156.25\" xlink:href=\"#DejaVuSans-101\"/>\n      </g>\n     </g>\n    </g>\n    <g id=\"xtick_7\">\n     <g id=\"line2d_7\">\n      <g>\n       <use style=\"stroke:#000000;stroke-width:0.8;\" x=\"580.714844\" xlink:href=\"#mc29d2c974d\" y=\"768.24\"/>\n      </g>\n     </g>\n     <g id=\"text_7\">\n      <!-- July -->\n      <g transform=\"translate(584.853906 802.216562)rotate(-90)scale(0.15 -0.15)\">\n       <use xlink:href=\"#DejaVuSans-74\"/>\n       <use x=\"29.492188\" xlink:href=\"#DejaVuSans-117\"/>\n       <use x=\"92.871094\" xlink:href=\"#DejaVuSans-108\"/>\n       <use x=\"120.654297\" xlink:href=\"#DejaVuSans-121\"/>\n      </g>\n     </g>\n    </g>\n    <g id=\"xtick_8\">\n     <g id=\"line2d_8\">\n      <g>\n       <use style=\"stroke:#000000;stroke-width:0.8;\" x=\"655.114844\" xlink:href=\"#mc29d2c974d\" y=\"768.24\"/>\n      </g>\n     </g>\n     <g id=\"text_8\">\n      <!-- August -->\n      <g transform=\"translate(659.253906 827.730625)rotate(-90)scale(0.15 -0.15)\">\n       <defs>\n        <path d=\"M 45.40625 27.984375 \nQ 45.40625 37.75 41.375 43.109375 \nQ 37.359375 48.484375 30.078125 48.484375 \nQ 22.859375 48.484375 18.828125 43.109375 \nQ 14.796875 37.75 14.796875 27.984375 \nQ 14.796875 18.265625 18.828125 12.890625 \nQ 22.859375 7.515625 30.078125 7.515625 \nQ 37.359375 7.515625 41.375 12.890625 \nQ 45.40625 18.265625 45.40625 27.984375 \nz\nM 54.390625 6.78125 \nQ 54.390625 -7.171875 48.1875 -13.984375 \nQ 42 -20.796875 29.203125 -20.796875 \nQ 24.46875 -20.796875 20.265625 -20.09375 \nQ 16.0625 -19.390625 12.109375 -17.921875 \nL 12.109375 -9.1875 \nQ 16.0625 -11.328125 19.921875 -12.34375 \nQ 23.78125 -13.375 27.78125 -13.375 \nQ 36.625 -13.375 41.015625 -8.765625 \nQ 45.40625 -4.15625 45.40625 5.171875 \nL 45.40625 9.625 \nQ 42.625 4.78125 38.28125 2.390625 \nQ 33.9375 0 27.875 0 \nQ 17.828125 0 11.671875 7.65625 \nQ 5.515625 15.328125 5.515625 27.984375 \nQ 5.515625 40.671875 11.671875 48.328125 \nQ 17.828125 56 27.875 56 \nQ 33.9375 56 38.28125 53.609375 \nQ 42.625 51.21875 45.40625 46.390625 \nL 45.40625 54.6875 \nL 54.390625 54.6875 \nz\n\" id=\"DejaVuSans-103\"/>\n        <path d=\"M 44.28125 53.078125 \nL 44.28125 44.578125 \nQ 40.484375 46.53125 36.375 47.5 \nQ 32.28125 48.484375 27.875 48.484375 \nQ 21.1875 48.484375 17.84375 46.4375 \nQ 14.5 44.390625 14.5 40.28125 \nQ 14.5 37.15625 16.890625 35.375 \nQ 19.28125 33.59375 26.515625 31.984375 \nL 29.59375 31.296875 \nQ 39.15625 29.25 43.1875 25.515625 \nQ 47.21875 21.78125 47.21875 15.09375 \nQ 47.21875 7.46875 41.1875 3.015625 \nQ 35.15625 -1.421875 24.609375 -1.421875 \nQ 20.21875 -1.421875 15.453125 -0.5625 \nQ 10.6875 0.296875 5.421875 2 \nL 5.421875 11.28125 \nQ 10.40625 8.6875 15.234375 7.390625 \nQ 20.0625 6.109375 24.8125 6.109375 \nQ 31.15625 6.109375 34.5625 8.28125 \nQ 37.984375 10.453125 37.984375 14.40625 \nQ 37.984375 18.0625 35.515625 20.015625 \nQ 33.0625 21.96875 24.703125 23.78125 \nL 21.578125 24.515625 \nQ 13.234375 26.265625 9.515625 29.90625 \nQ 5.8125 33.546875 5.8125 39.890625 \nQ 5.8125 47.609375 11.28125 51.796875 \nQ 16.75 56 26.8125 56 \nQ 31.78125 56 36.171875 55.265625 \nQ 40.578125 54.546875 44.28125 53.078125 \nz\n\" id=\"DejaVuSans-115\"/>\n        <path d=\"M 18.3125 70.21875 \nL 18.3125 54.6875 \nL 36.8125 54.6875 \nL 36.8125 47.703125 \nL 18.3125 47.703125 \nL 18.3125 18.015625 \nQ 18.3125 11.328125 20.140625 9.421875 \nQ 21.96875 7.515625 27.59375 7.515625 \nL 36.8125 7.515625 \nL 36.8125 0 \nL 27.59375 0 \nQ 17.1875 0 13.234375 3.875 \nQ 9.28125 7.765625 9.28125 18.015625 \nL 9.28125 47.703125 \nL 2.6875 47.703125 \nL 2.6875 54.6875 \nL 9.28125 54.6875 \nL 9.28125 70.21875 \nz\n\" id=\"DejaVuSans-116\"/>\n       </defs>\n       <use xlink:href=\"#DejaVuSans-65\"/>\n       <use x=\"68.408203\" xlink:href=\"#DejaVuSans-117\"/>\n       <use x=\"131.787109\" xlink:href=\"#DejaVuSans-103\"/>\n       <use x=\"195.263672\" xlink:href=\"#DejaVuSans-117\"/>\n       <use x=\"258.642578\" xlink:href=\"#DejaVuSans-115\"/>\n       <use x=\"310.742188\" xlink:href=\"#DejaVuSans-116\"/>\n      </g>\n     </g>\n    </g>\n    <g id=\"xtick_9\">\n     <g id=\"line2d_9\">\n      <g>\n       <use style=\"stroke:#000000;stroke-width:0.8;\" x=\"729.514844\" xlink:href=\"#mc29d2c974d\" y=\"768.24\"/>\n      </g>\n     </g>\n     <g id=\"text_9\">\n      <!-- September -->\n      <g transform=\"translate(733.653906 858.154844)rotate(-90)scale(0.15 -0.15)\">\n       <defs>\n        <path d=\"M 53.515625 70.515625 \nL 53.515625 60.890625 \nQ 47.90625 63.578125 42.921875 64.890625 \nQ 37.9375 66.21875 33.296875 66.21875 \nQ 25.25 66.21875 20.875 63.09375 \nQ 16.5 59.96875 16.5 54.203125 \nQ 16.5 49.359375 19.40625 46.890625 \nQ 22.3125 44.4375 30.421875 42.921875 \nL 36.375 41.703125 \nQ 47.40625 39.59375 52.65625 34.296875 \nQ 57.90625 29 57.90625 20.125 \nQ 57.90625 9.515625 50.796875 4.046875 \nQ 43.703125 -1.421875 29.984375 -1.421875 \nQ 24.8125 -1.421875 18.96875 -0.25 \nQ 13.140625 0.921875 6.890625 3.21875 \nL 6.890625 13.375 \nQ 12.890625 10.015625 18.65625 8.296875 \nQ 24.421875 6.59375 29.984375 6.59375 \nQ 38.421875 6.59375 43.015625 9.90625 \nQ 47.609375 13.234375 47.609375 19.390625 \nQ 47.609375 24.75 44.3125 27.78125 \nQ 41.015625 30.8125 33.5 32.328125 \nL 27.484375 33.5 \nQ 16.453125 35.6875 11.515625 40.375 \nQ 6.59375 45.0625 6.59375 53.421875 \nQ 6.59375 63.09375 13.40625 68.65625 \nQ 20.21875 74.21875 32.171875 74.21875 \nQ 37.3125 74.21875 42.625 73.28125 \nQ 47.953125 72.359375 53.515625 70.515625 \nz\n\" id=\"DejaVuSans-83\"/>\n        <path d=\"M 52 44.1875 \nQ 55.375 50.25 60.0625 53.125 \nQ 64.75 56 71.09375 56 \nQ 79.640625 56 84.28125 50.015625 \nQ 88.921875 44.046875 88.921875 33.015625 \nL 88.921875 0 \nL 79.890625 0 \nL 79.890625 32.71875 \nQ 79.890625 40.578125 77.09375 44.375 \nQ 74.3125 48.1875 68.609375 48.1875 \nQ 61.625 48.1875 57.5625 43.546875 \nQ 53.515625 38.921875 53.515625 30.90625 \nL 53.515625 0 \nL 44.484375 0 \nL 44.484375 32.71875 \nQ 44.484375 40.625 41.703125 44.40625 \nQ 38.921875 48.1875 33.109375 48.1875 \nQ 26.21875 48.1875 22.15625 43.53125 \nQ 18.109375 38.875 18.109375 30.90625 \nL 18.109375 0 \nL 9.078125 0 \nL 9.078125 54.6875 \nL 18.109375 54.6875 \nL 18.109375 46.1875 \nQ 21.1875 51.21875 25.484375 53.609375 \nQ 29.78125 56 35.6875 56 \nQ 41.65625 56 45.828125 52.96875 \nQ 50 49.953125 52 44.1875 \nz\n\" id=\"DejaVuSans-109\"/>\n       </defs>\n       <use xlink:href=\"#DejaVuSans-83\"/>\n       <use x=\"63.476562\" xlink:href=\"#DejaVuSans-101\"/>\n       <use x=\"125\" xlink:href=\"#DejaVuSans-112\"/>\n       <use x=\"188.476562\" xlink:href=\"#DejaVuSans-116\"/>\n       <use x=\"227.685547\" xlink:href=\"#DejaVuSans-101\"/>\n       <use x=\"289.208984\" xlink:href=\"#DejaVuSans-109\"/>\n       <use x=\"386.621094\" xlink:href=\"#DejaVuSans-98\"/>\n       <use x=\"450.097656\" xlink:href=\"#DejaVuSans-101\"/>\n       <use x=\"511.621094\" xlink:href=\"#DejaVuSans-114\"/>\n      </g>\n     </g>\n    </g>\n    <g id=\"xtick_10\">\n     <g id=\"line2d_10\">\n      <g>\n       <use style=\"stroke:#000000;stroke-width:0.8;\" x=\"803.914844\" xlink:href=\"#mc29d2c974d\" y=\"768.24\"/>\n      </g>\n     </g>\n     <g id=\"text_10\">\n      <!-- October -->\n      <g transform=\"translate(808.053906 835.272812)rotate(-90)scale(0.15 -0.15)\">\n       <defs>\n        <path d=\"M 39.40625 66.21875 \nQ 28.65625 66.21875 22.328125 58.203125 \nQ 16.015625 50.203125 16.015625 36.375 \nQ 16.015625 22.609375 22.328125 14.59375 \nQ 28.65625 6.59375 39.40625 6.59375 \nQ 50.140625 6.59375 56.421875 14.59375 \nQ 62.703125 22.609375 62.703125 36.375 \nQ 62.703125 50.203125 56.421875 58.203125 \nQ 50.140625 66.21875 39.40625 66.21875 \nz\nM 39.40625 74.21875 \nQ 54.734375 74.21875 63.90625 63.9375 \nQ 73.09375 53.65625 73.09375 36.375 \nQ 73.09375 19.140625 63.90625 8.859375 \nQ 54.734375 -1.421875 39.40625 -1.421875 \nQ 24.03125 -1.421875 14.8125 8.828125 \nQ 5.609375 19.09375 5.609375 36.375 \nQ 5.609375 53.65625 14.8125 63.9375 \nQ 24.03125 74.21875 39.40625 74.21875 \nz\n\" id=\"DejaVuSans-79\"/>\n        <path d=\"M 30.609375 48.390625 \nQ 23.390625 48.390625 19.1875 42.75 \nQ 14.984375 37.109375 14.984375 27.296875 \nQ 14.984375 17.484375 19.15625 11.84375 \nQ 23.34375 6.203125 30.609375 6.203125 \nQ 37.796875 6.203125 41.984375 11.859375 \nQ 46.1875 17.53125 46.1875 27.296875 \nQ 46.1875 37.015625 41.984375 42.703125 \nQ 37.796875 48.390625 30.609375 48.390625 \nz\nM 30.609375 56 \nQ 42.328125 56 49.015625 48.375 \nQ 55.71875 40.765625 55.71875 27.296875 \nQ 55.71875 13.875 49.015625 6.21875 \nQ 42.328125 -1.421875 30.609375 -1.421875 \nQ 18.84375 -1.421875 12.171875 6.21875 \nQ 5.515625 13.875 5.515625 27.296875 \nQ 5.515625 40.765625 12.171875 48.375 \nQ 18.84375 56 30.609375 56 \nz\n\" id=\"DejaVuSans-111\"/>\n       </defs>\n       <use xlink:href=\"#DejaVuSans-79\"/>\n       <use x=\"78.710938\" xlink:href=\"#DejaVuSans-99\"/>\n       <use x=\"133.691406\" xlink:href=\"#DejaVuSans-116\"/>\n       <use x=\"172.900391\" xlink:href=\"#DejaVuSans-111\"/>\n       <use x=\"234.082031\" xlink:href=\"#DejaVuSans-98\"/>\n       <use x=\"297.558594\" xlink:href=\"#DejaVuSans-101\"/>\n       <use x=\"359.082031\" xlink:href=\"#DejaVuSans-114\"/>\n      </g>\n     </g>\n    </g>\n    <g id=\"xtick_11\">\n     <g id=\"line2d_11\">\n      <g>\n       <use style=\"stroke:#000000;stroke-width:0.8;\" x=\"878.314844\" xlink:href=\"#mc29d2c974d\" y=\"768.24\"/>\n      </g>\n     </g>\n     <g id=\"text_11\">\n      <!-- November -->\n      <g transform=\"translate(882.453906 853.2775)rotate(-90)scale(0.15 -0.15)\">\n       <defs>\n        <path d=\"M 9.8125 72.90625 \nL 23.09375 72.90625 \nL 55.421875 11.921875 \nL 55.421875 72.90625 \nL 64.984375 72.90625 \nL 64.984375 0 \nL 51.703125 0 \nL 19.390625 60.984375 \nL 19.390625 0 \nL 9.8125 0 \nz\n\" id=\"DejaVuSans-78\"/>\n        <path d=\"M 2.984375 54.6875 \nL 12.5 54.6875 \nL 29.59375 8.796875 \nL 46.6875 54.6875 \nL 56.203125 54.6875 \nL 35.6875 0 \nL 23.484375 0 \nz\n\" id=\"DejaVuSans-118\"/>\n       </defs>\n       <use xlink:href=\"#DejaVuSans-78\"/>\n       <use x=\"74.804688\" xlink:href=\"#DejaVuSans-111\"/>\n       <use x=\"135.986328\" xlink:href=\"#DejaVuSans-118\"/>\n       <use x=\"195.166016\" xlink:href=\"#DejaVuSans-101\"/>\n       <use x=\"256.689453\" xlink:href=\"#DejaVuSans-109\"/>\n       <use x=\"354.101562\" xlink:href=\"#DejaVuSans-98\"/>\n       <use x=\"417.578125\" xlink:href=\"#DejaVuSans-101\"/>\n       <use x=\"479.101562\" xlink:href=\"#DejaVuSans-114\"/>\n      </g>\n     </g>\n    </g>\n    <g id=\"xtick_12\">\n     <g id=\"line2d_12\">\n      <g>\n       <use style=\"stroke:#000000;stroke-width:0.8;\" x=\"952.714844\" xlink:href=\"#mc29d2c974d\" y=\"768.24\"/>\n      </g>\n     </g>\n     <g id=\"text_12\">\n      <!-- December -->\n      <g transform=\"translate(956.853906 853.026719)rotate(-90)scale(0.15 -0.15)\">\n       <defs>\n        <path d=\"M 19.671875 64.796875 \nL 19.671875 8.109375 \nL 31.59375 8.109375 \nQ 46.6875 8.109375 53.6875 14.9375 \nQ 60.6875 21.78125 60.6875 36.53125 \nQ 60.6875 51.171875 53.6875 57.984375 \nQ 46.6875 64.796875 31.59375 64.796875 \nz\nM 9.8125 72.90625 \nL 30.078125 72.90625 \nQ 51.265625 72.90625 61.171875 64.09375 \nQ 71.09375 55.28125 71.09375 36.53125 \nQ 71.09375 17.671875 61.125 8.828125 \nQ 51.171875 0 30.078125 0 \nL 9.8125 0 \nz\n\" id=\"DejaVuSans-68\"/>\n       </defs>\n       <use xlink:href=\"#DejaVuSans-68\"/>\n       <use x=\"77.001953\" xlink:href=\"#DejaVuSans-101\"/>\n       <use x=\"138.525391\" xlink:href=\"#DejaVuSans-99\"/>\n       <use x=\"193.505859\" xlink:href=\"#DejaVuSans-101\"/>\n       <use x=\"255.029297\" xlink:href=\"#DejaVuSans-109\"/>\n       <use x=\"352.441406\" xlink:href=\"#DejaVuSans-98\"/>\n       <use x=\"415.917969\" xlink:href=\"#DejaVuSans-101\"/>\n       <use x=\"477.441406\" xlink:href=\"#DejaVuSans-114\"/>\n      </g>\n     </g>\n    </g>\n   </g>\n   <g id=\"matplotlib.axis_2\">\n    <g id=\"ytick_1\">\n     <g id=\"line2d_13\">\n      <defs>\n       <path d=\"M 0 0 \nL -3.5 0 \n\" id=\"m5296e9d958\" style=\"stroke:#000000;stroke-width:0.8;\"/>\n      </defs>\n      <g>\n       <use style=\"stroke:#000000;stroke-width:0.8;\" x=\"97.114844\" xlink:href=\"#m5296e9d958\" y=\"38.91\"/>\n      </g>\n     </g>\n     <g id=\"text_13\">\n      <!-- January -->\n      <g transform=\"translate(33.248438 44.608828)scale(0.15 -0.15)\">\n       <use xlink:href=\"#DejaVuSans-74\"/>\n       <use x=\"29.492188\" xlink:href=\"#DejaVuSans-97\"/>\n       <use x=\"90.771484\" xlink:href=\"#DejaVuSans-110\"/>\n       <use x=\"154.150391\" xlink:href=\"#DejaVuSans-117\"/>\n       <use x=\"217.529297\" xlink:href=\"#DejaVuSans-97\"/>\n       <use x=\"278.808594\" xlink:href=\"#DejaVuSans-114\"/>\n       <use x=\"319.921875\" xlink:href=\"#DejaVuSans-121\"/>\n      </g>\n     </g>\n    </g>\n    <g id=\"ytick_2\">\n     <g id=\"line2d_14\">\n      <g>\n       <use style=\"stroke:#000000;stroke-width:0.8;\" x=\"97.114844\" xlink:href=\"#m5296e9d958\" y=\"102.33\"/>\n      </g>\n     </g>\n     <g id=\"text_14\">\n      <!-- February -->\n      <g transform=\"translate(23.650781 108.028828)scale(0.15 -0.15)\">\n       <use xlink:href=\"#DejaVuSans-70\"/>\n       <use x=\"52.019531\" xlink:href=\"#DejaVuSans-101\"/>\n       <use x=\"113.542969\" xlink:href=\"#DejaVuSans-98\"/>\n       <use x=\"177.019531\" xlink:href=\"#DejaVuSans-114\"/>\n       <use x=\"218.132812\" xlink:href=\"#DejaVuSans-117\"/>\n       <use x=\"281.511719\" xlink:href=\"#DejaVuSans-97\"/>\n       <use x=\"342.791016\" xlink:href=\"#DejaVuSans-114\"/>\n       <use x=\"383.904297\" xlink:href=\"#DejaVuSans-121\"/>\n      </g>\n     </g>\n    </g>\n    <g id=\"ytick_3\">\n     <g id=\"line2d_15\">\n      <g>\n       <use style=\"stroke:#000000;stroke-width:0.8;\" x=\"97.114844\" xlink:href=\"#m5296e9d958\" y=\"165.75\"/>\n      </g>\n     </g>\n     <g id=\"text_15\">\n      <!-- March -->\n      <g transform=\"translate(44.397656 171.448828)scale(0.15 -0.15)\">\n       <use xlink:href=\"#DejaVuSans-77\"/>\n       <use x=\"86.279297\" xlink:href=\"#DejaVuSans-97\"/>\n       <use x=\"147.558594\" xlink:href=\"#DejaVuSans-114\"/>\n       <use x=\"186.421875\" xlink:href=\"#DejaVuSans-99\"/>\n       <use x=\"241.402344\" xlink:href=\"#DejaVuSans-104\"/>\n      </g>\n     </g>\n    </g>\n    <g id=\"ytick_4\">\n     <g id=\"line2d_16\">\n      <g>\n       <use style=\"stroke:#000000;stroke-width:0.8;\" x=\"97.114844\" xlink:href=\"#m5296e9d958\" y=\"229.17\"/>\n      </g>\n     </g>\n     <g id=\"text_16\">\n      <!-- April -->\n      <g transform=\"translate(55.830469 234.868828)scale(0.15 -0.15)\">\n       <use xlink:href=\"#DejaVuSans-65\"/>\n       <use x=\"68.408203\" xlink:href=\"#DejaVuSans-112\"/>\n       <use x=\"131.884766\" xlink:href=\"#DejaVuSans-114\"/>\n       <use x=\"172.998047\" xlink:href=\"#DejaVuSans-105\"/>\n       <use x=\"200.78125\" xlink:href=\"#DejaVuSans-108\"/>\n      </g>\n     </g>\n    </g>\n    <g id=\"ytick_5\">\n     <g id=\"line2d_17\">\n      <g>\n       <use style=\"stroke:#000000;stroke-width:0.8;\" x=\"97.114844\" xlink:href=\"#m5296e9d958\" y=\"292.59\"/>\n      </g>\n     </g>\n     <g id=\"text_17\">\n      <!-- May -->\n      <g transform=\"translate(59.102344 298.288828)scale(0.15 -0.15)\">\n       <use xlink:href=\"#DejaVuSans-77\"/>\n       <use x=\"86.279297\" xlink:href=\"#DejaVuSans-97\"/>\n       <use x=\"147.558594\" xlink:href=\"#DejaVuSans-121\"/>\n      </g>\n     </g>\n    </g>\n    <g id=\"ytick_6\">\n     <g id=\"line2d_18\">\n      <g>\n       <use style=\"stroke:#000000;stroke-width:0.8;\" x=\"97.114844\" xlink:href=\"#m5296e9d958\" y=\"356.01\"/>\n      </g>\n     </g>\n     <g id=\"text_18\">\n      <!-- June -->\n      <g transform=\"translate(57.447656 361.708828)scale(0.15 -0.15)\">\n       <use xlink:href=\"#DejaVuSans-74\"/>\n       <use x=\"29.492188\" xlink:href=\"#DejaVuSans-117\"/>\n       <use x=\"92.871094\" xlink:href=\"#DejaVuSans-110\"/>\n       <use x=\"156.25\" xlink:href=\"#DejaVuSans-101\"/>\n      </g>\n     </g>\n    </g>\n    <g id=\"ytick_7\">\n     <g id=\"line2d_19\">\n      <g>\n       <use style=\"stroke:#000000;stroke-width:0.8;\" x=\"97.114844\" xlink:href=\"#m5296e9d958\" y=\"419.43\"/>\n      </g>\n     </g>\n     <g id=\"text_19\">\n      <!-- July -->\n      <g transform=\"translate(63.138281 425.128828)scale(0.15 -0.15)\">\n       <use xlink:href=\"#DejaVuSans-74\"/>\n       <use x=\"29.492188\" xlink:href=\"#DejaVuSans-117\"/>\n       <use x=\"92.871094\" xlink:href=\"#DejaVuSans-108\"/>\n       <use x=\"120.654297\" xlink:href=\"#DejaVuSans-121\"/>\n      </g>\n     </g>\n    </g>\n    <g id=\"ytick_8\">\n     <g id=\"line2d_20\">\n      <g>\n       <use style=\"stroke:#000000;stroke-width:0.8;\" x=\"97.114844\" xlink:href=\"#m5296e9d958\" y=\"482.85\"/>\n      </g>\n     </g>\n     <g id=\"text_20\">\n      <!-- August -->\n      <g transform=\"translate(37.624219 488.548828)scale(0.15 -0.15)\">\n       <use xlink:href=\"#DejaVuSans-65\"/>\n       <use x=\"68.408203\" xlink:href=\"#DejaVuSans-117\"/>\n       <use x=\"131.787109\" xlink:href=\"#DejaVuSans-103\"/>\n       <use x=\"195.263672\" xlink:href=\"#DejaVuSans-117\"/>\n       <use x=\"258.642578\" xlink:href=\"#DejaVuSans-115\"/>\n       <use x=\"310.742188\" xlink:href=\"#DejaVuSans-116\"/>\n      </g>\n     </g>\n    </g>\n    <g id=\"ytick_9\">\n     <g id=\"line2d_21\">\n      <g>\n       <use style=\"stroke:#000000;stroke-width:0.8;\" x=\"97.114844\" xlink:href=\"#m5296e9d958\" y=\"546.27\"/>\n      </g>\n     </g>\n     <g id=\"text_21\">\n      <!-- September -->\n      <g transform=\"translate(7.2 551.968828)scale(0.15 -0.15)\">\n       <use xlink:href=\"#DejaVuSans-83\"/>\n       <use x=\"63.476562\" xlink:href=\"#DejaVuSans-101\"/>\n       <use x=\"125\" xlink:href=\"#DejaVuSans-112\"/>\n       <use x=\"188.476562\" xlink:href=\"#DejaVuSans-116\"/>\n       <use x=\"227.685547\" xlink:href=\"#DejaVuSans-101\"/>\n       <use x=\"289.208984\" xlink:href=\"#DejaVuSans-109\"/>\n       <use x=\"386.621094\" xlink:href=\"#DejaVuSans-98\"/>\n       <use x=\"450.097656\" xlink:href=\"#DejaVuSans-101\"/>\n       <use x=\"511.621094\" xlink:href=\"#DejaVuSans-114\"/>\n      </g>\n     </g>\n    </g>\n    <g id=\"ytick_10\">\n     <g id=\"line2d_22\">\n      <g>\n       <use style=\"stroke:#000000;stroke-width:0.8;\" x=\"97.114844\" xlink:href=\"#m5296e9d958\" y=\"609.69\"/>\n      </g>\n     </g>\n     <g id=\"text_22\">\n      <!-- October -->\n      <g transform=\"translate(30.082031 615.388828)scale(0.15 -0.15)\">\n       <use xlink:href=\"#DejaVuSans-79\"/>\n       <use x=\"78.710938\" xlink:href=\"#DejaVuSans-99\"/>\n       <use x=\"133.691406\" xlink:href=\"#DejaVuSans-116\"/>\n       <use x=\"172.900391\" xlink:href=\"#DejaVuSans-111\"/>\n       <use x=\"234.082031\" xlink:href=\"#DejaVuSans-98\"/>\n       <use x=\"297.558594\" xlink:href=\"#DejaVuSans-101\"/>\n       <use x=\"359.082031\" xlink:href=\"#DejaVuSans-114\"/>\n      </g>\n     </g>\n    </g>\n    <g id=\"ytick_11\">\n     <g id=\"line2d_23\">\n      <g>\n       <use style=\"stroke:#000000;stroke-width:0.8;\" x=\"97.114844\" xlink:href=\"#m5296e9d958\" y=\"673.11\"/>\n      </g>\n     </g>\n     <g id=\"text_23\">\n      <!-- November -->\n      <g transform=\"translate(12.077344 678.808828)scale(0.15 -0.15)\">\n       <use xlink:href=\"#DejaVuSans-78\"/>\n       <use x=\"74.804688\" xlink:href=\"#DejaVuSans-111\"/>\n       <use x=\"135.986328\" xlink:href=\"#DejaVuSans-118\"/>\n       <use x=\"195.166016\" xlink:href=\"#DejaVuSans-101\"/>\n       <use x=\"256.689453\" xlink:href=\"#DejaVuSans-109\"/>\n       <use x=\"354.101562\" xlink:href=\"#DejaVuSans-98\"/>\n       <use x=\"417.578125\" xlink:href=\"#DejaVuSans-101\"/>\n       <use x=\"479.101562\" xlink:href=\"#DejaVuSans-114\"/>\n      </g>\n     </g>\n    </g>\n    <g id=\"ytick_12\">\n     <g id=\"line2d_24\">\n      <g>\n       <use style=\"stroke:#000000;stroke-width:0.8;\" x=\"97.114844\" xlink:href=\"#m5296e9d958\" y=\"736.53\"/>\n      </g>\n     </g>\n     <g id=\"text_24\">\n      <!-- December -->\n      <g transform=\"translate(12.328125 742.228828)scale(0.15 -0.15)\">\n       <use xlink:href=\"#DejaVuSans-68\"/>\n       <use x=\"77.001953\" xlink:href=\"#DejaVuSans-101\"/>\n       <use x=\"138.525391\" xlink:href=\"#DejaVuSans-99\"/>\n       <use x=\"193.505859\" xlink:href=\"#DejaVuSans-101\"/>\n       <use x=\"255.029297\" xlink:href=\"#DejaVuSans-109\"/>\n       <use x=\"352.441406\" xlink:href=\"#DejaVuSans-98\"/>\n       <use x=\"415.917969\" xlink:href=\"#DejaVuSans-101\"/>\n       <use x=\"477.441406\" xlink:href=\"#DejaVuSans-114\"/>\n      </g>\n     </g>\n    </g>\n   </g>\n   <g id=\"text_25\">\n    <!-- 0 -->\n    <g style=\"fill:#ffffff;\" transform=\"translate(129.542969 43.049062)scale(0.15 -0.15)\">\n     <defs>\n      <path d=\"M 31.78125 66.40625 \nQ 24.171875 66.40625 20.328125 58.90625 \nQ 16.5 51.421875 16.5 36.375 \nQ 16.5 21.390625 20.328125 13.890625 \nQ 24.171875 6.390625 31.78125 6.390625 \nQ 39.453125 6.390625 43.28125 13.890625 \nQ 47.125 21.390625 47.125 36.375 \nQ 47.125 51.421875 43.28125 58.90625 \nQ 39.453125 66.40625 31.78125 66.40625 \nz\nM 31.78125 74.21875 \nQ 44.046875 74.21875 50.515625 64.515625 \nQ 56.984375 54.828125 56.984375 36.375 \nQ 56.984375 17.96875 50.515625 8.265625 \nQ 44.046875 -1.421875 31.78125 -1.421875 \nQ 19.53125 -1.421875 13.0625 8.265625 \nQ 6.59375 17.96875 6.59375 36.375 \nQ 6.59375 54.828125 13.0625 64.515625 \nQ 19.53125 74.21875 31.78125 74.21875 \nz\n\" id=\"DejaVuSans-48\"/>\n     </defs>\n     <use xlink:href=\"#DejaVuSans-48\"/>\n    </g>\n   </g>\n   <g id=\"text_26\">\n    <!-- 0.068 -->\n    <g style=\"fill:#ffffff;\" transform=\"translate(112.84375 106.469062)scale(0.15 -0.15)\">\n     <defs>\n      <path d=\"M 10.6875 12.40625 \nL 21 12.40625 \nL 21 0 \nL 10.6875 0 \nz\n\" id=\"DejaVuSans-46\"/>\n      <path d=\"M 33.015625 40.375 \nQ 26.375 40.375 22.484375 35.828125 \nQ 18.609375 31.296875 18.609375 23.390625 \nQ 18.609375 15.53125 22.484375 10.953125 \nQ 26.375 6.390625 33.015625 6.390625 \nQ 39.65625 6.390625 43.53125 10.953125 \nQ 47.40625 15.53125 47.40625 23.390625 \nQ 47.40625 31.296875 43.53125 35.828125 \nQ 39.65625 40.375 33.015625 40.375 \nz\nM 52.59375 71.296875 \nL 52.59375 62.3125 \nQ 48.875 64.0625 45.09375 64.984375 \nQ 41.3125 65.921875 37.59375 65.921875 \nQ 27.828125 65.921875 22.671875 59.328125 \nQ 17.53125 52.734375 16.796875 39.40625 \nQ 19.671875 43.65625 24.015625 45.921875 \nQ 28.375 48.1875 33.59375 48.1875 \nQ 44.578125 48.1875 50.953125 41.515625 \nQ 57.328125 34.859375 57.328125 23.390625 \nQ 57.328125 12.15625 50.6875 5.359375 \nQ 44.046875 -1.421875 33.015625 -1.421875 \nQ 20.359375 -1.421875 13.671875 8.265625 \nQ 6.984375 17.96875 6.984375 36.375 \nQ 6.984375 53.65625 15.1875 63.9375 \nQ 23.390625 74.21875 37.203125 74.21875 \nQ 40.921875 74.21875 44.703125 73.484375 \nQ 48.484375 72.75 52.59375 71.296875 \nz\n\" id=\"DejaVuSans-54\"/>\n      <path d=\"M 31.78125 34.625 \nQ 24.75 34.625 20.71875 30.859375 \nQ 16.703125 27.09375 16.703125 20.515625 \nQ 16.703125 13.921875 20.71875 10.15625 \nQ 24.75 6.390625 31.78125 6.390625 \nQ 38.8125 6.390625 42.859375 10.171875 \nQ 46.921875 13.96875 46.921875 20.515625 \nQ 46.921875 27.09375 42.890625 30.859375 \nQ 38.875 34.625 31.78125 34.625 \nz\nM 21.921875 38.8125 \nQ 15.578125 40.375 12.03125 44.71875 \nQ 8.5 49.078125 8.5 55.328125 \nQ 8.5 64.0625 14.71875 69.140625 \nQ 20.953125 74.21875 31.78125 74.21875 \nQ 42.671875 74.21875 48.875 69.140625 \nQ 55.078125 64.0625 55.078125 55.328125 \nQ 55.078125 49.078125 51.53125 44.71875 \nQ 48 40.375 41.703125 38.8125 \nQ 48.828125 37.15625 52.796875 32.3125 \nQ 56.78125 27.484375 56.78125 20.515625 \nQ 56.78125 9.90625 50.3125 4.234375 \nQ 43.84375 -1.421875 31.78125 -1.421875 \nQ 19.734375 -1.421875 13.25 4.234375 \nQ 6.78125 9.90625 6.78125 20.515625 \nQ 6.78125 27.484375 10.78125 32.3125 \nQ 14.796875 37.15625 21.921875 38.8125 \nz\nM 18.3125 54.390625 \nQ 18.3125 48.734375 21.84375 45.5625 \nQ 25.390625 42.390625 31.78125 42.390625 \nQ 38.140625 42.390625 41.71875 45.5625 \nQ 45.3125 48.734375 45.3125 54.390625 \nQ 45.3125 60.0625 41.71875 63.234375 \nQ 38.140625 66.40625 31.78125 66.40625 \nQ 25.390625 66.40625 21.84375 63.234375 \nQ 18.3125 60.0625 18.3125 54.390625 \nz\n\" id=\"DejaVuSans-56\"/>\n     </defs>\n     <use xlink:href=\"#DejaVuSans-48\"/>\n     <use x=\"63.623047\" xlink:href=\"#DejaVuSans-46\"/>\n     <use x=\"95.410156\" xlink:href=\"#DejaVuSans-48\"/>\n     <use x=\"159.033203\" xlink:href=\"#DejaVuSans-54\"/>\n     <use x=\"222.65625\" xlink:href=\"#DejaVuSans-56\"/>\n    </g>\n   </g>\n   <g id=\"text_27\">\n    <!-- 0 -->\n    <g style=\"fill:#ffffff;\" transform=\"translate(203.942969 106.469062)scale(0.15 -0.15)\">\n     <use xlink:href=\"#DejaVuSans-48\"/>\n    </g>\n   </g>\n   <g id=\"text_28\">\n    <!-- 0.048 -->\n    <g style=\"fill:#ffffff;\" transform=\"translate(112.84375 169.889062)scale(0.15 -0.15)\">\n     <defs>\n      <path d=\"M 37.796875 64.3125 \nL 12.890625 25.390625 \nL 37.796875 25.390625 \nz\nM 35.203125 72.90625 \nL 47.609375 72.90625 \nL 47.609375 25.390625 \nL 58.015625 25.390625 \nL 58.015625 17.1875 \nL 47.609375 17.1875 \nL 47.609375 0 \nL 37.796875 0 \nL 37.796875 17.1875 \nL 4.890625 17.1875 \nL 4.890625 26.703125 \nz\n\" id=\"DejaVuSans-52\"/>\n     </defs>\n     <use xlink:href=\"#DejaVuSans-48\"/>\n     <use x=\"63.623047\" xlink:href=\"#DejaVuSans-46\"/>\n     <use x=\"95.410156\" xlink:href=\"#DejaVuSans-48\"/>\n     <use x=\"159.033203\" xlink:href=\"#DejaVuSans-52\"/>\n     <use x=\"222.65625\" xlink:href=\"#DejaVuSans-56\"/>\n    </g>\n   </g>\n   <g id=\"text_29\">\n    <!-- 0.082 -->\n    <g style=\"fill:#ffffff;\" transform=\"translate(187.24375 169.889062)scale(0.15 -0.15)\">\n     <defs>\n      <path d=\"M 19.1875 8.296875 \nL 53.609375 8.296875 \nL 53.609375 0 \nL 7.328125 0 \nL 7.328125 8.296875 \nQ 12.9375 14.109375 22.625 23.890625 \nQ 32.328125 33.6875 34.8125 36.53125 \nQ 39.546875 41.84375 41.421875 45.53125 \nQ 43.3125 49.21875 43.3125 52.78125 \nQ 43.3125 58.59375 39.234375 62.25 \nQ 35.15625 65.921875 28.609375 65.921875 \nQ 23.96875 65.921875 18.8125 64.3125 \nQ 13.671875 62.703125 7.8125 59.421875 \nL 7.8125 69.390625 \nQ 13.765625 71.78125 18.9375 73 \nQ 24.125 74.21875 28.421875 74.21875 \nQ 39.75 74.21875 46.484375 68.546875 \nQ 53.21875 62.890625 53.21875 53.421875 \nQ 53.21875 48.921875 51.53125 44.890625 \nQ 49.859375 40.875 45.40625 35.40625 \nQ 44.1875 33.984375 37.640625 27.21875 \nQ 31.109375 20.453125 19.1875 8.296875 \nz\n\" id=\"DejaVuSans-50\"/>\n     </defs>\n     <use xlink:href=\"#DejaVuSans-48\"/>\n     <use x=\"63.623047\" xlink:href=\"#DejaVuSans-46\"/>\n     <use x=\"95.410156\" xlink:href=\"#DejaVuSans-48\"/>\n     <use x=\"159.033203\" xlink:href=\"#DejaVuSans-56\"/>\n     <use x=\"222.65625\" xlink:href=\"#DejaVuSans-50\"/>\n    </g>\n   </g>\n   <g id=\"text_30\">\n    <!-- 0 -->\n    <g style=\"fill:#ffffff;\" transform=\"translate(278.342969 169.889062)scale(0.15 -0.15)\">\n     <use xlink:href=\"#DejaVuSans-48\"/>\n    </g>\n   </g>\n   <g id=\"text_31\">\n    <!-- 0.08 -->\n    <g style=\"fill:#ffffff;\" transform=\"translate(117.615625 233.309062)scale(0.15 -0.15)\">\n     <use xlink:href=\"#DejaVuSans-48\"/>\n     <use x=\"63.623047\" xlink:href=\"#DejaVuSans-46\"/>\n     <use x=\"95.410156\" xlink:href=\"#DejaVuSans-48\"/>\n     <use x=\"159.033203\" xlink:href=\"#DejaVuSans-56\"/>\n    </g>\n   </g>\n   <g id=\"text_32\">\n    <!-- 0.14 -->\n    <g style=\"fill:#ffffff;\" transform=\"translate(192.015625 233.309062)scale(0.15 -0.15)\">\n     <defs>\n      <path d=\"M 12.40625 8.296875 \nL 28.515625 8.296875 \nL 28.515625 63.921875 \nL 10.984375 60.40625 \nL 10.984375 69.390625 \nL 28.421875 72.90625 \nL 38.28125 72.90625 \nL 38.28125 8.296875 \nL 54.390625 8.296875 \nL 54.390625 0 \nL 12.40625 0 \nz\n\" id=\"DejaVuSans-49\"/>\n     </defs>\n     <use xlink:href=\"#DejaVuSans-48\"/>\n     <use x=\"63.623047\" xlink:href=\"#DejaVuSans-46\"/>\n     <use x=\"95.410156\" xlink:href=\"#DejaVuSans-49\"/>\n     <use x=\"159.033203\" xlink:href=\"#DejaVuSans-52\"/>\n    </g>\n   </g>\n   <g id=\"text_33\">\n    <!-- 0.089 -->\n    <g style=\"fill:#ffffff;\" transform=\"translate(261.64375 233.309062)scale(0.15 -0.15)\">\n     <defs>\n      <path d=\"M 10.984375 1.515625 \nL 10.984375 10.5 \nQ 14.703125 8.734375 18.5 7.8125 \nQ 22.3125 6.890625 25.984375 6.890625 \nQ 35.75 6.890625 40.890625 13.453125 \nQ 46.046875 20.015625 46.78125 33.40625 \nQ 43.953125 29.203125 39.59375 26.953125 \nQ 35.25 24.703125 29.984375 24.703125 \nQ 19.046875 24.703125 12.671875 31.3125 \nQ 6.296875 37.9375 6.296875 49.421875 \nQ 6.296875 60.640625 12.9375 67.421875 \nQ 19.578125 74.21875 30.609375 74.21875 \nQ 43.265625 74.21875 49.921875 64.515625 \nQ 56.59375 54.828125 56.59375 36.375 \nQ 56.59375 19.140625 48.40625 8.859375 \nQ 40.234375 -1.421875 26.421875 -1.421875 \nQ 22.703125 -1.421875 18.890625 -0.6875 \nQ 15.09375 0.046875 10.984375 1.515625 \nz\nM 30.609375 32.421875 \nQ 37.25 32.421875 41.125 36.953125 \nQ 45.015625 41.5 45.015625 49.421875 \nQ 45.015625 57.28125 41.125 61.84375 \nQ 37.25 66.40625 30.609375 66.40625 \nQ 23.96875 66.40625 20.09375 61.84375 \nQ 16.21875 57.28125 16.21875 49.421875 \nQ 16.21875 41.5 20.09375 36.953125 \nQ 23.96875 32.421875 30.609375 32.421875 \nz\n\" id=\"DejaVuSans-57\"/>\n     </defs>\n     <use xlink:href=\"#DejaVuSans-48\"/>\n     <use x=\"63.623047\" xlink:href=\"#DejaVuSans-46\"/>\n     <use x=\"95.410156\" xlink:href=\"#DejaVuSans-48\"/>\n     <use x=\"159.033203\" xlink:href=\"#DejaVuSans-56\"/>\n     <use x=\"222.65625\" xlink:href=\"#DejaVuSans-57\"/>\n    </g>\n   </g>\n   <g id=\"text_34\">\n    <!-- 0 -->\n    <g style=\"fill:#ffffff;\" transform=\"translate(352.742969 233.309062)scale(0.15 -0.15)\">\n     <use xlink:href=\"#DejaVuSans-48\"/>\n    </g>\n   </g>\n   <g id=\"text_35\">\n    <!-- 0.15 -->\n    <g style=\"fill:#ffffff;\" transform=\"translate(117.615625 296.729062)scale(0.15 -0.15)\">\n     <defs>\n      <path d=\"M 10.796875 72.90625 \nL 49.515625 72.90625 \nL 49.515625 64.59375 \nL 19.828125 64.59375 \nL 19.828125 46.734375 \nQ 21.96875 47.46875 24.109375 47.828125 \nQ 26.265625 48.1875 28.421875 48.1875 \nQ 40.625 48.1875 47.75 41.5 \nQ 54.890625 34.8125 54.890625 23.390625 \nQ 54.890625 11.625 47.5625 5.09375 \nQ 40.234375 -1.421875 26.90625 -1.421875 \nQ 22.3125 -1.421875 17.546875 -0.640625 \nQ 12.796875 0.140625 7.71875 1.703125 \nL 7.71875 11.625 \nQ 12.109375 9.234375 16.796875 8.0625 \nQ 21.484375 6.890625 26.703125 6.890625 \nQ 35.15625 6.890625 40.078125 11.328125 \nQ 45.015625 15.765625 45.015625 23.390625 \nQ 45.015625 31 40.078125 35.4375 \nQ 35.15625 39.890625 26.703125 39.890625 \nQ 22.75 39.890625 18.8125 39.015625 \nQ 14.890625 38.140625 10.796875 36.28125 \nz\n\" id=\"DejaVuSans-53\"/>\n     </defs>\n     <use xlink:href=\"#DejaVuSans-48\"/>\n     <use x=\"63.623047\" xlink:href=\"#DejaVuSans-46\"/>\n     <use x=\"95.410156\" xlink:href=\"#DejaVuSans-49\"/>\n     <use x=\"159.033203\" xlink:href=\"#DejaVuSans-53\"/>\n    </g>\n   </g>\n   <g id=\"text_36\">\n    <!-- 0.13 -->\n    <g style=\"fill:#ffffff;\" transform=\"translate(192.015625 296.729062)scale(0.15 -0.15)\">\n     <defs>\n      <path d=\"M 40.578125 39.3125 \nQ 47.65625 37.796875 51.625 33 \nQ 55.609375 28.21875 55.609375 21.1875 \nQ 55.609375 10.40625 48.1875 4.484375 \nQ 40.765625 -1.421875 27.09375 -1.421875 \nQ 22.515625 -1.421875 17.65625 -0.515625 \nQ 12.796875 0.390625 7.625 2.203125 \nL 7.625 11.71875 \nQ 11.71875 9.328125 16.59375 8.109375 \nQ 21.484375 6.890625 26.8125 6.890625 \nQ 36.078125 6.890625 40.9375 10.546875 \nQ 45.796875 14.203125 45.796875 21.1875 \nQ 45.796875 27.640625 41.28125 31.265625 \nQ 36.765625 34.90625 28.71875 34.90625 \nL 20.21875 34.90625 \nL 20.21875 43.015625 \nL 29.109375 43.015625 \nQ 36.375 43.015625 40.234375 45.921875 \nQ 44.09375 48.828125 44.09375 54.296875 \nQ 44.09375 59.90625 40.109375 62.90625 \nQ 36.140625 65.921875 28.71875 65.921875 \nQ 24.65625 65.921875 20.015625 65.03125 \nQ 15.375 64.15625 9.8125 62.3125 \nL 9.8125 71.09375 \nQ 15.4375 72.65625 20.34375 73.4375 \nQ 25.25 74.21875 29.59375 74.21875 \nQ 40.828125 74.21875 47.359375 69.109375 \nQ 53.90625 64.015625 53.90625 55.328125 \nQ 53.90625 49.265625 50.4375 45.09375 \nQ 46.96875 40.921875 40.578125 39.3125 \nz\n\" id=\"DejaVuSans-51\"/>\n     </defs>\n     <use xlink:href=\"#DejaVuSans-48\"/>\n     <use x=\"63.623047\" xlink:href=\"#DejaVuSans-46\"/>\n     <use x=\"95.410156\" xlink:href=\"#DejaVuSans-49\"/>\n     <use x=\"159.033203\" xlink:href=\"#DejaVuSans-51\"/>\n    </g>\n   </g>\n   <g id=\"text_37\">\n    <!-- 0.12 -->\n    <g style=\"fill:#ffffff;\" transform=\"translate(266.415625 296.729062)scale(0.15 -0.15)\">\n     <use xlink:href=\"#DejaVuSans-48\"/>\n     <use x=\"63.623047\" xlink:href=\"#DejaVuSans-46\"/>\n     <use x=\"95.410156\" xlink:href=\"#DejaVuSans-49\"/>\n     <use x=\"159.033203\" xlink:href=\"#DejaVuSans-50\"/>\n    </g>\n   </g>\n   <g id=\"text_38\">\n    <!-- 0.16 -->\n    <g style=\"fill:#ffffff;\" transform=\"translate(340.815625 296.729062)scale(0.15 -0.15)\">\n     <use xlink:href=\"#DejaVuSans-48\"/>\n     <use x=\"63.623047\" xlink:href=\"#DejaVuSans-46\"/>\n     <use x=\"95.410156\" xlink:href=\"#DejaVuSans-49\"/>\n     <use x=\"159.033203\" xlink:href=\"#DejaVuSans-54\"/>\n    </g>\n   </g>\n   <g id=\"text_39\">\n    <!-- 0 -->\n    <g style=\"fill:#ffffff;\" transform=\"translate(427.142969 296.729062)scale(0.15 -0.15)\">\n     <use xlink:href=\"#DejaVuSans-48\"/>\n    </g>\n   </g>\n   <g id=\"text_40\">\n    <!-- 0.22 -->\n    <g style=\"fill:#262626;\" transform=\"translate(117.615625 360.149062)scale(0.15 -0.15)\">\n     <use xlink:href=\"#DejaVuSans-48\"/>\n     <use x=\"63.623047\" xlink:href=\"#DejaVuSans-46\"/>\n     <use x=\"95.410156\" xlink:href=\"#DejaVuSans-50\"/>\n     <use x=\"159.033203\" xlink:href=\"#DejaVuSans-50\"/>\n    </g>\n   </g>\n   <g id=\"text_41\">\n    <!-- 0.19 -->\n    <g style=\"fill:#ffffff;\" transform=\"translate(192.015625 360.149062)scale(0.15 -0.15)\">\n     <use xlink:href=\"#DejaVuSans-48\"/>\n     <use x=\"63.623047\" xlink:href=\"#DejaVuSans-46\"/>\n     <use x=\"95.410156\" xlink:href=\"#DejaVuSans-49\"/>\n     <use x=\"159.033203\" xlink:href=\"#DejaVuSans-57\"/>\n    </g>\n   </g>\n   <g id=\"text_42\">\n    <!-- 0.19 -->\n    <g style=\"fill:#ffffff;\" transform=\"translate(266.415625 360.149062)scale(0.15 -0.15)\">\n     <use xlink:href=\"#DejaVuSans-48\"/>\n     <use x=\"63.623047\" xlink:href=\"#DejaVuSans-46\"/>\n     <use x=\"95.410156\" xlink:href=\"#DejaVuSans-49\"/>\n     <use x=\"159.033203\" xlink:href=\"#DejaVuSans-57\"/>\n    </g>\n   </g>\n   <g id=\"text_43\">\n    <!-- 0.26 -->\n    <g style=\"fill:#262626;\" transform=\"translate(340.815625 360.149062)scale(0.15 -0.15)\">\n     <use xlink:href=\"#DejaVuSans-48\"/>\n     <use x=\"63.623047\" xlink:href=\"#DejaVuSans-46\"/>\n     <use x=\"95.410156\" xlink:href=\"#DejaVuSans-50\"/>\n     <use x=\"159.033203\" xlink:href=\"#DejaVuSans-54\"/>\n    </g>\n   </g>\n   <g id=\"text_44\">\n    <!-- 0.13 -->\n    <g style=\"fill:#ffffff;\" transform=\"translate(415.215625 360.149062)scale(0.15 -0.15)\">\n     <use xlink:href=\"#DejaVuSans-48\"/>\n     <use x=\"63.623047\" xlink:href=\"#DejaVuSans-46\"/>\n     <use x=\"95.410156\" xlink:href=\"#DejaVuSans-49\"/>\n     <use x=\"159.033203\" xlink:href=\"#DejaVuSans-51\"/>\n    </g>\n   </g>\n   <g id=\"text_45\">\n    <!-- 0 -->\n    <g style=\"fill:#ffffff;\" transform=\"translate(501.542969 360.149062)scale(0.15 -0.15)\">\n     <use xlink:href=\"#DejaVuSans-48\"/>\n    </g>\n   </g>\n   <g id=\"text_46\">\n    <!-- 0.18 -->\n    <g style=\"fill:#ffffff;\" transform=\"translate(117.615625 423.569062)scale(0.15 -0.15)\">\n     <use xlink:href=\"#DejaVuSans-48\"/>\n     <use x=\"63.623047\" xlink:href=\"#DejaVuSans-46\"/>\n     <use x=\"95.410156\" xlink:href=\"#DejaVuSans-49\"/>\n     <use x=\"159.033203\" xlink:href=\"#DejaVuSans-56\"/>\n    </g>\n   </g>\n   <g id=\"text_47\">\n    <!-- 0.16 -->\n    <g style=\"fill:#ffffff;\" transform=\"translate(192.015625 423.569062)scale(0.15 -0.15)\">\n     <use xlink:href=\"#DejaVuSans-48\"/>\n     <use x=\"63.623047\" xlink:href=\"#DejaVuSans-46\"/>\n     <use x=\"95.410156\" xlink:href=\"#DejaVuSans-49\"/>\n     <use x=\"159.033203\" xlink:href=\"#DejaVuSans-54\"/>\n    </g>\n   </g>\n   <g id=\"text_48\">\n    <!-- 0.15 -->\n    <g style=\"fill:#ffffff;\" transform=\"translate(266.415625 423.569062)scale(0.15 -0.15)\">\n     <use xlink:href=\"#DejaVuSans-48\"/>\n     <use x=\"63.623047\" xlink:href=\"#DejaVuSans-46\"/>\n     <use x=\"95.410156\" xlink:href=\"#DejaVuSans-49\"/>\n     <use x=\"159.033203\" xlink:href=\"#DejaVuSans-53\"/>\n    </g>\n   </g>\n   <g id=\"text_49\">\n    <!-- 0.23 -->\n    <g style=\"fill:#262626;\" transform=\"translate(340.815625 423.569062)scale(0.15 -0.15)\">\n     <use xlink:href=\"#DejaVuSans-48\"/>\n     <use x=\"63.623047\" xlink:href=\"#DejaVuSans-46\"/>\n     <use x=\"95.410156\" xlink:href=\"#DejaVuSans-50\"/>\n     <use x=\"159.033203\" xlink:href=\"#DejaVuSans-51\"/>\n    </g>\n   </g>\n   <g id=\"text_50\">\n    <!-- 0.13 -->\n    <g style=\"fill:#ffffff;\" transform=\"translate(415.215625 423.569062)scale(0.15 -0.15)\">\n     <use xlink:href=\"#DejaVuSans-48\"/>\n     <use x=\"63.623047\" xlink:href=\"#DejaVuSans-46\"/>\n     <use x=\"95.410156\" xlink:href=\"#DejaVuSans-49\"/>\n     <use x=\"159.033203\" xlink:href=\"#DejaVuSans-51\"/>\n    </g>\n   </g>\n   <g id=\"text_51\">\n    <!-- 0.055 -->\n    <g style=\"fill:#ffffff;\" transform=\"translate(484.84375 423.569062)scale(0.15 -0.15)\">\n     <use xlink:href=\"#DejaVuSans-48\"/>\n     <use x=\"63.623047\" xlink:href=\"#DejaVuSans-46\"/>\n     <use x=\"95.410156\" xlink:href=\"#DejaVuSans-48\"/>\n     <use x=\"159.033203\" xlink:href=\"#DejaVuSans-53\"/>\n     <use x=\"222.65625\" xlink:href=\"#DejaVuSans-53\"/>\n    </g>\n   </g>\n   <g id=\"text_52\">\n    <!-- 0 -->\n    <g style=\"fill:#ffffff;\" transform=\"translate(575.942969 423.569062)scale(0.15 -0.15)\">\n     <use xlink:href=\"#DejaVuSans-48\"/>\n    </g>\n   </g>\n   <g id=\"text_53\">\n    <!-- 0.082 -->\n    <g style=\"fill:#ffffff;\" transform=\"translate(112.84375 486.989062)scale(0.15 -0.15)\">\n     <use xlink:href=\"#DejaVuSans-48\"/>\n     <use x=\"63.623047\" xlink:href=\"#DejaVuSans-46\"/>\n     <use x=\"95.410156\" xlink:href=\"#DejaVuSans-48\"/>\n     <use x=\"159.033203\" xlink:href=\"#DejaVuSans-56\"/>\n     <use x=\"222.65625\" xlink:href=\"#DejaVuSans-50\"/>\n    </g>\n   </g>\n   <g id=\"text_54\">\n    <!-- 0.049 -->\n    <g style=\"fill:#ffffff;\" transform=\"translate(187.24375 486.989062)scale(0.15 -0.15)\">\n     <use xlink:href=\"#DejaVuSans-48\"/>\n     <use x=\"63.623047\" xlink:href=\"#DejaVuSans-46\"/>\n     <use x=\"95.410156\" xlink:href=\"#DejaVuSans-48\"/>\n     <use x=\"159.033203\" xlink:href=\"#DejaVuSans-52\"/>\n     <use x=\"222.65625\" xlink:href=\"#DejaVuSans-57\"/>\n    </g>\n   </g>\n   <g id=\"text_55\">\n    <!-- 0.067 -->\n    <g style=\"fill:#ffffff;\" transform=\"translate(261.64375 486.989062)scale(0.15 -0.15)\">\n     <defs>\n      <path d=\"M 8.203125 72.90625 \nL 55.078125 72.90625 \nL 55.078125 68.703125 \nL 28.609375 0 \nL 18.3125 0 \nL 43.21875 64.59375 \nL 8.203125 64.59375 \nz\n\" id=\"DejaVuSans-55\"/>\n     </defs>\n     <use xlink:href=\"#DejaVuSans-48\"/>\n     <use x=\"63.623047\" xlink:href=\"#DejaVuSans-46\"/>\n     <use x=\"95.410156\" xlink:href=\"#DejaVuSans-48\"/>\n     <use x=\"159.033203\" xlink:href=\"#DejaVuSans-54\"/>\n     <use x=\"222.65625\" xlink:href=\"#DejaVuSans-55\"/>\n    </g>\n   </g>\n   <g id=\"text_56\">\n    <!-- 0.1 -->\n    <g style=\"fill:#ffffff;\" transform=\"translate(345.5875 486.989062)scale(0.15 -0.15)\">\n     <use xlink:href=\"#DejaVuSans-48\"/>\n     <use x=\"63.623047\" xlink:href=\"#DejaVuSans-46\"/>\n     <use x=\"95.410156\" xlink:href=\"#DejaVuSans-49\"/>\n    </g>\n   </g>\n   <g id=\"text_57\">\n    <!-- 0.14 -->\n    <g style=\"fill:#ffffff;\" transform=\"translate(415.215625 486.989062)scale(0.15 -0.15)\">\n     <use xlink:href=\"#DejaVuSans-48\"/>\n     <use x=\"63.623047\" xlink:href=\"#DejaVuSans-46\"/>\n     <use x=\"95.410156\" xlink:href=\"#DejaVuSans-49\"/>\n     <use x=\"159.033203\" xlink:href=\"#DejaVuSans-52\"/>\n    </g>\n   </g>\n   <g id=\"text_58\">\n    <!-- 0.21 -->\n    <g style=\"fill:#ffffff;\" transform=\"translate(489.615625 486.989062)scale(0.15 -0.15)\">\n     <use xlink:href=\"#DejaVuSans-48\"/>\n     <use x=\"63.623047\" xlink:href=\"#DejaVuSans-46\"/>\n     <use x=\"95.410156\" xlink:href=\"#DejaVuSans-50\"/>\n     <use x=\"159.033203\" xlink:href=\"#DejaVuSans-49\"/>\n    </g>\n   </g>\n   <g id=\"text_59\">\n    <!-- 0.17 -->\n    <g style=\"fill:#ffffff;\" transform=\"translate(564.015625 486.989062)scale(0.15 -0.15)\">\n     <use xlink:href=\"#DejaVuSans-48\"/>\n     <use x=\"63.623047\" xlink:href=\"#DejaVuSans-46\"/>\n     <use x=\"95.410156\" xlink:href=\"#DejaVuSans-49\"/>\n     <use x=\"159.033203\" xlink:href=\"#DejaVuSans-55\"/>\n    </g>\n   </g>\n   <g id=\"text_60\">\n    <!-- 0 -->\n    <g style=\"fill:#ffffff;\" transform=\"translate(650.342969 486.989062)scale(0.15 -0.15)\">\n     <use xlink:href=\"#DejaVuSans-48\"/>\n    </g>\n   </g>\n   <g id=\"text_61\">\n    <!-- 0.086 -->\n    <g style=\"fill:#ffffff;\" transform=\"translate(112.84375 550.409062)scale(0.15 -0.15)\">\n     <use xlink:href=\"#DejaVuSans-48\"/>\n     <use x=\"63.623047\" xlink:href=\"#DejaVuSans-46\"/>\n     <use x=\"95.410156\" xlink:href=\"#DejaVuSans-48\"/>\n     <use x=\"159.033203\" xlink:href=\"#DejaVuSans-56\"/>\n     <use x=\"222.65625\" xlink:href=\"#DejaVuSans-54\"/>\n    </g>\n   </g>\n   <g id=\"text_62\">\n    <!-- 0.14 -->\n    <g style=\"fill:#ffffff;\" transform=\"translate(192.015625 550.409062)scale(0.15 -0.15)\">\n     <use xlink:href=\"#DejaVuSans-48\"/>\n     <use x=\"63.623047\" xlink:href=\"#DejaVuSans-46\"/>\n     <use x=\"95.410156\" xlink:href=\"#DejaVuSans-49\"/>\n     <use x=\"159.033203\" xlink:href=\"#DejaVuSans-52\"/>\n    </g>\n   </g>\n   <g id=\"text_63\">\n    <!-- 0.1 -->\n    <g style=\"fill:#ffffff;\" transform=\"translate(271.1875 550.409062)scale(0.15 -0.15)\">\n     <use xlink:href=\"#DejaVuSans-48\"/>\n     <use x=\"63.623047\" xlink:href=\"#DejaVuSans-46\"/>\n     <use x=\"95.410156\" xlink:href=\"#DejaVuSans-49\"/>\n    </g>\n   </g>\n   <g id=\"text_64\">\n    <!-- 0.033 -->\n    <g style=\"fill:#ffffff;\" transform=\"translate(336.04375 550.409062)scale(0.15 -0.15)\">\n     <use xlink:href=\"#DejaVuSans-48\"/>\n     <use x=\"63.623047\" xlink:href=\"#DejaVuSans-46\"/>\n     <use x=\"95.410156\" xlink:href=\"#DejaVuSans-48\"/>\n     <use x=\"159.033203\" xlink:href=\"#DejaVuSans-51\"/>\n     <use x=\"222.65625\" xlink:href=\"#DejaVuSans-51\"/>\n    </g>\n   </g>\n   <g id=\"text_65\">\n    <!-- 0.16 -->\n    <g style=\"fill:#ffffff;\" transform=\"translate(415.215625 550.409062)scale(0.15 -0.15)\">\n     <use xlink:href=\"#DejaVuSans-48\"/>\n     <use x=\"63.623047\" xlink:href=\"#DejaVuSans-46\"/>\n     <use x=\"95.410156\" xlink:href=\"#DejaVuSans-49\"/>\n     <use x=\"159.033203\" xlink:href=\"#DejaVuSans-54\"/>\n    </g>\n   </g>\n   <g id=\"text_66\">\n    <!-- 0.25 -->\n    <g style=\"fill:#262626;\" transform=\"translate(489.615625 550.409062)scale(0.15 -0.15)\">\n     <use xlink:href=\"#DejaVuSans-48\"/>\n     <use x=\"63.623047\" xlink:href=\"#DejaVuSans-46\"/>\n     <use x=\"95.410156\" xlink:href=\"#DejaVuSans-50\"/>\n     <use x=\"159.033203\" xlink:href=\"#DejaVuSans-53\"/>\n    </g>\n   </g>\n   <g id=\"text_67\">\n    <!-- 0.25 -->\n    <g style=\"fill:#262626;\" transform=\"translate(564.015625 550.409062)scale(0.15 -0.15)\">\n     <use xlink:href=\"#DejaVuSans-48\"/>\n     <use x=\"63.623047\" xlink:href=\"#DejaVuSans-46\"/>\n     <use x=\"95.410156\" xlink:href=\"#DejaVuSans-50\"/>\n     <use x=\"159.033203\" xlink:href=\"#DejaVuSans-53\"/>\n    </g>\n   </g>\n   <g id=\"text_68\">\n    <!-- 0.12 -->\n    <g style=\"fill:#ffffff;\" transform=\"translate(638.415625 550.409062)scale(0.15 -0.15)\">\n     <use xlink:href=\"#DejaVuSans-48\"/>\n     <use x=\"63.623047\" xlink:href=\"#DejaVuSans-46\"/>\n     <use x=\"95.410156\" xlink:href=\"#DejaVuSans-49\"/>\n     <use x=\"159.033203\" xlink:href=\"#DejaVuSans-50\"/>\n    </g>\n   </g>\n   <g id=\"text_69\">\n    <!-- 0 -->\n    <g style=\"fill:#ffffff;\" transform=\"translate(724.742969 550.409062)scale(0.15 -0.15)\">\n     <use xlink:href=\"#DejaVuSans-48\"/>\n    </g>\n   </g>\n   <g id=\"text_70\">\n    <!-- 0.061 -->\n    <g style=\"fill:#ffffff;\" transform=\"translate(112.84375 613.829062)scale(0.15 -0.15)\">\n     <use xlink:href=\"#DejaVuSans-48\"/>\n     <use x=\"63.623047\" xlink:href=\"#DejaVuSans-46\"/>\n     <use x=\"95.410156\" xlink:href=\"#DejaVuSans-48\"/>\n     <use x=\"159.033203\" xlink:href=\"#DejaVuSans-54\"/>\n     <use x=\"222.65625\" xlink:href=\"#DejaVuSans-49\"/>\n    </g>\n   </g>\n   <g id=\"text_71\">\n    <!-- 0.11 -->\n    <g style=\"fill:#ffffff;\" transform=\"translate(192.015625 613.829062)scale(0.15 -0.15)\">\n     <use xlink:href=\"#DejaVuSans-48\"/>\n     <use x=\"63.623047\" xlink:href=\"#DejaVuSans-46\"/>\n     <use x=\"95.410156\" xlink:href=\"#DejaVuSans-49\"/>\n     <use x=\"159.033203\" xlink:href=\"#DejaVuSans-49\"/>\n    </g>\n   </g>\n   <g id=\"text_72\">\n    <!-- 0.058 -->\n    <g style=\"fill:#ffffff;\" transform=\"translate(261.64375 613.829062)scale(0.15 -0.15)\">\n     <use xlink:href=\"#DejaVuSans-48\"/>\n     <use x=\"63.623047\" xlink:href=\"#DejaVuSans-46\"/>\n     <use x=\"95.410156\" xlink:href=\"#DejaVuSans-48\"/>\n     <use x=\"159.033203\" xlink:href=\"#DejaVuSans-53\"/>\n     <use x=\"222.65625\" xlink:href=\"#DejaVuSans-56\"/>\n    </g>\n   </g>\n   <g id=\"text_73\">\n    <!-- 0.058 -->\n    <g style=\"fill:#ffffff;\" transform=\"translate(336.04375 613.829062)scale(0.15 -0.15)\">\n     <use xlink:href=\"#DejaVuSans-48\"/>\n     <use x=\"63.623047\" xlink:href=\"#DejaVuSans-46\"/>\n     <use x=\"95.410156\" xlink:href=\"#DejaVuSans-48\"/>\n     <use x=\"159.033203\" xlink:href=\"#DejaVuSans-53\"/>\n     <use x=\"222.65625\" xlink:href=\"#DejaVuSans-56\"/>\n    </g>\n   </g>\n   <g id=\"text_74\">\n    <!-- 0.15 -->\n    <g style=\"fill:#ffffff;\" transform=\"translate(415.215625 613.829062)scale(0.15 -0.15)\">\n     <use xlink:href=\"#DejaVuSans-48\"/>\n     <use x=\"63.623047\" xlink:href=\"#DejaVuSans-46\"/>\n     <use x=\"95.410156\" xlink:href=\"#DejaVuSans-49\"/>\n     <use x=\"159.033203\" xlink:href=\"#DejaVuSans-53\"/>\n    </g>\n   </g>\n   <g id=\"text_75\">\n    <!-- 0.22 -->\n    <g style=\"fill:#262626;\" transform=\"translate(489.615625 613.829062)scale(0.15 -0.15)\">\n     <use xlink:href=\"#DejaVuSans-48\"/>\n     <use x=\"63.623047\" xlink:href=\"#DejaVuSans-46\"/>\n     <use x=\"95.410156\" xlink:href=\"#DejaVuSans-50\"/>\n     <use x=\"159.033203\" xlink:href=\"#DejaVuSans-50\"/>\n    </g>\n   </g>\n   <g id=\"text_76\">\n    <!-- 0.2 -->\n    <g style=\"fill:#ffffff;\" transform=\"translate(568.7875 613.829062)scale(0.15 -0.15)\">\n     <use xlink:href=\"#DejaVuSans-48\"/>\n     <use x=\"63.623047\" xlink:href=\"#DejaVuSans-46\"/>\n     <use x=\"95.410156\" xlink:href=\"#DejaVuSans-50\"/>\n    </g>\n   </g>\n   <g id=\"text_77\">\n    <!-- 0.074 -->\n    <g style=\"fill:#ffffff;\" transform=\"translate(633.64375 613.829062)scale(0.15 -0.15)\">\n     <use xlink:href=\"#DejaVuSans-48\"/>\n     <use x=\"63.623047\" xlink:href=\"#DejaVuSans-46\"/>\n     <use x=\"95.410156\" xlink:href=\"#DejaVuSans-48\"/>\n     <use x=\"159.033203\" xlink:href=\"#DejaVuSans-55\"/>\n     <use x=\"222.65625\" xlink:href=\"#DejaVuSans-52\"/>\n    </g>\n   </g>\n   <g id=\"text_78\">\n    <!-- 0.073 -->\n    <g style=\"fill:#ffffff;\" transform=\"translate(708.04375 613.829062)scale(0.15 -0.15)\">\n     <use xlink:href=\"#DejaVuSans-48\"/>\n     <use x=\"63.623047\" xlink:href=\"#DejaVuSans-46\"/>\n     <use x=\"95.410156\" xlink:href=\"#DejaVuSans-48\"/>\n     <use x=\"159.033203\" xlink:href=\"#DejaVuSans-55\"/>\n     <use x=\"222.65625\" xlink:href=\"#DejaVuSans-51\"/>\n    </g>\n   </g>\n   <g id=\"text_79\">\n    <!-- 0 -->\n    <g style=\"fill:#ffffff;\" transform=\"translate(799.142969 613.829062)scale(0.15 -0.15)\">\n     <use xlink:href=\"#DejaVuSans-48\"/>\n    </g>\n   </g>\n   <g id=\"text_80\">\n    <!-- 0.15 -->\n    <g style=\"fill:#ffffff;\" transform=\"translate(117.615625 677.249062)scale(0.15 -0.15)\">\n     <use xlink:href=\"#DejaVuSans-48\"/>\n     <use x=\"63.623047\" xlink:href=\"#DejaVuSans-46\"/>\n     <use x=\"95.410156\" xlink:href=\"#DejaVuSans-49\"/>\n     <use x=\"159.033203\" xlink:href=\"#DejaVuSans-53\"/>\n    </g>\n   </g>\n   <g id=\"text_81\">\n    <!-- 0.11 -->\n    <g style=\"fill:#ffffff;\" transform=\"translate(192.015625 677.249062)scale(0.15 -0.15)\">\n     <use xlink:href=\"#DejaVuSans-48\"/>\n     <use x=\"63.623047\" xlink:href=\"#DejaVuSans-46\"/>\n     <use x=\"95.410156\" xlink:href=\"#DejaVuSans-49\"/>\n     <use x=\"159.033203\" xlink:href=\"#DejaVuSans-49\"/>\n    </g>\n   </g>\n   <g id=\"text_82\">\n    <!-- 0.1 -->\n    <g style=\"fill:#ffffff;\" transform=\"translate(271.1875 677.249062)scale(0.15 -0.15)\">\n     <use xlink:href=\"#DejaVuSans-48\"/>\n     <use x=\"63.623047\" xlink:href=\"#DejaVuSans-46\"/>\n     <use x=\"95.410156\" xlink:href=\"#DejaVuSans-49\"/>\n    </g>\n   </g>\n   <g id=\"text_83\">\n    <!-- 0.17 -->\n    <g style=\"fill:#ffffff;\" transform=\"translate(340.815625 677.249062)scale(0.15 -0.15)\">\n     <use xlink:href=\"#DejaVuSans-48\"/>\n     <use x=\"63.623047\" xlink:href=\"#DejaVuSans-46\"/>\n     <use x=\"95.410156\" xlink:href=\"#DejaVuSans-49\"/>\n     <use x=\"159.033203\" xlink:href=\"#DejaVuSans-55\"/>\n    </g>\n   </g>\n   <g id=\"text_84\">\n    <!-- 0.079 -->\n    <g style=\"fill:#ffffff;\" transform=\"translate(410.44375 677.249062)scale(0.15 -0.15)\">\n     <use xlink:href=\"#DejaVuSans-48\"/>\n     <use x=\"63.623047\" xlink:href=\"#DejaVuSans-46\"/>\n     <use x=\"95.410156\" xlink:href=\"#DejaVuSans-48\"/>\n     <use x=\"159.033203\" xlink:href=\"#DejaVuSans-55\"/>\n     <use x=\"222.65625\" xlink:href=\"#DejaVuSans-57\"/>\n    </g>\n   </g>\n   <g id=\"text_85\">\n    <!-- 0.098 -->\n    <g style=\"fill:#ffffff;\" transform=\"translate(484.84375 677.249062)scale(0.15 -0.15)\">\n     <use xlink:href=\"#DejaVuSans-48\"/>\n     <use x=\"63.623047\" xlink:href=\"#DejaVuSans-46\"/>\n     <use x=\"95.410156\" xlink:href=\"#DejaVuSans-48\"/>\n     <use x=\"159.033203\" xlink:href=\"#DejaVuSans-57\"/>\n     <use x=\"222.65625\" xlink:href=\"#DejaVuSans-56\"/>\n    </g>\n   </g>\n   <g id=\"text_86\">\n    <!-- 0.09 -->\n    <g style=\"fill:#ffffff;\" transform=\"translate(564.015625 677.249062)scale(0.15 -0.15)\">\n     <use xlink:href=\"#DejaVuSans-48\"/>\n     <use x=\"63.623047\" xlink:href=\"#DejaVuSans-46\"/>\n     <use x=\"95.410156\" xlink:href=\"#DejaVuSans-48\"/>\n     <use x=\"159.033203\" xlink:href=\"#DejaVuSans-57\"/>\n    </g>\n   </g>\n   <g id=\"text_87\">\n    <!-- 0.12 -->\n    <g style=\"fill:#ffffff;\" transform=\"translate(638.415625 677.249062)scale(0.15 -0.15)\">\n     <use xlink:href=\"#DejaVuSans-48\"/>\n     <use x=\"63.623047\" xlink:href=\"#DejaVuSans-46\"/>\n     <use x=\"95.410156\" xlink:href=\"#DejaVuSans-49\"/>\n     <use x=\"159.033203\" xlink:href=\"#DejaVuSans-50\"/>\n    </g>\n   </g>\n   <g id=\"text_88\">\n    <!-- 0.17 -->\n    <g style=\"fill:#ffffff;\" transform=\"translate(712.815625 677.249062)scale(0.15 -0.15)\">\n     <use xlink:href=\"#DejaVuSans-48\"/>\n     <use x=\"63.623047\" xlink:href=\"#DejaVuSans-46\"/>\n     <use x=\"95.410156\" xlink:href=\"#DejaVuSans-49\"/>\n     <use x=\"159.033203\" xlink:href=\"#DejaVuSans-55\"/>\n    </g>\n   </g>\n   <g id=\"text_89\">\n    <!-- 0.14 -->\n    <g style=\"fill:#ffffff;\" transform=\"translate(787.215625 677.249062)scale(0.15 -0.15)\">\n     <use xlink:href=\"#DejaVuSans-48\"/>\n     <use x=\"63.623047\" xlink:href=\"#DejaVuSans-46\"/>\n     <use x=\"95.410156\" xlink:href=\"#DejaVuSans-49\"/>\n     <use x=\"159.033203\" xlink:href=\"#DejaVuSans-52\"/>\n    </g>\n   </g>\n   <g id=\"text_90\">\n    <!-- 0 -->\n    <g style=\"fill:#ffffff;\" transform=\"translate(873.542969 677.249062)scale(0.15 -0.15)\">\n     <use xlink:href=\"#DejaVuSans-48\"/>\n    </g>\n   </g>\n   <g id=\"text_91\">\n    <!-- 0.21 -->\n    <g style=\"fill:#ffffff;\" transform=\"translate(117.615625 740.669062)scale(0.15 -0.15)\">\n     <use xlink:href=\"#DejaVuSans-48\"/>\n     <use x=\"63.623047\" xlink:href=\"#DejaVuSans-46\"/>\n     <use x=\"95.410156\" xlink:href=\"#DejaVuSans-50\"/>\n     <use x=\"159.033203\" xlink:href=\"#DejaVuSans-49\"/>\n    </g>\n   </g>\n   <g id=\"text_92\">\n    <!-- 0.19 -->\n    <g style=\"fill:#ffffff;\" transform=\"translate(192.015625 740.669062)scale(0.15 -0.15)\">\n     <use xlink:href=\"#DejaVuSans-48\"/>\n     <use x=\"63.623047\" xlink:href=\"#DejaVuSans-46\"/>\n     <use x=\"95.410156\" xlink:href=\"#DejaVuSans-49\"/>\n     <use x=\"159.033203\" xlink:href=\"#DejaVuSans-57\"/>\n    </g>\n   </g>\n   <g id=\"text_93\">\n    <!-- 0.19 -->\n    <g style=\"fill:#ffffff;\" transform=\"translate(266.415625 740.669062)scale(0.15 -0.15)\">\n     <use xlink:href=\"#DejaVuSans-48\"/>\n     <use x=\"63.623047\" xlink:href=\"#DejaVuSans-46\"/>\n     <use x=\"95.410156\" xlink:href=\"#DejaVuSans-49\"/>\n     <use x=\"159.033203\" xlink:href=\"#DejaVuSans-57\"/>\n    </g>\n   </g>\n   <g id=\"text_94\">\n    <!-- 0.27 -->\n    <g style=\"fill:#262626;\" transform=\"translate(340.815625 740.669062)scale(0.15 -0.15)\">\n     <use xlink:href=\"#DejaVuSans-48\"/>\n     <use x=\"63.623047\" xlink:href=\"#DejaVuSans-46\"/>\n     <use x=\"95.410156\" xlink:href=\"#DejaVuSans-50\"/>\n     <use x=\"159.033203\" xlink:href=\"#DejaVuSans-55\"/>\n    </g>\n   </g>\n   <g id=\"text_95\">\n    <!-- 0.17 -->\n    <g style=\"fill:#ffffff;\" transform=\"translate(415.215625 740.669062)scale(0.15 -0.15)\">\n     <use xlink:href=\"#DejaVuSans-48\"/>\n     <use x=\"63.623047\" xlink:href=\"#DejaVuSans-46\"/>\n     <use x=\"95.410156\" xlink:href=\"#DejaVuSans-49\"/>\n     <use x=\"159.033203\" xlink:href=\"#DejaVuSans-55\"/>\n    </g>\n   </g>\n   <g id=\"text_96\">\n    <!-- 0.079 -->\n    <g style=\"fill:#ffffff;\" transform=\"translate(484.84375 740.669062)scale(0.15 -0.15)\">\n     <use xlink:href=\"#DejaVuSans-48\"/>\n     <use x=\"63.623047\" xlink:href=\"#DejaVuSans-46\"/>\n     <use x=\"95.410156\" xlink:href=\"#DejaVuSans-48\"/>\n     <use x=\"159.033203\" xlink:href=\"#DejaVuSans-55\"/>\n     <use x=\"222.65625\" xlink:href=\"#DejaVuSans-57\"/>\n    </g>\n   </g>\n   <g id=\"text_97\">\n    <!-- 0.049 -->\n    <g style=\"fill:#ffffff;\" transform=\"translate(559.24375 740.669062)scale(0.15 -0.15)\">\n     <use xlink:href=\"#DejaVuSans-48\"/>\n     <use x=\"63.623047\" xlink:href=\"#DejaVuSans-46\"/>\n     <use x=\"95.410156\" xlink:href=\"#DejaVuSans-48\"/>\n     <use x=\"159.033203\" xlink:href=\"#DejaVuSans-52\"/>\n     <use x=\"222.65625\" xlink:href=\"#DejaVuSans-57\"/>\n    </g>\n   </g>\n   <g id=\"text_98\">\n    <!-- 0.21 -->\n    <g style=\"fill:#ffffff;\" transform=\"translate(638.415625 740.669062)scale(0.15 -0.15)\">\n     <use xlink:href=\"#DejaVuSans-48\"/>\n     <use x=\"63.623047\" xlink:href=\"#DejaVuSans-46\"/>\n     <use x=\"95.410156\" xlink:href=\"#DejaVuSans-50\"/>\n     <use x=\"159.033203\" xlink:href=\"#DejaVuSans-49\"/>\n    </g>\n   </g>\n   <g id=\"text_99\">\n    <!-- 0.28 -->\n    <g style=\"fill:#262626;\" transform=\"translate(712.815625 740.669062)scale(0.15 -0.15)\">\n     <use xlink:href=\"#DejaVuSans-48\"/>\n     <use x=\"63.623047\" xlink:href=\"#DejaVuSans-46\"/>\n     <use x=\"95.410156\" xlink:href=\"#DejaVuSans-50\"/>\n     <use x=\"159.033203\" xlink:href=\"#DejaVuSans-56\"/>\n    </g>\n   </g>\n   <g id=\"text_100\">\n    <!-- 0.24 -->\n    <g style=\"fill:#262626;\" transform=\"translate(787.215625 740.669062)scale(0.15 -0.15)\">\n     <use xlink:href=\"#DejaVuSans-48\"/>\n     <use x=\"63.623047\" xlink:href=\"#DejaVuSans-46\"/>\n     <use x=\"95.410156\" xlink:href=\"#DejaVuSans-50\"/>\n     <use x=\"159.033203\" xlink:href=\"#DejaVuSans-52\"/>\n    </g>\n   </g>\n   <g id=\"text_101\">\n    <!-- 0.12 -->\n    <g style=\"fill:#ffffff;\" transform=\"translate(861.615625 740.669062)scale(0.15 -0.15)\">\n     <use xlink:href=\"#DejaVuSans-48\"/>\n     <use x=\"63.623047\" xlink:href=\"#DejaVuSans-46\"/>\n     <use x=\"95.410156\" xlink:href=\"#DejaVuSans-49\"/>\n     <use x=\"159.033203\" xlink:href=\"#DejaVuSans-50\"/>\n    </g>\n   </g>\n   <g id=\"text_102\">\n    <!-- 0 -->\n    <g style=\"fill:#ffffff;\" transform=\"translate(947.942969 740.669062)scale(0.15 -0.15)\">\n     <use xlink:href=\"#DejaVuSans-48\"/>\n    </g>\n   </g>\n  </g>\n  <g id=\"axes_2\">\n   <g id=\"patch_3\">\n    <path clip-path=\"url(#p444ae722ee)\" d=\"M 1045.714844 768.24 \nL 1045.714844 765.267187 \nL 1045.714844 10.172812 \nL 1045.714844 7.2 \nL 1083.766844 7.2 \nL 1083.766844 10.172812 \nL 1083.766844 765.267187 \nL 1083.766844 768.24 \nz\n\" style=\"fill:#ffffff;stroke:#ffffff;stroke-linejoin:miter;stroke-width:0.01;\"/>\n   </g>\n   <image height=\"761\" id=\"imageb632906103\" transform=\"scale(1 -1)translate(0 -761)\" width=\"38\" x=\"1046\" xlink:href=\"data:image/png;base64,\niVBORw0KGgoAAAANSUhEUgAAACYAAAL5CAYAAADcylZ9AAAFB0lEQVR4nO3dwZErOQzAUFHmJDH552knYB9wahyACF65h5Ta6/o7r7//9xF2nwb8SgvbeVrwI+0npoXtjPNhaj8xLaxHSdPCdk6PEtUfP00L29ujZGlh7TGaFtZU0rSwzkqaFra3BcvSwppKmhbWWUnTwppKmhbWWUnTwppKmhbWVwQ0LaxrD00La8HStLCuPTQtrKmkaWFNJU0L2xmnzak6YlgvIzQtrJcRmhbWVNK0sKaSpoU1lTQtrKmkaWFNJU0LayppWlhTSdPC+uKOpoX1dTpNC2sqaVpYU0nTwrr20LSwFixNC2vB0rSwppKmhfUoaVpY/zwOra86aVpYd36aFtaRRNPCuvPTtLCmkqaFdVbStLC1yqwuL6yzkqaFdVbStLDOSpoW1llJ08JasDQtrGsPTQtrwdK0sK49NC2ss5KmhbVgaVpYC5amhbVgaVpYP6GhaWH9toemhXXtoWlhXXtoWlhTSdPCmkqaFtZU0rSw3itpWljvlTQtrKmkaWGdlTQtrBssTQtrKmlaWNcemhbWtYemhbVgaVpYC5bWHqNpYe0xmhbWHqNpYS1Ymha29/004XvaT0wL66ykaWGdlTQtrKmkaWFde2haWAuWpoW1YGlaWC8jNC2sBUvTwlqwNC2sR0nTwjoraVpYZyVNC2vB0rSwHiVNC9vprGRpYU0lTQvrUdK0sF5GaFpYLyM0LawFS9PCWrA0LawFS9PC9h7nWGo/MS2sBUvTwrr20LSwzkqaFrb37dyw2k9MC2vB0rSwFixNC+tlhKaF9TJC08J2mkpWtwuaFtajpGlh7TGaFtZU0rSwppKmhfX6RtPC9kq/VdF+YlpYC5amhXXtoWlhO9If9Gs/MS1sb4+SpYX135JoWlhTSdPCOitpWlhTSdPCVvo/LvZ+YlpYC5amhbVgaVpYC5amhbVgaVpYC5amhe1If6So/cS0sM5KmhbWVNK0sK49NC2saw9NC9uR0qQsMawFS9PCuvbQtLBeRmhaWFNJ08J6lDQtrAVL08KaSpoW1nslTQvrvZKmhTWVtI4kmhbWHz9NC9vTkcTSwppKmhbWo6RpYT1Kmha2VpqUJYY1lTQtrKmkaWFNJU0LayppWtiO9F+t0n5iWlhTSdPCmkqaFtZU0rSwPU0lSwtrwdK0sBYsTQtrwdK0sBYsTQtrKmlaWI+SpoXtSH/Qr/3EtLCmkqaF9ShpWtie67Q5VUcMayppWljvlTQtrKmkaWF7pD/ucaqOGNZU0rSwHiVNC9vpZYSlhTWVNC2saw9NC2sqaVpYX9zR+uOnaWEdSTQtrKmkaWG9vtG0sKaSpoV1VtK0sKaSpoX1+kbTwvb0G0WWFtZU0rSwHiVNC+vaQ9PCehmhaWEtWJoW1s9NaVpYC5amhbVgaVpYj5KmhfVtD00LayppWljXHpoW1lTStLAeJU0L69pD08KaSpoW1qOkaWHdYGlaWFNJ08KaSpoW1lTStLCmkqaFNZU0LaxHSdPCWrA0LayppGlhTSWtP36aFtYfP00LayppWtjOvJ42fE37iWlhTSVNC+tR0rSwrj00LayppGlhTSVNC9tzu8GitLCmkqaFdVbStLCmkqaF9W0PTQtrwdK0sBYsTQtrKmlaWFNJ08L6ioCmhTWVNC2ss5Kmhe00lSwtrKmkaWGdlTQtrBssTQtrKmlaWGclTQvrBkvTwppKmhbWWUnTwrrB0rSwDxmrMbFkcIuXAAAAAElFTkSuQmCC\" y=\"-7\"/>\n   <g id=\"matplotlib.axis_3\"/>\n   <g id=\"matplotlib.axis_4\">\n    <g id=\"ytick_13\">\n     <g id=\"line2d_25\">\n      <defs>\n       <path d=\"M 0 0 \nL 3.5 0 \n\" id=\"m7ef8419d73\" style=\"stroke:#000000;stroke-width:0.8;\"/>\n      </defs>\n      <g>\n       <use style=\"stroke:#000000;stroke-width:0.8;\" x=\"1083.766844\" xlink:href=\"#m7ef8419d73\" y=\"768.24\"/>\n      </g>\n     </g>\n     <g id=\"text_103\">\n      <!-- 0.00 -->\n      <g transform=\"translate(1090.766844 773.938828)scale(0.15 -0.15)\">\n       <use xlink:href=\"#DejaVuSans-48\"/>\n       <use x=\"63.623047\" xlink:href=\"#DejaVuSans-46\"/>\n       <use x=\"95.410156\" xlink:href=\"#DejaVuSans-48\"/>\n       <use x=\"159.033203\" xlink:href=\"#DejaVuSans-48\"/>\n      </g>\n     </g>\n    </g>\n    <g id=\"ytick_14\">\n     <g id=\"line2d_26\">\n      <g>\n       <use style=\"stroke:#000000;stroke-width:0.8;\" x=\"1083.766844\" xlink:href=\"#m7ef8419d73\" y=\"632.219511\"/>\n      </g>\n     </g>\n     <g id=\"text_104\">\n      <!-- 0.05 -->\n      <g transform=\"translate(1090.766844 637.918339)scale(0.15 -0.15)\">\n       <use xlink:href=\"#DejaVuSans-48\"/>\n       <use x=\"63.623047\" xlink:href=\"#DejaVuSans-46\"/>\n       <use x=\"95.410156\" xlink:href=\"#DejaVuSans-48\"/>\n       <use x=\"159.033203\" xlink:href=\"#DejaVuSans-53\"/>\n      </g>\n     </g>\n    </g>\n    <g id=\"ytick_15\">\n     <g id=\"line2d_27\">\n      <g>\n       <use style=\"stroke:#000000;stroke-width:0.8;\" x=\"1083.766844\" xlink:href=\"#m7ef8419d73\" y=\"496.199022\"/>\n      </g>\n     </g>\n     <g id=\"text_105\">\n      <!-- 0.10 -->\n      <g transform=\"translate(1090.766844 501.89785)scale(0.15 -0.15)\">\n       <use xlink:href=\"#DejaVuSans-48\"/>\n       <use x=\"63.623047\" xlink:href=\"#DejaVuSans-46\"/>\n       <use x=\"95.410156\" xlink:href=\"#DejaVuSans-49\"/>\n       <use x=\"159.033203\" xlink:href=\"#DejaVuSans-48\"/>\n      </g>\n     </g>\n    </g>\n    <g id=\"ytick_16\">\n     <g id=\"line2d_28\">\n      <g>\n       <use style=\"stroke:#000000;stroke-width:0.8;\" x=\"1083.766844\" xlink:href=\"#m7ef8419d73\" y=\"360.178533\"/>\n      </g>\n     </g>\n     <g id=\"text_106\">\n      <!-- 0.15 -->\n      <g transform=\"translate(1090.766844 365.877361)scale(0.15 -0.15)\">\n       <use xlink:href=\"#DejaVuSans-48\"/>\n       <use x=\"63.623047\" xlink:href=\"#DejaVuSans-46\"/>\n       <use x=\"95.410156\" xlink:href=\"#DejaVuSans-49\"/>\n       <use x=\"159.033203\" xlink:href=\"#DejaVuSans-53\"/>\n      </g>\n     </g>\n    </g>\n    <g id=\"ytick_17\">\n     <g id=\"line2d_29\">\n      <g>\n       <use style=\"stroke:#000000;stroke-width:0.8;\" x=\"1083.766844\" xlink:href=\"#m7ef8419d73\" y=\"224.158044\"/>\n      </g>\n     </g>\n     <g id=\"text_107\">\n      <!-- 0.20 -->\n      <g transform=\"translate(1090.766844 229.856872)scale(0.15 -0.15)\">\n       <use xlink:href=\"#DejaVuSans-48\"/>\n       <use x=\"63.623047\" xlink:href=\"#DejaVuSans-46\"/>\n       <use x=\"95.410156\" xlink:href=\"#DejaVuSans-50\"/>\n       <use x=\"159.033203\" xlink:href=\"#DejaVuSans-48\"/>\n      </g>\n     </g>\n    </g>\n    <g id=\"ytick_18\">\n     <g id=\"line2d_30\">\n      <g>\n       <use style=\"stroke:#000000;stroke-width:0.8;\" x=\"1083.766844\" xlink:href=\"#m7ef8419d73\" y=\"88.137555\"/>\n      </g>\n     </g>\n     <g id=\"text_108\">\n      <!-- 0.25 -->\n      <g transform=\"translate(1090.766844 93.836384)scale(0.15 -0.15)\">\n       <use xlink:href=\"#DejaVuSans-48\"/>\n       <use x=\"63.623047\" xlink:href=\"#DejaVuSans-46\"/>\n       <use x=\"95.410156\" xlink:href=\"#DejaVuSans-50\"/>\n       <use x=\"159.033203\" xlink:href=\"#DejaVuSans-53\"/>\n      </g>\n     </g>\n    </g>\n   </g>\n   <g id=\"patch_4\">\n    <path d=\"M 1045.714844 768.24 \nL 1045.714844 765.267187 \nL 1045.714844 10.172812 \nL 1045.714844 7.2 \nL 1083.766844 7.2 \nL 1083.766844 10.172812 \nL 1083.766844 765.267187 \nL 1083.766844 768.24 \nz\n\" style=\"fill:none;\"/>\n   </g>\n  </g>\n </g>\n <defs>\n  <clipPath id=\"p41e94e35f4\">\n   <rect height=\"761.04\" width=\"892.8\" x=\"97.114844\" y=\"7.2\"/>\n  </clipPath>\n  <clipPath id=\"p444ae722ee\">\n   <rect height=\"761.04\" width=\"38.052\" x=\"1045.714844\" y=\"7.2\"/>\n  </clipPath>\n </defs>\n</svg>\n",
      "image/png": "[encoded data removed]"
     },
     "metadata": {
      "needs_background": "light"
     }
    }
   ],
   "source": [
    "plt.rcParams.update({'font.size': 15})\n",
    "plotMatrix(stat_matrix)"
   ]
  },
  {
   "cell_type": "code",
   "execution_count": null,
   "metadata": {},
   "outputs": [],
   "source": []
  }
 ]
}